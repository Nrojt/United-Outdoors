{
 "cells": [
  {
   "metadata": {},
   "cell_type": "markdown",
   "source": [
    "# Customer\n",
    "Grouping customers in various ways to understand their behavior and preferences."
   ],
   "id": "ca140ae010d86600"
  },
  {
   "metadata": {},
   "cell_type": "markdown",
   "source": "## Importing Libraries",
   "id": "5f9e9f76b9c4858"
  },
  {
   "metadata": {},
   "cell_type": "code",
   "outputs": [],
   "execution_count": null,
   "source": [
    "import pandas as pd\n",
    "import numpy as np\n",
    "import matplotlib.pyplot as plt\n",
    "import seaborn as sns\n",
    "from common_functions import get_engine, read_data_return_df"
   ],
   "id": "bde2aaa5cb308157"
  },
  {
   "metadata": {},
   "cell_type": "markdown",
   "source": "## Connecting to the Database",
   "id": "3ece12a086e7b859"
  },
  {
   "metadata": {},
   "cell_type": "code",
   "outputs": [],
   "execution_count": null,
   "source": "engine = get_engine()",
   "id": "f547513658d367f"
  },
  {
   "metadata": {},
   "cell_type": "markdown",
   "source": "## Reading in the Data",
   "id": "387fb55d330b4e85"
  },
  {
   "metadata": {},
   "cell_type": "code",
   "outputs": [],
   "execution_count": null,
   "source": [
    "query = \"SELECT * FROM Customers\"\n",
    "customers = read_data_return_df(query, engine)\n",
    "\n",
    "customers.head()"
   ],
   "id": "16e2f571219d6d9f"
  },
  {
   "metadata": {},
   "cell_type": "code",
   "outputs": [],
   "execution_count": null,
   "source": [
    "query = \"SELECT * FROM Orders\"\n",
    "orders = read_data_return_df(query, engine)\n",
    "\n",
    "orders.head()"
   ],
   "id": "ecef3d28a3a88aaf"
  },
  {
   "metadata": {},
   "cell_type": "markdown",
   "source": "## Data Cleaning",
   "id": "a6737297be17c875"
  }
 ],
 "metadata": {
  "kernelspec": {
   "display_name": "Python 3",
   "language": "python",
   "name": "python3"
  },
  "language_info": {
   "codemirror_mode": {
    "name": "ipython",
    "version": 2
   },
   "file_extension": ".py",
   "mimetype": "text/x-python",
   "name": "python",
   "nbconvert_exporter": "python",
   "pygments_lexer": "ipython2",
   "version": "2.7.6"
  }
 },
 "nbformat": 4,
 "nbformat_minor": 5
}
