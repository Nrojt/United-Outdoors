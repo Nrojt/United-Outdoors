{
 "cells": [
  {
   "cell_type": "markdown",
   "id": "ca140ae010d86600",
   "metadata": {},
   "source": [
    "# Customer\n",
    "Grouping customers in various ways to understand their behavior and preferences."
   ]
  },
  {
   "cell_type": "markdown",
   "id": "5f9e9f76b9c4858",
   "metadata": {},
   "source": [
    "## Importing Libraries"
   ]
  },
  {
   "cell_type": "code",
   "execution_count": 112,
   "id": "bde2aaa5cb308157",
   "metadata": {
    "ExecuteTime": {
     "end_time": "2024-05-25T13:25:49.006820Z",
     "start_time": "2024-05-25T13:25:49.002656Z"
    }
   },
   "outputs": [],
   "source": [
    "import pandas as pd\n",
    "import numpy as np\n",
    "import matplotlib.pyplot as plt\n",
    "from common_functions import get_engine, read_data_return_df, drop_sk_datetime_added_columns as drop_columns\n",
    "from sklearn.cluster import KMeans\n",
    "from sklearn.metrics import pairwise_distances, silhouette_score\n",
    "from sklearn.decomposition import PCA"
   ]
  },
  {
   "cell_type": "markdown",
   "id": "3ece12a086e7b859",
   "metadata": {},
   "source": [
    "## Connecting to the Database"
   ]
  },
  {
   "cell_type": "code",
   "execution_count": 113,
   "id": "f547513658d367f",
   "metadata": {
    "ExecuteTime": {
     "end_time": "2024-05-25T13:25:49.275960Z",
     "start_time": "2024-05-25T13:25:49.148196Z"
    }
   },
   "outputs": [],
   "source": [
    "engine = get_engine()"
   ]
  },
  {
   "cell_type": "markdown",
   "id": "387fb55d330b4e85",
   "metadata": {},
   "source": [
    "## Reading in the Data"
   ]
  },
  {
   "cell_type": "code",
   "execution_count": 114,
   "id": "16e2f571219d6d9f",
   "metadata": {
    "ExecuteTime": {
     "end_time": "2024-05-25T13:25:49.380954Z",
     "start_time": "2024-05-25T13:25:49.276964Z"
    }
   },
   "outputs": [],
   "source": [
    "query = \"SELECT * FROM Customer\"\n",
    "customers = read_data_return_df(query, engine)\n",
    "\n",
    "customers"
   ]
  },
  {
   "cell_type": "code",
   "execution_count": 115,
   "id": "7df1cccc7c5d13f9",
   "metadata": {
    "ExecuteTime": {
     "end_time": "2024-05-25T13:25:49.521786Z",
     "start_time": "2024-05-25T13:25:49.382965Z"
    }
   },
   "outputs": [],
   "source": [
    "query = \"SELECT * FROM BusinessEntity\"\n",
    "business_entity = read_data_return_df(query, engine)\n",
    "\n",
    "business_entity.head()"
   ]
  },
  {
   "cell_type": "code",
   "execution_count": 116,
   "id": "cff84e49b24917ba",
   "metadata": {
    "ExecuteTime": {
     "end_time": "2024-05-25T13:25:49.749088Z",
     "start_time": "2024-05-25T13:25:49.522794Z"
    }
   },
   "outputs": [],
   "source": [
    "query = \"SELECT * FROM BusinessEntityAddress\"\n",
    "business_entity_address = read_data_return_df(query, engine)\n",
    "\n",
    "business_entity_address.head()"
   ]
  },
  {
   "cell_type": "code",
   "execution_count": 117,
   "id": "921b553d1c8c2894",
   "metadata": {
    "ExecuteTime": {
     "end_time": "2024-05-25T13:25:49.802371Z",
     "start_time": "2024-05-25T13:25:49.750097Z"
    }
   },
   "outputs": [],
   "source": [
    "query = \"SELECT * FROM Territory\"\n",
    "territory = read_data_return_df(query, engine)\n",
    "\n",
    "territory.head()"
   ]
  },
  {
   "cell_type": "markdown",
   "id": "a6737297be17c875",
   "metadata": {},
   "source": [
    "## Data Cleaning"
   ]
  },
  {
   "cell_type": "code",
   "execution_count": 118,
   "id": "849d83fb542da684",
   "metadata": {
    "ExecuteTime": {
     "end_time": "2024-05-25T13:25:49.818116Z",
     "start_time": "2024-05-25T13:25:49.803380Z"
    }
   },
   "outputs": [],
   "source": [
    "# combining the customers and business entity data\n",
    "combined_df = pd.merge(customers, business_entity, left_on='CUSTOMER_CUSTOMER_CustomerID', right_on='BUSINESSENTITY_BUSINESSENTITY_BusinessEntityID', suffixes=('_customer', '_business_entity')) \n",
    "\n",
    "combined_df = pd.merge(combined_df, business_entity_address, left_on='BUSINESSENTITY_sk', right_on='BUSINESSENTITYADDRESS_BUSINESSENTITYADDRESS_BusinessEntityID', suffixes=('', '_business_entity_address'))\n",
    "\n",
    "combined_df = pd.merge(combined_df, territory, left_on='CUSTOMER_CUSTOMER_TerritoryID', right_on='TERRITORY_sk', suffixes=('', '_territory'))\n",
    "\n",
    "# dropping the datetime_added and sk columns\n",
    "drop_columns(combined_df)"
   ]
  },
  {
   "cell_type": "code",
   "execution_count": 119,
   "id": "1d5c87d02ff4c317",
   "metadata": {
    "ExecuteTime": {
     "end_time": "2024-05-25T13:25:49.837204Z",
     "start_time": "2024-05-25T13:25:49.820123Z"
    }
   },
   "outputs": [],
   "source": [
    "# dropping unnecessary columns\n",
    "columns_to_keep = ['CUSTOMER_CUSTOMER_CustomerID', 'CUSTOMER_CUSTOMER_StoreID', 'CUSTOMER_CUSTOMER_TerritoryID', 'CUSTOMER_STORE_SalesPersonID', 'CUSTOMER_SALESTERRITORY_CountryRegionCode','CUSTOMER_SALESTERRITORY_SalesYTD', 'CUSTOMER_SALESTERRITORY_SalesLastYear', 'BUSINESSENTITY_CONTACTTYPE_ContactTypeID', 'BUSINESSENTITYADDRESS_ADDRESSTYPE_AddressTypeID', 'TERRITORY_TERRITORIES_TerritoryID', 'TERRITORY_STATEPROVINCE_StateProvinceID', 'TERRITORY_STATEPROVINCE_IsOnlyStateProvinceFlag', 'TERRITORY_SALESTAXRATE_SalesTaxRateID', 'BUSINESSENTITYADDRESS_ADDRESS_City', 'BUSINESSENTITYADDRESS_ADDRESS_POSTALCODE']\n",
    "\n",
    "# converting the string values to integer representations\n",
    "combined_df['BUSINESSENTITYADDRESS_ADDRESS_City'] = combined_df['BUSINESSENTITYADDRESS_ADDRESS_City'].astype('category').cat.codes\n",
    "combined_df['BUSINESSENTITYADDRESS_ADDRESS_POSTALCODE'] = combined_df['BUSINESSENTITYADDRESS_ADDRESS_POSTALCODE'].astype('category').cat.codes\n",
    "\n",
    "combined_df = combined_df[columns_to_keep]\n",
    "\n",
    "combined_df.head()"
   ]
  },
  {
   "cell_type": "markdown",
   "id": "747c78c7fcf91828",
   "metadata": {},
   "source": [
    "## Clustering\n",
    "Using Kmeans"
   ]
  },
  {
   "cell_type": "code",
   "execution_count": 120,
   "id": "bba521c46d931ae9",
   "metadata": {
    "ExecuteTime": {
     "end_time": "2024-05-25T13:25:55.299080Z",
     "start_time": "2024-05-25T13:25:49.838212Z"
    }
   },
   "outputs": [],
   "source": [
    "# Define a range of k values to try, from 2 to the number of data points -1 \n",
    "ks = range(2, combined_df.shape[0])\n",
    "\n",
    "# Empty list to store the intra- and inter cluster distances\n",
    "intra_distances = []\n",
    "inter_distances = []\n",
    "silhouette_scores = []\n",
    "\n",
    "for k in ks:\n",
    "    # Training the KMeans model for this k value\n",
    "    kmeans = KMeans(n_clusters=k)\n",
    "    kmeans.fit(combined_df)\n",
    "    \n",
    "    # Calculate the intra cluster distance as the sum of the distances of the samples to their closest cluster center. This is done by kmeans.inertia_\n",
    "    intra_distance = kmeans.inertia_\n",
    "    intra_distances.append(intra_distance)\n",
    "    \n",
    "    # Calculate the inter cluster distance as the mean distance between the cluster centers. this is done by pairwise_distances(kmeans.cluster_centers_)\n",
    "    cluster_centers = kmeans.cluster_centers_\n",
    "    inter_distance = np.mean(pairwise_distances(cluster_centers))\n",
    "    inter_distances.append(inter_distance)\n",
    "    \n",
    "    # calculate the silhouette score\n",
    "    silhouette_scores.append(silhouette_score(combined_df, kmeans.labels_))\n",
    "\n",
    "# Create a DataFrame with the results\n",
    "k_df = pd.DataFrame({'k': ks, 'intra_distance': intra_distances, 'inter_distance': inter_distances, 'silhouette_score': silhouette_scores})\n",
    "k_df"
   ]
  },
  {
   "cell_type": "markdown",
   "id": "8fe42465f1945006",
   "metadata": {},
   "source": [
    "### Plotting the intra and inter cluster distances"
   ]
  },
  {
   "cell_type": "code",
   "execution_count": 121,
   "id": "1f9796cfc42a5fb1",
   "metadata": {
    "ExecuteTime": {
     "end_time": "2024-05-25T13:25:55.861504Z",
     "start_time": "2024-05-25T13:25:55.301086Z"
    }
   },
   "outputs": [],
   "source": [
    "# Plotting the intra-cluster distances\n",
    "plt.figure(figsize=(20, 10))\n",
    "plt.plot(ks, intra_distances, marker='o')\n",
    "plt.title('Intra-cluster distances for different values of k')\n",
    "plt.xlabel('Number of clusters (k)')\n",
    "plt.ylabel('Intra-cluster distance (inertia)')\n",
    "plt.grid(True)\n",
    "plt.show()\n",
    "\n",
    "# Plotting the inter-cluster distances\n",
    "plt.figure(figsize=(20, 10))\n",
    "plt.plot(ks, inter_distances, marker='o')\n",
    "plt.title('Inter-cluster distances for different values of k')\n",
    "plt.xlabel('Number of clusters (k)')\n",
    "plt.ylabel('Inter-cluster distance')\n",
    "plt.grid(True)\n",
    "plt.show()\n",
    "\n",
    "# plotting the silhouette scores\n",
    "plt.figure(figsize=(20, 10))\n",
    "plt.plot(ks, silhouette_scores, marker='o')\n",
    "plt.title('Silhouette scores for different values of k')\n",
    "plt.xlabel('Number of clusters (k)')\n",
    "plt.ylabel('Silhouette score')\n",
    "plt.grid(True)\n",
    "plt.show()"
   ]
  },
  {
   "cell_type": "markdown",
   "id": "8a4d8147497fba0e",
   "metadata": {},
   "source": [
    "### Finding the optimal number of clusters"
   ]
  },
  {
   "cell_type": "code",
   "execution_count": 122,
   "id": "86223ec3db12a230",
   "metadata": {
    "ExecuteTime": {
     "end_time": "2024-05-25T13:25:55.868316Z",
     "start_time": "2024-05-25T13:25:55.863510Z"
    }
   },
   "outputs": [],
   "source": [
    "# Gets the index of the maximum silhouette score. Adding 2 because the range of k starts from 2 (since we need at least 2 clusters)\n",
    "optimal_k = np.argmax(silhouette_scores) + 2\n",
    "\n",
    "print(f\"Optimal number of clusters based on silhouette score: k={optimal_k}\")"
   ]
  },
  {
   "cell_type": "code",
   "execution_count": 123,
   "id": "18852a7f299ed2a0",
   "metadata": {
    "ExecuteTime": {
     "end_time": "2024-05-25T13:25:55.910285Z",
     "start_time": "2024-05-25T13:25:55.870326Z"
    }
   },
   "outputs": [],
   "source": [
    "# Train a KMeans model with the optimal number of clusters\n",
    "kmeans_optimal = KMeans(n_clusters=optimal_k)\n",
    "kmeans_optimal.fit(combined_df)"
   ]
  },
  {
   "cell_type": "markdown",
   "id": "da2c872446d95a5e",
   "metadata": {},
   "source": [
    "### Plotting the clusters"
   ]
  },
  {
   "cell_type": "code",
   "execution_count": 124,
   "id": "deaa3a243bec1db4",
   "metadata": {
    "ExecuteTime": {
     "end_time": "2024-05-25T13:25:55.916921Z",
     "start_time": "2024-05-25T13:25:55.912294Z"
    }
   },
   "outputs": [],
   "source": [
    "# Defining a list of colors to be used for the clusters\n",
    "colors = ['deeppink','blue', 'green', 'red', 'cyan', 'magenta', 'yellow', 'azure', 'orange', 'brown']"
   ]
  },
  {
   "cell_type": "code",
   "execution_count": 125,
   "id": "a9ab4c790da97cef",
   "metadata": {
    "ExecuteTime": {
     "end_time": "2024-05-25T13:25:56.514890Z",
     "start_time": "2024-05-25T13:25:55.918929Z"
    }
   },
   "outputs": [],
   "source": [
    "# Get the cluster assignments for each data point\n",
    "cluster_assignments = kmeans_optimal.labels_\n",
    "\n",
    "# Reduce the data to two dimensions using PCA\n",
    "# PCA is a technique that projects the data into a lower dimensional space while preserving as much variance as possible\n",
    "pca = PCA(n_components=2) # reducing to 2 dimensions\n",
    "df_pca = pca.fit_transform(combined_df)\n",
    "\n",
    "# creating a color map using the colors list\n",
    "color_map = {label: colors[label % len(colors)] for label in np.unique(cluster_assignments)}\n",
    "\n",
    "# Map the cluster assignments to colors\n",
    "color_assignments = list(map(color_map.get, cluster_assignments))\n",
    "\n",
    "# Create a scatter plot of the reduced data, colored by cluster assignment\n",
    "plt.figure(figsize=(10, 5))\n",
    "plt.title('Visualization of clusters')\n",
    "# PCA is unsupervised, so we don't have labels. We can only label the axes\n",
    "plt.xlabel('PCA X')\n",
    "plt.ylabel('PCA Y')\n",
    "\n",
    "# Create a scatter plot of the reduced data, colored by cluster assignment\n",
    "scatter = plt.scatter(df_pca[:, 0], df_pca[:, 1], c=np.array(color_assignments))\n",
    "\n",
    "# Create a legend\n",
    "handles = [plt.Line2D([],[],marker=\"o\", ls=\"\", color=color_map[i]) for i in np.unique(cluster_assignments)]\n",
    "plt.legend(handles, np.unique(cluster_assignments), title=\"Clusters\", bbox_to_anchor=(1, 1))\n",
    "\n",
    "plt.show()"
   ]
  },
  {
   "cell_type": "code",
   "execution_count": 126,
   "id": "baff12f7caa55d5b",
   "metadata": {
    "ExecuteTime": {
     "end_time": "2024-05-25T13:25:58.133818Z",
     "start_time": "2024-05-25T13:25:56.515897Z"
    }
   },
   "outputs": [],
   "source": [
    "# Get the unique cluster labels\n",
    "unique_clusters = np.unique(cluster_assignments)\n",
    "\n",
    "# Create a figure and a set of subplots\n",
    "fig, axs = plt.subplots(len(unique_clusters), figsize=(10, 5*len(unique_clusters)))\n",
    "\n",
    "# Iterate over the unique cluster labels\n",
    "for i, cluster in enumerate(unique_clusters):\n",
    "    # Get the data points that belong to this cluster\n",
    "    cluster_data = df_pca[cluster_assignments == cluster]\n",
    "\n",
    "    # Create a scatter plot for this cluster using a unique color\n",
    "    axs[i].scatter(cluster_data[:, 0], cluster_data[:, 1], color=colors[i % len(colors)])\n",
    "    axs[i].set_title(f'Cluster {cluster}')\n",
    "    axs[i].set_xlabel('PCA X')\n",
    "    axs[i].set_ylabel('PCA Y')\n",
    "\n",
    "# Display the plots\n",
    "plt.tight_layout()\n",
    "plt.show()"
   ]
  }
 ],
 "metadata": {
  "kernelspec": {
   "display_name": "Python 3",
   "language": "python",
   "name": "python3"
  },
  "language_info": {
   "codemirror_mode": {
    "name": "ipython",
    "version": 2
   },
   "file_extension": ".py",
   "mimetype": "text/x-python",
   "name": "python",
   "nbconvert_exporter": "python",
   "pygments_lexer": "ipython2",
   "version": "2.7.6"
  }
 },
 "nbformat": 4,
 "nbformat_minor": 5
}
