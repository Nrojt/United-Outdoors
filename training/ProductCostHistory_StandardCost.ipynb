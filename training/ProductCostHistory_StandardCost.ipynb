{
 "cells": [
  {
   "metadata": {},
   "cell_type": "markdown",
   "source": [
    "# ProductCostHistory\n",
    "Predicting StandardCost"
   ],
   "id": "2eee1822fbbb157e"
  },
  {
   "metadata": {},
   "cell_type": "markdown",
   "source": "## Importing Libraries",
   "id": "8fadf5e9b13cf066"
  },
  {
   "metadata": {
    "ExecuteTime": {
     "end_time": "2024-05-27T15:02:17.453209Z",
     "start_time": "2024-05-27T15:02:11.490737Z"
    }
   },
   "cell_type": "code",
   "source": [
    "import pandas as pd\n",
    "import numpy as np\n",
    "import matplotlib.pyplot as plt\n",
    "from sklearn.ensemble import RandomForestRegressor, GradientBoostingRegressor\n",
    "from torch.utils.data import TensorDataset, DataLoader\n",
    "from common_functions import drop_sk_datetime_added_columns as drop_columns, train_model, get_engine, \\\n",
    "    read_data_return_df, plot_predictions, plot_feature_importance\n",
    "from sklearn.model_selection import train_test_split\n",
    "from sklearn.preprocessing import StandardScaler\n",
    "from sklearn.linear_model import LinearRegression\n",
    "from sklearn.metrics import mean_squared_error, r2_score\n",
    "from sklearn.tree import DecisionTreeRegressor\n",
    "from sklearn.tree import plot_tree\n",
    "import torch"
   ],
   "id": "374fdd5bef447ba3",
   "outputs": [],
   "execution_count": 1
  },
  {
   "metadata": {},
   "cell_type": "markdown",
   "source": "## Connecting to the database",
   "id": "f211fc7fc063cf0d"
  },
  {
   "metadata": {
    "ExecuteTime": {
     "end_time": "2024-05-27T15:02:17.707698Z",
     "start_time": "2024-05-27T15:02:17.454214Z"
    }
   },
   "cell_type": "code",
   "source": "engine = get_engine()",
   "id": "c1a17cd8a6d54654",
   "outputs": [
    {
     "name": "stdout",
     "output_type": "stream",
     "text": [
      "Connection to UnitedOutdoors database successful\n"
     ]
    }
   ],
   "execution_count": 2
  },
  {
   "metadata": {},
   "cell_type": "markdown",
   "source": "## Reading the data",
   "id": "2f93cf7250e8fba7"
  },
  {
   "metadata": {
    "ExecuteTime": {
     "end_time": "2024-05-27T15:02:17.769057Z",
     "start_time": "2024-05-27T15:02:17.710815Z"
    }
   },
   "cell_type": "code",
   "source": [
    "productcosthistory_sql_query = \"SELECT * FROM ProductCostHistory\"\n",
    "productcosthistory_df = read_data_return_df(productcosthistory_sql_query, engine)\n",
    "\n",
    "productcosthistory_df.head()"
   ],
   "id": "47db1a0decefabf",
   "outputs": [
    {
     "data": {
      "text/plain": [
       "   PRODUCTCOSTHISTORY_sk  PRODUCTCOSTHISTORY_PRODUCTCOSTHISTORY_ProductID  \\\n",
       "0                      1                                              222   \n",
       "1                      2                                              222   \n",
       "2                      3                                              222   \n",
       "3                      4                                              228   \n",
       "4                      5                                              228   \n",
       "\n",
       "  PRODUCTCOSTHISTORY_PRODUCTCOSTHISTORY_StartDate  \\\n",
       "0                                      2011-05-31   \n",
       "1                                      2012-05-30   \n",
       "2                                      2013-05-30   \n",
       "3                                      2011-05-31   \n",
       "4                                      2012-05-30   \n",
       "\n",
       "  PRODUCTCOSTHISTORY_PRODUCTCOSTHISTORY_EndDate  \\\n",
       "0                                    2012-05-29   \n",
       "1                                    2013-05-29   \n",
       "2                                          None   \n",
       "3                                    2012-05-29   \n",
       "4                                    2013-05-29   \n",
       "\n",
       "   PRODUCTCOSTHISTORY_PRODUCTCOSTHISTORY_StandardCost  \\\n",
       "0                                            12.0278    \n",
       "1                                            13.8782    \n",
       "2                                            13.0863    \n",
       "3                                            12.0278    \n",
       "4                                            13.8782    \n",
       "\n",
       "  PRODUCTCOSTHISTORY_datetime_added  \n",
       "0           2024-05-25 08:07:50.740  \n",
       "1           2024-05-25 08:07:50.740  \n",
       "2           2024-05-25 08:07:50.740  \n",
       "3           2024-05-25 08:07:50.740  \n",
       "4           2024-05-25 08:07:50.740  "
      ],
      "text/html": [
       "<div>\n",
       "<style scoped>\n",
       "    .dataframe tbody tr th:only-of-type {\n",
       "        vertical-align: middle;\n",
       "    }\n",
       "\n",
       "    .dataframe tbody tr th {\n",
       "        vertical-align: top;\n",
       "    }\n",
       "\n",
       "    .dataframe thead th {\n",
       "        text-align: right;\n",
       "    }\n",
       "</style>\n",
       "<table border=\"1\" class=\"dataframe\">\n",
       "  <thead>\n",
       "    <tr style=\"text-align: right;\">\n",
       "      <th></th>\n",
       "      <th>PRODUCTCOSTHISTORY_sk</th>\n",
       "      <th>PRODUCTCOSTHISTORY_PRODUCTCOSTHISTORY_ProductID</th>\n",
       "      <th>PRODUCTCOSTHISTORY_PRODUCTCOSTHISTORY_StartDate</th>\n",
       "      <th>PRODUCTCOSTHISTORY_PRODUCTCOSTHISTORY_EndDate</th>\n",
       "      <th>PRODUCTCOSTHISTORY_PRODUCTCOSTHISTORY_StandardCost</th>\n",
       "      <th>PRODUCTCOSTHISTORY_datetime_added</th>\n",
       "    </tr>\n",
       "  </thead>\n",
       "  <tbody>\n",
       "    <tr>\n",
       "      <th>0</th>\n",
       "      <td>1</td>\n",
       "      <td>222</td>\n",
       "      <td>2011-05-31</td>\n",
       "      <td>2012-05-29</td>\n",
       "      <td>12.0278</td>\n",
       "      <td>2024-05-25 08:07:50.740</td>\n",
       "    </tr>\n",
       "    <tr>\n",
       "      <th>1</th>\n",
       "      <td>2</td>\n",
       "      <td>222</td>\n",
       "      <td>2012-05-30</td>\n",
       "      <td>2013-05-29</td>\n",
       "      <td>13.8782</td>\n",
       "      <td>2024-05-25 08:07:50.740</td>\n",
       "    </tr>\n",
       "    <tr>\n",
       "      <th>2</th>\n",
       "      <td>3</td>\n",
       "      <td>222</td>\n",
       "      <td>2013-05-30</td>\n",
       "      <td>None</td>\n",
       "      <td>13.0863</td>\n",
       "      <td>2024-05-25 08:07:50.740</td>\n",
       "    </tr>\n",
       "    <tr>\n",
       "      <th>3</th>\n",
       "      <td>4</td>\n",
       "      <td>228</td>\n",
       "      <td>2011-05-31</td>\n",
       "      <td>2012-05-29</td>\n",
       "      <td>12.0278</td>\n",
       "      <td>2024-05-25 08:07:50.740</td>\n",
       "    </tr>\n",
       "    <tr>\n",
       "      <th>4</th>\n",
       "      <td>5</td>\n",
       "      <td>228</td>\n",
       "      <td>2012-05-30</td>\n",
       "      <td>2013-05-29</td>\n",
       "      <td>13.8782</td>\n",
       "      <td>2024-05-25 08:07:50.740</td>\n",
       "    </tr>\n",
       "  </tbody>\n",
       "</table>\n",
       "</div>"
      ]
     },
     "execution_count": 3,
     "metadata": {},
     "output_type": "execute_result"
    }
   ],
   "execution_count": 3
  },
  {
   "metadata": {},
   "cell_type": "code",
   "outputs": [],
   "execution_count": null,
   "source": [
    "product_sql_query = \"SELECT * FROM Product\"\n",
    "product_df = read_data_return_df(product_sql_query, engine)\n",
    "\n",
    "product_df.head()"
   ],
   "id": "5c869194c3c75b28"
  },
  {
   "metadata": {},
   "cell_type": "markdown",
   "source": "## Data Preprocessing",
   "id": "e55b255984388c56"
  },
  {
   "metadata": {},
   "cell_type": "code",
   "outputs": [],
   "execution_count": null,
   "source": "# combining the two dataframes\n",
   "id": "99ebef7277bfe398"
  }
 ],
 "metadata": {
  "kernelspec": {
   "display_name": "Python 3",
   "language": "python",
   "name": "python3"
  },
  "language_info": {
   "codemirror_mode": {
    "name": "ipython",
    "version": 2
   },
   "file_extension": ".py",
   "mimetype": "text/x-python",
   "name": "python",
   "nbconvert_exporter": "python",
   "pygments_lexer": "ipython2",
   "version": "2.7.6"
  }
 },
 "nbformat": 4,
 "nbformat_minor": 5
}
