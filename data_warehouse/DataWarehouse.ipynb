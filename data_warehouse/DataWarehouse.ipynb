{
 "cells": [
  {
   "metadata": {},
   "cell_type": "markdown",
   "source": "# United outdoors datawarehouse",
   "id": "17e2c480eb50cac0"
  },
  {
   "metadata": {},
   "cell_type": "markdown",
   "source": "## Imports",
   "id": "219c4ad180aa0438"
  },
  {
   "metadata": {
    "ExecuteTime": {
     "end_time": "2024-05-08T20:00:17.936719Z",
     "start_time": "2024-05-08T20:00:17.149446Z"
    }
   },
   "cell_type": "code",
   "source": [
    "import pandas as pd\n",
    "from sqlalchemy import create_engine, Integer, String, Text, LargeBinary\n",
    "from sqlalchemy.exc import OperationalError\n",
    "import urllib\n",
    "import re"
   ],
   "id": "1cf4cf0b86e3ced5",
   "outputs": [],
   "execution_count": 1
  },
  {
   "metadata": {},
   "cell_type": "markdown",
   "source": "## Database connection details",
   "id": "e5dedb1f60eb921f"
  },
  {
   "metadata": {
    "ExecuteTime": {
     "end_time": "2024-05-08T20:00:17.940951Z",
     "start_time": "2024-05-08T20:00:17.937731Z"
    }
   },
   "cell_type": "code",
   "source": [
    "DB = {\n",
    "    'servername' : '(local)\\\\SQLEXPRESS',\n",
    "    'united_outdoors_database' : 'UnitedOutdoors',\n",
    "    'northwind_database' : 'Northwind',\n",
    "    'aenc_database' : 'Aenc',\n",
    "    'adventureworks_database' : 'AdventureWorks2019',\n",
    "    'master' : 'master'\n",
    "}"
   ],
   "id": "7fc7de2a6201878c",
   "outputs": [],
   "execution_count": 2
  },
  {
   "metadata": {
    "ExecuteTime": {
     "end_time": "2024-05-08T20:00:17.955290Z",
     "start_time": "2024-05-08T20:00:17.940951Z"
    }
   },
   "cell_type": "code",
   "source": [
    "def create_connection(servername, database):\n",
    "    params = urllib.parse.quote_plus(f'DRIVER={{SQL Server}};SERVER={servername};DATABASE={database};Trusted_Connection=yes')\n",
    "    engine = create_engine(f'mssql+pyodbc:///?odbc_connect={params}', use_setinputsizes=False) # setinputsizes needs to be turned off for sql server, idk why but gives errors otherwise\n",
    "    try:\n",
    "        conn = engine.connect()\n",
    "        print(f'Connection to {database} database successful')\n",
    "        return conn, engine\n",
    "    except OperationalError as e:\n",
    "        print(f'Error: {e}')\n",
    "        return None, None"
   ],
   "id": "d813ef4841c45033",
   "outputs": [],
   "execution_count": 3
  },
  {
   "metadata": {
    "ExecuteTime": {
     "end_time": "2024-05-08T20:00:17.971041Z",
     "start_time": "2024-05-08T20:00:17.955796Z"
    }
   },
   "cell_type": "code",
   "source": [
    "def split_and_execute_sql_script(script, connection):\n",
    "    # splitting the script into the database creation and the rest\n",
    "    commands = re.split(r'GO\\n', script)\n",
    "    # removing all \\bGO\\b from the commands\n",
    "    commands = [re.sub(r'\\bGO\\b', '', command) for command in commands]\n",
    "    \n",
    "    # Execute the commands\n",
    "    for command in commands:\n",
    "        command = command.strip()\n",
    "        # Skip if the command is empty or 'GO'\n",
    "        if not command or command.upper() == 'GO':\n",
    "            continue\n",
    "        try:\n",
    "            connection.connection.execute(command)\n",
    "            connection.connection.commit()\n",
    "            #print(f'Command executed: {command}')\n",
    "        except OperationalError as e:\n",
    "            print(f'Error: {e} at command: {command}')"
   ],
   "id": "4415bc87cfbd4b9",
   "outputs": [],
   "execution_count": 4
  },
  {
   "metadata": {},
   "cell_type": "markdown",
   "source": "## Create the UnitedOutdoors datawarehouse",
   "id": "d20434978a02675e"
  },
  {
   "metadata": {
    "ExecuteTime": {
     "end_time": "2024-05-08T20:00:18.459712Z",
     "start_time": "2024-05-08T20:00:17.973289Z"
    }
   },
   "cell_type": "code",
   "source": [
    "conn, creation_engine = create_connection(DB[\"servername\"], DB[\"master\"])\n",
    "\n",
    "# Open the SQL script file and read its contents\n",
    "with open('sql/UnitedOutdoors_creation.sql', 'r') as file:\n",
    "    sql_script = file.read()\n",
    "\n",
    "split_and_execute_sql_script(sql_script, conn)\n",
    "\n",
    "conn.close()\n",
    "creation_engine.dispose()"
   ],
   "id": "f4a738224bd6cb1",
   "outputs": [
    {
     "name": "stdout",
     "output_type": "stream",
     "text": [
      "Connection to master database successful\n"
     ]
    }
   ],
   "execution_count": 5
  },
  {
   "metadata": {},
   "cell_type": "markdown",
   "source": "## Connecting to the UnitedOutdoors datawarehouse",
   "id": "53f0ccd3e21fa4b5"
  },
  {
   "metadata": {
    "ExecuteTime": {
     "end_time": "2024-05-08T20:00:18.584666Z",
     "start_time": "2024-05-08T20:00:18.460843Z"
    }
   },
   "cell_type": "code",
   "source": "united_outdoors_conn , united_outdoors_engine = create_connection(DB[\"servername\"], DB[\"united_outdoors_database\"])",
   "id": "68689a803df4672f",
   "outputs": [
    {
     "name": "stdout",
     "output_type": "stream",
     "text": [
      "Connection to UnitedOutdoors database successful\n"
     ]
    }
   ],
   "execution_count": 6
  },
  {
   "metadata": {},
   "cell_type": "markdown",
   "source": "## Loading the data from the source databases",
   "id": "75e2c357aec06e16"
  },
  {
   "metadata": {},
   "cell_type": "markdown",
   "source": "### Northwind database",
   "id": "e233e17a8927b6b1"
  },
  {
   "metadata": {},
   "cell_type": "markdown",
   "source": "#### Connection",
   "id": "aebf714a21c77aac"
  },
  {
   "metadata": {
    "ExecuteTime": {
     "end_time": "2024-05-08T20:00:18.700373Z",
     "start_time": "2024-05-08T20:00:18.584666Z"
    }
   },
   "cell_type": "code",
   "source": "northwind_conn, northwind_engine = create_connection(DB[\"servername\"], DB[\"northwind_database\"])",
   "id": "f49b57c4eb4a0356",
   "outputs": [
    {
     "name": "stdout",
     "output_type": "stream",
     "text": [
      "Connection to Northwind database successful\n"
     ]
    }
   ],
   "execution_count": 7
  },
  {
   "metadata": {},
   "cell_type": "markdown",
   "source": "#### Loading data",
   "id": "ce0ee452c23a7217"
  },
  {
   "metadata": {
    "ExecuteTime": {
     "end_time": "2024-05-08T20:00:18.885640Z",
     "start_time": "2024-05-08T20:00:18.701492Z"
    }
   },
   "cell_type": "code",
   "source": [
    "# Load the data from the source database\n",
    "northwind_categories = pd.read_sql('SELECT * FROM Categories', northwind_conn)\n",
    "northwind_customer_customer_demo = pd.read_sql('SELECT * FROM CustomerCustomerDemo', northwind_conn)\n",
    "northwind_customer_demographics = pd.read_sql('SELECT * FROM CustomerDemographics', northwind_conn)\n",
    "northwind_customers = pd.read_sql('SELECT * FROM Customers', northwind_conn)\n",
    "northwind_employees = pd.read_sql('SELECT * FROM Employees', northwind_conn)\n",
    "northwind_employee_territories = pd.read_sql('SELECT * FROM EmployeeTerritories', northwind_conn)\n",
    "northwind_order_details = pd.read_sql('SELECT * FROM [Order Details]', northwind_conn)\n",
    "northwind_orders = pd.read_sql('SELECT * FROM Orders', northwind_conn)\n",
    "northwind_products = pd.read_sql('SELECT * FROM Products', northwind_conn)\n",
    "northwind_region = pd.read_sql('SELECT * FROM Region', northwind_conn)\n",
    "northwind_shippers = pd.read_sql('SELECT * FROM Shippers', northwind_conn)\n",
    "northwind_suppliers = pd.read_sql('SELECT * FROM Suppliers', northwind_conn)\n",
    "northwind_territories = pd.read_sql('SELECT * FROM Territories', northwind_conn)"
   ],
   "id": "6759fac4a542f313",
   "outputs": [],
   "execution_count": 8
  },
  {
   "metadata": {},
   "cell_type": "markdown",
   "source": "### Aenc database",
   "id": "e8354ea289e5b52f"
  },
  {
   "metadata": {},
   "cell_type": "markdown",
   "source": "#### Connection",
   "id": "5a552beede389e74"
  },
  {
   "metadata": {
    "ExecuteTime": {
     "end_time": "2024-05-08T20:00:19.105808Z",
     "start_time": "2024-05-08T20:00:18.886757Z"
    }
   },
   "cell_type": "code",
   "source": "aenc_conn , aenc_engine = create_connection(DB[\"servername\"], DB[\"aenc_database\"])",
   "id": "8068f691bb272a12",
   "outputs": [
    {
     "name": "stdout",
     "output_type": "stream",
     "text": [
      "Connection to Aenc database successful\n"
     ]
    }
   ],
   "execution_count": 9
  },
  {
   "metadata": {},
   "cell_type": "markdown",
   "source": "#### Loading data",
   "id": "52ebbee980f2d5e1"
  },
  {
   "metadata": {
    "ExecuteTime": {
     "end_time": "2024-05-08T20:00:19.237250Z",
     "start_time": "2024-05-08T20:00:19.107855Z"
    }
   },
   "cell_type": "code",
   "source": [
    "aenc_bonus = pd.read_sql('SELECT * FROM Bonus', aenc_conn)\n",
    "aenc_customer = pd.read_sql('SELECT * FROM customer', aenc_conn)\n",
    "aenc_department = pd.read_sql('SELECT * FROM department', aenc_conn)\n",
    "aenc_employee = pd.read_sql('SELECT * FROM Employee', aenc_conn)\n",
    "aenc_product = pd.read_sql('SELECT * FROM product', aenc_conn)\n",
    "aenc_region = pd.read_sql('SELECT * FROM region', aenc_conn)\n",
    "aenc_sales_order = pd.read_sql('SELECT * FROM sales_order', aenc_conn)\n",
    "aenc_sales_order_item = pd.read_sql('SELECT * FROM sales_order_item', aenc_conn)\n",
    "aenc_state = pd.read_sql('SELECT * FROM state', aenc_conn)"
   ],
   "id": "a13392c1ea85f07c",
   "outputs": [],
   "execution_count": 10
  },
  {
   "metadata": {},
   "cell_type": "markdown",
   "source": "### AdventureWorks database",
   "id": "333dd57a2b50b509"
  },
  {
   "metadata": {},
   "cell_type": "markdown",
   "source": "#### Connection",
   "id": "38a34bcd0999e229"
  },
  {
   "metadata": {
    "ExecuteTime": {
     "end_time": "2024-05-08T20:00:19.346754Z",
     "start_time": "2024-05-08T20:00:19.237250Z"
    }
   },
   "cell_type": "code",
   "source": "adventureworks_conn, adventureworks_engine = create_connection(DB[\"servername\"], DB[\"adventureworks_database\"])",
   "id": "8a7816d659b8042e",
   "outputs": [
    {
     "name": "stdout",
     "output_type": "stream",
     "text": [
      "Connection to AdventureWorks2019 database successful\n"
     ]
    }
   ],
   "execution_count": 11
  },
  {
   "metadata": {},
   "cell_type": "markdown",
   "source": "#### Loading data",
   "id": "dd31b9f74a9313d9"
  },
  {
   "metadata": {
    "ExecuteTime": {
     "end_time": "2024-05-08T20:00:19.453098Z",
     "start_time": "2024-05-08T20:00:19.347771Z"
    }
   },
   "cell_type": "code",
   "source": [
    "adventureworks_humanresources_department = pd.read_sql('SELECT * FROM HumanResources.Department', adventureworks_conn)\n",
    "adventureworks_humanresources_employee = pd.read_sql('SELECT * FROM HumanResources.Employee', adventureworks_conn)\n",
    "adventureworks_humanresources_employeedepartmenthistory = pd.read_sql('SELECT * FROM HumanResources.EmployeeDepartmentHistory', adventureworks_conn)\n",
    "adventureworks_humanresources_employeepayhistory = pd.read_sql('SELECT * FROM HumanResources.EmployeePayHistory', adventureworks_conn)\n",
    "adventureworks_humanresources_jobcandidate = pd.read_sql('SELECT * FROM HumanResources.JobCandidate', adventureworks_conn)\n",
    "adventureworks_humanresources_shift = pd.read_sql('SELECT * FROM HumanResources.Shift', adventureworks_conn)"
   ],
   "id": "95d9b1664c99e3c3",
   "outputs": [],
   "execution_count": 12
  },
  {
   "metadata": {
    "ExecuteTime": {
     "end_time": "2024-05-08T20:00:20.785056Z",
     "start_time": "2024-05-08T20:00:19.454103Z"
    }
   },
   "cell_type": "code",
   "source": [
    "adventureworks_person_address = pd.read_sql('SELECT * FROM Person.Address', adventureworks_conn)\n",
    "adventureworks_person_address_type = pd.read_sql('SELECT * FROM Person.AddressType', adventureworks_conn)\n",
    "adventureworks_person_businessentity = pd.read_sql('SELECT * FROM Person.BusinessEntity', adventureworks_conn)\n",
    "adventureworks_person_businessentityaddress = pd.read_sql('SELECT * FROM Person.BusinessEntityAddress', adventureworks_conn)\n",
    "adventureworks_person_businessentitycontact = pd.read_sql('SELECT * FROM Person.BusinessEntityContact', adventureworks_conn)\n",
    "adventureworks_person_contacttype = pd.read_sql('SELECT * FROM Person.ContactType', adventureworks_conn)\n",
    "adventureworks_person_countryregion = pd.read_sql('SELECT * FROM Person.CountryRegion', adventureworks_conn)\n",
    "adventureworks_person_emailaddress = pd.read_sql('SELECT * FROM Person.EmailAddress', adventureworks_conn)\n",
    "adventureworks_person_password = pd.read_sql('SELECT * FROM Person.Password', adventureworks_conn)\n",
    "adventureworks_person_person = pd.read_sql('SELECT * FROM Person.Person', adventureworks_conn)\n",
    "adventureworks_person_personphone = pd.read_sql('SELECT * FROM Person.PersonPhone', adventureworks_conn)\n",
    "adventureworks_person_phonenumbertype = pd.read_sql('SELECT * FROM Person.PhoneNumberType', adventureworks_conn)\n",
    "adventureworks_person_stateprovince = pd.read_sql('SELECT * FROM Person.StateProvince', adventureworks_conn)"
   ],
   "id": "3b2754e5926d99e6",
   "outputs": [],
   "execution_count": 13
  },
  {
   "metadata": {
    "ExecuteTime": {
     "end_time": "2024-05-08T20:00:24.335453Z",
     "start_time": "2024-05-08T20:00:20.787079Z"
    }
   },
   "cell_type": "code",
   "source": [
    "adventureworks_production_bill_of_materials = pd.read_sql('SELECT * FROM Production.BillOfMaterials', adventureworks_conn)\n",
    "adventureworks_production_culture = pd.read_sql('SELECT * FROM Production.Culture', adventureworks_conn)\n",
    "adventureworks_production_document = pd.read_sql('SELECT * FROM Production.Document', adventureworks_conn)\n",
    "adventureworks_production_illustration = pd.read_sql('SELECT * FROM Production.Illustration', adventureworks_conn)\n",
    "adventureworks_production_location = pd.read_sql('SELECT * FROM Production.Location', adventureworks_conn)\n",
    "adventureworks_production_product = pd.read_sql('SELECT * FROM Production.Product', adventureworks_conn)\n",
    "adventureworks_production_productcategory = pd.read_sql('SELECT * FROM Production.ProductCategory', adventureworks_conn)\n",
    "adventureworks_production_productcosthistory = pd.read_sql('SELECT * FROM Production.ProductCostHistory', adventureworks_conn)\n",
    "adventureworks_production_productdescription = pd.read_sql('SELECT * FROM Production.ProductDescription', adventureworks_conn)\n",
    "adventureworks_production_productdocument = pd.read_sql('SELECT * FROM Production.ProductDocument', adventureworks_conn)\n",
    "adventureworks_production_productinventory = pd.read_sql('SELECT * FROM Production.ProductInventory', adventureworks_conn)\n",
    "adventureworks_production_productlistpricehistory = pd.read_sql('SELECT * FROM Production.ProductListPriceHistory', adventureworks_conn)\n",
    "adventureworks_production_productmodel = pd.read_sql('SELECT * FROM Production.ProductModel', adventureworks_conn)\n",
    "adventureworks_production_productmodelillustration = pd.read_sql('SELECT * FROM Production.ProductModelIllustration', adventureworks_conn)\n",
    "adventureworks_production_productmodelproductdescriptionculture = pd.read_sql('SELECT * FROM Production.ProductModelProductDescriptionCulture', adventureworks_conn)\n",
    "adventureworks_production_productphoto = pd.read_sql('SELECT * FROM Production.ProductPhoto', adventureworks_conn)\n",
    "adventureworks_production_productproductphoto = pd.read_sql('SELECT * FROM Production.ProductProductPhoto', adventureworks_conn)\n",
    "adventureworks_production_productreview = pd.read_sql('SELECT * FROM Production.ProductReview', adventureworks_conn)\n",
    "adventureworks_production_productsubcategory = pd.read_sql('SELECT * FROM Production.ProductSubcategory', adventureworks_conn)\n",
    "adventureworks_production_scrapreason = pd.read_sql('SELECT * FROM Production.ScrapReason', adventureworks_conn)\n",
    "adventureworks_production_transactionhistory = pd.read_sql('SELECT * FROM Production.TransactionHistory', adventureworks_conn)\n",
    "adventureworks_production_transactionhistoryarchive = pd.read_sql('SELECT * FROM Production.TransactionHistoryArchive', adventureworks_conn)\n",
    "adventureworks_production_unitmeasure = pd.read_sql('SELECT * FROM Production.UnitMeasure', adventureworks_conn)\n",
    "adventureworks_production_workorder = pd.read_sql('SELECT * FROM Production.WorkOrder', adventureworks_conn)\n",
    "adventureworks_production_workorderrouting = pd.read_sql('SELECT * FROM Production.WorkOrderRouting', adventureworks_conn)"
   ],
   "id": "b9cf2209b4fc16a4",
   "outputs": [],
   "execution_count": 14
  },
  {
   "metadata": {
    "ExecuteTime": {
     "end_time": "2024-05-08T20:00:24.571522Z",
     "start_time": "2024-05-08T20:00:24.336558Z"
    }
   },
   "cell_type": "code",
   "source": [
    "adventureworks_purchasing_productvendor = pd.read_sql('SELECT * FROM Purchasing.ProductVendor', adventureworks_conn)\n",
    "adventureworks_purchasing_purchaseorderdetail = pd.read_sql('SELECT * FROM Purchasing.PurchaseOrderDetail', adventureworks_conn)\n",
    "adventureworks_purchasing_purchaseorderheader = pd.read_sql('SELECT * FROM Purchasing.PurchaseOrderHeader', adventureworks_conn)\n",
    "adventureworks_purchasing_shipmethod = pd.read_sql('SELECT * FROM Purchasing.ShipMethod', adventureworks_conn)\n",
    "adventureworks_purchasing_vendor = pd.read_sql('SELECT * FROM Purchasing.Vendor', adventureworks_conn)"
   ],
   "id": "a05635e1acca8623",
   "outputs": [],
   "execution_count": 15
  },
  {
   "metadata": {
    "ExecuteTime": {
     "end_time": "2024-05-08T20:00:27.800346Z",
     "start_time": "2024-05-08T20:00:24.572539Z"
    }
   },
   "cell_type": "code",
   "source": [
    "adventureworks_sales_countryregioncurrency = pd.read_sql('SELECT * FROM Sales.CountryRegionCurrency', adventureworks_conn)\n",
    "adventureworks_sales_creditcard = pd.read_sql('SELECT * FROM Sales.CreditCard', adventureworks_conn)\n",
    "adventureworks_sales_currency = pd.read_sql('SELECT * FROM Sales.Currency', adventureworks_conn)\n",
    "adventureworks_sales_currencyrate = pd.read_sql('SELECT * FROM Sales.CurrencyRate', adventureworks_conn)\n",
    "adventureworks_sales_customer = pd.read_sql('SELECT * FROM Sales.Customer', adventureworks_conn)\n",
    "adventureworks_sales_personcreditcard = pd.read_sql('SELECT * FROM Sales.PersonCreditCard', adventureworks_conn)\n",
    "adventureworks_sales_salesorderdetail = pd.read_sql('SELECT * FROM Sales.SalesOrderDetail', adventureworks_conn)\n",
    "adventureworks_sales_salesorderheader = pd.read_sql('SELECT * FROM Sales.SalesOrderHeader', adventureworks_conn)\n",
    "adventureworks_sales_salesorderhearerrsaleseason = pd.read_sql('SELECT * FROM Sales.SalesOrderHeaderSalesReason', adventureworks_conn)\n",
    "adventureworks_sales_salesperson = pd.read_sql('SELECT * FROM Sales.SalesPerson', adventureworks_conn)\n",
    "adventureworks_sales_salespersonquotahistory = pd.read_sql('SELECT * FROM Sales.SalesPersonQuotaHistory', adventureworks_conn)\n",
    "adventureworks_sales_salesreason = pd.read_sql('SELECT * FROM Sales.SalesReason', adventureworks_conn)\n",
    "adventureworks_sales_salestaxrate = pd.read_sql('SELECT * FROM Sales.SalesTaxRate', adventureworks_conn)\n",
    "adventureworks_sales_salesterritory = pd.read_sql('SELECT * FROM Sales.SalesTerritory', adventureworks_conn)\n",
    "adventureworks_sales_salesterritoryhistory = pd.read_sql('SELECT * FROM Sales.SalesTerritoryHistory', adventureworks_conn)\n",
    "adventureworks_sales_shoppingcartitem = pd.read_sql('SELECT * FROM Sales.ShoppingCartItem', adventureworks_conn)\n",
    "adventureworks_sales_specialoffer = pd.read_sql('SELECT * FROM Sales.SpecialOffer', adventureworks_conn)\n",
    "adventureworks_sales_specialofferproduct = pd.read_sql('SELECT * FROM Sales.SpecialOfferProduct', adventureworks_conn)\n",
    "adventureworks_sales_store = pd.read_sql('SELECT * FROM Sales.Store', adventureworks_conn)"
   ],
   "id": "d85ccde07f7a7d22",
   "outputs": [],
   "execution_count": 16
  },
  {
   "metadata": {},
   "cell_type": "markdown",
   "source": "## Loading the data into the UnitedOutdoors datawarehouse",
   "id": "def759487d0e6c71"
  },
  {
   "metadata": {
    "ExecuteTime": {
     "end_time": "2024-05-08T20:00:27.942357Z",
     "start_time": "2024-05-08T20:00:27.801672Z"
    }
   },
   "cell_type": "code",
   "source": [
    "northwind_customers_dtypes = {\n",
    "    'CustomerID': String(5),\n",
    "    'CompanyName': String(40),\n",
    "    'ContactName': String(30),\n",
    "    'ContactTitle': String(30),\n",
    "    'Address': String(60),\n",
    "    'City': String(15),\n",
    "    'Region': String(15),\n",
    "    'PostalCode': String(10),\n",
    "    'Country': String(15),\n",
    "    'Phone': String(24)\n",
    "}\n",
    "\n",
    "northwind_customers.to_sql(name='NorthWindCustomers', schema='dbo' , con=united_outdoors_engine, if_exists='append', index=False, dtype=northwind_customers_dtypes)"
   ],
   "id": "7a78c5fe622faf50",
   "outputs": [
    {
     "data": {
      "text/plain": [
       "91"
      ]
     },
     "execution_count": 17,
     "metadata": {},
     "output_type": "execute_result"
    }
   ],
   "execution_count": 17
  },
  {
   "metadata": {
    "ExecuteTime": {
     "end_time": "2024-05-08T20:00:27.980507Z",
     "start_time": "2024-05-08T20:00:27.943366Z"
    }
   },
   "cell_type": "code",
   "source": [
    "northwind_categories_dtypes = {\n",
    "    'CategoryID': Integer,\n",
    "    'CategoryName': String(15),\n",
    "    'Description': Text,\n",
    "    'Picture': LargeBinary\n",
    "}\n",
    "\n",
    "northwind_categories.to_sql(name='NorthWindCategories', schema='dbo', con=united_outdoors_engine, if_exists='append', dtype=northwind_categories_dtypes, index=False)"
   ],
   "id": "862ba2a787bb9dbb",
   "outputs": [
    {
     "data": {
      "text/plain": [
       "8"
      ]
     },
     "execution_count": 18,
     "metadata": {},
     "output_type": "execute_result"
    }
   ],
   "execution_count": 18
  },
  {
   "metadata": {},
   "cell_type": "markdown",
   "source": [
    "## Constraints\n",
    "altering the tables to add the (foreign key) constraints"
   ],
   "id": "d5d5a350eb3857a5"
  },
  {
   "metadata": {
    "ExecuteTime": {
     "end_time": "2024-05-08T20:00:27.987508Z",
     "start_time": "2024-05-08T20:00:27.981528Z"
    }
   },
   "cell_type": "code",
   "source": [
    "# opening the UnitedOutdoors_constraints.sql file\n",
    "with open('sql/UnitedOutdoors_constraints.sql', 'r') as file:\n",
    "    sql_script = file.read()\n",
    "\n",
    "# Execute the script\n",
    "split_and_execute_sql_script(sql_script, united_outdoors_conn)"
   ],
   "id": "4dbf2fec9d092308",
   "outputs": [],
   "execution_count": 19
  },
  {
   "metadata": {},
   "cell_type": "markdown",
   "source": "# Closing connections",
   "id": "1673fad4818f5f48"
  },
  {
   "metadata": {
    "ExecuteTime": {
     "end_time": "2024-05-08T20:00:27.999690Z",
     "start_time": "2024-05-08T20:00:27.988515Z"
    }
   },
   "cell_type": "code",
   "source": [
    "try:\n",
    "    united_outdoors_conn.close()\n",
    "    northwind_conn.close()\n",
    "    aenc_conn.close()\n",
    "    adventureworks_conn.close()\n",
    "except OperationalError as e:\n",
    "        print(f'Error: {e}')\n",
    "finally:\n",
    "    united_outdoors_engine.dispose()\n",
    "    northwind_engine.dispose()\n",
    "    aenc_engine.dispose()\n",
    "    adventureworks_engine.dispose()"
   ],
   "id": "9c88383a3ffc4e6f",
   "outputs": [],
   "execution_count": 20
  }
 ],
 "metadata": {
  "kernelspec": {
   "display_name": "Python 3",
   "language": "python",
   "name": "python3"
  },
  "language_info": {
   "codemirror_mode": {
    "name": "ipython",
    "version": 2
   },
   "file_extension": ".py",
   "mimetype": "text/x-python",
   "name": "python",
   "nbconvert_exporter": "python",
   "pygments_lexer": "ipython2",
   "version": "2.7.6"
  }
 },
 "nbformat": 4,
 "nbformat_minor": 5
}
