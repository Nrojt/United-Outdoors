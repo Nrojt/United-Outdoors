{
 "cells": [
  {
   "cell_type": "markdown",
   "id": "17e2c480eb50cac0",
   "metadata": {},
   "source": [
    "# United outdoors datawarehouse"
   ]
  },
  {
   "cell_type": "markdown",
   "id": "219c4ad180aa0438",
   "metadata": {},
   "source": [
    "## Imports"
   ]
  },
  {
   "cell_type": "code",
   "id": "1cf4cf0b86e3ced5",
   "metadata": {
    "nbdime-conflicts": {
     "local_diff": [
      {
       "diff": [
        {
         "diff": [
          {
           "key": 0,
           "op": "addrange",
           "valuelist": [
            "2024-05-16T14:59:20.124304Z"
           ]
          },
          {
           "key": 0,
           "length": 1,
           "op": "removerange"
          }
         ],
         "key": "end_time",
         "op": "patch"
        },
        {
         "diff": [
          {
           "key": 0,
           "op": "addrange",
           "valuelist": [
            "2024-05-16T14:59:19.700575Z"
           ]
          },
          {
           "key": 0,
           "length": 1,
           "op": "removerange"
          }
         ],
         "key": "start_time",
         "op": "patch"
        }
       ],
       "key": "ExecuteTime",
       "op": "patch"
      }
     ],
     "remote_diff": [
      {
       "key": "ExecuteTime",
       "op": "remove"
      }
     ]
    },
    "ExecuteTime": {
     "end_time": "2024-05-20T13:29:49.771812Z",
     "start_time": "2024-05-20T13:29:49.767901Z"
    }
   },
   "source": [
    "import pandas as pd\n",
    "import numpy as np\n",
    "from sqlalchemy import create_engine, Integer, String, LargeBinary, VARCHAR, NVARCHAR, DECIMAL, CHAR, \\\n",
    "    DATE\n",
    "from sqlalchemy.dialects.mssql import BIT, XML, MONEY, TIME\n",
    "from sqlalchemy.exc import OperationalError\n",
    "from urllib import parse\n",
    "import re\n",
    "import time"
   ],
   "outputs": [],
   "execution_count": 79
  },
  {
   "cell_type": "markdown",
   "id": "2bbbd3ad9bbe2dc",
   "metadata": {},
   "source": [
    "## Starting timer"
   ]
  },
  {
   "cell_type": "code",
   "id": "2e50c562c0772908",
   "metadata": {
    "nbdime-conflicts": {
     "local_diff": [
      {
       "diff": [
        {
         "diff": [
          {
           "key": 0,
           "op": "addrange",
           "valuelist": [
            "2024-05-16T14:59:20.128373Z"
           ]
          },
          {
           "key": 0,
           "length": 1,
           "op": "removerange"
          }
         ],
         "key": "end_time",
         "op": "patch"
        },
        {
         "diff": [
          {
           "key": 0,
           "op": "addrange",
           "valuelist": [
            "2024-05-16T14:59:20.125309Z"
           ]
          },
          {
           "key": 0,
           "length": 1,
           "op": "removerange"
          }
         ],
         "key": "start_time",
         "op": "patch"
        }
       ],
       "key": "ExecuteTime",
       "op": "patch"
      }
     ],
     "remote_diff": [
      {
       "key": "ExecuteTime",
       "op": "remove"
      }
     ]
    },
    "ExecuteTime": {
     "end_time": "2024-05-20T13:29:51.068734Z",
     "start_time": "2024-05-20T13:29:51.065850Z"
    }
   },
   "source": [
    "start_time = time.time()"
   ],
   "outputs": [],
   "execution_count": 80
  },
  {
   "cell_type": "markdown",
   "id": "e5dedb1f60eb921f",
   "metadata": {},
   "source": [
    "## Database connection details"
   ]
  },
  {
   "cell_type": "code",
   "id": "7fc7de2a6201878c",
   "metadata": {
    "nbdime-conflicts": {
     "local_diff": [
      {
       "diff": [
        {
         "diff": [
          {
           "key": 0,
           "op": "addrange",
           "valuelist": [
            "2024-05-16T14:59:20.133417Z"
           ]
          },
          {
           "key": 0,
           "length": 1,
           "op": "removerange"
          }
         ],
         "key": "end_time",
         "op": "patch"
        },
        {
         "diff": [
          {
           "key": 0,
           "op": "addrange",
           "valuelist": [
            "2024-05-16T14:59:20.129382Z"
           ]
          },
          {
           "key": 0,
           "length": 1,
           "op": "removerange"
          }
         ],
         "key": "start_time",
         "op": "patch"
        }
       ],
       "key": "ExecuteTime",
       "op": "patch"
      }
     ],
     "remote_diff": [
      {
       "key": "ExecuteTime",
       "op": "remove"
      }
     ]
    },
    "ExecuteTime": {
     "end_time": "2024-05-20T13:29:51.105696Z",
     "start_time": "2024-05-20T13:29:51.102262Z"
    }
   },
   "source": [
    "DB = {\n",
    "    'servername' : '(local)\\\\SQLEXPRESS',\n",
    "    'united_outdoors_database' : 'UnitedOutdoors',\n",
    "    'northwind_database' : 'Northwind',\n",
    "    'aenc_database' : 'Aenc',\n",
    "    'adventureworks_database' : 'AdventureWorks2019',\n",
    "    'master' : 'master'\n",
    "}"
   ],
   "outputs": [],
   "execution_count": 81
  },
  {
   "cell_type": "code",
   "id": "d813ef4841c45033",
   "metadata": {
    "nbdime-conflicts": {
     "local_diff": [
      {
       "diff": [
        {
         "diff": [
          {
           "key": 0,
           "op": "addrange",
           "valuelist": [
            "2024-05-16T14:59:20.139766Z"
           ]
          },
          {
           "key": 0,
           "length": 1,
           "op": "removerange"
          }
         ],
         "key": "end_time",
         "op": "patch"
        },
        {
         "diff": [
          {
           "key": 0,
           "op": "addrange",
           "valuelist": [
            "2024-05-16T14:59:20.134923Z"
           ]
          },
          {
           "key": 0,
           "length": 1,
           "op": "removerange"
          }
         ],
         "key": "start_time",
         "op": "patch"
        }
       ],
       "key": "ExecuteTime",
       "op": "patch"
      }
     ],
     "remote_diff": [
      {
       "key": "ExecuteTime",
       "op": "remove"
      }
     ]
    },
    "ExecuteTime": {
     "end_time": "2024-05-20T13:29:51.229349Z",
     "start_time": "2024-05-20T13:29:51.225372Z"
    }
   },
   "source": [
    "def create_connection(servername, database):\n",
    "    params = parse.quote_plus(f'DRIVER={{SQL Server}};SERVER={servername};DATABASE={database};Trusted_Connection=yes')\n",
    "    engine = create_engine(f'mssql+pyodbc:///?odbc_connect={params}', use_setinputsizes=False, connect_args={'options': '-c search_path=dbo'}, fast_executemany=True) # setinputsizes needs to be turned off for sql server, idk why but gives errors otherwise\n",
    "    try:\n",
    "        establish_conn = engine.connect()\n",
    "        print(f'Connection to {database} database successful')\n",
    "        return establish_conn, engine\n",
    "    except OperationalError as e:\n",
    "        print(f'Error: {e}')\n",
    "        return None, None"
   ],
   "outputs": [],
   "execution_count": 82
  },
  {
   "cell_type": "code",
   "id": "4415bc87cfbd4b9",
   "metadata": {
    "nbdime-conflicts": {
     "local_diff": [
      {
       "diff": [
        {
         "diff": [
          {
           "key": 0,
           "op": "addrange",
           "valuelist": [
            "2024-05-16T14:59:20.144526Z"
           ]
          },
          {
           "key": 0,
           "length": 1,
           "op": "removerange"
          }
         ],
         "key": "end_time",
         "op": "patch"
        },
        {
         "diff": [
          {
           "key": 0,
           "op": "addrange",
           "valuelist": [
            "2024-05-16T14:59:20.140271Z"
           ]
          },
          {
           "key": 0,
           "length": 1,
           "op": "removerange"
          }
         ],
         "key": "start_time",
         "op": "patch"
        }
       ],
       "key": "ExecuteTime",
       "op": "patch"
      }
     ],
     "remote_diff": [
      {
       "key": "ExecuteTime",
       "op": "remove"
      }
     ]
    },
    "ExecuteTime": {
     "end_time": "2024-05-20T13:29:51.256166Z",
     "start_time": "2024-05-20T13:29:51.252577Z"
    }
   },
   "source": [
    "def split_and_execute_sql_script(script, execute_engine):\n",
    "    # creating a connection\n",
    "    connection = execute_engine.connect()\n",
    "    \n",
    "    # splitting the script into the database creation and the rest\n",
    "    commands = re.split(r'GO\\n', script)\n",
    "    # removing all \\bGO\\b from the commands\n",
    "    commands = [re.sub(r'\\bGO\\b', '', command) for command in commands]\n",
    "    \n",
    "    # Execute the commands\n",
    "    for command in commands:\n",
    "        command = command.strip()\n",
    "        # Skip if the command is empty or 'GO'\n",
    "        if not command or command.upper() == 'GO':\n",
    "            continue\n",
    "        try:\n",
    "            connection.connection.execute(command)\n",
    "            connection.connection.commit()\n",
    "            #print(f'Command executed: {command}')\n",
    "        except OperationalError as e:\n",
    "            print(f'Error: {e} at command: {command}')"
   ],
   "outputs": [],
   "execution_count": 83
  },
  {
   "cell_type": "code",
   "id": "2b24b2ff00c7114a",
   "metadata": {
    "nbdime-conflicts": {
     "local_diff": [
      {
       "diff": [
        {
         "diff": [
          {
           "key": 0,
           "op": "addrange",
           "valuelist": [
            "2024-05-16T14:59:20.148976Z"
           ]
          },
          {
           "key": 0,
           "length": 1,
           "op": "removerange"
          }
         ],
         "key": "end_time",
         "op": "patch"
        },
        {
         "diff": [
          {
           "key": 0,
           "op": "addrange",
           "valuelist": [
            "2024-05-16T14:59:20.145030Z"
           ]
          },
          {
           "key": 0,
           "length": 1,
           "op": "removerange"
          }
         ],
         "key": "start_time",
         "op": "patch"
        }
       ],
       "key": "ExecuteTime",
       "op": "patch"
      }
     ],
     "remote_diff": [
      {
       "key": "ExecuteTime",
       "op": "remove"
      }
     ]
    },
    "ExecuteTime": {
     "end_time": "2024-05-20T13:29:51.338719Z",
     "start_time": "2024-05-20T13:29:51.334949Z"
    }
   },
   "source": [
    "def bulk_insert(df, dtypes, table_name, engine):\n",
    "    # calculating chunk size\n",
    "    chunk_size = (2000 // len(df.columns))  # 2100 is the maximum number of parameters in a query, -100 for safety\n",
    "\n",
    "    print(f'Inserting data into table: {table_name} with chunk size: {chunk_size}')\n",
    "    df.to_sql(name=table_name, schema='dbo', con=engine, if_exists='append', index=False, dtype=dtypes, method='multi', chunksize= chunk_size)"
   ],
   "outputs": [],
   "execution_count": 84
  },
  {
   "cell_type": "code",
   "id": "b6d38bfcca6afd40",
   "metadata": {
    "nbdime-conflicts": {
     "local_diff": [
      {
       "diff": [
        {
         "diff": [
          {
           "key": 0,
           "op": "addrange",
           "valuelist": [
            "2024-05-16T14:59:20.153938Z"
           ]
          },
          {
           "key": 0,
           "length": 1,
           "op": "removerange"
          }
         ],
         "key": "end_time",
         "op": "patch"
        },
        {
         "diff": [
          {
           "key": 0,
           "op": "addrange",
           "valuelist": [
            "2024-05-16T14:59:20.149482Z"
           ]
          },
          {
           "key": 0,
           "length": 1,
           "op": "removerange"
          }
         ],
         "key": "start_time",
         "op": "patch"
        }
       ],
       "key": "ExecuteTime",
       "op": "patch"
      }
     ],
     "remote_diff": [
      {
       "key": "ExecuteTime",
       "op": "remove"
      }
     ]
    },
    "ExecuteTime": {
     "end_time": "2024-05-20T13:29:51.373715Z",
     "start_time": "2024-05-20T13:29:51.368975Z"
    }
   },
   "source": [
    "def prepare(dataframe, nk_sk_dict=None):\n",
    "    # replacing the natural keys with the surrogate keys\n",
    "    if nk_sk_dict:\n",
    "        for column in nk_sk_dict:\n",
    "            # Check for duplicate keys\n",
    "            if len(nk_sk_dict[column]) != len(set(nk_sk_dict[column])):\n",
    "                raise ValueError(f'Duplicate keys found in nk_sk_dict for column: {column}')\n",
    "            else:\n",
    "                print(f'Replacing natural keys with surrogate keys for column: {column}')\n",
    "                for natural_key in nk_sk_dict[column]:\n",
    "                    dataframe[column] = dataframe[column].replace(natural_key, nk_sk_dict[column][natural_key])\n",
    "    \n",
    "    # replace empty values with None\n",
    "    dataframe = dataframe.where(pd.notnull(dataframe), None)\n",
    "    dataframe = dataframe.replace({np.nan: None})\n",
    "    \n",
    "    # stripping all columns with string data\n",
    "    dataframe = dataframe.map(lambda x: x.strip() if isinstance(x, str) else x)\n",
    "    # replacing all empty strings with None\n",
    "    dataframe = dataframe.replace(r'^\\s*$', None, regex=True)"
   ],
   "outputs": [],
   "execution_count": 85
  },
  {
   "cell_type": "code",
   "id": "4864830206097f93",
   "metadata": {
    "nbdime-conflicts": {
     "local_diff": [
      {
       "diff": [
        {
         "diff": [
          {
           "key": 0,
           "op": "addrange",
           "valuelist": [
            "2024-05-16T14:59:20.158274Z"
           ]
          },
          {
           "key": 0,
           "length": 1,
           "op": "removerange"
          }
         ],
         "key": "end_time",
         "op": "patch"
        },
        {
         "diff": [
          {
           "key": 0,
           "op": "addrange",
           "valuelist": [
            "2024-05-16T14:59:20.154443Z"
           ]
          },
          {
           "key": 0,
           "length": 1,
           "op": "removerange"
          }
         ],
         "key": "start_time",
         "op": "patch"
        }
       ],
       "key": "ExecuteTime",
       "op": "patch"
      }
     ],
     "remote_diff": [
      {
       "key": "ExecuteTime",
       "op": "remove"
      }
     ]
    },
    "ExecuteTime": {
     "end_time": "2024-05-20T13:29:51.436898Z",
     "start_time": "2024-05-20T13:29:51.433830Z"
    }
   },
   "source": [
    "def prepare_and_insert(dataframe, dtypes, table_name, insert_engine, nk_sk_dict=None):\n",
    "    \"\"\"\n",
    "    Prepares the dataframe for insertion into the database and inserts it into the database.\n",
    "        @param dataframe: The dataframe to be inserted into the database\n",
    "        @param dtypes: The data types of the columns in the dataframe\n",
    "        @param table_name: The name of the table in the database\n",
    "        @param insert_engine: The engine to insert the data into\n",
    "        @param nk_sk_dict: A 3d dictionary containing the natural keys and their corresponding surrogate keys, per column (so nk_sk_dict[column][natural_key] = surrogate_key)\n",
    "    \"\"\"\n",
    "       \n",
    "    prepare(dataframe, nk_sk_dict)\n",
    "    \n",
    "    # adding the data to the database\n",
    "    bulk_insert(dataframe, dtypes, table_name, insert_engine)"
   ],
   "outputs": [],
   "execution_count": 86
  },
  {
   "cell_type": "code",
   "id": "831fa404922c26e",
   "metadata": {
    "nbdime-conflicts": {
     "local_diff": [
      {
       "diff": [
        {
         "diff": [
          {
           "key": 0,
           "op": "addrange",
           "valuelist": [
            "2024-05-16T14:59:20.163065Z"
           ]
          },
          {
           "key": 0,
           "length": 1,
           "op": "removerange"
          }
         ],
         "key": "end_time",
         "op": "patch"
        },
        {
         "diff": [
          {
           "key": 0,
           "op": "addrange",
           "valuelist": [
            "2024-05-16T14:59:20.158778Z"
           ]
          },
          {
           "key": 0,
           "length": 1,
           "op": "removerange"
          }
         ],
         "key": "start_time",
         "op": "patch"
        }
       ],
       "key": "ExecuteTime",
       "op": "patch"
      }
     ],
     "remote_diff": [
      {
       "key": "ExecuteTime",
       "op": "remove"
      }
     ]
    },
    "ExecuteTime": {
     "end_time": "2024-05-20T13:29:51.464240Z",
     "start_time": "2024-05-20T13:29:51.460149Z"
    }
   },
   "source": [
    "def prepare_and_insert_return_sk(dataframe, dtypes, table_name, insert_engine, natural_key_column, nk_sk_dict=None):\n",
    "    \"\"\"\n",
    "    Prepares the dataframe for insertion into the database and inserts it into the database.\n",
    "        @param dataframe: The dataframe to be inserted into the database\n",
    "        @param dtypes: The data types of the columns in the dataframe\n",
    "        @param table_name: The name of the table in the database\n",
    "        @param insert_engine: The engine to insert the data into\n",
    "        @param natural_key_column: The name of the column containing the natural keys\n",
    "        @param nk_sk_dict: A 3d dictionary containing the natural keys and their corresponding surrogate keys, per column (so nk_sk_dict[column][natural_key] = surrogate_key)\n",
    "        @return: A dictionary containing the natural keys and their corresponding surrogate keys\n",
    "    \"\"\"\n",
    "    \n",
    "    prepare(dataframe, nk_sk_dict)\n",
    "    \n",
    "    # adding the data to the database\n",
    "    bulk_insert(dataframe, dtypes, table_name, insert_engine)\n",
    "    \n",
    "    # making a cleaned dictionary without None/nan values in the natural_key_column\n",
    "    mask = dataframe[natural_key_column].notnull()\n",
    "    filtered_dataframe = dataframe[mask]\n",
    "    \n",
    "    # getting the natural keys and their corresponding surrogate keys\n",
    "    # TODO FIX THIS, relying on the dataframe index is not a good idea\n",
    "    nk_sk_dict = dict(zip(filtered_dataframe[natural_key_column], dataframe.index))\n",
    "    \n",
    "    # adding +1 to the index to get the surrogate key\n",
    "    nk_sk_dict = {k: v + 1 for k, v in nk_sk_dict.items()}\n",
    "    \n",
    "    return nk_sk_dict"
   ],
   "outputs": [],
   "execution_count": 87
  },
  {
   "cell_type": "code",
   "id": "dcf41d6c2aee34fb",
   "metadata": {
    "nbdime-conflicts": {
     "local_diff": [
      {
       "diff": [
        {
         "diff": [
          {
           "key": 0,
           "op": "addrange",
           "valuelist": [
            "2024-05-16T14:59:20.167975Z"
           ]
          },
          {
           "key": 0,
           "length": 1,
           "op": "removerange"
          }
         ],
         "key": "end_time",
         "op": "patch"
        },
        {
         "diff": [
          {
           "key": 0,
           "op": "addrange",
           "valuelist": [
            "2024-05-16T14:59:20.164570Z"
           ]
          },
          {
           "key": 0,
           "length": 1,
           "op": "removerange"
          }
         ],
         "key": "start_time",
         "op": "patch"
        }
       ],
       "key": "ExecuteTime",
       "op": "patch"
      }
     ],
     "remote_diff": [
      {
       "key": "ExecuteTime",
       "op": "remove"
      }
     ]
    },
    "ExecuteTime": {
     "end_time": "2024-05-20T13:29:51.557909Z",
     "start_time": "2024-05-20T13:29:51.553761Z"
    }
   },
   "source": [
    "def prepare_and_update(table_name, update_engine, nk_sk_dict=None):   \n",
    "    # creating a connection\n",
    "    connection = update_engine.connect()\n",
    "\n",
    "    # Start a transaction\n",
    "    trans = connection.begin()\n",
    "\n",
    "    try:\n",
    "        # adding the data to the database\n",
    "        print(f'Updating data in table: {table_name}')\n",
    "        for column in nk_sk_dict:\n",
    "            # Prepare a batch update statement\n",
    "            update_stmts = []\n",
    "            for natural_key in nk_sk_dict[column]:\n",
    "                # TODO this would not work with updated data in datawarehouse, since this would replace the old and new data. Maybe check the datetime or something\n",
    "                statement = f'UPDATE {table_name} SET {column} = {nk_sk_dict[column][natural_key]} WHERE {column} = {int(natural_key)}'\n",
    "                update_stmts.append(statement)\n",
    "\n",
    "                # If the number of parameters reaches the limit, execute the batch update and clear the list\n",
    "                if len(update_stmts) * 2 >= 2000:  # Each update statement has 2 parameters, cause of the Column and Where clause\n",
    "                    connection.connection.execute(\";\".join(update_stmts))\n",
    "                    update_stmts = []\n",
    "\n",
    "            # Execute the remaining update statements\n",
    "            if update_stmts:\n",
    "                connection.connection.execute(\";\".join(update_stmts))\n",
    "\n",
    "        # Commit the transaction\n",
    "        trans.commit()\n",
    "    except:\n",
    "        # Rollback the transaction in case of error\n",
    "        trans.rollback()\n",
    "        raise\n",
    "    finally:\n",
    "        # Close the connection\n",
    "        connection.close()"
   ],
   "outputs": [],
   "execution_count": 88
  },
  {
   "cell_type": "code",
   "id": "20684c4233f7620d",
   "metadata": {
    "nbdime-conflicts": {
     "local_diff": [
      {
       "diff": [
        {
         "diff": [
          {
           "diff": [
            {
             "key": 11,
             "op": "addrange",
             "valuelist": "14:5"
            },
            {
             "key": 11,
             "length": 1,
             "op": "removerange"
            },
            {
             "key": 14,
             "op": "addrange",
             "valuelist": "20."
            },
            {
             "key": 16,
             "length": 2,
             "op": "removerange"
            },
            {
             "key": 19,
             "op": "addrange",
             "valuelist": "4"
            },
            {
             "key": 19,
             "length": 2,
             "op": "removerange"
            },
            {
             "key": 23,
             "length": 3,
             "op": "removerange"
            }
           ],
           "key": 0,
           "op": "patch"
          }
         ],
         "key": "end_time",
         "op": "patch"
        },
        {
         "diff": [
          {
           "key": 0,
           "op": "addrange",
           "valuelist": [
            "2024-05-16T14:59:20.168479Z"
           ]
          },
          {
           "key": 0,
           "length": 1,
           "op": "removerange"
          }
         ],
         "key": "start_time",
         "op": "patch"
        }
       ],
       "key": "ExecuteTime",
       "op": "patch"
      }
     ],
     "remote_diff": [
      {
       "key": "ExecuteTime",
       "op": "remove"
      }
     ]
    },
    "ExecuteTime": {
     "end_time": "2024-05-20T13:29:51.584521Z",
     "start_time": "2024-05-20T13:29:51.581072Z"
    }
   },
   "source": [
    "def drop_modified_date_rowguid(dataframe):\n",
    "    # dropping all columns with 'rowguid' in their name\n",
    "    columns_to_drop_mr = dataframe.filter(like='rowguid').columns\n",
    "    \n",
    "    # dropping all columns with 'ModifiedDate' in their name\n",
    "    columns_to_drop_mr = columns_to_drop_mr.append(dataframe.filter(like='ModifiedDate').columns)\n",
    "    \n",
    "    # dropping the columns\n",
    "    dataframe.drop(columns=columns_to_drop_mr, inplace=True)"
   ],
   "outputs": [],
   "execution_count": 89
  },
  {
   "cell_type": "markdown",
   "id": "d20434978a02675e",
   "metadata": {},
   "source": [
    "## Create the UnitedOutdoors datawarehouse"
   ]
  },
  {
   "cell_type": "code",
   "id": "f4a738224bd6cb1",
   "metadata": {
    "nbdime-conflicts": {
     "local_diff": [
      {
       "diff": [
        {
         "diff": [
          {
           "key": 0,
           "op": "addrange",
           "valuelist": [
            "2024-05-16T14:59:23.443124Z"
           ]
          },
          {
           "key": 0,
           "length": 1,
           "op": "removerange"
          }
         ],
         "key": "end_time",
         "op": "patch"
        },
        {
         "diff": [
          {
           "diff": [
            {
             "key": 11,
             "op": "addrange",
             "valuelist": "14:5"
            },
            {
             "key": 11,
             "length": 1,
             "op": "removerange"
            },
            {
             "key": 14,
             "op": "addrange",
             "valuelist": "20."
            },
            {
             "key": 16,
             "length": 2,
             "op": "removerange"
            },
            {
             "key": 19,
             "length": 1,
             "op": "removerange"
            },
            {
             "key": 21,
             "op": "addrange",
             "valuelist": "4"
            },
            {
             "key": 21,
             "length": 4,
             "op": "removerange"
            }
           ],
           "key": 0,
           "op": "patch"
          }
         ],
         "key": "start_time",
         "op": "patch"
        }
       ],
       "key": "ExecuteTime",
       "op": "patch"
      }
     ],
     "remote_diff": [
      {
       "key": "ExecuteTime",
       "op": "remove"
      }
     ]
    },
    "ExecuteTime": {
     "end_time": "2024-05-20T13:29:55.260706Z",
     "start_time": "2024-05-20T13:29:51.603526Z"
    }
   },
   "source": [
    "_, creation_engine = create_connection(DB[\"servername\"], DB[\"master\"])\n",
    "\n",
    "# Open the SQL script file and read its contents\n",
    "with open('sql/UnitedOutdoors_creation.sql', 'r') as file:\n",
    "    sql_script = file.read()\n",
    "\n",
    "split_and_execute_sql_script(sql_script, creation_engine)\n",
    "\n",
    "creation_engine.dispose()"
   ],
   "outputs": [
    {
     "name": "stdout",
     "output_type": "stream",
     "text": [
      "Connection to master database successful\n"
     ]
    }
   ],
   "execution_count": 90
  },
  {
   "cell_type": "markdown",
   "id": "53f0ccd3e21fa4b5",
   "metadata": {},
   "source": [
    "## Connecting to the UnitedOutdoors datawarehouse"
   ]
  },
  {
   "cell_type": "code",
   "id": "68689a803df4672f",
   "metadata": {
    "nbdime-conflicts": {
     "local_diff": [
      {
       "diff": [
        {
         "diff": [
          {
           "key": 0,
           "op": "addrange",
           "valuelist": [
            "2024-05-16T14:59:23.494277Z"
           ]
          },
          {
           "key": 0,
           "length": 1,
           "op": "removerange"
          }
         ],
         "key": "end_time",
         "op": "patch"
        },
        {
         "diff": [
          {
           "key": 0,
           "op": "addrange",
           "valuelist": [
            "2024-05-16T14:59:23.443629Z"
           ]
          },
          {
           "key": 0,
           "length": 1,
           "op": "removerange"
          }
         ],
         "key": "start_time",
         "op": "patch"
        }
       ],
       "key": "ExecuteTime",
       "op": "patch"
      }
     ],
     "remote_diff": [
      {
       "key": "ExecuteTime",
       "op": "remove"
      }
     ]
    },
    "ExecuteTime": {
     "end_time": "2024-05-20T13:29:55.418282Z",
     "start_time": "2024-05-20T13:29:55.263723Z"
    }
   },
   "source": "_ , united_outdoors_engine = create_connection(DB[\"servername\"], DB[\"united_outdoors_database\"])",
   "outputs": [
    {
     "name": "stdout",
     "output_type": "stream",
     "text": [
      "Connection to UnitedOutdoors database successful\n"
     ]
    }
   ],
   "execution_count": 91
  },
  {
   "cell_type": "markdown",
   "id": "75e2c357aec06e16",
   "metadata": {},
   "source": [
    "## Loading the data from the source databases"
   ]
  },
  {
   "cell_type": "markdown",
   "id": "e233e17a8927b6b1",
   "metadata": {},
   "source": [
    "### Northwind database"
   ]
  },
  {
   "cell_type": "markdown",
   "id": "aebf714a21c77aac",
   "metadata": {},
   "source": [
    "#### Connection"
   ]
  },
  {
   "cell_type": "code",
   "id": "f49b57c4eb4a0356",
   "metadata": {
    "nbdime-conflicts": {
     "local_diff": [
      {
       "diff": [
        {
         "diff": [
          {
           "key": 0,
           "op": "addrange",
           "valuelist": [
            "2024-05-16T14:59:23.573033Z"
           ]
          },
          {
           "key": 0,
           "length": 1,
           "op": "removerange"
          }
         ],
         "key": "end_time",
         "op": "patch"
        },
        {
         "diff": [
          {
           "key": 0,
           "op": "addrange",
           "valuelist": [
            "2024-05-16T14:59:23.494783Z"
           ]
          },
          {
           "key": 0,
           "length": 1,
           "op": "removerange"
          }
         ],
         "key": "start_time",
         "op": "patch"
        }
       ],
       "key": "ExecuteTime",
       "op": "patch"
      }
     ],
     "remote_diff": [
      {
       "key": "ExecuteTime",
       "op": "remove"
      }
     ]
    },
    "ExecuteTime": {
     "end_time": "2024-05-20T13:29:55.669525Z",
     "start_time": "2024-05-20T13:29:55.419350Z"
    }
   },
   "source": [
    "northwind_conn, northwind_engine = create_connection(DB[\"servername\"], DB[\"northwind_database\"])"
   ],
   "outputs": [
    {
     "name": "stdout",
     "output_type": "stream",
     "text": [
      "Connection to Northwind database successful\n"
     ]
    }
   ],
   "execution_count": 92
  },
  {
   "cell_type": "markdown",
   "id": "ce0ee452c23a7217",
   "metadata": {},
   "source": [
    "#### Loading data"
   ]
  },
  {
   "cell_type": "code",
   "id": "6759fac4a542f313",
   "metadata": {
    "nbdime-conflicts": {
     "local_diff": [
      {
       "diff": [
        {
         "diff": [
          {
           "key": 0,
           "op": "addrange",
           "valuelist": [
            "2024-05-16T14:59:23.670471Z"
           ]
          },
          {
           "key": 0,
           "length": 1,
           "op": "removerange"
          }
         ],
         "key": "end_time",
         "op": "patch"
        },
        {
         "diff": [
          {
           "key": 0,
           "op": "addrange",
           "valuelist": [
            "2024-05-16T14:59:23.573538Z"
           ]
          },
          {
           "key": 0,
           "length": 1,
           "op": "removerange"
          }
         ],
         "key": "start_time",
         "op": "patch"
        }
       ],
       "key": "ExecuteTime",
       "op": "patch"
      }
     ],
     "remote_diff": [
      {
       "key": "ExecuteTime",
       "op": "remove"
      }
     ]
    },
    "ExecuteTime": {
     "end_time": "2024-05-20T13:29:56.014089Z",
     "start_time": "2024-05-20T13:29:55.672601Z"
    }
   },
   "source": [
    "# Load the data from the source database\n",
    "northwind_categories = pd.read_sql('SELECT * FROM Categories', northwind_conn)\n",
    "northwind_customer_customer_demo = pd.read_sql('SELECT * FROM CustomerCustomerDemo', northwind_conn)\n",
    "northwind_customer_demographics = pd.read_sql('SELECT * FROM CustomerDemographics', northwind_conn)\n",
    "northwind_customers = pd.read_sql('SELECT * FROM Customers', northwind_conn)\n",
    "northwind_employees = pd.read_sql('SELECT * FROM Employees', northwind_conn)\n",
    "northwind_employee_territories = pd.read_sql('SELECT * FROM EmployeeTerritories', northwind_conn)\n",
    "northwind_order_details = pd.read_sql('SELECT * FROM [Order Details]', northwind_conn)\n",
    "northwind_orders = pd.read_sql('SELECT * FROM Orders', northwind_conn)\n",
    "northwind_products = pd.read_sql('SELECT * FROM Products', northwind_conn)\n",
    "northwind_region = pd.read_sql('SELECT * FROM Region', northwind_conn)\n",
    "northwind_shippers = pd.read_sql('SELECT * FROM Shippers', northwind_conn)\n",
    "northwind_suppliers = pd.read_sql('SELECT * FROM Suppliers', northwind_conn)\n",
    "northwind_territories = pd.read_sql('SELECT * FROM Territories', northwind_conn)\n",
    "\n",
    "northwind_conn.close()"
   ],
   "outputs": [],
   "execution_count": 93
  },
  {
   "cell_type": "markdown",
   "id": "e8354ea289e5b52f",
   "metadata": {},
   "source": [
    "### Aenc database"
   ]
  },
  {
   "cell_type": "markdown",
   "id": "5a552beede389e74",
   "metadata": {},
   "source": [
    "#### Connection"
   ]
  },
  {
   "cell_type": "code",
   "id": "8068f691bb272a12",
   "metadata": {
    "nbdime-conflicts": {
     "local_diff": [
      {
       "diff": [
        {
         "diff": [
          {
           "key": 0,
           "op": "addrange",
           "valuelist": [
            "2024-05-16T14:59:23.750493Z"
           ]
          },
          {
           "key": 0,
           "length": 1,
           "op": "removerange"
          }
         ],
         "key": "end_time",
         "op": "patch"
        },
        {
         "diff": [
          {
           "key": 0,
           "op": "addrange",
           "valuelist": [
            "2024-05-16T14:59:23.671478Z"
           ]
          },
          {
           "key": 0,
           "length": 1,
           "op": "removerange"
          }
         ],
         "key": "start_time",
         "op": "patch"
        }
       ],
       "key": "ExecuteTime",
       "op": "patch"
      }
     ],
     "remote_diff": [
      {
       "key": "ExecuteTime",
       "op": "remove"
      }
     ]
    },
    "ExecuteTime": {
     "end_time": "2024-05-20T13:29:56.271069Z",
     "start_time": "2024-05-20T13:29:56.018149Z"
    }
   },
   "source": [
    "aenc_conn , aenc_engine = create_connection(DB[\"servername\"], DB[\"aenc_database\"])"
   ],
   "outputs": [
    {
     "name": "stdout",
     "output_type": "stream",
     "text": [
      "Connection to Aenc database successful\n"
     ]
    }
   ],
   "execution_count": 94
  },
  {
   "cell_type": "markdown",
   "id": "52ebbee980f2d5e1",
   "metadata": {},
   "source": [
    "#### Loading data"
   ]
  },
  {
   "cell_type": "code",
   "id": "a13392c1ea85f07c",
   "metadata": {
    "nbdime-conflicts": {
     "local_diff": [
      {
       "diff": [
        {
         "diff": [
          {
           "key": 0,
           "op": "addrange",
           "valuelist": [
            "2024-05-16T14:59:23.818397Z"
           ]
          },
          {
           "key": 0,
           "length": 1,
           "op": "removerange"
          }
         ],
         "key": "end_time",
         "op": "patch"
        },
        {
         "diff": [
          {
           "key": 0,
           "op": "addrange",
           "valuelist": [
            "2024-05-16T14:59:23.750992Z"
           ]
          },
          {
           "key": 0,
           "length": 1,
           "op": "removerange"
          }
         ],
         "key": "start_time",
         "op": "patch"
        }
       ],
       "key": "ExecuteTime",
       "op": "patch"
      }
     ],
     "remote_diff": [
      {
       "key": "ExecuteTime",
       "op": "remove"
      }
     ]
    },
    "ExecuteTime": {
     "end_time": "2024-05-20T13:29:56.498214Z",
     "start_time": "2024-05-20T13:29:56.272152Z"
    }
   },
   "source": [
    "aenc_bonus = pd.read_sql('SELECT * FROM Bonus', aenc_conn)\n",
    "aenc_customer = pd.read_sql('SELECT * FROM customer', aenc_conn)\n",
    "aenc_department = pd.read_sql('SELECT * FROM department', aenc_conn)\n",
    "aenc_employee = pd.read_sql('SELECT * FROM Employee', aenc_conn)\n",
    "aenc_product = pd.read_sql('SELECT * FROM product', aenc_conn)\n",
    "aenc_region = pd.read_sql('SELECT * FROM region', aenc_conn)\n",
    "aenc_sales_order = pd.read_sql('SELECT * FROM sales_order', aenc_conn)\n",
    "aenc_sales_order_item = pd.read_sql('SELECT * FROM sales_order_item', aenc_conn)\n",
    "aenc_state = pd.read_sql('SELECT * FROM state', aenc_conn)\n",
    "\n",
    "aenc_conn.close()"
   ],
   "outputs": [],
   "execution_count": 95
  },
  {
   "cell_type": "markdown",
   "id": "333dd57a2b50b509",
   "metadata": {},
   "source": [
    "### AdventureWorks database"
   ]
  },
  {
   "cell_type": "markdown",
   "id": "38a34bcd0999e229",
   "metadata": {},
   "source": [
    "#### Connection"
   ]
  },
  {
   "cell_type": "code",
   "id": "8a7816d659b8042e",
   "metadata": {
    "nbdime-conflicts": {
     "local_diff": [
      {
       "diff": [
        {
         "diff": [
          {
           "key": 0,
           "op": "addrange",
           "valuelist": [
            "2024-05-16T14:59:23.832603Z"
           ]
          },
          {
           "key": 0,
           "length": 1,
           "op": "removerange"
          }
         ],
         "key": "end_time",
         "op": "patch"
        },
        {
         "diff": [
          {
           "key": 0,
           "op": "addrange",
           "valuelist": [
            "2024-05-16T14:59:23.818903Z"
           ]
          },
          {
           "key": 0,
           "length": 1,
           "op": "removerange"
          }
         ],
         "key": "start_time",
         "op": "patch"
        }
       ],
       "key": "ExecuteTime",
       "op": "patch"
      }
     ],
     "remote_diff": [
      {
       "key": "ExecuteTime",
       "op": "remove"
      }
     ]
    },
    "ExecuteTime": {
     "end_time": "2024-05-20T13:29:56.647286Z",
     "start_time": "2024-05-20T13:29:56.501222Z"
    }
   },
   "source": [
    "adventureworks_conn, adventureworks_engine = create_connection(DB[\"servername\"], DB[\"adventureworks_database\"])"
   ],
   "outputs": [
    {
     "name": "stdout",
     "output_type": "stream",
     "text": [
      "Connection to AdventureWorks2019 database successful\n"
     ]
    }
   ],
   "execution_count": 96
  },
  {
   "cell_type": "markdown",
   "id": "dd31b9f74a9313d9",
   "metadata": {},
   "source": [
    "#### Loading data"
   ]
  },
  {
   "cell_type": "code",
   "id": "95d9b1664c99e3c3",
   "metadata": {
    "nbdime-conflicts": {
     "local_diff": [
      {
       "diff": [
        {
         "diff": [
          {
           "key": 0,
           "op": "addrange",
           "valuelist": [
            "2024-05-16T14:59:23.851079Z"
           ]
          },
          {
           "key": 0,
           "length": 1,
           "op": "removerange"
          }
         ],
         "key": "end_time",
         "op": "patch"
        },
        {
         "diff": [
          {
           "key": 0,
           "op": "addrange",
           "valuelist": [
            "2024-05-16T14:59:23.833107Z"
           ]
          },
          {
           "key": 0,
           "length": 1,
           "op": "removerange"
          }
         ],
         "key": "start_time",
         "op": "patch"
        }
       ],
       "key": "ExecuteTime",
       "op": "patch"
      }
     ],
     "remote_diff": [
      {
       "key": "ExecuteTime",
       "op": "remove"
      }
     ]
    },
    "ExecuteTime": {
     "end_time": "2024-05-20T13:29:56.831075Z",
     "start_time": "2024-05-20T13:29:56.649302Z"
    }
   },
   "source": [
    "adventureworks_humanresources_department = pd.read_sql('SELECT * FROM HumanResources.Department', adventureworks_conn)\n",
    "adventureworks_humanresources_employee = pd.read_sql('SELECT * FROM HumanResources.Employee', adventureworks_conn)\n",
    "adventureworks_humanresources_employeedepartmenthistory = pd.read_sql('SELECT * FROM HumanResources.EmployeeDepartmentHistory', adventureworks_conn)\n",
    "adventureworks_humanresources_employeepayhistory = pd.read_sql('SELECT * FROM HumanResources.EmployeePayHistory', adventureworks_conn)\n",
    "adventureworks_humanresources_jobcandidate = pd.read_sql('SELECT * FROM HumanResources.JobCandidate', adventureworks_conn)\n",
    "adventureworks_humanresources_shift = pd.read_sql('SELECT * FROM HumanResources.Shift', adventureworks_conn)"
   ],
   "outputs": [],
   "execution_count": 97
  },
  {
   "cell_type": "code",
   "id": "3b2754e5926d99e6",
   "metadata": {
    "nbdime-conflicts": {
     "local_diff": [
      {
       "diff": [
        {
         "diff": [
          {
           "key": 0,
           "op": "addrange",
           "valuelist": [
            "2024-05-16T14:59:24.585815Z"
           ]
          },
          {
           "key": 0,
           "length": 1,
           "op": "removerange"
          }
         ],
         "key": "end_time",
         "op": "patch"
        },
        {
         "diff": [
          {
           "key": 0,
           "op": "addrange",
           "valuelist": [
            "2024-05-16T14:59:23.853583Z"
           ]
          },
          {
           "key": 0,
           "length": 1,
           "op": "removerange"
          }
         ],
         "key": "start_time",
         "op": "patch"
        }
       ],
       "key": "ExecuteTime",
       "op": "patch"
      }
     ],
     "remote_diff": [
      {
       "key": "ExecuteTime",
       "op": "remove"
      }
     ]
    },
    "ExecuteTime": {
     "end_time": "2024-05-20T13:29:59.636598Z",
     "start_time": "2024-05-20T13:29:56.834116Z"
    }
   },
   "source": [
    "adventureworks_person_address = pd.read_sql('SELECT AddressID, AddressLine1, AddressLine2, City, StateProvinceID, PostalCode, CAST(SpatialLocation AS VARCHAR(MAX)) AS SpatialLocation,rowguid, ModifiedDate   FROM Person.Address', adventureworks_conn)\n",
    "adventureworks_person_address_type = pd.read_sql('SELECT * FROM Person.AddressType', adventureworks_conn)\n",
    "adventureworks_person_businessentity = pd.read_sql('SELECT * FROM Person.BusinessEntity', adventureworks_conn)\n",
    "adventureworks_person_businessentityaddress = pd.read_sql('SELECT * FROM Person.BusinessEntityAddress', adventureworks_conn)\n",
    "adventureworks_person_businessentitycontact = pd.read_sql('SELECT * FROM Person.BusinessEntityContact', adventureworks_conn)\n",
    "adventureworks_person_contacttype = pd.read_sql('SELECT * FROM Person.ContactType', adventureworks_conn)\n",
    "adventureworks_person_countryregion = pd.read_sql('SELECT * FROM Person.CountryRegion', adventureworks_conn)\n",
    "adventureworks_person_emailaddress = pd.read_sql('SELECT * FROM Person.EmailAddress', adventureworks_conn)\n",
    "adventureworks_person_password = pd.read_sql('SELECT * FROM Person.Password', adventureworks_conn)\n",
    "adventureworks_person_person = pd.read_sql('SELECT * FROM Person.Person', adventureworks_conn)\n",
    "adventureworks_person_personphone = pd.read_sql('SELECT * FROM Person.PersonPhone', adventureworks_conn)\n",
    "adventureworks_person_phonenumbertype = pd.read_sql('SELECT * FROM Person.PhoneNumberType', adventureworks_conn)\n",
    "adventureworks_person_stateprovince = pd.read_sql('SELECT * FROM Person.StateProvince', adventureworks_conn)"
   ],
   "outputs": [],
   "execution_count": 98
  },
  {
   "cell_type": "code",
   "id": "b9cf2209b4fc16a4",
   "metadata": {
    "nbdime-conflicts": {
     "local_diff": [
      {
       "diff": [
        {
         "diff": [
          {
           "key": 0,
           "op": "addrange",
           "valuelist": [
            "2024-05-16T14:59:27.019951Z"
           ]
          },
          {
           "key": 0,
           "length": 1,
           "op": "removerange"
          }
         ],
         "key": "end_time",
         "op": "patch"
        },
        {
         "diff": [
          {
           "key": 0,
           "op": "addrange",
           "valuelist": [
            "2024-05-16T14:59:24.586322Z"
           ]
          },
          {
           "key": 0,
           "length": 1,
           "op": "removerange"
          }
         ],
         "key": "start_time",
         "op": "patch"
        }
       ],
       "key": "ExecuteTime",
       "op": "patch"
      }
     ],
     "remote_diff": [
      {
       "key": "ExecuteTime",
       "op": "remove"
      }
     ]
    },
    "ExecuteTime": {
     "end_time": "2024-05-20T13:30:04.413481Z",
     "start_time": "2024-05-20T13:29:59.642613Z"
    }
   },
   "source": [
    "adventureworks_production_bill_of_materials = pd.read_sql('SELECT * FROM Production.BillOfMaterials', adventureworks_conn)\n",
    "adventureworks_production_culture = pd.read_sql('SELECT * FROM Production.Culture', adventureworks_conn)\n",
    "adventureworks_production_document = pd.read_sql('SELECT * FROM Production.Document', adventureworks_conn)\n",
    "adventureworks_production_illustration = pd.read_sql('SELECT * FROM Production.Illustration', adventureworks_conn)\n",
    "adventureworks_production_location = pd.read_sql('SELECT * FROM Production.Location', adventureworks_conn)\n",
    "adventureworks_production_product = pd.read_sql('SELECT * FROM Production.Product', adventureworks_conn)\n",
    "adventureworks_production_productcategory = pd.read_sql('SELECT * FROM Production.ProductCategory', adventureworks_conn)\n",
    "adventureworks_production_productcosthistory = pd.read_sql('SELECT * FROM Production.ProductCostHistory', adventureworks_conn)\n",
    "adventureworks_production_productdescription = pd.read_sql('SELECT * FROM Production.ProductDescription', adventureworks_conn)\n",
    "adventureworks_production_productdocument = pd.read_sql('SELECT * , CAST(DocumentNode AS VARCHAR(MAX)) AS DocumentNodeString  FROM Production.ProductDocument', adventureworks_conn)\n",
    "adventureworks_production_productinventory = pd.read_sql('SELECT * FROM Production.ProductInventory', adventureworks_conn)\n",
    "adventureworks_production_productlistpricehistory = pd.read_sql('SELECT * FROM Production.ProductListPriceHistory', adventureworks_conn)\n",
    "adventureworks_production_productmodel = pd.read_sql('SELECT * FROM Production.ProductModel', adventureworks_conn)\n",
    "adventureworks_production_productmodelillustration = pd.read_sql('SELECT * FROM Production.ProductModelIllustration', adventureworks_conn)\n",
    "adventureworks_production_productmodelproductdescriptionculture = pd.read_sql('SELECT * FROM Production.ProductModelProductDescriptionCulture', adventureworks_conn)\n",
    "adventureworks_production_productphoto = pd.read_sql('SELECT ProductPhotoID, CONVERT(VARCHAR(MAX),ThumbNailPhoto, 1) as ThumbNailPhotoHexString, ThumbNailPhotoFileName, CONVERT(VARCHAR(MAX), LargePhoto, 1) as LargePhotoHexString, LargePhotoFileName, ModifiedDate FROM Production.ProductPhoto', adventureworks_conn)\n",
    "adventureworks_production_productproductphoto = pd.read_sql('SELECT * FROM Production.ProductProductPhoto', adventureworks_conn)\n",
    "adventureworks_production_productreview = pd.read_sql('SELECT * FROM Production.ProductReview', adventureworks_conn)\n",
    "adventureworks_production_productsubcategory = pd.read_sql('SELECT * FROM Production.ProductSubcategory', adventureworks_conn)\n",
    "adventureworks_production_scrapreason = pd.read_sql('SELECT * FROM Production.ScrapReason', adventureworks_conn)\n",
    "adventureworks_production_transactionhistory = pd.read_sql('SELECT * FROM Production.TransactionHistory', adventureworks_conn)\n",
    "adventureworks_production_transactionhistoryarchive = pd.read_sql('SELECT * FROM Production.TransactionHistoryArchive', adventureworks_conn)\n",
    "adventureworks_production_unitmeasure = pd.read_sql('SELECT * FROM Production.UnitMeasure', adventureworks_conn)\n",
    "adventureworks_production_workorder = pd.read_sql('SELECT * FROM Production.WorkOrder', adventureworks_conn)\n",
    "adventureworks_production_workorderrouting = pd.read_sql('SELECT * FROM Production.WorkOrderRouting', adventureworks_conn)"
   ],
   "outputs": [],
   "execution_count": 99
  },
  {
   "cell_type": "code",
   "id": "a05635e1acca8623",
   "metadata": {
    "nbdime-conflicts": {
     "local_diff": [
      {
       "diff": [
        {
         "diff": [
          {
           "key": 0,
           "op": "addrange",
           "valuelist": [
            "2024-05-16T14:59:27.177266Z"
           ]
          },
          {
           "key": 0,
           "length": 1,
           "op": "removerange"
          }
         ],
         "key": "end_time",
         "op": "patch"
        },
        {
         "diff": [
          {
           "key": 0,
           "op": "addrange",
           "valuelist": [
            "2024-05-16T14:59:27.020456Z"
           ]
          },
          {
           "key": 0,
           "length": 1,
           "op": "removerange"
          }
         ],
         "key": "start_time",
         "op": "patch"
        }
       ],
       "key": "ExecuteTime",
       "op": "patch"
      }
     ],
     "remote_diff": [
      {
       "key": "ExecuteTime",
       "op": "remove"
      }
     ]
    },
    "ExecuteTime": {
     "end_time": "2024-05-20T13:30:04.696260Z",
     "start_time": "2024-05-20T13:30:04.413481Z"
    }
   },
   "source": [
    "adventureworks_purchasing_productvendor = pd.read_sql('SELECT * FROM Purchasing.ProductVendor', adventureworks_conn)\n",
    "adventureworks_purchasing_purchaseorderdetail = pd.read_sql('SELECT * FROM Purchasing.PurchaseOrderDetail', adventureworks_conn)\n",
    "adventureworks_purchasing_purchaseorderheader = pd.read_sql('SELECT * FROM Purchasing.PurchaseOrderHeader', adventureworks_conn)\n",
    "adventureworks_purchasing_shipmethod = pd.read_sql('SELECT * FROM Purchasing.ShipMethod', adventureworks_conn)\n",
    "adventureworks_purchasing_vendor = pd.read_sql('SELECT * FROM Purchasing.Vendor', adventureworks_conn)"
   ],
   "outputs": [],
   "execution_count": 100
  },
  {
   "cell_type": "code",
   "id": "d85ccde07f7a7d22",
   "metadata": {
    "nbdime-conflicts": {
     "local_diff": [
      {
       "diff": [
        {
         "diff": [
          {
           "key": 0,
           "op": "addrange",
           "valuelist": [
            "2024-05-16T14:59:29.286789Z"
           ]
          },
          {
           "key": 0,
           "length": 1,
           "op": "removerange"
          }
         ],
         "key": "end_time",
         "op": "patch"
        },
        {
         "diff": [
          {
           "key": 0,
           "op": "addrange",
           "valuelist": [
            "2024-05-16T14:59:27.177771Z"
           ]
          },
          {
           "key": 0,
           "length": 1,
           "op": "removerange"
          }
         ],
         "key": "start_time",
         "op": "patch"
        }
       ],
       "key": "ExecuteTime",
       "op": "patch"
      }
     ],
     "remote_diff": [
      {
       "key": "ExecuteTime",
       "op": "remove"
      }
     ]
    },
    "ExecuteTime": {
     "end_time": "2024-05-20T13:30:07.307907Z",
     "start_time": "2024-05-20T13:30:04.696260Z"
    }
   },
   "source": [
    "adventureworks_sales_countryregioncurrency = pd.read_sql('SELECT * FROM Sales.CountryRegionCurrency', adventureworks_conn)\n",
    "adventureworks_sales_creditcard = pd.read_sql('SELECT * FROM Sales.CreditCard', adventureworks_conn)\n",
    "adventureworks_sales_currency = pd.read_sql('SELECT * FROM Sales.Currency', adventureworks_conn)\n",
    "adventureworks_sales_currencyrate = pd.read_sql('SELECT * FROM Sales.CurrencyRate', adventureworks_conn)\n",
    "adventureworks_sales_customer = pd.read_sql('SELECT * FROM Sales.Customer', adventureworks_conn)\n",
    "adventureworks_sales_personcreditcard = pd.read_sql('SELECT * FROM Sales.PersonCreditCard', adventureworks_conn)\n",
    "adventureworks_sales_salesorderdetail = pd.read_sql('SELECT * FROM Sales.SalesOrderDetail', adventureworks_conn)\n",
    "adventureworks_sales_salesorderheader = pd.read_sql('SELECT * FROM Sales.SalesOrderHeader', adventureworks_conn)\n",
    "adventureworks_sales_salesorderhearerrsaleseason = pd.read_sql('SELECT * FROM Sales.SalesOrderHeaderSalesReason', adventureworks_conn)\n",
    "adventureworks_sales_salesperson = pd.read_sql('SELECT * FROM Sales.SalesPerson', adventureworks_conn)\n",
    "adventureworks_sales_salespersonquotahistory = pd.read_sql('SELECT * FROM Sales.SalesPersonQuotaHistory', adventureworks_conn)\n",
    "adventureworks_sales_salesreason = pd.read_sql('SELECT * FROM Sales.SalesReason', adventureworks_conn)\n",
    "adventureworks_sales_salestaxrate = pd.read_sql('SELECT * FROM Sales.SalesTaxRate', adventureworks_conn)\n",
    "adventureworks_sales_salesterritory = pd.read_sql('SELECT * FROM Sales.SalesTerritory', adventureworks_conn)\n",
    "adventureworks_sales_salesterritoryhistory = pd.read_sql('SELECT * FROM Sales.SalesTerritoryHistory', adventureworks_conn)\n",
    "adventureworks_sales_shoppingcartitem = pd.read_sql('SELECT * FROM Sales.ShoppingCartItem', adventureworks_conn)\n",
    "adventureworks_sales_specialoffer = pd.read_sql('SELECT * FROM Sales.SpecialOffer', adventureworks_conn)\n",
    "adventureworks_sales_specialofferproduct = pd.read_sql('SELECT * FROM Sales.SpecialOfferProduct', adventureworks_conn)\n",
    "adventureworks_sales_store = pd.read_sql('SELECT * FROM Sales.Store', adventureworks_conn)\n",
    "\n",
    "adventureworks_conn.close()"
   ],
   "outputs": [],
   "execution_count": 101
  },
  {
   "cell_type": "markdown",
   "id": "b05031a91d18ef67",
   "metadata": {},
   "source": [
    "## Combining the data\n",
    "ORDER MATTERS, CAUSE SURROGATE KEYS\n",
    "SK STILL NEEDS TO BE DONE"
   ]
  },
  {
   "cell_type": "markdown",
   "id": "952478cb55013351",
   "metadata": {},
   "source": [
    "### Departments\n",
    "Combining aenc and adventureworks department data"
   ]
  },
  {
   "cell_type": "code",
   "id": "1c9b32acb478d507",
   "metadata": {
    "nbdime-conflicts": {
     "local_diff": [
      {
       "diff": [
        {
         "diff": [
          {
           "key": 0,
           "op": "addrange",
           "valuelist": [
            "2024-05-16T14:59:29.301115Z"
           ]
          },
          {
           "key": 0,
           "length": 1,
           "op": "removerange"
          }
         ],
         "key": "end_time",
         "op": "patch"
        },
        {
         "diff": [
          {
           "key": 0,
           "op": "addrange",
           "valuelist": [
            "2024-05-16T14:59:29.287296Z"
           ]
          },
          {
           "key": 0,
           "length": 1,
           "op": "removerange"
          }
         ],
         "key": "start_time",
         "op": "patch"
        }
       ],
       "key": "ExecuteTime",
       "op": "patch"
      }
     ],
     "remote_diff": [
      {
       "key": "ExecuteTime",
       "op": "remove"
      }
     ]
    },
    "ExecuteTime": {
     "end_time": "2024-05-20T13:30:07.319077Z",
     "start_time": "2024-05-20T13:30:07.308924Z"
    }
   },
   "source": [
    "# adding DEPARTMENT_source_database columns to the dataframes\n",
    "aenc_department['DEPARTMENT_source_database'] = 'aenc'\n",
    "adventureworks_humanresources_department['DEPARTMENT_source_database'] = 'adventureworks'\n",
    "\n",
    "# combining all department data\n",
    "departments = pd.concat([aenc_department, adventureworks_humanresources_department], ignore_index=True)\n",
    "\n",
    "# combining name and department name columns to create a name column\n",
    "departments['DEPARTMENT_DEPARTMENT_DeptName'] = departments['Name'].combine_first(departments['dept_name'])\n",
    "# combining dept_id and DepartmentID columns\n",
    "departments['DEPARTMENT_DEPARTMENT_DeptID'] = departments['dept_id'].combine_first(departments['DepartmentID'])\n",
    "\n",
    "# dropping the redundant columns\n",
    "drop_modified_date_rowguid(departments)\n",
    "departments.drop(columns=['dept_id', 'Name', 'dept_name', 'DepartmentID'], inplace=True)\n",
    "\n",
    "# renaming the remaining columns\n",
    "departments.rename(columns={'dept_head_id': 'DEPARTMENT_DEPARTMENT_DeptHeadID', 'GroupName': 'DEPARTMENT_DEPARTMENT_GroupName'}, inplace=True)\n",
    "\n",
    "departments.head()"
   ],
   "outputs": [
    {
     "data": {
      "text/plain": [
       "   DEPARTMENT_DEPARTMENT_DeptHeadID DEPARTMENT_source_database  \\\n",
       "0                             501.0                       aenc   \n",
       "1                             902.0                       aenc   \n",
       "2                            1293.0                       aenc   \n",
       "3                            1576.0                       aenc   \n",
       "4                             703.0                       aenc   \n",
       "\n",
       "  DEPARTMENT_DEPARTMENT_GroupName DEPARTMENT_DEPARTMENT_DeptName  \\\n",
       "0                             NaN                          R & D   \n",
       "1                             NaN                          Sales   \n",
       "2                             NaN                        Finance   \n",
       "3                             NaN                      Marketing   \n",
       "4                             NaN                       Shipping   \n",
       "\n",
       "   DEPARTMENT_DEPARTMENT_DeptID  \n",
       "0                         100.0  \n",
       "1                         200.0  \n",
       "2                         300.0  \n",
       "3                         400.0  \n",
       "4                         500.0  "
      ],
      "text/html": [
       "<div>\n",
       "<style scoped>\n",
       "    .dataframe tbody tr th:only-of-type {\n",
       "        vertical-align: middle;\n",
       "    }\n",
       "\n",
       "    .dataframe tbody tr th {\n",
       "        vertical-align: top;\n",
       "    }\n",
       "\n",
       "    .dataframe thead th {\n",
       "        text-align: right;\n",
       "    }\n",
       "</style>\n",
       "<table border=\"1\" class=\"dataframe\">\n",
       "  <thead>\n",
       "    <tr style=\"text-align: right;\">\n",
       "      <th></th>\n",
       "      <th>DEPARTMENT_DEPARTMENT_DeptHeadID</th>\n",
       "      <th>DEPARTMENT_source_database</th>\n",
       "      <th>DEPARTMENT_DEPARTMENT_GroupName</th>\n",
       "      <th>DEPARTMENT_DEPARTMENT_DeptName</th>\n",
       "      <th>DEPARTMENT_DEPARTMENT_DeptID</th>\n",
       "    </tr>\n",
       "  </thead>\n",
       "  <tbody>\n",
       "    <tr>\n",
       "      <th>0</th>\n",
       "      <td>501.0</td>\n",
       "      <td>aenc</td>\n",
       "      <td>NaN</td>\n",
       "      <td>R &amp; D</td>\n",
       "      <td>100.0</td>\n",
       "    </tr>\n",
       "    <tr>\n",
       "      <th>1</th>\n",
       "      <td>902.0</td>\n",
       "      <td>aenc</td>\n",
       "      <td>NaN</td>\n",
       "      <td>Sales</td>\n",
       "      <td>200.0</td>\n",
       "    </tr>\n",
       "    <tr>\n",
       "      <th>2</th>\n",
       "      <td>1293.0</td>\n",
       "      <td>aenc</td>\n",
       "      <td>NaN</td>\n",
       "      <td>Finance</td>\n",
       "      <td>300.0</td>\n",
       "    </tr>\n",
       "    <tr>\n",
       "      <th>3</th>\n",
       "      <td>1576.0</td>\n",
       "      <td>aenc</td>\n",
       "      <td>NaN</td>\n",
       "      <td>Marketing</td>\n",
       "      <td>400.0</td>\n",
       "    </tr>\n",
       "    <tr>\n",
       "      <th>4</th>\n",
       "      <td>703.0</td>\n",
       "      <td>aenc</td>\n",
       "      <td>NaN</td>\n",
       "      <td>Shipping</td>\n",
       "      <td>500.0</td>\n",
       "    </tr>\n",
       "  </tbody>\n",
       "</table>\n",
       "</div>"
      ]
     },
     "execution_count": 102,
     "metadata": {},
     "output_type": "execute_result"
    }
   ],
   "execution_count": 102
  },
  {
   "cell_type": "markdown",
   "id": "5a1104842049cb4c",
   "metadata": {},
   "source": [
    "### BusinessEntities"
   ]
  },
  {
   "cell_type": "code",
   "id": "49faddce16b73f49",
   "metadata": {
    "nbdime-conflicts": {
     "local_diff": [
      {
       "diff": [
        {
         "diff": [
          {
           "key": 0,
           "op": "addrange",
           "valuelist": [
            "2024-05-16T14:59:29.315640Z"
           ]
          },
          {
           "key": 0,
           "length": 1,
           "op": "removerange"
          }
         ],
         "key": "end_time",
         "op": "patch"
        },
        {
         "diff": [
          {
           "key": 0,
           "op": "addrange",
           "valuelist": [
            "2024-05-16T14:59:29.301621Z"
           ]
          },
          {
           "key": 0,
           "length": 1,
           "op": "removerange"
          }
         ],
         "key": "start_time",
         "op": "patch"
        }
       ],
       "key": "ExecuteTime",
       "op": "patch"
      }
     ],
     "remote_diff": [
      {
       "key": "ExecuteTime",
       "op": "remove"
      }
     ]
    },
    "ExecuteTime": {
     "end_time": "2024-05-20T13:30:07.339270Z",
     "start_time": "2024-05-20T13:30:07.320091Z"
    }
   },
   "source": [
    "# Combining the adventureworks Person.BusinessEntity, BusinessEntityContact and ContactType data\n",
    "businessentities= pd.merge(adventureworks_person_businessentity, adventureworks_person_businessentitycontact, left_on='BusinessEntityID', right_on='BusinessEntityID', suffixes=('_person_businessentity', '_businessentitycontact'), how=\"outer\")\n",
    "\n",
    "businessentities = pd.merge(businessentities, adventureworks_person_contacttype, left_on='ContactTypeID', right_on='ContactTypeID', suffixes=('', '_contacttype'), how=\"outer\")\n",
    "\n",
    "# dropping the modified date and rowguid columns\n",
    "drop_modified_date_rowguid(businessentities)\n",
    "\n",
    "# renaming the columns\n",
    "businessentities.rename(columns={'BusinessEntityID': 'BUSINESSENTITY_BUSINESSENTITY_BusinessEntityID', 'PersonID': 'BUSINESSENTITY_BUSINESSENTITYCONTACT_PersonID', 'ContactTypeID': 'BUSINESSENTITY_CONTACTTYPE_ContactTypeID', 'Name' : 'BUSINESSENTITY_CONTACTTYPE_Name'}, inplace=True)\n",
    "\n",
    "businessentities.head()"
   ],
   "outputs": [
    {
     "data": {
      "text/plain": [
       "   BUSINESSENTITY_BUSINESSENTITY_BusinessEntityID  \\\n",
       "0                                             NaN   \n",
       "1                                          1510.0   \n",
       "2                                          1518.0   \n",
       "3                                          1522.0   \n",
       "4                                          1528.0   \n",
       "\n",
       "   BUSINESSENTITY_BUSINESSENTITYCONTACT_PersonID  \\\n",
       "0                                            NaN   \n",
       "1                                         1509.0   \n",
       "2                                         1517.0   \n",
       "3                                         1521.0   \n",
       "4                                         1527.0   \n",
       "\n",
       "   BUSINESSENTITY_CONTACTTYPE_ContactTypeID BUSINESSENTITY_CONTACTTYPE_Name  \n",
       "0                                       1.0              Accounting Manager  \n",
       "1                                       2.0           Assistant Sales Agent  \n",
       "2                                       2.0           Assistant Sales Agent  \n",
       "3                                       2.0           Assistant Sales Agent  \n",
       "4                                       2.0           Assistant Sales Agent  "
      ],
      "text/html": [
       "<div>\n",
       "<style scoped>\n",
       "    .dataframe tbody tr th:only-of-type {\n",
       "        vertical-align: middle;\n",
       "    }\n",
       "\n",
       "    .dataframe tbody tr th {\n",
       "        vertical-align: top;\n",
       "    }\n",
       "\n",
       "    .dataframe thead th {\n",
       "        text-align: right;\n",
       "    }\n",
       "</style>\n",
       "<table border=\"1\" class=\"dataframe\">\n",
       "  <thead>\n",
       "    <tr style=\"text-align: right;\">\n",
       "      <th></th>\n",
       "      <th>BUSINESSENTITY_BUSINESSENTITY_BusinessEntityID</th>\n",
       "      <th>BUSINESSENTITY_BUSINESSENTITYCONTACT_PersonID</th>\n",
       "      <th>BUSINESSENTITY_CONTACTTYPE_ContactTypeID</th>\n",
       "      <th>BUSINESSENTITY_CONTACTTYPE_Name</th>\n",
       "    </tr>\n",
       "  </thead>\n",
       "  <tbody>\n",
       "    <tr>\n",
       "      <th>0</th>\n",
       "      <td>NaN</td>\n",
       "      <td>NaN</td>\n",
       "      <td>1.0</td>\n",
       "      <td>Accounting Manager</td>\n",
       "    </tr>\n",
       "    <tr>\n",
       "      <th>1</th>\n",
       "      <td>1510.0</td>\n",
       "      <td>1509.0</td>\n",
       "      <td>2.0</td>\n",
       "      <td>Assistant Sales Agent</td>\n",
       "    </tr>\n",
       "    <tr>\n",
       "      <th>2</th>\n",
       "      <td>1518.0</td>\n",
       "      <td>1517.0</td>\n",
       "      <td>2.0</td>\n",
       "      <td>Assistant Sales Agent</td>\n",
       "    </tr>\n",
       "    <tr>\n",
       "      <th>3</th>\n",
       "      <td>1522.0</td>\n",
       "      <td>1521.0</td>\n",
       "      <td>2.0</td>\n",
       "      <td>Assistant Sales Agent</td>\n",
       "    </tr>\n",
       "    <tr>\n",
       "      <th>4</th>\n",
       "      <td>1528.0</td>\n",
       "      <td>1527.0</td>\n",
       "      <td>2.0</td>\n",
       "      <td>Assistant Sales Agent</td>\n",
       "    </tr>\n",
       "  </tbody>\n",
       "</table>\n",
       "</div>"
      ]
     },
     "execution_count": 103,
     "metadata": {},
     "output_type": "execute_result"
    }
   ],
   "execution_count": 103
  },
  {
   "cell_type": "markdown",
   "id": "d61f4db888316c68",
   "metadata": {},
   "source": [
    "### BusinessEntityAddresses"
   ]
  },
  {
   "cell_type": "code",
   "id": "ec5238c4bd67fbac",
   "metadata": {
    "nbdime-conflicts": {
     "local_diff": [
      {
       "diff": [
        {
         "diff": [
          {
           "key": 0,
           "op": "addrange",
           "valuelist": [
            "2024-05-16T14:59:29.339778Z"
           ]
          },
          {
           "key": 0,
           "length": 1,
           "op": "removerange"
          }
         ],
         "key": "end_time",
         "op": "patch"
        },
        {
         "diff": [
          {
           "key": 0,
           "op": "addrange",
           "valuelist": [
            "2024-05-16T14:59:29.316147Z"
           ]
          },
          {
           "key": 0,
           "length": 1,
           "op": "removerange"
          }
         ],
         "key": "start_time",
         "op": "patch"
        }
       ],
       "key": "ExecuteTime",
       "op": "patch"
      }
     ],
     "remote_diff": [
      {
       "key": "ExecuteTime",
       "op": "remove"
      }
     ]
    },
    "ExecuteTime": {
     "end_time": "2024-05-20T13:30:07.370314Z",
     "start_time": "2024-05-20T13:30:07.339270Z"
    }
   },
   "source": [
    "# Combining the adventureworks Person.BusinessEntityAddress, Address and AddressType data\n",
    "businessentityaddresses = pd.merge(adventureworks_person_businessentityaddress, adventureworks_person_address, left_on='AddressID', right_on='AddressID', suffixes=('', '_address'), how=\"outer\")\n",
    "\n",
    "businessentityaddresses = pd.merge(businessentityaddresses, adventureworks_person_address_type, left_on='AddressTypeID', right_on='AddressTypeID', suffixes=('', '_address_type'), how=\"outer\")\n",
    "\n",
    "\n",
    "# dropping the modified date and rowguid columns\n",
    "drop_modified_date_rowguid(businessentityaddresses)\n",
    "\n",
    "# renaming the columns\n",
    "businessentityaddresses.rename(columns={'BusinessEntityID': 'BUSINESSENTITYADDRESS_BUSINESSENTITYADDRESS_BusinessEntityID', 'AddressID': 'BUSINESSENTITYADDRESS_ADDRESS_AddressID', 'AddressTypeID': 'BUSINESSENTITYADDRESS_ADDRESSTYPE_AddressTypeID', 'AddressLine1' : 'BUSINESSENTITYADDRESS_ADDRESS_AddressLine1', 'AddressLine2' : 'BUSINESSENTITYADDRESS_ADDRESS_AddressLine2', 'City' : 'BUSINESSENTITYADDRESS_ADDRESS_City', 'StateProvinceID' : 'BUSINESSENTITYADDRESS_ADDRESS_StateProvinceID', 'PostalCode' : 'BUSINESSENTITYADDRESS_ADDRESS_POSTALCODE', 'SpatialLocation' : 'BUSINESSENTITYADDRESS_ADDRESS_SpatialLocation', 'Name' : 'BUSINESSENTITYADDRESS_ADDRESSTYPE_Name'}, inplace=True)\n",
    "\n",
    "businessentityaddresses.head()"
   ],
   "outputs": [
    {
     "data": {
      "text/plain": [
       "   BUSINESSENTITYADDRESS_BUSINESSENTITYADDRESS_BusinessEntityID  \\\n",
       "0                                                NaN              \n",
       "1                                               12.0              \n",
       "2                                              123.0              \n",
       "3                                              285.0              \n",
       "4                                              251.0              \n",
       "\n",
       "   BUSINESSENTITYADDRESS_ADDRESS_AddressID  \\\n",
       "0                                      NaN   \n",
       "1                                      1.0   \n",
       "2                                      2.0   \n",
       "3                                      3.0   \n",
       "4                                      4.0   \n",
       "\n",
       "   BUSINESSENTITYADDRESS_ADDRESSTYPE_AddressTypeID  \\\n",
       "0                                                1   \n",
       "1                                                2   \n",
       "2                                                2   \n",
       "3                                                2   \n",
       "4                                                2   \n",
       "\n",
       "  BUSINESSENTITYADDRESS_ADDRESS_AddressLine1  \\\n",
       "0                                        NaN   \n",
       "1                              1970 Napa Ct.   \n",
       "2                         9833 Mt. Dias Blv.   \n",
       "3                       7484 Roundtree Drive   \n",
       "4                           9539 Glenside Dr   \n",
       "\n",
       "  BUSINESSENTITYADDRESS_ADDRESS_AddressLine2  \\\n",
       "0                                        NaN   \n",
       "1                                       None   \n",
       "2                                       None   \n",
       "3                                       None   \n",
       "4                                       None   \n",
       "\n",
       "  BUSINESSENTITYADDRESS_ADDRESS_City  \\\n",
       "0                                NaN   \n",
       "1                            Bothell   \n",
       "2                            Bothell   \n",
       "3                            Bothell   \n",
       "4                            Bothell   \n",
       "\n",
       "   BUSINESSENTITYADDRESS_ADDRESS_StateProvinceID  \\\n",
       "0                                            NaN   \n",
       "1                                           79.0   \n",
       "2                                           79.0   \n",
       "3                                           79.0   \n",
       "4                                           79.0   \n",
       "\n",
       "  BUSINESSENTITYADDRESS_ADDRESS_POSTALCODE  \\\n",
       "0                                      NaN   \n",
       "1                                    98011   \n",
       "2                                    98011   \n",
       "3                                    98011   \n",
       "4                                    98011   \n",
       "\n",
       "  BUSINESSENTITYADDRESS_ADDRESS_SpatialLocation  \\\n",
       "0                                           NaN   \n",
       "1    POINT (-122.164644615406 47.7869921906598)   \n",
       "2    POINT (-122.250185528911 47.6867097047995)   \n",
       "3    POINT (-122.274625789912 47.7631154083121)   \n",
       "4    POINT (-122.335726442416 47.7392386259644)   \n",
       "\n",
       "  BUSINESSENTITYADDRESS_ADDRESSTYPE_Name  \n",
       "0                                Billing  \n",
       "1                                   Home  \n",
       "2                                   Home  \n",
       "3                                   Home  \n",
       "4                                   Home  "
      ],
      "text/html": [
       "<div>\n",
       "<style scoped>\n",
       "    .dataframe tbody tr th:only-of-type {\n",
       "        vertical-align: middle;\n",
       "    }\n",
       "\n",
       "    .dataframe tbody tr th {\n",
       "        vertical-align: top;\n",
       "    }\n",
       "\n",
       "    .dataframe thead th {\n",
       "        text-align: right;\n",
       "    }\n",
       "</style>\n",
       "<table border=\"1\" class=\"dataframe\">\n",
       "  <thead>\n",
       "    <tr style=\"text-align: right;\">\n",
       "      <th></th>\n",
       "      <th>BUSINESSENTITYADDRESS_BUSINESSENTITYADDRESS_BusinessEntityID</th>\n",
       "      <th>BUSINESSENTITYADDRESS_ADDRESS_AddressID</th>\n",
       "      <th>BUSINESSENTITYADDRESS_ADDRESSTYPE_AddressTypeID</th>\n",
       "      <th>BUSINESSENTITYADDRESS_ADDRESS_AddressLine1</th>\n",
       "      <th>BUSINESSENTITYADDRESS_ADDRESS_AddressLine2</th>\n",
       "      <th>BUSINESSENTITYADDRESS_ADDRESS_City</th>\n",
       "      <th>BUSINESSENTITYADDRESS_ADDRESS_StateProvinceID</th>\n",
       "      <th>BUSINESSENTITYADDRESS_ADDRESS_POSTALCODE</th>\n",
       "      <th>BUSINESSENTITYADDRESS_ADDRESS_SpatialLocation</th>\n",
       "      <th>BUSINESSENTITYADDRESS_ADDRESSTYPE_Name</th>\n",
       "    </tr>\n",
       "  </thead>\n",
       "  <tbody>\n",
       "    <tr>\n",
       "      <th>0</th>\n",
       "      <td>NaN</td>\n",
       "      <td>NaN</td>\n",
       "      <td>1</td>\n",
       "      <td>NaN</td>\n",
       "      <td>NaN</td>\n",
       "      <td>NaN</td>\n",
       "      <td>NaN</td>\n",
       "      <td>NaN</td>\n",
       "      <td>NaN</td>\n",
       "      <td>Billing</td>\n",
       "    </tr>\n",
       "    <tr>\n",
       "      <th>1</th>\n",
       "      <td>12.0</td>\n",
       "      <td>1.0</td>\n",
       "      <td>2</td>\n",
       "      <td>1970 Napa Ct.</td>\n",
       "      <td>None</td>\n",
       "      <td>Bothell</td>\n",
       "      <td>79.0</td>\n",
       "      <td>98011</td>\n",
       "      <td>POINT (-122.164644615406 47.7869921906598)</td>\n",
       "      <td>Home</td>\n",
       "    </tr>\n",
       "    <tr>\n",
       "      <th>2</th>\n",
       "      <td>123.0</td>\n",
       "      <td>2.0</td>\n",
       "      <td>2</td>\n",
       "      <td>9833 Mt. Dias Blv.</td>\n",
       "      <td>None</td>\n",
       "      <td>Bothell</td>\n",
       "      <td>79.0</td>\n",
       "      <td>98011</td>\n",
       "      <td>POINT (-122.250185528911 47.6867097047995)</td>\n",
       "      <td>Home</td>\n",
       "    </tr>\n",
       "    <tr>\n",
       "      <th>3</th>\n",
       "      <td>285.0</td>\n",
       "      <td>3.0</td>\n",
       "      <td>2</td>\n",
       "      <td>7484 Roundtree Drive</td>\n",
       "      <td>None</td>\n",
       "      <td>Bothell</td>\n",
       "      <td>79.0</td>\n",
       "      <td>98011</td>\n",
       "      <td>POINT (-122.274625789912 47.7631154083121)</td>\n",
       "      <td>Home</td>\n",
       "    </tr>\n",
       "    <tr>\n",
       "      <th>4</th>\n",
       "      <td>251.0</td>\n",
       "      <td>4.0</td>\n",
       "      <td>2</td>\n",
       "      <td>9539 Glenside Dr</td>\n",
       "      <td>None</td>\n",
       "      <td>Bothell</td>\n",
       "      <td>79.0</td>\n",
       "      <td>98011</td>\n",
       "      <td>POINT (-122.335726442416 47.7392386259644)</td>\n",
       "      <td>Home</td>\n",
       "    </tr>\n",
       "  </tbody>\n",
       "</table>\n",
       "</div>"
      ]
     },
     "execution_count": 104,
     "metadata": {},
     "output_type": "execute_result"
    }
   ],
   "execution_count": 104
  },
  {
   "cell_type": "markdown",
   "id": "82b616d849111263",
   "metadata": {},
   "source": [
    "### People"
   ]
  },
  {
   "cell_type": "code",
   "id": "f69f5dd65aadcd8a",
   "metadata": {
    "nbdime-conflicts": {
     "local_diff": [
      {
       "diff": [
        {
         "diff": [
          {
           "key": 0,
           "op": "addrange",
           "valuelist": [
            "2024-05-16T14:59:29.381635Z"
           ]
          },
          {
           "key": 0,
           "length": 1,
           "op": "removerange"
          }
         ],
         "key": "end_time",
         "op": "patch"
        },
        {
         "diff": [
          {
           "diff": [
            {
             "key": 11,
             "op": "addrange",
             "valuelist": "14:5"
            },
            {
             "key": 11,
             "length": 1,
             "op": "removerange"
            },
            {
             "key": 14,
             "length": 3,
             "op": "removerange"
            },
            {
             "key": 18,
             "op": "addrange",
             "valuelist": "9"
            },
            {
             "key": 18,
             "length": 1,
             "op": "removerange"
            },
            {
             "key": 20,
             "length": 1,
             "op": "removerange"
            },
            {
             "key": 22,
             "length": 1,
             "op": "removerange"
            },
            {
             "key": 25,
             "op": "addrange",
             "valuelist": "285"
            },
            {
             "key": 25,
             "length": 1,
             "op": "removerange"
            }
           ],
           "key": 0,
           "op": "patch"
          }
         ],
         "key": "start_time",
         "op": "patch"
        }
       ],
       "key": "ExecuteTime",
       "op": "patch"
      }
     ],
     "remote_diff": [
      {
       "key": "ExecuteTime",
       "op": "remove"
      }
     ]
    },
    "ExecuteTime": {
     "end_time": "2024-05-20T13:30:07.422350Z",
     "start_time": "2024-05-20T13:30:07.371320Z"
    }
   },
   "source": [
    "# combining person data from adventureworks HumanResources.Person, PersonPhone, PhoneNumberType, EmailAddress and Password\n",
    "people = pd.merge(adventureworks_person_person, adventureworks_person_personphone, left_on='BusinessEntityID', right_on='BusinessEntityID', suffixes= ('_person', '_personphone'), how=\"outer\")\n",
    "\n",
    "people = pd.merge(people, adventureworks_person_phonenumbertype, left_on='PhoneNumberTypeID', right_on='PhoneNumberTypeID', suffixes=('', '_phonenumbertype'), how=\"outer\")\n",
    "\n",
    "people = pd.merge(people, adventureworks_person_emailaddress, left_on='BusinessEntityID', right_on='BusinessEntityID', suffixes=('','_emailaddress'), how=\"outer\")\n",
    "\n",
    "people = pd.merge(people, adventureworks_person_password, left_on='BusinessEntityID', right_on='BusinessEntityID', suffixes=('','_password'), how=\"outer\")\n",
    "\n",
    "# dropping the modified date and rowguid columns\n",
    "drop_modified_date_rowguid(people)\n",
    "\n",
    "# renaming the columns\n",
    "people.rename(columns={'BusinessEntityID': 'PERSON_PERSON_BusinessEntityID', 'PersonType': 'PERSON_PERSON_PersonType', 'NameStyle': 'PERSON_PERSON_NameStyle', 'Title': 'PERSON_PERSON_Title', 'FirstName': 'PERSON_PERSON_FirstName', 'MiddleName' : 'PERSON_PERSON_MiddleName', 'LastName' : 'PERSON_PERSON_LastName', 'Suffix': 'PERSON_PERSON_Suffix', 'EmailPromotion' : 'PERSON_PERSON_EmailPromotion', 'AdditionalContactInfo' : 'PERSON_PERSON_AdditionalContactInfo', 'Demographics' : 'PERSON_PERSON_Demographics', 'PhoneNumber' : 'PERSON_PERSONPHONE_PhoneNumber', 'PhoneNumberTypeID' : 'PERSON_PHONENUMBERTYPE_PhoneNumberTypeID', 'Name' : 'PERSON_PHONENUMBERTYPE_Name', 'EmailAddressID': 'PERSON_EMAILADDRESS_EmailAddressID', 'EmailAddress' : 'PERSON_EMAILADDRESS_EmailAddress', 'PasswordHash' : 'PERSON_PASSWORD_PasswordHash', 'PasswordSalt' : 'PERSON_PASSWORD_PasswordSalt'}, inplace=True)\n",
    "\n",
    "people.head()"
   ],
   "outputs": [
    {
     "data": {
      "text/plain": [
       "   PERSON_PERSON_BusinessEntityID PERSON_PERSON_PersonType  \\\n",
       "0                               1                       EM   \n",
       "1                               2                       EM   \n",
       "2                               3                       EM   \n",
       "3                               4                       EM   \n",
       "4                               5                       EM   \n",
       "\n",
       "   PERSON_PERSON_NameStyle PERSON_PERSON_Title PERSON_PERSON_FirstName  \\\n",
       "0                    False                None                     Ken   \n",
       "1                    False                None                   Terri   \n",
       "2                    False                None                 Roberto   \n",
       "3                    False                None                     Rob   \n",
       "4                    False                 Ms.                    Gail   \n",
       "\n",
       "  PERSON_PERSON_MiddleName PERSON_PERSON_LastName PERSON_PERSON_Suffix  \\\n",
       "0                        J                Sánchez                 None   \n",
       "1                      Lee                  Duffy                 None   \n",
       "2                     None             Tamburello                 None   \n",
       "3                     None                Walters                 None   \n",
       "4                        A               Erickson                 None   \n",
       "\n",
       "   PERSON_PERSON_EmailPromotion PERSON_PERSON_AdditionalContactInfo  \\\n",
       "0                             0                                None   \n",
       "1                             1                                None   \n",
       "2                             0                                None   \n",
       "3                             0                                None   \n",
       "4                             0                                None   \n",
       "\n",
       "                          PERSON_PERSON_Demographics  \\\n",
       "0  <IndividualSurvey xmlns=\"http://schemas.micros...   \n",
       "1  <IndividualSurvey xmlns=\"http://schemas.micros...   \n",
       "2  <IndividualSurvey xmlns=\"http://schemas.micros...   \n",
       "3  <IndividualSurvey xmlns=\"http://schemas.micros...   \n",
       "4  <IndividualSurvey xmlns=\"http://schemas.micros...   \n",
       "\n",
       "  PERSON_PERSONPHONE_PhoneNumber  PERSON_PHONENUMBERTYPE_PhoneNumberTypeID  \\\n",
       "0                   697-555-0142                                         1   \n",
       "1                   819-555-0175                                         3   \n",
       "2                   212-555-0187                                         1   \n",
       "3                   612-555-0100                                         1   \n",
       "4                   849-555-0139                                         1   \n",
       "\n",
       "  PERSON_PHONENUMBERTYPE_Name  PERSON_EMAILADDRESS_EmailAddressID  \\\n",
       "0                        Cell                                   1   \n",
       "1                        Work                                   2   \n",
       "2                        Cell                                   3   \n",
       "3                        Cell                                   4   \n",
       "4                        Cell                                   5   \n",
       "\n",
       "  PERSON_EMAILADDRESS_EmailAddress  \\\n",
       "0         ken0@adventure-works.com   \n",
       "1       terri0@adventure-works.com   \n",
       "2     roberto0@adventure-works.com   \n",
       "3         rob0@adventure-works.com   \n",
       "4        gail0@adventure-works.com   \n",
       "\n",
       "                   PERSON_PASSWORD_PasswordHash PERSON_PASSWORD_PasswordSalt  \n",
       "0  pbFwXWE99vobT6g+vPWFy93NtUU/orrIWafF01hccfM=                     bE3XiWw=  \n",
       "1  bawRVNrZQYQ05qF05Gz6VLilnviZmrqBReTTAGAudm0=                     EjJaC3U=  \n",
       "2  8BUXrZfDqO1IyHCWOYzYmqN1IhTUn3CJMpdx/UCQ3iY=                     wbPZqMw=  \n",
       "3  SjLXpiarHSlz+6AG+H+4QpB/IPRzras/+9q/5Wr7tf8=                     PwSunQU=  \n",
       "4  8FYdAiY6gWuBsgjCFdg0UibtsqOcWHf9TyaHIP7+paA=                     qYhZRiM=  "
      ],
      "text/html": [
       "<div>\n",
       "<style scoped>\n",
       "    .dataframe tbody tr th:only-of-type {\n",
       "        vertical-align: middle;\n",
       "    }\n",
       "\n",
       "    .dataframe tbody tr th {\n",
       "        vertical-align: top;\n",
       "    }\n",
       "\n",
       "    .dataframe thead th {\n",
       "        text-align: right;\n",
       "    }\n",
       "</style>\n",
       "<table border=\"1\" class=\"dataframe\">\n",
       "  <thead>\n",
       "    <tr style=\"text-align: right;\">\n",
       "      <th></th>\n",
       "      <th>PERSON_PERSON_BusinessEntityID</th>\n",
       "      <th>PERSON_PERSON_PersonType</th>\n",
       "      <th>PERSON_PERSON_NameStyle</th>\n",
       "      <th>PERSON_PERSON_Title</th>\n",
       "      <th>PERSON_PERSON_FirstName</th>\n",
       "      <th>PERSON_PERSON_MiddleName</th>\n",
       "      <th>PERSON_PERSON_LastName</th>\n",
       "      <th>PERSON_PERSON_Suffix</th>\n",
       "      <th>PERSON_PERSON_EmailPromotion</th>\n",
       "      <th>PERSON_PERSON_AdditionalContactInfo</th>\n",
       "      <th>PERSON_PERSON_Demographics</th>\n",
       "      <th>PERSON_PERSONPHONE_PhoneNumber</th>\n",
       "      <th>PERSON_PHONENUMBERTYPE_PhoneNumberTypeID</th>\n",
       "      <th>PERSON_PHONENUMBERTYPE_Name</th>\n",
       "      <th>PERSON_EMAILADDRESS_EmailAddressID</th>\n",
       "      <th>PERSON_EMAILADDRESS_EmailAddress</th>\n",
       "      <th>PERSON_PASSWORD_PasswordHash</th>\n",
       "      <th>PERSON_PASSWORD_PasswordSalt</th>\n",
       "    </tr>\n",
       "  </thead>\n",
       "  <tbody>\n",
       "    <tr>\n",
       "      <th>0</th>\n",
       "      <td>1</td>\n",
       "      <td>EM</td>\n",
       "      <td>False</td>\n",
       "      <td>None</td>\n",
       "      <td>Ken</td>\n",
       "      <td>J</td>\n",
       "      <td>Sánchez</td>\n",
       "      <td>None</td>\n",
       "      <td>0</td>\n",
       "      <td>None</td>\n",
       "      <td>&lt;IndividualSurvey xmlns=\"http://schemas.micros...</td>\n",
       "      <td>697-555-0142</td>\n",
       "      <td>1</td>\n",
       "      <td>Cell</td>\n",
       "      <td>1</td>\n",
       "      <td>ken0@adventure-works.com</td>\n",
       "      <td>pbFwXWE99vobT6g+vPWFy93NtUU/orrIWafF01hccfM=</td>\n",
       "      <td>bE3XiWw=</td>\n",
       "    </tr>\n",
       "    <tr>\n",
       "      <th>1</th>\n",
       "      <td>2</td>\n",
       "      <td>EM</td>\n",
       "      <td>False</td>\n",
       "      <td>None</td>\n",
       "      <td>Terri</td>\n",
       "      <td>Lee</td>\n",
       "      <td>Duffy</td>\n",
       "      <td>None</td>\n",
       "      <td>1</td>\n",
       "      <td>None</td>\n",
       "      <td>&lt;IndividualSurvey xmlns=\"http://schemas.micros...</td>\n",
       "      <td>819-555-0175</td>\n",
       "      <td>3</td>\n",
       "      <td>Work</td>\n",
       "      <td>2</td>\n",
       "      <td>terri0@adventure-works.com</td>\n",
       "      <td>bawRVNrZQYQ05qF05Gz6VLilnviZmrqBReTTAGAudm0=</td>\n",
       "      <td>EjJaC3U=</td>\n",
       "    </tr>\n",
       "    <tr>\n",
       "      <th>2</th>\n",
       "      <td>3</td>\n",
       "      <td>EM</td>\n",
       "      <td>False</td>\n",
       "      <td>None</td>\n",
       "      <td>Roberto</td>\n",
       "      <td>None</td>\n",
       "      <td>Tamburello</td>\n",
       "      <td>None</td>\n",
       "      <td>0</td>\n",
       "      <td>None</td>\n",
       "      <td>&lt;IndividualSurvey xmlns=\"http://schemas.micros...</td>\n",
       "      <td>212-555-0187</td>\n",
       "      <td>1</td>\n",
       "      <td>Cell</td>\n",
       "      <td>3</td>\n",
       "      <td>roberto0@adventure-works.com</td>\n",
       "      <td>8BUXrZfDqO1IyHCWOYzYmqN1IhTUn3CJMpdx/UCQ3iY=</td>\n",
       "      <td>wbPZqMw=</td>\n",
       "    </tr>\n",
       "    <tr>\n",
       "      <th>3</th>\n",
       "      <td>4</td>\n",
       "      <td>EM</td>\n",
       "      <td>False</td>\n",
       "      <td>None</td>\n",
       "      <td>Rob</td>\n",
       "      <td>None</td>\n",
       "      <td>Walters</td>\n",
       "      <td>None</td>\n",
       "      <td>0</td>\n",
       "      <td>None</td>\n",
       "      <td>&lt;IndividualSurvey xmlns=\"http://schemas.micros...</td>\n",
       "      <td>612-555-0100</td>\n",
       "      <td>1</td>\n",
       "      <td>Cell</td>\n",
       "      <td>4</td>\n",
       "      <td>rob0@adventure-works.com</td>\n",
       "      <td>SjLXpiarHSlz+6AG+H+4QpB/IPRzras/+9q/5Wr7tf8=</td>\n",
       "      <td>PwSunQU=</td>\n",
       "    </tr>\n",
       "    <tr>\n",
       "      <th>4</th>\n",
       "      <td>5</td>\n",
       "      <td>EM</td>\n",
       "      <td>False</td>\n",
       "      <td>Ms.</td>\n",
       "      <td>Gail</td>\n",
       "      <td>A</td>\n",
       "      <td>Erickson</td>\n",
       "      <td>None</td>\n",
       "      <td>0</td>\n",
       "      <td>None</td>\n",
       "      <td>&lt;IndividualSurvey xmlns=\"http://schemas.micros...</td>\n",
       "      <td>849-555-0139</td>\n",
       "      <td>1</td>\n",
       "      <td>Cell</td>\n",
       "      <td>5</td>\n",
       "      <td>gail0@adventure-works.com</td>\n",
       "      <td>8FYdAiY6gWuBsgjCFdg0UibtsqOcWHf9TyaHIP7+paA=</td>\n",
       "      <td>qYhZRiM=</td>\n",
       "    </tr>\n",
       "  </tbody>\n",
       "</table>\n",
       "</div>"
      ]
     },
     "execution_count": 105,
     "metadata": {},
     "output_type": "execute_result"
    }
   ],
   "execution_count": 105
  },
  {
   "cell_type": "markdown",
   "id": "d4e1d13f4500188b",
   "metadata": {},
   "source": [
    "### JobCandidate"
   ]
  },
  {
   "cell_type": "code",
   "id": "2b0cd2fbe548b561",
   "metadata": {
    "ExecuteTime": {
     "end_time": "2024-05-20T13:30:07.429008Z",
     "start_time": "2024-05-20T13:30:07.423365Z"
    }
   },
   "source": [
    "jobcandidates = adventureworks_humanresources_jobcandidate\n",
    "\n",
    "# dropping the modified date and rowguid columns\n",
    "drop_modified_date_rowguid(jobcandidates)\n",
    "\n",
    "# renaming the columns\n",
    "jobcandidates.rename(columns={'JobCandidateID': 'JOBCANDIDATE_JOBCANDIDATE_JobCandidateID', 'BusinessEntityID': 'JOBCANDIDATE_JOBCANDIDATE_BusinessEntityID', 'Resume': 'JOBCANDIDATE_JOBCANDIDATE_Resume'}, inplace=True)\n",
    "\n",
    "jobcandidates.head()"
   ],
   "outputs": [
    {
     "data": {
      "text/plain": [
       "   JOBCANDIDATE_JOBCANDIDATE_JobCandidateID  \\\n",
       "0                                         1   \n",
       "1                                         2   \n",
       "2                                         3   \n",
       "3                                         4   \n",
       "4                                         5   \n",
       "\n",
       "   JOBCANDIDATE_JOBCANDIDATE_BusinessEntityID  \\\n",
       "0                                         NaN   \n",
       "1                                         NaN   \n",
       "2                                         NaN   \n",
       "3                                       274.0   \n",
       "4                                         NaN   \n",
       "\n",
       "                    JOBCANDIDATE_JOBCANDIDATE_Resume  \n",
       "0  <ns:Resume xmlns:ns=\"http://schemas.microsoft....  \n",
       "1  <ns:Resume xmlns:ns=\"http://schemas.microsoft....  \n",
       "2  <ns:Resume xmlns:ns=\"http://schemas.microsoft....  \n",
       "3  <ns:Resume xmlns:ns=\"http://schemas.microsoft....  \n",
       "4  <ns:Resume xmlns:ns=\"http://schemas.microsoft....  "
      ],
      "text/html": [
       "<div>\n",
       "<style scoped>\n",
       "    .dataframe tbody tr th:only-of-type {\n",
       "        vertical-align: middle;\n",
       "    }\n",
       "\n",
       "    .dataframe tbody tr th {\n",
       "        vertical-align: top;\n",
       "    }\n",
       "\n",
       "    .dataframe thead th {\n",
       "        text-align: right;\n",
       "    }\n",
       "</style>\n",
       "<table border=\"1\" class=\"dataframe\">\n",
       "  <thead>\n",
       "    <tr style=\"text-align: right;\">\n",
       "      <th></th>\n",
       "      <th>JOBCANDIDATE_JOBCANDIDATE_JobCandidateID</th>\n",
       "      <th>JOBCANDIDATE_JOBCANDIDATE_BusinessEntityID</th>\n",
       "      <th>JOBCANDIDATE_JOBCANDIDATE_Resume</th>\n",
       "    </tr>\n",
       "  </thead>\n",
       "  <tbody>\n",
       "    <tr>\n",
       "      <th>0</th>\n",
       "      <td>1</td>\n",
       "      <td>NaN</td>\n",
       "      <td>&lt;ns:Resume xmlns:ns=\"http://schemas.microsoft....</td>\n",
       "    </tr>\n",
       "    <tr>\n",
       "      <th>1</th>\n",
       "      <td>2</td>\n",
       "      <td>NaN</td>\n",
       "      <td>&lt;ns:Resume xmlns:ns=\"http://schemas.microsoft....</td>\n",
       "    </tr>\n",
       "    <tr>\n",
       "      <th>2</th>\n",
       "      <td>3</td>\n",
       "      <td>NaN</td>\n",
       "      <td>&lt;ns:Resume xmlns:ns=\"http://schemas.microsoft....</td>\n",
       "    </tr>\n",
       "    <tr>\n",
       "      <th>3</th>\n",
       "      <td>4</td>\n",
       "      <td>274.0</td>\n",
       "      <td>&lt;ns:Resume xmlns:ns=\"http://schemas.microsoft....</td>\n",
       "    </tr>\n",
       "    <tr>\n",
       "      <th>4</th>\n",
       "      <td>5</td>\n",
       "      <td>NaN</td>\n",
       "      <td>&lt;ns:Resume xmlns:ns=\"http://schemas.microsoft....</td>\n",
       "    </tr>\n",
       "  </tbody>\n",
       "</table>\n",
       "</div>"
      ]
     },
     "execution_count": 106,
     "metadata": {},
     "output_type": "execute_result"
    }
   ],
   "execution_count": 106
  },
  {
   "cell_type": "markdown",
   "id": "25b566fd9adcaf38",
   "metadata": {},
   "source": [
    "### EmployeeDepartmentHistory"
   ]
  },
  {
   "cell_type": "code",
   "id": "27c67a9b4433e6c5",
   "metadata": {
    "ExecuteTime": {
     "end_time": "2024-05-20T13:30:07.439789Z",
     "start_time": "2024-05-20T13:30:07.429008Z"
    }
   },
   "source": [
    "employeedepartmenthistories = adventureworks_humanresources_employeedepartmenthistory\n",
    "\n",
    "# dropping the modified date and rowguid columns\n",
    "drop_modified_date_rowguid(employeedepartmenthistories)\n",
    "\n",
    "# renaming the columns\n",
    "employeedepartmenthistories.rename(columns={'BusinessEntityID': 'EMPLOYEEDEPARTMENTHISTORY_EMPLOYEEDEPARTMENTHISTORY_BusinessEntityID', 'DepartmentID': 'EMPLOYEEDEPARTMENTHISTORY_EMPLOYEEDEPARTMENTHISTORY_DepartmentID', 'ShiftID': 'EMPLOYEEDEPARTMENTHISTORY_EMPLOYEEDEPARTMENTHISTORY_ShiftID', 'StartDate': 'EMPLOYEEDEPARTMENTHISTORY_EMPLOYEEDEPARTMENTHISTORY_StartDate', 'EndDate': 'EMPLOYEEDEPARTMENTHISTORY_EMPLOYEEDEPARTMENTHISTORY_EndDate'}, inplace=True)\n",
    "\n",
    "employeedepartmenthistories.head()"
   ],
   "outputs": [
    {
     "data": {
      "text/plain": [
       "   EMPLOYEEDEPARTMENTHISTORY_EMPLOYEEDEPARTMENTHISTORY_BusinessEntityID  \\\n",
       "0                                                  1                      \n",
       "1                                                  2                      \n",
       "2                                                  3                      \n",
       "3                                                  4                      \n",
       "4                                                  4                      \n",
       "\n",
       "   EMPLOYEEDEPARTMENTHISTORY_EMPLOYEEDEPARTMENTHISTORY_DepartmentID  \\\n",
       "0                                                 16                  \n",
       "1                                                  1                  \n",
       "2                                                  1                  \n",
       "3                                                  1                  \n",
       "4                                                  2                  \n",
       "\n",
       "   EMPLOYEEDEPARTMENTHISTORY_EMPLOYEEDEPARTMENTHISTORY_ShiftID  \\\n",
       "0                                                  1             \n",
       "1                                                  1             \n",
       "2                                                  1             \n",
       "3                                                  1             \n",
       "4                                                  1             \n",
       "\n",
       "  EMPLOYEEDEPARTMENTHISTORY_EMPLOYEEDEPARTMENTHISTORY_StartDate  \\\n",
       "0                                         2009-01-14              \n",
       "1                                         2008-01-31              \n",
       "2                                         2007-11-11              \n",
       "3                                         2007-12-05              \n",
       "4                                         2010-05-31              \n",
       "\n",
       "  EMPLOYEEDEPARTMENTHISTORY_EMPLOYEEDEPARTMENTHISTORY_EndDate  \n",
       "0                                               None           \n",
       "1                                               None           \n",
       "2                                               None           \n",
       "3                                         2010-05-30           \n",
       "4                                               None           "
      ],
      "text/html": [
       "<div>\n",
       "<style scoped>\n",
       "    .dataframe tbody tr th:only-of-type {\n",
       "        vertical-align: middle;\n",
       "    }\n",
       "\n",
       "    .dataframe tbody tr th {\n",
       "        vertical-align: top;\n",
       "    }\n",
       "\n",
       "    .dataframe thead th {\n",
       "        text-align: right;\n",
       "    }\n",
       "</style>\n",
       "<table border=\"1\" class=\"dataframe\">\n",
       "  <thead>\n",
       "    <tr style=\"text-align: right;\">\n",
       "      <th></th>\n",
       "      <th>EMPLOYEEDEPARTMENTHISTORY_EMPLOYEEDEPARTMENTHISTORY_BusinessEntityID</th>\n",
       "      <th>EMPLOYEEDEPARTMENTHISTORY_EMPLOYEEDEPARTMENTHISTORY_DepartmentID</th>\n",
       "      <th>EMPLOYEEDEPARTMENTHISTORY_EMPLOYEEDEPARTMENTHISTORY_ShiftID</th>\n",
       "      <th>EMPLOYEEDEPARTMENTHISTORY_EMPLOYEEDEPARTMENTHISTORY_StartDate</th>\n",
       "      <th>EMPLOYEEDEPARTMENTHISTORY_EMPLOYEEDEPARTMENTHISTORY_EndDate</th>\n",
       "    </tr>\n",
       "  </thead>\n",
       "  <tbody>\n",
       "    <tr>\n",
       "      <th>0</th>\n",
       "      <td>1</td>\n",
       "      <td>16</td>\n",
       "      <td>1</td>\n",
       "      <td>2009-01-14</td>\n",
       "      <td>None</td>\n",
       "    </tr>\n",
       "    <tr>\n",
       "      <th>1</th>\n",
       "      <td>2</td>\n",
       "      <td>1</td>\n",
       "      <td>1</td>\n",
       "      <td>2008-01-31</td>\n",
       "      <td>None</td>\n",
       "    </tr>\n",
       "    <tr>\n",
       "      <th>2</th>\n",
       "      <td>3</td>\n",
       "      <td>1</td>\n",
       "      <td>1</td>\n",
       "      <td>2007-11-11</td>\n",
       "      <td>None</td>\n",
       "    </tr>\n",
       "    <tr>\n",
       "      <th>3</th>\n",
       "      <td>4</td>\n",
       "      <td>1</td>\n",
       "      <td>1</td>\n",
       "      <td>2007-12-05</td>\n",
       "      <td>2010-05-30</td>\n",
       "    </tr>\n",
       "    <tr>\n",
       "      <th>4</th>\n",
       "      <td>4</td>\n",
       "      <td>2</td>\n",
       "      <td>1</td>\n",
       "      <td>2010-05-31</td>\n",
       "      <td>None</td>\n",
       "    </tr>\n",
       "  </tbody>\n",
       "</table>\n",
       "</div>"
      ]
     },
     "execution_count": 107,
     "metadata": {},
     "output_type": "execute_result"
    }
   ],
   "execution_count": 107
  },
  {
   "cell_type": "markdown",
   "id": "92a2ea9b49560a53",
   "metadata": {},
   "source": [
    "### EmployeePayHistory"
   ]
  },
  {
   "cell_type": "code",
   "id": "5e716c5132b4667c",
   "metadata": {
    "ExecuteTime": {
     "end_time": "2024-05-20T13:30:07.450656Z",
     "start_time": "2024-05-20T13:30:07.439789Z"
    }
   },
   "source": [
    "employeepayhistories = adventureworks_humanresources_employeepayhistory\n",
    "\n",
    "# dropping the modified date and rowguid columns\n",
    "drop_modified_date_rowguid(employeepayhistories)\n",
    "\n",
    "# renaming the columns\n",
    "employeepayhistories.rename(columns={'BusinessEntityID': 'EMPLOYEEPAYHISTORY_EMPLOYEEPAYHISTORY_BusinessEntityID', 'RateChangeDate': 'EMPLOYEEPAYHISTORY_EMPLOYEEPAYHISTORY_RateChangeDate', 'Rate': 'EMPLOYEEPAYHISTORY_EMPLOYEEPAYHISTORY_Rate', 'PayFrequency': 'EMPLOYEEPAYHISTORY_EMPLOYEEPAYHISTORY_PayFrequency'}, inplace=True)\n",
    "\n",
    "employeepayhistories.head()"
   ],
   "outputs": [
    {
     "data": {
      "text/plain": [
       "   EMPLOYEEPAYHISTORY_EMPLOYEEPAYHISTORY_BusinessEntityID  \\\n",
       "0                                                  1        \n",
       "1                                                  2        \n",
       "2                                                  3        \n",
       "3                                                  4        \n",
       "4                                                  4        \n",
       "\n",
       "  EMPLOYEEPAYHISTORY_EMPLOYEEPAYHISTORY_RateChangeDate  \\\n",
       "0                                         2009-01-14     \n",
       "1                                         2008-01-31     \n",
       "2                                         2007-11-11     \n",
       "3                                         2007-12-05     \n",
       "4                                         2010-05-31     \n",
       "\n",
       "   EMPLOYEEPAYHISTORY_EMPLOYEEPAYHISTORY_Rate  \\\n",
       "0                                    125.5000   \n",
       "1                                     63.4615   \n",
       "2                                     43.2692   \n",
       "3                                      8.6200   \n",
       "4                                     23.7200   \n",
       "\n",
       "   EMPLOYEEPAYHISTORY_EMPLOYEEPAYHISTORY_PayFrequency  \n",
       "0                                                  2   \n",
       "1                                                  2   \n",
       "2                                                  2   \n",
       "3                                                  2   \n",
       "4                                                  2   "
      ],
      "text/html": [
       "<div>\n",
       "<style scoped>\n",
       "    .dataframe tbody tr th:only-of-type {\n",
       "        vertical-align: middle;\n",
       "    }\n",
       "\n",
       "    .dataframe tbody tr th {\n",
       "        vertical-align: top;\n",
       "    }\n",
       "\n",
       "    .dataframe thead th {\n",
       "        text-align: right;\n",
       "    }\n",
       "</style>\n",
       "<table border=\"1\" class=\"dataframe\">\n",
       "  <thead>\n",
       "    <tr style=\"text-align: right;\">\n",
       "      <th></th>\n",
       "      <th>EMPLOYEEPAYHISTORY_EMPLOYEEPAYHISTORY_BusinessEntityID</th>\n",
       "      <th>EMPLOYEEPAYHISTORY_EMPLOYEEPAYHISTORY_RateChangeDate</th>\n",
       "      <th>EMPLOYEEPAYHISTORY_EMPLOYEEPAYHISTORY_Rate</th>\n",
       "      <th>EMPLOYEEPAYHISTORY_EMPLOYEEPAYHISTORY_PayFrequency</th>\n",
       "    </tr>\n",
       "  </thead>\n",
       "  <tbody>\n",
       "    <tr>\n",
       "      <th>0</th>\n",
       "      <td>1</td>\n",
       "      <td>2009-01-14</td>\n",
       "      <td>125.5000</td>\n",
       "      <td>2</td>\n",
       "    </tr>\n",
       "    <tr>\n",
       "      <th>1</th>\n",
       "      <td>2</td>\n",
       "      <td>2008-01-31</td>\n",
       "      <td>63.4615</td>\n",
       "      <td>2</td>\n",
       "    </tr>\n",
       "    <tr>\n",
       "      <th>2</th>\n",
       "      <td>3</td>\n",
       "      <td>2007-11-11</td>\n",
       "      <td>43.2692</td>\n",
       "      <td>2</td>\n",
       "    </tr>\n",
       "    <tr>\n",
       "      <th>3</th>\n",
       "      <td>4</td>\n",
       "      <td>2007-12-05</td>\n",
       "      <td>8.6200</td>\n",
       "      <td>2</td>\n",
       "    </tr>\n",
       "    <tr>\n",
       "      <th>4</th>\n",
       "      <td>4</td>\n",
       "      <td>2010-05-31</td>\n",
       "      <td>23.7200</td>\n",
       "      <td>2</td>\n",
       "    </tr>\n",
       "  </tbody>\n",
       "</table>\n",
       "</div>"
      ]
     },
     "execution_count": 108,
     "metadata": {},
     "output_type": "execute_result"
    }
   ],
   "execution_count": 108
  },
  {
   "cell_type": "markdown",
   "id": "77794f8aab65c8fa",
   "metadata": {},
   "source": [
    "### Shift"
   ]
  },
  {
   "cell_type": "code",
   "id": "a14b1db04c4ae5c2",
   "metadata": {
    "ExecuteTime": {
     "end_time": "2024-05-20T13:30:07.457941Z",
     "start_time": "2024-05-20T13:30:07.451661Z"
    }
   },
   "source": [
    "shifts = adventureworks_humanresources_shift\n",
    "\n",
    "# dropping the modified date and rowguid columns\n",
    "drop_modified_date_rowguid(shifts)\n",
    "\n",
    "# renaming the columns\n",
    "shifts.rename(columns={'ShiftID': 'SHIFT_SHIFT_ShiftID', 'Name': 'SHIFT_SHIFT_Name', 'StartTime': 'SHIFT_SHIFT_StartTime', 'EndTime': 'SHIFT_SHIFT_EndTime'}, inplace=True)\n",
    "\n",
    "shifts.head()"
   ],
   "outputs": [
    {
     "data": {
      "text/plain": [
       "   SHIFT_SHIFT_ShiftID SHIFT_SHIFT_Name SHIFT_SHIFT_StartTime  \\\n",
       "0                    1              Day      07:00:00.0000000   \n",
       "1                    2          Evening      15:00:00.0000000   \n",
       "2                    3            Night      23:00:00.0000000   \n",
       "\n",
       "  SHIFT_SHIFT_EndTime  \n",
       "0    15:00:00.0000000  \n",
       "1    23:00:00.0000000  \n",
       "2    07:00:00.0000000  "
      ],
      "text/html": [
       "<div>\n",
       "<style scoped>\n",
       "    .dataframe tbody tr th:only-of-type {\n",
       "        vertical-align: middle;\n",
       "    }\n",
       "\n",
       "    .dataframe tbody tr th {\n",
       "        vertical-align: top;\n",
       "    }\n",
       "\n",
       "    .dataframe thead th {\n",
       "        text-align: right;\n",
       "    }\n",
       "</style>\n",
       "<table border=\"1\" class=\"dataframe\">\n",
       "  <thead>\n",
       "    <tr style=\"text-align: right;\">\n",
       "      <th></th>\n",
       "      <th>SHIFT_SHIFT_ShiftID</th>\n",
       "      <th>SHIFT_SHIFT_Name</th>\n",
       "      <th>SHIFT_SHIFT_StartTime</th>\n",
       "      <th>SHIFT_SHIFT_EndTime</th>\n",
       "    </tr>\n",
       "  </thead>\n",
       "  <tbody>\n",
       "    <tr>\n",
       "      <th>0</th>\n",
       "      <td>1</td>\n",
       "      <td>Day</td>\n",
       "      <td>07:00:00.0000000</td>\n",
       "      <td>15:00:00.0000000</td>\n",
       "    </tr>\n",
       "    <tr>\n",
       "      <th>1</th>\n",
       "      <td>2</td>\n",
       "      <td>Evening</td>\n",
       "      <td>15:00:00.0000000</td>\n",
       "      <td>23:00:00.0000000</td>\n",
       "    </tr>\n",
       "    <tr>\n",
       "      <th>2</th>\n",
       "      <td>3</td>\n",
       "      <td>Night</td>\n",
       "      <td>23:00:00.0000000</td>\n",
       "      <td>07:00:00.0000000</td>\n",
       "    </tr>\n",
       "  </tbody>\n",
       "</table>\n",
       "</div>"
      ]
     },
     "execution_count": 109,
     "metadata": {},
     "output_type": "execute_result"
    }
   ],
   "execution_count": 109
  },
  {
   "cell_type": "markdown",
   "id": "88be3576f3806b17",
   "metadata": {},
   "source": [
    "### SalesPerson"
   ]
  },
  {
   "cell_type": "code",
   "id": "9dd15b90a901b0a8",
   "metadata": {
    "ExecuteTime": {
     "end_time": "2024-05-20T13:30:07.470435Z",
     "start_time": "2024-05-20T13:30:07.457941Z"
    }
   },
   "source": [
    "salespeople = adventureworks_sales_salesperson\n",
    "\n",
    "# dropping the modified date and rowguid columns\n",
    "drop_modified_date_rowguid(salespeople)\n",
    "\n",
    "# renaming the columns\n",
    "salespeople.rename(columns={'BusinessEntityID': 'SALESPERSON_SALESPERSON_BusinessEntityID', 'TerritoryID': 'SALESPERSON_SALESPERSON_TerritoryID', 'SalesQuota': 'SALESPERSON_SALESPERSON_SalesQuota', 'Bonus': 'SALESPERSON_SALESPERSON_Bonus', 'CommissionPct': 'SALESPERSON_SALESPERSON_CommissionPct', 'SalesYTD': 'SALESPERSON_SALESPERSON_SalesYTD', 'SalesLastYear': 'SALESPERSON_SALESPERSON_SalesLastYear'}, inplace=True)\n",
    "\n",
    "salespeople.head()"
   ],
   "outputs": [
    {
     "data": {
      "text/plain": [
       "   SALESPERSON_SALESPERSON_BusinessEntityID  \\\n",
       "0                                       274   \n",
       "1                                       275   \n",
       "2                                       276   \n",
       "3                                       277   \n",
       "4                                       278   \n",
       "\n",
       "   SALESPERSON_SALESPERSON_TerritoryID  SALESPERSON_SALESPERSON_SalesQuota  \\\n",
       "0                                  NaN                                 NaN   \n",
       "1                                  2.0                            300000.0   \n",
       "2                                  4.0                            250000.0   \n",
       "3                                  3.0                            250000.0   \n",
       "4                                  6.0                            250000.0   \n",
       "\n",
       "   SALESPERSON_SALESPERSON_Bonus  SALESPERSON_SALESPERSON_CommissionPct  \\\n",
       "0                            0.0                                  0.000   \n",
       "1                         4100.0                                  0.012   \n",
       "2                         2000.0                                  0.015   \n",
       "3                         2500.0                                  0.015   \n",
       "4                          500.0                                  0.010   \n",
       "\n",
       "   SALESPERSON_SALESPERSON_SalesYTD  SALESPERSON_SALESPERSON_SalesLastYear  \n",
       "0                      5.596976e+05                           0.000000e+00  \n",
       "1                      3.763178e+06                           1.750406e+06  \n",
       "2                      4.251369e+06                           1.439156e+06  \n",
       "3                      3.189418e+06                           1.997186e+06  \n",
       "4                      1.453719e+06                           1.620277e+06  "
      ],
      "text/html": [
       "<div>\n",
       "<style scoped>\n",
       "    .dataframe tbody tr th:only-of-type {\n",
       "        vertical-align: middle;\n",
       "    }\n",
       "\n",
       "    .dataframe tbody tr th {\n",
       "        vertical-align: top;\n",
       "    }\n",
       "\n",
       "    .dataframe thead th {\n",
       "        text-align: right;\n",
       "    }\n",
       "</style>\n",
       "<table border=\"1\" class=\"dataframe\">\n",
       "  <thead>\n",
       "    <tr style=\"text-align: right;\">\n",
       "      <th></th>\n",
       "      <th>SALESPERSON_SALESPERSON_BusinessEntityID</th>\n",
       "      <th>SALESPERSON_SALESPERSON_TerritoryID</th>\n",
       "      <th>SALESPERSON_SALESPERSON_SalesQuota</th>\n",
       "      <th>SALESPERSON_SALESPERSON_Bonus</th>\n",
       "      <th>SALESPERSON_SALESPERSON_CommissionPct</th>\n",
       "      <th>SALESPERSON_SALESPERSON_SalesYTD</th>\n",
       "      <th>SALESPERSON_SALESPERSON_SalesLastYear</th>\n",
       "    </tr>\n",
       "  </thead>\n",
       "  <tbody>\n",
       "    <tr>\n",
       "      <th>0</th>\n",
       "      <td>274</td>\n",
       "      <td>NaN</td>\n",
       "      <td>NaN</td>\n",
       "      <td>0.0</td>\n",
       "      <td>0.000</td>\n",
       "      <td>5.596976e+05</td>\n",
       "      <td>0.000000e+00</td>\n",
       "    </tr>\n",
       "    <tr>\n",
       "      <th>1</th>\n",
       "      <td>275</td>\n",
       "      <td>2.0</td>\n",
       "      <td>300000.0</td>\n",
       "      <td>4100.0</td>\n",
       "      <td>0.012</td>\n",
       "      <td>3.763178e+06</td>\n",
       "      <td>1.750406e+06</td>\n",
       "    </tr>\n",
       "    <tr>\n",
       "      <th>2</th>\n",
       "      <td>276</td>\n",
       "      <td>4.0</td>\n",
       "      <td>250000.0</td>\n",
       "      <td>2000.0</td>\n",
       "      <td>0.015</td>\n",
       "      <td>4.251369e+06</td>\n",
       "      <td>1.439156e+06</td>\n",
       "    </tr>\n",
       "    <tr>\n",
       "      <th>3</th>\n",
       "      <td>277</td>\n",
       "      <td>3.0</td>\n",
       "      <td>250000.0</td>\n",
       "      <td>2500.0</td>\n",
       "      <td>0.015</td>\n",
       "      <td>3.189418e+06</td>\n",
       "      <td>1.997186e+06</td>\n",
       "    </tr>\n",
       "    <tr>\n",
       "      <th>4</th>\n",
       "      <td>278</td>\n",
       "      <td>6.0</td>\n",
       "      <td>250000.0</td>\n",
       "      <td>500.0</td>\n",
       "      <td>0.010</td>\n",
       "      <td>1.453719e+06</td>\n",
       "      <td>1.620277e+06</td>\n",
       "    </tr>\n",
       "  </tbody>\n",
       "</table>\n",
       "</div>"
      ]
     },
     "execution_count": 110,
     "metadata": {},
     "output_type": "execute_result"
    }
   ],
   "execution_count": 110
  },
  {
   "cell_type": "markdown",
   "id": "64748aca0b55f714",
   "metadata": {},
   "source": [
    "### ProductVendor"
   ]
  },
  {
   "cell_type": "code",
   "id": "a510be9684c03932",
   "metadata": {
    "ExecuteTime": {
     "end_time": "2024-05-20T13:30:07.483455Z",
     "start_time": "2024-05-20T13:30:07.471439Z"
    }
   },
   "source": [
    "productvendors = adventureworks_purchasing_productvendor\n",
    "\n",
    "# dropping the modified date and rowguid columns\n",
    "drop_modified_date_rowguid(productvendors)\n",
    "\n",
    "# renaming the columns\n",
    "productvendors.rename(columns={'ProductID': 'PRODUCTVENDOR_PRODUCTVENDOR_ProductID', 'BusinessEntityID': 'PRODUCTVENDOR_PRODUCTVENDOR_BusinessEntityID', 'AverageLeadTime': 'PRODUCTVENDOR_PRODUCTVENDOR_AverageLeadTime', 'StandardPrice': 'PRODUCTVENDOR_PRODUCTVENDOR_StandardPrice', 'LastReceiptCost': 'PRODUCTVENDOR_PRODUCTVENDOR_LastReceiptCost', 'LastReceiptDate': 'PRODUCTVENDOR_PRODUCTVENDOR_LastReceiptDate', 'MinOrderQty': 'PRODUCTVENDOR_PRODUCTVENDOR_MinOrderQty', 'MaxOrderQty': 'PRODUCTVENDOR_PRODUCTVENDOR_MaxOrderQty', 'OnOrderQty': 'PRODUCTVENDOR_PRODUCTVENDOR_OnOrderQty', 'UnitMeasureCode' : 'PRODUCTVENDOR_PRODUCTVENDOR_UnitMeasureCode'}, inplace=True)\n",
    "\n",
    "productvendors.head()"
   ],
   "outputs": [
    {
     "data": {
      "text/plain": [
       "   PRODUCTVENDOR_PRODUCTVENDOR_ProductID  \\\n",
       "0                                      1   \n",
       "1                                      2   \n",
       "2                                      4   \n",
       "3                                    317   \n",
       "4                                    317   \n",
       "\n",
       "   PRODUCTVENDOR_PRODUCTVENDOR_BusinessEntityID  \\\n",
       "0                                          1580   \n",
       "1                                          1688   \n",
       "2                                          1650   \n",
       "3                                          1578   \n",
       "4                                          1678   \n",
       "\n",
       "   PRODUCTVENDOR_PRODUCTVENDOR_AverageLeadTime  \\\n",
       "0                                           17   \n",
       "1                                           19   \n",
       "2                                           17   \n",
       "3                                           19   \n",
       "4                                           17   \n",
       "\n",
       "   PRODUCTVENDOR_PRODUCTVENDOR_StandardPrice  \\\n",
       "0                                      47.87   \n",
       "1                                      39.92   \n",
       "2                                      54.31   \n",
       "3                                      28.17   \n",
       "4                                      25.77   \n",
       "\n",
       "   PRODUCTVENDOR_PRODUCTVENDOR_LastReceiptCost  \\\n",
       "0                                      50.2635   \n",
       "1                                      41.9160   \n",
       "2                                      57.0255   \n",
       "3                                      29.5785   \n",
       "4                                      27.0585   \n",
       "\n",
       "  PRODUCTVENDOR_PRODUCTVENDOR_LastReceiptDate  \\\n",
       "0                                  2011-08-29   \n",
       "1                                  2011-08-29   \n",
       "2                                  2011-08-29   \n",
       "3                                  2011-08-29   \n",
       "4                                  2011-08-25   \n",
       "\n",
       "   PRODUCTVENDOR_PRODUCTVENDOR_MinOrderQty  \\\n",
       "0                                        1   \n",
       "1                                        1   \n",
       "2                                        1   \n",
       "3                                      100   \n",
       "4                                      100   \n",
       "\n",
       "   PRODUCTVENDOR_PRODUCTVENDOR_MaxOrderQty  \\\n",
       "0                                        5   \n",
       "1                                        5   \n",
       "2                                        5   \n",
       "3                                     1000   \n",
       "4                                     1000   \n",
       "\n",
       "   PRODUCTVENDOR_PRODUCTVENDOR_OnOrderQty  \\\n",
       "0                                     3.0   \n",
       "1                                     3.0   \n",
       "2                                     NaN   \n",
       "3                                   300.0   \n",
       "4                                     NaN   \n",
       "\n",
       "  PRODUCTVENDOR_PRODUCTVENDOR_UnitMeasureCode  \n",
       "0                                         CS   \n",
       "1                                         CTN  \n",
       "2                                         CTN  \n",
       "3                                         EA   \n",
       "4                                         EA   "
      ],
      "text/html": [
       "<div>\n",
       "<style scoped>\n",
       "    .dataframe tbody tr th:only-of-type {\n",
       "        vertical-align: middle;\n",
       "    }\n",
       "\n",
       "    .dataframe tbody tr th {\n",
       "        vertical-align: top;\n",
       "    }\n",
       "\n",
       "    .dataframe thead th {\n",
       "        text-align: right;\n",
       "    }\n",
       "</style>\n",
       "<table border=\"1\" class=\"dataframe\">\n",
       "  <thead>\n",
       "    <tr style=\"text-align: right;\">\n",
       "      <th></th>\n",
       "      <th>PRODUCTVENDOR_PRODUCTVENDOR_ProductID</th>\n",
       "      <th>PRODUCTVENDOR_PRODUCTVENDOR_BusinessEntityID</th>\n",
       "      <th>PRODUCTVENDOR_PRODUCTVENDOR_AverageLeadTime</th>\n",
       "      <th>PRODUCTVENDOR_PRODUCTVENDOR_StandardPrice</th>\n",
       "      <th>PRODUCTVENDOR_PRODUCTVENDOR_LastReceiptCost</th>\n",
       "      <th>PRODUCTVENDOR_PRODUCTVENDOR_LastReceiptDate</th>\n",
       "      <th>PRODUCTVENDOR_PRODUCTVENDOR_MinOrderQty</th>\n",
       "      <th>PRODUCTVENDOR_PRODUCTVENDOR_MaxOrderQty</th>\n",
       "      <th>PRODUCTVENDOR_PRODUCTVENDOR_OnOrderQty</th>\n",
       "      <th>PRODUCTVENDOR_PRODUCTVENDOR_UnitMeasureCode</th>\n",
       "    </tr>\n",
       "  </thead>\n",
       "  <tbody>\n",
       "    <tr>\n",
       "      <th>0</th>\n",
       "      <td>1</td>\n",
       "      <td>1580</td>\n",
       "      <td>17</td>\n",
       "      <td>47.87</td>\n",
       "      <td>50.2635</td>\n",
       "      <td>2011-08-29</td>\n",
       "      <td>1</td>\n",
       "      <td>5</td>\n",
       "      <td>3.0</td>\n",
       "      <td>CS</td>\n",
       "    </tr>\n",
       "    <tr>\n",
       "      <th>1</th>\n",
       "      <td>2</td>\n",
       "      <td>1688</td>\n",
       "      <td>19</td>\n",
       "      <td>39.92</td>\n",
       "      <td>41.9160</td>\n",
       "      <td>2011-08-29</td>\n",
       "      <td>1</td>\n",
       "      <td>5</td>\n",
       "      <td>3.0</td>\n",
       "      <td>CTN</td>\n",
       "    </tr>\n",
       "    <tr>\n",
       "      <th>2</th>\n",
       "      <td>4</td>\n",
       "      <td>1650</td>\n",
       "      <td>17</td>\n",
       "      <td>54.31</td>\n",
       "      <td>57.0255</td>\n",
       "      <td>2011-08-29</td>\n",
       "      <td>1</td>\n",
       "      <td>5</td>\n",
       "      <td>NaN</td>\n",
       "      <td>CTN</td>\n",
       "    </tr>\n",
       "    <tr>\n",
       "      <th>3</th>\n",
       "      <td>317</td>\n",
       "      <td>1578</td>\n",
       "      <td>19</td>\n",
       "      <td>28.17</td>\n",
       "      <td>29.5785</td>\n",
       "      <td>2011-08-29</td>\n",
       "      <td>100</td>\n",
       "      <td>1000</td>\n",
       "      <td>300.0</td>\n",
       "      <td>EA</td>\n",
       "    </tr>\n",
       "    <tr>\n",
       "      <th>4</th>\n",
       "      <td>317</td>\n",
       "      <td>1678</td>\n",
       "      <td>17</td>\n",
       "      <td>25.77</td>\n",
       "      <td>27.0585</td>\n",
       "      <td>2011-08-25</td>\n",
       "      <td>100</td>\n",
       "      <td>1000</td>\n",
       "      <td>NaN</td>\n",
       "      <td>EA</td>\n",
       "    </tr>\n",
       "  </tbody>\n",
       "</table>\n",
       "</div>"
      ]
     },
     "execution_count": 111,
     "metadata": {},
     "output_type": "execute_result"
    }
   ],
   "execution_count": 111
  },
  {
   "cell_type": "markdown",
   "id": "b587f4fda2895c6c",
   "metadata": {},
   "source": [
    "### CustomerCustomerDemo"
   ]
  },
  {
   "cell_type": "code",
   "id": "b55cd94349e342e5",
   "metadata": {
    "ExecuteTime": {
     "end_time": "2024-05-20T13:30:07.493242Z",
     "start_time": "2024-05-20T13:30:07.483455Z"
    }
   },
   "source": [
    "customercustomerdemos = northwind_customer_customer_demo\n",
    "\n",
    "# dropping the modified date and rowguid columns\n",
    "drop_modified_date_rowguid(customercustomerdemos)\n",
    "\n",
    "# renaming the columns\n",
    "customercustomerdemos.rename(columns={'CustomerID': 'CUSTOMERCUSTOMERDEMO_CUSTOMERCUSTOMERDEMO_CustomerID', 'CustomerTypeID': 'CUSTOMERCUSTOMERDEMO_CUSTOMERCUSTOMERDEMO_CustomerTypeID'}, inplace=True)\n",
    "\n",
    "customercustomerdemos.head()"
   ],
   "outputs": [
    {
     "data": {
      "text/plain": [
       "Empty DataFrame\n",
       "Columns: [CUSTOMERCUSTOMERDEMO_CUSTOMERCUSTOMERDEMO_CustomerID, CUSTOMERCUSTOMERDEMO_CUSTOMERCUSTOMERDEMO_CustomerTypeID]\n",
       "Index: []"
      ],
      "text/html": [
       "<div>\n",
       "<style scoped>\n",
       "    .dataframe tbody tr th:only-of-type {\n",
       "        vertical-align: middle;\n",
       "    }\n",
       "\n",
       "    .dataframe tbody tr th {\n",
       "        vertical-align: top;\n",
       "    }\n",
       "\n",
       "    .dataframe thead th {\n",
       "        text-align: right;\n",
       "    }\n",
       "</style>\n",
       "<table border=\"1\" class=\"dataframe\">\n",
       "  <thead>\n",
       "    <tr style=\"text-align: right;\">\n",
       "      <th></th>\n",
       "      <th>CUSTOMERCUSTOMERDEMO_CUSTOMERCUSTOMERDEMO_CustomerID</th>\n",
       "      <th>CUSTOMERCUSTOMERDEMO_CUSTOMERCUSTOMERDEMO_CustomerTypeID</th>\n",
       "    </tr>\n",
       "  </thead>\n",
       "  <tbody>\n",
       "  </tbody>\n",
       "</table>\n",
       "</div>"
      ]
     },
     "execution_count": 112,
     "metadata": {},
     "output_type": "execute_result"
    }
   ],
   "execution_count": 112
  },
  {
   "cell_type": "markdown",
   "id": "2dbc081e03be9645",
   "metadata": {},
   "source": [
    "### CustomerDemographics"
   ]
  },
  {
   "cell_type": "code",
   "id": "2fa1412890863d86",
   "metadata": {
    "ExecuteTime": {
     "end_time": "2024-05-20T13:30:07.502798Z",
     "start_time": "2024-05-20T13:30:07.493242Z"
    }
   },
   "source": [
    "customerdemographics = northwind_customer_demographics\n",
    "\n",
    "# dropping the modified date and rowguid columns\n",
    "drop_modified_date_rowguid(customerdemographics)\n",
    "\n",
    "# renaming the columns\n",
    "customerdemographics.rename(columns={'CustomerTypeID': 'CUSTOMERDEMOGRAPHIC_CUSTOMERDEMOGRAPHICS_CustomerTypeID', 'CustomerDesc': 'CUSTOMERDEMOGRAPHIC_CUSTOMERDEMOGRAPHICS_CustomerDesc'}, inplace=True)\n",
    "\n",
    "customerdemographics.head()"
   ],
   "outputs": [
    {
     "data": {
      "text/plain": [
       "Empty DataFrame\n",
       "Columns: [CUSTOMERDEMOGRAPHIC_CUSTOMERDEMOGRAPHICS_CustomerTypeID, CUSTOMERDEMOGRAPHIC_CUSTOMERDEMOGRAPHICS_CustomerDesc]\n",
       "Index: []"
      ],
      "text/html": [
       "<div>\n",
       "<style scoped>\n",
       "    .dataframe tbody tr th:only-of-type {\n",
       "        vertical-align: middle;\n",
       "    }\n",
       "\n",
       "    .dataframe tbody tr th {\n",
       "        vertical-align: top;\n",
       "    }\n",
       "\n",
       "    .dataframe thead th {\n",
       "        text-align: right;\n",
       "    }\n",
       "</style>\n",
       "<table border=\"1\" class=\"dataframe\">\n",
       "  <thead>\n",
       "    <tr style=\"text-align: right;\">\n",
       "      <th></th>\n",
       "      <th>CUSTOMERDEMOGRAPHIC_CUSTOMERDEMOGRAPHICS_CustomerTypeID</th>\n",
       "      <th>CUSTOMERDEMOGRAPHIC_CUSTOMERDEMOGRAPHICS_CustomerDesc</th>\n",
       "    </tr>\n",
       "  </thead>\n",
       "  <tbody>\n",
       "  </tbody>\n",
       "</table>\n",
       "</div>"
      ]
     },
     "execution_count": 113,
     "metadata": {},
     "output_type": "execute_result"
    }
   ],
   "execution_count": 113
  },
  {
   "cell_type": "markdown",
   "id": "960a086264954c2d",
   "metadata": {},
   "source": [
    "### SalesTerritoryHistory"
   ]
  },
  {
   "cell_type": "code",
   "id": "1f90e79ea87b12cc",
   "metadata": {
    "ExecuteTime": {
     "end_time": "2024-05-20T13:30:07.513631Z",
     "start_time": "2024-05-20T13:30:07.502798Z"
    }
   },
   "source": [
    "salesterritoryhistories = adventureworks_sales_salesterritoryhistory\n",
    "\n",
    "# dropping the modified date and rowguid columns\n",
    "drop_modified_date_rowguid(salesterritoryhistories)\n",
    "\n",
    "# renaming the columns\n",
    "salesterritoryhistories.rename(columns={'BusinessEntityID': 'SALESTERRITORYHISTORY_SALESTERRITORYHISTORY_BusinessEntityID', 'TerritoryID': 'SALESTERRITORYHISTORY_SALESTERRITORYHISTORY_TerritoryID', 'StartDate': 'SALESTERRITORYHISTORY_SALESTERRITORYHISTORY_StartDate', 'EndDate': 'SALESTERRITORYHISTORY_SALESTERRITORYHISTORY_EndDate'}, inplace=True)\n",
    "\n",
    "salesterritoryhistories.head()"
   ],
   "outputs": [
    {
     "data": {
      "text/plain": [
       "   SALESTERRITORYHISTORY_SALESTERRITORYHISTORY_BusinessEntityID  \\\n",
       "0                                                275              \n",
       "1                                                275              \n",
       "2                                                276              \n",
       "3                                                277              \n",
       "4                                                277              \n",
       "\n",
       "   SALESTERRITORYHISTORY_SALESTERRITORYHISTORY_TerritoryID  \\\n",
       "0                                                  2         \n",
       "1                                                  3         \n",
       "2                                                  4         \n",
       "3                                                  3         \n",
       "4                                                  2         \n",
       "\n",
       "  SALESTERRITORYHISTORY_SALESTERRITORYHISTORY_StartDate  \\\n",
       "0                                         2011-05-31      \n",
       "1                                         2012-11-30      \n",
       "2                                         2011-05-31      \n",
       "3                                         2011-05-31      \n",
       "4                                         2012-11-30      \n",
       "\n",
       "  SALESTERRITORYHISTORY_SALESTERRITORYHISTORY_EndDate  \n",
       "0                                         2012-11-29   \n",
       "1                                                NaT   \n",
       "2                                                NaT   \n",
       "3                                         2012-11-29   \n",
       "4                                                NaT   "
      ],
      "text/html": [
       "<div>\n",
       "<style scoped>\n",
       "    .dataframe tbody tr th:only-of-type {\n",
       "        vertical-align: middle;\n",
       "    }\n",
       "\n",
       "    .dataframe tbody tr th {\n",
       "        vertical-align: top;\n",
       "    }\n",
       "\n",
       "    .dataframe thead th {\n",
       "        text-align: right;\n",
       "    }\n",
       "</style>\n",
       "<table border=\"1\" class=\"dataframe\">\n",
       "  <thead>\n",
       "    <tr style=\"text-align: right;\">\n",
       "      <th></th>\n",
       "      <th>SALESTERRITORYHISTORY_SALESTERRITORYHISTORY_BusinessEntityID</th>\n",
       "      <th>SALESTERRITORYHISTORY_SALESTERRITORYHISTORY_TerritoryID</th>\n",
       "      <th>SALESTERRITORYHISTORY_SALESTERRITORYHISTORY_StartDate</th>\n",
       "      <th>SALESTERRITORYHISTORY_SALESTERRITORYHISTORY_EndDate</th>\n",
       "    </tr>\n",
       "  </thead>\n",
       "  <tbody>\n",
       "    <tr>\n",
       "      <th>0</th>\n",
       "      <td>275</td>\n",
       "      <td>2</td>\n",
       "      <td>2011-05-31</td>\n",
       "      <td>2012-11-29</td>\n",
       "    </tr>\n",
       "    <tr>\n",
       "      <th>1</th>\n",
       "      <td>275</td>\n",
       "      <td>3</td>\n",
       "      <td>2012-11-30</td>\n",
       "      <td>NaT</td>\n",
       "    </tr>\n",
       "    <tr>\n",
       "      <th>2</th>\n",
       "      <td>276</td>\n",
       "      <td>4</td>\n",
       "      <td>2011-05-31</td>\n",
       "      <td>NaT</td>\n",
       "    </tr>\n",
       "    <tr>\n",
       "      <th>3</th>\n",
       "      <td>277</td>\n",
       "      <td>3</td>\n",
       "      <td>2011-05-31</td>\n",
       "      <td>2012-11-29</td>\n",
       "    </tr>\n",
       "    <tr>\n",
       "      <th>4</th>\n",
       "      <td>277</td>\n",
       "      <td>2</td>\n",
       "      <td>2012-11-30</td>\n",
       "      <td>NaT</td>\n",
       "    </tr>\n",
       "  </tbody>\n",
       "</table>\n",
       "</div>"
      ]
     },
     "execution_count": 114,
     "metadata": {},
     "output_type": "execute_result"
    }
   ],
   "execution_count": 114
  },
  {
   "cell_type": "markdown",
   "id": "85d47c18d97c98f",
   "metadata": {},
   "source": [
    "### ProductListPriceHistory"
   ]
  },
  {
   "cell_type": "code",
   "id": "4acf5899d4ecbd6a",
   "metadata": {
    "ExecuteTime": {
     "end_time": "2024-05-20T13:30:07.525211Z",
     "start_time": "2024-05-20T13:30:07.513631Z"
    }
   },
   "source": [
    "productlistpricehistories = adventureworks_production_productlistpricehistory\n",
    "\n",
    "# dropping the modified date and rowguid columns\n",
    "drop_modified_date_rowguid(productlistpricehistories)\n",
    "\n",
    "# renaming the columns\n",
    "productlistpricehistories.rename(columns={'ProductID': 'PRODUCTLISTPRICEHISTORY_PRODUCTLISTPRICEHISTORY_ProductID', 'StartDate': 'PRODUCTLISTPRICEHISTORY_PRODUCTLISTPRICEHISTORY_StartDate', 'EndDate': 'PRODUCTLISTPRICEHISTORY_PRODUCTLISTPRICEHISTORY_EndDate', 'ListPrice': 'PRODUCTLISTPRICEHISTORY_PRODUCTLISTPRICEHISTORY_ListPrice'}, inplace=True)\n",
    "\n",
    "productlistpricehistories.head()"
   ],
   "outputs": [
    {
     "data": {
      "text/plain": [
       "   PRODUCTLISTPRICEHISTORY_PRODUCTLISTPRICEHISTORY_ProductID  \\\n",
       "0                                                707           \n",
       "1                                                707           \n",
       "2                                                707           \n",
       "3                                                708           \n",
       "4                                                708           \n",
       "\n",
       "  PRODUCTLISTPRICEHISTORY_PRODUCTLISTPRICEHISTORY_StartDate  \\\n",
       "0                                         2011-05-31          \n",
       "1                                         2012-05-30          \n",
       "2                                         2013-05-30          \n",
       "3                                         2011-05-31          \n",
       "4                                         2012-05-30          \n",
       "\n",
       "  PRODUCTLISTPRICEHISTORY_PRODUCTLISTPRICEHISTORY_EndDate  \\\n",
       "0                                         2012-05-29        \n",
       "1                                         2013-05-29        \n",
       "2                                                NaT        \n",
       "3                                         2012-05-29        \n",
       "4                                         2013-05-29        \n",
       "\n",
       "   PRODUCTLISTPRICEHISTORY_PRODUCTLISTPRICEHISTORY_ListPrice  \n",
       "0                                            33.6442          \n",
       "1                                            33.6442          \n",
       "2                                            34.9900          \n",
       "3                                            33.6442          \n",
       "4                                            33.6442          "
      ],
      "text/html": [
       "<div>\n",
       "<style scoped>\n",
       "    .dataframe tbody tr th:only-of-type {\n",
       "        vertical-align: middle;\n",
       "    }\n",
       "\n",
       "    .dataframe tbody tr th {\n",
       "        vertical-align: top;\n",
       "    }\n",
       "\n",
       "    .dataframe thead th {\n",
       "        text-align: right;\n",
       "    }\n",
       "</style>\n",
       "<table border=\"1\" class=\"dataframe\">\n",
       "  <thead>\n",
       "    <tr style=\"text-align: right;\">\n",
       "      <th></th>\n",
       "      <th>PRODUCTLISTPRICEHISTORY_PRODUCTLISTPRICEHISTORY_ProductID</th>\n",
       "      <th>PRODUCTLISTPRICEHISTORY_PRODUCTLISTPRICEHISTORY_StartDate</th>\n",
       "      <th>PRODUCTLISTPRICEHISTORY_PRODUCTLISTPRICEHISTORY_EndDate</th>\n",
       "      <th>PRODUCTLISTPRICEHISTORY_PRODUCTLISTPRICEHISTORY_ListPrice</th>\n",
       "    </tr>\n",
       "  </thead>\n",
       "  <tbody>\n",
       "    <tr>\n",
       "      <th>0</th>\n",
       "      <td>707</td>\n",
       "      <td>2011-05-31</td>\n",
       "      <td>2012-05-29</td>\n",
       "      <td>33.6442</td>\n",
       "    </tr>\n",
       "    <tr>\n",
       "      <th>1</th>\n",
       "      <td>707</td>\n",
       "      <td>2012-05-30</td>\n",
       "      <td>2013-05-29</td>\n",
       "      <td>33.6442</td>\n",
       "    </tr>\n",
       "    <tr>\n",
       "      <th>2</th>\n",
       "      <td>707</td>\n",
       "      <td>2013-05-30</td>\n",
       "      <td>NaT</td>\n",
       "      <td>34.9900</td>\n",
       "    </tr>\n",
       "    <tr>\n",
       "      <th>3</th>\n",
       "      <td>708</td>\n",
       "      <td>2011-05-31</td>\n",
       "      <td>2012-05-29</td>\n",
       "      <td>33.6442</td>\n",
       "    </tr>\n",
       "    <tr>\n",
       "      <th>4</th>\n",
       "      <td>708</td>\n",
       "      <td>2012-05-30</td>\n",
       "      <td>2013-05-29</td>\n",
       "      <td>33.6442</td>\n",
       "    </tr>\n",
       "  </tbody>\n",
       "</table>\n",
       "</div>"
      ]
     },
     "execution_count": 115,
     "metadata": {},
     "output_type": "execute_result"
    }
   ],
   "execution_count": 115
  },
  {
   "cell_type": "markdown",
   "id": "b3a44bfba0cc6b57",
   "metadata": {},
   "source": [
    "### ProductCostHistory"
   ]
  },
  {
   "cell_type": "code",
   "id": "708ecc4881173549",
   "metadata": {
    "ExecuteTime": {
     "end_time": "2024-05-20T13:30:07.536520Z",
     "start_time": "2024-05-20T13:30:07.526225Z"
    }
   },
   "source": [
    "productcosthistories = adventureworks_production_productcosthistory\n",
    "\n",
    "# dropping the modified date and rowguid columns\n",
    "drop_modified_date_rowguid(productcosthistories)\n",
    "\n",
    "# renaming the columns\n",
    "productcosthistories.rename(columns={'ProductID': 'PRODUCTCOSTHISTORY_PRODUCTCOSTHISTORY_ProductID', 'StartDate': 'PRODUCTCOSTHISTORY_PRODUCTCOSTHISTORY_StartDate', 'EndDate': 'PRODUCTCOSTHISTORY_PRODUCTCOSTHISTORY_EndDate', 'StandardCost': 'PRODUCTCOSTHISTORY_PRODUCTCOSTHISTORY_StandardCost'}, inplace=True)\n",
    "\n",
    "productcosthistories.head()"
   ],
   "outputs": [
    {
     "data": {
      "text/plain": [
       "   PRODUCTCOSTHISTORY_PRODUCTCOSTHISTORY_ProductID  \\\n",
       "0                                              707   \n",
       "1                                              707   \n",
       "2                                              707   \n",
       "3                                              708   \n",
       "4                                              708   \n",
       "\n",
       "  PRODUCTCOSTHISTORY_PRODUCTCOSTHISTORY_StartDate  \\\n",
       "0                                      2011-05-31   \n",
       "1                                      2012-05-30   \n",
       "2                                      2013-05-30   \n",
       "3                                      2011-05-31   \n",
       "4                                      2012-05-30   \n",
       "\n",
       "  PRODUCTCOSTHISTORY_PRODUCTCOSTHISTORY_EndDate  \\\n",
       "0                                    2012-05-29   \n",
       "1                                    2013-05-29   \n",
       "2                                           NaT   \n",
       "3                                    2012-05-29   \n",
       "4                                    2013-05-29   \n",
       "\n",
       "   PRODUCTCOSTHISTORY_PRODUCTCOSTHISTORY_StandardCost  \n",
       "0                                            12.0278   \n",
       "1                                            13.8782   \n",
       "2                                            13.0863   \n",
       "3                                            12.0278   \n",
       "4                                            13.8782   "
      ],
      "text/html": [
       "<div>\n",
       "<style scoped>\n",
       "    .dataframe tbody tr th:only-of-type {\n",
       "        vertical-align: middle;\n",
       "    }\n",
       "\n",
       "    .dataframe tbody tr th {\n",
       "        vertical-align: top;\n",
       "    }\n",
       "\n",
       "    .dataframe thead th {\n",
       "        text-align: right;\n",
       "    }\n",
       "</style>\n",
       "<table border=\"1\" class=\"dataframe\">\n",
       "  <thead>\n",
       "    <tr style=\"text-align: right;\">\n",
       "      <th></th>\n",
       "      <th>PRODUCTCOSTHISTORY_PRODUCTCOSTHISTORY_ProductID</th>\n",
       "      <th>PRODUCTCOSTHISTORY_PRODUCTCOSTHISTORY_StartDate</th>\n",
       "      <th>PRODUCTCOSTHISTORY_PRODUCTCOSTHISTORY_EndDate</th>\n",
       "      <th>PRODUCTCOSTHISTORY_PRODUCTCOSTHISTORY_StandardCost</th>\n",
       "    </tr>\n",
       "  </thead>\n",
       "  <tbody>\n",
       "    <tr>\n",
       "      <th>0</th>\n",
       "      <td>707</td>\n",
       "      <td>2011-05-31</td>\n",
       "      <td>2012-05-29</td>\n",
       "      <td>12.0278</td>\n",
       "    </tr>\n",
       "    <tr>\n",
       "      <th>1</th>\n",
       "      <td>707</td>\n",
       "      <td>2012-05-30</td>\n",
       "      <td>2013-05-29</td>\n",
       "      <td>13.8782</td>\n",
       "    </tr>\n",
       "    <tr>\n",
       "      <th>2</th>\n",
       "      <td>707</td>\n",
       "      <td>2013-05-30</td>\n",
       "      <td>NaT</td>\n",
       "      <td>13.0863</td>\n",
       "    </tr>\n",
       "    <tr>\n",
       "      <th>3</th>\n",
       "      <td>708</td>\n",
       "      <td>2011-05-31</td>\n",
       "      <td>2012-05-29</td>\n",
       "      <td>12.0278</td>\n",
       "    </tr>\n",
       "    <tr>\n",
       "      <th>4</th>\n",
       "      <td>708</td>\n",
       "      <td>2012-05-30</td>\n",
       "      <td>2013-05-29</td>\n",
       "      <td>13.8782</td>\n",
       "    </tr>\n",
       "  </tbody>\n",
       "</table>\n",
       "</div>"
      ]
     },
     "execution_count": 116,
     "metadata": {},
     "output_type": "execute_result"
    }
   ],
   "execution_count": 116
  },
  {
   "cell_type": "markdown",
   "id": "6c70234199480a5b",
   "metadata": {},
   "source": [
    "### ShoppingCartItem"
   ]
  },
  {
   "cell_type": "code",
   "id": "75c909c0a1af2322",
   "metadata": {
    "ExecuteTime": {
     "end_time": "2024-05-20T13:30:07.549001Z",
     "start_time": "2024-05-20T13:30:07.539524Z"
    }
   },
   "source": [
    "shoppingcartitems = adventureworks_sales_shoppingcartitem\n",
    "\n",
    "# dropping the modified date and rowguid columns\n",
    "drop_modified_date_rowguid(shoppingcartitems)\n",
    "\n",
    "# renaming the columns\n",
    "shoppingcartitems.rename(columns={'ShoppingCartItemID': 'SHOPPINGCARTITEM_SHOPPINGCARTITEM_ShoppingCartItemID', 'ShoppingCartID': 'SHOPPINGCARTITEM_SHOPPINGCARTITEM_ShoppingCartID', 'Quantity': 'SHOPPINGCARTITEM_SHOPPINGCARTITEM_Quantity', 'ProductID': 'SHOPPINGCARTITEM_SHOPPINGCARTITEM_ProductID', 'DateCreated': 'SHOPPINGCARTITEM_SHOPPINGCARTITEM_DateCreated'}, inplace=True)\n",
    "\n",
    "shoppingcartitems.head()"
   ],
   "outputs": [
    {
     "data": {
      "text/plain": [
       "   SHOPPINGCARTITEM_SHOPPINGCARTITEM_ShoppingCartItemID  \\\n",
       "0                                                  2      \n",
       "1                                                  4      \n",
       "2                                                  5      \n",
       "\n",
       "  SHOPPINGCARTITEM_SHOPPINGCARTITEM_ShoppingCartID  \\\n",
       "0                                            14951   \n",
       "1                                            20621   \n",
       "2                                            20621   \n",
       "\n",
       "   SHOPPINGCARTITEM_SHOPPINGCARTITEM_Quantity  \\\n",
       "0                                           3   \n",
       "1                                           4   \n",
       "2                                           7   \n",
       "\n",
       "   SHOPPINGCARTITEM_SHOPPINGCARTITEM_ProductID  \\\n",
       "0                                          862   \n",
       "1                                          881   \n",
       "2                                          874   \n",
       "\n",
       "  SHOPPINGCARTITEM_SHOPPINGCARTITEM_DateCreated  \n",
       "0                       2013-11-09 17:54:07.603  \n",
       "1                       2013-11-09 17:54:07.603  \n",
       "2                       2013-11-09 17:54:07.603  "
      ],
      "text/html": [
       "<div>\n",
       "<style scoped>\n",
       "    .dataframe tbody tr th:only-of-type {\n",
       "        vertical-align: middle;\n",
       "    }\n",
       "\n",
       "    .dataframe tbody tr th {\n",
       "        vertical-align: top;\n",
       "    }\n",
       "\n",
       "    .dataframe thead th {\n",
       "        text-align: right;\n",
       "    }\n",
       "</style>\n",
       "<table border=\"1\" class=\"dataframe\">\n",
       "  <thead>\n",
       "    <tr style=\"text-align: right;\">\n",
       "      <th></th>\n",
       "      <th>SHOPPINGCARTITEM_SHOPPINGCARTITEM_ShoppingCartItemID</th>\n",
       "      <th>SHOPPINGCARTITEM_SHOPPINGCARTITEM_ShoppingCartID</th>\n",
       "      <th>SHOPPINGCARTITEM_SHOPPINGCARTITEM_Quantity</th>\n",
       "      <th>SHOPPINGCARTITEM_SHOPPINGCARTITEM_ProductID</th>\n",
       "      <th>SHOPPINGCARTITEM_SHOPPINGCARTITEM_DateCreated</th>\n",
       "    </tr>\n",
       "  </thead>\n",
       "  <tbody>\n",
       "    <tr>\n",
       "      <th>0</th>\n",
       "      <td>2</td>\n",
       "      <td>14951</td>\n",
       "      <td>3</td>\n",
       "      <td>862</td>\n",
       "      <td>2013-11-09 17:54:07.603</td>\n",
       "    </tr>\n",
       "    <tr>\n",
       "      <th>1</th>\n",
       "      <td>4</td>\n",
       "      <td>20621</td>\n",
       "      <td>4</td>\n",
       "      <td>881</td>\n",
       "      <td>2013-11-09 17:54:07.603</td>\n",
       "    </tr>\n",
       "    <tr>\n",
       "      <th>2</th>\n",
       "      <td>5</td>\n",
       "      <td>20621</td>\n",
       "      <td>7</td>\n",
       "      <td>874</td>\n",
       "      <td>2013-11-09 17:54:07.603</td>\n",
       "    </tr>\n",
       "  </tbody>\n",
       "</table>\n",
       "</div>"
      ]
     },
     "execution_count": 117,
     "metadata": {},
     "output_type": "execute_result"
    }
   ],
   "execution_count": 117
  },
  {
   "cell_type": "markdown",
   "id": "48be16885aaf2768",
   "metadata": {},
   "source": [
    "### SalesPersonQuotaHistory"
   ]
  },
  {
   "cell_type": "code",
   "id": "2138fb3d35d4c6b6",
   "metadata": {
    "ExecuteTime": {
     "end_time": "2024-05-20T13:30:07.559883Z",
     "start_time": "2024-05-20T13:30:07.549001Z"
    }
   },
   "source": [
    "salespersonquotahistories = adventureworks_sales_salespersonquotahistory\n",
    "\n",
    "# dropping the modified date and rowguid columns\n",
    "drop_modified_date_rowguid(salespersonquotahistories)\n",
    "\n",
    "# renaming the columns\n",
    "salespersonquotahistories.rename(columns={'BusinessEntityID': 'SALESPERSONQUOTAHISTORY_SALESPERSONQUOTAHISTORY_BusinessEntityID', 'QuotaDate': 'SALESPERSONQUOTAHISTORY_SALESPERSONQUOTAHISTORY_QuotaDate', 'SalesQuota': 'SALESPERSONQUOTAHISTORY_SALESPERSONQUOTAHISTORY_SalesQuota'}, inplace=True)\n",
    "\n",
    "salespersonquotahistories.head()"
   ],
   "outputs": [
    {
     "data": {
      "text/plain": [
       "   SALESPERSONQUOTAHISTORY_SALESPERSONQUOTAHISTORY_BusinessEntityID  \\\n",
       "0                                                274                  \n",
       "1                                                274                  \n",
       "2                                                274                  \n",
       "3                                                274                  \n",
       "4                                                274                  \n",
       "\n",
       "  SALESPERSONQUOTAHISTORY_SALESPERSONQUOTAHISTORY_QuotaDate  \\\n",
       "0                                         2011-05-31          \n",
       "1                                         2011-08-31          \n",
       "2                                         2011-12-01          \n",
       "3                                         2012-02-29          \n",
       "4                                         2012-05-30          \n",
       "\n",
       "   SALESPERSONQUOTAHISTORY_SALESPERSONQUOTAHISTORY_SalesQuota  \n",
       "0                                            28000.0           \n",
       "1                                             7000.0           \n",
       "2                                            91000.0           \n",
       "3                                           140000.0           \n",
       "4                                            70000.0           "
      ],
      "text/html": [
       "<div>\n",
       "<style scoped>\n",
       "    .dataframe tbody tr th:only-of-type {\n",
       "        vertical-align: middle;\n",
       "    }\n",
       "\n",
       "    .dataframe tbody tr th {\n",
       "        vertical-align: top;\n",
       "    }\n",
       "\n",
       "    .dataframe thead th {\n",
       "        text-align: right;\n",
       "    }\n",
       "</style>\n",
       "<table border=\"1\" class=\"dataframe\">\n",
       "  <thead>\n",
       "    <tr style=\"text-align: right;\">\n",
       "      <th></th>\n",
       "      <th>SALESPERSONQUOTAHISTORY_SALESPERSONQUOTAHISTORY_BusinessEntityID</th>\n",
       "      <th>SALESPERSONQUOTAHISTORY_SALESPERSONQUOTAHISTORY_QuotaDate</th>\n",
       "      <th>SALESPERSONQUOTAHISTORY_SALESPERSONQUOTAHISTORY_SalesQuota</th>\n",
       "    </tr>\n",
       "  </thead>\n",
       "  <tbody>\n",
       "    <tr>\n",
       "      <th>0</th>\n",
       "      <td>274</td>\n",
       "      <td>2011-05-31</td>\n",
       "      <td>28000.0</td>\n",
       "    </tr>\n",
       "    <tr>\n",
       "      <th>1</th>\n",
       "      <td>274</td>\n",
       "      <td>2011-08-31</td>\n",
       "      <td>7000.0</td>\n",
       "    </tr>\n",
       "    <tr>\n",
       "      <th>2</th>\n",
       "      <td>274</td>\n",
       "      <td>2011-12-01</td>\n",
       "      <td>91000.0</td>\n",
       "    </tr>\n",
       "    <tr>\n",
       "      <th>3</th>\n",
       "      <td>274</td>\n",
       "      <td>2012-02-29</td>\n",
       "      <td>140000.0</td>\n",
       "    </tr>\n",
       "    <tr>\n",
       "      <th>4</th>\n",
       "      <td>274</td>\n",
       "      <td>2012-05-30</td>\n",
       "      <td>70000.0</td>\n",
       "    </tr>\n",
       "  </tbody>\n",
       "</table>\n",
       "</div>"
      ]
     },
     "execution_count": 118,
     "metadata": {},
     "output_type": "execute_result"
    }
   ],
   "execution_count": 118
  },
  {
   "cell_type": "markdown",
   "id": "2789c1244e1fb15f",
   "metadata": {},
   "source": [
    "### Products (TODO CHANGE)"
   ]
  },
  {
   "cell_type": "code",
   "id": "8219ec936b825554",
   "metadata": {
    "nbdime-conflicts": {
     "local_diff": [
      {
       "diff": [
        {
         "diff": [
          {
           "key": 0,
           "op": "addrange",
           "valuelist": [
            "2024-05-16T14:59:29.481353Z"
           ]
          },
          {
           "key": 0,
           "length": 1,
           "op": "removerange"
          }
         ],
         "key": "end_time",
         "op": "patch"
        },
        {
         "diff": [
          {
           "key": 0,
           "op": "addrange",
           "valuelist": [
            "2024-05-16T14:59:29.474530Z"
           ]
          },
          {
           "key": 0,
           "length": 1,
           "op": "removerange"
          }
         ],
         "key": "start_time",
         "op": "patch"
        }
       ],
       "key": "ExecuteTime",
       "op": "patch"
      }
     ],
     "remote_diff": [
      {
       "key": "ExecuteTime",
       "op": "remove"
      }
     ]
    },
    "ExecuteTime": {
     "end_time": "2024-05-20T13:30:07.567490Z",
     "start_time": "2024-05-20T13:30:07.560888Z"
    }
   },
   "source": [
    "# renaming aenc product columns to match the other product data\n",
    "aenc_product.rename(columns={'id': 'ProductID', 'name' : 'ProductName', 'description':'Description' , 'prod_size' : 'ProdSize', 'color': 'Color', 'quantity': 'Quantity','unit_price' : 'UnitPrice'}, inplace=True)\n",
    "\n",
    "aenc_product.head()"
   ],
   "outputs": [
    {
     "data": {
      "text/plain": [
       "   ProductID   ProductName Description           ProdSize   Color  Quantity  \\\n",
       "0        300     Tee Shirt    Tank Top              Small   White        18   \n",
       "1        301     Tee Shirt      V-neck             Medium  Orange        39   \n",
       "2        302     Tee Shirt   Crew Neck  One size fits all   Black        72   \n",
       "3        400  Baseball Cap  Cotton Cap  One size fits all   Black        92   \n",
       "4        401  Baseball Cap    Wool cap  One size fits all   White        12   \n",
       "\n",
       "   UnitPrice picture_name     Category  \n",
       "0          9  tshirtw.bmp      Clothes  \n",
       "1         14  tshirto.bmp      Clothes  \n",
       "2         14  tshirtb.bmp      Clothes  \n",
       "3          9     capb.bmp  Accessories  \n",
       "4         10     capw.bmp  Accessories  "
      ],
      "text/html": [
       "<div>\n",
       "<style scoped>\n",
       "    .dataframe tbody tr th:only-of-type {\n",
       "        vertical-align: middle;\n",
       "    }\n",
       "\n",
       "    .dataframe tbody tr th {\n",
       "        vertical-align: top;\n",
       "    }\n",
       "\n",
       "    .dataframe thead th {\n",
       "        text-align: right;\n",
       "    }\n",
       "</style>\n",
       "<table border=\"1\" class=\"dataframe\">\n",
       "  <thead>\n",
       "    <tr style=\"text-align: right;\">\n",
       "      <th></th>\n",
       "      <th>ProductID</th>\n",
       "      <th>ProductName</th>\n",
       "      <th>Description</th>\n",
       "      <th>ProdSize</th>\n",
       "      <th>Color</th>\n",
       "      <th>Quantity</th>\n",
       "      <th>UnitPrice</th>\n",
       "      <th>picture_name</th>\n",
       "      <th>Category</th>\n",
       "    </tr>\n",
       "  </thead>\n",
       "  <tbody>\n",
       "    <tr>\n",
       "      <th>0</th>\n",
       "      <td>300</td>\n",
       "      <td>Tee Shirt</td>\n",
       "      <td>Tank Top</td>\n",
       "      <td>Small</td>\n",
       "      <td>White</td>\n",
       "      <td>18</td>\n",
       "      <td>9</td>\n",
       "      <td>tshirtw.bmp</td>\n",
       "      <td>Clothes</td>\n",
       "    </tr>\n",
       "    <tr>\n",
       "      <th>1</th>\n",
       "      <td>301</td>\n",
       "      <td>Tee Shirt</td>\n",
       "      <td>V-neck</td>\n",
       "      <td>Medium</td>\n",
       "      <td>Orange</td>\n",
       "      <td>39</td>\n",
       "      <td>14</td>\n",
       "      <td>tshirto.bmp</td>\n",
       "      <td>Clothes</td>\n",
       "    </tr>\n",
       "    <tr>\n",
       "      <th>2</th>\n",
       "      <td>302</td>\n",
       "      <td>Tee Shirt</td>\n",
       "      <td>Crew Neck</td>\n",
       "      <td>One size fits all</td>\n",
       "      <td>Black</td>\n",
       "      <td>72</td>\n",
       "      <td>14</td>\n",
       "      <td>tshirtb.bmp</td>\n",
       "      <td>Clothes</td>\n",
       "    </tr>\n",
       "    <tr>\n",
       "      <th>3</th>\n",
       "      <td>400</td>\n",
       "      <td>Baseball Cap</td>\n",
       "      <td>Cotton Cap</td>\n",
       "      <td>One size fits all</td>\n",
       "      <td>Black</td>\n",
       "      <td>92</td>\n",
       "      <td>9</td>\n",
       "      <td>capb.bmp</td>\n",
       "      <td>Accessories</td>\n",
       "    </tr>\n",
       "    <tr>\n",
       "      <th>4</th>\n",
       "      <td>401</td>\n",
       "      <td>Baseball Cap</td>\n",
       "      <td>Wool cap</td>\n",
       "      <td>One size fits all</td>\n",
       "      <td>White</td>\n",
       "      <td>12</td>\n",
       "      <td>10</td>\n",
       "      <td>capw.bmp</td>\n",
       "      <td>Accessories</td>\n",
       "    </tr>\n",
       "  </tbody>\n",
       "</table>\n",
       "</div>"
      ]
     },
     "execution_count": 119,
     "metadata": {},
     "output_type": "execute_result"
    }
   ],
   "execution_count": 119
  },
  {
   "cell_type": "code",
   "id": "52a700e7372e5349",
   "metadata": {
    "nbdime-conflicts": {
     "local_diff": [
      {
       "diff": [
        {
         "diff": [
          {
           "key": 0,
           "op": "addrange",
           "valuelist": [
            "2024-05-16T14:59:29.497842Z"
           ]
          },
          {
           "key": 0,
           "length": 1,
           "op": "removerange"
          }
         ],
         "key": "end_time",
         "op": "patch"
        },
        {
         "diff": [
          {
           "key": 0,
           "op": "addrange",
           "valuelist": [
            "2024-05-16T14:59:29.481860Z"
           ]
          },
          {
           "key": 0,
           "length": 1,
           "op": "removerange"
          }
         ],
         "key": "start_time",
         "op": "patch"
        }
       ],
       "key": "ExecuteTime",
       "op": "patch"
      }
     ],
     "remote_diff": [
      {
       "key": "ExecuteTime",
       "op": "remove"
      }
     ]
    },
    "ExecuteTime": {
     "end_time": "2024-05-20T13:30:07.587562Z",
     "start_time": "2024-05-20T13:30:07.567490Z"
    }
   },
   "source": [
    "# combining all adventureworks product data\n",
    "adventureworks_combined_products = pd.concat([adventureworks_production_product, adventureworks_production_productcategory, adventureworks_production_productsubcategory, adventureworks_production_productdescription, adventureworks_production_productdocument, adventureworks_production_productmodel, adventureworks_production_productmodelillustration, adventureworks_production_productmodelproductdescriptionculture, adventureworks_production_productphoto, adventureworks_production_productproductphoto  ], ignore_index=True)\n",
    "\n",
    "adventureworks_combined_products.head()"
   ],
   "outputs": [
    {
     "data": {
      "text/plain": [
       "   ProductID                   Name ProductNumber MakeFlag FinishedGoodsFlag  \\\n",
       "0        1.0        Adjustable Race       AR-5381    False             False   \n",
       "1        2.0           Bearing Ball       BA-8327    False             False   \n",
       "2        3.0        BB Ball Bearing       BE-2349     True             False   \n",
       "3        4.0  Headset Ball Bearings       BE-2908    False             False   \n",
       "4      316.0                  Blade       BL-2036     True             False   \n",
       "\n",
       "  Color  SafetyStockLevel  ReorderPoint  StandardCost  ListPrice  ...  \\\n",
       "0  None            1000.0         750.0           0.0        0.0  ...   \n",
       "1  None            1000.0         750.0           0.0        0.0  ...   \n",
       "2  None             800.0         600.0           0.0        0.0  ...   \n",
       "3  None             800.0         600.0           0.0        0.0  ...   \n",
       "4  None             800.0         600.0           0.0        0.0  ...   \n",
       "\n",
       "  CatalogDescription Instructions IllustrationID  CultureID  ProductPhotoID  \\\n",
       "0                NaN          NaN            NaN        NaN             NaN   \n",
       "1                NaN          NaN            NaN        NaN             NaN   \n",
       "2                NaN          NaN            NaN        NaN             NaN   \n",
       "3                NaN          NaN            NaN        NaN             NaN   \n",
       "4                NaN          NaN            NaN        NaN             NaN   \n",
       "\n",
       "  ThumbNailPhotoHexString ThumbNailPhotoFileName LargePhotoHexString  \\\n",
       "0                     NaN                    NaN                 NaN   \n",
       "1                     NaN                    NaN                 NaN   \n",
       "2                     NaN                    NaN                 NaN   \n",
       "3                     NaN                    NaN                 NaN   \n",
       "4                     NaN                    NaN                 NaN   \n",
       "\n",
       "   LargePhotoFileName  Primary  \n",
       "0                 NaN      NaN  \n",
       "1                 NaN      NaN  \n",
       "2                 NaN      NaN  \n",
       "3                 NaN      NaN  \n",
       "4                 NaN      NaN  \n",
       "\n",
       "[5 rows x 40 columns]"
      ],
      "text/html": [
       "<div>\n",
       "<style scoped>\n",
       "    .dataframe tbody tr th:only-of-type {\n",
       "        vertical-align: middle;\n",
       "    }\n",
       "\n",
       "    .dataframe tbody tr th {\n",
       "        vertical-align: top;\n",
       "    }\n",
       "\n",
       "    .dataframe thead th {\n",
       "        text-align: right;\n",
       "    }\n",
       "</style>\n",
       "<table border=\"1\" class=\"dataframe\">\n",
       "  <thead>\n",
       "    <tr style=\"text-align: right;\">\n",
       "      <th></th>\n",
       "      <th>ProductID</th>\n",
       "      <th>Name</th>\n",
       "      <th>ProductNumber</th>\n",
       "      <th>MakeFlag</th>\n",
       "      <th>FinishedGoodsFlag</th>\n",
       "      <th>Color</th>\n",
       "      <th>SafetyStockLevel</th>\n",
       "      <th>ReorderPoint</th>\n",
       "      <th>StandardCost</th>\n",
       "      <th>ListPrice</th>\n",
       "      <th>...</th>\n",
       "      <th>CatalogDescription</th>\n",
       "      <th>Instructions</th>\n",
       "      <th>IllustrationID</th>\n",
       "      <th>CultureID</th>\n",
       "      <th>ProductPhotoID</th>\n",
       "      <th>ThumbNailPhotoHexString</th>\n",
       "      <th>ThumbNailPhotoFileName</th>\n",
       "      <th>LargePhotoHexString</th>\n",
       "      <th>LargePhotoFileName</th>\n",
       "      <th>Primary</th>\n",
       "    </tr>\n",
       "  </thead>\n",
       "  <tbody>\n",
       "    <tr>\n",
       "      <th>0</th>\n",
       "      <td>1.0</td>\n",
       "      <td>Adjustable Race</td>\n",
       "      <td>AR-5381</td>\n",
       "      <td>False</td>\n",
       "      <td>False</td>\n",
       "      <td>None</td>\n",
       "      <td>1000.0</td>\n",
       "      <td>750.0</td>\n",
       "      <td>0.0</td>\n",
       "      <td>0.0</td>\n",
       "      <td>...</td>\n",
       "      <td>NaN</td>\n",
       "      <td>NaN</td>\n",
       "      <td>NaN</td>\n",
       "      <td>NaN</td>\n",
       "      <td>NaN</td>\n",
       "      <td>NaN</td>\n",
       "      <td>NaN</td>\n",
       "      <td>NaN</td>\n",
       "      <td>NaN</td>\n",
       "      <td>NaN</td>\n",
       "    </tr>\n",
       "    <tr>\n",
       "      <th>1</th>\n",
       "      <td>2.0</td>\n",
       "      <td>Bearing Ball</td>\n",
       "      <td>BA-8327</td>\n",
       "      <td>False</td>\n",
       "      <td>False</td>\n",
       "      <td>None</td>\n",
       "      <td>1000.0</td>\n",
       "      <td>750.0</td>\n",
       "      <td>0.0</td>\n",
       "      <td>0.0</td>\n",
       "      <td>...</td>\n",
       "      <td>NaN</td>\n",
       "      <td>NaN</td>\n",
       "      <td>NaN</td>\n",
       "      <td>NaN</td>\n",
       "      <td>NaN</td>\n",
       "      <td>NaN</td>\n",
       "      <td>NaN</td>\n",
       "      <td>NaN</td>\n",
       "      <td>NaN</td>\n",
       "      <td>NaN</td>\n",
       "    </tr>\n",
       "    <tr>\n",
       "      <th>2</th>\n",
       "      <td>3.0</td>\n",
       "      <td>BB Ball Bearing</td>\n",
       "      <td>BE-2349</td>\n",
       "      <td>True</td>\n",
       "      <td>False</td>\n",
       "      <td>None</td>\n",
       "      <td>800.0</td>\n",
       "      <td>600.0</td>\n",
       "      <td>0.0</td>\n",
       "      <td>0.0</td>\n",
       "      <td>...</td>\n",
       "      <td>NaN</td>\n",
       "      <td>NaN</td>\n",
       "      <td>NaN</td>\n",
       "      <td>NaN</td>\n",
       "      <td>NaN</td>\n",
       "      <td>NaN</td>\n",
       "      <td>NaN</td>\n",
       "      <td>NaN</td>\n",
       "      <td>NaN</td>\n",
       "      <td>NaN</td>\n",
       "    </tr>\n",
       "    <tr>\n",
       "      <th>3</th>\n",
       "      <td>4.0</td>\n",
       "      <td>Headset Ball Bearings</td>\n",
       "      <td>BE-2908</td>\n",
       "      <td>False</td>\n",
       "      <td>False</td>\n",
       "      <td>None</td>\n",
       "      <td>800.0</td>\n",
       "      <td>600.0</td>\n",
       "      <td>0.0</td>\n",
       "      <td>0.0</td>\n",
       "      <td>...</td>\n",
       "      <td>NaN</td>\n",
       "      <td>NaN</td>\n",
       "      <td>NaN</td>\n",
       "      <td>NaN</td>\n",
       "      <td>NaN</td>\n",
       "      <td>NaN</td>\n",
       "      <td>NaN</td>\n",
       "      <td>NaN</td>\n",
       "      <td>NaN</td>\n",
       "      <td>NaN</td>\n",
       "    </tr>\n",
       "    <tr>\n",
       "      <th>4</th>\n",
       "      <td>316.0</td>\n",
       "      <td>Blade</td>\n",
       "      <td>BL-2036</td>\n",
       "      <td>True</td>\n",
       "      <td>False</td>\n",
       "      <td>None</td>\n",
       "      <td>800.0</td>\n",
       "      <td>600.0</td>\n",
       "      <td>0.0</td>\n",
       "      <td>0.0</td>\n",
       "      <td>...</td>\n",
       "      <td>NaN</td>\n",
       "      <td>NaN</td>\n",
       "      <td>NaN</td>\n",
       "      <td>NaN</td>\n",
       "      <td>NaN</td>\n",
       "      <td>NaN</td>\n",
       "      <td>NaN</td>\n",
       "      <td>NaN</td>\n",
       "      <td>NaN</td>\n",
       "      <td>NaN</td>\n",
       "    </tr>\n",
       "  </tbody>\n",
       "</table>\n",
       "<p>5 rows × 40 columns</p>\n",
       "</div>"
      ]
     },
     "execution_count": 120,
     "metadata": {},
     "output_type": "execute_result"
    }
   ],
   "execution_count": 120
  },
  {
   "cell_type": "code",
   "id": "53115252ca2d1bf3",
   "metadata": {
    "nbdime-conflicts": {
     "local_diff": [
      {
       "diff": [
        {
         "diff": [
          {
           "key": 0,
           "op": "addrange",
           "valuelist": [
            "2024-05-16T14:59:29.516879Z"
           ]
          },
          {
           "key": 0,
           "length": 1,
           "op": "removerange"
          }
         ],
         "key": "end_time",
         "op": "patch"
        },
        {
         "diff": [
          {
           "key": 0,
           "op": "addrange",
           "valuelist": [
            "2024-05-16T14:59:29.498347Z"
           ]
          },
          {
           "key": 0,
           "length": 1,
           "op": "removerange"
          }
         ],
         "key": "start_time",
         "op": "patch"
        }
       ],
       "key": "ExecuteTime",
       "op": "patch"
      }
     ],
     "remote_diff": [
      {
       "key": "ExecuteTime",
       "op": "remove"
      }
     ]
    },
    "ExecuteTime": {
     "end_time": "2024-05-20T13:30:07.606663Z",
     "start_time": "2024-05-20T13:30:07.588567Z"
    }
   },
   "source": [
    "# Combining all product data\n",
    "products = pd.concat([northwind_products, aenc_product, adventureworks_combined_products], ignore_index=True)\n",
    "\n",
    "# replacing the document node with documentnodestring\n",
    "products['DocumentNode'] = products['DocumentNodeString']\n",
    "products.drop(columns=['DocumentNodeString'], inplace=True)\n",
    "\n",
    "# applying the data types to the columns\n",
    "products['ProductID'] = products['ProductID'].astype(float) # casting to float seems counterintuitive but it is necessary to avoid an error in Pandas\n",
    "\n",
    "# dropping documentnode column (need to fix later)\n",
    "products.drop(columns=['DocumentNode'], inplace=True)\n",
    "\n",
    "\n",
    "products.head()"
   ],
   "outputs": [
    {
     "data": {
      "text/plain": [
       "   ProductID                   ProductName  SupplierID  CategoryID  \\\n",
       "0        1.0                          Chai         1.0         1.0   \n",
       "1        2.0                         Chang         1.0         1.0   \n",
       "2        3.0                 Aniseed Syrup         1.0         2.0   \n",
       "3        4.0  Chef Anton's Cajun Seasoning         2.0         2.0   \n",
       "4        5.0        Chef Anton's Gumbo Mix         2.0         2.0   \n",
       "\n",
       "       QuantityPerUnit  UnitPrice  UnitsInStock  UnitsOnOrder  ReorderLevel  \\\n",
       "0   10 boxes x 20 bags      18.00          39.0           0.0          10.0   \n",
       "1   24 - 12 oz bottles      19.00          17.0          40.0          25.0   \n",
       "2  12 - 550 ml bottles      10.00          13.0          70.0          25.0   \n",
       "3       48 - 6 oz jars      22.00          53.0           0.0           0.0   \n",
       "4             36 boxes      21.35           0.0           0.0           0.0   \n",
       "\n",
       "  Discontinued  ... CatalogDescription Instructions IllustrationID  CultureID  \\\n",
       "0        False  ...                NaN          NaN            NaN        NaN   \n",
       "1        False  ...                NaN          NaN            NaN        NaN   \n",
       "2        False  ...                NaN          NaN            NaN        NaN   \n",
       "3        False  ...                NaN          NaN            NaN        NaN   \n",
       "4         True  ...                NaN          NaN            NaN        NaN   \n",
       "\n",
       "  ProductPhotoID ThumbNailPhotoHexString ThumbNailPhotoFileName  \\\n",
       "0            NaN                     NaN                    NaN   \n",
       "1            NaN                     NaN                    NaN   \n",
       "2            NaN                     NaN                    NaN   \n",
       "3            NaN                     NaN                    NaN   \n",
       "4            NaN                     NaN                    NaN   \n",
       "\n",
       "  LargePhotoHexString LargePhotoFileName Primary  \n",
       "0                 NaN                NaN     NaN  \n",
       "1                 NaN                NaN     NaN  \n",
       "2                 NaN                NaN     NaN  \n",
       "3                 NaN                NaN     NaN  \n",
       "4                 NaN                NaN     NaN  \n",
       "\n",
       "[5 rows x 51 columns]"
      ],
      "text/html": [
       "<div>\n",
       "<style scoped>\n",
       "    .dataframe tbody tr th:only-of-type {\n",
       "        vertical-align: middle;\n",
       "    }\n",
       "\n",
       "    .dataframe tbody tr th {\n",
       "        vertical-align: top;\n",
       "    }\n",
       "\n",
       "    .dataframe thead th {\n",
       "        text-align: right;\n",
       "    }\n",
       "</style>\n",
       "<table border=\"1\" class=\"dataframe\">\n",
       "  <thead>\n",
       "    <tr style=\"text-align: right;\">\n",
       "      <th></th>\n",
       "      <th>ProductID</th>\n",
       "      <th>ProductName</th>\n",
       "      <th>SupplierID</th>\n",
       "      <th>CategoryID</th>\n",
       "      <th>QuantityPerUnit</th>\n",
       "      <th>UnitPrice</th>\n",
       "      <th>UnitsInStock</th>\n",
       "      <th>UnitsOnOrder</th>\n",
       "      <th>ReorderLevel</th>\n",
       "      <th>Discontinued</th>\n",
       "      <th>...</th>\n",
       "      <th>CatalogDescription</th>\n",
       "      <th>Instructions</th>\n",
       "      <th>IllustrationID</th>\n",
       "      <th>CultureID</th>\n",
       "      <th>ProductPhotoID</th>\n",
       "      <th>ThumbNailPhotoHexString</th>\n",
       "      <th>ThumbNailPhotoFileName</th>\n",
       "      <th>LargePhotoHexString</th>\n",
       "      <th>LargePhotoFileName</th>\n",
       "      <th>Primary</th>\n",
       "    </tr>\n",
       "  </thead>\n",
       "  <tbody>\n",
       "    <tr>\n",
       "      <th>0</th>\n",
       "      <td>1.0</td>\n",
       "      <td>Chai</td>\n",
       "      <td>1.0</td>\n",
       "      <td>1.0</td>\n",
       "      <td>10 boxes x 20 bags</td>\n",
       "      <td>18.00</td>\n",
       "      <td>39.0</td>\n",
       "      <td>0.0</td>\n",
       "      <td>10.0</td>\n",
       "      <td>False</td>\n",
       "      <td>...</td>\n",
       "      <td>NaN</td>\n",
       "      <td>NaN</td>\n",
       "      <td>NaN</td>\n",
       "      <td>NaN</td>\n",
       "      <td>NaN</td>\n",
       "      <td>NaN</td>\n",
       "      <td>NaN</td>\n",
       "      <td>NaN</td>\n",
       "      <td>NaN</td>\n",
       "      <td>NaN</td>\n",
       "    </tr>\n",
       "    <tr>\n",
       "      <th>1</th>\n",
       "      <td>2.0</td>\n",
       "      <td>Chang</td>\n",
       "      <td>1.0</td>\n",
       "      <td>1.0</td>\n",
       "      <td>24 - 12 oz bottles</td>\n",
       "      <td>19.00</td>\n",
       "      <td>17.0</td>\n",
       "      <td>40.0</td>\n",
       "      <td>25.0</td>\n",
       "      <td>False</td>\n",
       "      <td>...</td>\n",
       "      <td>NaN</td>\n",
       "      <td>NaN</td>\n",
       "      <td>NaN</td>\n",
       "      <td>NaN</td>\n",
       "      <td>NaN</td>\n",
       "      <td>NaN</td>\n",
       "      <td>NaN</td>\n",
       "      <td>NaN</td>\n",
       "      <td>NaN</td>\n",
       "      <td>NaN</td>\n",
       "    </tr>\n",
       "    <tr>\n",
       "      <th>2</th>\n",
       "      <td>3.0</td>\n",
       "      <td>Aniseed Syrup</td>\n",
       "      <td>1.0</td>\n",
       "      <td>2.0</td>\n",
       "      <td>12 - 550 ml bottles</td>\n",
       "      <td>10.00</td>\n",
       "      <td>13.0</td>\n",
       "      <td>70.0</td>\n",
       "      <td>25.0</td>\n",
       "      <td>False</td>\n",
       "      <td>...</td>\n",
       "      <td>NaN</td>\n",
       "      <td>NaN</td>\n",
       "      <td>NaN</td>\n",
       "      <td>NaN</td>\n",
       "      <td>NaN</td>\n",
       "      <td>NaN</td>\n",
       "      <td>NaN</td>\n",
       "      <td>NaN</td>\n",
       "      <td>NaN</td>\n",
       "      <td>NaN</td>\n",
       "    </tr>\n",
       "    <tr>\n",
       "      <th>3</th>\n",
       "      <td>4.0</td>\n",
       "      <td>Chef Anton's Cajun Seasoning</td>\n",
       "      <td>2.0</td>\n",
       "      <td>2.0</td>\n",
       "      <td>48 - 6 oz jars</td>\n",
       "      <td>22.00</td>\n",
       "      <td>53.0</td>\n",
       "      <td>0.0</td>\n",
       "      <td>0.0</td>\n",
       "      <td>False</td>\n",
       "      <td>...</td>\n",
       "      <td>NaN</td>\n",
       "      <td>NaN</td>\n",
       "      <td>NaN</td>\n",
       "      <td>NaN</td>\n",
       "      <td>NaN</td>\n",
       "      <td>NaN</td>\n",
       "      <td>NaN</td>\n",
       "      <td>NaN</td>\n",
       "      <td>NaN</td>\n",
       "      <td>NaN</td>\n",
       "    </tr>\n",
       "    <tr>\n",
       "      <th>4</th>\n",
       "      <td>5.0</td>\n",
       "      <td>Chef Anton's Gumbo Mix</td>\n",
       "      <td>2.0</td>\n",
       "      <td>2.0</td>\n",
       "      <td>36 boxes</td>\n",
       "      <td>21.35</td>\n",
       "      <td>0.0</td>\n",
       "      <td>0.0</td>\n",
       "      <td>0.0</td>\n",
       "      <td>True</td>\n",
       "      <td>...</td>\n",
       "      <td>NaN</td>\n",
       "      <td>NaN</td>\n",
       "      <td>NaN</td>\n",
       "      <td>NaN</td>\n",
       "      <td>NaN</td>\n",
       "      <td>NaN</td>\n",
       "      <td>NaN</td>\n",
       "      <td>NaN</td>\n",
       "      <td>NaN</td>\n",
       "      <td>NaN</td>\n",
       "    </tr>\n",
       "  </tbody>\n",
       "</table>\n",
       "<p>5 rows × 51 columns</p>\n",
       "</div>"
      ]
     },
     "execution_count": 121,
     "metadata": {},
     "output_type": "execute_result"
    }
   ],
   "execution_count": 121
  },
  {
   "cell_type": "markdown",
   "id": "31445f109a25aeef",
   "metadata": {},
   "source": [
    "### Regions (TODO CHANGE)"
   ]
  },
  {
   "cell_type": "code",
   "id": "365bf888b63d9f1a",
   "metadata": {
    "nbdime-conflicts": {
     "local_diff": [
      {
       "diff": [
        {
         "diff": [
          {
           "key": 0,
           "op": "addrange",
           "valuelist": [
            "2024-05-16T14:59:29.527491Z"
           ]
          },
          {
           "key": 0,
           "length": 1,
           "op": "removerange"
          }
         ],
         "key": "end_time",
         "op": "patch"
        },
        {
         "diff": [
          {
           "key": 0,
           "op": "addrange",
           "valuelist": [
            "2024-05-16T14:59:29.517386Z"
           ]
          },
          {
           "key": 0,
           "length": 1,
           "op": "removerange"
          }
         ],
         "key": "start_time",
         "op": "patch"
        }
       ],
       "key": "ExecuteTime",
       "op": "patch"
      }
     ],
     "remote_diff": [
      {
       "key": "ExecuteTime",
       "op": "remove"
      }
     ]
    },
    "ExecuteTime": {
     "end_time": "2024-05-20T13:30:07.616162Z",
     "start_time": "2024-05-20T13:30:07.606663Z"
    }
   },
   "source": [
    "# Combining all region data\n",
    "regions = pd.concat([northwind_region, aenc_region, adventureworks_person_stateprovince], ignore_index=True)\n",
    "\n",
    "# combining regiondescription and region columns to create a name column (one is always None)\n",
    "regions['RegionName'] = regions['RegionDescription'].combine_first(regions['region'])\n",
    "\n",
    "# dropping the other columns\n",
    "regions.drop(columns=['RegionDescription', 'region'], inplace=True)\n",
    "\n",
    "\n",
    "regions.head()"
   ],
   "outputs": [
    {
     "data": {
      "text/plain": [
       "   RegionID  StateProvinceID StateProvinceCode CountryRegionCode  \\\n",
       "0       1.0              NaN               NaN               NaN   \n",
       "1       2.0              NaN               NaN               NaN   \n",
       "2       3.0              NaN               NaN               NaN   \n",
       "3       4.0              NaN               NaN               NaN   \n",
       "4       NaN              NaN               NaN               NaN   \n",
       "\n",
       "  IsOnlyStateProvinceFlag Name  TerritoryID rowguid ModifiedDate  \\\n",
       "0                     NaN  NaN          NaN     NaN          NaT   \n",
       "1                     NaN  NaN          NaN     NaN          NaT   \n",
       "2                     NaN  NaN          NaN     NaN          NaT   \n",
       "3                     NaN  NaN          NaN     NaN          NaT   \n",
       "4                     NaN  NaN          NaN     NaN          NaT   \n",
       "\n",
       "                                          RegionName  \n",
       "0  Eastern                                       ...  \n",
       "1  Western                                       ...  \n",
       "2  Northern                                      ...  \n",
       "3  Southern                                      ...  \n",
       "4                                             Canada  "
      ],
      "text/html": [
       "<div>\n",
       "<style scoped>\n",
       "    .dataframe tbody tr th:only-of-type {\n",
       "        vertical-align: middle;\n",
       "    }\n",
       "\n",
       "    .dataframe tbody tr th {\n",
       "        vertical-align: top;\n",
       "    }\n",
       "\n",
       "    .dataframe thead th {\n",
       "        text-align: right;\n",
       "    }\n",
       "</style>\n",
       "<table border=\"1\" class=\"dataframe\">\n",
       "  <thead>\n",
       "    <tr style=\"text-align: right;\">\n",
       "      <th></th>\n",
       "      <th>RegionID</th>\n",
       "      <th>StateProvinceID</th>\n",
       "      <th>StateProvinceCode</th>\n",
       "      <th>CountryRegionCode</th>\n",
       "      <th>IsOnlyStateProvinceFlag</th>\n",
       "      <th>Name</th>\n",
       "      <th>TerritoryID</th>\n",
       "      <th>rowguid</th>\n",
       "      <th>ModifiedDate</th>\n",
       "      <th>RegionName</th>\n",
       "    </tr>\n",
       "  </thead>\n",
       "  <tbody>\n",
       "    <tr>\n",
       "      <th>0</th>\n",
       "      <td>1.0</td>\n",
       "      <td>NaN</td>\n",
       "      <td>NaN</td>\n",
       "      <td>NaN</td>\n",
       "      <td>NaN</td>\n",
       "      <td>NaN</td>\n",
       "      <td>NaN</td>\n",
       "      <td>NaN</td>\n",
       "      <td>NaT</td>\n",
       "      <td>Eastern                                       ...</td>\n",
       "    </tr>\n",
       "    <tr>\n",
       "      <th>1</th>\n",
       "      <td>2.0</td>\n",
       "      <td>NaN</td>\n",
       "      <td>NaN</td>\n",
       "      <td>NaN</td>\n",
       "      <td>NaN</td>\n",
       "      <td>NaN</td>\n",
       "      <td>NaN</td>\n",
       "      <td>NaN</td>\n",
       "      <td>NaT</td>\n",
       "      <td>Western                                       ...</td>\n",
       "    </tr>\n",
       "    <tr>\n",
       "      <th>2</th>\n",
       "      <td>3.0</td>\n",
       "      <td>NaN</td>\n",
       "      <td>NaN</td>\n",
       "      <td>NaN</td>\n",
       "      <td>NaN</td>\n",
       "      <td>NaN</td>\n",
       "      <td>NaN</td>\n",
       "      <td>NaN</td>\n",
       "      <td>NaT</td>\n",
       "      <td>Northern                                      ...</td>\n",
       "    </tr>\n",
       "    <tr>\n",
       "      <th>3</th>\n",
       "      <td>4.0</td>\n",
       "      <td>NaN</td>\n",
       "      <td>NaN</td>\n",
       "      <td>NaN</td>\n",
       "      <td>NaN</td>\n",
       "      <td>NaN</td>\n",
       "      <td>NaN</td>\n",
       "      <td>NaN</td>\n",
       "      <td>NaT</td>\n",
       "      <td>Southern                                      ...</td>\n",
       "    </tr>\n",
       "    <tr>\n",
       "      <th>4</th>\n",
       "      <td>NaN</td>\n",
       "      <td>NaN</td>\n",
       "      <td>NaN</td>\n",
       "      <td>NaN</td>\n",
       "      <td>NaN</td>\n",
       "      <td>NaN</td>\n",
       "      <td>NaN</td>\n",
       "      <td>NaN</td>\n",
       "      <td>NaT</td>\n",
       "      <td>Canada</td>\n",
       "    </tr>\n",
       "  </tbody>\n",
       "</table>\n",
       "</div>"
      ]
     },
     "execution_count": 122,
     "metadata": {},
     "output_type": "execute_result"
    }
   ],
   "execution_count": 122
  },
  {
   "cell_type": "markdown",
   "id": "aa51d41ef0fb8a82",
   "metadata": {},
   "source": [
    "### Customers (TODO CHANGE)"
   ]
  },
  {
   "cell_type": "code",
   "id": "f97e4a3206895719",
   "metadata": {
    "nbdime-conflicts": {
     "local_diff": [
      {
       "diff": [
        {
         "diff": [
          {
           "key": 0,
           "op": "addrange",
           "valuelist": [
            "2024-05-16T14:59:29.537129Z"
           ]
          },
          {
           "key": 0,
           "length": 1,
           "op": "removerange"
          }
         ],
         "key": "end_time",
         "op": "patch"
        },
        {
         "diff": [
          {
           "key": 0,
           "op": "addrange",
           "valuelist": [
            "2024-05-16T14:59:29.527999Z"
           ]
          },
          {
           "key": 0,
           "length": 1,
           "op": "removerange"
          }
         ],
         "key": "start_time",
         "op": "patch"
        }
       ],
       "key": "ExecuteTime",
       "op": "patch"
      }
     ],
     "remote_diff": [
      {
       "key": "ExecuteTime",
       "op": "remove"
      }
     ]
    },
    "ExecuteTime": {
     "end_time": "2024-05-20T13:30:07.625287Z",
     "start_time": "2024-05-20T13:30:07.616162Z"
    }
   },
   "source": [
    "# combining northwind customer data\n",
    "northwind_combined_customer = pd.concat([northwind_customers, northwind_customer_customer_demo, northwind_customer_demographics], ignore_index=True)\n",
    "\n",
    "# renaming northwind customer columns to match the other customer data\n",
    "northwind_combined_customer.rename(columns={'PostalCode' : 'Zip'}, inplace=True)\n",
    "\n",
    "northwind_combined_customer.head()"
   ],
   "outputs": [
    {
     "data": {
      "text/plain": [
       "  CustomerID                         CompanyName         ContactName  \\\n",
       "0      ALFKI                 Alfreds Futterkiste        Maria Anders   \n",
       "1      ANATR  Ana Trujillo Emparedados y helados        Ana Trujillo   \n",
       "2      ANTON            Antonio Moreno TaquerÃ­a      Antonio Moreno   \n",
       "3      AROUT                     Around the Horn        Thomas Hardy   \n",
       "4      BERGS                 Berglunds snabbkÃ¶p  Christina Berglund   \n",
       "\n",
       "           ContactTitle                         Address          City Region  \\\n",
       "0  Sales Representative                   Obere Str. 57        Berlin   None   \n",
       "1                 Owner  Avda. de la ConstituciÃ³n 2222  MÃ©xico D.F.   None   \n",
       "2                 Owner                 Mataderos  2312  MÃ©xico D.F.   None   \n",
       "3  Sales Representative                 120 Hanover Sq.        London   None   \n",
       "4   Order Administrator                BerguvsvÃ¤gen  8        LuleÃ¥   None   \n",
       "\n",
       "        Zip  Country           Phone             Fax  \\\n",
       "0     12209  Germany     030-0074321     030-0076545   \n",
       "1     05021   Mexico    (5) 555-4729    (5) 555-3745   \n",
       "2     05023   Mexico    (5) 555-3932            None   \n",
       "3   WA1 1DP       UK  (171) 555-7788  (171) 555-6750   \n",
       "4  S-958 22   Sweden   0921-12 34 65   0921-12 34 67   \n",
       "\n",
       "  CUSTOMERCUSTOMERDEMO_CUSTOMERCUSTOMERDEMO_CustomerID  \\\n",
       "0                                                NaN     \n",
       "1                                                NaN     \n",
       "2                                                NaN     \n",
       "3                                                NaN     \n",
       "4                                                NaN     \n",
       "\n",
       "  CUSTOMERCUSTOMERDEMO_CUSTOMERCUSTOMERDEMO_CustomerTypeID  \\\n",
       "0                                                NaN         \n",
       "1                                                NaN         \n",
       "2                                                NaN         \n",
       "3                                                NaN         \n",
       "4                                                NaN         \n",
       "\n",
       "  CUSTOMERDEMOGRAPHIC_CUSTOMERDEMOGRAPHICS_CustomerTypeID  \\\n",
       "0                                                NaN        \n",
       "1                                                NaN        \n",
       "2                                                NaN        \n",
       "3                                                NaN        \n",
       "4                                                NaN        \n",
       "\n",
       "  CUSTOMERDEMOGRAPHIC_CUSTOMERDEMOGRAPHICS_CustomerDesc  \n",
       "0                                                NaN     \n",
       "1                                                NaN     \n",
       "2                                                NaN     \n",
       "3                                                NaN     \n",
       "4                                                NaN     "
      ],
      "text/html": [
       "<div>\n",
       "<style scoped>\n",
       "    .dataframe tbody tr th:only-of-type {\n",
       "        vertical-align: middle;\n",
       "    }\n",
       "\n",
       "    .dataframe tbody tr th {\n",
       "        vertical-align: top;\n",
       "    }\n",
       "\n",
       "    .dataframe thead th {\n",
       "        text-align: right;\n",
       "    }\n",
       "</style>\n",
       "<table border=\"1\" class=\"dataframe\">\n",
       "  <thead>\n",
       "    <tr style=\"text-align: right;\">\n",
       "      <th></th>\n",
       "      <th>CustomerID</th>\n",
       "      <th>CompanyName</th>\n",
       "      <th>ContactName</th>\n",
       "      <th>ContactTitle</th>\n",
       "      <th>Address</th>\n",
       "      <th>City</th>\n",
       "      <th>Region</th>\n",
       "      <th>Zip</th>\n",
       "      <th>Country</th>\n",
       "      <th>Phone</th>\n",
       "      <th>Fax</th>\n",
       "      <th>CUSTOMERCUSTOMERDEMO_CUSTOMERCUSTOMERDEMO_CustomerID</th>\n",
       "      <th>CUSTOMERCUSTOMERDEMO_CUSTOMERCUSTOMERDEMO_CustomerTypeID</th>\n",
       "      <th>CUSTOMERDEMOGRAPHIC_CUSTOMERDEMOGRAPHICS_CustomerTypeID</th>\n",
       "      <th>CUSTOMERDEMOGRAPHIC_CUSTOMERDEMOGRAPHICS_CustomerDesc</th>\n",
       "    </tr>\n",
       "  </thead>\n",
       "  <tbody>\n",
       "    <tr>\n",
       "      <th>0</th>\n",
       "      <td>ALFKI</td>\n",
       "      <td>Alfreds Futterkiste</td>\n",
       "      <td>Maria Anders</td>\n",
       "      <td>Sales Representative</td>\n",
       "      <td>Obere Str. 57</td>\n",
       "      <td>Berlin</td>\n",
       "      <td>None</td>\n",
       "      <td>12209</td>\n",
       "      <td>Germany</td>\n",
       "      <td>030-0074321</td>\n",
       "      <td>030-0076545</td>\n",
       "      <td>NaN</td>\n",
       "      <td>NaN</td>\n",
       "      <td>NaN</td>\n",
       "      <td>NaN</td>\n",
       "    </tr>\n",
       "    <tr>\n",
       "      <th>1</th>\n",
       "      <td>ANATR</td>\n",
       "      <td>Ana Trujillo Emparedados y helados</td>\n",
       "      <td>Ana Trujillo</td>\n",
       "      <td>Owner</td>\n",
       "      <td>Avda. de la ConstituciÃ³n 2222</td>\n",
       "      <td>MÃ©xico D.F.</td>\n",
       "      <td>None</td>\n",
       "      <td>05021</td>\n",
       "      <td>Mexico</td>\n",
       "      <td>(5) 555-4729</td>\n",
       "      <td>(5) 555-3745</td>\n",
       "      <td>NaN</td>\n",
       "      <td>NaN</td>\n",
       "      <td>NaN</td>\n",
       "      <td>NaN</td>\n",
       "    </tr>\n",
       "    <tr>\n",
       "      <th>2</th>\n",
       "      <td>ANTON</td>\n",
       "      <td>Antonio Moreno TaquerÃ­a</td>\n",
       "      <td>Antonio Moreno</td>\n",
       "      <td>Owner</td>\n",
       "      <td>Mataderos  2312</td>\n",
       "      <td>MÃ©xico D.F.</td>\n",
       "      <td>None</td>\n",
       "      <td>05023</td>\n",
       "      <td>Mexico</td>\n",
       "      <td>(5) 555-3932</td>\n",
       "      <td>None</td>\n",
       "      <td>NaN</td>\n",
       "      <td>NaN</td>\n",
       "      <td>NaN</td>\n",
       "      <td>NaN</td>\n",
       "    </tr>\n",
       "    <tr>\n",
       "      <th>3</th>\n",
       "      <td>AROUT</td>\n",
       "      <td>Around the Horn</td>\n",
       "      <td>Thomas Hardy</td>\n",
       "      <td>Sales Representative</td>\n",
       "      <td>120 Hanover Sq.</td>\n",
       "      <td>London</td>\n",
       "      <td>None</td>\n",
       "      <td>WA1 1DP</td>\n",
       "      <td>UK</td>\n",
       "      <td>(171) 555-7788</td>\n",
       "      <td>(171) 555-6750</td>\n",
       "      <td>NaN</td>\n",
       "      <td>NaN</td>\n",
       "      <td>NaN</td>\n",
       "      <td>NaN</td>\n",
       "    </tr>\n",
       "    <tr>\n",
       "      <th>4</th>\n",
       "      <td>BERGS</td>\n",
       "      <td>Berglunds snabbkÃ¶p</td>\n",
       "      <td>Christina Berglund</td>\n",
       "      <td>Order Administrator</td>\n",
       "      <td>BerguvsvÃ¤gen  8</td>\n",
       "      <td>LuleÃ¥</td>\n",
       "      <td>None</td>\n",
       "      <td>S-958 22</td>\n",
       "      <td>Sweden</td>\n",
       "      <td>0921-12 34 65</td>\n",
       "      <td>0921-12 34 67</td>\n",
       "      <td>NaN</td>\n",
       "      <td>NaN</td>\n",
       "      <td>NaN</td>\n",
       "      <td>NaN</td>\n",
       "    </tr>\n",
       "  </tbody>\n",
       "</table>\n",
       "</div>"
      ]
     },
     "execution_count": 123,
     "metadata": {},
     "output_type": "execute_result"
    }
   ],
   "execution_count": 123
  },
  {
   "cell_type": "code",
   "id": "8099785f8ab8b40",
   "metadata": {
    "nbdime-conflicts": {
     "local_diff": [
      {
       "diff": [
        {
         "diff": [
          {
           "key": 0,
           "op": "addrange",
           "valuelist": [
            "2024-05-16T14:59:29.668243Z"
           ]
          },
          {
           "key": 0,
           "length": 1,
           "op": "removerange"
          }
         ],
         "key": "end_time",
         "op": "patch"
        },
        {
         "diff": [
          {
           "key": 0,
           "op": "addrange",
           "valuelist": [
            "2024-05-16T14:59:29.537635Z"
           ]
          },
          {
           "key": 0,
           "length": 1,
           "op": "removerange"
          }
         ],
         "key": "start_time",
         "op": "patch"
        }
       ],
       "key": "ExecuteTime",
       "op": "patch"
      }
     ],
     "remote_diff": [
      {
       "key": "ExecuteTime",
       "op": "remove"
      }
     ]
    },
    "ExecuteTime": {
     "end_time": "2024-05-20T13:30:07.765883Z",
     "start_time": "2024-05-20T13:30:07.625287Z"
    }
   },
   "source": [
    "# combining all adventureworks customer data\n",
    "adventureworks_combined_customers = pd.merge(adventureworks_sales_customer, adventureworks_person_person, left_on='PersonID', right_on='BusinessEntityID', how='outer', suffixes=('_sales_customer', '_person'))\n",
    "\n",
    "adventureworks_combined_customers = pd.merge(adventureworks_combined_customers, adventureworks_person_businessentityaddress, left_on='BusinessEntityID', right_on='BusinessEntityID', suffixes=('', '_businessentityaddress'))\n",
    "\n",
    "adventureworks_combined_customers = pd.merge(adventureworks_combined_customers, adventureworks_person_address, left_on='AddressID', right_on='AddressID', how='left', suffixes=('', '_address'))\n",
    "\n",
    "adventureworks_combined_customers = pd.merge(adventureworks_combined_customers, adventureworks_person_address_type, left_on='AddressTypeID', right_on='AddressTypeID', how='left', suffixes=('', '_address_type'))\n",
    "\n",
    "adventureworks_combined_customers = pd.merge(adventureworks_combined_customers, adventureworks_person_stateprovince, left_on=['StateProvinceID', 'TerritoryID'], right_on=['StateProvinceID', 'TerritoryID'], suffixes=('', '_stateprovince'))\n",
    "\n",
    "adventureworks_combined_customers = pd.merge(adventureworks_combined_customers, adventureworks_person_countryregion, left_on='CountryRegionCode', right_on='CountryRegionCode', suffixes=('', '_countryregion'))\n",
    "\n",
    "# combining fist, middle and last name columns to create a contact name column\n",
    "adventureworks_combined_customers['ContactName'] = adventureworks_combined_customers['FirstName'] + ' ' + adventureworks_combined_customers['MiddleName'] + ' ' + adventureworks_combined_customers['LastName']\n",
    "adventureworks_combined_customers.drop(columns=['FirstName', 'MiddleName', 'LastName'], inplace=True)\n",
    "\n",
    "# Remove any double spaces caused by missing middle names\n",
    "adventureworks_combined_customers['ContactName'] = adventureworks_combined_customers['ContactName'].str.replace('  ', ' ')\n",
    "\n",
    "# Get all columns that contain 'rowguid' in their name\n",
    "columns_to_drop = adventureworks_combined_customers.filter(like='rowguid').columns\n",
    "\n",
    "# Drop these columns\n",
    "adventureworks_combined_customers.drop(columns=columns_to_drop, inplace=True)\n",
    "\n",
    "# only keeping the most recent modified date from the two tables\n",
    "adventureworks_combined_customers['ModifiedDate'] = adventureworks_combined_customers[['ModifiedDate_sales_customer', 'ModifiedDate_person', 'ModifiedDate', 'ModifiedDate_address', 'ModifiedDate_address_type', 'ModifiedDate_stateprovince', 'ModifiedDate_countryregion']].max(axis=1)\n",
    "\n",
    "# dropping the other modified date columns\n",
    "adventureworks_combined_customers.drop(columns=['ModifiedDate_sales_customer', 'ModifiedDate_person', 'ModifiedDate', 'ModifiedDate_address', 'ModifiedDate_address_type', 'ModifiedDate_stateprovince', 'ModifiedDate_countryregion'], inplace=True)\n",
    "\n",
    "# combining PersonID and BusinessEntityID columns\n",
    "adventureworks_combined_customers['PersonID'] = adventureworks_combined_customers['PersonID'].combine_first(adventureworks_combined_customers['BusinessEntityID'])\n",
    "adventureworks_combined_customers.drop(columns=['BusinessEntityID'], inplace=True)\n",
    "\n",
    "# renaming columns to match the other customer data\n",
    "adventureworks_combined_customers.rename(columns={'AddressLine1' : 'Address', 'PostalCode' : 'Zip', 'Name' : 'AddressType', 'Name_stateprovince' : 'StateProvince', 'Name_countryregion': 'CountryRegion' }, inplace=True)\n",
    "\n",
    "adventureworks_combined_customers.head()"
   ],
   "outputs": [
    {
     "data": {
      "text/plain": [
       "   CustomerID  PersonID  StoreID  TerritoryID AccountNumber PersonType  \\\n",
       "0     11377.0    1699.0      NaN          8.0    AW00011377         IN   \n",
       "1     11913.0    1700.0      NaN          9.0    AW00011913         IN   \n",
       "2     11952.0    1701.0      NaN          9.0    AW00011952         IN   \n",
       "3     20164.0    1702.0      NaN         10.0    AW00020164         IN   \n",
       "4     20211.0    1703.0      NaN          9.0    AW00020211         IN   \n",
       "\n",
       "  NameStyle Title Suffix  EmailPromotion  ... StateProvinceID      Zip  \\\n",
       "0     False   Mr.   None             1.0  ...              53    42651   \n",
       "1     False   Ms.   None             0.0  ...              77     3198   \n",
       "2     False   Ms.   None             2.0  ...              77     3220   \n",
       "3     False   Ms.   None             0.0  ...              14  LA1 1LN   \n",
       "4     False   Mr.   None             0.0  ...              64     4169   \n",
       "\n",
       "                              SpatialLocation  AddressType StateProvinceCode  \\\n",
       "0   POINT (7.11082410683939 51.2015555665827)         Home               NW    \n",
       "1  POINT (145.141451560879 -38.0612939642931)         Home               VIC   \n",
       "2  POINT (144.201620782255 -38.1464342680786)         Home               VIC   \n",
       "3  POINT (-2.80326155845985 54.1184442932464)         Home               ENG   \n",
       "4    POINT (152.9802503342 -27.4802117164592)         Home               QLD   \n",
       "\n",
       "  CountryRegionCode IsOnlyStateProvinceFlag        StateProvince  \\\n",
       "0                DE                   False  Nordrhein-Westfalen   \n",
       "1                AU                   False             Victoria   \n",
       "2                AU                   False             Victoria   \n",
       "3                GB                    True              England   \n",
       "4                AU                   False           Queensland   \n",
       "\n",
       "    CountryRegion          ContactName  \n",
       "0         Germany    David R. Robinett  \n",
       "1       Australia  Rebecca A. Robinson  \n",
       "2       Australia  Dorothy B. Robinson  \n",
       "3  United Kingdom  Carol Ann F. Rockne  \n",
       "4       Australia     Scott M. Rodgers  \n",
       "\n",
       "[5 rows x 27 columns]"
      ],
      "text/html": [
       "<div>\n",
       "<style scoped>\n",
       "    .dataframe tbody tr th:only-of-type {\n",
       "        vertical-align: middle;\n",
       "    }\n",
       "\n",
       "    .dataframe tbody tr th {\n",
       "        vertical-align: top;\n",
       "    }\n",
       "\n",
       "    .dataframe thead th {\n",
       "        text-align: right;\n",
       "    }\n",
       "</style>\n",
       "<table border=\"1\" class=\"dataframe\">\n",
       "  <thead>\n",
       "    <tr style=\"text-align: right;\">\n",
       "      <th></th>\n",
       "      <th>CustomerID</th>\n",
       "      <th>PersonID</th>\n",
       "      <th>StoreID</th>\n",
       "      <th>TerritoryID</th>\n",
       "      <th>AccountNumber</th>\n",
       "      <th>PersonType</th>\n",
       "      <th>NameStyle</th>\n",
       "      <th>Title</th>\n",
       "      <th>Suffix</th>\n",
       "      <th>EmailPromotion</th>\n",
       "      <th>...</th>\n",
       "      <th>StateProvinceID</th>\n",
       "      <th>Zip</th>\n",
       "      <th>SpatialLocation</th>\n",
       "      <th>AddressType</th>\n",
       "      <th>StateProvinceCode</th>\n",
       "      <th>CountryRegionCode</th>\n",
       "      <th>IsOnlyStateProvinceFlag</th>\n",
       "      <th>StateProvince</th>\n",
       "      <th>CountryRegion</th>\n",
       "      <th>ContactName</th>\n",
       "    </tr>\n",
       "  </thead>\n",
       "  <tbody>\n",
       "    <tr>\n",
       "      <th>0</th>\n",
       "      <td>11377.0</td>\n",
       "      <td>1699.0</td>\n",
       "      <td>NaN</td>\n",
       "      <td>8.0</td>\n",
       "      <td>AW00011377</td>\n",
       "      <td>IN</td>\n",
       "      <td>False</td>\n",
       "      <td>Mr.</td>\n",
       "      <td>None</td>\n",
       "      <td>1.0</td>\n",
       "      <td>...</td>\n",
       "      <td>53</td>\n",
       "      <td>42651</td>\n",
       "      <td>POINT (7.11082410683939 51.2015555665827)</td>\n",
       "      <td>Home</td>\n",
       "      <td>NW</td>\n",
       "      <td>DE</td>\n",
       "      <td>False</td>\n",
       "      <td>Nordrhein-Westfalen</td>\n",
       "      <td>Germany</td>\n",
       "      <td>David R. Robinett</td>\n",
       "    </tr>\n",
       "    <tr>\n",
       "      <th>1</th>\n",
       "      <td>11913.0</td>\n",
       "      <td>1700.0</td>\n",
       "      <td>NaN</td>\n",
       "      <td>9.0</td>\n",
       "      <td>AW00011913</td>\n",
       "      <td>IN</td>\n",
       "      <td>False</td>\n",
       "      <td>Ms.</td>\n",
       "      <td>None</td>\n",
       "      <td>0.0</td>\n",
       "      <td>...</td>\n",
       "      <td>77</td>\n",
       "      <td>3198</td>\n",
       "      <td>POINT (145.141451560879 -38.0612939642931)</td>\n",
       "      <td>Home</td>\n",
       "      <td>VIC</td>\n",
       "      <td>AU</td>\n",
       "      <td>False</td>\n",
       "      <td>Victoria</td>\n",
       "      <td>Australia</td>\n",
       "      <td>Rebecca A. Robinson</td>\n",
       "    </tr>\n",
       "    <tr>\n",
       "      <th>2</th>\n",
       "      <td>11952.0</td>\n",
       "      <td>1701.0</td>\n",
       "      <td>NaN</td>\n",
       "      <td>9.0</td>\n",
       "      <td>AW00011952</td>\n",
       "      <td>IN</td>\n",
       "      <td>False</td>\n",
       "      <td>Ms.</td>\n",
       "      <td>None</td>\n",
       "      <td>2.0</td>\n",
       "      <td>...</td>\n",
       "      <td>77</td>\n",
       "      <td>3220</td>\n",
       "      <td>POINT (144.201620782255 -38.1464342680786)</td>\n",
       "      <td>Home</td>\n",
       "      <td>VIC</td>\n",
       "      <td>AU</td>\n",
       "      <td>False</td>\n",
       "      <td>Victoria</td>\n",
       "      <td>Australia</td>\n",
       "      <td>Dorothy B. Robinson</td>\n",
       "    </tr>\n",
       "    <tr>\n",
       "      <th>3</th>\n",
       "      <td>20164.0</td>\n",
       "      <td>1702.0</td>\n",
       "      <td>NaN</td>\n",
       "      <td>10.0</td>\n",
       "      <td>AW00020164</td>\n",
       "      <td>IN</td>\n",
       "      <td>False</td>\n",
       "      <td>Ms.</td>\n",
       "      <td>None</td>\n",
       "      <td>0.0</td>\n",
       "      <td>...</td>\n",
       "      <td>14</td>\n",
       "      <td>LA1 1LN</td>\n",
       "      <td>POINT (-2.80326155845985 54.1184442932464)</td>\n",
       "      <td>Home</td>\n",
       "      <td>ENG</td>\n",
       "      <td>GB</td>\n",
       "      <td>True</td>\n",
       "      <td>England</td>\n",
       "      <td>United Kingdom</td>\n",
       "      <td>Carol Ann F. Rockne</td>\n",
       "    </tr>\n",
       "    <tr>\n",
       "      <th>4</th>\n",
       "      <td>20211.0</td>\n",
       "      <td>1703.0</td>\n",
       "      <td>NaN</td>\n",
       "      <td>9.0</td>\n",
       "      <td>AW00020211</td>\n",
       "      <td>IN</td>\n",
       "      <td>False</td>\n",
       "      <td>Mr.</td>\n",
       "      <td>None</td>\n",
       "      <td>0.0</td>\n",
       "      <td>...</td>\n",
       "      <td>64</td>\n",
       "      <td>4169</td>\n",
       "      <td>POINT (152.9802503342 -27.4802117164592)</td>\n",
       "      <td>Home</td>\n",
       "      <td>QLD</td>\n",
       "      <td>AU</td>\n",
       "      <td>False</td>\n",
       "      <td>Queensland</td>\n",
       "      <td>Australia</td>\n",
       "      <td>Scott M. Rodgers</td>\n",
       "    </tr>\n",
       "  </tbody>\n",
       "</table>\n",
       "<p>5 rows × 27 columns</p>\n",
       "</div>"
      ]
     },
     "execution_count": 124,
     "metadata": {},
     "output_type": "execute_result"
    }
   ],
   "execution_count": 124
  },
  {
   "cell_type": "code",
   "id": "60cf1da337d5faa2",
   "metadata": {
    "nbdime-conflicts": {
     "local_diff": [
      {
       "diff": [
        {
         "diff": [
          {
           "key": 0,
           "op": "addrange",
           "valuelist": [
            "2024-05-16T14:59:29.675520Z"
           ]
          },
          {
           "key": 0,
           "length": 1,
           "op": "removerange"
          }
         ],
         "key": "end_time",
         "op": "patch"
        },
        {
         "diff": [
          {
           "key": 0,
           "op": "addrange",
           "valuelist": [
            "2024-05-16T14:59:29.668751Z"
           ]
          },
          {
           "key": 0,
           "length": 1,
           "op": "removerange"
          }
         ],
         "key": "start_time",
         "op": "patch"
        }
       ],
       "key": "ExecuteTime",
       "op": "patch"
      }
     ],
     "remote_diff": [
      {
       "key": "ExecuteTime",
       "op": "remove"
      }
     ]
    },
    "ExecuteTime": {
     "end_time": "2024-05-20T13:30:07.774038Z",
     "start_time": "2024-05-20T13:30:07.766900Z"
    }
   },
   "source": [
    "# renaming aenc customer columns to match the other customer data\n",
    "aenc_customer.rename(columns={'id': 'CustomerID', 'address' : 'Address', 'city':'City' , 'state' : 'State', 'zip' : 'Zip', 'phone': 'Phone', 'company_name' : 'CompanyName'}, inplace=True)\n",
    "\n",
    "# combining fname and lname columns to create a contact name column\n",
    "aenc_customer['ContactName'] = aenc_customer['fname'] + ' ' + aenc_customer['lname']\n",
    "aenc_customer.drop(columns=['fname', 'lname'], inplace=True)\n",
    "\n",
    "aenc_customer.head()"
   ],
   "outputs": [
    {
     "data": {
      "text/plain": [
       "   CustomerID                 Address        City State    Zip       Phone  \\\n",
       "0         101     3114 Pioneer Avenue  Rutherford    NJ  07070  2015558966   \n",
       "1         102      1033 Whippany Road    New York    NY  10154  2125558725   \n",
       "2         103     1990 Windsor Street       Paoli    PA  19301  2155556513   \n",
       "3         104  550 Dundas Street East   Knoxville    TN  37919  6155555463   \n",
       "4         105         1210 Highway 36      Carmel    IN  46032  3175558437   \n",
       "\n",
       "          CompanyName        ContactName  \n",
       "0     The Power Group    Michaels Devlin  \n",
       "1           AMF Corp.        Beth Reiser  \n",
       "2  Darling Associates  Erin Niedringhaus  \n",
       "3              P.S.C.       Meghan Mason  \n",
       "4          Amo & Sons     Laura McCarthy  "
      ],
      "text/html": [
       "<div>\n",
       "<style scoped>\n",
       "    .dataframe tbody tr th:only-of-type {\n",
       "        vertical-align: middle;\n",
       "    }\n",
       "\n",
       "    .dataframe tbody tr th {\n",
       "        vertical-align: top;\n",
       "    }\n",
       "\n",
       "    .dataframe thead th {\n",
       "        text-align: right;\n",
       "    }\n",
       "</style>\n",
       "<table border=\"1\" class=\"dataframe\">\n",
       "  <thead>\n",
       "    <tr style=\"text-align: right;\">\n",
       "      <th></th>\n",
       "      <th>CustomerID</th>\n",
       "      <th>Address</th>\n",
       "      <th>City</th>\n",
       "      <th>State</th>\n",
       "      <th>Zip</th>\n",
       "      <th>Phone</th>\n",
       "      <th>CompanyName</th>\n",
       "      <th>ContactName</th>\n",
       "    </tr>\n",
       "  </thead>\n",
       "  <tbody>\n",
       "    <tr>\n",
       "      <th>0</th>\n",
       "      <td>101</td>\n",
       "      <td>3114 Pioneer Avenue</td>\n",
       "      <td>Rutherford</td>\n",
       "      <td>NJ</td>\n",
       "      <td>07070</td>\n",
       "      <td>2015558966</td>\n",
       "      <td>The Power Group</td>\n",
       "      <td>Michaels Devlin</td>\n",
       "    </tr>\n",
       "    <tr>\n",
       "      <th>1</th>\n",
       "      <td>102</td>\n",
       "      <td>1033 Whippany Road</td>\n",
       "      <td>New York</td>\n",
       "      <td>NY</td>\n",
       "      <td>10154</td>\n",
       "      <td>2125558725</td>\n",
       "      <td>AMF Corp.</td>\n",
       "      <td>Beth Reiser</td>\n",
       "    </tr>\n",
       "    <tr>\n",
       "      <th>2</th>\n",
       "      <td>103</td>\n",
       "      <td>1990 Windsor Street</td>\n",
       "      <td>Paoli</td>\n",
       "      <td>PA</td>\n",
       "      <td>19301</td>\n",
       "      <td>2155556513</td>\n",
       "      <td>Darling Associates</td>\n",
       "      <td>Erin Niedringhaus</td>\n",
       "    </tr>\n",
       "    <tr>\n",
       "      <th>3</th>\n",
       "      <td>104</td>\n",
       "      <td>550 Dundas Street East</td>\n",
       "      <td>Knoxville</td>\n",
       "      <td>TN</td>\n",
       "      <td>37919</td>\n",
       "      <td>6155555463</td>\n",
       "      <td>P.S.C.</td>\n",
       "      <td>Meghan Mason</td>\n",
       "    </tr>\n",
       "    <tr>\n",
       "      <th>4</th>\n",
       "      <td>105</td>\n",
       "      <td>1210 Highway 36</td>\n",
       "      <td>Carmel</td>\n",
       "      <td>IN</td>\n",
       "      <td>46032</td>\n",
       "      <td>3175558437</td>\n",
       "      <td>Amo &amp; Sons</td>\n",
       "      <td>Laura McCarthy</td>\n",
       "    </tr>\n",
       "  </tbody>\n",
       "</table>\n",
       "</div>"
      ]
     },
     "execution_count": 125,
     "metadata": {},
     "output_type": "execute_result"
    }
   ],
   "execution_count": 125
  },
  {
   "cell_type": "code",
   "id": "5cd96cba6c5692cc",
   "metadata": {
    "nbdime-conflicts": {
     "local_diff": [
      {
       "diff": [
        {
         "diff": [
          {
           "key": 0,
           "op": "addrange",
           "valuelist": [
            "2024-05-16T14:59:29.693574Z"
           ]
          },
          {
           "key": 0,
           "length": 1,
           "op": "removerange"
          }
         ],
         "key": "end_time",
         "op": "patch"
        },
        {
         "diff": [
          {
           "key": 0,
           "op": "addrange",
           "valuelist": [
            "2024-05-16T14:59:29.678526Z"
           ]
          },
          {
           "key": 0,
           "length": 1,
           "op": "removerange"
          }
         ],
         "key": "start_time",
         "op": "patch"
        }
       ],
       "key": "ExecuteTime",
       "op": "patch"
      }
     ],
     "remote_diff": [
      {
       "key": "ExecuteTime",
       "op": "remove"
      }
     ]
    },
    "ExecuteTime": {
     "end_time": "2024-05-20T13:30:07.793620Z",
     "start_time": "2024-05-20T13:30:07.775044Z"
    }
   },
   "source": [
    "# Combining all customer data\n",
    "customers = pd.concat([northwind_combined_customer, aenc_customer, adventureworks_combined_customers], ignore_index=True)\n",
    "\n",
    "customers.head()"
   ],
   "outputs": [
    {
     "data": {
      "text/plain": [
       "  CustomerID                         CompanyName         ContactName  \\\n",
       "0      ALFKI                 Alfreds Futterkiste        Maria Anders   \n",
       "1      ANATR  Ana Trujillo Emparedados y helados        Ana Trujillo   \n",
       "2      ANTON            Antonio Moreno TaquerÃ­a      Antonio Moreno   \n",
       "3      AROUT                     Around the Horn        Thomas Hardy   \n",
       "4      BERGS                 Berglunds snabbkÃ¶p  Christina Berglund   \n",
       "\n",
       "           ContactTitle                         Address          City Region  \\\n",
       "0  Sales Representative                   Obere Str. 57        Berlin   None   \n",
       "1                 Owner  Avda. de la ConstituciÃ³n 2222  MÃ©xico D.F.   None   \n",
       "2                 Owner                 Mataderos  2312  MÃ©xico D.F.   None   \n",
       "3  Sales Representative                 120 Hanover Sq.        London   None   \n",
       "4   Order Administrator                BerguvsvÃ¤gen  8        LuleÃ¥   None   \n",
       "\n",
       "        Zip  Country           Phone  ... AddressTypeID AddressLine2  \\\n",
       "0     12209  Germany     030-0074321  ...           NaN          NaN   \n",
       "1     05021   Mexico    (5) 555-4729  ...           NaN          NaN   \n",
       "2     05023   Mexico    (5) 555-3932  ...           NaN          NaN   \n",
       "3   WA1 1DP       UK  (171) 555-7788  ...           NaN          NaN   \n",
       "4  S-958 22   Sweden   0921-12 34 65  ...           NaN          NaN   \n",
       "\n",
       "  StateProvinceID SpatialLocation AddressType StateProvinceCode  \\\n",
       "0             NaN             NaN         NaN               NaN   \n",
       "1             NaN             NaN         NaN               NaN   \n",
       "2             NaN             NaN         NaN               NaN   \n",
       "3             NaN             NaN         NaN               NaN   \n",
       "4             NaN             NaN         NaN               NaN   \n",
       "\n",
       "   CountryRegionCode  IsOnlyStateProvinceFlag  StateProvince CountryRegion  \n",
       "0                NaN                      NaN            NaN           NaN  \n",
       "1                NaN                      NaN            NaN           NaN  \n",
       "2                NaN                      NaN            NaN           NaN  \n",
       "3                NaN                      NaN            NaN           NaN  \n",
       "4                NaN                      NaN            NaN           NaN  \n",
       "\n",
       "[5 rows x 38 columns]"
      ],
      "text/html": [
       "<div>\n",
       "<style scoped>\n",
       "    .dataframe tbody tr th:only-of-type {\n",
       "        vertical-align: middle;\n",
       "    }\n",
       "\n",
       "    .dataframe tbody tr th {\n",
       "        vertical-align: top;\n",
       "    }\n",
       "\n",
       "    .dataframe thead th {\n",
       "        text-align: right;\n",
       "    }\n",
       "</style>\n",
       "<table border=\"1\" class=\"dataframe\">\n",
       "  <thead>\n",
       "    <tr style=\"text-align: right;\">\n",
       "      <th></th>\n",
       "      <th>CustomerID</th>\n",
       "      <th>CompanyName</th>\n",
       "      <th>ContactName</th>\n",
       "      <th>ContactTitle</th>\n",
       "      <th>Address</th>\n",
       "      <th>City</th>\n",
       "      <th>Region</th>\n",
       "      <th>Zip</th>\n",
       "      <th>Country</th>\n",
       "      <th>Phone</th>\n",
       "      <th>...</th>\n",
       "      <th>AddressTypeID</th>\n",
       "      <th>AddressLine2</th>\n",
       "      <th>StateProvinceID</th>\n",
       "      <th>SpatialLocation</th>\n",
       "      <th>AddressType</th>\n",
       "      <th>StateProvinceCode</th>\n",
       "      <th>CountryRegionCode</th>\n",
       "      <th>IsOnlyStateProvinceFlag</th>\n",
       "      <th>StateProvince</th>\n",
       "      <th>CountryRegion</th>\n",
       "    </tr>\n",
       "  </thead>\n",
       "  <tbody>\n",
       "    <tr>\n",
       "      <th>0</th>\n",
       "      <td>ALFKI</td>\n",
       "      <td>Alfreds Futterkiste</td>\n",
       "      <td>Maria Anders</td>\n",
       "      <td>Sales Representative</td>\n",
       "      <td>Obere Str. 57</td>\n",
       "      <td>Berlin</td>\n",
       "      <td>None</td>\n",
       "      <td>12209</td>\n",
       "      <td>Germany</td>\n",
       "      <td>030-0074321</td>\n",
       "      <td>...</td>\n",
       "      <td>NaN</td>\n",
       "      <td>NaN</td>\n",
       "      <td>NaN</td>\n",
       "      <td>NaN</td>\n",
       "      <td>NaN</td>\n",
       "      <td>NaN</td>\n",
       "      <td>NaN</td>\n",
       "      <td>NaN</td>\n",
       "      <td>NaN</td>\n",
       "      <td>NaN</td>\n",
       "    </tr>\n",
       "    <tr>\n",
       "      <th>1</th>\n",
       "      <td>ANATR</td>\n",
       "      <td>Ana Trujillo Emparedados y helados</td>\n",
       "      <td>Ana Trujillo</td>\n",
       "      <td>Owner</td>\n",
       "      <td>Avda. de la ConstituciÃ³n 2222</td>\n",
       "      <td>MÃ©xico D.F.</td>\n",
       "      <td>None</td>\n",
       "      <td>05021</td>\n",
       "      <td>Mexico</td>\n",
       "      <td>(5) 555-4729</td>\n",
       "      <td>...</td>\n",
       "      <td>NaN</td>\n",
       "      <td>NaN</td>\n",
       "      <td>NaN</td>\n",
       "      <td>NaN</td>\n",
       "      <td>NaN</td>\n",
       "      <td>NaN</td>\n",
       "      <td>NaN</td>\n",
       "      <td>NaN</td>\n",
       "      <td>NaN</td>\n",
       "      <td>NaN</td>\n",
       "    </tr>\n",
       "    <tr>\n",
       "      <th>2</th>\n",
       "      <td>ANTON</td>\n",
       "      <td>Antonio Moreno TaquerÃ­a</td>\n",
       "      <td>Antonio Moreno</td>\n",
       "      <td>Owner</td>\n",
       "      <td>Mataderos  2312</td>\n",
       "      <td>MÃ©xico D.F.</td>\n",
       "      <td>None</td>\n",
       "      <td>05023</td>\n",
       "      <td>Mexico</td>\n",
       "      <td>(5) 555-3932</td>\n",
       "      <td>...</td>\n",
       "      <td>NaN</td>\n",
       "      <td>NaN</td>\n",
       "      <td>NaN</td>\n",
       "      <td>NaN</td>\n",
       "      <td>NaN</td>\n",
       "      <td>NaN</td>\n",
       "      <td>NaN</td>\n",
       "      <td>NaN</td>\n",
       "      <td>NaN</td>\n",
       "      <td>NaN</td>\n",
       "    </tr>\n",
       "    <tr>\n",
       "      <th>3</th>\n",
       "      <td>AROUT</td>\n",
       "      <td>Around the Horn</td>\n",
       "      <td>Thomas Hardy</td>\n",
       "      <td>Sales Representative</td>\n",
       "      <td>120 Hanover Sq.</td>\n",
       "      <td>London</td>\n",
       "      <td>None</td>\n",
       "      <td>WA1 1DP</td>\n",
       "      <td>UK</td>\n",
       "      <td>(171) 555-7788</td>\n",
       "      <td>...</td>\n",
       "      <td>NaN</td>\n",
       "      <td>NaN</td>\n",
       "      <td>NaN</td>\n",
       "      <td>NaN</td>\n",
       "      <td>NaN</td>\n",
       "      <td>NaN</td>\n",
       "      <td>NaN</td>\n",
       "      <td>NaN</td>\n",
       "      <td>NaN</td>\n",
       "      <td>NaN</td>\n",
       "    </tr>\n",
       "    <tr>\n",
       "      <th>4</th>\n",
       "      <td>BERGS</td>\n",
       "      <td>Berglunds snabbkÃ¶p</td>\n",
       "      <td>Christina Berglund</td>\n",
       "      <td>Order Administrator</td>\n",
       "      <td>BerguvsvÃ¤gen  8</td>\n",
       "      <td>LuleÃ¥</td>\n",
       "      <td>None</td>\n",
       "      <td>S-958 22</td>\n",
       "      <td>Sweden</td>\n",
       "      <td>0921-12 34 65</td>\n",
       "      <td>...</td>\n",
       "      <td>NaN</td>\n",
       "      <td>NaN</td>\n",
       "      <td>NaN</td>\n",
       "      <td>NaN</td>\n",
       "      <td>NaN</td>\n",
       "      <td>NaN</td>\n",
       "      <td>NaN</td>\n",
       "      <td>NaN</td>\n",
       "      <td>NaN</td>\n",
       "      <td>NaN</td>\n",
       "    </tr>\n",
       "  </tbody>\n",
       "</table>\n",
       "<p>5 rows × 38 columns</p>\n",
       "</div>"
      ]
     },
     "execution_count": 126,
     "metadata": {},
     "output_type": "execute_result"
    }
   ],
   "execution_count": 126
  },
  {
   "cell_type": "markdown",
   "id": "676a53fc",
   "metadata": {},
   "source": "### Date"
  },
  {
   "cell_type": "code",
   "id": "e6eca2a3",
   "metadata": {
    "ExecuteTime": {
     "end_time": "2024-05-20T13:30:08.103807Z",
     "start_time": "2024-05-20T13:30:07.794635Z"
    }
   },
   "source": [
    "def calculate_periods(periods_in_years): \n",
    "    return 365 * periods_in_years + (periods_in_years // 4) # divide by 4 for leap years\n",
    "\n",
    "periods = calculate_periods(50)\n",
    "\n",
    "date_table = {\n",
    "    'DATE_ID': pd.date_range(start='1996-01-01', periods=periods).strftime('%Y%m%d').astype(int),\n",
    "    'DATE_Date': pd.date_range(start='1996-01-01', periods=periods),\n",
    "    'DATE_Weekday': pd.date_range(start='1996-01-01', periods=periods).strftime('%A'),\n",
    "    'DATE_WeekdayNum': pd.date_range(start='1996-01-01', periods=periods).weekday + 1,\n",
    "    'DATE_DayMonth': pd.date_range(start='1996-01-01', periods=periods).day,\n",
    "    'DATE_DayOfYear': pd.date_range(start='1996-01-01', periods=periods).dayofyear,\n",
    "    'DATE_WeekOfYear': pd.date_range(start='1996-01-01', periods=periods).isocalendar().week,\n",
    "    'DATE_MonthNum': pd.date_range(start='1996-01-01', periods=periods).month,\n",
    "    'DATE_MonthName': pd.date_range(start='1996-01-01', periods=periods).strftime('%B'),\n",
    "    'DATE_MonthNameShort': pd.date_range(start='1996-01-01', periods=periods).strftime('%b'),\n",
    "    'DATE_Quarter': pd.date_range(start='1996-01-01', periods=periods).quarter,\n",
    "    'DATE_Year': pd.date_range(start='1996-01-01', periods=periods).year,\n",
    "    'DATE_FirstDayOfMonth': pd.date_range(start='1996-01-01', periods=periods).to_period('M').start_time,\n",
    "    'DATE_LastDayOfMonth': pd.date_range(start='1996-01-01', periods=periods).to_period('M').end_time.date,\n",
    "    'DATE_YYYYMM': pd.date_range(start='1996-01-01', periods=periods).strftime('%Y-%m'),\n",
    "    'DATE_WeekendIndr': pd.date_range(start='1996-01-01', periods=periods).weekday // 5\n",
    "}\n",
    "\n",
    "date_table = pd.DataFrame(date_table)\n",
    "date_table['DATE_WeekendIndr'] = date_table['DATE_WeekendIndr'].replace({0: 'weekday', 1: 'weekend'})\n",
    "\n",
    "date_table.tail()"
   ],
   "outputs": [
    {
     "data": {
      "text/plain": [
       "             DATE_ID  DATE_Date DATE_Weekday  DATE_WeekdayNum  DATE_DayMonth  \\\n",
       "2045-12-26  20451226 2045-12-26      Tuesday                2             26   \n",
       "2045-12-27  20451227 2045-12-27    Wednesday                3             27   \n",
       "2045-12-28  20451228 2045-12-28     Thursday                4             28   \n",
       "2045-12-29  20451229 2045-12-29       Friday                5             29   \n",
       "2045-12-30  20451230 2045-12-30     Saturday                6             30   \n",
       "\n",
       "            DATE_DayOfYear  DATE_WeekOfYear  DATE_MonthNum DATE_MonthName  \\\n",
       "2045-12-26             360               52             12       December   \n",
       "2045-12-27             361               52             12       December   \n",
       "2045-12-28             362               52             12       December   \n",
       "2045-12-29             363               52             12       December   \n",
       "2045-12-30             364               52             12       December   \n",
       "\n",
       "           DATE_MonthNameShort  DATE_Quarter  DATE_Year DATE_FirstDayOfMonth  \\\n",
       "2045-12-26                 Dec             4       2045           2045-12-01   \n",
       "2045-12-27                 Dec             4       2045           2045-12-01   \n",
       "2045-12-28                 Dec             4       2045           2045-12-01   \n",
       "2045-12-29                 Dec             4       2045           2045-12-01   \n",
       "2045-12-30                 Dec             4       2045           2045-12-01   \n",
       "\n",
       "           DATE_LastDayOfMonth DATE_YYYYMM DATE_WeekendIndr  \n",
       "2045-12-26          2045-12-31     2045-12          weekday  \n",
       "2045-12-27          2045-12-31     2045-12          weekday  \n",
       "2045-12-28          2045-12-31     2045-12          weekday  \n",
       "2045-12-29          2045-12-31     2045-12          weekday  \n",
       "2045-12-30          2045-12-31     2045-12          weekend  "
      ],
      "text/html": [
       "<div>\n",
       "<style scoped>\n",
       "    .dataframe tbody tr th:only-of-type {\n",
       "        vertical-align: middle;\n",
       "    }\n",
       "\n",
       "    .dataframe tbody tr th {\n",
       "        vertical-align: top;\n",
       "    }\n",
       "\n",
       "    .dataframe thead th {\n",
       "        text-align: right;\n",
       "    }\n",
       "</style>\n",
       "<table border=\"1\" class=\"dataframe\">\n",
       "  <thead>\n",
       "    <tr style=\"text-align: right;\">\n",
       "      <th></th>\n",
       "      <th>DATE_ID</th>\n",
       "      <th>DATE_Date</th>\n",
       "      <th>DATE_Weekday</th>\n",
       "      <th>DATE_WeekdayNum</th>\n",
       "      <th>DATE_DayMonth</th>\n",
       "      <th>DATE_DayOfYear</th>\n",
       "      <th>DATE_WeekOfYear</th>\n",
       "      <th>DATE_MonthNum</th>\n",
       "      <th>DATE_MonthName</th>\n",
       "      <th>DATE_MonthNameShort</th>\n",
       "      <th>DATE_Quarter</th>\n",
       "      <th>DATE_Year</th>\n",
       "      <th>DATE_FirstDayOfMonth</th>\n",
       "      <th>DATE_LastDayOfMonth</th>\n",
       "      <th>DATE_YYYYMM</th>\n",
       "      <th>DATE_WeekendIndr</th>\n",
       "    </tr>\n",
       "  </thead>\n",
       "  <tbody>\n",
       "    <tr>\n",
       "      <th>2045-12-26</th>\n",
       "      <td>20451226</td>\n",
       "      <td>2045-12-26</td>\n",
       "      <td>Tuesday</td>\n",
       "      <td>2</td>\n",
       "      <td>26</td>\n",
       "      <td>360</td>\n",
       "      <td>52</td>\n",
       "      <td>12</td>\n",
       "      <td>December</td>\n",
       "      <td>Dec</td>\n",
       "      <td>4</td>\n",
       "      <td>2045</td>\n",
       "      <td>2045-12-01</td>\n",
       "      <td>2045-12-31</td>\n",
       "      <td>2045-12</td>\n",
       "      <td>weekday</td>\n",
       "    </tr>\n",
       "    <tr>\n",
       "      <th>2045-12-27</th>\n",
       "      <td>20451227</td>\n",
       "      <td>2045-12-27</td>\n",
       "      <td>Wednesday</td>\n",
       "      <td>3</td>\n",
       "      <td>27</td>\n",
       "      <td>361</td>\n",
       "      <td>52</td>\n",
       "      <td>12</td>\n",
       "      <td>December</td>\n",
       "      <td>Dec</td>\n",
       "      <td>4</td>\n",
       "      <td>2045</td>\n",
       "      <td>2045-12-01</td>\n",
       "      <td>2045-12-31</td>\n",
       "      <td>2045-12</td>\n",
       "      <td>weekday</td>\n",
       "    </tr>\n",
       "    <tr>\n",
       "      <th>2045-12-28</th>\n",
       "      <td>20451228</td>\n",
       "      <td>2045-12-28</td>\n",
       "      <td>Thursday</td>\n",
       "      <td>4</td>\n",
       "      <td>28</td>\n",
       "      <td>362</td>\n",
       "      <td>52</td>\n",
       "      <td>12</td>\n",
       "      <td>December</td>\n",
       "      <td>Dec</td>\n",
       "      <td>4</td>\n",
       "      <td>2045</td>\n",
       "      <td>2045-12-01</td>\n",
       "      <td>2045-12-31</td>\n",
       "      <td>2045-12</td>\n",
       "      <td>weekday</td>\n",
       "    </tr>\n",
       "    <tr>\n",
       "      <th>2045-12-29</th>\n",
       "      <td>20451229</td>\n",
       "      <td>2045-12-29</td>\n",
       "      <td>Friday</td>\n",
       "      <td>5</td>\n",
       "      <td>29</td>\n",
       "      <td>363</td>\n",
       "      <td>52</td>\n",
       "      <td>12</td>\n",
       "      <td>December</td>\n",
       "      <td>Dec</td>\n",
       "      <td>4</td>\n",
       "      <td>2045</td>\n",
       "      <td>2045-12-01</td>\n",
       "      <td>2045-12-31</td>\n",
       "      <td>2045-12</td>\n",
       "      <td>weekday</td>\n",
       "    </tr>\n",
       "    <tr>\n",
       "      <th>2045-12-30</th>\n",
       "      <td>20451230</td>\n",
       "      <td>2045-12-30</td>\n",
       "      <td>Saturday</td>\n",
       "      <td>6</td>\n",
       "      <td>30</td>\n",
       "      <td>364</td>\n",
       "      <td>52</td>\n",
       "      <td>12</td>\n",
       "      <td>December</td>\n",
       "      <td>Dec</td>\n",
       "      <td>4</td>\n",
       "      <td>2045</td>\n",
       "      <td>2045-12-01</td>\n",
       "      <td>2045-12-31</td>\n",
       "      <td>2045-12</td>\n",
       "      <td>weekend</td>\n",
       "    </tr>\n",
       "  </tbody>\n",
       "</table>\n",
       "</div>"
      ]
     },
     "execution_count": 127,
     "metadata": {},
     "output_type": "execute_result"
    }
   ],
   "execution_count": 127
  },
  {
   "cell_type": "markdown",
   "id": "af79099e",
   "metadata": {},
   "source": "### Time"
  },
  {
   "cell_type": "code",
   "id": "61b960fe",
   "metadata": {
    "ExecuteTime": {
     "end_time": "2024-05-20T13:30:08.112570Z",
     "start_time": "2024-05-20T13:30:08.104813Z"
    }
   },
   "source": [
    "# Define the number of minutes in a day\n",
    "minutes_in_a_day = 24 * 60\n",
    "\n",
    "# Create the data dictionary for time dimension\n",
    "time_table = {\n",
    "    'TIME_ID': list(range(minutes_in_a_day)),\n",
    "    'TIME_Hour': [i // 60 for i in range(minutes_in_a_day)],\n",
    "    'TIME_Minute': [i % 60 for i in range(minutes_in_a_day)],\n",
    "    'TIME_HourMinute': [f'{hour:02d}:{minute:02d}' for hour in range(24) for minute in range(60)],\n",
    "}\n",
    "\n",
    "# Convert the dictionary to a DataFrame\n",
    "time_table = pd.DataFrame(time_table)\n",
    "\n",
    "# # Fetch existing data from the time dimension table\n",
    "# existing_data_query = \"SELECT TIME_ID FROM Time\"\n",
    "# existing_data = pd.read_sql(existing_data_query, united_outdoors_conn)\n",
    "\n",
    "# # Filter new data to include only records that are not already in the table\n",
    "# new_data_to_insert = time_table[~time_table['TIME_ID'].isin(existing_data['TIME_ID'])]\n",
    "\n",
    "time_table"
   ],
   "outputs": [
    {
     "data": {
      "text/plain": [
       "      TIME_ID  TIME_Hour  TIME_Minute TIME_HourMinute\n",
       "0           0          0            0           00:00\n",
       "1           1          0            1           00:01\n",
       "2           2          0            2           00:02\n",
       "3           3          0            3           00:03\n",
       "4           4          0            4           00:04\n",
       "...       ...        ...          ...             ...\n",
       "1435     1435         23           55           23:55\n",
       "1436     1436         23           56           23:56\n",
       "1437     1437         23           57           23:57\n",
       "1438     1438         23           58           23:58\n",
       "1439     1439         23           59           23:59\n",
       "\n",
       "[1440 rows x 4 columns]"
      ],
      "text/html": [
       "<div>\n",
       "<style scoped>\n",
       "    .dataframe tbody tr th:only-of-type {\n",
       "        vertical-align: middle;\n",
       "    }\n",
       "\n",
       "    .dataframe tbody tr th {\n",
       "        vertical-align: top;\n",
       "    }\n",
       "\n",
       "    .dataframe thead th {\n",
       "        text-align: right;\n",
       "    }\n",
       "</style>\n",
       "<table border=\"1\" class=\"dataframe\">\n",
       "  <thead>\n",
       "    <tr style=\"text-align: right;\">\n",
       "      <th></th>\n",
       "      <th>TIME_ID</th>\n",
       "      <th>TIME_Hour</th>\n",
       "      <th>TIME_Minute</th>\n",
       "      <th>TIME_HourMinute</th>\n",
       "    </tr>\n",
       "  </thead>\n",
       "  <tbody>\n",
       "    <tr>\n",
       "      <th>0</th>\n",
       "      <td>0</td>\n",
       "      <td>0</td>\n",
       "      <td>0</td>\n",
       "      <td>00:00</td>\n",
       "    </tr>\n",
       "    <tr>\n",
       "      <th>1</th>\n",
       "      <td>1</td>\n",
       "      <td>0</td>\n",
       "      <td>1</td>\n",
       "      <td>00:01</td>\n",
       "    </tr>\n",
       "    <tr>\n",
       "      <th>2</th>\n",
       "      <td>2</td>\n",
       "      <td>0</td>\n",
       "      <td>2</td>\n",
       "      <td>00:02</td>\n",
       "    </tr>\n",
       "    <tr>\n",
       "      <th>3</th>\n",
       "      <td>3</td>\n",
       "      <td>0</td>\n",
       "      <td>3</td>\n",
       "      <td>00:03</td>\n",
       "    </tr>\n",
       "    <tr>\n",
       "      <th>4</th>\n",
       "      <td>4</td>\n",
       "      <td>0</td>\n",
       "      <td>4</td>\n",
       "      <td>00:04</td>\n",
       "    </tr>\n",
       "    <tr>\n",
       "      <th>...</th>\n",
       "      <td>...</td>\n",
       "      <td>...</td>\n",
       "      <td>...</td>\n",
       "      <td>...</td>\n",
       "    </tr>\n",
       "    <tr>\n",
       "      <th>1435</th>\n",
       "      <td>1435</td>\n",
       "      <td>23</td>\n",
       "      <td>55</td>\n",
       "      <td>23:55</td>\n",
       "    </tr>\n",
       "    <tr>\n",
       "      <th>1436</th>\n",
       "      <td>1436</td>\n",
       "      <td>23</td>\n",
       "      <td>56</td>\n",
       "      <td>23:56</td>\n",
       "    </tr>\n",
       "    <tr>\n",
       "      <th>1437</th>\n",
       "      <td>1437</td>\n",
       "      <td>23</td>\n",
       "      <td>57</td>\n",
       "      <td>23:57</td>\n",
       "    </tr>\n",
       "    <tr>\n",
       "      <th>1438</th>\n",
       "      <td>1438</td>\n",
       "      <td>23</td>\n",
       "      <td>58</td>\n",
       "      <td>23:58</td>\n",
       "    </tr>\n",
       "    <tr>\n",
       "      <th>1439</th>\n",
       "      <td>1439</td>\n",
       "      <td>23</td>\n",
       "      <td>59</td>\n",
       "      <td>23:59</td>\n",
       "    </tr>\n",
       "  </tbody>\n",
       "</table>\n",
       "<p>1440 rows × 4 columns</p>\n",
       "</div>"
      ]
     },
     "execution_count": 128,
     "metadata": {},
     "output_type": "execute_result"
    }
   ],
   "execution_count": 128
  },
  {
   "cell_type": "markdown",
   "id": "def759487d0e6c71",
   "metadata": {},
   "source": [
    "## Loading the data into the UnitedOutdoors datawarehouse"
   ]
  },
  {
   "cell_type": "markdown",
   "id": "3f3139bd023f535",
   "metadata": {},
   "source": [
    "### Departments"
   ]
  },
  {
   "cell_type": "code",
   "id": "d2fa80a01c2d42c",
   "metadata": {
    "nbdime-conflicts": {
     "local_diff": [
      {
       "diff": [
        {
         "diff": [
          {
           "key": 0,
           "op": "addrange",
           "valuelist": [
            "2024-05-16T14:59:29.726926Z"
           ]
          },
          {
           "key": 0,
           "length": 1,
           "op": "removerange"
          }
         ],
         "key": "end_time",
         "op": "patch"
        },
        {
         "diff": [
          {
           "key": 0,
           "op": "addrange",
           "valuelist": [
            "2024-05-16T14:59:29.694082Z"
           ]
          },
          {
           "key": 0,
           "length": 1,
           "op": "removerange"
          }
         ],
         "key": "start_time",
         "op": "patch"
        }
       ],
       "key": "ExecuteTime",
       "op": "patch"
      }
     ],
     "remote_diff": [
      {
       "key": "ExecuteTime",
       "op": "remove"
      }
     ]
    },
    "ExecuteTime": {
     "end_time": "2024-05-20T13:30:08.206282Z",
     "start_time": "2024-05-20T13:30:08.112570Z"
    }
   },
   "source": [
    "departments_dtypes = {\n",
    "    'DEPARTMENT_DEPARTMENT_DeptID': Integer,\n",
    "    'DEPARTMENT_DEPARTMENT_DeptName': String(100),\n",
    "    'DEPARTMENT_DEPARTMENT_GroupName': String(100),\n",
    "    'DEPARTMENT_DEPARTMENT_DeptHeadID': Integer,\n",
    "    'DEPARTMENT_source_database': String(100)\n",
    "}\n",
    "\n",
    "# TODO dept_head_id needs to refer to an employee\n",
    "departments_nk_sk_dict  = prepare_and_insert_return_sk(departments, departments_dtypes, 'Department',united_outdoors_engine, 'DEPARTMENT_DEPARTMENT_DeptID', { 'DEPARTMENT_DEPARTMENT_DeptHeadID' : {}})"
   ],
   "outputs": [
    {
     "name": "stdout",
     "output_type": "stream",
     "text": [
      "Replacing natural keys with surrogate keys for column: DEPARTMENT_DEPARTMENT_DeptHeadID\n",
      "Inserting data into table: Department with chunk size: 400\n"
     ]
    }
   ],
   "execution_count": 129
  },
  {
   "cell_type": "markdown",
   "id": "7f4a7061f4f0105c",
   "metadata": {},
   "source": [
    "### BusinessEntities"
   ]
  },
  {
   "cell_type": "code",
   "id": "a3d497d845c8eda2",
   "metadata": {
    "nbdime-conflicts": {
     "local_diff": [
      {
       "diff": [
        {
         "diff": [
          {
           "key": 0,
           "op": "addrange",
           "valuelist": [
            "2024-05-16T14:59:37.331171Z"
           ]
          },
          {
           "key": 0,
           "length": 1,
           "op": "removerange"
          }
         ],
         "key": "end_time",
         "op": "patch"
        },
        {
         "diff": [
          {
           "key": 0,
           "op": "addrange",
           "valuelist": [
            "2024-05-16T14:59:29.727431Z"
           ]
          },
          {
           "key": 0,
           "length": 1,
           "op": "removerange"
          }
         ],
         "key": "start_time",
         "op": "patch"
        }
       ],
       "key": "ExecuteTime",
       "op": "patch"
      }
     ],
     "remote_diff": [
      {
       "key": "ExecuteTime",
       "op": "remove"
      }
     ]
    },
    "ExecuteTime": {
     "end_time": "2024-05-20T13:30:19.538096Z",
     "start_time": "2024-05-20T13:30:08.207287Z"
    }
   },
   "source": [
    "businessentities_dtypes = {\n",
    "    'BUSINESSENTITY_BUSINESSENTITY_BusinessEntityID': Integer,\n",
    "    'BUSINESSENTITY_BUSINESSENTITYCONTACT_PersonID': Integer,\n",
    "    'BUSINESSENTITY_CONTACTTYPE_ContactTypeID': Integer,\n",
    "    'BUSINESSENTITY_CONTACTTYPE_Name': String(100)\n",
    "}\n",
    "\n",
    "businessentities_nk_sk_dict = prepare_and_insert_return_sk(businessentities, businessentities_dtypes, 'BusinessEntity',united_outdoors_engine, 'BUSINESSENTITY_BUSINESSENTITY_BusinessEntityID')"
   ],
   "outputs": [
    {
     "name": "stdout",
     "output_type": "stream",
     "text": [
      "Inserting data into table: BusinessEntity with chunk size: 500\n"
     ]
    }
   ],
   "execution_count": 130
  },
  {
   "cell_type": "markdown",
   "id": "aecb5657d108d5ac",
   "metadata": {},
   "source": [
    "### People"
   ]
  },
  {
   "cell_type": "code",
   "id": "11d58a830e84bcf6",
   "metadata": {
    "nbdime-conflicts": {
     "local_diff": [
      {
       "diff": [
        {
         "diff": [
          {
           "key": 0,
           "op": "addrange",
           "valuelist": [
            "2024-05-16T15:00:10.291577Z"
           ]
          },
          {
           "key": 0,
           "length": 1,
           "op": "removerange"
          }
         ],
         "key": "end_time",
         "op": "patch"
        },
        {
         "diff": [
          {
           "key": 0,
           "op": "addrange",
           "valuelist": [
            "2024-05-16T14:59:37.331678Z"
           ]
          },
          {
           "key": 0,
           "length": 1,
           "op": "removerange"
          }
         ],
         "key": "start_time",
         "op": "patch"
        }
       ],
       "key": "ExecuteTime",
       "op": "patch"
      }
     ],
     "remote_diff": [
      {
       "key": "ExecuteTime",
       "op": "remove"
      }
     ]
    },
    "ExecuteTime": {
     "end_time": "2024-05-20T13:31:06.071590Z",
     "start_time": "2024-05-20T13:30:19.539183Z"
    }
   },
   "source": [
    "people_dtypes = {\n",
    "    'PERSON_PERSON_BusinessEntityID': Integer,\n",
    "    'PERSON_PERSON_PersonType': String(2),\n",
    "    'PERSON_PERSON_NameStyle': BIT,\n",
    "    'PERSON_PERSON_Title': String(100),\n",
    "    'PERSON_PERSON_FirstName': String(100),\n",
    "    'PERSON_PERSON_MiddleName': String(100),\n",
    "    'PERSON_PERSON_LastName': String(100),\n",
    "    'PERSON_PERSON_Suffix': String(100),\n",
    "    'PERSON_PERSON_EmailPromotion': Integer,\n",
    "    'PERSON_PERSON_AdditionalContactInfo': XML,\n",
    "    'PERSON_PERSON_Demographics': XML,\n",
    "    'PERSON_PERSONPHONE_PhoneNumber': String(100),\n",
    "    'PERSON_PHONENUMBERTYPE_PhoneNumberTypeID': Integer,\n",
    "    'PERSON_PHONENUMBERTYPE_Name': String(100),\n",
    "    'PERSON_EMAILADDRESS_EmailAddressID': Integer,\n",
    "    'PERSON_EMAILADDRESS_EmailAddress': String(100),\n",
    "    'PERSON_PASSWORD_PasswordHash': LargeBinary,\n",
    "    'PERSON_PASSWORD_PasswordSalt': LargeBinary\n",
    "}\n",
    "\n",
    "# Convert the 'PERSON_PASSWORD_PasswordHash' and 'PERSON_PASSWORD_PasswordSalt' columns to bytes\n",
    "people['PERSON_PASSWORD_PasswordHash'] = people['PERSON_PASSWORD_PasswordHash'].apply(lambda x: x.encode('utf-8') if isinstance(x, str) else x)\n",
    "people['PERSON_PASSWORD_PasswordSalt'] = people['PERSON_PASSWORD_PasswordSalt'].apply(lambda x: x.encode('utf-8') if isinstance(x, str) else x)\n",
    "\n",
    "prepare_and_insert(people, people_dtypes, 'Person',united_outdoors_engine, { 'PERSON_PERSON_BusinessEntityID' : businessentities_nk_sk_dict})"
   ],
   "outputs": [
    {
     "name": "stdout",
     "output_type": "stream",
     "text": [
      "Replacing natural keys with surrogate keys for column: PERSON_PERSON_BusinessEntityID\n",
      "Inserting data into table: Person with chunk size: 111\n"
     ]
    }
   ],
   "execution_count": 131
  },
  {
   "cell_type": "markdown",
   "id": "11006cc84f78e74b",
   "metadata": {},
   "source": [
    "### Updating the BusinessEntity table\n",
    "replacing the natural keys with the surrogate keys for the PersonID column"
   ]
  },
  {
   "cell_type": "code",
   "id": "b3d0989f3e6c628e",
   "metadata": {
    "nbdime-conflicts": {
     "local_diff": [
      {
       "diff": [
        {
         "diff": [
          {
           "diff": [
            {
             "key": 11,
             "op": "addrange",
             "valuelist": "15:"
            },
            {
             "key": 12,
             "length": 3,
             "op": "removerange"
            },
            {
             "key": 17,
             "op": "addrange",
             "valuelist": "48"
            },
            {
             "key": 17,
             "length": 2,
             "op": "removerange"
            },
            {
             "key": 21,
             "length": 3,
             "op": "removerange"
            },
            {
             "key": 26,
             "op": "addrange",
             "valuelist": "476"
            }
           ],
           "key": 0,
           "op": "patch"
          }
         ],
         "key": "end_time",
         "op": "patch"
        },
        {
         "diff": [
          {
           "key": 0,
           "op": "addrange",
           "valuelist": [
            "2024-05-16T15:00:10.292082Z"
           ]
          },
          {
           "key": 0,
           "length": 1,
           "op": "removerange"
          }
         ],
         "key": "start_time",
         "op": "patch"
        }
       ],
       "key": "ExecuteTime",
       "op": "patch"
      }
     ],
     "remote_diff": [
      {
       "key": "ExecuteTime",
       "op": "remove"
      }
     ]
    },
    "ExecuteTime": {
     "end_time": "2024-05-20T13:33:10.758981Z",
     "start_time": "2024-05-20T13:31:06.071590Z"
    }
   },
   "source": [
    "prepare_and_update('BusinessEntity', united_outdoors_engine, { 'BUSINESSENTITY_BUSINESSENTITYCONTACT_PersonID' : businessentities_nk_sk_dict})"
   ],
   "outputs": [
    {
     "name": "stdout",
     "output_type": "stream",
     "text": [
      "Updating data in table: BusinessEntity\n"
     ]
    }
   ],
   "execution_count": 132
  },
  {
   "cell_type": "markdown",
   "id": "d2114350a545ae1c",
   "metadata": {},
   "source": [
    "### BusinessEntityAddresses"
   ]
  },
  {
   "cell_type": "code",
   "id": "45e9b08d3f43e42c",
   "metadata": {
    "nbdime-conflicts": {
     "local_diff": [
      {
       "diff": [
        {
         "diff": [
          {
           "key": 0,
           "op": "addrange",
           "valuelist": [
            "2024-05-16T15:01:03.060807Z"
           ]
          },
          {
           "key": 0,
           "length": 1,
           "op": "removerange"
          }
         ],
         "key": "end_time",
         "op": "patch"
        },
        {
         "diff": [
          {
           "key": 0,
           "op": "addrange",
           "valuelist": [
            "2024-05-16T15:00:48.266981Z"
           ]
          },
          {
           "key": 0,
           "length": 1,
           "op": "removerange"
          }
         ],
         "key": "start_time",
         "op": "patch"
        }
       ],
       "key": "ExecuteTime",
       "op": "patch"
      }
     ],
     "remote_diff": [
      {
       "key": "ExecuteTime",
       "op": "remove"
      }
     ]
    },
    "ExecuteTime": {
     "end_time": "2024-05-20T13:33:39.419833Z",
     "start_time": "2024-05-20T13:33:10.759986Z"
    }
   },
   "source": [
    "businessentityaddresses_dtypes = {\n",
    "    'BUSINESSENTITYADDRESS_BUSINESSENTITYADDRESS_BusinessEntityID': Integer,\n",
    "    'BUSINESSENTITYADDRESS_ADDRESSTYPE_AddressTypeID': Integer,\n",
    "    'BUSINESSENTITYADDRESS_ADDRESSTYPE_Name': String(100),\n",
    "    'BUSINESSENTITYADDRESS_ADDRESS_AddressID': Integer,\n",
    "    'BUSINESSENTITYADDRESS_ADDRESS_AddressLine1': String(100),\n",
    "    'BUSINESSENTITYADDRESS_ADDRESS_AddressLine2': String(100),\n",
    "    'BUSINESSENTITYADDRESS_ADDRESS_City': String(100),\n",
    "    'BUSINESSENTITYADDRESS_ADDRESS_POSTALCODE': String(100),\n",
    "    'BUSINESSENTITYADDRESS_ADDRESS_SpatialLocation': VARCHAR,\n",
    "    'BUSINESSENTITYADDRESS_ADDRESS_StateProvinceID': Integer\n",
    "}\n",
    "\n",
    "# TODO the StateProvinceID needs to refer to sk of Territory\n",
    "prepare_and_insert(businessentityaddresses, businessentityaddresses_dtypes, 'BusinessEntityAddress',united_outdoors_engine, { 'BUSINESSENTITYADDRESS_BUSINESSENTITYADDRESS_BusinessEntityID' : businessentities_nk_sk_dict, 'BUSINESSENTITYADDRESS_ADDRESS_StateProvinceID' : {}})"
   ],
   "outputs": [
    {
     "name": "stdout",
     "output_type": "stream",
     "text": [
      "Replacing natural keys with surrogate keys for column: BUSINESSENTITYADDRESS_BUSINESSENTITYADDRESS_BusinessEntityID\n",
      "Replacing natural keys with surrogate keys for column: BUSINESSENTITYADDRESS_ADDRESS_StateProvinceID\n",
      "Inserting data into table: BusinessEntityAddress with chunk size: 200\n"
     ]
    }
   ],
   "execution_count": 133
  },
  {
   "cell_type": "markdown",
   "id": "c5a22ba450567121",
   "metadata": {},
   "source": [
    "### JobCandidate"
   ]
  },
  {
   "cell_type": "code",
   "id": "c7b20bd5154dca95",
   "metadata": {
    "ExecuteTime": {
     "end_time": "2024-05-20T13:33:43.032504Z",
     "start_time": "2024-05-20T13:33:39.422980Z"
    }
   },
   "source": [
    "jobcandidates_dtypes = {\n",
    "    'JOBCANDIDATE_JOBCANDIDATE_JobCandidateID': Integer,\n",
    "    'JOBCANDIDATE_JOBCANDIDATE_BusinessEntityID': Integer,\n",
    "    'JOBCANDIDATE_JOBCANDIDATE_Resume': XML\n",
    "}\n",
    "\n",
    "prepare_and_insert(jobcandidates, jobcandidates_dtypes, 'JobCandidate',united_outdoors_engine, { 'JOBCANDIDATE_JOBCANDIDATE_BusinessEntityID' : businessentities_nk_sk_dict})"
   ],
   "outputs": [
    {
     "name": "stdout",
     "output_type": "stream",
     "text": [
      "Replacing natural keys with surrogate keys for column: JOBCANDIDATE_JOBCANDIDATE_BusinessEntityID\n",
      "Inserting data into table: JobCandidate with chunk size: 666\n"
     ]
    }
   ],
   "execution_count": 134
  },
  {
   "cell_type": "markdown",
   "id": "abc7c1a32ac597a7",
   "metadata": {},
   "source": [
    "### EmployeeDepartmentHistory"
   ]
  },
  {
   "cell_type": "code",
   "id": "dde1123b43c1e961",
   "metadata": {
    "ExecuteTime": {
     "end_time": "2024-05-20T13:33:47.158611Z",
     "start_time": "2024-05-20T13:33:43.033516Z"
    }
   },
   "source": [
    "employeedepartmenthistories_dtypes = {\n",
    "    'EMPLOYEEDEPARTMENTHISTORY_EMPLOYEEDEPARTMENTHISTORY_BusinessEntityID': Integer,\n",
    "    'EMPLOYEEDEPARTMENTHISTORY_EMPLOYEEDEPARTMENTHISTORY_DepartmentID': Integer,\n",
    "    'EMPLOYEEDEPARTMENTHISTORY_EMPLOYEEDEPARTMENTHISTORY_ShiftID': Integer,\n",
    "    'EMPLOYEEDEPARTMENTHISTORY_EMPLOYEEDEPARTMENTHISTORY_StartDate': DATE,\n",
    "    'EMPLOYEEDEPARTMENTHISTORY_EMPLOYEEDEPARTMENTHISTORY_EndDate': DATE\n",
    "}\n",
    "\n",
    "prepare_and_insert(employeedepartmenthistories, employeedepartmenthistories_dtypes, 'EmployeeDepartmentHistory',united_outdoors_engine, { 'EMPLOYEEDEPARTMENTHISTORY_EMPLOYEEDEPARTMENTHISTORY_BusinessEntityID' : businessentities_nk_sk_dict, 'EMPLOYEEDEPARTMENTHISTORY_EMPLOYEEDEPARTMENTHISTORY_DepartmentID' : departments_nk_sk_dict, 'EMPLOYEEDEPARTMENTHISTORY_EMPLOYEEDEPARTMENTHISTORY_ShiftID' : {}})"
   ],
   "outputs": [
    {
     "name": "stdout",
     "output_type": "stream",
     "text": [
      "Replacing natural keys with surrogate keys for column: EMPLOYEEDEPARTMENTHISTORY_EMPLOYEEDEPARTMENTHISTORY_BusinessEntityID\n",
      "Replacing natural keys with surrogate keys for column: EMPLOYEEDEPARTMENTHISTORY_EMPLOYEEDEPARTMENTHISTORY_DepartmentID\n",
      "Replacing natural keys with surrogate keys for column: EMPLOYEEDEPARTMENTHISTORY_EMPLOYEEDEPARTMENTHISTORY_ShiftID\n",
      "Inserting data into table: EmployeeDepartmentHistory with chunk size: 400\n"
     ]
    }
   ],
   "execution_count": 135
  },
  {
   "cell_type": "markdown",
   "id": "1230a5a33034263c",
   "metadata": {},
   "source": [
    "### EmployeePayHistory"
   ]
  },
  {
   "cell_type": "code",
   "id": "fd52d08734d65416",
   "metadata": {
    "ExecuteTime": {
     "end_time": "2024-05-20T13:33:51.117547Z",
     "start_time": "2024-05-20T13:33:47.160772Z"
    }
   },
   "source": [
    "employeepayhistories_dtypes = {\n",
    "    'EMPLOYEEPAYHISTORY_EMPLOYEEPAYHISTORY_BusinessEntityID': Integer,\n",
    "    'EMPLOYEEPAYHISTORY_EMPLOYEEPAYHISTORY_RateChangeDate': DATE,\n",
    "    'EMPLOYEEPAYHISTORY_EMPLOYEEPAYHISTORY_Rate': MONEY,\n",
    "    'EMPLOYEEPAYHISTORY_EMPLOYEEPAYHISTORY_PayFrequency': Integer\n",
    "}\n",
    "\n",
    "prepare_and_insert(employeepayhistories, employeepayhistories_dtypes, 'EmployeePayHistory',united_outdoors_engine, { 'EMPLOYEEPAYHISTORY_EMPLOYEEPAYHISTORY_BusinessEntityID' : businessentities_nk_sk_dict})"
   ],
   "outputs": [
    {
     "name": "stdout",
     "output_type": "stream",
     "text": [
      "Replacing natural keys with surrogate keys for column: EMPLOYEEPAYHISTORY_EMPLOYEEPAYHISTORY_BusinessEntityID\n",
      "Inserting data into table: EmployeePayHistory with chunk size: 500\n"
     ]
    }
   ],
   "execution_count": 136
  },
  {
   "cell_type": "markdown",
   "id": "f1fc2f2fc9a1842a",
   "metadata": {},
   "source": [
    "### Shift"
   ]
  },
  {
   "cell_type": "code",
   "id": "b843dc3495846ed1",
   "metadata": {
    "ExecuteTime": {
     "end_time": "2024-05-20T13:33:51.167650Z",
     "start_time": "2024-05-20T13:33:51.120560Z"
    }
   },
   "source": [
    "shifts_dtypes = {\n",
    "    'SHIFT_SHIFT_ShiftID': Integer,\n",
    "    'SHIFT_SHIFT_Name': String(100),\n",
    "    'SHIFT_SHIFT_StartTime': TIME,\n",
    "    'SHIFT_SHIFT_EndTime': TIME\n",
    "}\n",
    "\n",
    "prepare_and_insert(shifts, shifts_dtypes, 'Shift',united_outdoors_engine)"
   ],
   "outputs": [
    {
     "name": "stdout",
     "output_type": "stream",
     "text": [
      "Inserting data into table: Shift with chunk size: 500\n"
     ]
    }
   ],
   "execution_count": 137
  },
  {
   "cell_type": "markdown",
   "id": "bf139378479069af",
   "metadata": {},
   "source": [
    "### SalesPerson"
   ]
  },
  {
   "cell_type": "code",
   "id": "4a5cefb5fc2b0318",
   "metadata": {
    "ExecuteTime": {
     "end_time": "2024-05-20T13:33:54.848661Z",
     "start_time": "2024-05-20T13:33:51.169258Z"
    }
   },
   "source": [
    "salespeople_dtypes = {\n",
    "    'SALESPERSON_SALESPERSON_BusinessEntityID': Integer,\n",
    "    'SALESPERSON_SALESPERSON_TerritoryID': Integer,\n",
    "    'SALESPERSON_SALESPERSON_SalesQuota': MONEY,\n",
    "    'SALESPERSON_SALESPERSON_Bonus': MONEY,\n",
    "    'SALESPERSON_SALESPERSON_CommissionPct': DECIMAL(8,4),\n",
    "    'SALESPERSON_SALESPERSON_SalesYTD': MONEY,\n",
    "    'SALESPERSON_SALESPERSON_SalesLastYear': MONEY\n",
    "}\n",
    "\n",
    "prepare_and_insert(salespeople, salespeople_dtypes, 'SalesPerson',united_outdoors_engine, { 'SALESPERSON_SALESPERSON_BusinessEntityID' : businessentities_nk_sk_dict, 'SALESPERSON_SALESPERSON_TerritoryID' : {}})"
   ],
   "outputs": [
    {
     "name": "stdout",
     "output_type": "stream",
     "text": [
      "Replacing natural keys with surrogate keys for column: SALESPERSON_SALESPERSON_BusinessEntityID\n",
      "Replacing natural keys with surrogate keys for column: SALESPERSON_SALESPERSON_TerritoryID\n",
      "Inserting data into table: SalesPerson with chunk size: 285\n"
     ]
    }
   ],
   "execution_count": 138
  },
  {
   "cell_type": "markdown",
   "id": "4caabdc27791b5ae",
   "metadata": {},
   "source": [
    "### ProductVendor"
   ]
  },
  {
   "cell_type": "code",
   "id": "8376781a52df1330",
   "metadata": {
    "ExecuteTime": {
     "end_time": "2024-05-20T13:33:59.509998Z",
     "start_time": "2024-05-20T13:33:54.850674Z"
    }
   },
   "source": [
    "productvendors_dtypes = {\n",
    "    'PRODUCTVENDOR_PRODUCTVENDOR_ProductID': Integer,\n",
    "    'PRODUCTVENDOR_PRODUCTVENDOR_BusinessEntityID': Integer,\n",
    "    'PRODUCTVENDOR_PRODUCTVENDOR_AverageLeadTime': Integer,\n",
    "    'PRODUCTVENDOR_PRODUCTVENDOR_StandardPrice': MONEY,\n",
    "    'PRODUCTVENDOR_PRODUCTVENDOR_LastReceiptCost': MONEY,\n",
    "    'PRODUCTVENDOR_PRODUCTVENDOR_LastReceiptDate': DATE,\n",
    "    'PRODUCTVENDOR_PRODUCTVENDOR_MinOrderQty': Integer,\n",
    "    'PRODUCTVENDOR_PRODUCTVENDOR_MaxOrderQty': Integer,\n",
    "    'PRODUCTVENDOR_PRODUCTVENDOR_OnOrderQty': Integer,\n",
    "    'PRODUCTVENDOR_PRODUCTVENDOR_UnitMeasureCode': CHAR(3)\n",
    "}\n",
    "\n",
    "prepare_and_insert(productvendors, productvendors_dtypes, 'ProductVendor', united_outdoors_engine, { 'PRODUCTVENDOR_PRODUCTVENDOR_ProductID' : {}, 'PRODUCTVENDOR_PRODUCTVENDOR_BusinessEntityID' : businessentities_nk_sk_dict, 'PRODUCTVENDOR_PRODUCTVENDOR_UnitMeasureCode' : {}})"
   ],
   "outputs": [
    {
     "name": "stdout",
     "output_type": "stream",
     "text": [
      "Replacing natural keys with surrogate keys for column: PRODUCTVENDOR_PRODUCTVENDOR_ProductID\n",
      "Replacing natural keys with surrogate keys for column: PRODUCTVENDOR_PRODUCTVENDOR_BusinessEntityID\n",
      "Replacing natural keys with surrogate keys for column: PRODUCTVENDOR_PRODUCTVENDOR_UnitMeasureCode\n",
      "Inserting data into table: ProductVendor with chunk size: 200\n"
     ]
    }
   ],
   "execution_count": 139
  },
  {
   "cell_type": "markdown",
   "id": "ff7b40509fe816d8",
   "metadata": {},
   "source": [
    "### CustomerDemographics"
   ]
  },
  {
   "cell_type": "code",
   "id": "e5ae3170f80504c9",
   "metadata": {
    "ExecuteTime": {
     "end_time": "2024-05-20T13:33:59.568750Z",
     "start_time": "2024-05-20T13:33:59.512063Z"
    }
   },
   "source": [
    "customerdemographics_dtypes = {\n",
    "    'CUSTOMERDEMOGRAPHIC_CUSTOMERDEMOGRAPHICS_CustomerTypeID': NVARCHAR(10),\n",
    "    'CUSTOMERDEMOGRAPHIC_CUSTOMERDEMOGRAPHICS_CustomerDesc': String(100)\n",
    "}\n",
    "\n",
    "customerdemographics_nk_sk_dict = prepare_and_insert_return_sk(customerdemographics, customerdemographics_dtypes, 'CustomerDemographic',united_outdoors_engine, 'CUSTOMERDEMOGRAPHIC_CUSTOMERDEMOGRAPHICS_CustomerTypeID')"
   ],
   "outputs": [
    {
     "name": "stdout",
     "output_type": "stream",
     "text": [
      "Inserting data into table: CustomerDemographic with chunk size: 1000\n"
     ]
    }
   ],
   "execution_count": 140
  },
  {
   "cell_type": "markdown",
   "id": "c35946bff547025e",
   "metadata": {},
   "source": [
    "### CustomerCustomerDemo"
   ]
  },
  {
   "cell_type": "code",
   "id": "15e375de50649853",
   "metadata": {
    "ExecuteTime": {
     "end_time": "2024-05-20T13:33:59.629853Z",
     "start_time": "2024-05-20T13:33:59.571820Z"
    }
   },
   "source": [
    "customercustomerdemos_dtypes = {\n",
    "    'CUSTOMERCUSTOMERDEMO_CUSTOMERCUSTOMERDEMO_CustomerID': NVARCHAR(10),\n",
    "    'CUSTOMERCUSTOMERDEMO_CUSTOMERCUSTOMERDEMO_CustomerTypeID': NVARCHAR(10)\n",
    "}\n",
    "\n",
    "# TODO how to handle fk? the nk is nvarchar, not an integer\n",
    "\n",
    "prepare_and_insert(customercustomerdemos, customercustomerdemos_dtypes, 'CustomerCustomerDemo',united_outdoors_engine, { 'CUSTOMERCUSTOMERDEMO_CUSTOMERCUSTOMERDEMO_CustomerTypeID' : customerdemographics_nk_sk_dict, 'CUSTOMERCUSTOMERDEMO_CUSTOMERCUSTOMERDEMO_CustomerID' : {}})"
   ],
   "outputs": [
    {
     "name": "stdout",
     "output_type": "stream",
     "text": [
      "Replacing natural keys with surrogate keys for column: CUSTOMERCUSTOMERDEMO_CUSTOMERCUSTOMERDEMO_CustomerTypeID\n",
      "Replacing natural keys with surrogate keys for column: CUSTOMERCUSTOMERDEMO_CUSTOMERCUSTOMERDEMO_CustomerID\n",
      "Inserting data into table: CustomerCustomerDemo with chunk size: 1000\n"
     ]
    }
   ],
   "execution_count": 141
  },
  {
   "cell_type": "markdown",
   "id": "1361fe6e4a286166",
   "metadata": {},
   "source": [
    "### SalesTerritoryHistory"
   ]
  },
  {
   "cell_type": "code",
   "id": "7b4ce7229fd463a7",
   "metadata": {
    "ExecuteTime": {
     "end_time": "2024-05-20T13:34:03.366562Z",
     "start_time": "2024-05-20T13:33:59.630865Z"
    }
   },
   "source": [
    "salesterritoryhistories_dtypes = {\n",
    "    'SALESTERRITORYHISTORY_SALESTERRITORYHISTORY_BusinessEntityID': Integer,\n",
    "    'SALESTERRITORYHISTORY_SALESTERRITORYHISTORY_TerritoryID': Integer,\n",
    "    'SALESTERRITORYHISTORY_SALESTERRITORYHISTORY_StartDate': DATE,\n",
    "    'SALESTERRITORYHISTORY_SALESTERRITORYHISTORY_EndDate': DATE\n",
    "}\n",
    "\n",
    "prepare_and_insert(salesterritoryhistories, salesterritoryhistories_dtypes, 'SalesTerritoryHistory',united_outdoors_engine, { 'SALESTERRITORYHISTORY_SALESTERRITORYHISTORY_BusinessEntityID' : businessentities_nk_sk_dict, 'SALESTERRITORYHISTORY_SALESTERRITORYHISTORY_TerritoryID' : {}})"
   ],
   "outputs": [
    {
     "name": "stdout",
     "output_type": "stream",
     "text": [
      "Replacing natural keys with surrogate keys for column: SALESTERRITORYHISTORY_SALESTERRITORYHISTORY_BusinessEntityID\n",
      "Replacing natural keys with surrogate keys for column: SALESTERRITORYHISTORY_SALESTERRITORYHISTORY_TerritoryID\n",
      "Inserting data into table: SalesTerritoryHistory with chunk size: 500\n"
     ]
    }
   ],
   "execution_count": 142
  },
  {
   "cell_type": "markdown",
   "id": "1efa16e08572063b",
   "metadata": {},
   "source": [
    "### ProductListPriceHistory"
   ]
  },
  {
   "cell_type": "code",
   "id": "8312c10e1e90a229",
   "metadata": {
    "ExecuteTime": {
     "end_time": "2024-05-20T13:34:03.708002Z",
     "start_time": "2024-05-20T13:34:03.369692Z"
    }
   },
   "source": [
    "productlistpricehistories_dtypes = {\n",
    "    'PRODUCTLISTPRICEHISTORY_PRODUCTLISTPRICEHISTORY_ProductID': Integer,\n",
    "    'PRODUCTLISTPRICEHISTORY_PRODUCTLISTPRICEHISTORY_StartDate': DATE,\n",
    "    'PRODUCTLISTPRICEHISTORY_PRODUCTLISTPRICEHISTORY_EndDate': DATE,\n",
    "    'PRODUCTLISTPRICEHISTORY_PRODUCTLISTPRICEHISTORY_ListPrice': MONEY\n",
    "}\n",
    "\n",
    "prepare_and_insert(productlistpricehistories, productlistpricehistories_dtypes, 'ProductListPriceHistory',united_outdoors_engine, { 'PRODUCTLISTPRICEHISTORY_PRODUCTLISTPRICEHISTORY_ProductID' : {}})"
   ],
   "outputs": [
    {
     "name": "stdout",
     "output_type": "stream",
     "text": [
      "Replacing natural keys with surrogate keys for column: PRODUCTLISTPRICEHISTORY_PRODUCTLISTPRICEHISTORY_ProductID\n",
      "Inserting data into table: ProductListPriceHistory with chunk size: 500\n"
     ]
    }
   ],
   "execution_count": 143
  },
  {
   "cell_type": "markdown",
   "id": "5d295c65ee501bbf",
   "metadata": {},
   "source": [
    "### ProductCostHistory"
   ]
  },
  {
   "cell_type": "code",
   "id": "112a61f2d77d50f1",
   "metadata": {
    "ExecuteTime": {
     "end_time": "2024-05-20T13:34:04.025039Z",
     "start_time": "2024-05-20T13:34:03.710152Z"
    }
   },
   "source": [
    "productcosthistories_dtypes = {\n",
    "    'PRODUCTCOSTHISTORY_PRODUCTCOSTHISTORY_ProductID': Integer,\n",
    "    'PRODUCTCOSTHISTORY_PRODUCTCOSTHISTORY_StartDate': DATE,\n",
    "    'PRODUCTCOSTHISTORY_PRODUCTCOSTHISTORY_EndDate': DATE,\n",
    "    'PRODUCTCOSTHISTORY_PRODUCTCOSTHISTORY_StandardCost': MONEY\n",
    "}\n",
    "\n",
    "prepare_and_insert(productcosthistories, productcosthistories_dtypes, 'ProductCostHistory', united_outdoors_engine, { 'PRODUCTCOSTHISTORY_PRODUCTCOSTHISTORY_ProductID' : {}})"
   ],
   "outputs": [
    {
     "name": "stdout",
     "output_type": "stream",
     "text": [
      "Replacing natural keys with surrogate keys for column: PRODUCTCOSTHISTORY_PRODUCTCOSTHISTORY_ProductID\n",
      "Inserting data into table: ProductCostHistory with chunk size: 500\n"
     ]
    }
   ],
   "execution_count": 144
  },
  {
   "cell_type": "markdown",
   "id": "bf39fc081c787b28",
   "metadata": {},
   "source": [
    "### ShoppingCartItem"
   ]
  },
  {
   "cell_type": "code",
   "id": "e31d8f16f16b8aac",
   "metadata": {
    "ExecuteTime": {
     "end_time": "2024-05-20T13:34:04.074482Z",
     "start_time": "2024-05-20T13:34:04.027173Z"
    }
   },
   "source": [
    "shoppingcartitems_dtypes = {\n",
    "    'SHOPPINGCARTITEM_SHOPPINGCARTITEM_ShoppingCartItemID': Integer,\n",
    "    'SHOPPINGCARTITEM_SHOPPINGCARTITEM_ShoppingCartID': Integer,\n",
    "    'SHOPPINGCARTITEM_SHOPPINGCARTITEM_ProductID': Integer,\n",
    "    'SHOPPINGCARTITEM_SHOPPINGCARTITEM_Quantity': Integer,\n",
    "    'SHOPPINGCARTITEM_SHOPPINGCARTITEM_DateCreated': DATE\n",
    "}\n",
    "\n",
    "prepare_and_insert(shoppingcartitems, shoppingcartitems_dtypes, 'ShoppingCartItem', united_outdoors_engine, { 'SHOPPINGCARTITEM_SHOPPINGCARTITEM_ProductID' : {}, 'SHOPPINGCARTITEM_SHOPPINGCARTITEM_ShoppingCartID' : {}})"
   ],
   "outputs": [
    {
     "name": "stdout",
     "output_type": "stream",
     "text": [
      "Replacing natural keys with surrogate keys for column: SHOPPINGCARTITEM_SHOPPINGCARTITEM_ProductID\n",
      "Replacing natural keys with surrogate keys for column: SHOPPINGCARTITEM_SHOPPINGCARTITEM_ShoppingCartID\n",
      "Inserting data into table: ShoppingCartItem with chunk size: 400\n"
     ]
    }
   ],
   "execution_count": 145
  },
  {
   "cell_type": "markdown",
   "id": "507dd6f90d28b486",
   "metadata": {},
   "source": [
    "### SalesPersonQuotaHistory"
   ]
  },
  {
   "cell_type": "code",
   "id": "3e252d444fbcef28",
   "metadata": {
    "ExecuteTime": {
     "end_time": "2024-05-20T13:34:07.754144Z",
     "start_time": "2024-05-20T13:34:04.077497Z"
    }
   },
   "source": [
    "salespersonquotahistories_dtypes = {\n",
    "    'SALESPERSONQUOTAHISTORY_SALESPERSONQUOTAHISTORY_BusinessEntityID': Integer,\n",
    "    'SALESPERSONQUOTAHISTORY_SALESPERSONQUOTAHISTORY_QuotaDate': DATE,\n",
    "    'SALESPERSONQUOTAHISTORY_SALESPERSONQUOTAHISTORY_SalesQuota': MONEY\n",
    "}\n",
    "\n",
    "prepare_and_insert(salespersonquotahistories, salespersonquotahistories_dtypes, 'SalesPersonQuotaHistory', united_outdoors_engine, { 'SALESPERSONQUOTAHISTORY_SALESPERSONQUOTAHISTORY_BusinessEntityID' : businessentities_nk_sk_dict})"
   ],
   "outputs": [
    {
     "name": "stdout",
     "output_type": "stream",
     "text": [
      "Replacing natural keys with surrogate keys for column: SALESPERSONQUOTAHISTORY_SALESPERSONQUOTAHISTORY_BusinessEntityID\n",
      "Inserting data into table: SalesPersonQuotaHistory with chunk size: 666\n"
     ]
    }
   ],
   "execution_count": 146
  },
  {
   "cell_type": "markdown",
   "id": "5e8f7f3967596334",
   "metadata": {},
   "source": [
    "### Products (TODO CHANGE)"
   ]
  },
  {
   "cell_type": "code",
   "id": "aa239c08dbe1292a",
   "metadata": {
    "nbdime-conflicts": {
     "local_diff": [
      {
       "diff": [
        {
         "diff": [
          {
           "key": 0,
           "op": "addrange",
           "valuelist": [
            "2024-05-16T15:02:10.703992Z"
           ]
          },
          {
           "key": 0,
           "length": 1,
           "op": "removerange"
          }
         ],
         "key": "end_time",
         "op": "patch"
        },
        {
         "diff": [
          {
           "key": 0,
           "op": "addrange",
           "valuelist": [
            "2024-05-16T15:01:14.990201Z"
           ]
          },
          {
           "key": 0,
           "length": 1,
           "op": "removerange"
          }
         ],
         "key": "start_time",
         "op": "patch"
        }
       ],
       "key": "ExecuteTime",
       "op": "patch"
      }
     ],
     "remote_diff": [
      {
       "key": "ExecuteTime",
       "op": "remove"
      }
     ]
    },
    "ExecuteTime": {
     "end_time": "2024-05-20T13:35:37.686695Z",
     "start_time": "2024-05-20T13:34:07.757157Z"
    }
   },
   "source": [
    "products_dtypes = {\n",
    "    'ProductID': Integer,\n",
    "    'ProductName': NVARCHAR(50),\n",
    "    'SupplierID': Integer,\n",
    "    'CategoryID': Integer,\n",
    "    'QuantityPerUnit': NVARCHAR(30),\n",
    "    'UnitPrice': MONEY,\n",
    "    'UnitsInStock': Integer,\n",
    "    'UnitsOnOrder': Integer,\n",
    "    'ReorderLevel': Integer,\n",
    "    'Discontinued': BIT,\n",
    "    'Description': NVARCHAR,\n",
    "    'ProdSize': NVARCHAR(50),\n",
    "    'Color': NVARCHAR(15),\n",
    "    'Quantity': Integer,\n",
    "    'picture_name': NVARCHAR(50),\n",
    "    'Category': NVARCHAR(20),\n",
    "    'Name': NVARCHAR(50),\n",
    "    'ProductNumber': NVARCHAR(25),\n",
    "    'MakeFlag': BIT,\n",
    "    'FinishedGoodsFlag': BIT,\n",
    "    'SafetyStockLevel': Integer,\n",
    "    'ReorderPoint': Integer,\n",
    "    'StandardCost': DECIMAL(8,4),\n",
    "    'ListPrice': MONEY,\n",
    "    'Size': NVARCHAR(5),\n",
    "    'SizeUnitMeasureCode': CHAR(2),\n",
    "    'WeightUnitMeasureCode': NVARCHAR(3),\n",
    "    'Weight': DECIMAL(8,2),\n",
    "    'DaysToManufacture': Integer,\n",
    "    'ProductLine': CHAR(1),\n",
    "    'Class': CHAR(1),\n",
    "    'Style': CHAR(1),\n",
    "    'ProductSubcategoryID': Integer,\n",
    "    'ProductModelID': Integer,\n",
    "    'SellStartDate': DATE,\n",
    "    'SellEndDate': DATE,\n",
    "    'DiscontinuedDate': DATE,\n",
    "    'ModifiedDate': DATE,\n",
    "    'ProductCategoryID': Integer,\n",
    "    'ProductDescriptionID': Integer,\n",
    "    'CatalogDescription': XML,\n",
    "    'Instructions': XML,\n",
    "    'IllustrationID': Integer,\n",
    "    'CultureID': NVARCHAR(10),\n",
    "    'ProductPhotoID': Integer,\n",
    "    'ThumbNailPhotoHexString': String,\n",
    "    'ThumbnailPhotoFileName': NVARCHAR(50),\n",
    "    'LargePhotoHexString': String,\n",
    "    'LargePhotoFileName': NVARCHAR(50),\n",
    "    'Primary': BIT\n",
    "}\n",
    "\n",
    "prepare_and_insert(products, products_dtypes, 'Product', united_outdoors_engine)"
   ],
   "outputs": [
    {
     "name": "stdout",
     "output_type": "stream",
     "text": [
      "Inserting data into table: Product with chunk size: 39\n"
     ]
    }
   ],
   "execution_count": 147
  },
  {
   "cell_type": "markdown",
   "id": "12bc871ab33902f9",
   "metadata": {},
   "source": [
    "### Regions (TODO CHANGE)"
   ]
  },
  {
   "cell_type": "code",
   "id": "6c4dad1df2d6521a",
   "metadata": {
    "nbdime-conflicts": {
     "local_diff": [
      {
       "diff": [
        {
         "diff": [
          {
           "key": 0,
           "op": "addrange",
           "valuelist": [
            "2024-05-16T15:02:10.850389Z"
           ]
          },
          {
           "key": 0,
           "length": 1,
           "op": "removerange"
          }
         ],
         "key": "end_time",
         "op": "patch"
        },
        {
         "diff": [
          {
           "key": 0,
           "op": "addrange",
           "valuelist": [
            "2024-05-16T15:02:10.704496Z"
           ]
          },
          {
           "key": 0,
           "length": 1,
           "op": "removerange"
          }
         ],
         "key": "start_time",
         "op": "patch"
        }
       ],
       "key": "ExecuteTime",
       "op": "patch"
      }
     ],
     "remote_diff": [
      {
       "key": "ExecuteTime",
       "op": "remove"
      }
     ]
    },
    "ExecuteTime": {
     "end_time": "2024-05-20T13:35:38.001400Z",
     "start_time": "2024-05-20T13:35:37.687711Z"
    }
   },
   "source": [
    "regions_dtypes = {\n",
    "    'RegionID': Integer,\n",
    "    'RegionName': VARCHAR(10),\n",
    "    'StateProvinceID': Integer,\n",
    "    'StateProvinceCode': VARCHAR(10),\n",
    "    'CountryRegionCode': CHAR(2),\n",
    "    'IsOnlyStateProvinceFlag': BIT,\n",
    "    'Name': VARCHAR(50),\n",
    "    'TerritoryID': Integer,\n",
    "    'ModifiedDate': DATE\n",
    "}\n",
    "\n",
    "regions['StateProvinceCode'] = regions['StateProvinceCode'].astype(str)\n",
    "\n",
    "prepare_and_insert(regions, regions_dtypes, 'Region', united_outdoors_engine)"
   ],
   "outputs": [
    {
     "name": "stdout",
     "output_type": "stream",
     "text": [
      "Inserting data into table: Region with chunk size: 200\n"
     ]
    }
   ],
   "execution_count": 148
  },
  {
   "cell_type": "markdown",
   "id": "d55f2fc2fe81836b",
   "metadata": {},
   "source": [
    "### Customers (TODO CHANGE)"
   ]
  },
  {
   "cell_type": "code",
   "id": "cef7756bacfaf1f6",
   "metadata": {
    "nbdime-conflicts": {
     "local_diff": [
      {
       "diff": [
        {
         "diff": [
          {
           "key": 0,
           "op": "addrange",
           "valuelist": [
            "2024-05-16T15:02:10.858623Z"
           ]
          },
          {
           "key": 0,
           "length": 1,
           "op": "removerange"
          }
         ],
         "key": "end_time",
         "op": "patch"
        },
        {
         "diff": [
          {
           "key": 0,
           "op": "addrange",
           "valuelist": [
            "2024-05-16T15:02:10.850896Z"
           ]
          },
          {
           "key": 0,
           "length": 1,
           "op": "removerange"
          }
         ],
         "key": "start_time",
         "op": "patch"
        }
       ],
       "key": "ExecuteTime",
       "op": "patch"
      }
     ],
     "remote_diff": [
      {
       "key": "ExecuteTime",
       "op": "remove"
      }
     ]
    },
    "ExecuteTime": {
     "end_time": "2024-05-20T13:35:38.010546Z",
     "start_time": "2024-05-20T13:35:38.002440Z"
    }
   },
   "source": [
    "customers_dtypes = {\n",
    "    'CustomerID': NVARCHAR(10),\n",
    "    'CompanyName': NVARCHAR(40),\n",
    "    'ContactName': NVARCHAR(60),\n",
    "    'ContactTitle': NVARCHAR(30),\n",
    "    'Address': NVARCHAR(60),\n",
    "    'City': NVARCHAR(30),\n",
    "    'Region': VARCHAR(15),\n",
    "    'Zip': VARCHAR(10),\n",
    "    'Country': VARCHAR(15),\n",
    "    'Phone': VARCHAR(24),\n",
    "    'Fax': VARCHAR(24),\n",
    "    'CustomerTypeID': VARCHAR,\n",
    "    'CustomerDesc': VARCHAR(100),\n",
    "    'State': CHAR(2),\n",
    "    'PersonID': Integer,\n",
    "    'StoreID': Integer,\n",
    "    'TerritoryID': Integer,\n",
    "    'AccountNumber': CHAR(10),\n",
    "    'PersonType': VARCHAR(2),\n",
    "    'NameStyle': BIT,\n",
    "    'Title': VARCHAR(10),\n",
    "    'Suffix': VARCHAR(10),\n",
    "    'EmailPromotion': Integer,\n",
    "    'AdditionalContactInfo': XML,\n",
    "    'Demographics': XML,\n",
    "    'AddressID': Integer,\n",
    "    'AddressTypeID': Integer,\n",
    "    'AddressLine2': VARCHAR(60),\n",
    "    'StateProvinceID': Integer,\n",
    "    'SpatialLocation': VARCHAR,  # SQLAlchemy does not support the GEOGRAPHY data type\n",
    "    'AddressType': VARCHAR(50),\n",
    "    'StateProvinceCode': VARCHAR(10),\n",
    "    'CountryRegionCode': CHAR(2),\n",
    "    'IsOnlyStateProvinceFlag': BIT,\n",
    "    'StateProvince': VARCHAR(50),\n",
    "    'CountryRegion': VARCHAR(50)\n",
    "}\n",
    "\n",
    "# applying the data types to the columns\n",
    "customers['CustomerID'] = customers['CustomerID'].astype(str)\n",
    "# causes error with customerdemo for some reason, not worth fixing atm since customers needs to be fixed\n",
    "#prepare_and_insert(customers, customers_dtypes, 'Customer', united_outdoors_engine) "
   ],
   "outputs": [],
   "execution_count": 149
  },
  {
   "cell_type": "markdown",
   "id": "c90ebde5",
   "metadata": {},
   "source": [
    "## Date"
   ]
  },
  {
   "cell_type": "code",
   "id": "534a141f",
   "metadata": {
    "ExecuteTime": {
     "end_time": "2024-05-20T13:36:58.758168Z",
     "start_time": "2024-05-20T13:36:38.003861Z"
    }
   },
   "source": [
    "date_dtypes = {\n",
    "    'DATE_ID': Integer,\n",
    "    'DATE_Date': DATE,\n",
    "    'DATE_Weekday': VARCHAR(10),\n",
    "    'DATE_WeekdayNum': Integer,\n",
    "    'DATE_DayMonth': Integer,\n",
    "    'DATE_DayOfYear': Integer,\n",
    "    'DATE_WeekOfYear': Integer,\n",
    "    'DATE_MonthNum': Integer,\n",
    "    'DATE_MonthName': VARCHAR(10),\n",
    "    'DATE_MonthNameShort': CHAR(10),\n",
    "    'DATE_Quarter': Integer,\n",
    "    'DATE_Year': Integer,\n",
    "    'DATE_FirstDayOfMonth': DATE,\n",
    "    'DATE_LastDayOfMonth': DATE,\n",
    "    'DATE_YYYYMM': CHAR(10),\n",
    "    'DATE_WeekendIndr': CHAR(15)\n",
    "}\n",
    "\n",
    "prepare_and_insert(date_table, date_dtypes, 'Date', united_outdoors_engine)"
   ],
   "outputs": [
    {
     "name": "stdout",
     "output_type": "stream",
     "text": [
      "Inserting data into table: Date with chunk size: 125\n"
     ]
    }
   ],
   "execution_count": 151
  },
  {
   "cell_type": "markdown",
   "id": "f788d533",
   "metadata": {},
   "source": [
    "## Time"
   ]
  },
  {
   "cell_type": "code",
   "id": "3a757e48",
   "metadata": {
    "ExecuteTime": {
     "end_time": "2024-05-20T13:36:59.070760Z",
     "start_time": "2024-05-20T13:36:58.759195Z"
    }
   },
   "source": [
    "time_dtypes = {\n",
    "    'TIME_ID': Integer,\n",
    "    'TIME_Hour': Integer,\n",
    "    'TIME_Minute': Integer,\n",
    "    'TIME_HourMinute': VARCHAR(10),\n",
    "}\n",
    "\n",
    "prepare_and_insert(time_table, time_dtypes, 'Time', united_outdoors_engine)"
   ],
   "outputs": [
    {
     "name": "stdout",
     "output_type": "stream",
     "text": [
      "Inserting data into table: Time with chunk size: 500\n"
     ]
    }
   ],
   "execution_count": 152
  },
  {
   "cell_type": "markdown",
   "id": "d5d5a350eb3857a5",
   "metadata": {},
   "source": [
    "## Constraints\n",
    "altering the tables to add the (foreign key) constraints"
   ]
  },
  {
   "cell_type": "code",
   "id": "4dbf2fec9d092308",
   "metadata": {
    "nbdime-conflicts": {
     "local_diff": [
      {
       "diff": [
        {
         "diff": [
          {
           "key": 0,
           "op": "addrange",
           "valuelist": [
            "2024-05-16T15:02:10.939652Z"
           ]
          },
          {
           "key": 0,
           "length": 1,
           "op": "removerange"
          }
         ],
         "key": "end_time",
         "op": "patch"
        },
        {
         "diff": [
          {
           "key": 0,
           "op": "addrange",
           "valuelist": [
            "2024-05-16T15:02:10.859128Z"
           ]
          },
          {
           "key": 0,
           "length": 1,
           "op": "removerange"
          }
         ],
         "key": "start_time",
         "op": "patch"
        }
       ],
       "key": "ExecuteTime",
       "op": "patch"
      }
     ],
     "remote_diff": [
      {
       "key": "ExecuteTime",
       "op": "remove"
      }
     ]
    },
    "ExecuteTime": {
     "end_time": "2024-05-20T13:36:59.297275Z",
     "start_time": "2024-05-20T13:36:59.071776Z"
    }
   },
   "source": [
    "# opening the UnitedOutdoors_constraints.sql file\n",
    "with open('sql/UnitedOutdoors_constraints.sql', 'r') as file:\n",
    "    sql_script = file.read()\n",
    "\n",
    "# Execute the script\n",
    "split_and_execute_sql_script(sql_script, united_outdoors_engine)"
   ],
   "outputs": [],
   "execution_count": 153
  },
  {
   "cell_type": "markdown",
   "id": "1673fad4818f5f48",
   "metadata": {},
   "source": [
    "## Closing connections"
   ]
  },
  {
   "cell_type": "code",
   "id": "9c88383a3ffc4e6f",
   "metadata": {
    "nbdime-conflicts": {
     "local_diff": [
      {
       "diff": [
        {
         "diff": [
          {
           "key": 0,
           "op": "addrange",
           "valuelist": [
            "2024-05-16T15:02:10.943727Z"
           ]
          },
          {
           "key": 0,
           "length": 1,
           "op": "removerange"
          }
         ],
         "key": "end_time",
         "op": "patch"
        },
        {
         "diff": [
          {
           "key": 0,
           "op": "addrange",
           "valuelist": [
            "2024-05-16T15:02:10.940157Z"
           ]
          },
          {
           "key": 0,
           "length": 1,
           "op": "removerange"
          }
         ],
         "key": "start_time",
         "op": "patch"
        }
       ],
       "key": "ExecuteTime",
       "op": "patch"
      }
     ],
     "remote_diff": [
      {
       "key": "ExecuteTime",
       "op": "remove"
      }
     ]
    },
    "ExecuteTime": {
     "end_time": "2024-05-20T13:36:59.304306Z",
     "start_time": "2024-05-20T13:36:59.298776Z"
    }
   },
   "source": [
    "try:\n",
    "    united_outdoors_engine.dispose()\n",
    "    northwind_engine.dispose()\n",
    "    aenc_engine.dispose()\n",
    "    adventureworks_engine.dispose()\n",
    "except OperationalError as e:\n",
    "        print(f'Error: {e}')"
   ],
   "outputs": [],
   "execution_count": 154
  },
  {
   "cell_type": "markdown",
   "id": "a8c36edbf5a1ad64",
   "metadata": {},
   "source": [
    "# Time elapsed"
   ]
  },
  {
   "cell_type": "code",
   "id": "3ff59589c2be6e71",
   "metadata": {
    "nbdime-conflicts": {
     "local_diff": [
      {
       "diff": [
        {
         "diff": [
          {
           "key": 0,
           "op": "addrange",
           "valuelist": [
            "2024-05-16T15:02:10.947726Z"
           ]
          },
          {
           "key": 0,
           "length": 1,
           "op": "removerange"
          }
         ],
         "key": "end_time",
         "op": "patch"
        },
        {
         "diff": [
          {
           "key": 0,
           "op": "addrange",
           "valuelist": [
            "2024-05-16T15:02:10.944239Z"
           ]
          },
          {
           "key": 0,
           "length": 1,
           "op": "removerange"
          }
         ],
         "key": "start_time",
         "op": "patch"
        }
       ],
       "key": "ExecuteTime",
       "op": "patch"
      }
     ],
     "remote_diff": [
      {
       "key": "ExecuteTime",
       "op": "remove"
      }
     ]
    },
    "ExecuteTime": {
     "end_time": "2024-05-20T13:36:59.310830Z",
     "start_time": "2024-05-20T13:36:59.304306Z"
    }
   },
   "source": [
    "end_time = time.time()\n",
    "\n",
    "print(f'Time elapsed: {end_time - start_time} seconds')"
   ],
   "outputs": [
    {
     "name": "stdout",
     "output_type": "stream",
     "text": [
      "Time elapsed: 428.24245953559875 seconds\n"
     ]
    }
   ],
   "execution_count": 155
  }
 ],
 "metadata": {
  "kernelspec": {
   "display_name": "Python 3",
   "language": "python",
   "name": "python3"
  },
  "language_info": {
   "codemirror_mode": {
    "name": "ipython",
    "version": 3
   },
   "file_extension": ".py",
   "mimetype": "text/x-python",
   "name": "python",
   "nbconvert_exporter": "python",
   "pygments_lexer": "ipython3",
   "version": "3.12.2"
  }
 },
 "nbformat": 4,
 "nbformat_minor": 5
}
