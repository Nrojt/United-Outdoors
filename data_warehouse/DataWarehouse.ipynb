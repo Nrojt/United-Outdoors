{
 "cells": [
  {
   "cell_type": "markdown",
   "id": "17e2c480eb50cac0",
   "metadata": {},
   "source": [
    "# United outdoors datawarehouse"
   ]
  },
  {
   "cell_type": "markdown",
   "id": "219c4ad180aa0438",
   "metadata": {},
   "source": [
    "## Imports"
   ]
  },
  {
   "cell_type": "code",
   "execution_count": 1,
   "id": "1cf4cf0b86e3ced5",
   "metadata": {
    "ExecuteTime": {
     "end_time": "2024-05-23T08:30:28.868523Z",
     "start_time": "2024-05-23T08:30:25.060963Z"
    }
   },
   "outputs": [],
   "source": [
    "import pandas as pd\n",
    "import numpy as np\n",
    "from sqlalchemy import create_engine, BigInteger, Integer, String, LargeBinary, VARCHAR, NVARCHAR, DECIMAL, CHAR, \\\n",
    "    DATE\n",
    "from sqlalchemy.dialects.mssql import BIT, XML, MONEY, TIME\n",
    "from sqlalchemy.exc import OperationalError\n",
    "from urllib import parse\n",
    "import re\n",
    "import time"
   ]
  },
  {
   "cell_type": "markdown",
   "id": "d65ce541",
   "metadata": {},
   "source": [
    "## Starting timer"
   ]
  },
  {
   "cell_type": "code",
   "execution_count": 2,
   "id": "f7b920a7d3f469e1",
   "metadata": {
    "ExecuteTime": {
     "end_time": "2024-05-23T08:30:28.875640Z",
     "start_time": "2024-05-23T08:30:28.870550Z"
    }
   },
   "outputs": [],
   "source": [
    "start_time = time.time()"
   ]
  },
  {
   "cell_type": "markdown",
   "id": "e5dedb1f60eb921f",
   "metadata": {},
   "source": [
    "## Database connection details"
   ]
  },
  {
   "cell_type": "code",
   "execution_count": 3,
   "id": "7fc7de2a6201878c",
   "metadata": {
    "ExecuteTime": {
     "end_time": "2024-05-23T08:30:28.885715Z",
     "start_time": "2024-05-23T08:30:28.876714Z"
    }
   },
   "outputs": [],
   "source": [
    "DB = {\n",
    "    'servername' : '(local)\\\\SQLEXPRESS',\n",
    "    'united_outdoors_database' : 'UnitedOutdoors',\n",
    "    'northwind_database' : 'Northwind',\n",
    "    'aenc_database' : 'Aenc',\n",
    "    'adventureworks_database' : 'AdventureWorks2019',\n",
    "    'master' : 'master'\n",
    "}"
   ]
  },
  {
   "cell_type": "code",
   "execution_count": 4,
   "id": "d813ef4841c45033",
   "metadata": {
    "ExecuteTime": {
     "end_time": "2024-05-23T08:30:28.895593Z",
     "start_time": "2024-05-23T08:30:28.888732Z"
    }
   },
   "outputs": [],
   "source": [
    "def create_connection(servername, database):\n",
    "    params = parse.quote_plus(f'DRIVER={{SQL Server}};SERVER={servername};DATABASE={database};Trusted_Connection=yes')\n",
    "    engine = create_engine(f'mssql+pyodbc:///?odbc_connect={params}', use_setinputsizes=False, connect_args={'options': '-c search_path=dbo'}, fast_executemany=True) # setinputsizes needs to be turned off for sql server, idk why but gives errors otherwise\n",
    "    try:\n",
    "        establish_conn = engine.connect()\n",
    "        print(f'Connection to {database} database successful')\n",
    "        return establish_conn, engine\n",
    "    except OperationalError as e:\n",
    "        print(f'Error: {e}')\n",
    "        return None, None"
   ]
  },
  {
   "cell_type": "code",
   "execution_count": 5,
   "id": "4415bc87cfbd4b9",
   "metadata": {
    "ExecuteTime": {
     "end_time": "2024-05-23T08:30:28.905689Z",
     "start_time": "2024-05-23T08:30:28.896619Z"
    }
   },
   "outputs": [],
   "source": [
    "def split_and_execute_sql_script(script, execute_engine):\n",
    "    # creating a connection\n",
    "    connection = execute_engine.connect()\n",
    "    \n",
    "    # splitting the script into the database creation and the rest\n",
    "    commands = re.split(r'GO\\n', script)\n",
    "    # removing all \\bGO\\b from the commands\n",
    "    commands = [re.sub(r'\\bGO\\b', '', command) for command in commands]\n",
    "    \n",
    "    # Execute the commands\n",
    "    for command in commands:\n",
    "        command = command.strip()\n",
    "        # Skip if the command is empty or 'GO'\n",
    "        if not command or command.upper() == 'GO':\n",
    "            continue\n",
    "        try:\n",
    "            connection.connection.execute(command)\n",
    "            connection.connection.commit()\n",
    "            #print(f'Command executed: {command}')\n",
    "        except OperationalError as e:\n",
    "            print(f'Error: {e} at command: {command}')"
   ]
  },
  {
   "cell_type": "code",
   "execution_count": 6,
   "id": "21dbea997ab232bc",
   "metadata": {
    "ExecuteTime": {
     "end_time": "2024-05-23T08:30:28.916855Z",
     "start_time": "2024-05-23T08:30:28.906742Z"
    }
   },
   "outputs": [],
   "source": [
    "def bulk_insert(df, dtypes, table_name, engine):\n",
    "    # calculating chunk size\n",
    "    chunk_size = (2000 // len(df.columns))  # 2100 is the maximum number of parameters in a query, -100 for safety\n",
    "\n",
    "    print(f'Inserting data into table: {table_name} with chunk size: {chunk_size}')\n",
    "    df.to_sql(name=table_name, schema='dbo', con=engine, if_exists='append', index=False, dtype=dtypes, method='multi', chunksize= chunk_size)"
   ]
  },
  {
   "cell_type": "code",
   "execution_count": 7,
   "id": "b6d38bfcca6afd40",
   "metadata": {
    "ExecuteTime": {
     "end_time": "2024-05-23T08:30:28.926551Z",
     "start_time": "2024-05-23T08:30:28.917987Z"
    }
   },
   "outputs": [],
   "source": [
    "def prepare(dataframe, nk_sk_dict=None):\n",
    "    # replacing the natural keys with the surrogate keys\n",
    "    if nk_sk_dict:\n",
    "        for column in nk_sk_dict:\n",
    "            # Check for duplicate keys\n",
    "            if len(nk_sk_dict[column]) != len(set(nk_sk_dict[column])):\n",
    "                raise ValueError(f'Duplicate keys found in nk_sk_dict for column: {column}')\n",
    "            else:\n",
    "                print(f'Replacing natural keys with surrogate keys for column: {column}')\n",
    "                for natural_key in nk_sk_dict[column]:\n",
    "                    dataframe[column] = dataframe[column].replace(natural_key, nk_sk_dict[column][natural_key])\n",
    "    \n",
    "    # replace empty values with None\n",
    "    dataframe = dataframe.where(pd.notnull(dataframe), None)\n",
    "    dataframe = dataframe.replace({np.nan: None})\n",
    "    \n",
    "    # stripping all columns with string data\n",
    "    dataframe = dataframe.map(lambda x: x.strip() if isinstance(x, str) else x)\n",
    "    # replacing all empty strings with None\n",
    "    dataframe = dataframe.replace(r'^\\s*$', None, regex=True)"
   ]
  },
  {
   "cell_type": "code",
   "execution_count": 8,
   "id": "9e8d3a2b2b8f35f4",
   "metadata": {
    "ExecuteTime": {
     "end_time": "2024-05-23T08:30:28.936975Z",
     "start_time": "2024-05-23T08:30:28.927574Z"
    }
   },
   "outputs": [],
   "source": [
    "def get_nk_sk_dict(engine, natural_key_column, table_name):\n",
    "   \n",
    "    surrogate_key_column = table_name.capitalize() + \"_sk\"\n",
    "    \n",
    "    query = f'WITH RankedKeys AS (SELECT {natural_key_column}, {surrogate_key_column}, ROW_NUMBER() OVER(PARTITION BY {natural_key_column} ORDER BY {table_name}_datetime_added DESC) AS rn FROM {table_name}) SELECT {natural_key_column}, {surrogate_key_column} FROM RankedKeys WHERE rn = 1' # getting the latest surrogate key for each natural key, by datetime_added\n",
    "    \n",
    "    # turing the query into a dataframe\n",
    "    nk_sk_df = pd.read_sql(query, engine).dropna()\n",
    "    \n",
    "    # converting the dataframe to a dictionary\n",
    "    nk_sk_dict = nk_sk_df.set_index(natural_key_column)[surrogate_key_column].to_dict()\n",
    "    \n",
    "    return nk_sk_dict"
   ]
  },
  {
   "cell_type": "code",
   "execution_count": 9,
   "id": "4864830206097f93",
   "metadata": {
    "ExecuteTime": {
     "end_time": "2024-05-23T08:30:28.946822Z",
     "start_time": "2024-05-23T08:30:28.938988Z"
    }
   },
   "outputs": [],
   "source": [
    "def prepare_and_insert(dataframe, dtypes, table_name, insert_engine, nk_sk_dict=None):\n",
    "    \"\"\"\n",
    "    Prepares the dataframe for insertion into the database and inserts it into the database.\n",
    "        @param dataframe: The dataframe to be inserted into the database\n",
    "        @param dtypes: The data types of the columns in the dataframe\n",
    "        @param table_name: The name of the table in the database\n",
    "        @param insert_engine: The engine to insert the data into\n",
    "        @param nk_sk_dict: A 3d dictionary containing the natural keys and their corresponding surrogate keys, per column (so nk_sk_dict[column][natural_key] = surrogate_key)\n",
    "    \"\"\"\n",
    "       \n",
    "    prepare(dataframe, nk_sk_dict)\n",
    "    \n",
    "    # adding the data to the database\n",
    "    bulk_insert(dataframe, dtypes, table_name, insert_engine)"
   ]
  },
  {
   "cell_type": "code",
   "execution_count": 10,
   "id": "831fa404922c26e",
   "metadata": {
    "ExecuteTime": {
     "end_time": "2024-05-23T08:30:28.957125Z",
     "start_time": "2024-05-23T08:30:28.948831Z"
    }
   },
   "outputs": [],
   "source": [
    "def prepare_and_insert_return_sk(dataframe, dtypes, table_name, insert_engine, natural_key_column, nk_sk_dict=None):\n",
    "    \"\"\"\n",
    "    Prepares the dataframe for insertion into the database and inserts it into the database.\n",
    "        @param dataframe: The dataframe to be inserted into the database\n",
    "        @param dtypes: The data types of the columns in the dataframe\n",
    "        @param table_name: The name of the table in the database\n",
    "        @param insert_engine: The engine to insert the data into\n",
    "        @param natural_key_column: The name of the column containing the natural keys\n",
    "        @param nk_sk_dict: A 3d dictionary containing the natural keys and their corresponding surrogate keys, per column (so nk_sk_dict[column][natural_key] = surrogate_key)\n",
    "        @return: A dictionary containing the natural keys and their corresponding surrogate keys\n",
    "    \"\"\"\n",
    "    \n",
    "    prepare(dataframe, nk_sk_dict)\n",
    "    \n",
    "    # adding the data to the database\n",
    "    bulk_insert(dataframe, dtypes, table_name, insert_engine)\n",
    "    \n",
    "    # getting the natural key and surrogate key dictionary\n",
    "    current_nk_sk_dict = get_nk_sk_dict(insert_engine, natural_key_column, table_name)\n",
    "    \n",
    "    return current_nk_sk_dict"
   ]
  },
  {
   "cell_type": "code",
   "execution_count": 11,
   "id": "dcf41d6c2aee34fb",
   "metadata": {
    "ExecuteTime": {
     "end_time": "2024-05-23T08:30:28.969271Z",
     "start_time": "2024-05-23T08:30:28.958141Z"
    }
   },
   "outputs": [],
   "source": [
    "def prepare_and_update(table_name, update_engine, nk_sk_dict=None):   \n",
    "    # creating a connection\n",
    "    connection = update_engine.connect()\n",
    "\n",
    "    # Start a transaction\n",
    "    trans = connection.begin()\n",
    "\n",
    "    try:\n",
    "        # adding the data to the database\n",
    "        print(f'Updating data in table: {table_name}')\n",
    "        for column in nk_sk_dict:\n",
    "            # Prepare a batch update statement\n",
    "            update_stmts = []\n",
    "            for natural_key in nk_sk_dict[column]:\n",
    "                # TODO this would not work with updated data in datawarehouse, since this would replace the old and new data. Maybe check the datetime or something\n",
    "                if isinstance(natural_key, (int, float)):\n",
    "                    statement = f'UPDATE {table_name} SET {column} = {nk_sk_dict[column][natural_key]} WHERE {column} = {int(natural_key)}'\n",
    "                else:\n",
    "                    statement = f'UPDATE {table_name} SET {column} = {nk_sk_dict[column][natural_key]} WHERE {column} = \\'{natural_key}\\''\n",
    "                \n",
    "                update_stmts.append(statement)\n",
    "\n",
    "                # If the number of parameters reaches the limit, execute the batch update and clear the list\n",
    "                if len(update_stmts) * 2 >= 2000:  # Each update statement has 2 parameters, cause of the Column and Where clause\n",
    "                    connection.connection.execute(\";\".join(update_stmts))\n",
    "                    update_stmts = []\n",
    "\n",
    "            # Execute the remaining update statements\n",
    "            if update_stmts:\n",
    "                connection.connection.execute(\";\".join(update_stmts))\n",
    "\n",
    "        # Commit the transaction\n",
    "        trans.commit()\n",
    "    except:\n",
    "        # Rollback the transaction in case of error\n",
    "        trans.rollback()\n",
    "        raise\n",
    "    finally:\n",
    "        # Close the connection\n",
    "        connection.close()"
   ]
  },
  {
   "cell_type": "code",
   "execution_count": 12,
   "id": "20684c4233f7620d",
   "metadata": {
    "ExecuteTime": {
     "end_time": "2024-05-23T08:30:28.979032Z",
     "start_time": "2024-05-23T08:30:28.971294Z"
    }
   },
   "outputs": [],
   "source": [
    "def drop_modified_date_rowguid(dataframe):\n",
    "    # dropping all columns with 'rowguid' in their name\n",
    "    columns_to_drop_mr = dataframe.filter(like='rowguid').columns\n",
    "    \n",
    "    # dropping all columns with 'ModifiedDate' in their name\n",
    "    columns_to_drop_mr = columns_to_drop_mr.append(dataframe.filter(like='ModifiedDate').columns)\n",
    "    \n",
    "    # dropping the columns\n",
    "    dataframe.drop(columns=columns_to_drop_mr, inplace=True)"
   ]
  },
  {
   "cell_type": "markdown",
   "id": "d20434978a02675e",
   "metadata": {},
   "source": [
    "## Create the UnitedOutdoors datawarehouse"
   ]
  },
  {
   "cell_type": "code",
   "execution_count": 13,
   "id": "f4a738224bd6cb1",
   "metadata": {
    "ExecuteTime": {
     "end_time": "2024-05-23T08:30:30.132048Z",
     "start_time": "2024-05-23T08:30:28.980097Z"
    }
   },
   "outputs": [
    {
     "name": "stdout",
     "output_type": "stream",
     "text": [
      "Connection to master database successful\n"
     ]
    }
   ],
   "source": [
    "_, creation_engine = create_connection(DB[\"servername\"], DB[\"master\"])\n",
    "\n",
    "# Open the SQL script file and read its contents\n",
    "with open('sql/UnitedOutdoors_creation.sql', 'r') as file:\n",
    "    sql_script = file.read()\n",
    "\n",
    "split_and_execute_sql_script(sql_script, creation_engine)\n",
    "\n",
    "creation_engine.dispose()"
   ]
  },
  {
   "cell_type": "markdown",
   "id": "53f0ccd3e21fa4b5",
   "metadata": {},
   "source": [
    "## Connecting to the UnitedOutdoors datawarehouse"
   ]
  },
  {
   "cell_type": "code",
   "execution_count": 14,
   "id": "68689a803df4672f",
   "metadata": {
    "ExecuteTime": {
     "end_time": "2024-05-23T08:30:30.329508Z",
     "start_time": "2024-05-23T08:30:30.133065Z"
    }
   },
   "outputs": [
    {
     "name": "stdout",
     "output_type": "stream",
     "text": [
      "Connection to UnitedOutdoors database successful\n"
     ]
    }
   ],
   "source": [
    "_ , united_outdoors_engine = create_connection(DB[\"servername\"], DB[\"united_outdoors_database\"])"
   ]
  },
  {
   "cell_type": "markdown",
   "id": "75e2c357aec06e16",
   "metadata": {},
   "source": [
    "## Loading the data from the source databases"
   ]
  },
  {
   "cell_type": "markdown",
   "id": "e233e17a8927b6b1",
   "metadata": {},
   "source": [
    "### Northwind database"
   ]
  },
  {
   "cell_type": "markdown",
   "id": "aebf714a21c77aac",
   "metadata": {},
   "source": [
    "#### Connection"
   ]
  },
  {
   "cell_type": "code",
   "execution_count": 15,
   "id": "f49b57c4eb4a0356",
   "metadata": {
    "ExecuteTime": {
     "end_time": "2024-05-23T08:30:30.599679Z",
     "start_time": "2024-05-23T08:30:30.330520Z"
    }
   },
   "outputs": [
    {
     "name": "stdout",
     "output_type": "stream",
     "text": [
      "Connection to Northwind database successful\n"
     ]
    }
   ],
   "source": [
    "northwind_conn, northwind_engine = create_connection(DB[\"servername\"], DB[\"northwind_database\"])"
   ]
  },
  {
   "cell_type": "markdown",
   "id": "ce0ee452c23a7217",
   "metadata": {},
   "source": [
    "#### Loading data"
   ]
  },
  {
   "cell_type": "code",
   "execution_count": 16,
   "id": "6759fac4a542f313",
   "metadata": {
    "ExecuteTime": {
     "end_time": "2024-05-23T08:30:30.853881Z",
     "start_time": "2024-05-23T08:30:30.600690Z"
    }
   },
   "outputs": [],
   "source": [
    "# Load the data from the source database\n",
    "northwind_categories = pd.read_sql('SELECT * FROM Categories', northwind_conn)\n",
    "northwind_customer_customer_demo = pd.read_sql('SELECT * FROM CustomerCustomerDemo', northwind_conn)\n",
    "northwind_customer_demographics = pd.read_sql('SELECT * FROM CustomerDemographics', northwind_conn)\n",
    "northwind_customers = pd.read_sql('SELECT * FROM Customers', northwind_conn)\n",
    "northwind_employees = pd.read_sql('SELECT *, CONVERT(VARCHAR(MAX), CONVERT(VARBINARY(MAX), Photo), 1) as EMPLOYEE_EMPLOYEES_PhotoHexString FROM Employees', northwind_conn) # image is deprecated, but still in northwind. Direct conversion from image to varchar is not possible, so we need to convert it to varbinary first\n",
    "northwind_employee_territories = pd.read_sql('SELECT * FROM EmployeeTerritories', northwind_conn)\n",
    "northwind_order_details = pd.read_sql('SELECT * FROM [Order Details]', northwind_conn)\n",
    "northwind_orders = pd.read_sql('SELECT * FROM Orders', northwind_conn)\n",
    "northwind_products = pd.read_sql('SELECT * FROM Products', northwind_conn)\n",
    "northwind_region = pd.read_sql('SELECT * FROM Region', northwind_conn)\n",
    "northwind_shippers = pd.read_sql('SELECT * FROM Shippers', northwind_conn)\n",
    "northwind_suppliers = pd.read_sql('SELECT * FROM Suppliers', northwind_conn)\n",
    "northwind_territories = pd.read_sql('SELECT * FROM Territories', northwind_conn)\n",
    "\n",
    "northwind_conn.close()"
   ]
  },
  {
   "cell_type": "markdown",
   "id": "e8354ea289e5b52f",
   "metadata": {},
   "source": [
    "### Aenc database"
   ]
  },
  {
   "cell_type": "markdown",
   "id": "5a552beede389e74",
   "metadata": {},
   "source": [
    "#### Connection"
   ]
  },
  {
   "cell_type": "code",
   "execution_count": 17,
   "id": "8068f691bb272a12",
   "metadata": {
    "ExecuteTime": {
     "end_time": "2024-05-23T08:30:31.106076Z",
     "start_time": "2024-05-23T08:30:30.855893Z"
    }
   },
   "outputs": [
    {
     "name": "stdout",
     "output_type": "stream",
     "text": [
      "Connection to Aenc database successful\n"
     ]
    }
   ],
   "source": [
    "aenc_conn , aenc_engine = create_connection(DB[\"servername\"], DB[\"aenc_database\"])"
   ]
  },
  {
   "cell_type": "markdown",
   "id": "52ebbee980f2d5e1",
   "metadata": {},
   "source": [
    "#### Loading data"
   ]
  },
  {
   "cell_type": "code",
   "execution_count": 18,
   "id": "a13392c1ea85f07c",
   "metadata": {
    "ExecuteTime": {
     "end_time": "2024-05-23T08:30:31.259815Z",
     "start_time": "2024-05-23T08:30:31.107197Z"
    }
   },
   "outputs": [],
   "source": [
    "aenc_bonus              = pd.read_sql('SELECT * FROM Bonus', aenc_conn)\n",
    "aenc_customer           = pd.read_sql('SELECT * FROM Customer', aenc_conn)\n",
    "aenc_department         = pd.read_sql('SELECT * FROM Department', aenc_conn)\n",
    "aenc_employee           = pd.read_sql('SELECT * FROM Employee', aenc_conn)\n",
    "aenc_product            = pd.read_sql('SELECT * FROM Product', aenc_conn)\n",
    "aenc_region             = pd.read_sql('SELECT * FROM Region', aenc_conn)\n",
    "aenc_sales_order        = pd.read_sql('SELECT * FROM SalesOrder', aenc_conn)\n",
    "aenc_sales_order_item   = pd.read_sql('SELECT * FROM SalesOrderItem', aenc_conn)\n",
    "aenc_state              = pd.read_sql('SELECT * FROM State', aenc_conn)\n",
    "\n",
    "aenc_conn.close()"
   ]
  },
  {
   "cell_type": "markdown",
   "id": "333dd57a2b50b509",
   "metadata": {},
   "source": [
    "### AdventureWorks database"
   ]
  },
  {
   "cell_type": "markdown",
   "id": "38a34bcd0999e229",
   "metadata": {},
   "source": [
    "#### Connection"
   ]
  },
  {
   "cell_type": "code",
   "execution_count": 19,
   "id": "8a7816d659b8042e",
   "metadata": {
    "ExecuteTime": {
     "end_time": "2024-05-23T08:30:31.409085Z",
     "start_time": "2024-05-23T08:30:31.260834Z"
    }
   },
   "outputs": [
    {
     "name": "stdout",
     "output_type": "stream",
     "text": [
      "Connection to AdventureWorks2019 database successful\n"
     ]
    }
   ],
   "source": [
    "adventureworks_conn, adventureworks_engine = create_connection(DB[\"servername\"], DB[\"adventureworks_database\"])"
   ]
  },
  {
   "cell_type": "markdown",
   "id": "dd31b9f74a9313d9",
   "metadata": {},
   "source": [
    "#### Loading data"
   ]
  },
  {
   "cell_type": "code",
   "execution_count": 20,
   "id": "95d9b1664c99e3c3",
   "metadata": {
    "ExecuteTime": {
     "end_time": "2024-05-23T08:30:31.603926Z",
     "start_time": "2024-05-23T08:30:31.410197Z"
    }
   },
   "outputs": [],
   "source": [
    "adventureworks_humanresources_department = pd.read_sql('SELECT * FROM HumanResources.Department', adventureworks_conn)\n",
    "adventureworks_humanresources_employee = pd.read_sql('SELECT * FROM HumanResources.Employee', adventureworks_conn)\n",
    "adventureworks_humanresources_employeedepartmenthistory = pd.read_sql('SELECT * FROM HumanResources.EmployeeDepartmentHistory', adventureworks_conn)\n",
    "adventureworks_humanresources_employeepayhistory = pd.read_sql('SELECT * FROM HumanResources.EmployeePayHistory', adventureworks_conn)\n",
    "adventureworks_humanresources_jobcandidate = pd.read_sql('SELECT * FROM HumanResources.JobCandidate', adventureworks_conn)\n",
    "adventureworks_humanresources_shift = pd.read_sql('SELECT * FROM HumanResources.Shift', adventureworks_conn)"
   ]
  },
  {
   "cell_type": "code",
   "execution_count": 21,
   "id": "3b2754e5926d99e6",
   "metadata": {
    "ExecuteTime": {
     "end_time": "2024-05-23T08:30:34.711497Z",
     "start_time": "2024-05-23T08:30:31.605939Z"
    }
   },
   "outputs": [],
   "source": [
    "adventureworks_person_address = pd.read_sql('SELECT AddressID, AddressLine1, AddressLine2, City, StateProvinceID, PostalCode, CAST(SpatialLocation AS VARCHAR(MAX)) AS SpatialLocation,rowguid, ModifiedDate   FROM Person.Address', adventureworks_conn)\n",
    "adventureworks_person_address_type = pd.read_sql('SELECT * FROM Person.AddressType', adventureworks_conn)\n",
    "adventureworks_person_businessentity = pd.read_sql('SELECT * FROM Person.BusinessEntity', adventureworks_conn)\n",
    "adventureworks_person_businessentityaddress = pd.read_sql('SELECT * FROM Person.BusinessEntityAddress', adventureworks_conn)\n",
    "adventureworks_person_businessentitycontact = pd.read_sql('SELECT * FROM Person.BusinessEntityContact', adventureworks_conn)\n",
    "adventureworks_person_contacttype = pd.read_sql('SELECT * FROM Person.ContactType', adventureworks_conn)\n",
    "adventureworks_person_countryregion = pd.read_sql('SELECT * FROM Person.CountryRegion', adventureworks_conn)\n",
    "adventureworks_person_emailaddress = pd.read_sql('SELECT * FROM Person.EmailAddress', adventureworks_conn)\n",
    "adventureworks_person_password = pd.read_sql('SELECT * FROM Person.Password', adventureworks_conn)\n",
    "adventureworks_person_person = pd.read_sql('SELECT * FROM Person.Person', adventureworks_conn)\n",
    "adventureworks_person_personphone = pd.read_sql('SELECT * FROM Person.PersonPhone', adventureworks_conn)\n",
    "adventureworks_person_phonenumbertype = pd.read_sql('SELECT * FROM Person.PhoneNumberType', adventureworks_conn)\n",
    "adventureworks_person_stateprovince = pd.read_sql('SELECT * FROM Person.StateProvince', adventureworks_conn)"
   ]
  },
  {
   "cell_type": "code",
   "execution_count": null,
   "id": "b9cf2209b4fc16a4",
   "metadata": {
    "ExecuteTime": {
     "end_time": "2024-05-23T08:30:43.387986Z",
     "start_time": "2024-05-23T08:30:34.714533Z"
    }
   },
   "outputs": [],
   "source": [
    "adventureworks_production_bill_of_materials = pd.read_sql('SELECT * FROM Production.BillOfMaterials', adventureworks_conn)\n",
    "adventureworks_production_culture = pd.read_sql('SELECT * FROM Production.Culture', adventureworks_conn)\n",
    "adventureworks_production_document = pd.read_sql('SELECT * FROM Production.Document', adventureworks_conn)\n",
    "adventureworks_production_illustration = pd.read_sql('SELECT * FROM Production.Illustration', adventureworks_conn)\n",
    "adventureworks_production_location = pd.read_sql('SELECT * FROM Production.Location', adventureworks_conn)\n",
    "adventureworks_production_product = pd.read_sql('SELECT * FROM Production.Product', adventureworks_conn)\n",
    "adventureworks_production_productcategory = pd.read_sql('SELECT * FROM Production.ProductCategory', adventureworks_conn)\n",
    "adventureworks_production_productcosthistory = pd.read_sql('SELECT * FROM Production.ProductCostHistory', adventureworks_conn)\n",
    "adventureworks_production_productdescription = pd.read_sql('SELECT * FROM Production.ProductDescription', adventureworks_conn)\n",
    "adventureworks_production_productdocument = pd.read_sql('SELECT * , CAST(DocumentNode AS VARCHAR(MAX)) AS DocumentNodeString  FROM Production.ProductDocument', adventureworks_conn)\n",
    "adventureworks_production_productinventory = pd.read_sql('SELECT * FROM Production.ProductInventory', adventureworks_conn)\n",
    "adventureworks_production_productlistpricehistory = pd.read_sql('SELECT * FROM Production.ProductListPriceHistory', adventureworks_conn)\n",
    "adventureworks_production_productmodel = pd.read_sql('SELECT * FROM Production.ProductModel', adventureworks_conn)\n",
    "adventureworks_production_productmodelillustration = pd.read_sql('SELECT * FROM Production.ProductModelIllustration', adventureworks_conn)\n",
    "adventureworks_production_productmodelproductdescriptionculture = pd.read_sql('SELECT * FROM Production.ProductModelProductDescriptionCulture', adventureworks_conn)\n",
    "adventureworks_production_productphoto = pd.read_sql('SELECT ProductPhotoID, CONVERT(VARCHAR(MAX),ThumbNailPhoto, 1) as ThumbNailPhotoHexString, ThumbNailPhotoFileName, CONVERT(VARCHAR(MAX), LargePhoto, 1) as LargePhotoHexString, LargePhotoFileName, ModifiedDate FROM Production.ProductPhoto', adventureworks_conn)\n",
    "adventureworks_production_productproductphoto = pd.read_sql('SELECT * FROM Production.ProductProductPhoto', adventureworks_conn)\n",
    "adventureworks_production_productreview = pd.read_sql('SELECT * FROM Production.ProductReview', adventureworks_conn)\n",
    "adventureworks_production_productsubcategory = pd.read_sql('SELECT * FROM Production.ProductSubcategory', adventureworks_conn)\n",
    "adventureworks_production_scrapreason = pd.read_sql('SELECT * FROM Production.ScrapReason', adventureworks_conn)\n",
    "adventureworks_production_transactionhistory = pd.read_sql('SELECT * FROM Production.TransactionHistory', adventureworks_conn)\n",
    "adventureworks_production_transactionhistoryarchive = pd.read_sql('SELECT * FROM Production.TransactionHistoryArchive', adventureworks_conn)\n",
    "adventureworks_production_unitmeasure = pd.read_sql('SELECT * FROM Production.UnitMeasure', adventureworks_conn)\n",
    "adventureworks_production_workorder = pd.read_sql('SELECT * FROM Production.WorkOrder', adventureworks_conn)\n",
    "adventureworks_production_workorderrouting = pd.read_sql('SELECT * FROM Production.WorkOrderRouting', adventureworks_conn)"
   ]
  },
  {
   "cell_type": "code",
   "execution_count": null,
   "id": "a05635e1acca8623",
   "metadata": {
    "ExecuteTime": {
     "end_time": "2024-05-23T08:30:44.039622Z",
     "start_time": "2024-05-23T08:30:43.390525Z"
    }
   },
   "outputs": [],
   "source": [
    "adventureworks_purchasing_productvendor = pd.read_sql('SELECT * FROM Purchasing.ProductVendor', adventureworks_conn)\n",
    "adventureworks_purchasing_purchaseorderdetail = pd.read_sql('SELECT * FROM Purchasing.PurchaseOrderDetail', adventureworks_conn)\n",
    "adventureworks_purchasing_purchaseorderheader = pd.read_sql('SELECT * FROM Purchasing.PurchaseOrderHeader', adventureworks_conn)\n",
    "adventureworks_purchasing_shipmethod = pd.read_sql('SELECT * FROM Purchasing.ShipMethod', adventureworks_conn)\n",
    "adventureworks_purchasing_vendor = pd.read_sql('SELECT * FROM Purchasing.Vendor', adventureworks_conn)"
   ]
  },
  {
   "cell_type": "code",
   "execution_count": null,
   "id": "d85ccde07f7a7d22",
   "metadata": {
    "ExecuteTime": {
     "end_time": "2024-05-23T08:30:49.338939Z",
     "start_time": "2024-05-23T08:30:44.043637Z"
    }
   },
   "outputs": [],
   "source": [
    "adventureworks_sales_countryregioncurrency = pd.read_sql('SELECT * FROM Sales.CountryRegionCurrency', adventureworks_conn)\n",
    "adventureworks_sales_creditcard = pd.read_sql('SELECT * FROM Sales.CreditCard', adventureworks_conn)\n",
    "adventureworks_sales_currency = pd.read_sql('SELECT * FROM Sales.Currency', adventureworks_conn)\n",
    "adventureworks_sales_currencyrate = pd.read_sql('SELECT * FROM Sales.CurrencyRate', adventureworks_conn)\n",
    "adventureworks_sales_customer = pd.read_sql('SELECT * FROM Sales.Customer', adventureworks_conn)\n",
    "adventureworks_sales_personcreditcard = pd.read_sql('SELECT * FROM Sales.PersonCreditCard', adventureworks_conn)\n",
    "adventureworks_sales_salesorderdetail = pd.read_sql('SELECT * FROM Sales.SalesOrderDetail', adventureworks_conn)\n",
    "adventureworks_sales_salesorderheader = pd.read_sql('SELECT * FROM Sales.SalesOrderHeader', adventureworks_conn)\n",
    "adventureworks_sales_salesorderhearerrsaleseason = pd.read_sql('SELECT * FROM Sales.SalesOrderHeaderSalesReason', adventureworks_conn)\n",
    "adventureworks_sales_salesperson = pd.read_sql('SELECT * FROM Sales.SalesPerson', adventureworks_conn)\n",
    "adventureworks_sales_salespersonquotahistory = pd.read_sql('SELECT * FROM Sales.SalesPersonQuotaHistory', adventureworks_conn)\n",
    "adventureworks_sales_salesreason = pd.read_sql('SELECT * FROM Sales.SalesReason', adventureworks_conn)\n",
    "adventureworks_sales_salestaxrate = pd.read_sql('SELECT * FROM Sales.SalesTaxRate', adventureworks_conn)\n",
    "adventureworks_sales_salesterritory = pd.read_sql('SELECT * FROM Sales.SalesTerritory', adventureworks_conn)\n",
    "adventureworks_sales_salesterritoryhistory = pd.read_sql('SELECT * FROM Sales.SalesTerritoryHistory', adventureworks_conn)\n",
    "adventureworks_sales_shoppingcartitem = pd.read_sql('SELECT * FROM Sales.ShoppingCartItem', adventureworks_conn)\n",
    "adventureworks_sales_specialoffer = pd.read_sql('SELECT * FROM Sales.SpecialOffer', adventureworks_conn)\n",
    "adventureworks_sales_specialofferproduct = pd.read_sql('SELECT * FROM Sales.SpecialOfferProduct', adventureworks_conn)\n",
    "adventureworks_sales_store = pd.read_sql('SELECT * FROM Sales.Store', adventureworks_conn)\n",
    "\n",
    "adventureworks_conn.close()"
   ]
  },
  {
   "cell_type": "markdown",
   "id": "b05031a91d18ef67",
   "metadata": {},
   "source": [
    "## Combining the data\n",
    "ORDER MATTERS, CAUSE SURROGATE KEYS\n",
    "SK STILL NEEDS TO BE DONE"
   ]
  },
  {
   "cell_type": "markdown",
   "id": "952478cb55013351",
   "metadata": {},
   "source": [
    "### Departments\n",
    "Combining aenc and adventureworks department data"
   ]
  },
  {
   "cell_type": "code",
   "execution_count": null,
   "id": "1c9b32acb478d507",
   "metadata": {
    "ExecuteTime": {
     "end_time": "2024-05-23T08:30:49.399447Z",
     "start_time": "2024-05-23T08:30:49.340947Z"
    }
   },
   "outputs": [],
   "source": [
    "# adding DEPARTMENT_source_database columns to the dataframes\n",
    "aenc_department['DEPARTMENT_source_database'] = 'aenc'\n",
    "adventureworks_humanresources_department['DEPARTMENT_source_database'] = 'adventureworks'\n",
    "\n",
    "# combining all department data\n",
    "departments = pd.concat([aenc_department, adventureworks_humanresources_department], ignore_index=True)\n",
    "\n",
    "# combining name and department name columns to create a name column\n",
    "departments['DEPARTMENT_DEPARTMENT_DeptName'] = departments['Name'].combine_first(departments['dept_name'])\n",
    "# combining dept_id and DepartmentID columns\n",
    "departments['DEPARTMENT_DEPARTMENT_DeptID'] = departments['dept_id'].combine_first(departments['DepartmentID'])\n",
    "\n",
    "# dropping the redundant columns\n",
    "drop_modified_date_rowguid(departments)\n",
    "departments.drop(columns=['dept_id', 'Name', 'dept_name', 'DepartmentID'], inplace=True)\n",
    "\n",
    "# renaming the remaining columns\n",
    "departments.rename(columns={'dept_head_id': 'DEPARTMENT_DEPARTMENT_DeptHeadID', 'GroupName': 'DEPARTMENT_DEPARTMENT_GroupName'}, inplace=True)\n",
    "\n",
    "departments.head()"
   ]
  },
  {
   "cell_type": "markdown",
   "id": "6a4861bc",
   "metadata": {},
   "source": [
    "### Employees"
   ]
  },
  {
   "cell_type": "code",
   "execution_count": null,
   "id": "614f4082",
   "metadata": {
    "ExecuteTime": {
     "end_time": "2024-05-23T08:30:49.465390Z",
     "start_time": "2024-05-23T08:30:49.401457Z"
    }
   },
   "outputs": [],
   "source": [
    "# merge northwind with territory and employee\n",
    "combined_northwind_employee = pd.merge(northwind_employees, northwind_employee_territories, on='EmployeeID')\n",
    "\n",
    "# merge employee from aenc with bonus\n",
    "combined_aenc_employee = pd.merge(aenc_employee, aenc_bonus, on='emp_id')\n",
    "combined_aenc_employee.rename(columns={'emp_id': 'EmployeeID'}, inplace=True)\n",
    "\n",
    "#rename businessentityid to employeeid\n",
    "adventureworks_humanresources_employee.rename(columns={'BusinessEntityID': 'EmployeeID'}, inplace=True)\n",
    "\n",
    "# after that concat together\n",
    "employees = pd.concat([adventureworks_humanresources_employee, combined_northwind_employee, combined_aenc_employee], ignore_index=True)\n",
    "\n",
    "# manual comebine some columns which are identical\n",
    "employees['EMPLOYEE_EMPLOYEES_FirstName'] = employees['FirstName'].combine_first(employees['emp_fname'])\n",
    "employees['EMPLOYEE_EMPLOYEES_LastName'] = employees['LastName'].combine_first(employees['emp_lname'])\n",
    "employees['EMPLOYEE_EMPLOYEES_City'] = employees['City'].combine_first(employees['city'])\n",
    "employees['EMPLOYEE_EMPLOYEES_PostalCode'] = employees['PostalCode'].combine_first(employees['zip_code'])\n",
    "employees['EMPLOYEE_EMPLOYEE_BirthDate'] = employees['BirthDate'].combine_first(employees['birth_date'])\n",
    "\n",
    "# drop unneeded\n",
    "drop_modified_date_rowguid(employees)\n",
    "employees.drop(columns=['LastName', 'FirstName', 'City', 'PostalCode', 'BirthDate', 'emp_fname', 'emp_lname', 'city', 'zip_code', 'birth_date'], inplace=True)\n",
    "\n",
    "# rename\n",
    "employees.rename(columns={\n",
    "    'EmployeeID': 'EMPLOYEE_EMPLOYEE_EmployeeID',\n",
    "    'NationalIDNumber': 'EMPLOYEE_EMPLOYEE_NationalIDNumber',\n",
    "    'LoginID': 'EMPLOYEE_EMPLOYEE_LoginID',\n",
    "    'OrganizationNode': 'EMPLOYEE_EMPLOYEE_OrganizationNode',\n",
    "    'OrganizationLevel': 'EMPLOYEE_EMPLOYEE_OrganizationLevel',\n",
    "    'JobTitle': 'EMPLOYEE_EMPLOYEE_JobTitle',\n",
    "    'BirthDate': 'EMPLOYEE_EMPLOYEE_BirthDate',\n",
    "    'MaritalStatus': 'EMPLOYEE_EMPLOYEE_MaritalStatus',\n",
    "    'Gender': 'EMPLOYEE_EMPLOYEE_Gender',\n",
    "    'HireDate': 'EMPLOYEE_EMPLOYEE_HireDate',\n",
    "    'SalariedFlag': 'EMPLOYEE_EMPLOYEE_SalariedFlag',\n",
    "    'VacationHours': 'EMPLOYEE_EMPLOYEE_VacationHours',\t\n",
    "    'SickLeaveHours': 'EMPLOYEE_EMPLOYEE_SickLeaveHours',\n",
    "    'CurrentFlag': 'EMPLOYEE_EMPLOYEE_CurrentFlag',\n",
    "    'Title': 'EMPLOYEE_EMPLOYEES_Title',\n",
    "    'TitleOfCourtesy': 'EMPLOYEE_EMPLOYEES_TitleOfCourtesy',\n",
    "    'Address': 'EMPLOYEE_EMPLOYEES_Address',\n",
    "    'Region': 'EMPLOYEE_EMPLOYEES_Region',\n",
    "    'PostalCode': 'EMPLOYEE_EMPLOYEES_PostalCode',\n",
    "    'Country': 'EMPLOYEE_EMPLOYEES_Country',\n",
    "    'HomePhone': 'EMPLOYEE_EMPLOYEES_HomePhone',\n",
    "    'Extension': 'EMPLOYEE_EMPLOYEES_Extension',\n",
    "    'Photo': 'EMPLOYEE_EMPLOYEES_Photo',\n",
    "    'Notes': 'EMPLOYEE_EMPLOYEES_Notes',\n",
    "    'ReportsTo': 'EMPLOYEE_EMPLOYEES_ReportsTo',\n",
    "    'PhotoPath': 'EMPLOYEE_EMPLOYEES_PhotoPath',\n",
    "    'TerritoryID': 'EMPLOYEE_EMPLOYEES_TerritoryID',\n",
    "    'manager_id': 'EMPLOYEE_EMPLOYEE_ManagerID',\n",
    "    'dept_id': 'EMPLOYEE_EMPLOYEE_DeptID',\n",
    "    'street': 'EMPLOYEE_EMPLOYEE_Street',    \n",
    "    'state': 'EMPLOYEE_EMPLOYEE_State',\n",
    "    'phone': 'EMPLOYEE_EMPLOYEE_Phone',\n",
    "    'status': 'EMPLOYEE_EMPLOYEE_Status',\n",
    "    'ss_number': 'EMPLOYEE_EMPLOYEE_SS_Number',\n",
    "    'salary': 'EMPLOYEE_EMPLOYEE_Salary',\n",
    "    'start_date': 'EMPLOYEE_EMPLOYEE_Start_Date',\n",
    "    'termination_date': 'EMPLOYEE_EMPLOYEE_Termination',\n",
    "    'bene_health_ins': 'EMPLOYEE_EMPLOYEE_Bene_Health_Ins',\n",
    "    'bene_life_ins': 'EMPLOYEE_EMPLOYEE_Bene_Life_Ins',\n",
    "    'bene_day_care': 'EMPLOYEE_EMPLOYEE_Bene_Day_Care',\n",
    "    'sex': 'EMPLOYEE_EMPLOYEE_Sex',\n",
    "    'bonus_id': 'EMPLOYEE_BONUS_BonusID',\n",
    "    'bonus_date': 'EMPLOYEE_BONUS_Bonus_Date',\n",
    "    'bonus_amount': 'EMPLOYEE_BONUS_Bonus_Amount'\n",
    "}, inplace=True)\n",
    "\n",
    "employees.head()"
   ]
  },
  {
   "cell_type": "markdown",
   "id": "5a1104842049cb4c",
   "metadata": {},
   "source": [
    "### BusinessEntities"
   ]
  },
  {
   "cell_type": "code",
   "execution_count": null,
   "id": "49faddce16b73f49",
   "metadata": {
    "ExecuteTime": {
     "end_time": "2024-05-23T08:30:49.507550Z",
     "start_time": "2024-05-23T08:30:49.468400Z"
    }
   },
   "outputs": [],
   "source": [
    "# Combining the adventureworks Person.BusinessEntity, BusinessEntityContact and ContactType data\n",
    "businessentities= pd.merge(adventureworks_person_businessentity, adventureworks_person_businessentitycontact, left_on='BusinessEntityID', right_on='BusinessEntityID', suffixes=('_person_businessentity', '_businessentitycontact'), how=\"outer\")\n",
    "\n",
    "businessentities = pd.merge(businessentities, adventureworks_person_contacttype, left_on='ContactTypeID', right_on='ContactTypeID', suffixes=('', '_contacttype'), how=\"outer\")\n",
    "\n",
    "# dropping the modified date and rowguid columns\n",
    "drop_modified_date_rowguid(businessentities)\n",
    "\n",
    "# renaming the columns\n",
    "businessentities.rename(columns={'BusinessEntityID': 'BUSINESSENTITY_BUSINESSENTITY_BusinessEntityID', 'PersonID': 'BUSINESSENTITY_BUSINESSENTITYCONTACT_PersonID', 'ContactTypeID': 'BUSINESSENTITY_CONTACTTYPE_ContactTypeID', 'Name' : 'BUSINESSENTITY_CONTACTTYPE_Name'}, inplace=True)\n",
    "\n",
    "businessentities.head()"
   ]
  },
  {
   "cell_type": "markdown",
   "id": "872c4a0f",
   "metadata": {},
   "source": [
    "### Document"
   ]
  },
  {
   "cell_type": "code",
   "execution_count": null,
   "id": "7bcc653c",
   "metadata": {
    "ExecuteTime": {
     "end_time": "2024-05-23T08:30:49.559753Z",
     "start_time": "2024-05-23T08:30:49.533113Z"
    }
   },
   "outputs": [],
   "source": [
    "# merge table\n",
    "documents = pd.merge(adventureworks_production_document, adventureworks_production_productdocument, on='DocumentNode')\n",
    "\n",
    "# rename\n",
    "documents.rename(columns={\n",
    "    'DocumentNode': 'DOCUMENT_DOCUMENT_DocumentNode',\n",
    "    'DocumentLevel': 'DOCUMENT_DOCUMENT_DocumentLevel',\n",
    "    'Title': 'DOCUMENT_DOCUMENT_Title',\n",
    "    'Owner': 'DOCUMENT_DOCUMENT_Owner',\n",
    "    'FolderFlag': 'DOCUMENT_DOCUMENT_FolderFlag',\n",
    "    'FileName': 'DOCUMENT_DOCUMENT_FileName',\n",
    "    'FileExtension': 'DOCUMENT_DOCUMENT_FileExtension',\n",
    "    'Revision': 'DOCUMENT_DOCUMENT_Revision',\n",
    "    'ChangeNumber': 'DOCUMENT_DOCUMENT_ChangeNumber',\n",
    "    'Status': 'DOCUMENT_DOCUMENT_Status',\n",
    "    'DocumentSummary': 'DOCUMENT_DOCUMENT_DocumentSummary',\n",
    "    'Document': 'DOCUMENT_DOCUMENT_Document',\n",
    "    'ProductID': 'DOCUMENT_PRODUCTDOCUMENT_ProductID'\n",
    "}, inplace=True)\n",
    "\n",
    "# drop unneeded column\n",
    "drop_modified_date_rowguid(documents)\n",
    "documents.drop(columns=['DocumentNodeString'], inplace=True)\n",
    "\n",
    "documents.head()"
   ]
  },
  {
   "cell_type": "markdown",
   "id": "cb2ed90a",
   "metadata": {},
   "source": [
    "### WorkOrder"
   ]
  },
  {
   "cell_type": "code",
   "execution_count": null,
   "id": "678a18c8",
   "metadata": {
    "ExecuteTime": {
     "end_time": "2024-05-23T08:30:49.597142Z",
     "start_time": "2024-05-23T08:30:49.561761Z"
    }
   },
   "outputs": [],
   "source": [
    "# drop product id\n",
    "adventureworks_production_workorderrouting = adventureworks_production_workorderrouting.drop(columns=('ProductID'))\n",
    "\n",
    "#merge table\n",
    "workorders = pd.merge(adventureworks_production_workorder, adventureworks_production_scrapreason, on=\"ScrapReasonID\")\n",
    "workorders = pd.merge(workorders, adventureworks_production_workorderrouting, on=\"WorkOrderID\")\n",
    "\n",
    "#rename\n",
    "workorders.rename(columns={\n",
    "    'WorkOrderID': 'WORKORDER_WORKORDER_WorkOrderID',\n",
    "    'ProductID': 'WORKORDER_WORKORDER_ProductID',\n",
    "    'OrderQty': 'WORKORDER_WORKORDER_OrderQty',\n",
    "    'StockedQty': 'WORKORDER_WORKORDER_StockedQty',\n",
    "    'ScrappedQty': 'WORKORDER_WORKORDER_ScrappedQty',\n",
    "    'StartDate': 'WORKORDER_WORKORDER_StartDate',\n",
    "    'EndDate': 'WORKORDER_WORKORDER_EndDate',\n",
    "    'DueDate': 'WORKORDER_WORKORDER_DueDate',\n",
    "    'ScrapReasonID': 'WORKORDER_SCRAPREASON_ScrapReasonID',\n",
    "    'Name': 'WORKORDER_SCRAPREASON_Name',\n",
    "    'OperationSequence': 'WORKORDER_WORKORDERINGROUTING_OperationSequence',\n",
    "    'LocationID': 'WORKORDER_WORKORDERINGROUTING_LocationID',\n",
    "    'ScheduledStartDate': 'WORKORDER_WORKORDERINGROUTING_ScheduledStartDate',\n",
    "    'ScheduledEndDate': 'WORKORDER_WORKORDERINGROUTING_ScheduledEndDate',\n",
    "    'ActualStartDate': 'WORKORDER_WORKORDERINGROUTING_ActualStartDate',\n",
    "    'ActualEndDate': 'WORKORDER_WORKORDERINGROUTING_ActualEndDate',\n",
    "    'ActualResourceHrs': 'WORKORDER_WORKORDERINGROUTING_ActualResourcesHrs',\n",
    "    'PlannedCost': 'WORKORDER_WORKORDERINGROUTING_PlannedCost',\n",
    "    'ActualCost': 'WORKORDER_WORKORDERINGROUTING_ActualCost'\n",
    "}, inplace=True)\n",
    "\n",
    "#drop unneeded column\n",
    "drop_modified_date_rowguid(workorders)\n",
    "\n",
    "workorders.head()"
   ]
  },
  {
   "cell_type": "markdown",
   "id": "d61f4db888316c68",
   "metadata": {},
   "source": [
    "### BusinessEntityAddresses"
   ]
  },
  {
   "cell_type": "code",
   "execution_count": null,
   "id": "ec5238c4bd67fbac",
   "metadata": {
    "ExecuteTime": {
     "end_time": "2024-05-23T08:30:49.672187Z",
     "start_time": "2024-05-23T08:30:49.599160Z"
    }
   },
   "outputs": [],
   "source": [
    "# Combining the adventureworks Person.BusinessEntityAddress, Address and AddressType data\n",
    "businessentityaddresses = pd.merge(adventureworks_person_businessentityaddress, adventureworks_person_address, left_on='AddressID', right_on='AddressID', suffixes=('', '_address'), how=\"outer\")\n",
    "\n",
    "businessentityaddresses = pd.merge(businessentityaddresses, adventureworks_person_address_type, left_on='AddressTypeID', right_on='AddressTypeID', suffixes=('', '_address_type'), how=\"outer\")\n",
    "\n",
    "\n",
    "# dropping the modified date and rowguid columns\n",
    "drop_modified_date_rowguid(businessentityaddresses)\n",
    "\n",
    "# renaming the columns\n",
    "businessentityaddresses.rename(columns={'BusinessEntityID': 'BUSINESSENTITYADDRESS_BUSINESSENTITYADDRESS_BusinessEntityID', 'AddressID': 'BUSINESSENTITYADDRESS_ADDRESS_AddressID', 'AddressTypeID': 'BUSINESSENTITYADDRESS_ADDRESSTYPE_AddressTypeID', 'AddressLine1' : 'BUSINESSENTITYADDRESS_ADDRESS_AddressLine1', 'AddressLine2' : 'BUSINESSENTITYADDRESS_ADDRESS_AddressLine2', 'City' : 'BUSINESSENTITYADDRESS_ADDRESS_City', 'StateProvinceID' : 'BUSINESSENTITYADDRESS_ADDRESS_StateProvinceID', 'PostalCode' : 'BUSINESSENTITYADDRESS_ADDRESS_POSTALCODE', 'SpatialLocation' : 'BUSINESSENTITYADDRESS_ADDRESS_SpatialLocation', 'Name' : 'BUSINESSENTITYADDRESS_ADDRESSTYPE_Name'}, inplace=True)\n",
    "\n",
    "businessentityaddresses.head()"
   ]
  },
  {
   "cell_type": "markdown",
   "id": "82b616d849111263",
   "metadata": {},
   "source": [
    "### People"
   ]
  },
  {
   "cell_type": "code",
   "execution_count": null,
   "id": "f69f5dd65aadcd8a",
   "metadata": {
    "ExecuteTime": {
     "end_time": "2024-05-23T08:30:49.767583Z",
     "start_time": "2024-05-23T08:30:49.676195Z"
    }
   },
   "outputs": [],
   "source": [
    "# combining person data from adventureworks HumanResources.Person, PersonPhone, PhoneNumberType, EmailAddress and Password\n",
    "people = pd.merge(adventureworks_person_person, adventureworks_person_personphone, left_on='BusinessEntityID', right_on='BusinessEntityID', suffixes= ('_person', '_personphone'), how=\"outer\")\n",
    "\n",
    "people = pd.merge(people, adventureworks_person_phonenumbertype, left_on='PhoneNumberTypeID', right_on='PhoneNumberTypeID', suffixes=('', '_phonenumbertype'), how=\"outer\")\n",
    "\n",
    "people = pd.merge(people, adventureworks_person_emailaddress, left_on='BusinessEntityID', right_on='BusinessEntityID', suffixes=('','_emailaddress'), how=\"outer\")\n",
    "\n",
    "people = pd.merge(people, adventureworks_person_password, left_on='BusinessEntityID', right_on='BusinessEntityID', suffixes=('','_password'), how=\"outer\")\n",
    "\n",
    "# dropping the modified date and rowguid columns\n",
    "drop_modified_date_rowguid(people)\n",
    "\n",
    "# renaming the columns\n",
    "people.rename(columns={'BusinessEntityID': 'PERSON_PERSON_BusinessEntityID', 'PersonType': 'PERSON_PERSON_PersonType', 'NameStyle': 'PERSON_PERSON_NameStyle', 'Title': 'PERSON_PERSON_Title', 'FirstName': 'PERSON_PERSON_FirstName', 'MiddleName' : 'PERSON_PERSON_MiddleName', 'LastName' : 'PERSON_PERSON_LastName', 'Suffix': 'PERSON_PERSON_Suffix', 'EmailPromotion' : 'PERSON_PERSON_EmailPromotion', 'AdditionalContactInfo' : 'PERSON_PERSON_AdditionalContactInfo', 'Demographics' : 'PERSON_PERSON_Demographics', 'PhoneNumber' : 'PERSON_PERSONPHONE_PhoneNumber', 'PhoneNumberTypeID' : 'PERSON_PHONENUMBERTYPE_PhoneNumberTypeID', 'Name' : 'PERSON_PHONENUMBERTYPE_Name', 'EmailAddressID': 'PERSON_EMAILADDRESS_EmailAddressID', 'EmailAddress' : 'PERSON_EMAILADDRESS_EmailAddress', 'PasswordHash' : 'PERSON_PASSWORD_PasswordHash', 'PasswordSalt' : 'PERSON_PASSWORD_PasswordSalt'}, inplace=True)\n",
    "\n",
    "people.head()"
   ]
  },
  {
   "cell_type": "markdown",
   "id": "0bc8f6de",
   "metadata": {},
   "source": [
    "### JobCandidate"
   ]
  },
  {
   "cell_type": "code",
   "execution_count": null,
   "id": "84a1abaf",
   "metadata": {
    "ExecuteTime": {
     "end_time": "2024-05-23T08:30:49.782634Z",
     "start_time": "2024-05-23T08:30:49.769600Z"
    }
   },
   "outputs": [],
   "source": [
    "jobcandidates = adventureworks_humanresources_jobcandidate\n",
    "\n",
    "# dropping the modified date and rowguid columns\n",
    "drop_modified_date_rowguid(jobcandidates)\n",
    "\n",
    "# renaming the columns\n",
    "jobcandidates.rename(columns={'JobCandidateID': 'JOBCANDIDATE_JOBCANDIDATE_JobCandidateID', 'BusinessEntityID': 'JOBCANDIDATE_JOBCANDIDATE_BusinessEntityID', 'Resume': 'JOBCANDIDATE_JOBCANDIDATE_Resume'}, inplace=True)\n",
    "\n",
    "jobcandidates.head()"
   ]
  },
  {
   "cell_type": "markdown",
   "id": "88dc6bb1",
   "metadata": {},
   "source": [
    "### EmployeeDepartmentHistory"
   ]
  },
  {
   "cell_type": "code",
   "execution_count": null,
   "id": "029d9f7d",
   "metadata": {
    "ExecuteTime": {
     "end_time": "2024-05-23T08:30:49.805313Z",
     "start_time": "2024-05-23T08:30:49.784651Z"
    }
   },
   "outputs": [],
   "source": [
    "employeedepartmenthistories = adventureworks_humanresources_employeedepartmenthistory\n",
    "\n",
    "# dropping the modified date and rowguid columns\n",
    "drop_modified_date_rowguid(employeedepartmenthistories)\n",
    "\n",
    "# renaming the columns\n",
    "employeedepartmenthistories.rename(columns={'BusinessEntityID': 'EMPLOYEEDEPARTMENTHISTORY_EMPLOYEEDEPARTMENTHISTORY_BusinessEntityID', 'DepartmentID': 'EMPLOYEEDEPARTMENTHISTORY_EMPLOYEEDEPARTMENTHISTORY_DepartmentID', 'ShiftID': 'EMPLOYEEDEPARTMENTHISTORY_EMPLOYEEDEPARTMENTHISTORY_ShiftID', 'StartDate': 'EMPLOYEEDEPARTMENTHISTORY_EMPLOYEEDEPARTMENTHISTORY_StartDate', 'EndDate': 'EMPLOYEEDEPARTMENTHISTORY_EMPLOYEEDEPARTMENTHISTORY_EndDate'}, inplace=True)\n",
    "\n",
    "employeedepartmenthistories.head()"
   ]
  },
  {
   "cell_type": "markdown",
   "id": "c9d9059e",
   "metadata": {},
   "source": [
    "### EmployeePayHistory"
   ]
  },
  {
   "cell_type": "code",
   "execution_count": null,
   "id": "96640d23",
   "metadata": {
    "ExecuteTime": {
     "end_time": "2024-05-23T08:30:49.819199Z",
     "start_time": "2024-05-23T08:30:49.807323Z"
    }
   },
   "outputs": [],
   "source": [
    "employeepayhistories = adventureworks_humanresources_employeepayhistory\n",
    "\n",
    "# dropping the modified date and rowguid columns\n",
    "drop_modified_date_rowguid(employeepayhistories)\n",
    "\n",
    "# renaming the columns\n",
    "employeepayhistories.rename(columns={'BusinessEntityID': 'EMPLOYEEPAYHISTORY_EMPLOYEEPAYHISTORY_BusinessEntityID', 'RateChangeDate': 'EMPLOYEEPAYHISTORY_EMPLOYEEPAYHISTORY_RateChangeDate', 'Rate': 'EMPLOYEEPAYHISTORY_EMPLOYEEPAYHISTORY_Rate', 'PayFrequency': 'EMPLOYEEPAYHISTORY_EMPLOYEEPAYHISTORY_PayFrequency'}, inplace=True)\n",
    "\n",
    "employeepayhistories.head()"
   ]
  },
  {
   "cell_type": "markdown",
   "id": "0e6b58ec",
   "metadata": {},
   "source": [
    "### Shift"
   ]
  },
  {
   "cell_type": "code",
   "execution_count": null,
   "id": "ef5a92bc",
   "metadata": {
    "ExecuteTime": {
     "end_time": "2024-05-23T08:30:49.831768Z",
     "start_time": "2024-05-23T08:30:49.821209Z"
    }
   },
   "outputs": [],
   "source": [
    "shifts = adventureworks_humanresources_shift\n",
    "\n",
    "# dropping the modified date and rowguid columns\n",
    "drop_modified_date_rowguid(shifts)\n",
    "\n",
    "# renaming the columns\n",
    "shifts.rename(columns={'ShiftID': 'SHIFT_SHIFT_ShiftID', 'Name': 'SHIFT_SHIFT_Name', 'StartTime': 'SHIFT_SHIFT_StartTime', 'EndTime': 'SHIFT_SHIFT_EndTime'}, inplace=True)\n",
    "\n",
    "shifts.head()"
   ]
  },
  {
   "cell_type": "markdown",
   "id": "131ba365",
   "metadata": {},
   "source": [
    "### SalesPerson"
   ]
  },
  {
   "cell_type": "code",
   "execution_count": null,
   "id": "612bb138",
   "metadata": {
    "ExecuteTime": {
     "end_time": "2024-05-23T08:30:49.848563Z",
     "start_time": "2024-05-23T08:30:49.833777Z"
    }
   },
   "outputs": [],
   "source": [
    "salespeople = adventureworks_sales_salesperson\n",
    "\n",
    "# dropping the modified date and rowguid columns\n",
    "drop_modified_date_rowguid(salespeople)\n",
    "\n",
    "# renaming the columns\n",
    "salespeople.rename(columns={'BusinessEntityID': 'SALESPERSON_SALESPERSON_BusinessEntityID', 'TerritoryID': 'SALESPERSON_SALESPERSON_TerritoryID', 'SalesQuota': 'SALESPERSON_SALESPERSON_SalesQuota', 'Bonus': 'SALESPERSON_SALESPERSON_Bonus', 'CommissionPct': 'SALESPERSON_SALESPERSON_CommissionPct', 'SalesYTD': 'SALESPERSON_SALESPERSON_SalesYTD', 'SalesLastYear': 'SALESPERSON_SALESPERSON_SalesLastYear'}, inplace=True)\n",
    "\n",
    "salespeople.head()"
   ]
  },
  {
   "cell_type": "markdown",
   "id": "001f68af",
   "metadata": {},
   "source": [
    "### ProductVendor"
   ]
  },
  {
   "cell_type": "code",
   "execution_count": null,
   "id": "40928557",
   "metadata": {
    "ExecuteTime": {
     "end_time": "2024-05-23T08:30:49.867363Z",
     "start_time": "2024-05-23T08:30:49.850571Z"
    }
   },
   "outputs": [],
   "source": [
    "productvendors = adventureworks_purchasing_productvendor\n",
    "\n",
    "# dropping the modified date and rowguid columns\n",
    "drop_modified_date_rowguid(productvendors)\n",
    "\n",
    "# renaming the columns\n",
    "productvendors.rename(columns={'ProductID': 'PRODUCTVENDOR_PRODUCTVENDOR_ProductID', 'BusinessEntityID': 'PRODUCTVENDOR_PRODUCTVENDOR_BusinessEntityID', 'AverageLeadTime': 'PRODUCTVENDOR_PRODUCTVENDOR_AverageLeadTime', 'StandardPrice': 'PRODUCTVENDOR_PRODUCTVENDOR_StandardPrice', 'LastReceiptCost': 'PRODUCTVENDOR_PRODUCTVENDOR_LastReceiptCost', 'LastReceiptDate': 'PRODUCTVENDOR_PRODUCTVENDOR_LastReceiptDate', 'MinOrderQty': 'PRODUCTVENDOR_PRODUCTVENDOR_MinOrderQty', 'MaxOrderQty': 'PRODUCTVENDOR_PRODUCTVENDOR_MaxOrderQty', 'OnOrderQty': 'PRODUCTVENDOR_PRODUCTVENDOR_OnOrderQty', 'UnitMeasureCode' : 'PRODUCTVENDOR_PRODUCTVENDOR_UnitMeasureCode'}, inplace=True)\n",
    "\n",
    "productvendors.head()"
   ]
  },
  {
   "cell_type": "code",
   "execution_count": null,
   "id": "01e448dd",
   "metadata": {
    "ExecuteTime": {
     "end_time": "2024-05-23T08:30:49.880479Z",
     "start_time": "2024-05-23T08:30:49.869381Z"
    }
   },
   "outputs": [],
   "source": [
    "customercustomerdemos = northwind_customer_customer_demo\n",
    "\n",
    "# dropping the modified date and rowguid columns\n",
    "drop_modified_date_rowguid(customercustomerdemos)\n",
    "\n",
    "# renaming the columns\n",
    "customercustomerdemos.rename(columns={'CustomerID': 'CUSTOMERCUSTOMERDEMO_CUSTOMERCUSTOMERDEMO_CustomerID', 'CustomerTypeID': 'CUSTOMERCUSTOMERDEMO_CUSTOMERCUSTOMERDEMO_CustomerTypeID'}, inplace=True)\n",
    "\n",
    "customercustomerdemos.head()"
   ]
  },
  {
   "cell_type": "markdown",
   "id": "1c471099",
   "metadata": {},
   "source": [
    "### CustomerDemographics"
   ]
  },
  {
   "cell_type": "code",
   "execution_count": null,
   "id": "f7418ca6",
   "metadata": {
    "ExecuteTime": {
     "end_time": "2024-05-23T08:30:49.894495Z",
     "start_time": "2024-05-23T08:30:49.882495Z"
    }
   },
   "outputs": [],
   "source": [
    "customerdemographics = northwind_customer_demographics\n",
    "\n",
    "# dropping the modified date and rowguid columns\n",
    "drop_modified_date_rowguid(customerdemographics)\n",
    "\n",
    "# renaming the columns\n",
    "customerdemographics.rename(columns={'CustomerTypeID': 'CUSTOMERDEMOGRAPHIC_CUSTOMERDEMOGRAPHICS_CustomerTypeID', 'CustomerDesc': 'CUSTOMERDEMOGRAPHIC_CUSTOMERDEMOGRAPHICS_CustomerDesc'}, inplace=True)\n",
    "\n",
    "customerdemographics.head()"
   ]
  },
  {
   "cell_type": "markdown",
   "id": "0588831f",
   "metadata": {},
   "source": [
    "### CustomerCustomerDemo"
   ]
  },
  {
   "cell_type": "markdown",
   "id": "b4b52fc3",
   "metadata": {},
   "source": [
    "### SalesTerritoryHistory"
   ]
  },
  {
   "cell_type": "code",
   "execution_count": null,
   "id": "80287381",
   "metadata": {
    "ExecuteTime": {
     "end_time": "2024-05-23T08:30:49.912007Z",
     "start_time": "2024-05-23T08:30:49.896618Z"
    }
   },
   "outputs": [],
   "source": [
    "salesterritoryhistories = adventureworks_sales_salesterritoryhistory\n",
    "\n",
    "# dropping the modified date and rowguid columns\n",
    "drop_modified_date_rowguid(salesterritoryhistories)\n",
    "\n",
    "# renaming the columns\n",
    "salesterritoryhistories.rename(columns={'BusinessEntityID': 'SALESTERRITORYHISTORY_SALESTERRITORYHISTORY_BusinessEntityID', 'TerritoryID': 'SALESTERRITORYHISTORY_SALESTERRITORYHISTORY_TerritoryID', 'StartDate': 'SALESTERRITORYHISTORY_SALESTERRITORYHISTORY_StartDate', 'EndDate': 'SALESTERRITORYHISTORY_SALESTERRITORYHISTORY_EndDate'}, inplace=True)\n",
    "\n",
    "salesterritoryhistories.head()"
   ]
  },
  {
   "cell_type": "markdown",
   "id": "49bbc033",
   "metadata": {},
   "source": [
    "### ProductListPriceHistory"
   ]
  },
  {
   "cell_type": "code",
   "execution_count": null,
   "id": "e70ceb70",
   "metadata": {
    "ExecuteTime": {
     "end_time": "2024-05-23T08:30:49.937247Z",
     "start_time": "2024-05-23T08:30:49.913014Z"
    }
   },
   "outputs": [],
   "source": [
    "productlistpricehistories = adventureworks_production_productlistpricehistory\n",
    "\n",
    "# dropping the modified date and rowguid columns\n",
    "drop_modified_date_rowguid(productlistpricehistories)\n",
    "\n",
    "# renaming the columns\n",
    "productlistpricehistories.rename(columns={'ProductID': 'PRODUCTLISTPRICEHISTORY_PRODUCTLISTPRICEHISTORY_ProductID', 'StartDate': 'PRODUCTLISTPRICEHISTORY_PRODUCTLISTPRICEHISTORY_StartDate', 'EndDate': 'PRODUCTLISTPRICEHISTORY_PRODUCTLISTPRICEHISTORY_EndDate', 'ListPrice': 'PRODUCTLISTPRICEHISTORY_PRODUCTLISTPRICEHISTORY_ListPrice'}, inplace=True)\n",
    "\n",
    "productlistpricehistories.head()"
   ]
  },
  {
   "cell_type": "markdown",
   "id": "8c66046d",
   "metadata": {},
   "source": [
    "### ProductCostHistory"
   ]
  },
  {
   "cell_type": "code",
   "execution_count": null,
   "id": "b8db6398",
   "metadata": {
    "ExecuteTime": {
     "end_time": "2024-05-23T08:30:49.950868Z",
     "start_time": "2024-05-23T08:30:49.939265Z"
    }
   },
   "outputs": [],
   "source": [
    "productcosthistories = adventureworks_production_productcosthistory\n",
    "\n",
    "# dropping the modified date and rowguid columns\n",
    "drop_modified_date_rowguid(productcosthistories)\n",
    "\n",
    "# renaming the columns\n",
    "productcosthistories.rename(columns={'ProductID': 'PRODUCTCOSTHISTORY_PRODUCTCOSTHISTORY_ProductID', 'StartDate': 'PRODUCTCOSTHISTORY_PRODUCTCOSTHISTORY_StartDate', 'EndDate': 'PRODUCTCOSTHISTORY_PRODUCTCOSTHISTORY_EndDate', 'StandardCost': 'PRODUCTCOSTHISTORY_PRODUCTCOSTHISTORY_StandardCost'}, inplace=True)\n",
    "\n",
    "productcosthistories.head()"
   ]
  },
  {
   "cell_type": "markdown",
   "id": "c79b5992",
   "metadata": {},
   "source": [
    "### ShoppingCartItem"
   ]
  },
  {
   "cell_type": "code",
   "execution_count": null,
   "id": "3edf8d61",
   "metadata": {
    "ExecuteTime": {
     "end_time": "2024-05-23T08:30:49.966168Z",
     "start_time": "2024-05-23T08:30:49.952875Z"
    }
   },
   "outputs": [],
   "source": [
    "shoppingcartitems = adventureworks_sales_shoppingcartitem\n",
    "\n",
    "# dropping the modified date and rowguid columns\n",
    "drop_modified_date_rowguid(shoppingcartitems)\n",
    "\n",
    "# renaming the columns\n",
    "shoppingcartitems.rename(columns={'ShoppingCartItemID': 'SHOPPINGCARTITEM_SHOPPINGCARTITEM_ShoppingCartItemID', 'ShoppingCartID': 'SHOPPINGCARTITEM_SHOPPINGCARTITEM_ShoppingCartID', 'Quantity': 'SHOPPINGCARTITEM_SHOPPINGCARTITEM_Quantity', 'ProductID': 'SHOPPINGCARTITEM_SHOPPINGCARTITEM_ProductID', 'DateCreated': 'SHOPPINGCARTITEM_SHOPPINGCARTITEM_DateCreated'}, inplace=True)\n",
    "\n",
    "shoppingcartitems.head()"
   ]
  },
  {
   "cell_type": "markdown",
   "id": "6ba25cfd",
   "metadata": {},
   "source": [
    "### SalesPersonQuotaHistory"
   ]
  },
  {
   "cell_type": "code",
   "execution_count": null,
   "id": "59485d0d",
   "metadata": {
    "ExecuteTime": {
     "end_time": "2024-05-23T08:30:49.981093Z",
     "start_time": "2024-05-23T08:30:49.967203Z"
    }
   },
   "outputs": [],
   "source": [
    "salespersonquotahistories = adventureworks_sales_salespersonquotahistory\n",
    "\n",
    "# dropping the modified date and rowguid columns\n",
    "drop_modified_date_rowguid(salespersonquotahistories)\n",
    "\n",
    "# renaming the columns\n",
    "salespersonquotahistories.rename(columns={'BusinessEntityID': 'SALESPERSONQUOTAHISTORY_SALESPERSONQUOTAHISTORY_BusinessEntityID', 'QuotaDate': 'SALESPERSONQUOTAHISTORY_SALESPERSONQUOTAHISTORY_QuotaDate', 'SalesQuota': 'SALESPERSONQUOTAHISTORY_SALESPERSONQUOTAHISTORY_SalesQuota'}, inplace=True)\n",
    "\n",
    "salespersonquotahistories.head()"
   ]
  },
  {
   "cell_type": "markdown",
   "id": "45e9e9996fb14718",
   "metadata": {},
   "source": [
    "### Customer"
   ]
  },
  {
   "cell_type": "code",
   "execution_count": null,
   "id": "da939fca",
   "metadata": {
    "ExecuteTime": {
     "end_time": "2024-05-23T08:30:50.028474Z",
     "start_time": "2024-05-23T08:30:49.982127Z"
    }
   },
   "outputs": [],
   "source": [
    "# combining all customer data\n",
    "customers = pd.concat([northwind_customers, aenc_customer, adventureworks_sales_customer], ignore_index=True)\n",
    "\n",
    "#combine with store\n",
    "customers = pd.merge(customers, adventureworks_sales_store, left_on='StoreID', right_on='BusinessEntityID')\n",
    "\n",
    "# combine with sales territory\n",
    "customers = pd.merge(customers, adventureworks_sales_salesterritory, on='TerritoryID')\n",
    "\n",
    "customers['CustomerID'] = customers['CustomerID'].combine_first(customers['id'])\n",
    "\n",
    "# manual comebine some columns which are identical\n",
    "customers['CUSTOMER_CUSTOMERS_CompanyName'] = customers['CompanyName'].combine_first(customers['company_name'])\n",
    "customers['CUSTOMER_CUSTOMERS_Address'] = customers['Address'].combine_first(customers['address'])\n",
    "customers['CUSTOMER_CUSTOMERS_City'] = customers['City'].combine_first(customers['city'])\n",
    "customers['CUSTOMER_CUSTOMERS_PostalCode'] = customers['PostalCode'].combine_first(customers['zip'])\n",
    "customers['CUSTOMER_CUSTOMERS_Phone'] = customers['Phone'].combine_first(customers['phone'])\n",
    "\n",
    "# drop unneeded\n",
    "drop_modified_date_rowguid(customers)\n",
    "customers.drop(columns=['BusinessEntityID', 'CompanyName', 'Address', 'City', 'PostalCode', 'Phone', 'company_name', 'address', 'city', 'zip', 'phone', 'id'], inplace=True)\n",
    "\n",
    "# # rename\n",
    "customers.rename(columns={\n",
    "    'CustomerID': 'CUSTOMER_CUSTOMER_CustomerID',\n",
    "    'PersonID': 'CUSTOMER_CUSTOMER_PersonID ',\n",
    "    'StoreID': 'CUSTOMER_CUSTOMER_StoreID',\n",
    "    'TerritoryID': 'CUSTOMER_CUSTOMER_TerritoryID',\n",
    "    'AccountNumber': 'CUSTOMER_CUSTOMER_AccountNumber',\n",
    "    'Name_x': 'CUSTOMER_STORE_Name',\n",
    "    'SalesPersonID': 'CUSTOMER_STORE_SalesPersonID',\n",
    "    'Demographics': 'CUSTOMER_STORE_Demographics',\n",
    "    'Name_y': 'CUSTOMER_SALESTERRITORY_Name',\n",
    "    'CountryRegionCode': 'CUSTOMER_SALESTERRITORY_CountryRegionCode',\n",
    "    'Group': 'CUSTOMER_SALESTERRITORY_Group',\n",
    "    'SalesYTD': 'CUSTOMER_SALESTERRITORY_SalesYTD',\n",
    "    'SalesLastYear': 'CUSTOMER_SALESTERRITORY_SalesLastYear',\n",
    "    'CostYTD': 'CUSTOMER_SALESTERRITORY_CostYTD',\n",
    "    'CostLastYear': 'CUSTOMER_SALESTERRITORY_CostLastYear',\n",
    "    'ContactName': 'CUSTOMER_CUSTOMERS_ContactName',\n",
    "    'ContactTitle': 'CUSTOMER_CUSTOMERS_ContactTitle',\n",
    "    'Region': 'CUSTOMER_CUSTOMERS_Region',\n",
    "    'Country': 'CUSTOMER_CUSTOMERS_Country',\n",
    "    'Fax': 'CUSTOMER_CUSTOMERS_Fax',\n",
    "    'fname': 'CUSTOMER_CUSTOMER_Fname',\n",
    "    'lname': 'CUSTOMER_CUSTOMER_Lname',\n",
    "    'state': 'CUSTOMER_CUSTOMER_State',\n",
    "}, inplace=True)\n",
    "\n",
    "customers.head()"
   ]
  },
  {
   "cell_type": "markdown",
   "id": "3703516d",
   "metadata": {},
   "source": [
    "### SpecialOffer"
   ]
  },
  {
   "cell_type": "code",
   "execution_count": null,
   "id": "3f890825",
   "metadata": {
    "ExecuteTime": {
     "end_time": "2024-05-23T08:30:50.047679Z",
     "start_time": "2024-05-23T08:30:50.029484Z"
    }
   },
   "outputs": [],
   "source": [
    "# merge specialoffer with specialofferproduct\n",
    "specialoffers = pd.merge(adventureworks_sales_specialoffer, adventureworks_sales_specialofferproduct, on=\"SpecialOfferID\")\n",
    "\n",
    "# drop rowguid and modifieddate\n",
    "drop_modified_date_rowguid(specialoffers)\n",
    "\n",
    "# rename to correct columns like in database\n",
    "specialoffers = specialoffers.rename(columns={\n",
    "    'SpecialOfferID': 'SPECIALOFFER_SPECIALOFFER_ID',\n",
    "    'ProductID': 'SPECIALOFFER_SPECIALOFFERPRODUCT_ProductID',\n",
    "    'Description': 'SPECIALOFFER_SPECIALOFFER_Description',\n",
    "    'DiscountPct': 'SPECIALOFFER_SPECIALOFFER_DiscountPCT',\n",
    "    'Type': 'SPECIALOFFER_SPECIALOFFER_Type',\n",
    "    'Category': 'SPECIALOFFER_SPECIALOFFER_Category',\n",
    "    'StartDate': 'SPECIALOFFER_SPECIALOFFER_StartDate',\n",
    "    'EndDate': 'SPECIALOFFER_SPECIALOFFER_EndDate',\n",
    "    'MinQty': 'SPECIALOFFER_SPECIALOFFER_MinQty',\n",
    "    'MaxQty': 'SPECIALOFFER_SPECIALOFFER_MaxQty'\n",
    "})\n",
    "\n",
    "specialoffers.head()"
   ]
  },
  {
   "cell_type": "markdown",
   "id": "af741b36",
   "metadata": {},
   "source": [
    "### CreditCard"
   ]
  },
  {
   "cell_type": "code",
   "execution_count": null,
   "id": "68056db5",
   "metadata": {
    "ExecuteTime": {
     "end_time": "2024-05-23T08:30:50.067631Z",
     "start_time": "2024-05-23T08:30:50.048688Z"
    }
   },
   "outputs": [],
   "source": [
    "# merge creditcard with personcreditcard\n",
    "creditcards = pd.merge(adventureworks_sales_creditcard, adventureworks_sales_personcreditcard, on=\"CreditCardID\")\n",
    "\n",
    "# drop rowguid and modifieddate\n",
    "drop_modified_date_rowguid(creditcards)\n",
    "\n",
    "# rename to correct columns like in database\n",
    "creditcards = creditcards.rename(columns={\n",
    "    'CreditCardID': 'CREDITCARD_CREDITCARD_ID',\n",
    "    'CardType': 'CREDITCARD_CREDITCARD_CardType',\n",
    "    'CardNumber': 'CREDITCARD_CREDITCARD_CardNumber ',\n",
    "    'ExpMonth': 'CREDITCARD_CREDITCARD_ExpMonth',\n",
    "    'ExpYear': 'CREDITCARD_CREDITCARD_ExpYear',\n",
    "    'BusinessEntityID': 'CREDITCARD_PERSONCREDITCARD_BusinessEntityID'\n",
    "})\n",
    "\n",
    "creditcards.head()"
   ]
  },
  {
   "cell_type": "markdown",
   "id": "8710a102",
   "metadata": {},
   "source": [
    "### Supplier"
   ]
  },
  {
   "cell_type": "code",
   "execution_count": null,
   "id": "061c5dd9",
   "metadata": {
    "ExecuteTime": {
     "end_time": "2024-05-23T08:30:50.082985Z",
     "start_time": "2024-05-23T08:30:50.068728Z"
    }
   },
   "outputs": [],
   "source": [
    "# rename\n",
    "suppliers = northwind_suppliers.rename(columns={\n",
    "    'SupplierID': 'SUPPLIER_SUPPLIERS_SupplierID',\n",
    "    'CompanyName': 'SUPPLIER_SUPPLIERS_CompanyName',\n",
    "    'ContactName': 'SUPPLIER_SUPPLIERS_ContactName',\n",
    "    'ContactTitle': 'SUPPLIER_SUPPLIERS_ContactTitle',\n",
    "    'Address': 'SUPPLIER_SUPPLIERS_Address',\n",
    "    'City': 'SUPPLIER_SUPPLIERS_City',\n",
    "    'Region': 'SUPPLIER_SUPPLIERS_Region',\n",
    "    'PostalCode': 'SUPPLIER_SUPPLIERS_PostalCode',\n",
    "    'Country': 'SUPPLIER_SUPPLIERS_Country',\n",
    "    'Phone': 'SUPPLIER_SUPPLIERS_Phone',\n",
    "    'Fax': 'SUPPLIER_SUPPLIERS_Fax',\n",
    "    'HomePage': 'SUPPLIER_SUPPLIERS_HomePage'\n",
    "})\n",
    "\n",
    "suppliers.head()"
   ]
  },
  {
   "cell_type": "markdown",
   "id": "fc1e195c",
   "metadata": {},
   "source": [
    "### Currency"
   ]
  },
  {
   "cell_type": "code",
   "execution_count": null,
   "id": "b58dd5fd",
   "metadata": {
    "ExecuteTime": {
     "end_time": "2024-05-23T08:30:50.111958Z",
     "start_time": "2024-05-23T08:30:50.085046Z"
    }
   },
   "outputs": [],
   "source": [
    "# combine currency and countryregioncurrency\n",
    "currencies = pd.merge(adventureworks_sales_currency, adventureworks_sales_countryregioncurrency, on=\"CurrencyCode\")\n",
    "\n",
    "# now combine with currencyrate\n",
    "currencies = pd.concat([currencies, adventureworks_sales_currencyrate], ignore_index=True)\n",
    "\n",
    "#drop the modifieddate\n",
    "drop_modified_date_rowguid(currencies)\n",
    "\n",
    "#rename \n",
    "currencies = currencies.rename(columns={\n",
    "    'CurrencyCode': 'CURRENCY_CURRENCY_CurrencyCode',\n",
    "    'Name': 'CURRENCY_CURRENCY_Name',\n",
    "    'CountryRegionCode': 'CURRENCY_COUNTRYREGIONCURRENCY_CountryRegionCode',\n",
    "    'CurrencyRateID': 'CURRENCY_CURRENCYRATE_CurrencyRateID',\n",
    "    'CurrencyRateDate': 'CURRENCY_CURRENCYRATE_CurrencyRateDate',\n",
    "    'FromCurrencyCode': 'CURRENCY_CURRENCYRATE_FromCurrencyCode',\n",
    "    'ToCurrencyCode': 'CURRENCY_CURRENCYRATE_ToCurrencyCode',\n",
    "    'AverageRate': 'CURRENCY_CURRENCYRATE_AverageRate ',\n",
    "    'EndOfDayRate': 'CURRENCY_CURRENCYRATE_EndOfDayRate',\n",
    "})\n",
    "\n",
    "currencies.head()"
   ]
  },
  {
   "cell_type": "markdown",
   "id": "b37c5d39",
   "metadata": {},
   "source": [
    "### Territory"
   ]
  },
  {
   "cell_type": "code",
   "execution_count": null,
   "id": "83639440",
   "metadata": {
    "ExecuteTime": {
     "end_time": "2024-05-23T08:30:50.148853Z",
     "start_time": "2024-05-23T08:30:50.112970Z"
    }
   },
   "outputs": [],
   "source": [
    "# combine sales territory first\n",
    "adventureworks_combined_territory = pd.merge(adventureworks_person_countryregion, adventureworks_person_stateprovince, on=\"CountryRegionCode\", suffixes=('_pcr', '_sts'))\n",
    "\n",
    "# now merge with salestaxrate\n",
    "adventureworks_combined_territory = pd.merge(adventureworks_combined_territory, adventureworks_sales_salestaxrate, on=\"StateProvinceID\", suffixes=('_st', '_sst'))\n",
    "\n",
    "# combine northwind region with territory\n",
    "nw_combined_territory = pd.merge(northwind_region, northwind_territories, on=\"RegionID\")\n",
    "\n",
    "# do the same for aenc\n",
    "aenc_combined_regionstate = pd.merge(aenc_region, aenc_state, on=\"region\")\n",
    "\n",
    "#concatinate the tables together\n",
    "territories = pd.concat([nw_combined_territory, aenc_combined_regionstate, adventureworks_combined_territory], ignore_index=True)\n",
    "\n",
    "# drop unneeded rowguid and modifieddate\n",
    "drop_modified_date_rowguid(territories)\n",
    "\n",
    "# rename columns\n",
    "territories = territories.rename(columns={\n",
    "    'RegionID': 'TERRITORY_REGION_RegionID',\n",
    "    'RegionDescription': 'TERRITORY_REGION_RegionDescription',\n",
    "    'TerritoryID': 'TERRITORY_TERRITORIES_TerritoryID',\n",
    "    'TerritoryDescription': 'TERRITORY_TERRITORIES_TerritoryDescription',\n",
    "    'region': 'TERRITORY_REGION_Region',\n",
    "    'state_id': 'TERRITORY_STATE_StateID',\n",
    "    'state_name': 'TERRITORY_STATE_StateName',\n",
    "    'state_capital': 'TERRITORY_STATE_StateCapital',\n",
    "    'country': 'TERRITORY_STATE_Country',\n",
    "    'CountryRegionCode': 'TERRITORY_COUNTRYREGION_CountryRegionCode',\n",
    "    'Name_pcr': 'TERRITORY_COUNTRYREGION_Name',\n",
    "    'StateProvinceID': 'TERRITORY_STATEPROVINCE_StateProvinceID',\n",
    "    'StateProvinceCode': 'TERRITORY_STATEPROVINCE_StateProvinceCode',\n",
    "    'IsOnlyStateProvinceFlag': 'TERRITORY_STATEPROVINCE_IsOnlyStateProvinceFlag',\n",
    "    'Name_sts': 'TERRITORY_STATEPROVINCE_Name',\n",
    "    'SalesTaxRateID': 'TERRITORY_SALESTAXRATE_SalesTaxRateID',\n",
    "    'TaxType': 'TERRITORY_SALESTAXRATE_TaxType',\n",
    "    'TaxRate': 'TERRITORY_SALESTAXRATE_TaxRate',\n",
    "    'Name': 'TERRITORY_SALESTAXRATE_Name'\n",
    "})\n",
    "\n",
    "territories.head()"
   ]
  },
  {
   "cell_type": "markdown",
   "id": "afd379f4",
   "metadata": {},
   "source": [
    "### SalesOrderHeader"
   ]
  },
  {
   "cell_type": "code",
   "execution_count": null,
   "id": "96106949",
   "metadata": {
    "ExecuteTime": {
     "end_time": "2024-05-23T08:30:50.354239Z",
     "start_time": "2024-05-23T08:30:50.149876Z"
    }
   },
   "outputs": [],
   "source": [
    "# combine orderdetail with orderheader\n",
    "salesorderheaders = pd.merge(adventureworks_sales_salesorderdetail, adventureworks_sales_salesorderheader, on=\"SalesOrderID\",\n",
    "                        suffixes=('_sod', '_soh'))\n",
    "\n",
    "# combine with salesorderheadersalesreason\n",
    "salesorderheaders = pd.merge(salesorderheaders, adventureworks_sales_salesorderhearerrsaleseason, on=\"SalesOrderID\")\n",
    "\n",
    "# combine with salesreason\n",
    "salesorderheaders = pd.merge(salesorderheaders, adventureworks_sales_salesreason, on=\"SalesReasonID\")\n",
    "\n",
    "#drop unneeded\n",
    "drop_modified_date_rowguid(salesorderheaders)\n",
    "\n",
    "# rename columns\n",
    "salesorderheaders = salesorderheaders.rename(columns={\n",
    "    'SalesOrderID': 'SALESORDERHEADER_SALESORDERDETAIL_SalesOrderID',\n",
    "    'SalesOrderDetailID': 'SALESORDERHEADER_SALESORDERDETAIL_SalesOrderDetailID',\n",
    "    'CarrierTrackingNumber': 'SALESORDERHEADER_SALESORDERDETAIL_CarrierTrackingNumber',\n",
    "    'OrderQty': 'SALESORDERHEADER_SALESORDERDETAIL_OrderQty',\n",
    "    'ProductID': 'SALESORDERHEADER_SALESORDERDETAIL_ProductID',\n",
    "    'SpecialOfferID': 'SALESORDERHEADER_SALESORDERDETAIL_SpecialOfferID',\n",
    "    'UnitPrice': 'SALESORDERHEADER_SALESORDERDETAIL_UnitPrice',\n",
    "    'UnitPriceDiscount': 'SALESORDERHEADER_SALESORDERDETAIL_UnitPriceDiscount',\n",
    "    'LineTotal': 'SALESORDERHEADER_SALESORDERDETAIL_LineTotal',\n",
    "    'RevisionNumber': 'SALESORDERHEADER_SALESORDERHEADER_RevisionNumber',\n",
    "    'OrderDate': 'SALESORDERHEADER_SALESORDERHEADER_OrderDate',\n",
    "    'DueDate': 'SALESORDERHEADER_SALESORDERHEADER_DueDate',\n",
    "    'ShipDate': 'SALESORDERHEADER_SALESORDERHEADER_ShipDate',\n",
    "    'Status': 'SALESORDERHEADER_SALESORDERHEADER_Status',\n",
    "    'OnlineOrderFlag': 'SALESORDERHEADER_SALESORDERHEADER_OnlineOrderFlag',\n",
    "    'SalesOrderNumber': 'SALESORDERHEADER_SALESORDERHEADER_SalesOrderNumber',\n",
    "    'PurchaseOrderNumber': 'SALESORDERHEADER_SALESORDERHEADER_PurchaseOrderNumber',\n",
    "    'AccountNumber': 'SALESORDERHEADER_SALESORDERHEADER_AccountNumber',\n",
    "    'CustomerID': 'SALESORDERHEADER_SALESORDERHEADER_CustomerID',\n",
    "    'SalesPersonID': 'SALESORDERHEADER_SALESORDERHEADER_SalesPersonID',\n",
    "    'TerritoryID': 'SALESORDERHEADER_SALESORDERHEADER_TerritoryID',\n",
    "    'BillToAddressID': 'SALESORDERHEADER_SALESORDERHEADER_BillToAddress',\n",
    "    'ShipToAddressID': 'SALESORDERHEADER_SALESORDERHEADER_ShipToAddress',\n",
    "    'ShipMethodID': 'SALESORDERHEADER_SALESORDERHEADER_ShipMethodID',\n",
    "    'CreditCardID': 'SALESORDERHEADER_SALESORDERHEADER_CreditCardID',\n",
    "    'CreditCardApprovalCode': 'SALESORDERHEADER_SALESORDERHEADER_CreditCardApprovalCode',\n",
    "    'CurrencyRateID': 'SALESORDERHEADER_SALESORDERHEADER_CurrencyRateID',\n",
    "    'SubTotal': 'SALESORDERHEADER_SALESORDERHEADER_SubTotal',\n",
    "    'TaxAmt': 'SALESORDERHEADER_SALESORDERHEADER_TaxAmt',\n",
    "    'Freight': 'SALESORDERHEADER_SALESORDERHEADER_Freight',\n",
    "    'TotalDue': 'SALESORDERHEADER_SALESORDERHEADER_TotalDue',\n",
    "    'Comment': 'SALESORDERHEADER_SALESORDERHEADER_Comment',\n",
    "    'SalesReasonID': 'SALESORDERHEADER_SALESREASON_SalesReasonID',\n",
    "    'Name': 'SALESORDERHEADER_SALESREASON_Name',\n",
    "    'ReasonType': 'SALESORDERHEADER_SALESREASON_ReasonType',\n",
    "})\n",
    "\n",
    "salesorderheaders.head()\n"
   ]
  },
  {
   "cell_type": "markdown",
   "id": "e13ffa25",
   "metadata": {},
   "source": [
    "### PurchaseOrderHeader"
   ]
  },
  {
   "cell_type": "code",
   "execution_count": null,
   "id": "cbeb6098",
   "metadata": {
    "ExecuteTime": {
     "end_time": "2024-05-23T08:30:50.393766Z",
     "start_time": "2024-05-23T08:30:50.355248Z"
    }
   },
   "outputs": [],
   "source": [
    "# combine purchaseorderdetail with purchaseorderheader\n",
    "purchaseorderheaders = pd.merge(adventureworks_purchasing_purchaseorderheader, adventureworks_purchasing_purchaseorderdetail, on=\"PurchaseOrderID\")\n",
    "\n",
    "# combine with purchase shipmethod\n",
    "purchaseorderheaders = pd.merge(purchaseorderheaders, adventureworks_purchasing_shipmethod, on=\"ShipMethodID\")\n",
    "\n",
    "#combine wiith vendor\n",
    "purchaseorderheaders = pd.merge(purchaseorderheaders, adventureworks_purchasing_vendor, left_on='VendorID', right_on='BusinessEntityID',\n",
    "                        suffixes=('_poh', '_pov'))\n",
    "\n",
    "#drop unneeded\n",
    "drop_modified_date_rowguid(purchaseorderheaders)\n",
    "purchaseorderheaders.drop(columns=['BusinessEntityID'], inplace=True)\n",
    "\n",
    "# rename columns\n",
    "purchaseorderheaders = purchaseorderheaders.rename(columns={\n",
    "    'PurchaseOrderID': 'PURCHASEORDERHEADER_PURCHASEORDERHEADER_PurchaseOrderID',\n",
    "    'RevisionNumber': 'PURCHASEORDERHEADER_PURCHASEORDERHEADER_RevisionNumber',\n",
    "    'Status': 'PURCHASEORDERHEADER_PURCHASEORDERHEADER_Status',\n",
    "    'EmployeeID': 'PURCHASEORDERHEADER_PURCHASEORDERHEADER_EmployeeID',\n",
    "    'VendorID': 'PURCHASEORDERHEADER_PURCHASEORDERHEADER_VendorID',\n",
    "    'ShipMethodID': 'PURCHASEORDERHEADER_PURCHASEORDERHEADER_ShipMethodID',\n",
    "    'OrderDate': 'PURCHASEORDERHEADER_PURCHASEORDERHEADER_OrderDate',\n",
    "    'ShipDate': 'PURCHASEORDERHEADER_PURCHASEORDERHEADER_ShipDate',\n",
    "    'SubTotal': 'PURCHASEORDERHEADER_PURCHASEORDERHEADER_SubTotal',\n",
    "    'TaxAmt': 'PURCHASEORDERHEADER_PURCHASEORDERHEADER_TaxAmt',\n",
    "    'Freight': 'PURCHASEORDERHEADER_PURCHASEORDERHEADER_Freight',\n",
    "    'TotalDue': 'PURCHASEORDERHEADER_PURCHASEORDERHEADER_TotalDue',\n",
    "    'PurchaseOrderDetailID': 'PURCHASEORDERHEADER_PURCHASEORDERDETAIL_PurchaseOrderDetailID',\n",
    "    'DueDate': 'PURCHASEORDERHEADER_PURCHASEORDERDETAIL_DueDate',\n",
    "    'OrderQty': 'PURCHASEORDERHEADER_PURCHASEORDERDETAIL_OrderQty',\n",
    "    'ProductID': 'PURCHASEORDERHEADER_PURCHASEORDERDETAIL_ProductID',\n",
    "    'UnitPrice': 'PURCHASEORDERHEADER_PURCHASEORDERDETAIL_UnitPrice',\n",
    "    'LineTotal': 'PURCHASEORDERHEADER_PURCHASEORDERDETAIL_LineTotal',\n",
    "    'ReceivedQty': 'PURCHASEORDERHEADER_PURCHASEORDERDETAIL_ReceivedQty',\n",
    "    'RejectedQty': 'PURCHASEORDERHEADER_PURCHASEORDERDETAIL_RejectedQty',\n",
    "    'StockedQty': 'PURCHASEORDERHEADER_PURCHASEORDERDETAIL_StockedQty',\n",
    "    'Name_poh': 'PURCHASEORDERHEADER_SHIPMETHOD_Name',\n",
    "    'ShipBase': 'PURCHASEORDERHEADER_SHIPMETHOD_ShipBase',\n",
    "    'ShipRate': 'PURCHASEORDERHEADER_SHIPMETHOD_ShipRate',\n",
    "    'AccountNumber': 'PURCHASEORDERHEADER_VENDOR_AccountNumber',\n",
    "    'Name_pov': 'PURCHASEORDERHEADER_VENDOR_Name',\n",
    "    'CreditRating': 'PURCHASEORDERHEADER_VENDOR_CreditRating',\n",
    "    'PreferredVendorStatus': 'PURCHASEORDERHEADER_VENDOR_PreferredVendorStatus',\n",
    "    'ActiveFlag': 'PURCHASEORDERHEADER_VENDOR_ActiveFlag',\n",
    "    'PurchasingWebServiceURL': 'PURCHASEORDERHEADER_VENDOR_PurchasingWebServiceURL'\n",
    "})\n",
    "\n",
    "purchaseorderheaders.head()\n"
   ]
  },
  {
   "cell_type": "markdown",
   "id": "7a343189dd725896",
   "metadata": {},
   "source": [
    "### Date"
   ]
  },
  {
   "cell_type": "code",
   "execution_count": null,
   "id": "c88fd6cb7dbfa0b1",
   "metadata": {
    "ExecuteTime": {
     "end_time": "2024-05-23T08:30:50.960222Z",
     "start_time": "2024-05-23T08:30:50.395286Z"
    }
   },
   "outputs": [],
   "source": [
    "def calculate_periods(periods_in_years): \n",
    "    return 365 * periods_in_years + (periods_in_years // 4) # divide by 4 for leap years\n",
    "\n",
    "periods = calculate_periods(50)\n",
    "\n",
    "date_table = {\n",
    "    'DATE_ID': pd.date_range(start='1996-01-01', periods=periods).strftime('%Y%m%d').astype(int),\n",
    "    'DATE_Date': pd.date_range(start='1996-01-01', periods=periods),\n",
    "    'DATE_Weekday': pd.date_range(start='1996-01-01', periods=periods).strftime('%A'),\n",
    "    'DATE_WeekdayNum': pd.date_range(start='1996-01-01', periods=periods).weekday + 1,\n",
    "    'DATE_DayMonth': pd.date_range(start='1996-01-01', periods=periods).day,\n",
    "    'DATE_DayOfYear': pd.date_range(start='1996-01-01', periods=periods).dayofyear,\n",
    "    'DATE_WeekOfYear': pd.date_range(start='1996-01-01', periods=periods).isocalendar().week,\n",
    "    'DATE_MonthNum': pd.date_range(start='1996-01-01', periods=periods).month,\n",
    "    'DATE_MonthName': pd.date_range(start='1996-01-01', periods=periods).strftime('%B'),\n",
    "    'DATE_MonthNameShort': pd.date_range(start='1996-01-01', periods=periods).strftime('%b'),\n",
    "    'DATE_Quarter': pd.date_range(start='1996-01-01', periods=periods).quarter,\n",
    "    'DATE_Year': pd.date_range(start='1996-01-01', periods=periods).year,\n",
    "    'DATE_FirstDayOfMonth': pd.date_range(start='1996-01-01', periods=periods).to_period('M').start_time,\n",
    "    'DATE_LastDayOfMonth': pd.date_range(start='1996-01-01', periods=periods).to_period('M').end_time.date,\n",
    "    'DATE_YYYYMM': pd.date_range(start='1996-01-01', periods=periods).strftime('%Y-%m'),\n",
    "    'DATE_WeekendIndr': pd.date_range(start='1996-01-01', periods=periods).weekday // 5\n",
    "}\n",
    "\n",
    "date_table = pd.DataFrame(date_table)\n",
    "date_table['DATE_WeekendIndr'] = date_table['DATE_WeekendIndr'].replace({0: 'weekday', 1: 'weekend'})\n",
    "\n",
    "date_table.tail()"
   ]
  },
  {
   "cell_type": "markdown",
   "id": "d270a075a20e5439",
   "metadata": {},
   "source": [
    "### Time"
   ]
  },
  {
   "cell_type": "code",
   "execution_count": null,
   "id": "8c93e7d7835676e7",
   "metadata": {
    "ExecuteTime": {
     "end_time": "2024-05-23T08:30:50.976299Z",
     "start_time": "2024-05-23T08:30:50.962229Z"
    }
   },
   "outputs": [],
   "source": [
    "# Define the number of minutes in a day\n",
    "minutes_in_a_day = 24 * 60\n",
    "\n",
    "# Create the data dictionary for time dimension\n",
    "time_table = {\n",
    "    'TIME_ID': list(range(minutes_in_a_day)),\n",
    "    'TIME_Hour': [i // 60 for i in range(minutes_in_a_day)],\n",
    "    'TIME_Minute': [i % 60 for i in range(minutes_in_a_day)],\n",
    "    'TIME_HourMinute': [f'{hour:02d}:{minute:02d}' for hour in range(24) for minute in range(60)],\n",
    "}\n",
    "\n",
    "# Convert the dictionary to a DataFrame\n",
    "time_table = pd.DataFrame(time_table)\n",
    "\n",
    "time_table.head()"
   ]
  },
  {
   "cell_type": "markdown",
   "id": "a84884f724d7a607",
   "metadata": {},
   "source": [
    "### TransactionHistory"
   ]
  },
  {
   "cell_type": "code",
   "execution_count": null,
   "id": "5bd6257b254e7402",
   "metadata": {
    "ExecuteTime": {
     "end_time": "2024-05-23T08:30:51.003275Z",
     "start_time": "2024-05-23T08:30:50.982323Z"
    }
   },
   "outputs": [],
   "source": [
    "transactionhistories = adventureworks_production_transactionhistory\n",
    "\n",
    "# dropping the modified date and rowguid columns\n",
    "drop_modified_date_rowguid(transactionhistories)\n",
    "\n",
    "# renaming the columns\n",
    "transactionhistories.rename(columns={'TransactionID': 'TRANSACTIONHISTORY_TRANSACTIONHISTORY_TransactionID', 'ProductID': 'TRANSACTIONHISTORY_TRANSACTIONHISTORY_ProductID', 'ReferenceOrderID': 'TRANSACTIONHISTORY_TRANSACTIONHISTORY_ReferenceOrderID', 'ReferenceOrderLineID': 'TRANSACTIONHISTORY_TRANSACTIONHISTORY_ReferenceOrderLineID', 'TransactionDate': 'TRANSACTIONHISTORY_TRANSACTIONHISTORY_TransactionDate', 'TransactionType': 'TRANSACTIONHISTORY_TRANSACTIONHISTORY_TransactionType', 'Quantity': 'TRANSACTIONHISTORY_TRANSACTIONHISTORY_Quantity', 'ActualCost': 'TRANSACTIONHISTORY_TRANSACTIONHISTORY_ActualCost'}, inplace=True)\n",
    "\n",
    "transactionhistories.head()"
   ]
  },
  {
   "cell_type": "markdown",
   "id": "5a31b805f8e21248",
   "metadata": {},
   "source": [
    "### TransactionHistoryArchive"
   ]
  },
  {
   "cell_type": "code",
   "execution_count": null,
   "id": "b282f17df0819f73",
   "metadata": {
    "ExecuteTime": {
     "end_time": "2024-05-23T08:30:51.022706Z",
     "start_time": "2024-05-23T08:30:51.005282Z"
    }
   },
   "outputs": [],
   "source": [
    "transactionhistoryarchives = adventureworks_production_transactionhistoryarchive\n",
    "\n",
    "# dropping the modified date and rowguid columns\n",
    "drop_modified_date_rowguid(transactionhistoryarchives)\n",
    "\n",
    "# renaming the columns\n",
    "transactionhistoryarchives.rename(columns={'TransactionID': 'TRANSACTIONHISTORYARCHIVE_TRANSACTIONHISTORYARCHIVE_TransactionID', 'ProductID': 'TRANSACTIONHISTORYARCHIVE_TRANSACTIONHISTORYARCHIVE_ProductID', 'ReferenceOrderID': 'TRANSACTIONHISTORYARCHIVE_TRANSACTIONHISTORYARCHIVE_ReferenceOrderID', 'ReferenceOrderLineID': 'TRANSACTIONHISTORYARCHIVE_TRANSACTIONHISTORYARCHIVE_ReferenceOrderLineID', 'TransactionDate': 'TRANSACTIONHISTORYARCHIVE_TRANSACTIONHISTORYARCHIVE_TransactionDate', 'TransactionType': 'TRANSACTIONHISTORYARCHIVE_TRANSACTIONHISTORYARCHIVE_TransactionType', 'Quantity': 'TRANSACTIONHISTORYARCHIVE_TRANSACTIONHISTORYARCHIVE_Quantity', 'ActualCost': 'TRANSACTIONHISTORYARCHIVE_TRANSACTIONHISTORYARCHIVE_ActualCost'}, inplace=True)\n",
    "\n",
    "transactionhistoryarchives.head()"
   ]
  },
  {
   "cell_type": "markdown",
   "id": "854e72b638e94071",
   "metadata": {},
   "source": [
    "### ProductReview"
   ]
  },
  {
   "cell_type": "code",
   "execution_count": null,
   "id": "b1954086149e7b6a",
   "metadata": {
    "ExecuteTime": {
     "end_time": "2024-05-23T08:30:51.034823Z",
     "start_time": "2024-05-23T08:30:51.024714Z"
    }
   },
   "outputs": [],
   "source": [
    "productreviews = adventureworks_production_productreview\n",
    "\n",
    "# dropping the modified date and rowguid columns\n",
    "drop_modified_date_rowguid(productreviews)\n",
    "\n",
    "# renaming the columns\n",
    "productreviews.rename(columns={'ProductReviewID': 'PRODUCTREVIEW_PRODUCTREVIEW_ProductReviewID', 'ProductID': 'PRODUCTREVIEW_PRODUCTREVIEW_ProductID', 'ReviewerName': 'PRODUCTREVIEW_PRODUCTREVIEW_ReviewerName', 'ReviewDate': 'PRODUCTREVIEW_PRODUCTREVIEW_ReviewDate', 'EmailAddress': 'PRODUCTREVIEW_PRODUCTREVIEW_EmailAddress', 'Rating': 'PRODUCTREVIEW_PRODUCTREVIEW_Rating', 'Comments': 'PRODUCTREVIEW_PRODUCTREVIEW_Comments'}, inplace=True)\n",
    "\n",
    "productreviews.head()"
   ]
  },
  {
   "cell_type": "markdown",
   "id": "74150656",
   "metadata": {},
   "source": [
    "### Inventory"
   ]
  },
  {
   "cell_type": "code",
   "execution_count": null,
   "id": "f3bb2848",
   "metadata": {
    "ExecuteTime": {
     "end_time": "2024-05-23T08:30:51.051435Z",
     "start_time": "2024-05-23T08:30:51.035844Z"
    }
   },
   "outputs": [],
   "source": [
    "inventory_aw = adventureworks_production_productinventory.rename(columns={\n",
    "    'ProductID' : 'INVENTORY_PRODUCT_ID',\n",
    "    'LocationID' : 'INVENTORY_LOCATION_ID',\n",
    "    'Shelf' : 'INVENTORY_SHELF',\n",
    "    'Bin' : 'INVENTORY_Bin',\n",
    "    'Quantity' : 'INVENTORY_Quantity'\n",
    "})\n",
    "\n",
    "inventory_aw.drop(columns=['rowguid', 'ModifiedDate'], inplace=True)\n",
    "\n",
    "inventory_aenc = aenc_product[['id', 'quantity']].rename(columns={'id' : 'INVENTORY_PRODUCT_ID', 'quantity' : 'INVENTORY_Quantity'})\n",
    "inventory_northwind = northwind_products[['ProductID', 'UnitsInStock']].rename(columns={'ProductID' : 'INVENTORY_PRODUCT_ID', 'UnitsInStock' : 'INVENTORY_Quantity'})\n",
    "\n",
    "inventory_combined = pd.concat([inventory_aw, inventory_aenc, inventory_northwind], ignore_index=True)\n",
    "inventory_combined"
   ]
  },
  {
   "cell_type": "markdown",
   "id": "98111863",
   "metadata": {},
   "source": [
    "### UnitMeasure"
   ]
  },
  {
   "cell_type": "code",
   "execution_count": null,
   "id": "31e0f685",
   "metadata": {},
   "outputs": [],
   "source": [
    "unit_measure = adventureworks_production_unitmeasure\n",
    "drop_modified_date_rowguid(unit_measure)\n",
    "\n",
    "unit_measure['UNITMEASURE_ID'] = range(1, len(unit_measure) + 1)\n",
    "\n",
    "unit_measure.rename(columns={'UnitMeasureCode' : 'UNITMEASURE_CODE',\n",
    "                             'Name' : 'UNITMEASURE_NAME'}, inplace=True)"
   ]
  },
  {
   "cell_type": "markdown",
   "id": "85e8c693",
   "metadata": {},
   "source": [
    "### BillOfMaterial"
   ]
  },
  {
   "cell_type": "code",
   "execution_count": null,
   "id": "deb26311",
   "metadata": {},
   "outputs": [],
   "source": [
    "# merge table\n",
    "billofmaterials = pd.merge(adventureworks_production_bill_of_materials, unit_measure, left_on='UnitMeasureCode', right_on='UNITMEASURE_CODE', how='left') \n",
    "billofmaterials.drop(columns={'UnitMeasureCode', 'UNITMEASURE_CODE', 'UNITMEASURE_NAME'}, inplace=True )\n",
    "\n",
    "# rename\n",
    "billofmaterials.rename(columns={\n",
    "    'BillOfMaterialsID' : 'BILLOFMATERIAL_BILLOFMATERIAL_BillOfMaterialID',\n",
    "    'ProductAssemblyID' : 'BILLOFMATERIAL_BILLOFMATERIAL_ProductAssemblyID',\n",
    "    'UNITMEASURE_ID' : 'BILLOFMATERIAL_UNITMEASURE_ID',\n",
    "    'ComponentID': 'BILLOFMATERIAL_BILLOFMATERIAL_ComponentID',\n",
    "    'StartDate': 'BILLOFMATERIAL_BILLOFMATERIAL_StartDate',\n",
    "    'EndDate': 'BILLOFMATERIAL_BILLOFMATERIAL_EndDate',\n",
    "    'BOMLevel': 'BILLOFMATERIAL_BILLOFMATERIAL_BOMLevel',\n",
    "    'PerAssemblyQty': 'BILLOFMATERIAL_BILLOFMATERIAL_PerAssemblyQty',\n",
    "}, inplace=True)\n",
    "\n",
    "# drop unneeded column\n",
    "drop_modified_date_rowguid(billofmaterials)\n",
    "\n",
    "billofmaterials.head()"
   ]
  },
  {
   "cell_type": "markdown",
   "id": "d0f00e5402972728",
   "metadata": {},
   "source": [
    "### Products"
   ]
  },
  {
   "cell_type": "code",
   "execution_count": null,
   "id": "cd3510b9a8343584",
   "metadata": {
    "ExecuteTime": {
     "end_time": "2024-05-23T08:30:51.058664Z",
     "start_time": "2024-05-23T08:30:51.052451Z"
    }
   },
   "outputs": [],
   "source": [
    "product_aenc = aenc_product.rename(columns={'id' : 'PRODUCT_PRODUCT_ID',\n",
    "                                            'name' : 'PRODUCT_PRODUCT_Name',\n",
    "                                            'description' : 'PRODUCT_PRODUCTDESCRIPTION_Desc',\n",
    "                                            'prod_size' : 'PRODUCT_PRODUCT_Size',\n",
    "                                            'color' : 'PRODUCT_PRODUCT_Color',\n",
    "                                            'unit_price' : 'PRODUCT_PRODUCT_UnitPrice',\n",
    "                                            'picture_name' : 'PRODUCT_PRODUCTPHOTO_ThumbnailPhotoFileName',\n",
    "                                            'Category' : 'PRODUCT_PRODUCTCATEGORY_Category',\n",
    "                                            })\n",
    "\n",
    "product_aenc.drop(columns=['quantity'], inplace=True)"
   ]
  },
  {
   "cell_type": "code",
   "execution_count": null,
   "id": "13207e54",
   "metadata": {
    "ExecuteTime": {
     "end_time": "2024-05-23T08:30:51.070653Z",
     "start_time": "2024-05-23T08:30:51.059682Z"
    }
   },
   "outputs": [],
   "source": [
    "product_northwind = northwind_products.merge(northwind_categories, on='CategoryID', how='left')\n",
    "\n",
    "product_northwind = product_northwind.rename(columns={'ProductID' : 'PRODUCT_PRODUCT_ID',\n",
    "                                                        'ProductName' : 'PRODUCT_PRODUCT_Name',\n",
    "                                                        'SupplierID' : 'PRODUCT_PRODUCT_SupplierID',\n",
    "                                                        'CategoryID' : 'PRODUCT_PRODUCTSUBCATEGORY_CategoryID',\n",
    "                                                        'QuantityPerUnit' : 'PRODUCT_PRODUCT_QuantityPerUnit',\n",
    "                                                        'UnitPrice' : 'PRODUCT_PRODUCT_UnitPrice',\n",
    "                                                        'UnitsOnOrder' : 'PRODUCT_PRODUCT_UnitsOnOrder',\n",
    "                                                        'ReorderLevel' : 'PRODUCT_PRODUCT_ReorderLevel',\n",
    "                                                        'Discontinued' : 'PRODUCT_PRODUCT_Discontinued',\n",
    "                                                        'CategoryName' : 'PRODUCT_PRODUCTCATEGORY_Category',\n",
    "                                                        'Description' : 'PRODUCT_PRODUCTDESCRIPTION_Desc',\n",
    "                                                        'Picture' : 'PRODUCT_CATEGORY_Picture'\n",
    "                                                        })\n",
    "\n",
    "product_northwind.drop(columns=['UnitsInStock'], inplace=True)"
   ]
  },
  {
   "cell_type": "code",
   "execution_count": null,
   "id": "a09a9a7c",
   "metadata": {
    "ExecuteTime": {
     "end_time": "2024-05-23T08:30:51.141993Z",
     "start_time": "2024-05-23T08:30:51.071660Z"
    }
   },
   "outputs": [],
   "source": [
    "# Combining all adventureworks product data, see Snowflake Schema for better understanding\n",
    "# The reason we immediately rename certain columns is to avoid duplicate column names with x,y,z etc\n",
    "# This makes it easier to identify which columns belong to which tables\n",
    "product_adventure_works = pd.merge(adventureworks_production_product, adventureworks_production_productsubcategory, on='ProductSubcategoryID', how='left')\n",
    "product_adventure_works.rename(columns={'Name_y' : 'PRODUCT_PRODUCTSUBCATEGORY_SubCategory'}, inplace=True)\n",
    "\n",
    "product_adventure_works = pd.merge(product_adventure_works, adventureworks_production_productcategory, on='ProductCategoryID', how='left')\n",
    "product_adventure_works.rename(columns={'Name' : 'PRODUCT_PRODUCTCATEGORY_Category'}, inplace=True)\n",
    "drop_modified_date_rowguid(product_adventure_works)\n",
    "\n",
    "product_adventure_works = pd.merge(product_adventure_works, adventureworks_production_productmodel, on='ProductModelID', how='left')\n",
    "product_adventure_works.rename(columns={'Name' : 'PRODUCT_PRODUCTMODEL_Name'}, inplace=True)\n",
    "drop_modified_date_rowguid(product_adventure_works)\n",
    "\n",
    "product_adventure_works = pd.merge(product_adventure_works, adventureworks_production_productmodelillustration, on='ProductModelID', how='left')\n",
    "drop_modified_date_rowguid(product_adventure_works)\n",
    "\n",
    "product_adventure_works = pd.merge(product_adventure_works, adventureworks_production_illustration, on='IllustrationID', how='left')\n",
    "drop_modified_date_rowguid(product_adventure_works)\n",
    "\n",
    "product_adventure_works = pd.merge(product_adventure_works, adventureworks_production_productmodelproductdescriptionculture , on='ProductModelID', how='left')\n",
    "drop_modified_date_rowguid(product_adventure_works)\n",
    "\n",
    "product_adventure_works = pd.merge(product_adventure_works, adventureworks_production_culture , on='CultureID', how='left')\n",
    "product_adventure_works.rename(columns={'Name' : 'PRODUCT_CULTURE_Name'}, inplace=True)\n",
    "drop_modified_date_rowguid(product_adventure_works)\n",
    "\n",
    "product_adventure_works = pd.merge(product_adventure_works, adventureworks_production_productdescription, on='ProductDescriptionID', how='left')\n",
    "drop_modified_date_rowguid(product_adventure_works)\n",
    "\n",
    "product_adventure_works = pd.merge(product_adventure_works, adventureworks_production_productproductphoto, on='ProductID', how='left')\n",
    "drop_modified_date_rowguid(product_adventure_works)\n",
    "\n",
    "product_adventure_works = pd.merge(product_adventure_works, adventureworks_production_productphoto, on='ProductPhotoID', how='left')\n",
    "drop_modified_date_rowguid(product_adventure_works)\n",
    "\n",
    "product_adventure_works = pd.merge(product_adventure_works, unit_measure, left_on='SizeUnitMeasureCode', right_on='UNITMEASURE_CODE', how='left')\n",
    "product_adventure_works.rename(columns={'UNITMEASURE_ID' : 'PRODUCT_UNITMEASURE_SIZE_ID'}, inplace=True)\n",
    "product_adventure_works.drop(columns={'UNITMEASURE_NAME', 'SizeUnitMeasureCode'}, inplace=True)\n",
    "\n",
    "product_adventure_works = pd.merge(product_adventure_works, unit_measure, left_on='WeightUnitMeasureCode', right_on='UNITMEASURE_CODE', how='left')\n",
    "product_adventure_works.rename(columns={'UNITMEASURE_ID' : 'PRODUCT_UNITMEASURE_WEGHT_ID'}, inplace=True)\n",
    "product_adventure_works.drop(columns={'UNITMEASURE_NAME', 'WeightUnitMeasureCode'}, inplace=True)\n",
    "\n",
    "product_adventure_works = product_adventure_works.rename(columns={'ProductID' : 'PRODUCT_PRODUCT_ID',\n",
    "                                                                    'ProductSubcategoryID' : 'PRODUCT_PRODUCT_SubCategoryID',\n",
    "                                                                    'ProductCategoryID' : 'PRODUCT_PRODUCTSUBCATEGORY_CategoryID',\n",
    "                                                                    'IllustrationID' : 'PRODUCT_PRODUCTMODELILLUSTRATION_IllustrationID',\n",
    "                                                                    'ProductModelID' : 'PRODUCT_PRODUCT_ModelID',\n",
    "                                                                    'CultureID' : 'PRODUCT_PMPDC_CultureID',\n",
    "                                                                    'ProductDescriptionID' : 'PRODUCT_PMPDC_DescriptionID',\n",
    "                                                                    'ProductPhotoID' : 'PRODUCT_PRODUCTPRODUCTPHOTO_PhotoID',\n",
    "                                                                    'ThumbNailPhotoHexString' : 'PRODUCT_PRODUCTPHOTO_ThumbnailPhotoHexString',\n",
    "                                                                    'LargePhotoHexString' : 'PRODUCT_PRODUCTPHOTO_LargePhotoHexString',\n",
    "                                                                    'ThumbNailPhotoFileName' : 'PRODUCT_PRODUCTPHOTO_ThumbnailPhotoFileName',\n",
    "                                                                    'LargePhotoFileName' : 'PRODUCT_PRODUCTPHOTO_LargePhotoFileName',\n",
    "                                                                    'Description' : 'PRODUCT_PRODUCTDESCRIPTION_Desc',\n",
    "                                                                    'Primary' : 'PRODUCT_PRODUCTPRODUCTPHOTO_Primary',\n",
    "                                                                    'CatalogDescription' : 'PRODUCT_PRODUCTMODEL_CatalogDescription',\n",
    "                                                                    'Instructions' : 'PRODUCT_PRODUCTMODEL_Instructions',\n",
    "                                                                    'Diagram' : 'PRODUCT_ILLUSTRATION_Diagram',\n",
    "                                                                    'Name_x' : 'PRODUCT_PRODUCT_Name',\n",
    "                                                                    'ProductNumber' : 'PRODUCT_PRODUCT_Number',\n",
    "                                                                    'MakeFlag' : 'PRODUCT_PRODUCT_MakeFlag',\n",
    "                                                                    'FinishedGoodsFlag' : 'PRODUCT_PRODUCT_FinishedGoodsFlag',\n",
    "                                                                    'SafetyStockLevel' : 'PRODUCT_PRODUCT_SafetyStockLevel',\n",
    "                                                                    'ReorderPoint' : 'PRODUCT_PRODUCT_ReorderPoint',\n",
    "                                                                    'StandardCost' : 'PRODUCT_PRODUCT_StandardCost',\n",
    "                                                                    'ListPrice' : 'PRODUCT_PRODUCT_ListPrice',\n",
    "                                                                    'Size' : 'PRODUCT_PRODUCT_Size',\n",
    "                                                                    'Weight' : 'PRODUCT_PRODUCT_Weight',\n",
    "                                                                    'DaysToManufacture' : 'PRODUCT_PRODUCT_DaysToManufacture',\n",
    "                                                                    'ProductLine' : 'PRODUCT_PRODUCT_ProductLine',\n",
    "                                                                    'Class' : 'PRODUCT_PRODUCT_Class',\n",
    "                                                                    'Style' : 'PRODUCT_PRODUCT_Style',\n",
    "                                                                    'SellStartDate' : 'PRODUCT_PRODUCT_SellStartDate',\n",
    "                                                                    'SellEndDate' : 'PRODUCT_PRODUCT_SellEndDate',\n",
    "                                                                    'DiscontinuedDate' : 'PRODUCT_PRODUCT_DiscountedDate',\n",
    "                                                                    'Color' : 'PRODUCT_PRODUCT_Color',\n",
    "                                                                    }) \n",
    "\n",
    "# # applying the data types to the columns\n",
    "product_adventure_works['PRODUCT_PRODUCT_ID'] = product_adventure_works['PRODUCT_PRODUCT_ID'].astype(float) # casting to float seems counterintuitive but it is necessary to avoid an error in Pandas\n",
    "\n",
    "product_combined = pd.concat([product_adventure_works, product_aenc, product_northwind], ignore_index=True)\n",
    "\n",
    "product_combined"
   ]
  },
  {
   "cell_type": "markdown",
   "id": "def759487d0e6c71",
   "metadata": {},
   "source": [
    "## Loading the data into the UnitedOutdoors datawarehouse"
   ]
  },
  {
   "cell_type": "markdown",
   "id": "61db24396ee46e4a",
   "metadata": {},
   "source": [
    "### Date"
   ]
  },
  {
   "cell_type": "code",
   "execution_count": null,
   "id": "b3e30b2f98574881",
   "metadata": {
    "ExecuteTime": {
     "end_time": "2024-05-23T08:31:28.983985Z",
     "start_time": "2024-05-23T08:30:51.149361Z"
    }
   },
   "outputs": [],
   "source": [
    "date_dtypes = {\n",
    "    'DATE_ID': Integer,\n",
    "    'DATE_Date': DATE,\n",
    "    'DATE_Weekday': VARCHAR(10),\n",
    "    'DATE_WeekdayNum': Integer,\n",
    "    'DATE_DayMonth': Integer,\n",
    "    'DATE_DayOfYear': Integer,\n",
    "    'DATE_WeekOfYear': Integer,\n",
    "    'DATE_MonthNum': Integer,\n",
    "    'DATE_MonthName': VARCHAR(10),\n",
    "    'DATE_MonthNameShort': CHAR(10),\n",
    "    'DATE_Quarter': Integer,\n",
    "    'DATE_Year': Integer,\n",
    "    'DATE_FirstDayOfMonth': DATE,\n",
    "    'DATE_LastDayOfMonth': DATE,\n",
    "    'DATE_YYYYMM': CHAR(10),\n",
    "    'DATE_WeekendIndr': CHAR(15)\n",
    "}\n",
    "\n",
    "dummy_date = {\n",
    "    'DATE_ID': 18000101,\n",
    "    'DATE_Date': pd.Timestamp('1800-01-01'),\n",
    "    'DATE_Weekday': 'Wednesday',\n",
    "    'DATE_WeekdayNum': 1,\n",
    "    'DATE_DayMonth': 1,\n",
    "    'DATE_DayOfYear': 1,\n",
    "    'DATE_WeekOfYear': 1,\n",
    "    'DATE_MonthNum': 1,\n",
    "    'DATE_MonthName': 'January',\n",
    "    'DATE_MonthNameShort': 'Jan',\n",
    "    'DATE_Quarter': 1,\n",
    "    'DATE_Year': 1800,\n",
    "    'DATE_FirstDayOfMonth': pd.Timestamp('1800-01-01'),\n",
    "    'DATE_LastDayOfMonth': pd.Timestamp('1800-01-31'),\n",
    "    'DATE_YYYYMM': '1800-01',\n",
    "    'DATE_WeekendIndr': 'Weekend'\n",
    "}\n",
    "\n",
    "date_table = pd.concat([date_table,pd.DataFrame(dummy_date, index=[0])], ignore_index=True)\n",
    "\n",
    "prepare_and_insert(date_table, date_dtypes, 'Date', united_outdoors_engine)"
   ]
  },
  {
   "cell_type": "markdown",
   "id": "695ff2c0938b1534",
   "metadata": {},
   "source": [
    "### Time"
   ]
  },
  {
   "cell_type": "code",
   "execution_count": null,
   "id": "5021b7a221fbeadc",
   "metadata": {
    "ExecuteTime": {
     "end_time": "2024-05-23T08:31:31.431625Z",
     "start_time": "2024-05-23T08:31:28.996046Z"
    }
   },
   "outputs": [],
   "source": [
    "time_dtypes = {\n",
    "    'TIME_ID': Integer,\n",
    "    'TIME_Hour': Integer,\n",
    "    'TIME_Minute': Integer,\n",
    "    'TIME_HourMinute': VARCHAR(10),\n",
    "}\n",
    "\n",
    "prepare_and_insert(time_table, time_dtypes, 'Time', united_outdoors_engine)"
   ]
  },
  {
   "cell_type": "markdown",
   "id": "7a2fea0f",
   "metadata": {},
   "source": [
    "### Products"
   ]
  },
  {
   "cell_type": "code",
   "execution_count": null,
   "id": "4a84ad42",
   "metadata": {
    "ExecuteTime": {
     "end_time": "2024-05-23T08:32:23.016717Z",
     "start_time": "2024-05-23T08:31:31.449686Z"
    }
   },
   "outputs": [],
   "source": [
    "product_dtypes =  {\n",
    "    'PRODUCT_SK': Integer,\n",
    "    'PRODUCT_PRODUCT_ID': Integer,\n",
    "    'PRODUCT_UNITMEASURE_SIZE_ID': Integer,\n",
    "    'PRODUCT_UNITMEASURE_SIZE_ID': Integer,\n",
    "    'PRODUCT_PRODUCT_SubCategoryID': Integer,\n",
    "    'PRODUCT_PRODUCTSUBCATEGORY_CategoryID': Integer,\n",
    "    'PRODUCT_PRODUCT_ModelID': Integer,\n",
    "    'PRODUCT_PRODUCTMODELILLUSTRATION_IllustrationID': Integer,\n",
    "    'PRODUCT_PRODUCTPRODUCTPHOTO_PhotoID': Integer,\n",
    "    'PRODUCT_PMPDC_DescriptionID': Integer,\n",
    "    'PRODUCT_PMPDC_CultureID': Integer,\n",
    "    'PRODUCT_PRODUCT_Name': VARCHAR(150),\n",
    "    'PRODUCT_PRODUCT_Number': VARCHAR(25),\n",
    "    'PRODUCT_PRODUCT_MakeFlag': Integer,\n",
    "    'PRODUCT_PRODUCT_FinishedGoodsFlag': Integer,\n",
    "    'PRODUCT_PRODUCT_Color': VARCHAR(25),\n",
    "    'PRODUCT_PRODUCT_SafetyStockLevel': Integer,\n",
    "    'PRODUCT_PRODUCT_ReorderPoint': Integer,\n",
    "    'PRODUCT_PRODUCT_ReorderLevel': Integer,\n",
    "    'PRODUCT_PRODUCT_StandardCost': DECIMAL(8, 4),\n",
    "    'PRODUCT_PRODUCT_UnitPrice': DECIMAL(19, 4),\n",
    "    'PRODUCT_PRODUCT_ListPrice': DECIMAL(19, 4),\n",
    "    'PRODUCT_PRODUCT_Size': VARCHAR(50),\n",
    "    'PRODUCT_Color': VARCHAR(50),\n",
    "    'PRODUCT_PRODUCT_Weight': DECIMAL(8, 2),\n",
    "    'PRODUCT_PRODUCT_DaysToManufacture': Integer,\n",
    "    'PRODUCT_PRODUCT_ProductLine': VARCHAR(10),\n",
    "    'PRODUCT_PRODUCT_Class': VARCHAR(10),\n",
    "    'PRODUCT_PRODUCT_Style': VARCHAR(10),\n",
    "    'PRODUCT_PRODUCTSUBCATEGORY_SubCategory': VARCHAR(50),\n",
    "    'PRODUCT_PRODUCTCATEGORY_Category': VARCHAR(50),\n",
    "    'PRODUCT_CATEGORY_Picture': LargeBinary,\n",
    "    'PRODUCT_PRODUCTMODEL_Name': VARCHAR(100),\n",
    "    'PRODUCT_PRODUCTMODEL_CatalogDescription': XML,\n",
    "    'PRODUCT_PRODUCTMODEL_Instructions': XML,\n",
    "    'PRODUCT_ILLUSTRATION_Diagram': XML,\n",
    "    'PRODUCT_CULTURE_Name': VARCHAR(50),\n",
    "    'PRODUCT_PRODUCTDESCRIPTION_Desc': NVARCHAR,\n",
    "    'PRODUCT_PRODUCTPRODUCTPHOTO_Primary': Integer,\n",
    "    'PRODUCT_PRODUCTPHOTO_ThumbnailPhoto': LargeBinary,\n",
    "    'PRODUCT_PRODUCTPHOTO_ThumbnailPhotoHexString': NVARCHAR,\n",
    "    'PRODUCT_PRODUCTPHOTO_ThumbnailPhotoFileName': VARCHAR(50),\n",
    "    'PRODUCT_PRODUCTPHOTO_LargePhoto': LargeBinary,\n",
    "    'PRODUCT_PRODUCTPHOTO_LargePhotoHexString': NVARCHAR,\n",
    "    'PRODUCT_PRODUCTPHOTO_LargePhotoFileName': VARCHAR(50),\n",
    "    'PRODUCT_PRODUCT_SellStartDate': DATE,\n",
    "    'PRODUCT_DATE_SellStartDateFK': Integer,\n",
    "    'PRODUCT_PRODUCT_SellEndDate': DATE,\n",
    "    'PRODUCT_DATE_SellEndDateFK': Integer,\n",
    "    'PRODUCT_PRODUCT_DiscountedDate': DATE,\n",
    "    'PRODUCT_DATE_DiscountedDateFK': Integer,\n",
    "    'PRODUCT_PRODUCT_Discontinued': Integer\n",
    "}\n",
    "\n",
    "products_nk_sk_dict = prepare_and_insert_return_sk(product_combined, product_dtypes, 'Product', united_outdoors_engine, 'PRODUCT_PRODUCT_ID')"
   ]
  },
  {
   "cell_type": "markdown",
   "id": "146ce6de",
   "metadata": {},
   "source": [
    "### BillOfMaterial"
   ]
  },
  {
   "cell_type": "code",
   "execution_count": null,
   "id": "2815d3e9",
   "metadata": {
    "ExecuteTime": {
     "end_time": "2024-05-23T08:32:26.433149Z",
     "start_time": "2024-05-23T08:32:23.018825Z"
    }
   },
   "outputs": [],
   "source": [
    "billofmaterial_dtypes = {\n",
    "    'BILLOFMATERIAL_BILLOFMATERIAL_BillOfMaterialID': Integer,\n",
    "    'BILLOFMATERIAL_BILLOFMATERIAL_ProductAssemblyID': Integer,\n",
    "    'BILLOFMATERIAL_BILLOFMATERIAL_ComponentID': Integer,\n",
    "    'BILLOFMATERIAL_BILLOFMATERIAL_StartDate': DATE,\n",
    "    'BILLOFMATERIAL_BILLOFMATERIAL_EndDate': DATE,\n",
    "    'BILLOFMATERIAL_UNITMEASURE_ID': Integer,\n",
    "    'BILLOFMATERIAL_BILLOFMATERIAL_BOMLevel': Integer,\n",
    "    'BILLOFMATERIAL_BILLOFMATERIAL_PerAssemblyQty': DECIMAL(8,2),\n",
    "}\n",
    "\n",
    "prepare_and_insert(billofmaterials, billofmaterial_dtypes, \"BillOfMaterial\", united_outdoors_engine)"
   ]
  },
  {
   "cell_type": "markdown",
   "id": "31ff9eed",
   "metadata": {},
   "source": [
    "### UnitMeasure"
   ]
  },
  {
   "cell_type": "code",
   "execution_count": null,
   "id": "fe6aa191",
   "metadata": {
    "ExecuteTime": {
     "end_time": "2024-05-23T08:32:26.478083Z",
     "start_time": "2024-05-23T08:32:26.434313Z"
    }
   },
   "outputs": [],
   "source": [
    "unit_measure_dtypes = {\n",
    "    'UNITMEASURE_ID' : VARCHAR(10),\n",
    "    'UNITMEASURE_NAME' : VARCHAR(50)\n",
    "}\n",
    "\n",
    "prepare_and_insert(unit_measure, unit_measure_dtypes, \"UnitMeasure\", united_outdoors_engine)"
   ]
  },
  {
   "cell_type": "markdown",
   "id": "87c11892",
   "metadata": {},
   "source": [
    "### Document"
   ]
  },
  {
   "cell_type": "code",
   "execution_count": null,
   "id": "455e8f36",
   "metadata": {
    "ExecuteTime": {
     "end_time": "2024-05-23T08:32:26.687364Z",
     "start_time": "2024-05-23T08:32:26.479230Z"
    }
   },
   "outputs": [],
   "source": [
    "document_dtypes = {\n",
    "    'DOCUMENT_DOCUMENT_DocumentNode': NVARCHAR,\n",
    "    'DOCUMENT_DOCUMENT_DocumentLevel': Integer,\n",
    "    'DOCUMENT_DOCUMENT_Title': NVARCHAR(50),\n",
    "    'DOCUMENT_DOCUMENT_Owner': Integer,\n",
    "    'DOCUMENT_DOCUMENT_FolderFlag': BIT,\n",
    "    'DOCUMENT_DOCUMENT_FileName': NVARCHAR(400),\n",
    "    'DOCUMENT_DOCUMENT_FileExtension': NVARCHAR(8),\n",
    "    'DOCUMENT_DOCUMENT_Revision': CHAR(5),\n",
    "    'DOCUMENT_DOCUMENT_ChangeNumber': Integer,\n",
    "    'DOCUMENT_DOCUMENT_Status': Integer,\n",
    "    'DOCUMENT_DOCUMENT_DocumentSummary': NVARCHAR,\n",
    "    'DOCUMENT_DOCUMENT_Document': LargeBinary,\n",
    "    'DOCUMENT_PRODUCTDOCUMENT_ProductID': Integer,\n",
    "}\n",
    "\n",
    "prepare_and_insert(documents, document_dtypes, \"Document\", united_outdoors_engine, {'DOCUMENT_PRODUCTDOCUMENT_ProductID': products_nk_sk_dict})"
   ]
  },
  {
   "cell_type": "markdown",
   "id": "1891b9ff",
   "metadata": {},
   "source": [
    "### WorkOrder"
   ]
  },
  {
   "cell_type": "code",
   "execution_count": null,
   "id": "1f920f05",
   "metadata": {
    "ExecuteTime": {
     "end_time": "2024-05-23T08:32:27.365236Z",
     "start_time": "2024-05-23T08:32:26.688500Z"
    }
   },
   "outputs": [],
   "source": [
    "workorder_dtypes = {\n",
    "    'WORKORDER_WORKORDER_WorkOrderID': Integer,\n",
    "    'WORKORDER_WORKORDER_ProductID': Integer,\n",
    "    'WORKORDER_WORKORDER_OrderQty': Integer,\n",
    "    'WORKORDER_WORKORDER_StockedQty': Integer,\n",
    "    'WORKORDER_WORKORDER_ScrappedQty': Integer,\n",
    "    'WORKORDER_WORKORDER_StartDate': DATE,\n",
    "    'WORKORDER_WORKORDER_EndDate': DATE,\n",
    "    'WORKORDER_WORKORDER_DueDate': DATE,\n",
    "    'WORKORDER_WORKORDER_ScrapReasonID': Integer,\n",
    "    'WORKORDER_WORKORDERINGROUTING_ProductID': Integer,\n",
    "    'WORKORDER_WORKORDERINGROUTING_OperationSequence': Integer,\n",
    "    'WORKORDER_WORKORDERINGROUTING_LocationID': Integer,\n",
    "    'WORKORDER_WORKORDERINGROUTING_ScheduledStartDate': DATE,\n",
    "    'WORKORDER_WORKORDERINGROUTING_ScheduledEndDate': DATE,\n",
    "    'WORKORDER_WORKORDERINGROUTING_ActualStartDate': DATE,\n",
    "    'WORKORDER_WORKORDERINGROUTING_ActualEndDate': DATE,\n",
    "    'WORKORDER_WORKORDERINGROUTING_ActualResourcesHrs': DECIMAL(9,4),\n",
    "    'WORKORDER_WORKORDERINGROUTING_PlannedCost': MONEY,\n",
    "    'WORKORDER_WORKORDERINGROUTING_ActualCost': MONEY,\n",
    "    'WORKORDER_SCRAPREASON_ScrapReasonID': Integer,\n",
    "    'WORKORDER_SCRAPREASON_Name': NVARCHAR(50)\n",
    "}\n",
    "\n",
    "prepare_and_insert(workorders, workorder_dtypes, \"WorkOrder\", united_outdoors_engine, {'WORKORDER_WORKORDER_ProductID': products_nk_sk_dict})"
   ]
  },
  {
   "cell_type": "markdown",
   "id": "3f3139bd023f535",
   "metadata": {},
   "source": [
    "### Departments"
   ]
  },
  {
   "cell_type": "code",
   "execution_count": null,
   "id": "d2fa80a01c2d42c",
   "metadata": {
    "ExecuteTime": {
     "end_time": "2024-05-23T08:32:27.422511Z",
     "start_time": "2024-05-23T08:32:27.366307Z"
    }
   },
   "outputs": [],
   "source": [
    "departments_dtypes = {\n",
    "    'DEPARTMENT_DEPARTMENT_DeptID': Integer,\n",
    "    'DEPARTMENT_DEPARTMENT_DeptName': String(100),\n",
    "    'DEPARTMENT_DEPARTMENT_GroupName': String(100),\n",
    "    'DEPARTMENT_DEPARTMENT_DeptHeadID': Integer,\n",
    "    'DEPARTMENT_source_database': String(100)\n",
    "}\n",
    "\n",
    "departments_nk_sk_dict = prepare_and_insert_return_sk(departments, departments_dtypes, 'Department', united_outdoors_engine, 'DEPARTMENT_DEPARTMENT_DeptID')"
   ]
  },
  {
   "cell_type": "markdown",
   "id": "15016c8f",
   "metadata": {},
   "source": [
    "### Employees"
   ]
  },
  {
   "cell_type": "code",
   "execution_count": null,
   "id": "62074680",
   "metadata": {
    "ExecuteTime": {
     "end_time": "2024-05-23T08:32:37.853833Z",
     "start_time": "2024-05-23T08:32:27.423601Z"
    }
   },
   "outputs": [],
   "source": [
    "employees_dtypes = {\n",
    "    'EMPLOYEE_EMPLOYEE_EmployeeID': Integer,\n",
    "    'EMPLOYEE_EMPLOYEE_NationalIDNumber': NVARCHAR(15),\n",
    "    'EMPLOYEE_EMPLOYEE_LoginID': NVARCHAR(256),\n",
    "    'EMPLOYEE_EMPLOYEE_OrganizationNode': NVARCHAR,\n",
    "    'EMPLOYEE_EMPLOYEE_OrganizationLevel': Integer,\n",
    "    'EMPLOYEE_EMPLOYEE_JobTitle': NVARCHAR(50),\n",
    "    'EMPLOYEE_EMPLOYEE_BirthDate': DATE,\n",
    "    'EMPLOYEE_EMPLOYEE_MaritalStatus': CHAR(1),\n",
    "    'EMPLOYEE_EMPLOYEE_Gender': CHAR(1),\n",
    "    'EMPLOYEE_EMPLOYEE_HireDate': DATE,\n",
    "    'EMPLOYEE_EMPLOYEE_SalariedFlag': BIT,\n",
    "    'EMPLOYEE_EMPLOYEE_VacationHours': Integer,\n",
    "    'EMPLOYEE_EMPLOYEE_SickLeaveHours': Integer,\n",
    "    'EMPLOYEE_EMPLOYEE_CurrentFlag': BIT,\n",
    "    'EMPLOYEE_EMPLOYEES_LastName': NVARCHAR(255),\n",
    "    'EMPLOYEE_EMPLOYEES_FirstName': NVARCHAR(255),\n",
    "    'EMPLOYEE_EMPLOYEES_Title': NVARCHAR(30),\n",
    "    'EMPLOYEE_EMPLOYEES_TitleOfCourtesy': NVARCHAR(25),\n",
    "    'EMPLOYEE_EMPLOYEES_Address': NVARCHAR(60),\n",
    "    'EMPLOYEE_EMPLOYEES_City': NVARCHAR(20),\n",
    "    'EMPLOYEE_EMPLOYEES_Region': NVARCHAR(15),\n",
    "    'EMPLOYEE_EMPLOYEES_PostalCode': NVARCHAR(10),\n",
    "    'EMPLOYEE_EMPLOYEES_Country': NVARCHAR(50),\n",
    "    'EMPLOYEE_EMPLOYEES_HomePhone': NVARCHAR(24),\n",
    "    'EMPLOYEE_EMPLOYEES_Extension': NVARCHAR(4),\n",
    "    'EMPLOYEE_EMPLOYEES_Photo': LargeBinary,\n",
    "    'EMPLOYEE_EMPLOYEES_Notes': String,\n",
    "    'EMPLOYEE_EMPLOYEES_ReportsTo': Integer,\n",
    "    'EMPLOYEE_EMPLOYEES_PhotoPath': NVARCHAR(255),\n",
    "    'EMPLOYEE_EMPLOYEES_TerritoryID': Integer,\n",
    "    'EMPLOYEE_EMPLOYEE_ManagerID': Integer,\n",
    "    'EMPLOYEE_EMPLOYEE_DeptID': Integer,\n",
    "    'EMPLOYEE_EMPLOYEE_Street': NVARCHAR(150),\n",
    "    'EMPLOYEE_EMPLOYEE_State': CHAR(2),\n",
    "    'EMPLOYEE_EMPLOYEE_Phone': NVARCHAR(50),\n",
    "    'EMPLOYEE_EMPLOYEE_Status': CHAR(1),\n",
    "    'EMPLOYEE_EMPLOYEE_SS_Number': NVARCHAR(50),\n",
    "    'EMPLOYEE_EMPLOYEE_Salary': MONEY,\n",
    "    'EMPLOYEE_EMPLOYEE_Start_Date': DATE,\n",
    "    'EMPLOYEE_EMPLOYEE_Termination': DATE,\n",
    "    'EMPLOYEE_EMPLOYEE_Bene_Health_Ins': CHAR(1),\n",
    "    'EMPLOYEE_EMPLOYEE_Bene_Life_Ins': CHAR(1),\n",
    "    'EMPLOYEE_EMPLOYEE_Bene_Day_Care': CHAR(1),\n",
    "    'EMPLOYEE_EMPLOYEE_Sex': CHAR(1),\n",
    "    'EMPLOYEE_BONUS_BonusID': Integer,\n",
    "    'EMPLOYEE_BONUS_Bonus_Date': DATE,\n",
    "    'EMPLOYEE_BONUS_Bonus_Amount': Integer\n",
    "}\n",
    "\n",
    "# TODO make manager id reference the employee sk\n",
    "employees_nk_sk_dict = prepare_and_insert_return_sk(employees, employees_dtypes, 'Employee', united_outdoors_engine, 'EMPLOYEE_EMPLOYEE_EmployeeID', { 'EMPLOYEE_EMPLOYEE_DeptID': departments_nk_sk_dict, 'EMPLOYEE_EMPLOYEE_ManagerID' : {}})"
   ]
  },
  {
   "cell_type": "markdown",
   "id": "8809263e",
   "metadata": {},
   "source": [
    "### Updating the Department table"
   ]
  },
  {
   "cell_type": "code",
   "execution_count": null,
   "id": "df1d1f85",
   "metadata": {
    "ExecuteTime": {
     "end_time": "2024-05-23T08:32:37.887431Z",
     "start_time": "2024-05-23T08:32:37.855843Z"
    }
   },
   "outputs": [],
   "source": [
    "prepare_and_update('Department', united_outdoors_engine, {'DEPARTMENT_DEPARTMENT_DeptHeadID': employees_nk_sk_dict})"
   ]
  },
  {
   "cell_type": "markdown",
   "id": "7f4a7061f4f0105c",
   "metadata": {},
   "source": [
    "### BusinessEntities"
   ]
  },
  {
   "cell_type": "code",
   "execution_count": null,
   "id": "a3d497d845c8eda2",
   "metadata": {
    "ExecuteTime": {
     "end_time": "2024-05-23T08:32:58.691230Z",
     "start_time": "2024-05-23T08:32:37.888441Z"
    }
   },
   "outputs": [],
   "source": [
    "businessentities_dtypes = {\n",
    "    'BUSINESSENTITY_BUSINESSENTITY_BusinessEntityID': Integer,\n",
    "    'BUSINESSENTITY_BUSINESSENTITYCONTACT_PersonID': Integer,\n",
    "    'BUSINESSENTITY_CONTACTTYPE_ContactTypeID': Integer,\n",
    "    'BUSINESSENTITY_CONTACTTYPE_Name': String(100)\n",
    "}\n",
    "\n",
    "businessentities_nk_sk_dict = prepare_and_insert_return_sk(businessentities, businessentities_dtypes, 'BusinessEntity',united_outdoors_engine, 'BUSINESSENTITY_BUSINESSENTITY_BusinessEntityID')"
   ]
  },
  {
   "cell_type": "markdown",
   "id": "aecb5657d108d5ac",
   "metadata": {},
   "source": [
    "### People"
   ]
  },
  {
   "cell_type": "code",
   "execution_count": null,
   "id": "11d58a830e84bcf6",
   "metadata": {
    "ExecuteTime": {
     "end_time": "2024-05-23T08:34:16.657823Z",
     "start_time": "2024-05-23T08:32:58.694257Z"
    }
   },
   "outputs": [],
   "source": [
    "people_dtypes = {\n",
    "    'PERSON_PERSON_BusinessEntityID': Integer,\n",
    "    'PERSON_PERSON_PersonType': String(2),\n",
    "    'PERSON_PERSON_NameStyle': BIT,\n",
    "    'PERSON_PERSON_Title': String(100),\n",
    "    'PERSON_PERSON_FirstName': String(100),\n",
    "    'PERSON_PERSON_MiddleName': String(100),\n",
    "    'PERSON_PERSON_LastName': String(100),\n",
    "    'PERSON_PERSON_Suffix': String(100),\n",
    "    'PERSON_PERSON_EmailPromotion': Integer,\n",
    "    'PERSON_PERSON_AdditionalContactInfo': XML,\n",
    "    'PERSON_PERSON_Demographics': XML,\n",
    "    'PERSON_PERSONPHONE_PhoneNumber': String(100),\n",
    "    'PERSON_PHONENUMBERTYPE_PhoneNumberTypeID': Integer,\n",
    "    'PERSON_PHONENUMBERTYPE_Name': String(100),\n",
    "    'PERSON_EMAILADDRESS_EmailAddressID': Integer,\n",
    "    'PERSON_EMAILADDRESS_EmailAddress': String(100),\n",
    "    'PERSON_PASSWORD_PasswordHash': LargeBinary,\n",
    "    'PERSON_PASSWORD_PasswordSalt': LargeBinary\n",
    "}\n",
    "\n",
    "# Convert the 'PERSON_PASSWORD_PasswordHash' and 'PERSON_PASSWORD_PasswordSalt' columns to bytes\n",
    "people['PERSON_PASSWORD_PasswordHash'] = people['PERSON_PASSWORD_PasswordHash'].apply(lambda x: x.encode('utf-8') if isinstance(x, str) else x)\n",
    "people['PERSON_PASSWORD_PasswordSalt'] = people['PERSON_PASSWORD_PasswordSalt'].apply(lambda x: x.encode('utf-8') if isinstance(x, str) else x)\n",
    "\n",
    "prepare_and_insert(people, people_dtypes, 'Person',united_outdoors_engine, { 'PERSON_PERSON_BusinessEntityID' : businessentities_nk_sk_dict})"
   ]
  },
  {
   "cell_type": "markdown",
   "id": "11006cc84f78e74b",
   "metadata": {},
   "source": [
    "### Updating the BusinessEntity table\n",
    "replacing the natural keys with the surrogate keys for the PersonID column"
   ]
  },
  {
   "cell_type": "code",
   "execution_count": null,
   "id": "b3d0989f3e6c628e",
   "metadata": {
    "ExecuteTime": {
     "end_time": "2024-05-23T08:36:25.388963Z",
     "start_time": "2024-05-23T08:34:16.660839Z"
    }
   },
   "outputs": [],
   "source": [
    "prepare_and_update('BusinessEntity', united_outdoors_engine, { 'BUSINESSENTITY_BUSINESSENTITYCONTACT_PersonID' : businessentities_nk_sk_dict})"
   ]
  },
  {
   "cell_type": "markdown",
   "id": "7223080398f508ea",
   "metadata": {},
   "source": [
    "### Territory"
   ]
  },
  {
   "cell_type": "code",
   "execution_count": null,
   "id": "5b64bcd99e193db5",
   "metadata": {
    "ExecuteTime": {
     "end_time": "2024-05-23T08:36:25.952614Z",
     "start_time": "2024-05-23T08:36:25.389987Z"
    }
   },
   "outputs": [],
   "source": [
    "territories_dtypes = {\n",
    "    'TERRITORY_REGION_RegionID': Integer,\n",
    "    'TERRITORY_REGION_RegionDescription': String,\n",
    "    'TERRITORY_TERRITORIES_TerritoryID': Integer,\n",
    "    'TERRITORY_TERRITORIES_TerritoryDescription': String,\n",
    "    'TERRITORY_REGION_Region': NVARCHAR(50),\n",
    "    'TERRITORY_STATE_StateID': NVARCHAR(10),\n",
    "    'TERRITORY_STATE_StateName': NVARCHAR(100),\n",
    "    'TERRITORY_STATE_StateCapital': NVARCHAR(50),\n",
    "    'TERRITORY_STATE_Country': NVARCHAR(50),\n",
    "    'TERRITORY_COUNTRYREGION_CountryRegionCode': NVARCHAR(10),\n",
    "    'TERRITORY_COUNTRYREGION_Name': NVARCHAR(100),\n",
    "    'TERRITORY_STATEPROVINCE_StateProvinceID': Integer,\n",
    "    'TERRITORY_STATEPROVINCE_StateProvinceCode': NVARCHAR(10),\n",
    "    'TERRITORY_STATEPROVINCE_IsOnlyStateProvinceFlag': CHAR(1),\n",
    "    'TERRITORY_STATEPROVINCE_Name': NVARCHAR(100),\n",
    "    'TERRITORY_SALESTAXRATE_SalesTaxRateID': Integer,\n",
    "    'TERRITORY_SALESTAXRATE_TaxType': NVARCHAR(50),\n",
    "    'TERRITORY_SALESTAXRATE_TaxRate': DECIMAL(8,2),\n",
    "    'TERRITORY_SALESTAXRATE_Name': NVARCHAR(150)\n",
    "}\n",
    "\n",
    "territories_nk_sk_dict = prepare_and_insert_return_sk(territories, territories_dtypes, 'Territory', united_outdoors_engine, 'TERRITORY_REGION_RegionID')"
   ]
  },
  {
   "cell_type": "markdown",
   "id": "d2114350a545ae1c",
   "metadata": {},
   "source": [
    "### BusinessEntityAddresses"
   ]
  },
  {
   "cell_type": "code",
   "execution_count": null,
   "id": "45e9b08d3f43e42c",
   "metadata": {
    "ExecuteTime": {
     "end_time": "2024-05-23T08:36:50.138879Z",
     "start_time": "2024-05-23T08:36:25.954636Z"
    }
   },
   "outputs": [],
   "source": [
    "businessentityaddresses_dtypes = {\n",
    "    'BUSINESSENTITYADDRESS_BUSINESSENTITYADDRESS_BusinessEntityID': Integer,\n",
    "    'BUSINESSENTITYADDRESS_ADDRESSTYPE_AddressTypeID': Integer,\n",
    "    'BUSINESSENTITYADDRESS_ADDRESSTYPE_Name': String(100),\n",
    "    'BUSINESSENTITYADDRESS_ADDRESS_AddressID': Integer,\n",
    "    'BUSINESSENTITYADDRESS_ADDRESS_AddressLine1': String(100),\n",
    "    'BUSINESSENTITYADDRESS_ADDRESS_AddressLine2': String(100),\n",
    "    'BUSINESSENTITYADDRESS_ADDRESS_City': String(100),\n",
    "    'BUSINESSENTITYADDRESS_ADDRESS_POSTALCODE': String(100),\n",
    "    'BUSINESSENTITYADDRESS_ADDRESS_SpatialLocation': VARCHAR,\n",
    "    'BUSINESSENTITYADDRESS_ADDRESS_StateProvinceID': Integer\n",
    "}\n",
    "\n",
    "prepare_and_insert(businessentityaddresses, businessentityaddresses_dtypes, 'BusinessEntityAddress',united_outdoors_engine, { 'BUSINESSENTITYADDRESS_BUSINESSENTITYADDRESS_BusinessEntityID' : businessentities_nk_sk_dict, 'BUSINESSENTITYADDRESS_ADDRESS_StateProvinceID' : territories_nk_sk_dict})"
   ]
  },
  {
   "cell_type": "markdown",
   "id": "1a717674",
   "metadata": {},
   "source": [
    "### Inventory"
   ]
  },
  {
   "cell_type": "code",
   "execution_count": null,
   "id": "067764da",
   "metadata": {
    "ExecuteTime": {
     "end_time": "2024-05-23T08:36:50.651661Z",
     "start_time": "2024-05-23T08:36:50.139541Z"
    }
   },
   "outputs": [],
   "source": [
    "inventory_dtypes =  {\n",
    "    'INVENTORY_sk' : Integer,\n",
    "    'INVENTORY_PRODUCT_ID' : Integer,\n",
    "    'INVENTORY_LOCATION_ID' : Integer,\n",
    "    'INVENTORY_Shelf' : VARCHAR(5),\n",
    "    'INVENTORY_Bin' : Integer,\n",
    "    'INVENTORY_Quantity' : Integer,\n",
    "}\n",
    "\n",
    "prepare_and_insert(inventory_combined, inventory_dtypes, 'Inventory', united_outdoors_engine)"
   ]
  },
  {
   "cell_type": "markdown",
   "id": "4c20670d",
   "metadata": {},
   "source": [
    "### JobCandidate"
   ]
  },
  {
   "cell_type": "code",
   "execution_count": null,
   "id": "e8e667b4",
   "metadata": {
    "ExecuteTime": {
     "end_time": "2024-05-23T08:36:51.843126Z",
     "start_time": "2024-05-23T08:36:50.652665Z"
    }
   },
   "outputs": [],
   "source": [
    "jobcandidates_dtypes = {\n",
    "    'JOBCANDIDATE_JOBCANDIDATE_JobCandidateID': Integer,\n",
    "    'JOBCANDIDATE_JOBCANDIDATE_BusinessEntityID': Integer,\n",
    "    'JOBCANDIDATE_JOBCANDIDATE_Resume': XML\n",
    "}\n",
    "\n",
    "prepare_and_insert(jobcandidates, jobcandidates_dtypes, 'JobCandidate',united_outdoors_engine, { 'JOBCANDIDATE_JOBCANDIDATE_BusinessEntityID' : businessentities_nk_sk_dict})"
   ]
  },
  {
   "cell_type": "markdown",
   "id": "6fd7641e772dbeff",
   "metadata": {},
   "source": [
    "### Shift"
   ]
  },
  {
   "cell_type": "code",
   "execution_count": null,
   "id": "190aded3b56df542",
   "metadata": {
    "ExecuteTime": {
     "end_time": "2024-05-23T08:36:51.897121Z",
     "start_time": "2024-05-23T08:36:51.844295Z"
    }
   },
   "outputs": [],
   "source": [
    "shifts_dtypes = {\n",
    "    'SHIFT_SHIFT_ShiftID': Integer,\n",
    "    'SHIFT_SHIFT_Name': String(100),\n",
    "    'SHIFT_SHIFT_StartTime': TIME,\n",
    "    'SHIFT_SHIFT_EndTime': TIME\n",
    "}\n",
    "\n",
    "shifts_nk_sk_dict = prepare_and_insert_return_sk(shifts, shifts_dtypes, 'Shift', united_outdoors_engine, 'SHIFT_SHIFT_ShiftID')"
   ]
  },
  {
   "cell_type": "markdown",
   "id": "7d340d78",
   "metadata": {},
   "source": [
    "### EmployeeDepartmentHistory"
   ]
  },
  {
   "cell_type": "code",
   "execution_count": null,
   "id": "da96eb92",
   "metadata": {
    "ExecuteTime": {
     "end_time": "2024-05-23T08:36:53.273908Z",
     "start_time": "2024-05-23T08:36:51.897121Z"
    }
   },
   "outputs": [],
   "source": [
    "employeedepartmenthistories_dtypes = {\n",
    "    'EMPLOYEEDEPARTMENTHISTORY_EMPLOYEEDEPARTMENTHISTORY_BusinessEntityID': Integer,\n",
    "    'EMPLOYEEDEPARTMENTHISTORY_EMPLOYEEDEPARTMENTHISTORY_DepartmentID': Integer,\n",
    "    'EMPLOYEEDEPARTMENTHISTORY_EMPLOYEEDEPARTMENTHISTORY_ShiftID': Integer,\n",
    "    'EMPLOYEEDEPARTMENTHISTORY_EMPLOYEEDEPARTMENTHISTORY_StartDate': DATE,\n",
    "    'EMPLOYEEDEPARTMENTHISTORY_EMPLOYEEDEPARTMENTHISTORY_EndDate': DATE\n",
    "}\n",
    "\n",
    "prepare_and_insert(employeedepartmenthistories, employeedepartmenthistories_dtypes, 'EmployeeDepartmentHistory',united_outdoors_engine, { 'EMPLOYEEDEPARTMENTHISTORY_EMPLOYEEDEPARTMENTHISTORY_BusinessEntityID' : businessentities_nk_sk_dict, 'EMPLOYEEDEPARTMENTHISTORY_EMPLOYEEDEPARTMENTHISTORY_DepartmentID' : departments_nk_sk_dict, 'EMPLOYEEDEPARTMENTHISTORY_EMPLOYEEDEPARTMENTHISTORY_ShiftID' : shifts_nk_sk_dict})"
   ]
  },
  {
   "cell_type": "markdown",
   "id": "65e4fcbe",
   "metadata": {},
   "source": [
    "### EmployeePayHistory"
   ]
  },
  {
   "cell_type": "code",
   "execution_count": null,
   "id": "0bc8c854",
   "metadata": {
    "ExecuteTime": {
     "end_time": "2024-05-23T08:36:54.670293Z",
     "start_time": "2024-05-23T08:36:53.274916Z"
    }
   },
   "outputs": [],
   "source": [
    "employeepayhistories_dtypes = {\n",
    "    'EMPLOYEEPAYHISTORY_EMPLOYEEPAYHISTORY_BusinessEntityID': Integer,\n",
    "    'EMPLOYEEPAYHISTORY_EMPLOYEEPAYHISTORY_RateChangeDate': DATE,\n",
    "    'EMPLOYEEPAYHISTORY_EMPLOYEEPAYHISTORY_Rate': MONEY,\n",
    "    'EMPLOYEEPAYHISTORY_EMPLOYEEPAYHISTORY_PayFrequency': Integer\n",
    "}\n",
    "\n",
    "prepare_and_insert(employeepayhistories, employeepayhistories_dtypes, 'EmployeePayHistory',united_outdoors_engine, { 'EMPLOYEEPAYHISTORY_EMPLOYEEPAYHISTORY_BusinessEntityID' : businessentities_nk_sk_dict})"
   ]
  },
  {
   "cell_type": "markdown",
   "id": "443ce778",
   "metadata": {},
   "source": [
    "### SalesPerson"
   ]
  },
  {
   "cell_type": "code",
   "execution_count": null,
   "id": "bfdc9472",
   "metadata": {
    "ExecuteTime": {
     "end_time": "2024-05-23T08:36:55.941695Z",
     "start_time": "2024-05-23T08:36:54.671330Z"
    }
   },
   "outputs": [],
   "source": [
    "salespeople_dtypes = {\n",
    "    'SALESPERSON_SALESPERSON_BusinessEntityID': Integer,\n",
    "    'SALESPERSON_SALESPERSON_TerritoryID': Integer,\n",
    "    'SALESPERSON_SALESPERSON_SalesQuota': MONEY,\n",
    "    'SALESPERSON_SALESPERSON_Bonus': MONEY,\n",
    "    'SALESPERSON_SALESPERSON_CommissionPct': DECIMAL(8,4),\n",
    "    'SALESPERSON_SALESPERSON_SalesYTD': MONEY,\n",
    "    'SALESPERSON_SALESPERSON_SalesLastYear': MONEY\n",
    "}\n",
    "\n",
    "salespeople_nk_sk_dict = prepare_and_insert_return_sk(salespeople, salespeople_dtypes, 'SalesPerson', united_outdoors_engine, 'SALESPERSON_SALESPERSON_BusinessEntityID', { 'SALESPERSON_SALESPERSON_BusinessEntityID' : businessentities_nk_sk_dict, 'SALESPERSON_SALESPERSON_TerritoryID' : territories_nk_sk_dict})"
   ]
  },
  {
   "cell_type": "markdown",
   "id": "45530695",
   "metadata": {},
   "source": [
    "### ProductVendor"
   ]
  },
  {
   "cell_type": "code",
   "execution_count": null,
   "id": "90066728",
   "metadata": {
    "ExecuteTime": {
     "end_time": "2024-05-23T08:36:57.647164Z",
     "start_time": "2024-05-23T08:36:55.942712Z"
    }
   },
   "outputs": [],
   "source": [
    "productvendors_dtypes = {\n",
    "    'PRODUCTVENDOR_PRODUCTVENDOR_ProductID': Integer,\n",
    "    'PRODUCTVENDOR_PRODUCTVENDOR_BusinessEntityID': Integer,\n",
    "    'PRODUCTVENDOR_PRODUCTVENDOR_AverageLeadTime': Integer,\n",
    "    'PRODUCTVENDOR_PRODUCTVENDOR_StandardPrice': MONEY,\n",
    "    'PRODUCTVENDOR_PRODUCTVENDOR_LastReceiptCost': MONEY,\n",
    "    'PRODUCTVENDOR_PRODUCTVENDOR_LastReceiptDate': DATE,\n",
    "    'PRODUCTVENDOR_PRODUCTVENDOR_MinOrderQty': Integer,\n",
    "    'PRODUCTVENDOR_PRODUCTVENDOR_MaxOrderQty': Integer,\n",
    "    'PRODUCTVENDOR_PRODUCTVENDOR_OnOrderQty': Integer,\n",
    "    'PRODUCTVENDOR_PRODUCTVENDOR_UnitMeasureCode': CHAR(3)\n",
    "}\n",
    "\n",
    "# TODO unitmeasure, but its currently merged at two places (not allowed)\n",
    "\n",
    "prepare_and_insert(productvendors, productvendors_dtypes, 'ProductVendor', united_outdoors_engine, { 'PRODUCTVENDOR_PRODUCTVENDOR_ProductID' : products_nk_sk_dict, 'PRODUCTVENDOR_PRODUCTVENDOR_BusinessEntityID' : businessentities_nk_sk_dict, 'PRODUCTVENDOR_PRODUCTVENDOR_UnitMeasureCode' : {}})"
   ]
  },
  {
   "cell_type": "markdown",
   "id": "ca03dbf2",
   "metadata": {},
   "source": [
    "### CustomerDemographics"
   ]
  },
  {
   "cell_type": "code",
   "execution_count": null,
   "id": "338d3d47",
   "metadata": {
    "ExecuteTime": {
     "end_time": "2024-05-23T08:36:57.695056Z",
     "start_time": "2024-05-23T08:36:57.648294Z"
    }
   },
   "outputs": [],
   "source": [
    "customerdemographics_dtypes = {\n",
    "    'CUSTOMERDEMOGRAPHIC_CUSTOMERDEMOGRAPHICS_CustomerTypeID': NVARCHAR(10),\n",
    "    'CUSTOMERDEMOGRAPHIC_CUSTOMERDEMOGRAPHICS_CustomerDesc': String(100)\n",
    "}\n",
    "\n",
    "customerdemographics_nk_sk_dict = prepare_and_insert_return_sk(customerdemographics, customerdemographics_dtypes, 'CustomerDemographic',united_outdoors_engine, 'CUSTOMERDEMOGRAPHIC_CUSTOMERDEMOGRAPHICS_CustomerTypeID')"
   ]
  },
  {
   "cell_type": "markdown",
   "id": "e69a059a",
   "metadata": {},
   "source": [
    "### CustomerCustomerDemo"
   ]
  },
  {
   "cell_type": "code",
   "execution_count": null,
   "id": "e5e0f142",
   "metadata": {
    "ExecuteTime": {
     "end_time": "2024-05-23T08:36:57.722243Z",
     "start_time": "2024-05-23T08:36:57.695056Z"
    }
   },
   "outputs": [],
   "source": [
    "customercustomerdemos_dtypes = {\n",
    "    'CUSTOMERCUSTOMERDEMO_CUSTOMERCUSTOMERDEMO_CustomerID': NVARCHAR(10),\n",
    "    'CUSTOMERCUSTOMERDEMO_CUSTOMERCUSTOMERDEMO_CustomerTypeID': NVARCHAR(10)\n",
    "}\n",
    "\n",
    "prepare_and_insert(customercustomerdemos, customercustomerdemos_dtypes, 'CustomerCustomerDemo',united_outdoors_engine, { 'CUSTOMERCUSTOMERDEMO_CUSTOMERCUSTOMERDEMO_CustomerTypeID' : customerdemographics_nk_sk_dict, 'CUSTOMERCUSTOMERDEMO_CUSTOMERCUSTOMERDEMO_CustomerID' : customerdemographics_nk_sk_dict})"
   ]
  },
  {
   "cell_type": "markdown",
   "id": "6127c49c",
   "metadata": {},
   "source": [
    "### SalesTerritoryHistory"
   ]
  },
  {
   "cell_type": "code",
   "execution_count": null,
   "id": "3825b963",
   "metadata": {
    "ExecuteTime": {
     "end_time": "2024-05-23T08:36:58.970804Z",
     "start_time": "2024-05-23T08:36:57.722243Z"
    }
   },
   "outputs": [],
   "source": [
    "salesterritoryhistories_dtypes = {\n",
    "    'SALESTERRITORYHISTORY_SALESTERRITORYHISTORY_BusinessEntityID': Integer,\n",
    "    'SALESTERRITORYHISTORY_SALESTERRITORYHISTORY_TerritoryID': Integer,\n",
    "    'SALESTERRITORYHISTORY_SALESTERRITORYHISTORY_StartDate': DATE,\n",
    "    'SALESTERRITORYHISTORY_SALESTERRITORYHISTORY_EndDate': DATE\n",
    "}\n",
    "\n",
    "prepare_and_insert(salesterritoryhistories, salesterritoryhistories_dtypes, 'SalesTerritoryHistory',united_outdoors_engine, { 'SALESTERRITORYHISTORY_SALESTERRITORYHISTORY_BusinessEntityID' : businessentities_nk_sk_dict, 'SALESTERRITORYHISTORY_SALESTERRITORYHISTORY_TerritoryID' : territories_nk_sk_dict})"
   ]
  },
  {
   "cell_type": "markdown",
   "id": "99ee64b3",
   "metadata": {},
   "source": [
    "### ProductListPriceHistory"
   ]
  },
  {
   "cell_type": "code",
   "execution_count": null,
   "id": "d504b2e6",
   "metadata": {
    "ExecuteTime": {
     "end_time": "2024-05-23T08:36:59.197527Z",
     "start_time": "2024-05-23T08:36:58.971872Z"
    }
   },
   "outputs": [],
   "source": [
    "productlistpricehistories_dtypes = {\n",
    "    'PRODUCTLISTPRICEHISTORY_PRODUCTLISTPRICEHISTORY_ProductID': Integer,\n",
    "    'PRODUCTLISTPRICEHISTORY_PRODUCTLISTPRICEHISTORY_StartDate': DATE,\n",
    "    'PRODUCTLISTPRICEHISTORY_PRODUCTLISTPRICEHISTORY_EndDate': DATE,\n",
    "    'PRODUCTLISTPRICEHISTORY_PRODUCTLISTPRICEHISTORY_ListPrice': MONEY\n",
    "}\n",
    "\n",
    "prepare_and_insert(productlistpricehistories, productlistpricehistories_dtypes, 'ProductListPriceHistory',united_outdoors_engine, { 'PRODUCTLISTPRICEHISTORY_PRODUCTLISTPRICEHISTORY_ProductID' : products_nk_sk_dict})"
   ]
  },
  {
   "cell_type": "markdown",
   "id": "e32fb0f9",
   "metadata": {},
   "source": [
    "### ProductCostHistory"
   ]
  },
  {
   "cell_type": "code",
   "execution_count": null,
   "id": "ca35400832df30f0",
   "metadata": {
    "ExecuteTime": {
     "end_time": "2024-05-23T08:36:59.401733Z",
     "start_time": "2024-05-23T08:36:59.198543Z"
    }
   },
   "outputs": [],
   "source": [
    "productcosthistories_dtypes = {\n",
    "    'PRODUCTCOSTHISTORY_PRODUCTCOSTHISTORY_ProductID': Integer,\n",
    "    'PRODUCTCOSTHISTORY_PRODUCTCOSTHISTORY_StartDate': DATE,\n",
    "    'PRODUCTCOSTHISTORY_PRODUCTCOSTHISTORY_EndDate': DATE,\n",
    "    'PRODUCTCOSTHISTORY_PRODUCTCOSTHISTORY_StandardCost': MONEY\n",
    "}\n",
    "\n",
    "prepare_and_insert(productcosthistories, productcosthistories_dtypes, 'ProductCostHistory', united_outdoors_engine, { 'PRODUCTCOSTHISTORY_PRODUCTCOSTHISTORY_ProductID' : products_nk_sk_dict})"
   ]
  },
  {
   "cell_type": "markdown",
   "id": "718d1732",
   "metadata": {},
   "source": [
    "### ShoppingCartItem"
   ]
  },
  {
   "cell_type": "code",
   "execution_count": null,
   "id": "58a37f9f",
   "metadata": {
    "ExecuteTime": {
     "end_time": "2024-05-23T08:36:59.481655Z",
     "start_time": "2024-05-23T08:36:59.402742Z"
    }
   },
   "outputs": [],
   "source": [
    "shoppingcartitems_dtypes = {\n",
    "    'SHOPPINGCARTITEM_SHOPPINGCARTITEM_ShoppingCartItemID': Integer,\n",
    "    'SHOPPINGCARTITEM_SHOPPINGCARTITEM_ShoppingCartID': Integer,\n",
    "    'SHOPPINGCARTITEM_SHOPPINGCARTITEM_ProductID': Integer,\n",
    "    'SHOPPINGCARTITEM_SHOPPINGCARTITEM_Quantity': Integer,\n",
    "    'SHOPPINGCARTITEM_SHOPPINGCARTITEM_DateCreated': DATE\n",
    "}\n",
    "\n",
    "prepare_and_insert(shoppingcartitems, shoppingcartitems_dtypes, 'ShoppingCartItem', united_outdoors_engine, { 'SHOPPINGCARTITEM_SHOPPINGCARTITEM_ProductID' : products_nk_sk_dict})"
   ]
  },
  {
   "cell_type": "markdown",
   "id": "67057da8",
   "metadata": {},
   "source": [
    "### SalesPersonQuotaHistory"
   ]
  },
  {
   "cell_type": "code",
   "execution_count": null,
   "id": "8bf48107",
   "metadata": {
    "ExecuteTime": {
     "end_time": "2024-05-23T08:37:00.769905Z",
     "start_time": "2024-05-23T08:36:59.482661Z"
    }
   },
   "outputs": [],
   "source": [
    "salespersonquotahistories_dtypes = {\n",
    "    'SALESPERSONQUOTAHISTORY_SALESPERSONQUOTAHISTORY_BusinessEntityID': Integer,\n",
    "    'SALESPERSONQUOTAHISTORY_SALESPERSONQUOTAHISTORY_QuotaDate': DATE,\n",
    "    'SALESPERSONQUOTAHISTORY_SALESPERSONQUOTAHISTORY_SalesQuota': MONEY\n",
    "}\n",
    "\n",
    "prepare_and_insert(salespersonquotahistories, salespersonquotahistories_dtypes, 'SalesPersonQuotaHistory', united_outdoors_engine, { 'SALESPERSONQUOTAHISTORY_SALESPERSONQUOTAHISTORY_BusinessEntityID' : businessentities_nk_sk_dict})"
   ]
  },
  {
   "cell_type": "markdown",
   "id": "bad90ca1",
   "metadata": {},
   "source": [
    "### SpecialOffer"
   ]
  },
  {
   "cell_type": "code",
   "execution_count": null,
   "id": "6865ade2c0487324",
   "metadata": {
    "ExecuteTime": {
     "end_time": "2024-05-23T08:37:01.361332Z",
     "start_time": "2024-05-23T08:37:00.770913Z"
    }
   },
   "outputs": [],
   "source": [
    "specialoffers_dtypes = {\n",
    "    'SPECIALOFFER_SPECIALOFFER_ID': Integer,\n",
    "    'SPECIALOFFER_SPECIALOFFER_Description': String,\n",
    "    'SPECIALOFFER_SPECIALOFFER_DiscountPCT': Integer,\n",
    "    'SPECIALOFFER_SPECIALOFFER_Type': NVARCHAR(100),\n",
    "    'SPECIALOFFER_SPECIALOFFER_Category': NVARCHAR(100),\n",
    "    'SPECIALOFFER_SPECIALOFFER_StartDate': DATE,\n",
    "    'SPECIALOFFER_SPECIALOFFER_EndDate': DATE,\n",
    "    'SPECIALOFFER_SPECIALOFFER_MinQty': Integer,\n",
    "    'SPECIALOFFER_SPECIALOFFER_MaxQty': Integer,\n",
    "    'SPECIALOFFER_SPECIALOFFERPRODUCT_ProductID': Integer\n",
    "}\n",
    "\n",
    "specialoffer_nk_sk_dict = prepare_and_insert_return_sk(specialoffers, specialoffers_dtypes, 'SpecialOffer', united_outdoors_engine, 'SPECIALOFFER_SPECIALOFFER_ID', {'SPECIALOFFER_SPECIALOFFERPRODUCT_ProductID': products_nk_sk_dict})"
   ]
  },
  {
   "cell_type": "markdown",
   "id": "d25ede8944c15f29",
   "metadata": {},
   "source": [
    "### Customers"
   ]
  },
  {
   "cell_type": "code",
   "execution_count": null,
   "id": "2aab05af613b62fb",
   "metadata": {
    "ExecuteTime": {
     "end_time": "2024-05-23T08:37:08.301770Z",
     "start_time": "2024-05-23T08:37:01.362337Z"
    }
   },
   "outputs": [],
   "source": [
    "customers_dtypes = {\n",
    "    'CUSTOMER_CUSTOMER_CustomerID': Integer,\n",
    "    'CUSTOMER_CUSTOMER_PersonID': NVARCHAR(10),\n",
    "    'CUSTOMER_CUSTOMER_StoreID': Integer,\n",
    "    'CUSTOMER_CUSTOMER_TerritoryID': Integer,\n",
    "    'CUSTOMER_CUSTOMER_AccountNumber': CHAR(10),\n",
    "    'CUSTOMER_STORE_Name': NVARCHAR(50),\n",
    "    'CUSTOMER_STORE_SalesPersonID': Integer,\n",
    "    'CUSTOMER_STORE_Demographics': XML,\n",
    "    'CUSTOMER_SALESTERRITORY_Name': NVARCHAR(50),\n",
    "    'CUSTOMER_SALESTERRITORY_CountryRegionCode': NVARCHAR(3),\n",
    "    'CUSTOMER_SALESTERRITORY_Group': NVARCHAR(50),\n",
    "    'CUSTOMER_SALESTERRITORY_SalesYTD': MONEY,\n",
    "    'CUSTOMER_SALESTERRITORY_SalesLastYear': MONEY,\n",
    "    'CUSTOMER_SALESTERRITORY_CostYTD': MONEY,\n",
    "    'CUSTOMER_SALESTERRITORY_CostLastYear': MONEY,\n",
    "    'CUSTOMER_CUSTOMERS_CompanyName':NVARCHAR(100),\n",
    "    'CUSTOMER_CUSTOMERS_ContactName': NVARCHAR(255),\n",
    "    'CUSTOMER_CUSTOMERS_ContactTitle': NVARCHAR(100),\n",
    "    'CUSTOMER_CUSTOMERS_Address': NVARCHAR(255),\n",
    "    'CUSTOMER_CUSTOMERS_City': NVARCHAR(100),\n",
    "    'CUSTOMER_CUSTOMERS_Region': NVARCHAR(50),\n",
    "    'CUSTOMER_CUSTOMERS_PostalCode': NVARCHAR(20),\n",
    "    'CUSTOMER_CUSTOMERS_Country': NVARCHAR(150),\n",
    "    'CUSTOMER_CUSTOMERS_Phone': NVARCHAR(24),\n",
    "    'CUSTOMER_CUSTOMERS_Fax': NVARCHAR(24),\n",
    "    'CUSTOMER_CUSTOMER_Fname': NVARCHAR(255),\n",
    "    'CUSTOMER_CUSTOMER_Lname': NVARCHAR(255),\n",
    "    'CUSTOMER_CUSTOMER_State': CHAR(2)\n",
    "}\n",
    "\n",
    "customers_nk_sk_dict = prepare_and_insert_return_sk(customers, customers_dtypes, 'Customer', united_outdoors_engine, 'CUSTOMER_CUSTOMER_CustomerID', {'CUSTOMER_CUSTOMER_PersonID': {}, 'CUSTOMER_CUSTOMER_StoreID': {}, 'CUSTOMER_CUSTOMER_TerritoryID': territories_nk_sk_dict, 'CUSTOMER_STORE_SalesPersonID': salespeople_nk_sk_dict, 'CUSTOMER_SALESTERRITORY_CountryRegionCode': {}})"
   ]
  },
  {
   "cell_type": "markdown",
   "id": "1f20003e87b1e84f",
   "metadata": {},
   "source": [
    "### TransactionHistory"
   ]
  },
  {
   "cell_type": "code",
   "execution_count": null,
   "id": "fdc74b5fd26f6dd5",
   "metadata": {
    "ExecuteTime": {
     "end_time": "2024-05-23T08:37:19.057479Z",
     "start_time": "2024-05-23T08:37:08.303173Z"
    }
   },
   "outputs": [],
   "source": [
    "transactionhistories_dtypes = {\n",
    "    'TRANSACTIONHISTORY_TRANSACTIONHISTORY_TransactionID': Integer,\n",
    "    'TRANSACTIONHISTORY_TRANSACTIONHISTORY_ProductID': Integer,\n",
    "    'TRANSACTIONHISTORY_TRANSACTIONHISTORY_ReferenceOrderID': Integer,\n",
    "    'TRANSACTIONHISTORY_TRANSACTIONHISTORY_ReferenceOrderLineID': Integer,\n",
    "    'TRANSACTIONHISTORY_TRANSACTIONHISTORY_TransactionDate': DATE,\n",
    "    'TRANSACTIONHISTORY_TRANSACTIONHISTORY_TransactionType': CHAR(1),\n",
    "    'TRANSACTIONHISTORY_TRANSACTIONHISTORY_Quantity': Integer,\n",
    "    'TRANSACTIONHISTORY_TRANSACTIONHISTORY_ActualCost': MONEY,\n",
    "}\n",
    "\n",
    "prepare_and_insert(transactionhistories, transactionhistories_dtypes, 'TransactionHistory', united_outdoors_engine, { 'TRANSACTIONHISTORY_TRANSACTIONHISTORY_ProductID' : products_nk_sk_dict})"
   ]
  },
  {
   "cell_type": "markdown",
   "id": "58758324",
   "metadata": {},
   "source": [
    "### CreditCard"
   ]
  },
  {
   "cell_type": "code",
   "execution_count": null,
   "id": "ff5621af",
   "metadata": {
    "ExecuteTime": {
     "end_time": "2024-05-23T08:37:27.910615Z",
     "start_time": "2024-05-23T08:37:19.057784Z"
    }
   },
   "outputs": [],
   "source": [
    "creditcards_dtypes = {\n",
    "    'CREDITCARD_CREDITCARD_ID': Integer,\n",
    "    'CREDITCARD_CREDITCARD_CardType': NVARCHAR(100),\n",
    "    'CREDITCARD_CREDITCARD_CardNumber': BigInteger,\n",
    "    'CREDITCARD_CREDITCARD_ExpMonth': Integer,\n",
    "    'CREDITCARD_CREDITCARD_ExpYear': Integer,\n",
    "    'CREDITCARD_PERSONCREDITCARD_BusinessEntityID': Integer\n",
    "}\n",
    "\n",
    "creditcards_nk_sk_dict = prepare_and_insert_return_sk(creditcards, creditcards_dtypes, 'CreditCard', united_outdoors_engine, 'CREDITCARD_CREDITCARD_ID')"
   ]
  },
  {
   "cell_type": "markdown",
   "id": "406e7a99",
   "metadata": {},
   "source": [
    "### Supplier"
   ]
  },
  {
   "cell_type": "code",
   "execution_count": null,
   "id": "a92c1a76",
   "metadata": {
    "ExecuteTime": {
     "end_time": "2024-05-23T08:37:27.966682Z",
     "start_time": "2024-05-23T08:37:27.911647Z"
    }
   },
   "outputs": [],
   "source": [
    "suppliers_dtypes = {\n",
    "    'SUPPLIER_SUPPLIERS_SupplierID': Integer,\n",
    "    'SUPPLIER_SUPPLIERS_CompanyName': NVARCHAR(100),\n",
    "    'SUPPLIER_SUPPLIERS_ContactName': NVARCHAR(255),\n",
    "    'SUPPLIER_SUPPLIERS_ContactTitle': NVARCHAR(100),\n",
    "    'SUPPLIER_SUPPLIERS_Address': NVARCHAR(150),\n",
    "    'SUPPLIER_SUPPLIERS_City': NVARCHAR(50),\n",
    "    'SUPPLIER_SUPPLIERS_Region': NVARCHAR(50),\n",
    "    'SUPPLIER_SUPPLIERS_PostalCode': NVARCHAR(20),\n",
    "    'SUPPLIER_SUPPLIERS_Country': NVARCHAR(100),\n",
    "    'SUPPLIER_SUPPLIERS_Phone': VARCHAR(20),\n",
    "    'SUPPLIER_SUPPLIERS_Fax': NVARCHAR(30),\n",
    "    'SUPPLIER_SUPPLIERS_HomePage': NVARCHAR(255)\n",
    "}\n",
    "\n",
    "prepare_and_insert(suppliers, suppliers_dtypes, 'Supplier', united_outdoors_engine)"
   ]
  },
  {
   "cell_type": "markdown",
   "id": "e1c42fd3",
   "metadata": {},
   "source": [
    "### Currency"
   ]
  },
  {
   "cell_type": "code",
   "execution_count": null,
   "id": "09143d9e",
   "metadata": {
    "ExecuteTime": {
     "end_time": "2024-05-23T08:37:36.624722Z",
     "start_time": "2024-05-23T08:37:27.967689Z"
    }
   },
   "outputs": [],
   "source": [
    "currencies_dtypes = {\n",
    "    'CURRENCY_CURRENCY_CurrencyCode': NVARCHAR(10),\n",
    "    'CURRENCY_CURRENCY_Name': NVARCHAR(100),\n",
    "    'CURRENCY_COUNTRYREGIONCURRENCY_CountryRegionCode': NVARCHAR(10),\n",
    "    'CURRENCY_CURRENCYRATE_CurrencyRateID': Integer,\n",
    "    'CURRENCY_CURRENCYRATE_CurrencyRateDate': DATE,\n",
    "    'CURRENCY_CURRENCYRATE_FromCurrencyCode': NVARCHAR(10),\n",
    "    'CURRENCY_CURRENCYRATE_ToCurrencyCode': NVARCHAR(10),\n",
    "    'CURRENCY_CURRENCYRATE_AverageRate': Integer,\n",
    "    'CURRENCY_CURRENCYRATE_EndOfDayRate': Integer\n",
    "}\n",
    "\n",
    "prepare_and_insert(currencies, currencies_dtypes, 'Currency', united_outdoors_engine, {'CURRENCY_CURRENCYRATE_CurrencyRateID': {}, 'CURRENCY_CURRENCYRATE_FromCurrencyCode': {}, 'CURRENCY_CURRENCYRATE_ToCurrencyCode': {}})"
   ]
  },
  {
   "cell_type": "markdown",
   "id": "2b1a1e84",
   "metadata": {},
   "source": [
    "### SalesOrderHeader"
   ]
  },
  {
   "cell_type": "code",
   "execution_count": null,
   "id": "87b5dc8af4127ea7",
   "metadata": {
    "ExecuteTime": {
     "end_time": "2024-05-23T08:43:25.236197Z",
     "start_time": "2024-05-23T08:37:36.625734Z"
    }
   },
   "outputs": [],
   "source": [
    "salesorderheaders_dtypes = {\n",
    "    'SALESORDERHEADER_SALESORDERDETAIL_SalesOrderID': Integer,\n",
    "    'SALESORDERHEADER_SALESORDERDETAIL_SalesOrderDetailID': Integer,\n",
    "    'SALESORDERHEADER_SALESORDERDETAIL_CarrierTrackingNumber': NVARCHAR(25),\n",
    "    'SALESORDERHEADER_SALESORDERDETAIL_OrderQty': Integer,\n",
    "    'SALESORDERHEADER_SALESORDERDETAIL_ProductID': Integer,\n",
    "    'SALESORDERHEADER_SALESORDERDETAIL_SpecialOfferID': Integer,\n",
    "    'SALESORDERHEADER_SALESORDERDETAIL_UnitPrice': DECIMAL(8,2),\n",
    "    'SALESORDERHEADER_SALESORDERDETAIL_UnitPriceDiscount': DECIMAL(8,2),\n",
    "    'SALESORDERHEADER_SALESORDERDETAIL_LineTotal': NVARCHAR,\n",
    "    'SALESORDERHEADER_SALESORDERHEADER_RevisionNumber': Integer,\n",
    "    'SALESORDERHEADER_SALESORDERHEADER_OrderDate': DATE,\n",
    "    'SALESORDERHEADER_SALESORDERHEADER_DueDate': DATE,\n",
    "    'SALESORDERHEADER_SALESORDERHEADER_ShipDate': DATE,\n",
    "    'SALESORDERHEADER_SALESORDERHEADER_Status': CHAR(1),\n",
    "    'SALESORDERHEADER_SALESORDERHEADER_OnlineOrderFlag': BIT,\n",
    "    'SALESORDERHEADER_SALESORDERHEADER_SalesOrderNumber': VARCHAR(100),\n",
    "    'SALESORDERHEADER_SALESORDERHEADER_PurchaseOrderNumber': VARCHAR(25),\n",
    "    'SALESORDERHEADER_SALESORDERHEADER_AccountNumber': NVARCHAR(15),\n",
    "    'SALESORDERHEADER_SALESORDERHEADER_CustomerID': Integer,\n",
    "    'SALESORDERHEADER_SALESORDERHEADER_SalesPersonID': Integer,\n",
    "    'SALESORDERHEADER_SALESORDERHEADER_TerritoryID': Integer,\n",
    "    'SALESORDERHEADER_SALESORDERHEADER_BillToAddress': Integer,\n",
    "    'SALESORDERHEADER_SALESORDERHEADER_ShipToAddress': Integer,\n",
    "    'SALESORDERHEADER_SALESORDERHEADER_ShipMethodID': Integer,\n",
    "    'SALESORDERHEADER_SALESORDERHEADER_CreditCardID': Integer,\n",
    "    'SALESORDERHEADER_SALESORDERHEADER_CreditCardApprovalCode': NVARCHAR(15),\n",
    "    'SALESORDERHEADER_SALESORDERHEADER_CurrencyRateID': Integer,\n",
    "    'SALESORDERHEADER_SALESORDERHEADER_SubTotal': DECIMAL(11,2),\n",
    "    'SALESORDERHEADER_SALESORDERHEADER_TaxAmt': DECIMAL(11,2),\n",
    "    'SALESORDERHEADER_SALESORDERHEADER_Freight': DECIMAL(11,2),\n",
    "    'SALESORDERHEADER_SALESORDERHEADER_TotalDue': DECIMAL(11,2),\n",
    "    'SALESORDERHEADER_SALESORDERHEADER_Comment': NVARCHAR(128),\n",
    "    'SALESORDERHEADER_SALESORDERHEADERSALESREASON_SalesOrderID': Integer,\n",
    "    'SALESORDERHEADER_SALESREASON_SalesReasonID': Integer,\n",
    "    'SALESORDERHEADER_SALESREASON_Name': NVARCHAR(100),\n",
    "    'SALESORDERHEADER_SALESREASON_ReasonType': NVARCHAR(100),\n",
    "}\n",
    "\n",
    "prepare_and_insert(salesorderheaders, salesorderheaders_dtypes, 'SalesOrderHeader', united_outdoors_engine, {'SALESORDERHEADER_SALESORDERDETAIL_ProductID': products_nk_sk_dict, 'SALESORDERHEADER_SALESORDERHEADER_CustomerID' : customers_nk_sk_dict, 'SALESORDERHEADER_SALESORDERDETAIL_SpecialOfferID' : specialoffer_nk_sk_dict, 'SALESORDERHEADER_SALESORDERHEADER_CreditCardID': creditcards_nk_sk_dict, 'SALESORDERHEADER_SALESORDERHEADER_CurrencyRateID': {}})\n"
   ]
  },
  {
   "cell_type": "markdown",
   "id": "a0e9c948",
   "metadata": {},
   "source": [
    "### PurchaseOrderHeader"
   ]
  },
  {
   "cell_type": "code",
   "execution_count": null,
   "id": "d566e29d",
   "metadata": {
    "ExecuteTime": {
     "end_time": "2024-05-23T08:44:00.896909Z",
     "start_time": "2024-05-23T08:43:25.238205Z"
    }
   },
   "outputs": [],
   "source": [
    "purchaseorderheaders_dtypes = {\n",
    "    'PURCHASEORDERHEADER_PURCHASEORDERHEADER_PurchaseOrderID': Integer,\n",
    "    'PURCHASEORDERHEADER_PURCHASEORDERHEADER_RevisionNumber': Integer,\n",
    "    'PURCHASEORDERHEADER_PURCHASEORDERHEADER_Status': Integer,\n",
    "    'PURCHASEORDERHEADER_PURCHASEORDERHEADER_EmployeeID': Integer,\n",
    "    'PURCHASEORDERHEADER_PURCHASEORDERHEADER_VendorID': Integer,\n",
    "    'PURCHASEORDERHEADER_PURCHASEORDERHEADER_ShipMethodID': Integer,\n",
    "    'PURCHASEORDERHEADER_PURCHASEORDERHEADER_OrderDate': DATE,\n",
    "    'PURCHASEORDERHEADER_PURCHASEORDERHEADER_ShipDate': DATE,\n",
    "    'PURCHASEORDERHEADER_PURCHASEORDERHEADER_SubTotal': MONEY,\n",
    "    'PURCHASEORDERHEADER_PURCHASEORDERHEADER_TaxAmt': MONEY,\n",
    "    'PURCHASEORDERHEADER_PURCHASEORDERHEADER_Freight': MONEY,\n",
    "    'PURCHASEORDERHEADER_PURCHASEORDERHEADER_TotalDue': MONEY,\n",
    "    'PURCHASEORDERHEADER_PURCHASEORDERDETAIL_PurchaseOrderDetailID': Integer,\n",
    "    'PURCHASEORDERHEADER_PURCHASEORDERDETAIL_DueDate': DATE,\n",
    "    'PURCHASEORDERHEADER_PURCHASEORDERDETAIL_OrderQty': Integer,\n",
    "    'PURCHASEORDERHEADER_PURCHASEORDERDETAIL_ProductID': Integer,\n",
    "    'PURCHASEORDERHEADER_PURCHASEORDERDETAIL_UnitPrice': MONEY,\n",
    "    'PURCHASEORDERHEADER_PURCHASEORDERDETAIL_LineTotal': NVARCHAR,\n",
    "    'PURCHASEORDERHEADER_PURCHASEORDERDETAIL_ReceivedQty': DECIMAL(8,2),\n",
    "    'PURCHASEORDERHEADER_PURCHASEORDERDETAIL_RejectedQty': DECIMAL(8,2),\n",
    "    'PURCHASEORDERHEADER_PURCHASEORDERDETAIL_StockedQty': DECIMAL(8,2),\n",
    "    'PURCHASEORDERHEADER_SHIPMETHOD_Name': NVARCHAR(50),\n",
    "    'PURCHASEORDERHEADER_SHIPMETHOD_ShipBase': MONEY,\n",
    "    'PURCHASEORDERHEADER_SHIPMETHOD_ShipRate': MONEY,\n",
    "    'PURCHASEORDERHEADER_VENDOR_AccountNumber': NVARCHAR(50),\n",
    "    'PURCHASEORDERHEADER_VENDOR_Name': NVARCHAR(50),\n",
    "    'PURCHASEORDERHEADER_VENDOR_CreditRating': Integer,\n",
    "    'PURCHASEORDERHEADER_VENDOR_PreferredVendorStatus': BIT,\n",
    "    'PURCHASEORDERHEADER_VENDOR_ActiveFlag': BIT,\n",
    "    'PURCHASEORDERHEADER_VENDOR_PurchasingWebServiceURL': NVARCHAR(1024)\n",
    "}\n",
    "\n",
    "prepare_and_insert(purchaseorderheaders, purchaseorderheaders_dtypes, 'PurchaseOrderHeader', united_outdoors_engine, {'PURCHASEORDERHEADER_PURCHASEORDERHEADER_EmployeeID': employees_nk_sk_dict, 'PURCHASEORDERHEADER_PURCHASEORDERDETAIL_ProductID': products_nk_sk_dict})"
   ]
  },
  {
   "cell_type": "markdown",
   "id": "27e9a3a368006fbd",
   "metadata": {},
   "source": [
    "### TransactionHistoryArchive"
   ]
  },
  {
   "cell_type": "code",
   "execution_count": null,
   "id": "5157006670fd94ef",
   "metadata": {
    "ExecuteTime": {
     "end_time": "2024-05-23T08:44:42.247253Z",
     "start_time": "2024-05-23T08:44:00.898919Z"
    }
   },
   "outputs": [],
   "source": [
    "transactionhistoryarchives_dtypes = {\n",
    "    'TRANSACTIONHISTORYARCHIVE_TRANSACTIONHISTORYARCHIVE_TransactionID': Integer,\n",
    "    'TRANSACTIONHISTORYARCHIVE_TRANSACTIONHISTORYARCHIVE_ProductID': Integer,\n",
    "    'TRANSACTIONHISTORYARCHIVE_TRANSACTIONHISTORYARCHIVE_ReferenceOrderID': Integer,\n",
    "    'TRANSACTIONHISTORYARCHIVE_TRANSACTIONHISTORYARCHIVE_ReferenceOrderLineID': Integer,\n",
    "    'TRANSACTIONHISTORYARCHIVE_TRANSACTIONHISTORYARCHIVE_TransactionDate': DATE,\n",
    "    'TRANSACTIONHISTORYARCHIVE_TRANSACTIONHISTORYARCHIVE_TransactionType': CHAR(1),\n",
    "    'TRANSACTIONHISTORYARCHIVE_TRANSACTIONHISTORYARCHIVE_Quantity': Integer,\n",
    "    'TRANSACTIONHISTORYARCHIVE_TRANSACTIONHISTORYARCHIVE_ActualCost': MONEY,\n",
    "}   \n",
    "\n",
    "prepare_and_insert(transactionhistoryarchives, transactionhistoryarchives_dtypes, 'TransactionHistoryArchive', united_outdoors_engine, { 'TRANSACTIONHISTORYARCHIVE_TRANSACTIONHISTORYARCHIVE_ProductID' : products_nk_sk_dict})"
   ]
  },
  {
   "cell_type": "markdown",
   "id": "1fa8497d7bcd41ca",
   "metadata": {},
   "source": [
    "### ProductReview"
   ]
  },
  {
   "cell_type": "code",
   "execution_count": null,
   "id": "9b97313b1b01b387",
   "metadata": {
    "ExecuteTime": {
     "end_time": "2024-05-23T08:44:42.437270Z",
     "start_time": "2024-05-23T08:44:42.249262Z"
    }
   },
   "outputs": [],
   "source": [
    "productreviews_dtypes = {\n",
    "    'PRODUCTREVIEW_PRODUCTREVIEW_ProductReviewID': Integer,\n",
    "    'PRODUCTREVIEW_PRODUCTREVIEW_ProductID': Integer,\n",
    "    'PRODUCTREVIEW_PRODUCTREVIEW_ReviewerName': NVARCHAR(50),\n",
    "    'PRODUCTREVIEW_PRODUCTREVIEW_ReviewDate': DATE,\n",
    "    'PRODUCTREVIEW_PRODUCTREVIEW_EmailAddress': NVARCHAR(50),\n",
    "    'PRODUCTREVIEW_PRODUCTREVIEW_Rating': Integer,\n",
    "    'PRODUCTREVIEW_PRODUCTREVIEW_Comments': NVARCHAR(3850),\n",
    "}\n",
    "\n",
    "prepare_and_insert(productreviews, productreviews_dtypes, 'ProductReview', united_outdoors_engine, { 'PRODUCTREVIEW_PRODUCTREVIEW_ProductID' : products_nk_sk_dict})"
   ]
  },
  {
   "cell_type": "markdown",
   "id": "d5d5a350eb3857a5",
   "metadata": {},
   "source": [
    "## Constraints\n",
    "altering the tables to add the (foreign key) constraints"
   ]
  },
  {
   "cell_type": "code",
   "execution_count": null,
   "id": "4dbf2fec9d092308",
   "metadata": {
    "ExecuteTime": {
     "end_time": "2024-05-23T08:44:44.114904Z",
     "start_time": "2024-05-23T08:44:42.439396Z"
    }
   },
   "outputs": [],
   "source": [
    "# opening the UnitedOutdoors_constraints.sql file\n",
    "with open('sql/UnitedOutdoors_constraints.sql', 'r') as file:\n",
    "    sql_script = file.read()\n",
    "\n",
    "# Execute the script\n",
    "split_and_execute_sql_script(sql_script, united_outdoors_engine)"
   ]
  },
  {
   "cell_type": "markdown",
   "id": "1673fad4818f5f48",
   "metadata": {},
   "source": [
    "## Closing connections"
   ]
  },
  {
   "cell_type": "code",
   "execution_count": null,
   "id": "9c88383a3ffc4e6f",
   "metadata": {
    "ExecuteTime": {
     "end_time": "2024-05-23T08:45:46.319074Z",
     "start_time": "2024-05-23T08:45:46.313807Z"
    }
   },
   "outputs": [],
   "source": [
    "try:\n",
    "    united_outdoors_engine.dispose()\n",
    "    northwind_engine.dispose()\n",
    "    aenc_engine.dispose()\n",
    "    adventureworks_engine.dispose()\n",
    "except OperationalError as e:\n",
    "        print(f'Error: {e}')"
   ]
  },
  {
   "cell_type": "markdown",
   "id": "a4550fa962ffb55c",
   "metadata": {},
   "source": [
    "# Time elapsed"
   ]
  },
  {
   "cell_type": "code",
   "execution_count": null,
   "id": "71eb76d2d8aa01be",
   "metadata": {
    "ExecuteTime": {
     "end_time": "2024-05-23T08:45:46.468175Z",
     "start_time": "2024-05-23T08:45:46.463184Z"
    }
   },
   "outputs": [],
   "source": [
    "end_time = time.time()\n",
    "\n",
    "print(f'Time elapsed: {end_time - start_time} seconds')"
   ]
  }
 ],
 "metadata": {
  "kernelspec": {
   "display_name": "Python 3",
   "language": "python",
   "name": "python3"
  },
  "language_info": {
   "codemirror_mode": {
    "name": "ipython",
    "version": 3
   },
   "file_extension": ".py",
   "mimetype": "text/x-python",
   "name": "python",
   "nbconvert_exporter": "python",
   "pygments_lexer": "ipython3",
   "version": "3.12.2"
  }
 },
 "nbformat": 4,
 "nbformat_minor": 5
}
