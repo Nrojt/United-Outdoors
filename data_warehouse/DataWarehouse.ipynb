{
 "cells": [
  {
   "cell_type": "markdown",
   "id": "17e2c480eb50cac0",
   "metadata": {},
   "source": [
    "# United outdoors datawarehouse"
   ]
  },
  {
   "cell_type": "markdown",
   "id": "219c4ad180aa0438",
   "metadata": {},
   "source": [
    "## Imports"
   ]
  },
  {
   "cell_type": "code",
   "id": "1cf4cf0b86e3ced5",
   "metadata": {},
   "source": [
    "import pandas as pd\n",
    "import numpy as np\n",
    "from sqlalchemy import create_engine, BigInteger, Integer, String, LargeBinary, VARCHAR, NVARCHAR, DECIMAL, CHAR, \\\n",
    "    DATE\n",
    "from sqlalchemy.dialects.mssql import BIT, XML, MONEY, TIME\n",
    "from sqlalchemy.exc import OperationalError\n",
    "from urllib import parse\n",
    "import re\n",
    "import time"
   ],
   "outputs": [],
   "execution_count": null
  },
  {
   "cell_type": "markdown",
   "id": "d65ce541",
   "metadata": {},
   "source": [
    "## Starting timer"
   ]
  },
  {
   "cell_type": "code",
   "id": "f7b920a7d3f469e1",
   "metadata": {},
   "source": [
    "start_time = time.time()"
   ],
   "outputs": [],
   "execution_count": null
  },
  {
   "cell_type": "markdown",
   "id": "e5dedb1f60eb921f",
   "metadata": {},
   "source": [
    "## Database connection details"
   ]
  },
  {
   "cell_type": "code",
   "id": "7fc7de2a6201878c",
   "metadata": {},
   "source": [
    "DB = {\n",
    "    'servername' : '(local)\\\\SQLEXPRESS',\n",
    "    'united_outdoors_database' : 'UnitedOutdoors',\n",
    "    'northwind_database' : 'Northwind',\n",
    "    'aenc_database' : 'Aenc',\n",
    "    'adventureworks_database' : 'AdventureWorks2019',\n",
    "    'master' : 'master'\n",
    "}"
   ],
   "outputs": [],
   "execution_count": null
  },
  {
   "cell_type": "code",
   "id": "d813ef4841c45033",
   "metadata": {},
   "source": [
    "def create_connection(servername, database):\n",
    "    params = parse.quote_plus(f'DRIVER={{SQL Server}};SERVER={servername};DATABASE={database};Trusted_Connection=yes')\n",
    "    engine = create_engine(f'mssql+pyodbc:///?odbc_connect={params}', use_setinputsizes=False, connect_args={'options': '-c search_path=dbo'}, fast_executemany=True) # setinputsizes needs to be turned off for sql server, idk why but gives errors otherwise\n",
    "    try:\n",
    "        establish_conn = engine.connect()\n",
    "        print(f'Connection to {database} database successful')\n",
    "        return establish_conn, engine\n",
    "    except OperationalError as e:\n",
    "        print(f'Error: {e}')\n",
    "        return None, None"
   ],
   "outputs": [],
   "execution_count": null
  },
  {
   "cell_type": "code",
   "id": "4415bc87cfbd4b9",
   "metadata": {},
   "source": [
    "def split_and_execute_sql_script(script, execute_engine):\n",
    "    # creating a connection\n",
    "    connection = execute_engine.connect()\n",
    "    \n",
    "    # splitting the script into the database creation and the rest\n",
    "    commands = re.split(r'GO\\n', script)\n",
    "    # removing all \\bGO\\b from the commands\n",
    "    commands = [re.sub(r'\\bGO\\b', '', command) for command in commands]\n",
    "    \n",
    "    # Execute the commands\n",
    "    for command in commands:\n",
    "        command = command.strip()\n",
    "        # Skip if the command is empty or 'GO'\n",
    "        if not command or command.upper() == 'GO':\n",
    "            continue\n",
    "        try:\n",
    "            connection.connection.execute(command)\n",
    "            connection.connection.commit()\n",
    "            #print(f'Command executed: {command}')\n",
    "        except OperationalError as e:\n",
    "            print(f'Error: {e} at command: {command}')"
   ],
   "outputs": [],
   "execution_count": null
  },
  {
   "cell_type": "code",
   "id": "21dbea997ab232bc",
   "metadata": {},
   "source": [
    "def bulk_insert(df, dtypes, table_name, engine):\n",
    "    # calculating chunk size\n",
    "    chunk_size = (2000 // len(df.columns))  # 2100 is the maximum number of parameters in a query, -100 for safety\n",
    "\n",
    "    print(f'Inserting data into table: {table_name} with chunk size: {chunk_size}')\n",
    "    df.to_sql(name=table_name, schema='dbo', con=engine, if_exists='append', index=False, dtype=dtypes, method='multi', chunksize= chunk_size)"
   ],
   "outputs": [],
   "execution_count": null
  },
  {
   "cell_type": "code",
   "id": "b6d38bfcca6afd40",
   "metadata": {},
   "source": [
    "def prepare(dataframe, nk_sk_dict=None):\n",
    "    # replacing the natural keys with the surrogate keys\n",
    "    if nk_sk_dict:\n",
    "        for column in nk_sk_dict:\n",
    "            # Check for duplicate keys\n",
    "            if len(nk_sk_dict[column]) != len(set(nk_sk_dict[column])):\n",
    "                raise ValueError(f'Duplicate keys found in nk_sk_dict for column: {column}')\n",
    "            else:\n",
    "                print(f'Replacing natural keys with surrogate keys for column: {column}')\n",
    "                for natural_key in nk_sk_dict[column]:\n",
    "                    dataframe[column] = dataframe[column].replace(natural_key, nk_sk_dict[column][natural_key])\n",
    "    \n",
    "    # replace empty values with None\n",
    "    dataframe = dataframe.where(pd.notnull(dataframe), None)\n",
    "    dataframe = dataframe.replace({np.nan: None})\n",
    "    \n",
    "    # stripping all columns with string data\n",
    "    dataframe = dataframe.map(lambda x: x.strip() if isinstance(x, str) else x)\n",
    "    # replacing all empty strings with None\n",
    "    dataframe = dataframe.replace(r'^\\s*$', None, regex=True)"
   ],
   "outputs": [],
   "execution_count": null
  },
  {
   "cell_type": "code",
   "id": "4864830206097f93",
   "metadata": {},
   "source": [
    "def prepare_and_insert(dataframe, dtypes, table_name, insert_engine, nk_sk_dict=None):\n",
    "    \"\"\"\n",
    "    Prepares the dataframe for insertion into the database and inserts it into the database.\n",
    "        @param dataframe: The dataframe to be inserted into the database\n",
    "        @param dtypes: The data types of the columns in the dataframe\n",
    "        @param table_name: The name of the table in the database\n",
    "        @param insert_engine: The engine to insert the data into\n",
    "        @param nk_sk_dict: A 3d dictionary containing the natural keys and their corresponding surrogate keys, per column (so nk_sk_dict[column][natural_key] = surrogate_key)\n",
    "    \"\"\"\n",
    "       \n",
    "    prepare(dataframe, nk_sk_dict)\n",
    "    \n",
    "    # adding the data to the database\n",
    "    bulk_insert(dataframe, dtypes, table_name, insert_engine)"
   ],
   "outputs": [],
   "execution_count": null
  },
  {
   "cell_type": "code",
   "id": "831fa404922c26e",
   "metadata": {},
   "source": [
    "def prepare_and_insert_return_sk(dataframe, dtypes, table_name, insert_engine, natural_key_column, nk_sk_dict=None):\n",
    "    \"\"\"\n",
    "    Prepares the dataframe for insertion into the database and inserts it into the database.\n",
    "        @param dataframe: The dataframe to be inserted into the database\n",
    "        @param dtypes: The data types of the columns in the dataframe\n",
    "        @param table_name: The name of the table in the database\n",
    "        @param insert_engine: The engine to insert the data into\n",
    "        @param natural_key_column: The name of the column containing the natural keys\n",
    "        @param nk_sk_dict: A 3d dictionary containing the natural keys and their corresponding surrogate keys, per column (so nk_sk_dict[column][natural_key] = surrogate_key)\n",
    "        @return: A dictionary containing the natural keys and their corresponding surrogate keys\n",
    "    \"\"\"\n",
    "    \n",
    "    prepare(dataframe, nk_sk_dict)\n",
    "    \n",
    "    # adding the data to the database\n",
    "    bulk_insert(dataframe, dtypes, table_name, insert_engine)\n",
    "    \n",
    "    # making a cleaned dictionary without None/nan values in the natural_key_column\n",
    "    mask = dataframe[natural_key_column].notnull()\n",
    "    filtered_dataframe = dataframe[mask]\n",
    "    \n",
    "    # getting the natural keys and their corresponding surrogate keys\n",
    "    # TODO FIX THIS, relying on the dataframe index is not a good idea\n",
    "    nk_sk_dict = dict(zip(filtered_dataframe[natural_key_column], dataframe.index))\n",
    "    \n",
    "    # adding +1 to the index to get the surrogate key\n",
    "    nk_sk_dict = {k: v + 1 for k, v in nk_sk_dict.items()}\n",
    "    \n",
    "    return nk_sk_dict"
   ],
   "outputs": [],
   "execution_count": null
  },
  {
   "cell_type": "code",
   "id": "dcf41d6c2aee34fb",
   "metadata": {},
   "source": [
    "def prepare_and_update(table_name, update_engine, nk_sk_dict=None):   \n",
    "    # creating a connection\n",
    "    connection = update_engine.connect()\n",
    "\n",
    "    # Start a transaction\n",
    "    trans = connection.begin()\n",
    "\n",
    "    try:\n",
    "        # adding the data to the database\n",
    "        print(f'Updating data in table: {table_name}')\n",
    "        for column in nk_sk_dict:\n",
    "            # Prepare a batch update statement\n",
    "            update_stmts = []\n",
    "            for natural_key in nk_sk_dict[column]:\n",
    "                # TODO this would not work with updated data in datawarehouse, since this would replace the old and new data. Maybe check the datetime or something\n",
    "                statement = f'UPDATE {table_name} SET {column} = {nk_sk_dict[column][natural_key]} WHERE {column} = {int(natural_key)}'\n",
    "                update_stmts.append(statement)\n",
    "\n",
    "                # If the number of parameters reaches the limit, execute the batch update and clear the list\n",
    "                if len(update_stmts) * 2 >= 2000:  # Each update statement has 2 parameters, cause of the Column and Where clause\n",
    "                    connection.connection.execute(\";\".join(update_stmts))\n",
    "                    update_stmts = []\n",
    "\n",
    "            # Execute the remaining update statements\n",
    "            if update_stmts:\n",
    "                connection.connection.execute(\";\".join(update_stmts))\n",
    "\n",
    "        # Commit the transaction\n",
    "        trans.commit()\n",
    "    except:\n",
    "        # Rollback the transaction in case of error\n",
    "        trans.rollback()\n",
    "        raise\n",
    "    finally:\n",
    "        # Close the connection\n",
    "        connection.close()"
   ],
   "outputs": [],
   "execution_count": null
  },
  {
   "cell_type": "code",
   "id": "20684c4233f7620d",
   "metadata": {},
   "source": [
    "def drop_modified_date_rowguid(dataframe):\n",
    "    # dropping all columns with 'rowguid' in their name\n",
    "    columns_to_drop_mr = dataframe.filter(like='rowguid').columns\n",
    "    \n",
    "    # dropping all columns with 'ModifiedDate' in their name\n",
    "    columns_to_drop_mr = columns_to_drop_mr.append(dataframe.filter(like='ModifiedDate').columns)\n",
    "    \n",
    "    # dropping the columns\n",
    "    dataframe.drop(columns=columns_to_drop_mr, inplace=True)"
   ],
   "outputs": [],
   "execution_count": null
  },
  {
   "cell_type": "markdown",
   "id": "d20434978a02675e",
   "metadata": {},
   "source": [
    "## Create the UnitedOutdoors datawarehouse"
   ]
  },
  {
   "cell_type": "code",
   "id": "f4a738224bd6cb1",
   "metadata": {},
   "source": [
    "_, creation_engine = create_connection(DB[\"servername\"], DB[\"master\"])\n",
    "\n",
    "# Open the SQL script file and read its contents\n",
    "with open('sql/UnitedOutdoors_creation.sql', 'r') as file:\n",
    "    sql_script = file.read()\n",
    "\n",
    "split_and_execute_sql_script(sql_script, creation_engine)\n",
    "\n",
    "creation_engine.dispose()"
   ],
   "outputs": [],
   "execution_count": null
  },
  {
   "cell_type": "markdown",
   "id": "53f0ccd3e21fa4b5",
   "metadata": {},
   "source": [
    "## Connecting to the UnitedOutdoors datawarehouse"
   ]
  },
  {
   "cell_type": "code",
   "id": "68689a803df4672f",
   "metadata": {},
   "source": [
    "_ , united_outdoors_engine = create_connection(DB[\"servername\"], DB[\"united_outdoors_database\"])"
   ],
   "outputs": [],
   "execution_count": null
  },
  {
   "cell_type": "markdown",
   "id": "75e2c357aec06e16",
   "metadata": {},
   "source": [
    "## Loading the data from the source databases"
   ]
  },
  {
   "cell_type": "markdown",
   "id": "e233e17a8927b6b1",
   "metadata": {},
   "source": [
    "### Northwind database"
   ]
  },
  {
   "cell_type": "markdown",
   "id": "aebf714a21c77aac",
   "metadata": {},
   "source": [
    "#### Connection"
   ]
  },
  {
   "cell_type": "code",
   "id": "f49b57c4eb4a0356",
   "metadata": {},
   "source": [
    "northwind_conn, northwind_engine = create_connection(DB[\"servername\"], DB[\"northwind_database\"])"
   ],
   "outputs": [],
   "execution_count": null
  },
  {
   "cell_type": "markdown",
   "id": "ce0ee452c23a7217",
   "metadata": {},
   "source": [
    "#### Loading data"
   ]
  },
  {
   "cell_type": "code",
   "id": "6759fac4a542f313",
   "metadata": {},
   "source": [
    "# Load the data from the source database\n",
    "northwind_categories = pd.read_sql('SELECT * FROM Categories', northwind_conn)\n",
    "northwind_customer_customer_demo = pd.read_sql('SELECT * FROM CustomerCustomerDemo', northwind_conn)\n",
    "northwind_customer_demographics = pd.read_sql('SELECT * FROM CustomerDemographics', northwind_conn)\n",
    "northwind_customers = pd.read_sql('SELECT * FROM Customers', northwind_conn)\n",
    "northwind_employees = pd.read_sql('SELECT * FROM Employees', northwind_conn)\n",
    "northwind_employee_territories = pd.read_sql('SELECT * FROM EmployeeTerritories', northwind_conn)\n",
    "northwind_order_details = pd.read_sql('SELECT * FROM [Order Details]', northwind_conn)\n",
    "northwind_orders = pd.read_sql('SELECT * FROM Orders', northwind_conn)\n",
    "northwind_products = pd.read_sql('SELECT * FROM Products', northwind_conn)\n",
    "northwind_region = pd.read_sql('SELECT * FROM Region', northwind_conn)\n",
    "northwind_shippers = pd.read_sql('SELECT * FROM Shippers', northwind_conn)\n",
    "northwind_suppliers = pd.read_sql('SELECT * FROM Suppliers', northwind_conn)\n",
    "northwind_territories = pd.read_sql('SELECT * FROM Territories', northwind_conn)\n",
    "\n",
    "northwind_conn.close()"
   ],
   "outputs": [],
   "execution_count": null
  },
  {
   "cell_type": "markdown",
   "id": "e8354ea289e5b52f",
   "metadata": {},
   "source": [
    "### Aenc database"
   ]
  },
  {
   "cell_type": "markdown",
   "id": "5a552beede389e74",
   "metadata": {},
   "source": [
    "#### Connection"
   ]
  },
  {
   "cell_type": "code",
   "id": "8068f691bb272a12",
   "metadata": {},
   "source": [
    "aenc_conn , aenc_engine = create_connection(DB[\"servername\"], DB[\"aenc_database\"])"
   ],
   "outputs": [],
   "execution_count": null
  },
  {
   "cell_type": "markdown",
   "id": "52ebbee980f2d5e1",
   "metadata": {},
   "source": [
    "#### Loading data"
   ]
  },
  {
   "cell_type": "code",
   "id": "a13392c1ea85f07c",
   "metadata": {},
   "source": [
    "aenc_bonus              = pd.read_sql('SELECT * FROM Bonus', aenc_conn)\n",
    "aenc_customer           = pd.read_sql('SELECT * FROM Customer', aenc_conn)\n",
    "aenc_department         = pd.read_sql('SELECT * FROM Department', aenc_conn)\n",
    "aenc_employee           = pd.read_sql('SELECT * FROM Employee', aenc_conn)\n",
    "aenc_product            = pd.read_sql('SELECT * FROM Product', aenc_conn)\n",
    "aenc_region             = pd.read_sql('SELECT * FROM Region', aenc_conn)\n",
    "aenc_sales_order        = pd.read_sql('SELECT * FROM SalesOrder', aenc_conn)\n",
    "aenc_sales_order_item   = pd.read_sql('SELECT * FROM SalesOrderItem', aenc_conn)\n",
    "aenc_state              = pd.read_sql('SELECT * FROM State', aenc_conn)\n",
    "\n",
    "aenc_conn.close()"
   ],
   "outputs": [],
   "execution_count": null
  },
  {
   "cell_type": "markdown",
   "id": "333dd57a2b50b509",
   "metadata": {},
   "source": [
    "### AdventureWorks database"
   ]
  },
  {
   "cell_type": "markdown",
   "id": "38a34bcd0999e229",
   "metadata": {},
   "source": [
    "#### Connection"
   ]
  },
  {
   "cell_type": "code",
   "id": "8a7816d659b8042e",
   "metadata": {},
   "source": [
    "adventureworks_conn, adventureworks_engine = create_connection(DB[\"servername\"], DB[\"adventureworks_database\"])"
   ],
   "outputs": [],
   "execution_count": null
  },
  {
   "cell_type": "markdown",
   "id": "dd31b9f74a9313d9",
   "metadata": {},
   "source": [
    "#### Loading data"
   ]
  },
  {
   "cell_type": "code",
   "id": "95d9b1664c99e3c3",
   "metadata": {},
   "source": [
    "adventureworks_humanresources_department = pd.read_sql('SELECT * FROM HumanResources.Department', adventureworks_conn)\n",
    "adventureworks_humanresources_employee = pd.read_sql('SELECT * FROM HumanResources.Employee', adventureworks_conn)\n",
    "adventureworks_humanresources_employeedepartmenthistory = pd.read_sql('SELECT * FROM HumanResources.EmployeeDepartmentHistory', adventureworks_conn)\n",
    "adventureworks_humanresources_employeepayhistory = pd.read_sql('SELECT * FROM HumanResources.EmployeePayHistory', adventureworks_conn)\n",
    "adventureworks_humanresources_jobcandidate = pd.read_sql('SELECT * FROM HumanResources.JobCandidate', adventureworks_conn)\n",
    "adventureworks_humanresources_shift = pd.read_sql('SELECT * FROM HumanResources.Shift', adventureworks_conn)"
   ],
   "outputs": [],
   "execution_count": null
  },
  {
   "cell_type": "code",
   "id": "3b2754e5926d99e6",
   "metadata": {},
   "source": [
    "adventureworks_person_address = pd.read_sql('SELECT AddressID, AddressLine1, AddressLine2, City, StateProvinceID, PostalCode, CAST(SpatialLocation AS VARCHAR(MAX)) AS SpatialLocation,rowguid, ModifiedDate   FROM Person.Address', adventureworks_conn)\n",
    "adventureworks_person_address_type = pd.read_sql('SELECT * FROM Person.AddressType', adventureworks_conn)\n",
    "adventureworks_person_businessentity = pd.read_sql('SELECT * FROM Person.BusinessEntity', adventureworks_conn)\n",
    "adventureworks_person_businessentityaddress = pd.read_sql('SELECT * FROM Person.BusinessEntityAddress', adventureworks_conn)\n",
    "adventureworks_person_businessentitycontact = pd.read_sql('SELECT * FROM Person.BusinessEntityContact', adventureworks_conn)\n",
    "adventureworks_person_contacttype = pd.read_sql('SELECT * FROM Person.ContactType', adventureworks_conn)\n",
    "adventureworks_person_countryregion = pd.read_sql('SELECT * FROM Person.CountryRegion', adventureworks_conn)\n",
    "adventureworks_person_emailaddress = pd.read_sql('SELECT * FROM Person.EmailAddress', adventureworks_conn)\n",
    "adventureworks_person_password = pd.read_sql('SELECT * FROM Person.Password', adventureworks_conn)\n",
    "adventureworks_person_person = pd.read_sql('SELECT * FROM Person.Person', adventureworks_conn)\n",
    "adventureworks_person_personphone = pd.read_sql('SELECT * FROM Person.PersonPhone', adventureworks_conn)\n",
    "adventureworks_person_phonenumbertype = pd.read_sql('SELECT * FROM Person.PhoneNumberType', adventureworks_conn)\n",
    "adventureworks_person_stateprovince = pd.read_sql('SELECT * FROM Person.StateProvince', adventureworks_conn)"
   ],
   "outputs": [],
   "execution_count": null
  },
  {
   "cell_type": "code",
   "id": "b9cf2209b4fc16a4",
   "metadata": {},
   "source": [
    "adventureworks_production_bill_of_materials = pd.read_sql('SELECT * FROM Production.BillOfMaterials', adventureworks_conn)\n",
    "adventureworks_production_culture = pd.read_sql('SELECT * FROM Production.Culture', adventureworks_conn)\n",
    "adventureworks_production_document = pd.read_sql('SELECT * FROM Production.Document', adventureworks_conn)\n",
    "adventureworks_production_illustration = pd.read_sql('SELECT * FROM Production.Illustration', adventureworks_conn)\n",
    "adventureworks_production_location = pd.read_sql('SELECT * FROM Production.Location', adventureworks_conn)\n",
    "adventureworks_production_product = pd.read_sql('SELECT * FROM Production.Product', adventureworks_conn)\n",
    "adventureworks_production_productcategory = pd.read_sql('SELECT * FROM Production.ProductCategory', adventureworks_conn)\n",
    "adventureworks_production_productcosthistory = pd.read_sql('SELECT * FROM Production.ProductCostHistory', adventureworks_conn)\n",
    "adventureworks_production_productdescription = pd.read_sql('SELECT * FROM Production.ProductDescription', adventureworks_conn)\n",
    "adventureworks_production_productdocument = pd.read_sql('SELECT * , CAST(DocumentNode AS VARCHAR(MAX)) AS DocumentNodeString  FROM Production.ProductDocument', adventureworks_conn)\n",
    "adventureworks_production_productinventory = pd.read_sql('SELECT * FROM Production.ProductInventory', adventureworks_conn)\n",
    "adventureworks_production_productlistpricehistory = pd.read_sql('SELECT * FROM Production.ProductListPriceHistory', adventureworks_conn)\n",
    "adventureworks_production_productmodel = pd.read_sql('SELECT * FROM Production.ProductModel', adventureworks_conn)\n",
    "adventureworks_production_productmodelillustration = pd.read_sql('SELECT * FROM Production.ProductModelIllustration', adventureworks_conn)\n",
    "adventureworks_production_productmodelproductdescriptionculture = pd.read_sql('SELECT * FROM Production.ProductModelProductDescriptionCulture', adventureworks_conn)\n",
    "adventureworks_production_productphoto = pd.read_sql('SELECT ProductPhotoID, CONVERT(VARCHAR(MAX),ThumbNailPhoto, 1) as ThumbNailPhotoHexString, ThumbNailPhotoFileName, CONVERT(VARCHAR(MAX), LargePhoto, 1) as LargePhotoHexString, LargePhotoFileName, ModifiedDate FROM Production.ProductPhoto', adventureworks_conn)\n",
    "adventureworks_production_productproductphoto = pd.read_sql('SELECT * FROM Production.ProductProductPhoto', adventureworks_conn)\n",
    "adventureworks_production_productreview = pd.read_sql('SELECT * FROM Production.ProductReview', adventureworks_conn)\n",
    "adventureworks_production_productsubcategory = pd.read_sql('SELECT * FROM Production.ProductSubcategory', adventureworks_conn)\n",
    "adventureworks_production_scrapreason = pd.read_sql('SELECT * FROM Production.ScrapReason', adventureworks_conn)\n",
    "adventureworks_production_transactionhistory = pd.read_sql('SELECT * FROM Production.TransactionHistory', adventureworks_conn)\n",
    "adventureworks_production_transactionhistoryarchive = pd.read_sql('SELECT * FROM Production.TransactionHistoryArchive', adventureworks_conn)\n",
    "adventureworks_production_unitmeasure = pd.read_sql('SELECT * FROM Production.UnitMeasure', adventureworks_conn)\n",
    "adventureworks_production_workorder = pd.read_sql('SELECT * FROM Production.WorkOrder', adventureworks_conn)\n",
    "adventureworks_production_workorderrouting = pd.read_sql('SELECT * FROM Production.WorkOrderRouting', adventureworks_conn)"
   ],
   "outputs": [],
   "execution_count": null
  },
  {
   "cell_type": "code",
   "id": "a05635e1acca8623",
   "metadata": {},
   "source": [
    "adventureworks_purchasing_productvendor = pd.read_sql('SELECT * FROM Purchasing.ProductVendor', adventureworks_conn)\n",
    "adventureworks_purchasing_purchaseorderdetail = pd.read_sql('SELECT * FROM Purchasing.PurchaseOrderDetail', adventureworks_conn)\n",
    "adventureworks_purchasing_purchaseorderheader = pd.read_sql('SELECT * FROM Purchasing.PurchaseOrderHeader', adventureworks_conn)\n",
    "adventureworks_purchasing_shipmethod = pd.read_sql('SELECT * FROM Purchasing.ShipMethod', adventureworks_conn)\n",
    "adventureworks_purchasing_vendor = pd.read_sql('SELECT * FROM Purchasing.Vendor', adventureworks_conn)"
   ],
   "outputs": [],
   "execution_count": null
  },
  {
   "cell_type": "code",
   "id": "d85ccde07f7a7d22",
   "metadata": {},
   "source": [
    "adventureworks_sales_countryregioncurrency = pd.read_sql('SELECT * FROM Sales.CountryRegionCurrency', adventureworks_conn)\n",
    "adventureworks_sales_creditcard = pd.read_sql('SELECT * FROM Sales.CreditCard', adventureworks_conn)\n",
    "adventureworks_sales_currency = pd.read_sql('SELECT * FROM Sales.Currency', adventureworks_conn)\n",
    "adventureworks_sales_currencyrate = pd.read_sql('SELECT * FROM Sales.CurrencyRate', adventureworks_conn)\n",
    "adventureworks_sales_customer = pd.read_sql('SELECT * FROM Sales.Customer', adventureworks_conn)\n",
    "adventureworks_sales_personcreditcard = pd.read_sql('SELECT * FROM Sales.PersonCreditCard', adventureworks_conn)\n",
    "adventureworks_sales_salesorderdetail = pd.read_sql('SELECT * FROM Sales.SalesOrderDetail', adventureworks_conn)\n",
    "adventureworks_sales_salesorderheader = pd.read_sql('SELECT * FROM Sales.SalesOrderHeader', adventureworks_conn)\n",
    "adventureworks_sales_salesorderhearerrsaleseason = pd.read_sql('SELECT * FROM Sales.SalesOrderHeaderSalesReason', adventureworks_conn)\n",
    "adventureworks_sales_salesperson = pd.read_sql('SELECT * FROM Sales.SalesPerson', adventureworks_conn)\n",
    "adventureworks_sales_salespersonquotahistory = pd.read_sql('SELECT * FROM Sales.SalesPersonQuotaHistory', adventureworks_conn)\n",
    "adventureworks_sales_salesreason = pd.read_sql('SELECT * FROM Sales.SalesReason', adventureworks_conn)\n",
    "adventureworks_sales_salestaxrate = pd.read_sql('SELECT * FROM Sales.SalesTaxRate', adventureworks_conn)\n",
    "adventureworks_sales_salesterritory = pd.read_sql('SELECT * FROM Sales.SalesTerritory', adventureworks_conn)\n",
    "adventureworks_sales_salesterritoryhistory = pd.read_sql('SELECT * FROM Sales.SalesTerritoryHistory', adventureworks_conn)\n",
    "adventureworks_sales_shoppingcartitem = pd.read_sql('SELECT * FROM Sales.ShoppingCartItem', adventureworks_conn)\n",
    "adventureworks_sales_specialoffer = pd.read_sql('SELECT * FROM Sales.SpecialOffer', adventureworks_conn)\n",
    "adventureworks_sales_specialofferproduct = pd.read_sql('SELECT * FROM Sales.SpecialOfferProduct', adventureworks_conn)\n",
    "adventureworks_sales_store = pd.read_sql('SELECT * FROM Sales.Store', adventureworks_conn)\n",
    "\n",
    "adventureworks_conn.close()"
   ],
   "outputs": [],
   "execution_count": null
  },
  {
   "cell_type": "markdown",
   "id": "b05031a91d18ef67",
   "metadata": {},
   "source": [
    "## Combining the data\n",
    "ORDER MATTERS, CAUSE SURROGATE KEYS\n",
    "SK STILL NEEDS TO BE DONE"
   ]
  },
  {
   "cell_type": "markdown",
   "id": "952478cb55013351",
   "metadata": {},
   "source": [
    "### Departments\n",
    "Combining aenc and adventureworks department data"
   ]
  },
  {
   "cell_type": "code",
   "id": "1c9b32acb478d507",
   "metadata": {},
   "source": [
    "# adding DEPARTMENT_source_database columns to the dataframes\n",
    "aenc_department['DEPARTMENT_source_database'] = 'aenc'\n",
    "adventureworks_humanresources_department['DEPARTMENT_source_database'] = 'adventureworks'\n",
    "\n",
    "# combining all department data\n",
    "departments = pd.concat([aenc_department, adventureworks_humanresources_department], ignore_index=True)\n",
    "\n",
    "# combining name and department name columns to create a name column\n",
    "departments['DEPARTMENT_DEPARTMENT_DeptName'] = departments['Name'].combine_first(departments['dept_name'])\n",
    "# combining dept_id and DepartmentID columns\n",
    "departments['DEPARTMENT_DEPARTMENT_DeptID'] = departments['dept_id'].combine_first(departments['DepartmentID'])\n",
    "\n",
    "# dropping the redundant columns\n",
    "drop_modified_date_rowguid(departments)\n",
    "departments.drop(columns=['dept_id', 'Name', 'dept_name', 'DepartmentID'], inplace=True)\n",
    "\n",
    "# renaming the remaining columns\n",
    "departments.rename(columns={'dept_head_id': 'DEPARTMENT_DEPARTMENT_DeptHeadID', 'GroupName': 'DEPARTMENT_DEPARTMENT_GroupName'}, inplace=True)\n",
    "\n",
    "departments.head()"
   ],
   "outputs": [],
   "execution_count": null
  },
  {
   "cell_type": "markdown",
   "id": "6a4861bc",
   "metadata": {},
   "source": [
    "### Employee"
   ]
  },
  {
   "cell_type": "code",
   "id": "614f4082",
   "metadata": {},
   "source": [
    "# merge northwind with territory and employee\n",
    "employee1 = pd.merge(northwind_employees, northwind_employee_territories, on='EmployeeID')\n",
    "employee1 = employee1.drop(columns=['EmployeeID', 'LastName', 'FirstName', 'BirthDate', 'Address', 'City', 'Region', 'PostalCode', 'Country', 'HomePhone', 'ReportsTo'])\n",
    "\n",
    "# merge employee from aenc with bonus\n",
    "employee2 = pd.merge(aenc_employee, aenc_bonus, on='emp_id')\n",
    "\n",
    "# after that concat together\n",
    "employees = pd.concat([employee1, employee2], ignore_index=True)\n",
    "\n",
    "# rename\n",
    "employees.rename(columns={\n",
    "    'emp_id': 'EMPLOYEE_EMPLOYEE_EmployeeID', \n",
    "    'dept_id': 'EMPLOYEE_EMPLOYEE_DepartmentID', \n",
    "    'manager_id': 'EMPLOYEE_EMPLOYEE_ManagerID', \n",
    "    'territory_id' : 'EMPLOYEE_EMPLOYEETERRITORIES_TerritoryID',\n",
    "    'emp_fname' : 'EMPLOYEE_EMPLOYEE_Emp_Fname',\n",
    "    'emp_lname' : 'EMPLOYEE_EMPLOYEE_Emp_Lname',\n",
    "    'street' : 'EMPLOYEE_EMPLOYEE_Street',\n",
    "    'city' : 'EMPLOYEE_EMPLOYEE_City',\n",
    "    'state' : 'EMPLOYEE_EMPLOYEE_State',\n",
    "    'zip_code' : 'EMPLOYEE_EMPLOYEE_Zip_Code',\n",
    "    'phone' : 'EMPLOYEE_EMPLOYEE_Phone',\n",
    "    'status' : 'EMPLOYEE_EMPLOYEE_Status',\n",
    "    'ss_number' : 'EMPLOYEE_EMPLOYEE_SS_Number',\n",
    "    'salary' : 'EMPLOYEE_EMPLOYEE_Salary',\n",
    "    'start_date' : 'EMPLOYEE_EMPLOYEE_Start_Date',\n",
    "    'termination_date' : 'EMPLOYEE_EMPLOYEE_Termination',\n",
    "    'birth_date' : 'EMPLOYEE_EMPLOYEE_Birth_Date',\n",
    "    'bene_health_ins' : 'EMPLOYEE_EMPLOYEE_Bene_Health_Ins',\n",
    "    'bene_life_ins' : 'EMPLOYEE_EMPLOYEE_Bene_Life_Ins',\n",
    "    'bene_day_care' : 'EMPLOYEE_EMPLOYEE_Bene_Day_Care',\n",
    "    'sex' : 'EMPLOYEE_EMPLOYEE_Sex',\n",
    "    'bonus_date' : 'EMPLOYEE_BONUS_Bonus_Date',\n",
    "    'bonus_amount' : 'EMPLOYEE_BONUS_Bonus_Amount',\n",
    "    'Title' : 'EMPLOYEE_EMPLOYEES_Title',\n",
    "    'TitleOfCourtesy' : 'EMPLOYEE_EMPLOYEES_TitleOfCourtesy',\n",
    "    'HireDate' : 'EMPLOYEE_EMPLOYEES_HireDate',\n",
    "    'HomePhone' : 'EMPLOYEE_EMPLOYEES_HomePhone',\n",
    "    'Extension' : 'EMPLOYEE_EMPLOYEES_Extension',\n",
    "    'Photo' : 'EMPLOYEE_EMPLOYEES_Photo',\n",
    "    'PhotoPath' : 'EMPLOYEE_EMPLOYEES_PhotoPath',\n",
    "    'Notes' : 'EMPLOYEE_EMPLOYEES_Notes'\n",
    "}, inplace=True)\n",
    "\n",
    "desired_columns_order = ['EMPLOYEE_EMPLOYEE_EmployeeID', 'EMPLOYEE_EMPLOYEE_DepartmentID', 'EMPLOYEE_EMPLOYEE_ManagerID', 'EMPLOYEE_EMPLOYEETERRITORIES_TerritoryID','EMPLOYEE_EMPLOYEE_Emp_Fname','EMPLOYEE_EMPLOYEE_Emp_Lname','EMPLOYEE_EMPLOYEE_Street','EMPLOYEE_EMPLOYEE_City','EMPLOYEE_EMPLOYEE_State','EMPLOYEE_EMPLOYEE_Zip_Code','EMPLOYEE_EMPLOYEE_Phone','EMPLOYEE_EMPLOYEE_Status','EMPLOYEE_EMPLOYEE_SS_Number','EMPLOYEE_EMPLOYEE_Salary','EMPLOYEE_EMPLOYEE_Start_Date','EMPLOYEE_EMPLOYEE_Termination','EMPLOYEE_EMPLOYEE_Birth_Date','EMPLOYEE_EMPLOYEE_Bene_Health_Ins','EMPLOYEE_EMPLOYEE_Bene_Life_Ins','EMPLOYEE_EMPLOYEE_Bene_Day_Care','EMPLOYEE_EMPLOYEE_Sex','EMPLOYEE_BONUS_Bonus_Date','EMPLOYEE_BONUS_Bonus_Amount','EMPLOYEE_EMPLOYEES_Title','EMPLOYEE_EMPLOYEES_TitleOfCourtesy','EMPLOYEE_EMPLOYEES_HireDate','EMPLOYEE_EMPLOYEES_HomePhone','EMPLOYEE_EMPLOYEES_Extension','EMPLOYEE_EMPLOYEES_Photo','EMPLOYEE_EMPLOYEES_PhotoPath','EMPLOYEE_EMPLOYEES_Notes']\n",
    "\n",
    "#order\n",
    "employees = employees.reindex(columns=desired_columns_order)\n",
    "\n",
    "employees.head()"
   ],
   "outputs": [],
   "execution_count": null
  },
  {
   "cell_type": "markdown",
   "id": "5a1104842049cb4c",
   "metadata": {},
   "source": [
    "### BusinessEntities"
   ]
  },
  {
   "cell_type": "code",
   "id": "49faddce16b73f49",
   "metadata": {},
   "source": [
    "# Combining the adventureworks Person.BusinessEntity, BusinessEntityContact and ContactType data\n",
    "businessentities= pd.merge(adventureworks_person_businessentity, adventureworks_person_businessentitycontact, left_on='BusinessEntityID', right_on='BusinessEntityID', suffixes=('_person_businessentity', '_businessentitycontact'), how=\"outer\")\n",
    "\n",
    "businessentities = pd.merge(businessentities, adventureworks_person_contacttype, left_on='ContactTypeID', right_on='ContactTypeID', suffixes=('', '_contacttype'), how=\"outer\")\n",
    "\n",
    "# dropping the modified date and rowguid columns\n",
    "drop_modified_date_rowguid(businessentities)\n",
    "\n",
    "# renaming the columns\n",
    "businessentities.rename(columns={'BusinessEntityID': 'BUSINESSENTITY_BUSINESSENTITY_BusinessEntityID', 'PersonID': 'BUSINESSENTITY_BUSINESSENTITYCONTACT_PersonID', 'ContactTypeID': 'BUSINESSENTITY_CONTACTTYPE_ContactTypeID', 'Name' : 'BUSINESSENTITY_CONTACTTYPE_Name'}, inplace=True)\n",
    "\n",
    "businessentities.head()"
   ],
   "outputs": [],
   "execution_count": null
  },
  {
   "cell_type": "markdown",
   "id": "d61f4db888316c68",
   "metadata": {},
   "source": [
    "### BusinessEntityAddresses"
   ]
  },
  {
   "cell_type": "code",
   "id": "ec5238c4bd67fbac",
   "metadata": {},
   "source": [
    "# Combining the adventureworks Person.BusinessEntityAddress, Address and AddressType data\n",
    "businessentityaddresses = pd.merge(adventureworks_person_businessentityaddress, adventureworks_person_address, left_on='AddressID', right_on='AddressID', suffixes=('', '_address'), how=\"outer\")\n",
    "\n",
    "businessentityaddresses = pd.merge(businessentityaddresses, adventureworks_person_address_type, left_on='AddressTypeID', right_on='AddressTypeID', suffixes=('', '_address_type'), how=\"outer\")\n",
    "\n",
    "\n",
    "# dropping the modified date and rowguid columns\n",
    "drop_modified_date_rowguid(businessentityaddresses)\n",
    "\n",
    "# renaming the columns\n",
    "businessentityaddresses.rename(columns={'BusinessEntityID': 'BUSINESSENTITYADDRESS_BUSINESSENTITYADDRESS_BusinessEntityID', 'AddressID': 'BUSINESSENTITYADDRESS_ADDRESS_AddressID', 'AddressTypeID': 'BUSINESSENTITYADDRESS_ADDRESSTYPE_AddressTypeID', 'AddressLine1' : 'BUSINESSENTITYADDRESS_ADDRESS_AddressLine1', 'AddressLine2' : 'BUSINESSENTITYADDRESS_ADDRESS_AddressLine2', 'City' : 'BUSINESSENTITYADDRESS_ADDRESS_City', 'StateProvinceID' : 'BUSINESSENTITYADDRESS_ADDRESS_StateProvinceID', 'PostalCode' : 'BUSINESSENTITYADDRESS_ADDRESS_POSTALCODE', 'SpatialLocation' : 'BUSINESSENTITYADDRESS_ADDRESS_SpatialLocation', 'Name' : 'BUSINESSENTITYADDRESS_ADDRESSTYPE_Name'}, inplace=True)\n",
    "\n",
    "businessentityaddresses.head()"
   ],
   "outputs": [],
   "execution_count": null
  },
  {
   "cell_type": "markdown",
   "id": "82b616d849111263",
   "metadata": {},
   "source": [
    "### People"
   ]
  },
  {
   "cell_type": "code",
   "id": "f69f5dd65aadcd8a",
   "metadata": {},
   "source": [
    "# combining person data from adventureworks HumanResources.Person, PersonPhone, PhoneNumberType, EmailAddress and Password\n",
    "people = pd.merge(adventureworks_person_person, adventureworks_person_personphone, left_on='BusinessEntityID', right_on='BusinessEntityID', suffixes= ('_person', '_personphone'), how=\"outer\")\n",
    "\n",
    "people = pd.merge(people, adventureworks_person_phonenumbertype, left_on='PhoneNumberTypeID', right_on='PhoneNumberTypeID', suffixes=('', '_phonenumbertype'), how=\"outer\")\n",
    "\n",
    "people = pd.merge(people, adventureworks_person_emailaddress, left_on='BusinessEntityID', right_on='BusinessEntityID', suffixes=('','_emailaddress'), how=\"outer\")\n",
    "\n",
    "people = pd.merge(people, adventureworks_person_password, left_on='BusinessEntityID', right_on='BusinessEntityID', suffixes=('','_password'), how=\"outer\")\n",
    "\n",
    "# dropping the modified date and rowguid columns\n",
    "drop_modified_date_rowguid(people)\n",
    "\n",
    "# renaming the columns\n",
    "people.rename(columns={'BusinessEntityID': 'PERSON_PERSON_BusinessEntityID', 'PersonType': 'PERSON_PERSON_PersonType', 'NameStyle': 'PERSON_PERSON_NameStyle', 'Title': 'PERSON_PERSON_Title', 'FirstName': 'PERSON_PERSON_FirstName', 'MiddleName' : 'PERSON_PERSON_MiddleName', 'LastName' : 'PERSON_PERSON_LastName', 'Suffix': 'PERSON_PERSON_Suffix', 'EmailPromotion' : 'PERSON_PERSON_EmailPromotion', 'AdditionalContactInfo' : 'PERSON_PERSON_AdditionalContactInfo', 'Demographics' : 'PERSON_PERSON_Demographics', 'PhoneNumber' : 'PERSON_PERSONPHONE_PhoneNumber', 'PhoneNumberTypeID' : 'PERSON_PHONENUMBERTYPE_PhoneNumberTypeID', 'Name' : 'PERSON_PHONENUMBERTYPE_Name', 'EmailAddressID': 'PERSON_EMAILADDRESS_EmailAddressID', 'EmailAddress' : 'PERSON_EMAILADDRESS_EmailAddress', 'PasswordHash' : 'PERSON_PASSWORD_PasswordHash', 'PasswordSalt' : 'PERSON_PASSWORD_PasswordSalt'}, inplace=True)\n",
    "\n",
    "people.head()"
   ],
   "outputs": [],
   "execution_count": null
  },
  {
   "cell_type": "markdown",
   "id": "2789c1244e1fb15f",
   "metadata": {},
   "source": [
    "### Products (TODO CHANGE)"
   ]
  },
  {
   "cell_type": "code",
   "id": "8219ec936b825554",
   "metadata": {},
   "source": [
    "# renaming aenc product columns to match the other product data\n",
    "aenc_product.rename(columns={'id': 'ProductID', 'name' : 'ProductName', 'description':'Description' , 'prod_size' : 'ProdSize', 'color': 'Color', 'quantity': 'Quantity','unit_price' : 'UnitPrice'}, inplace=True)\n",
    "\n",
    "aenc_product.head()"
   ],
   "outputs": [],
   "execution_count": null
  },
  {
   "cell_type": "code",
   "id": "52a700e7372e5349",
   "metadata": {},
   "source": [
    "# combining all adventureworks product data\n",
    "adventureworks_combined_products = pd.concat([adventureworks_production_product, adventureworks_production_productcategory, adventureworks_production_productsubcategory, adventureworks_production_productdescription, adventureworks_production_productdocument, adventureworks_production_productmodel, adventureworks_production_productmodelillustration, adventureworks_production_productmodelproductdescriptionculture, adventureworks_production_productphoto, adventureworks_production_productproductphoto  ], ignore_index=True)\n",
    "\n",
    "adventureworks_combined_products.head()"
   ],
   "outputs": [],
   "execution_count": null
  },
  {
   "cell_type": "code",
   "id": "53115252ca2d1bf3",
   "metadata": {},
   "source": [
    "# Combining all product data\n",
    "products = pd.concat([northwind_products, aenc_product, adventureworks_combined_products], ignore_index=True)\n",
    "\n",
    "# replacing the document node with documentnodestring\n",
    "products['DocumentNode'] = products['DocumentNodeString']\n",
    "products.drop(columns=['DocumentNodeString'], inplace=True)\n",
    "\n",
    "# applying the data types to the columns\n",
    "products['ProductID'] = products['ProductID'].astype(float) # casting to float seems counterintuitive but it is necessary to avoid an error in Pandas\n",
    "\n",
    "# dropping documentnode column (need to fix later)\n",
    "products.drop(columns=['DocumentNode'], inplace=True)\n",
    "\n",
    "\n",
    "products.head()"
   ],
   "outputs": [],
   "execution_count": null
  },
  {
   "cell_type": "markdown",
   "id": "0bc8f6de",
   "metadata": {},
   "source": [
    "### JobCandidate"
   ]
  },
  {
   "cell_type": "code",
   "id": "84a1abaf",
   "metadata": {},
   "source": [
    "jobcandidates = adventureworks_humanresources_jobcandidate\n",
    "\n",
    "# dropping the modified date and rowguid columns\n",
    "drop_modified_date_rowguid(jobcandidates)\n",
    "\n",
    "# renaming the columns\n",
    "jobcandidates.rename(columns={'JobCandidateID': 'JOBCANDIDATE_JOBCANDIDATE_JobCandidateID', 'BusinessEntityID': 'JOBCANDIDATE_JOBCANDIDATE_BusinessEntityID', 'Resume': 'JOBCANDIDATE_JOBCANDIDATE_Resume'}, inplace=True)\n",
    "\n",
    "jobcandidates.head()"
   ],
   "outputs": [],
   "execution_count": null
  },
  {
   "cell_type": "markdown",
   "id": "88dc6bb1",
   "metadata": {},
   "source": [
    "### EmployeeDepartmentHistory"
   ]
  },
  {
   "cell_type": "code",
   "id": "029d9f7d",
   "metadata": {},
   "source": [
    "employeedepartmenthistories = adventureworks_humanresources_employeedepartmenthistory\n",
    "\n",
    "# dropping the modified date and rowguid columns\n",
    "drop_modified_date_rowguid(employeedepartmenthistories)\n",
    "\n",
    "# renaming the columns\n",
    "employeedepartmenthistories.rename(columns={'BusinessEntityID': 'EMPLOYEEDEPARTMENTHISTORY_EMPLOYEEDEPARTMENTHISTORY_BusinessEntityID', 'DepartmentID': 'EMPLOYEEDEPARTMENTHISTORY_EMPLOYEEDEPARTMENTHISTORY_DepartmentID', 'ShiftID': 'EMPLOYEEDEPARTMENTHISTORY_EMPLOYEEDEPARTMENTHISTORY_ShiftID', 'StartDate': 'EMPLOYEEDEPARTMENTHISTORY_EMPLOYEEDEPARTMENTHISTORY_StartDate', 'EndDate': 'EMPLOYEEDEPARTMENTHISTORY_EMPLOYEEDEPARTMENTHISTORY_EndDate'}, inplace=True)\n",
    "\n",
    "employeedepartmenthistories.head()"
   ],
   "outputs": [],
   "execution_count": null
  },
  {
   "cell_type": "markdown",
   "id": "c9d9059e",
   "metadata": {},
   "source": [
    "### EmployeePayHistory"
   ]
  },
  {
   "cell_type": "code",
   "id": "96640d23",
   "metadata": {},
   "source": [
    "employeepayhistories = adventureworks_humanresources_employeepayhistory\n",
    "\n",
    "# dropping the modified date and rowguid columns\n",
    "drop_modified_date_rowguid(employeepayhistories)\n",
    "\n",
    "# renaming the columns\n",
    "employeepayhistories.rename(columns={'BusinessEntityID': 'EMPLOYEEPAYHISTORY_EMPLOYEEPAYHISTORY_BusinessEntityID', 'RateChangeDate': 'EMPLOYEEPAYHISTORY_EMPLOYEEPAYHISTORY_RateChangeDate', 'Rate': 'EMPLOYEEPAYHISTORY_EMPLOYEEPAYHISTORY_Rate', 'PayFrequency': 'EMPLOYEEPAYHISTORY_EMPLOYEEPAYHISTORY_PayFrequency'}, inplace=True)\n",
    "\n",
    "employeepayhistories.head()"
   ],
   "outputs": [],
   "execution_count": null
  },
  {
   "cell_type": "markdown",
   "id": "0e6b58ec",
   "metadata": {},
   "source": [
    "### Shift"
   ]
  },
  {
   "cell_type": "code",
   "id": "ef5a92bc",
   "metadata": {},
   "source": [
    "shifts = adventureworks_humanresources_shift\n",
    "\n",
    "# dropping the modified date and rowguid columns\n",
    "drop_modified_date_rowguid(shifts)\n",
    "\n",
    "# renaming the columns\n",
    "shifts.rename(columns={'ShiftID': 'SHIFT_SHIFT_ShiftID', 'Name': 'SHIFT_SHIFT_Name', 'StartTime': 'SHIFT_SHIFT_StartTime', 'EndTime': 'SHIFT_SHIFT_EndTime'}, inplace=True)\n",
    "\n",
    "shifts.head()"
   ],
   "outputs": [],
   "execution_count": null
  },
  {
   "cell_type": "markdown",
   "id": "131ba365",
   "metadata": {},
   "source": [
    "### SalesPerson"
   ]
  },
  {
   "cell_type": "code",
   "id": "612bb138",
   "metadata": {},
   "source": [
    "salespeople = adventureworks_sales_salesperson\n",
    "\n",
    "# dropping the modified date and rowguid columns\n",
    "drop_modified_date_rowguid(salespeople)\n",
    "\n",
    "# renaming the columns\n",
    "salespeople.rename(columns={'BusinessEntityID': 'SALESPERSON_SALESPERSON_BusinessEntityID', 'TerritoryID': 'SALESPERSON_SALESPERSON_TerritoryID', 'SalesQuota': 'SALESPERSON_SALESPERSON_SalesQuota', 'Bonus': 'SALESPERSON_SALESPERSON_Bonus', 'CommissionPct': 'SALESPERSON_SALESPERSON_CommissionPct', 'SalesYTD': 'SALESPERSON_SALESPERSON_SalesYTD', 'SalesLastYear': 'SALESPERSON_SALESPERSON_SalesLastYear'}, inplace=True)\n",
    "\n",
    "salespeople.head()"
   ],
   "outputs": [],
   "execution_count": null
  },
  {
   "cell_type": "markdown",
   "id": "001f68af",
   "metadata": {},
   "source": [
    "### ProductVendor"
   ]
  },
  {
   "cell_type": "code",
   "id": "40928557",
   "metadata": {},
   "source": [
    "productvendors = adventureworks_purchasing_productvendor\n",
    "\n",
    "# dropping the modified date and rowguid columns\n",
    "drop_modified_date_rowguid(productvendors)\n",
    "\n",
    "# renaming the columns\n",
    "productvendors.rename(columns={'ProductID': 'PRODUCTVENDOR_PRODUCTVENDOR_ProductID', 'BusinessEntityID': 'PRODUCTVENDOR_PRODUCTVENDOR_BusinessEntityID', 'AverageLeadTime': 'PRODUCTVENDOR_PRODUCTVENDOR_AverageLeadTime', 'StandardPrice': 'PRODUCTVENDOR_PRODUCTVENDOR_StandardPrice', 'LastReceiptCost': 'PRODUCTVENDOR_PRODUCTVENDOR_LastReceiptCost', 'LastReceiptDate': 'PRODUCTVENDOR_PRODUCTVENDOR_LastReceiptDate', 'MinOrderQty': 'PRODUCTVENDOR_PRODUCTVENDOR_MinOrderQty', 'MaxOrderQty': 'PRODUCTVENDOR_PRODUCTVENDOR_MaxOrderQty', 'OnOrderQty': 'PRODUCTVENDOR_PRODUCTVENDOR_OnOrderQty', 'UnitMeasureCode' : 'PRODUCTVENDOR_PRODUCTVENDOR_UnitMeasureCode'}, inplace=True)\n",
    "\n",
    "productvendors.head()"
   ],
   "outputs": [],
   "execution_count": null
  },
  {
   "cell_type": "markdown",
   "id": "0588831f",
   "metadata": {},
   "source": [
    "### CustomerCustomerDemo"
   ]
  },
  {
   "cell_type": "code",
   "id": "01e448dd",
   "metadata": {},
   "source": [
    "customercustomerdemos = northwind_customer_customer_demo\n",
    "\n",
    "# dropping the modified date and rowguid columns\n",
    "drop_modified_date_rowguid(customercustomerdemos)\n",
    "\n",
    "# renaming the columns\n",
    "customercustomerdemos.rename(columns={'CustomerID': 'CUSTOMERCUSTOMERDEMO_CUSTOMERCUSTOMERDEMO_CustomerID', 'CustomerTypeID': 'CUSTOMERCUSTOMERDEMO_CUSTOMERCUSTOMERDEMO_CustomerTypeID'}, inplace=True)\n",
    "\n",
    "customercustomerdemos.head()"
   ],
   "outputs": [],
   "execution_count": null
  },
  {
   "cell_type": "markdown",
   "id": "1c471099",
   "metadata": {},
   "source": [
    "### CustomerDemographics"
   ]
  },
  {
   "cell_type": "code",
   "id": "f7418ca6",
   "metadata": {},
   "source": [
    "customerdemographics = northwind_customer_demographics\n",
    "\n",
    "# dropping the modified date and rowguid columns\n",
    "drop_modified_date_rowguid(customerdemographics)\n",
    "\n",
    "# renaming the columns\n",
    "customerdemographics.rename(columns={'CustomerTypeID': 'CUSTOMERDEMOGRAPHIC_CUSTOMERDEMOGRAPHICS_CustomerTypeID', 'CustomerDesc': 'CUSTOMERDEMOGRAPHIC_CUSTOMERDEMOGRAPHICS_CustomerDesc'}, inplace=True)\n",
    "\n",
    "customerdemographics.head()"
   ],
   "outputs": [],
   "execution_count": null
  },
  {
   "cell_type": "markdown",
   "id": "b4b52fc3",
   "metadata": {},
   "source": [
    "### SalesTerritoryHistory"
   ]
  },
  {
   "cell_type": "code",
   "id": "80287381",
   "metadata": {},
   "source": [
    "salesterritoryhistories = adventureworks_sales_salesterritoryhistory\n",
    "\n",
    "# dropping the modified date and rowguid columns\n",
    "drop_modified_date_rowguid(salesterritoryhistories)\n",
    "\n",
    "# renaming the columns\n",
    "salesterritoryhistories.rename(columns={'BusinessEntityID': 'SALESTERRITORYHISTORY_SALESTERRITORYHISTORY_BusinessEntityID', 'TerritoryID': 'SALESTERRITORYHISTORY_SALESTERRITORYHISTORY_TerritoryID', 'StartDate': 'SALESTERRITORYHISTORY_SALESTERRITORYHISTORY_StartDate', 'EndDate': 'SALESTERRITORYHISTORY_SALESTERRITORYHISTORY_EndDate'}, inplace=True)\n",
    "\n",
    "salesterritoryhistories.head()"
   ],
   "outputs": [],
   "execution_count": null
  },
  {
   "cell_type": "markdown",
   "id": "49bbc033",
   "metadata": {},
   "source": [
    "### ProductListPriceHistory"
   ]
  },
  {
   "cell_type": "code",
   "id": "e70ceb70",
   "metadata": {},
   "source": [
    "productlistpricehistories = adventureworks_production_productlistpricehistory\n",
    "\n",
    "# dropping the modified date and rowguid columns\n",
    "drop_modified_date_rowguid(productlistpricehistories)\n",
    "\n",
    "# renaming the columns\n",
    "productlistpricehistories.rename(columns={'ProductID': 'PRODUCTLISTPRICEHISTORY_PRODUCTLISTPRICEHISTORY_ProductID', 'StartDate': 'PRODUCTLISTPRICEHISTORY_PRODUCTLISTPRICEHISTORY_StartDate', 'EndDate': 'PRODUCTLISTPRICEHISTORY_PRODUCTLISTPRICEHISTORY_EndDate', 'ListPrice': 'PRODUCTLISTPRICEHISTORY_PRODUCTLISTPRICEHISTORY_ListPrice'}, inplace=True)\n",
    "\n",
    "productlistpricehistories.head()"
   ],
   "outputs": [],
   "execution_count": null
  },
  {
   "cell_type": "markdown",
   "id": "8c66046d",
   "metadata": {},
   "source": [
    "### ProductCostHistory"
   ]
  },
  {
   "cell_type": "code",
   "id": "b8db6398",
   "metadata": {},
   "source": [
    "productcosthistories = adventureworks_production_productcosthistory\n",
    "\n",
    "# dropping the modified date and rowguid columns\n",
    "drop_modified_date_rowguid(productcosthistories)\n",
    "\n",
    "# renaming the columns\n",
    "productcosthistories.rename(columns={'ProductID': 'PRODUCTCOSTHISTORY_PRODUCTCOSTHISTORY_ProductID', 'StartDate': 'PRODUCTCOSTHISTORY_PRODUCTCOSTHISTORY_StartDate', 'EndDate': 'PRODUCTCOSTHISTORY_PRODUCTCOSTHISTORY_EndDate', 'StandardCost': 'PRODUCTCOSTHISTORY_PRODUCTCOSTHISTORY_StandardCost'}, inplace=True)\n",
    "\n",
    "productcosthistories.head()"
   ],
   "outputs": [],
   "execution_count": null
  },
  {
   "cell_type": "markdown",
   "id": "c79b5992",
   "metadata": {},
   "source": [
    "### ShoppingCartItem"
   ]
  },
  {
   "cell_type": "code",
   "id": "3edf8d61",
   "metadata": {},
   "source": [
    "shoppingcartitems = adventureworks_sales_shoppingcartitem\n",
    "\n",
    "# dropping the modified date and rowguid columns\n",
    "drop_modified_date_rowguid(shoppingcartitems)\n",
    "\n",
    "# renaming the columns\n",
    "shoppingcartitems.rename(columns={'ShoppingCartItemID': 'SHOPPINGCARTITEM_SHOPPINGCARTITEM_ShoppingCartItemID', 'ShoppingCartID': 'SHOPPINGCARTITEM_SHOPPINGCARTITEM_ShoppingCartID', 'Quantity': 'SHOPPINGCARTITEM_SHOPPINGCARTITEM_Quantity', 'ProductID': 'SHOPPINGCARTITEM_SHOPPINGCARTITEM_ProductID', 'DateCreated': 'SHOPPINGCARTITEM_SHOPPINGCARTITEM_DateCreated'}, inplace=True)\n",
    "\n",
    "shoppingcartitems.head()"
   ],
   "outputs": [],
   "execution_count": null
  },
  {
   "cell_type": "markdown",
   "id": "6ba25cfd",
   "metadata": {},
   "source": [
    "### SalesPersonQuotaHistory"
   ]
  },
  {
   "cell_type": "code",
   "id": "59485d0d",
   "metadata": {},
   "source": [
    "salespersonquotahistories = adventureworks_sales_salespersonquotahistory\n",
    "\n",
    "# dropping the modified date and rowguid columns\n",
    "drop_modified_date_rowguid(salespersonquotahistories)\n",
    "\n",
    "# renaming the columns\n",
    "salespersonquotahistories.rename(columns={'BusinessEntityID': 'SALESPERSONQUOTAHISTORY_SALESPERSONQUOTAHISTORY_BusinessEntityID', 'QuotaDate': 'SALESPERSONQUOTAHISTORY_SALESPERSONQUOTAHISTORY_QuotaDate', 'SalesQuota': 'SALESPERSONQUOTAHISTORY_SALESPERSONQUOTAHISTORY_SalesQuota'}, inplace=True)\n",
    "\n",
    "salespersonquotahistories.head()"
   ],
   "outputs": [],
   "execution_count": null
  },
  {
   "cell_type": "markdown",
   "id": "96a94681",
   "metadata": {},
   "source": [
    "### Customer"
   ]
  },
  {
   "cell_type": "code",
   "id": "8d952b72",
   "metadata": {},
   "source": [
    "aenc_customer = aenc_customer[['fname', 'lname', 'state']]\n",
    "northwind_customers = northwind_customers.drop(columns='CustomerID')\n",
    "\n",
    "# combining all customer data\n",
    "customers = pd.concat([northwind_customers, aenc_customer, adventureworks_sales_customer], ignore_index=True)\n",
    "\n",
    "# rename\n",
    "customers.rename(columns={\n",
    "    'CustomerID': 'CUSTOMER_CUSTOMERS_ID',\n",
    "    'CompanyName': 'CUSTOMER_CUSTOMERS_CompanyName',\n",
    "    'ContactName': 'CUSTOMER_CUSTOMERS_ContactName',\n",
    "    'ContactTitle': 'CUSTOMER_CUSTOMERS_ContactTitle',\n",
    "    'Address': 'CUSTOMER_CUSTOMERS_Address',\n",
    "    'City': 'CUSTOMER_CUSTOMERS_City',\n",
    "    'Region': 'CUSTOMER_CUSTOMERS_Region',\n",
    "    'PostalCode': 'CUSTOMER_CUSTOMERS_PostalCode',\n",
    "    'Country': 'CUSTOMER_CUSTOMERS_Country',\n",
    "    'Phone': 'CUSTOMER_CUSTOMERS_Phone',\n",
    "    'Fax': 'CUSTOMER_CUSTOMERS_Fax',\n",
    "    'fname': 'CUSTOMER_CUSTOMER_Fname',\n",
    "    'lname': 'CUSTOMER_CUSTOMER_Lname',\n",
    "    'state': 'CUSTOMER_CUSTOMER_State',\n",
    "    'PersonID': 'CUSTOMER_CUSTOMER_PersonID',\n",
    "    'StoreID': 'CUSTOMER_CUSTOMER_StoreID',\n",
    "    'TerritoryID': 'CUSTOMER_CUSTOMER_TerritoryID',\n",
    "    'AccountNumber': 'CUSTOMER_CUSTOMER_AccountNumber'\n",
    "}, inplace=True)\n",
    "\n",
    "drop_modified_date_rowguid(customers)\n",
    "\n",
    "customers.head()"
   ],
   "outputs": [],
   "execution_count": null
  },
  {
   "cell_type": "markdown",
   "id": "3703516d",
   "metadata": {},
   "source": [
    "### SpecialOffer"
   ]
  },
  {
   "cell_type": "code",
   "id": "3f890825",
   "metadata": {},
   "source": [
    "# merge specialoffer with specialofferproduct\n",
    "specialoffers = pd.merge(adventureworks_sales_specialoffer, adventureworks_sales_specialofferproduct, on=\"SpecialOfferID\")\n",
    "\n",
    "# drop rowguid and modifieddate\n",
    "drop_modified_date_rowguid(specialoffers)\n",
    "\n",
    "# rename to correct columns like in database\n",
    "specialoffers = specialoffers.rename(columns={\n",
    "    'SpecialOfferID': 'SPECIALOFFER_SPECIALOFFER_ID',\n",
    "    'ProductID': 'SPECIALOFFER_SPECIALOFFERPRODUCT_ProductID',\n",
    "    'Description': 'SPECIALOFFER_SPECIALOFFER_Description',\n",
    "    'DiscountPct': 'SPECIALOFFER_SPECIALOFFER_DiscountPCT',\n",
    "    'Type': 'SPECIALOFFER_SPECIALOFFER_Type',\n",
    "    'Category': 'SPECIALOFFER_SPECIALOFFER_Category',\n",
    "    'StartDate': 'SPECIALOFFER_SPECIALOFFER_StartDate',\n",
    "    'EndDate': 'SPECIALOFFER_SPECIALOFFER_EndDate',\n",
    "    'MinQty': 'SPECIALOFFER_SPECIALOFFER_MinQty',\n",
    "    'MaxQty': 'SPECIALOFFER_SPECIALOFFER_MaxQty'    \n",
    "})\n",
    "\n",
    "specialoffers.head()"
   ],
   "outputs": [],
   "execution_count": null
  },
  {
   "cell_type": "markdown",
   "id": "af741b36",
   "metadata": {},
   "source": [
    "### CreditCard"
   ]
  },
  {
   "cell_type": "code",
   "id": "68056db5",
   "metadata": {},
   "source": [
    "# merge creditcard with personcreditcard\n",
    "creditcards = pd.merge(adventureworks_sales_creditcard, adventureworks_sales_personcreditcard, on=\"CreditCardID\")\n",
    "\n",
    "# drop rowguid and modifieddate\n",
    "drop_modified_date_rowguid(creditcards)\n",
    "\n",
    "# rename to correct columns like in database\n",
    "creditcards = creditcards.rename(columns={\n",
    "    'CreditCardID': 'CREDITCARD_CREDITCARD_ID',\n",
    "    'CardType': 'CREDITCARD_CREDITCARD_CardType',\n",
    "    'CardNumber': 'CREDITCARD_CREDITCARD_CardNumber ',\n",
    "    'ExpMonth': 'CREDITCARD_CREDITCARD_ExpMonth',\n",
    "    'ExpYear': 'CREDITCARD_CREDITCARD_ExpYear',\n",
    "    'BusinessEntityID': 'CREDITCARD_PERSONCREDITCARD_BusinessEntityID'    \n",
    "})\n",
    "\n",
    "creditcards.head()"
   ],
   "outputs": [],
   "execution_count": null
  },
  {
   "cell_type": "markdown",
   "id": "8710a102",
   "metadata": {},
   "source": [
    "### Supplier"
   ]
  },
  {
   "cell_type": "code",
   "id": "061c5dd9",
   "metadata": {},
   "source": [
    "# rename\n",
    "suppliers = northwind_suppliers.rename(columns={\n",
    "    'SupplierID': 'SUPPLIER_SUPPLIERS_SupplierID',\n",
    "    'CompanyName': 'SUPPLIER_SUPPLIERS_CompanyName',\n",
    "    'ContactName': 'SUPPLIER_SUPPLIERS_ContactName',\n",
    "    'ContactTitle': 'SUPPLIER_SUPPLIERS_ContactTitle',\n",
    "    'Address': 'SUPPLIER_SUPPLIERS_Address',\n",
    "    'City': 'SUPPLIER_SUPPLIERS_City',\n",
    "    'Region': 'SUPPLIER_SUPPLIERS_Region',\n",
    "    'PostalCode': 'SUPPLIER_SUPPLIERS_PostalCode',\n",
    "    'Country': 'SUPPLIER_SUPPLIERS_Country',\n",
    "    'Phone': 'SUPPLIER_SUPPLIERS_Phone',\n",
    "    'Fax': 'SUPPLIER_SUPPLIERS_Fax',\n",
    "    'HomePage': 'SUPPLIER_SUPPLIERS_HomePage'\n",
    "})\n",
    "\n",
    "suppliers.head()"
   ],
   "outputs": [],
   "execution_count": null
  },
  {
   "cell_type": "markdown",
   "id": "fc1e195c",
   "metadata": {},
   "source": [
    "### Currency"
   ]
  },
  {
   "cell_type": "code",
   "id": "b58dd5fd",
   "metadata": {},
   "source": [
    "# combine currency and countryregioncurrency\n",
    "currencies = pd.merge(adventureworks_sales_currency, adventureworks_sales_countryregioncurrency, on=\"CurrencyCode\")\n",
    "\n",
    "# now combine with currencyrate\n",
    "currencies = pd.concat([currencies, adventureworks_sales_currencyrate], ignore_index=True)\n",
    "\n",
    "#drop the modifieddate\n",
    "drop_modified_date_rowguid(currencies)\n",
    "\n",
    "#rename \n",
    "currencies = currencies.rename(columns={\n",
    "    'CurrencyCode': 'CURRENCY_CURRENCY_CurrencyCode',\n",
    "    'Name': 'CURRENCY_CURRENCY_Name',\n",
    "    'CountryRegionCode': 'CURRENCY_COUNTRYREGIONCURRENCY_CountryRegionCode',\n",
    "    'CurrencyRateID': 'CURRENCY_CURRENCYRATE_CurrencyRateID',\n",
    "    'CurrencyRateDate': 'CURRENCY_CURRENCYRATE_CurrencyRateDate',\n",
    "    'FromCurrencyCode': 'CURRENCY_CURRENCYRATE_FromCurrencyCode',\n",
    "    'ToCurrencyCode': 'CURRENCY_CURRENCYRATE_ToCurrencyCode',\n",
    "    'AverageRate': 'CURRENCY_CURRENCYRATE_AverageRate ',\n",
    "    'EndOfDayRate': 'CURRENCY_CURRENCYRATE_EndOfDayRate',\n",
    "})\n",
    "\n",
    "currencies.head()"
   ],
   "outputs": [],
   "execution_count": null
  },
  {
   "cell_type": "markdown",
   "id": "b37c5d39",
   "metadata": {},
   "source": [
    "### Territory"
   ]
  },
  {
   "cell_type": "code",
   "id": "83639440",
   "metadata": {},
   "source": [
    "# combine sales territory first\n",
    "adventureworks_combined_territory = pd.merge(adventureworks_person_countryregion, adventureworks_person_stateprovince, on=\"CountryRegionCode\", suffixes=('_pcr', '_sts'))\n",
    "\n",
    "# now merge with salestaxrate\n",
    "adventureworks_combined_territory = pd.merge(adventureworks_combined_territory, adventureworks_sales_salestaxrate, on=\"StateProvinceID\", suffixes=('_st', '_sst'))\n",
    "\n",
    "# combine northwind region with territory\n",
    "nw_combined_territory = pd.merge(northwind_region, northwind_territories, on=\"RegionID\")\n",
    "\n",
    "# do the same for aenc\n",
    "aenc_combined_regionstate = pd.merge(aenc_region, aenc_state, on=\"region\")\n",
    "\n",
    "#concatinate the tables together\n",
    "territories = pd.concat([nw_combined_territory, aenc_combined_regionstate, adventureworks_combined_territory], ignore_index=True)\n",
    "\n",
    "# drop unneeded rowguid and modifieddate\n",
    "drop_modified_date_rowguid(territories)\n",
    "\n",
    "# rename columns\n",
    "territories = territories.rename(columns={\n",
    "    'RegionID': 'TERRITORY_REGION_RegionID',\n",
    "    'RegionDescription': 'TERRITORY_REGION_RegionDescription',\n",
    "    'TerritoryID': 'TERRITORY_TERRITORIES_TerritoryID',\n",
    "    'TerritoryDescription': 'TERRITORY_TERRITORIES_TerritoryDescription',\n",
    "    'region': 'TERRITORY_REGION_Region',\n",
    "    'state_id': 'TERRITORY_STATE_StateID',\n",
    "    'state_name': 'TERRITORY_STATE_StateName',\n",
    "    'state_capital': 'TERRITORY_STATE_StateCapital',\n",
    "    'country': 'TERRITORY_STATE_Country',\n",
    "    'CountryRegionCode': 'TERRITORY_COUNTRYREGION_CountryRegionCode',\n",
    "    'Name_pcr': 'TERRITORY_COUNTRYREGION_Name',\n",
    "    'StateProvinceID': 'TERRITORY_STATEPROVINCE_StateProvinceID',\n",
    "    'StateProvinceCode': 'TERRITORY_STATEPROVINCE_StateProvinceCode',\n",
    "    'IsOnlyStateProvinceFlag': 'TERRITORY_STATEPROVINCE_IsOnlyStateProvinceFlag',\n",
    "    'Name_sts': 'TERRITORY_STATEPROVINCE_Name',\n",
    "    'SalesTaxRateID': 'TERRITORY_SALESTAXRATE_SalesTaxRateID',\n",
    "    'TaxType': 'TERRITORY_SALESTAXRATE_TaxType',\n",
    "    'TaxRate': 'TERRITORY_SALESTAXRATE_TaxRate',\n",
    "    'Name': 'TERRITORY_SALESTAXRATE_Name'\n",
    "})\n",
    "\n",
    "territories.head()"
   ],
   "outputs": [],
   "execution_count": null
  },
  {
   "cell_type": "markdown",
   "id": "afd379f4",
   "metadata": {},
   "source": [
    "### OrderHeader"
   ]
  },
  {
   "cell_type": "code",
   "id": "96106949",
   "metadata": {},
   "source": [
    "# combine orderdetail with orderheader\n",
    "orderheaders = pd.merge(adventureworks_sales_salesorderdetail, adventureworks_sales_salesorderheader, on=\"SalesOrderID\", suffixes=('_sod', '_soh'))\n",
    "\n",
    "# combine with salesorderheadersalesreason\n",
    "orderheaders = pd.merge(orderheaders, adventureworks_sales_salesorderhearerrsaleseason, on=\"SalesOrderID\")\n",
    "\n",
    "# combine with salesreason\n",
    "orderheaders = pd.merge(orderheaders, adventureworks_sales_salesreason, on=\"SalesReasonID\")\n",
    "\n",
    "#drop unneeded\n",
    "drop_modified_date_rowguid(orderheaders)\n",
    "\n",
    "# rename columns\n",
    "orderheaders = orderheaders.rename(columns={\n",
    "    'SalesOrderID': 'ORDERHEADER_SALESORDERDETAIL_SalesOrderID',\n",
    "    'SalesOrderDetailID': 'ORDERHEADER_SALESORDERDETAIL_SalesOrderDetailID',\n",
    "    'CarrierTrackingNumber': 'ORDERHEADER_SALESORDERDETAIL_CarrierTrackingNumber',\n",
    "    'OrderQty': 'ORDERHEADER_SALESORDERDETAIL_OrderQty',\n",
    "    'ProductID': 'ORDERHEADER_SALESORDERDETAIL_ProductID',\n",
    "    'SpecialOfferID': 'ORDERHEADER_SALESORDERDETAIL_SpecialOfferID',\n",
    "    'UnitPrice': 'ORDERHEADER_SALESORDERDETAIL_UnitPrice',\n",
    "    'UnitPriceDiscount': 'ORDERHEADER_SALESORDERDETAIL_UnitPriceDiscount',\n",
    "    'LineTotal': 'ORDERHEADER_SALESORDERDETAIL_LineTotal',\n",
    "    'RevisionNumber': 'ORDERHEADER_SALESORDERHEADER_RevisionNumber',\n",
    "    'OrderDate': 'ORDERHEADER_SALESORDERHEADER_OrderDate',\n",
    "    'DueDate': 'ORDERHEADER_SALESORDERHEADER_DueDate',\n",
    "    'ShipDate': 'ORDERHEADER_SALESORDERHEADER_ShipDate',\n",
    "    'Status': 'ORDERHEADER_SALESORDERHEADER_Status',\n",
    "    'OnlineOrderFlag': 'ORDERHEADER_SALESORDERHEADER_OnlineOrderFlag',\n",
    "    'SalesOrderNumber': 'ORDERHEADER_SALESORDERHEADER_SalesOrderNumber',\n",
    "    'PurchaseOrderNumber': 'ORDERHEADER_SALESORDERHEADER_PurchaseOrderNumber',\n",
    "    'AccountNumber': 'ORDERHEADER_SALESORDERHEADER_AccountNumber',\n",
    "    'CustomerID': 'ORDERHEADER_SALESORDERHEADER_CustomerID',\n",
    "    'SalesPersonID': 'ORDERHEADER_SALESORDERHEADER_SalesPersonID',\n",
    "    'TerritoryID': 'ORDERHEADER_SALESORDERHEADER_TerritoryID',\n",
    "    'BillToAddressID': 'ORDERHEADER_SALESORDERHEADER_BillToAddress',\n",
    "    'ShipToAddressID': 'ORDERHEADER_SALESORDERHEADER_ShipToAddress',\n",
    "    'ShipMethodID': 'ORDERHEADER_SALESORDERHEADER_ShipMethodID',\n",
    "    'CreditCardID': 'ORDERHEADER_SALESORDERHEADER_CreditCardID',\n",
    "    'CreditCardApprovalCode': 'ORDERHEADER_SALESORDERHEADER_CreditCardApprovalCode',\n",
    "    'CurrencyRateID': 'ORDERHEADER_SALESORDERHEADER_CurrencyRateID',\n",
    "    'SubTotal': 'ORDERHEADER_SALESORDERHEADER_SubTotal',\n",
    "    'TaxAmt': 'ORDERHEADER_SALESORDERHEADER_TaxAmt',\n",
    "    'Freight': 'ORDERHEADER_SALESORDERHEADER_Freight',\n",
    "    'TotalDue': 'ORDERHEADER_SALESORDERHEADER_TotalDue',\n",
    "    'Comment': 'ORDERHEADER_SALESORDERHEADER_Comment',\n",
    "    'SalesReasonID': 'ORDERHEADER_SALESREASON_SalesReasonID',\n",
    "    'Name': 'ORDERHEADER_SALESREASON_Name',\n",
    "    'ReasonType': 'ORDERHEADER_SALESREASON_ReasonType',\n",
    "})\n",
    "\n",
    "orderheaders.head()"
   ],
   "outputs": [],
   "execution_count": null
  },
  {
   "metadata": {},
   "cell_type": "markdown",
   "source": "### Date",
   "id": "7a343189dd725896"
  },
  {
   "metadata": {},
   "cell_type": "code",
   "source": [
    "def calculate_periods(periods_in_years): \n",
    "    return 365 * periods_in_years + (periods_in_years // 4) # divide by 4 for leap years\n",
    "\n",
    "periods = calculate_periods(50)\n",
    "\n",
    "date_table = {\n",
    "    'DATE_ID': pd.date_range(start='1996-01-01', periods=periods).strftime('%Y%m%d').astype(int),\n",
    "    'DATE_Date': pd.date_range(start='1996-01-01', periods=periods),\n",
    "    'DATE_Weekday': pd.date_range(start='1996-01-01', periods=periods).strftime('%A'),\n",
    "    'DATE_WeekdayNum': pd.date_range(start='1996-01-01', periods=periods).weekday + 1,\n",
    "    'DATE_DayMonth': pd.date_range(start='1996-01-01', periods=periods).day,\n",
    "    'DATE_DayOfYear': pd.date_range(start='1996-01-01', periods=periods).dayofyear,\n",
    "    'DATE_WeekOfYear': pd.date_range(start='1996-01-01', periods=periods).isocalendar().week,\n",
    "    'DATE_MonthNum': pd.date_range(start='1996-01-01', periods=periods).month,\n",
    "    'DATE_MonthName': pd.date_range(start='1996-01-01', periods=periods).strftime('%B'),\n",
    "    'DATE_MonthNameShort': pd.date_range(start='1996-01-01', periods=periods).strftime('%b'),\n",
    "    'DATE_Quarter': pd.date_range(start='1996-01-01', periods=periods).quarter,\n",
    "    'DATE_Year': pd.date_range(start='1996-01-01', periods=periods).year,\n",
    "    'DATE_FirstDayOfMonth': pd.date_range(start='1996-01-01', periods=periods).to_period('M').start_time,\n",
    "    'DATE_LastDayOfMonth': pd.date_range(start='1996-01-01', periods=periods).to_period('M').end_time.date,\n",
    "    'DATE_YYYYMM': pd.date_range(start='1996-01-01', periods=periods).strftime('%Y-%m'),\n",
    "    'DATE_WeekendIndr': pd.date_range(start='1996-01-01', periods=periods).weekday // 5\n",
    "}\n",
    "\n",
    "date_table = pd.DataFrame(date_table)\n",
    "date_table['DATE_WeekendIndr'] = date_table['DATE_WeekendIndr'].replace({0: 'weekday', 1: 'weekend'})\n",
    "\n",
    "date_table.tail()"
   ],
   "id": "c88fd6cb7dbfa0b1",
   "outputs": [],
   "execution_count": null
  },
  {
   "metadata": {},
   "cell_type": "markdown",
   "source": "### Time",
   "id": "d270a075a20e5439"
  },
  {
   "metadata": {},
   "cell_type": "code",
   "source": [
    "# Define the number of minutes in a day\n",
    "minutes_in_a_day = 24 * 60\n",
    "\n",
    "# Create the data dictionary for time dimension\n",
    "time_table = {\n",
    "    'TIME_ID': list(range(minutes_in_a_day)),\n",
    "    'TIME_Hour': [i // 60 for i in range(minutes_in_a_day)],\n",
    "    'TIME_Minute': [i % 60 for i in range(minutes_in_a_day)],\n",
    "    'TIME_HourMinute': [f'{hour:02d}:{minute:02d}' for hour in range(24) for minute in range(60)],\n",
    "}\n",
    "\n",
    "# Convert the dictionary to a DataFrame\n",
    "time_table = pd.DataFrame(time_table)\n",
    "\n",
    "# # Fetch existing data from the time dimension table\n",
    "# existing_data_query = \"SELECT TIME_ID FROM Time\"\n",
    "# existing_data = pd.read_sql(existing_data_query, united_outdoors_conn)\n",
    "\n",
    "# # Filter new data to include only records that are not already in the table\n",
    "# new_data_to_insert = time_table[~time_table['TIME_ID'].isin(existing_data['TIME_ID'])]\n",
    "\n",
    "time_table.head()"
   ],
   "id": "8c93e7d7835676e7",
   "outputs": [],
   "execution_count": null
  },
  {
   "cell_type": "markdown",
   "id": "def759487d0e6c71",
   "metadata": {},
   "source": [
    "## Loading the data into the UnitedOutdoors datawarehouse"
   ]
  },
  {
   "metadata": {},
   "cell_type": "markdown",
   "source": "### Date",
   "id": "61db24396ee46e4a"
  },
  {
   "metadata": {},
   "cell_type": "code",
   "source": [
    "date_dtypes = {\n",
    "    'DATE_ID': Integer,\n",
    "    'DATE_Date': DATE,\n",
    "    'DATE_Weekday': VARCHAR(10),\n",
    "    'DATE_WeekdayNum': Integer,\n",
    "    'DATE_DayMonth': Integer,\n",
    "    'DATE_DayOfYear': Integer,\n",
    "    'DATE_WeekOfYear': Integer,\n",
    "    'DATE_MonthNum': Integer,\n",
    "    'DATE_MonthName': VARCHAR(10),\n",
    "    'DATE_MonthNameShort': CHAR(10),\n",
    "    'DATE_Quarter': Integer,\n",
    "    'DATE_Year': Integer,\n",
    "    'DATE_FirstDayOfMonth': DATE,\n",
    "    'DATE_LastDayOfMonth': DATE,\n",
    "    'DATE_YYYYMM': CHAR(10),\n",
    "    'DATE_WeekendIndr': CHAR(15)\n",
    "}\n",
    "\n",
    "prepare_and_insert(date_table, date_dtypes, 'Date', united_outdoors_engine)"
   ],
   "id": "b3e30b2f98574881",
   "outputs": [],
   "execution_count": null
  },
  {
   "metadata": {},
   "cell_type": "markdown",
   "source": "### Time",
   "id": "695ff2c0938b1534"
  },
  {
   "metadata": {},
   "cell_type": "code",
   "source": [
    "time_dtypes = {\n",
    "    'TIME_ID': Integer,\n",
    "    'TIME_Hour': Integer,\n",
    "    'TIME_Minute': Integer,\n",
    "    'TIME_HourMinute': VARCHAR(10),\n",
    "}\n",
    "\n",
    "prepare_and_insert(time_table, time_dtypes, 'Time', united_outdoors_engine)"
   ],
   "id": "5021b7a221fbeadc",
   "outputs": [],
   "execution_count": null
  },
  {
   "cell_type": "markdown",
   "id": "3f3139bd023f535",
   "metadata": {},
   "source": [
    "### Departments"
   ]
  },
  {
   "cell_type": "code",
   "id": "d2fa80a01c2d42c",
   "metadata": {},
   "source": [
    "departments_dtypes = {\n",
    "    'DEPARTMENT_DEPARTMENT_DeptID': Integer,\n",
    "    'DEPARTMENT_DEPARTMENT_DeptName': String(100),\n",
    "    'DEPARTMENT_DEPARTMENT_GroupName': String(100),\n",
    "    'DEPARTMENT_DEPARTMENT_DeptHeadID': Integer,\n",
    "    'DEPARTMENT_source_database': String(100)\n",
    "}\n",
    "\n",
    "# TODO dept_head_id needs to refer to an employee\n",
    "departments_nk_sk_dict  = prepare_and_insert_return_sk(departments, departments_dtypes, 'Department',united_outdoors_engine, 'DEPARTMENT_DEPARTMENT_DeptID', { 'DEPARTMENT_DEPARTMENT_DeptHeadID' : {}})"
   ],
   "outputs": [],
   "execution_count": null
  },
  {
   "cell_type": "markdown",
   "id": "15016c8f",
   "metadata": {},
   "source": [
    "### Employee"
   ]
  },
  {
   "cell_type": "code",
   "id": "62074680",
   "metadata": {},
   "source": [
    "employees_dtypes = {\n",
    "    'EMPLOYEE_EMPLOYEE_EmployeeID': Integer,\n",
    "    'EMPLOYEE_EMPLOYEE_DepartmentID': Integer,\n",
    "    'EMPLOYEE_EMPLOYEE_ManagerID': Integer,\n",
    "    'EMPLOYEE_EMPLOYEETERRITORIES_TerritoryID': Integer,\n",
    "    'EMPLOYEE_EMPLOYEE_Emp_Fname': NVARCHAR(255),\n",
    "    'EMPLOYEE_EMPLOYEE_Emp_Lname': NVARCHAR(255),\n",
    "    'EMPLOYEE_EMPLOYEE_Street': NVARCHAR(150),\n",
    "    'EMPLOYEE_EMPLOYEE_City': NVARCHAR(100),\n",
    "    'EMPLOYEE_EMPLOYEE_State': CHAR(1),\n",
    "    'EMPLOYEE_EMPLOYEE_Zip_Code': CHAR(5),\n",
    "    'EMPLOYEE_EMPLOYEE_Phone': Integer,\n",
    "    'EMPLOYEE_EMPLOYEE_Status': CHAR(1),\n",
    "    'EMPLOYEE_EMPLOYEE_SS_Number': Integer,\n",
    "    'EMPLOYEE_EMPLOYEE_Salary': Integer,\n",
    "    'EMPLOYEE_EMPLOYEE_Start_Date': DATE,\n",
    "    'EMPLOYEE_EMPLOYEE_Termination': DATE,\n",
    "    'EMPLOYEE_EMPLOYEE_Birth_Date': DATE,\n",
    "    'EMPLOYEE_EMPLOYEE_Bene_Health_Ins': CHAR(1),\n",
    "    'EMPLOYEE_EMPLOYEE_Bene_Life_Ins': CHAR(1),\n",
    "    'EMPLOYEE_EMPLOYEE_Bene_Day_Care': CHAR(1),\n",
    "    'EMPLOYEE_EMPLOYEE_Sex': CHAR(1),\n",
    "    'EMPLOYEE_BONUS_Bonus_Date': DATE,\n",
    "    'EMPLOYEE_BONUS_Bonus_Amount': Integer,\n",
    "    'EMPLOYEE_EMPLOYEES_Title': NVARCHAR(50),\n",
    "    'EMPLOYEE_EMPLOYEES_TitleOfCourtesy': NVARCHAR(50),\n",
    "    'EMPLOYEE_EMPLOYEES_HireDate': DATE,\n",
    "    'EMPLOYEE_EMPLOYEES_HomePhone': NVARCHAR(20),\n",
    "    'EMPLOYEE_EMPLOYEES_Extension': Integer,\n",
    "    'EMPLOYEE_EMPLOYEES_Photo': String,\n",
    "    'EMPLOYEE_EMPLOYEES_PhotoPath': NVARCHAR(255),\n",
    "    'EMPLOYEE_EMPLOYEES_Notes': String,\n",
    "}\n",
    "\n",
    "prepare_and_insert(employees, employees_dtypes, 'Employee', united_outdoors_engine)"
   ],
   "outputs": [],
   "execution_count": null
  },
  {
   "cell_type": "markdown",
   "id": "7f4a7061f4f0105c",
   "metadata": {},
   "source": [
    "### BusinessEntities"
   ]
  },
  {
   "cell_type": "code",
   "id": "a3d497d845c8eda2",
   "metadata": {},
   "source": [
    "businessentities_dtypes = {\n",
    "    'BUSINESSENTITY_BUSINESSENTITY_BusinessEntityID': Integer,\n",
    "    'BUSINESSENTITY_BUSINESSENTITYCONTACT_PersonID': Integer,\n",
    "    'BUSINESSENTITY_CONTACTTYPE_ContactTypeID': Integer,\n",
    "    'BUSINESSENTITY_CONTACTTYPE_Name': String(100)\n",
    "}\n",
    "\n",
    "businessentities_nk_sk_dict = prepare_and_insert_return_sk(businessentities, businessentities_dtypes, 'BusinessEntity',united_outdoors_engine, 'BUSINESSENTITY_BUSINESSENTITY_BusinessEntityID')"
   ],
   "outputs": [],
   "execution_count": null
  },
  {
   "cell_type": "markdown",
   "id": "aecb5657d108d5ac",
   "metadata": {},
   "source": [
    "### People"
   ]
  },
  {
   "cell_type": "code",
   "id": "11d58a830e84bcf6",
   "metadata": {},
   "source": [
    "people_dtypes = {\n",
    "    'PERSON_PERSON_BusinessEntityID': Integer,\n",
    "    'PERSON_PERSON_PersonType': String(2),\n",
    "    'PERSON_PERSON_NameStyle': BIT,\n",
    "    'PERSON_PERSON_Title': String(100),\n",
    "    'PERSON_PERSON_FirstName': String(100),\n",
    "    'PERSON_PERSON_MiddleName': String(100),\n",
    "    'PERSON_PERSON_LastName': String(100),\n",
    "    'PERSON_PERSON_Suffix': String(100),\n",
    "    'PERSON_PERSON_EmailPromotion': Integer,\n",
    "    'PERSON_PERSON_AdditionalContactInfo': XML,\n",
    "    'PERSON_PERSON_Demographics': XML,\n",
    "    'PERSON_PERSONPHONE_PhoneNumber': String(100),\n",
    "    'PERSON_PHONENUMBERTYPE_PhoneNumberTypeID': Integer,\n",
    "    'PERSON_PHONENUMBERTYPE_Name': String(100),\n",
    "    'PERSON_EMAILADDRESS_EmailAddressID': Integer,\n",
    "    'PERSON_EMAILADDRESS_EmailAddress': String(100),\n",
    "    'PERSON_PASSWORD_PasswordHash': LargeBinary,\n",
    "    'PERSON_PASSWORD_PasswordSalt': LargeBinary\n",
    "}\n",
    "\n",
    "# Convert the 'PERSON_PASSWORD_PasswordHash' and 'PERSON_PASSWORD_PasswordSalt' columns to bytes\n",
    "people['PERSON_PASSWORD_PasswordHash'] = people['PERSON_PASSWORD_PasswordHash'].apply(lambda x: x.encode('utf-8') if isinstance(x, str) else x)\n",
    "people['PERSON_PASSWORD_PasswordSalt'] = people['PERSON_PASSWORD_PasswordSalt'].apply(lambda x: x.encode('utf-8') if isinstance(x, str) else x)\n",
    "\n",
    "prepare_and_insert(people, people_dtypes, 'Person',united_outdoors_engine, { 'PERSON_PERSON_BusinessEntityID' : businessentities_nk_sk_dict})"
   ],
   "outputs": [],
   "execution_count": null
  },
  {
   "cell_type": "markdown",
   "id": "11006cc84f78e74b",
   "metadata": {},
   "source": [
    "### Updating the BusinessEntity table\n",
    "replacing the natural keys with the surrogate keys for the PersonID column"
   ]
  },
  {
   "cell_type": "code",
   "id": "b3d0989f3e6c628e",
   "metadata": {},
   "source": [
    "prepare_and_update('BusinessEntity', united_outdoors_engine, { 'BUSINESSENTITY_BUSINESSENTITYCONTACT_PersonID' : businessentities_nk_sk_dict})"
   ],
   "outputs": [],
   "execution_count": null
  },
  {
   "cell_type": "markdown",
   "id": "d2114350a545ae1c",
   "metadata": {},
   "source": [
    "### BusinessEntityAddresses"
   ]
  },
  {
   "cell_type": "code",
   "id": "45e9b08d3f43e42c",
   "metadata": {},
   "source": [
    "businessentityaddresses_dtypes = {\n",
    "    'BUSINESSENTITYADDRESS_BUSINESSENTITYADDRESS_BusinessEntityID': Integer,\n",
    "    'BUSINESSENTITYADDRESS_ADDRESSTYPE_AddressTypeID': Integer,\n",
    "    'BUSINESSENTITYADDRESS_ADDRESSTYPE_Name': String(100),\n",
    "    'BUSINESSENTITYADDRESS_ADDRESS_AddressID': Integer,\n",
    "    'BUSINESSENTITYADDRESS_ADDRESS_AddressLine1': String(100),\n",
    "    'BUSINESSENTITYADDRESS_ADDRESS_AddressLine2': String(100),\n",
    "    'BUSINESSENTITYADDRESS_ADDRESS_City': String(100),\n",
    "    'BUSINESSENTITYADDRESS_ADDRESS_POSTALCODE': String(100),\n",
    "    'BUSINESSENTITYADDRESS_ADDRESS_SpatialLocation': VARCHAR,\n",
    "    'BUSINESSENTITYADDRESS_ADDRESS_StateProvinceID': Integer\n",
    "}\n",
    "\n",
    "# TODO the StateProvinceID needs to refer to sk of Territory\n",
    "prepare_and_insert(businessentityaddresses, businessentityaddresses_dtypes, 'BusinessEntityAddress',united_outdoors_engine, { 'BUSINESSENTITYADDRESS_BUSINESSENTITYADDRESS_BusinessEntityID' : businessentities_nk_sk_dict, 'BUSINESSENTITYADDRESS_ADDRESS_StateProvinceID' : {}})"
   ],
   "outputs": [],
   "execution_count": null
  },
  {
   "cell_type": "markdown",
   "id": "5e8f7f3967596334",
   "metadata": {},
   "source": [
    "### Products (TODO CHANGE)"
   ]
  },
  {
   "cell_type": "code",
   "id": "c0eef49cbbcfdf85",
   "metadata": {},
   "source": [
    "products_dtypes = {\n",
    "    'ProductID': Integer,\n",
    "    'ProductName': NVARCHAR(50),\n",
    "    'SupplierID': Integer,\n",
    "    'CategoryID': Integer,\n",
    "    'QuantityPerUnit': NVARCHAR(30),\n",
    "    'UnitPrice': MONEY,\n",
    "    'UnitsInStock': Integer,\n",
    "    'UnitsOnOrder': Integer,\n",
    "    'ReorderLevel': Integer,\n",
    "    'Discontinued': BIT,\n",
    "    'Description': NVARCHAR,\n",
    "    'ProdSize': NVARCHAR(50),\n",
    "    'Color': NVARCHAR(15),\n",
    "    'Quantity': Integer,\n",
    "    'picture_name': NVARCHAR(50),\n",
    "    'Category': NVARCHAR(20),\n",
    "    'Name': NVARCHAR(50),\n",
    "    'ProductNumber': NVARCHAR(25),\n",
    "    'MakeFlag': BIT,\n",
    "    'FinishedGoodsFlag': BIT,\n",
    "    'SafetyStockLevel': Integer,\n",
    "    'ReorderPoint': Integer,\n",
    "    'StandardCost': DECIMAL(8,4),\n",
    "    'ListPrice': MONEY,\n",
    "    'Size': NVARCHAR(5),\n",
    "    'SizeUnitMeasureCode': CHAR(2),\n",
    "    'WeightUnitMeasureCode': NVARCHAR(3),\n",
    "    'Weight': DECIMAL(8,2),\n",
    "    'DaysToManufacture': Integer,\n",
    "    'ProductLine': CHAR(1),\n",
    "    'Class': CHAR(1),\n",
    "    'Style': CHAR(1),\n",
    "    'ProductSubcategoryID': Integer,\n",
    "    'ProductModelID': Integer,\n",
    "    'SellStartDate': DATE,\n",
    "    'SellEndDate': DATE,\n",
    "    'DiscontinuedDate': DATE,\n",
    "    'ModifiedDate': DATE,\n",
    "    'ProductCategoryID': Integer,\n",
    "    'ProductDescriptionID': Integer,\n",
    "    'CatalogDescription': XML,\n",
    "    'Instructions': XML,\n",
    "    'IllustrationID': Integer,\n",
    "    'CultureID': NVARCHAR(10),\n",
    "    'ProductPhotoID': Integer,\n",
    "    'ThumbNailPhotoHexString': String,\n",
    "    'ThumbnailPhotoFileName': NVARCHAR(50),\n",
    "    'LargePhotoHexString': String,\n",
    "    'LargePhotoFileName': NVARCHAR(50),\n",
    "    'Primary': BIT\n",
    "}\n",
    "\n",
    "prepare_and_insert(products, products_dtypes, 'Product', united_outdoors_engine)\n"
   ],
   "outputs": [],
   "execution_count": null
  },
  {
   "cell_type": "markdown",
   "id": "4c20670d",
   "metadata": {},
   "source": [
    "### JobCandidate"
   ]
  },
  {
   "cell_type": "code",
   "id": "e8e667b4",
   "metadata": {},
   "source": [
    "jobcandidates_dtypes = {\n",
    "    'JOBCANDIDATE_JOBCANDIDATE_JobCandidateID': Integer,\n",
    "    'JOBCANDIDATE_JOBCANDIDATE_BusinessEntityID': Integer,\n",
    "    'JOBCANDIDATE_JOBCANDIDATE_Resume': XML\n",
    "}\n",
    "\n",
    "prepare_and_insert(jobcandidates, jobcandidates_dtypes, 'JobCandidate',united_outdoors_engine, { 'JOBCANDIDATE_JOBCANDIDATE_BusinessEntityID' : businessentities_nk_sk_dict})"
   ],
   "outputs": [],
   "execution_count": null
  },
  {
   "cell_type": "markdown",
   "id": "7d340d78",
   "metadata": {},
   "source": [
    "### EmployeeDepartmentHistory"
   ]
  },
  {
   "cell_type": "code",
   "id": "da96eb92",
   "metadata": {},
   "source": [
    "employeedepartmenthistories_dtypes = {\n",
    "    'EMPLOYEEDEPARTMENTHISTORY_EMPLOYEEDEPARTMENTHISTORY_BusinessEntityID': Integer,\n",
    "    'EMPLOYEEDEPARTMENTHISTORY_EMPLOYEEDEPARTMENTHISTORY_DepartmentID': Integer,\n",
    "    'EMPLOYEEDEPARTMENTHISTORY_EMPLOYEEDEPARTMENTHISTORY_ShiftID': Integer,\n",
    "    'EMPLOYEEDEPARTMENTHISTORY_EMPLOYEEDEPARTMENTHISTORY_StartDate': DATE,\n",
    "    'EMPLOYEEDEPARTMENTHISTORY_EMPLOYEEDEPARTMENTHISTORY_EndDate': DATE\n",
    "}\n",
    "\n",
    "prepare_and_insert(employeedepartmenthistories, employeedepartmenthistories_dtypes, 'EmployeeDepartmentHistory',united_outdoors_engine, { 'EMPLOYEEDEPARTMENTHISTORY_EMPLOYEEDEPARTMENTHISTORY_BusinessEntityID' : businessentities_nk_sk_dict, 'EMPLOYEEDEPARTMENTHISTORY_EMPLOYEEDEPARTMENTHISTORY_DepartmentID' : departments_nk_sk_dict, 'EMPLOYEEDEPARTMENTHISTORY_EMPLOYEEDEPARTMENTHISTORY_ShiftID' : {}})"
   ],
   "outputs": [],
   "execution_count": null
  },
  {
   "cell_type": "markdown",
   "id": "65e4fcbe",
   "metadata": {},
   "source": [
    "### EmployeePayHistory"
   ]
  },
  {
   "cell_type": "code",
   "id": "0bc8c854",
   "metadata": {},
   "source": [
    "employeepayhistories_dtypes = {\n",
    "    'EMPLOYEEPAYHISTORY_EMPLOYEEPAYHISTORY_BusinessEntityID': Integer,\n",
    "    'EMPLOYEEPAYHISTORY_EMPLOYEEPAYHISTORY_RateChangeDate': DATE,\n",
    "    'EMPLOYEEPAYHISTORY_EMPLOYEEPAYHISTORY_Rate': MONEY,\n",
    "    'EMPLOYEEPAYHISTORY_EMPLOYEEPAYHISTORY_PayFrequency': Integer\n",
    "}\n",
    "\n",
    "prepare_and_insert(employeepayhistories, employeepayhistories_dtypes, 'EmployeePayHistory',united_outdoors_engine, { 'EMPLOYEEPAYHISTORY_EMPLOYEEPAYHISTORY_BusinessEntityID' : businessentities_nk_sk_dict})"
   ],
   "outputs": [],
   "execution_count": null
  },
  {
   "cell_type": "markdown",
   "id": "0279189b",
   "metadata": {},
   "source": [
    "### Shift"
   ]
  },
  {
   "cell_type": "code",
   "id": "c1bebf3c",
   "metadata": {},
   "source": [
    "shifts_dtypes = {\n",
    "    'SHIFT_SHIFT_ShiftID': Integer,\n",
    "    'SHIFT_SHIFT_Name': String(100),\n",
    "    'SHIFT_SHIFT_StartTime': TIME,\n",
    "    'SHIFT_SHIFT_EndTime': TIME\n",
    "}\n",
    "\n",
    "prepare_and_insert(shifts, shifts_dtypes, 'Shift',united_outdoors_engine)"
   ],
   "outputs": [],
   "execution_count": null
  },
  {
   "cell_type": "markdown",
   "id": "443ce778",
   "metadata": {},
   "source": [
    "### SalesPerson"
   ]
  },
  {
   "cell_type": "code",
   "id": "bfdc9472",
   "metadata": {},
   "source": [
    "salespeople_dtypes = {\n",
    "    'SALESPERSON_SALESPERSON_BusinessEntityID': Integer,\n",
    "    'SALESPERSON_SALESPERSON_TerritoryID': Integer,\n",
    "    'SALESPERSON_SALESPERSON_SalesQuota': MONEY,\n",
    "    'SALESPERSON_SALESPERSON_Bonus': MONEY,\n",
    "    'SALESPERSON_SALESPERSON_CommissionPct': DECIMAL(8,4),\n",
    "    'SALESPERSON_SALESPERSON_SalesYTD': MONEY,\n",
    "    'SALESPERSON_SALESPERSON_SalesLastYear': MONEY\n",
    "}\n",
    "\n",
    "prepare_and_insert(salespeople, salespeople_dtypes, 'SalesPerson',united_outdoors_engine, { 'SALESPERSON_SALESPERSON_BusinessEntityID' : businessentities_nk_sk_dict, 'SALESPERSON_SALESPERSON_TerritoryID' : {}})"
   ],
   "outputs": [],
   "execution_count": null
  },
  {
   "cell_type": "markdown",
   "id": "45530695",
   "metadata": {},
   "source": [
    "### ProductVendor"
   ]
  },
  {
   "cell_type": "code",
   "id": "90066728",
   "metadata": {},
   "source": [
    "productvendors_dtypes = {\n",
    "    'PRODUCTVENDOR_PRODUCTVENDOR_ProductID': Integer,\n",
    "    'PRODUCTVENDOR_PRODUCTVENDOR_BusinessEntityID': Integer,\n",
    "    'PRODUCTVENDOR_PRODUCTVENDOR_AverageLeadTime': Integer,\n",
    "    'PRODUCTVENDOR_PRODUCTVENDOR_StandardPrice': MONEY,\n",
    "    'PRODUCTVENDOR_PRODUCTVENDOR_LastReceiptCost': MONEY,\n",
    "    'PRODUCTVENDOR_PRODUCTVENDOR_LastReceiptDate': DATE,\n",
    "    'PRODUCTVENDOR_PRODUCTVENDOR_MinOrderQty': Integer,\n",
    "    'PRODUCTVENDOR_PRODUCTVENDOR_MaxOrderQty': Integer,\n",
    "    'PRODUCTVENDOR_PRODUCTVENDOR_OnOrderQty': Integer,\n",
    "    'PRODUCTVENDOR_PRODUCTVENDOR_UnitMeasureCode': CHAR(3)\n",
    "}\n",
    "\n",
    "prepare_and_insert(productvendors, productvendors_dtypes, 'ProductVendor', united_outdoors_engine, { 'PRODUCTVENDOR_PRODUCTVENDOR_ProductID' : {}, 'PRODUCTVENDOR_PRODUCTVENDOR_BusinessEntityID' : businessentities_nk_sk_dict, 'PRODUCTVENDOR_PRODUCTVENDOR_UnitMeasureCode' : {}})"
   ],
   "outputs": [],
   "execution_count": null
  },
  {
   "cell_type": "markdown",
   "id": "ca03dbf2",
   "metadata": {},
   "source": [
    "### CustomerDemographics"
   ]
  },
  {
   "cell_type": "code",
   "id": "338d3d47",
   "metadata": {},
   "source": [
    "customerdemographics_dtypes = {\n",
    "    'CUSTOMERDEMOGRAPHIC_CUSTOMERDEMOGRAPHICS_CustomerTypeID': NVARCHAR(10),\n",
    "    'CUSTOMERDEMOGRAPHIC_CUSTOMERDEMOGRAPHICS_CustomerDesc': String(100)\n",
    "}\n",
    "\n",
    "customerdemographics_nk_sk_dict = prepare_and_insert_return_sk(customerdemographics, customerdemographics_dtypes, 'CustomerDemographic',united_outdoors_engine, 'CUSTOMERDEMOGRAPHIC_CUSTOMERDEMOGRAPHICS_CustomerTypeID')"
   ],
   "outputs": [],
   "execution_count": null
  },
  {
   "cell_type": "markdown",
   "id": "e69a059a",
   "metadata": {},
   "source": [
    "### CustomerCustomerDemo"
   ]
  },
  {
   "cell_type": "code",
   "id": "e5e0f142",
   "metadata": {},
   "source": [
    "customercustomerdemos_dtypes = {\n",
    "    'CUSTOMERCUSTOMERDEMO_CUSTOMERCUSTOMERDEMO_CustomerID': NVARCHAR(10),\n",
    "    'CUSTOMERCUSTOMERDEMO_CUSTOMERCUSTOMERDEMO_CustomerTypeID': NVARCHAR(10)\n",
    "}\n",
    "\n",
    "# TODO how to handle fk? the nk is nvarchar, not an integer\n",
    "\n",
    "prepare_and_insert(customercustomerdemos, customercustomerdemos_dtypes, 'CustomerCustomerDemo',united_outdoors_engine, { 'CUSTOMERCUSTOMERDEMO_CUSTOMERCUSTOMERDEMO_CustomerTypeID' : customerdemographics_nk_sk_dict, 'CUSTOMERCUSTOMERDEMO_CUSTOMERCUSTOMERDEMO_CustomerID' : {}})"
   ],
   "outputs": [],
   "execution_count": null
  },
  {
   "cell_type": "markdown",
   "id": "6127c49c",
   "metadata": {},
   "source": [
    "### SalesTerritoryHistory"
   ]
  },
  {
   "cell_type": "code",
   "id": "3825b963",
   "metadata": {},
   "source": [
    "salesterritoryhistories_dtypes = {\n",
    "    'SALESTERRITORYHISTORY_SALESTERRITORYHISTORY_BusinessEntityID': Integer,\n",
    "    'SALESTERRITORYHISTORY_SALESTERRITORYHISTORY_TerritoryID': Integer,\n",
    "    'SALESTERRITORYHISTORY_SALESTERRITORYHISTORY_StartDate': DATE,\n",
    "    'SALESTERRITORYHISTORY_SALESTERRITORYHISTORY_EndDate': DATE\n",
    "}\n",
    "\n",
    "prepare_and_insert(salesterritoryhistories, salesterritoryhistories_dtypes, 'SalesTerritoryHistory',united_outdoors_engine, { 'SALESTERRITORYHISTORY_SALESTERRITORYHISTORY_BusinessEntityID' : businessentities_nk_sk_dict, 'SALESTERRITORYHISTORY_SALESTERRITORYHISTORY_TerritoryID' : {}})"
   ],
   "outputs": [],
   "execution_count": null
  },
  {
   "cell_type": "markdown",
   "id": "99ee64b3",
   "metadata": {},
   "source": [
    "### ProductListPriceHistory"
   ]
  },
  {
   "cell_type": "code",
   "id": "d504b2e6",
   "metadata": {},
   "source": [
    "productlistpricehistories_dtypes = {\n",
    "    'PRODUCTLISTPRICEHISTORY_PRODUCTLISTPRICEHISTORY_ProductID': Integer,\n",
    "    'PRODUCTLISTPRICEHISTORY_PRODUCTLISTPRICEHISTORY_StartDate': DATE,\n",
    "    'PRODUCTLISTPRICEHISTORY_PRODUCTLISTPRICEHISTORY_EndDate': DATE,\n",
    "    'PRODUCTLISTPRICEHISTORY_PRODUCTLISTPRICEHISTORY_ListPrice': MONEY\n",
    "}\n",
    "\n",
    "prepare_and_insert(productlistpricehistories, productlistpricehistories_dtypes, 'ProductListPriceHistory',united_outdoors_engine, { 'PRODUCTLISTPRICEHISTORY_PRODUCTLISTPRICEHISTORY_ProductID' : {}})"
   ],
   "outputs": [],
   "execution_count": null
  },
  {
   "cell_type": "markdown",
   "id": "e32fb0f9",
   "metadata": {},
   "source": [
    "### ProductCostHistory"
   ]
  },
  {
   "cell_type": "code",
   "metadata": {},
   "source": [
    "productcosthistories_dtypes = {\n",
    "    'PRODUCTCOSTHISTORY_PRODUCTCOSTHISTORY_ProductID': Integer,\n",
    "    'PRODUCTCOSTHISTORY_PRODUCTCOSTHISTORY_StartDate': DATE,\n",
    "    'PRODUCTCOSTHISTORY_PRODUCTCOSTHISTORY_EndDate': DATE,\n",
    "    'PRODUCTCOSTHISTORY_PRODUCTCOSTHISTORY_StandardCost': MONEY\n",
    "}\n",
    "\n",
    "prepare_and_insert(productcosthistories, productcosthistories_dtypes, 'ProductCostHistory', united_outdoors_engine, { 'PRODUCTCOSTHISTORY_PRODUCTCOSTHISTORY_ProductID' : {}})"
   ],
   "id": "ca35400832df30f0",
   "outputs": [],
   "execution_count": null
  },
  {
   "cell_type": "markdown",
   "id": "718d1732",
   "metadata": {},
   "source": [
    "### ShoppingCartItem"
   ]
  },
  {
   "cell_type": "code",
   "id": "58a37f9f",
   "metadata": {},
   "source": [
    "shoppingcartitems_dtypes = {\n",
    "    'SHOPPINGCARTITEM_SHOPPINGCARTITEM_ShoppingCartItemID': Integer,\n",
    "    'SHOPPINGCARTITEM_SHOPPINGCARTITEM_ShoppingCartID': Integer,\n",
    "    'SHOPPINGCARTITEM_SHOPPINGCARTITEM_ProductID': Integer,\n",
    "    'SHOPPINGCARTITEM_SHOPPINGCARTITEM_Quantity': Integer,\n",
    "    'SHOPPINGCARTITEM_SHOPPINGCARTITEM_DateCreated': DATE\n",
    "}\n",
    "\n",
    "prepare_and_insert(shoppingcartitems, shoppingcartitems_dtypes, 'ShoppingCartItem', united_outdoors_engine, { 'SHOPPINGCARTITEM_SHOPPINGCARTITEM_ProductID' : {}, 'SHOPPINGCARTITEM_SHOPPINGCARTITEM_ShoppingCartID' : {}})"
   ],
   "outputs": [],
   "execution_count": null
  },
  {
   "cell_type": "markdown",
   "id": "67057da8",
   "metadata": {},
   "source": [
    "### SalesPersonQuotaHistory"
   ]
  },
  {
   "cell_type": "code",
   "id": "8bf48107",
   "metadata": {},
   "source": [
    "salespersonquotahistories_dtypes = {\n",
    "    'SALESPERSONQUOTAHISTORY_SALESPERSONQUOTAHISTORY_BusinessEntityID': Integer,\n",
    "    'SALESPERSONQUOTAHISTORY_SALESPERSONQUOTAHISTORY_QuotaDate': DATE,\n",
    "    'SALESPERSONQUOTAHISTORY_SALESPERSONQUOTAHISTORY_SalesQuota': MONEY\n",
    "}\n",
    "\n",
    "prepare_and_insert(salespersonquotahistories, salespersonquotahistories_dtypes, 'SalesPersonQuotaHistory', united_outdoors_engine, { 'SALESPERSONQUOTAHISTORY_SALESPERSONQUOTAHISTORY_BusinessEntityID' : businessentities_nk_sk_dict})"
   ],
   "outputs": [],
   "execution_count": null
  },
  {
   "cell_type": "markdown",
   "id": "d55f2fc2fe81836b",
   "metadata": {},
   "source": [
    "### Customers"
   ]
  },
  {
   "cell_type": "code",
   "id": "2aab05af613b62fb",
   "metadata": {},
   "source": [
    "customers_dtypes = {\n",
    "    'CUSTOMER_CUSTOMERS_ID': Integer,\n",
    "    'CUSTOMER_CUSTOMER_PersonID': Integer,\n",
    "    'CUSTOMER_CUSTOMER_StoreID': Integer,\n",
    "    'CUSTOMER_CUSTOMER_TerritoryID': Integer,\n",
    "    'CUSTOMER_CUSTOMER_AccountNumber': CHAR(10),\n",
    "    'CUSTOMER_CUSTOMERS_CompanyName': NVARCHAR(100),\n",
    "    'CUSTOMER_CUSTOMERS_ContactName': NVARCHAR(255),\n",
    "    'CUSTOMER_CUSTOMERS_ContactTitle': NVARCHAR(100),\n",
    "    'CUSTOMER_CUSTOMERS_Address': NVARCHAR(255),\n",
    "    'CUSTOMER_CUSTOMERS_City': NVARCHAR(100),\n",
    "    'CUSTOMER_CUSTOMERS_Region': NVARCHAR(50),\n",
    "    'CUSTOMER_CUSTOMERS_PostalCode': NVARCHAR(20),\n",
    "    'CUSTOMER_CUSTOMERS_Country': NVARCHAR(150),\n",
    "    'CUSTOMER_CUSTOMERS_Phone': NVARCHAR(24),\n",
    "    'CUSTOMER_CUSTOMERS_Fax': NVARCHAR(24),\n",
    "    'CUSTOMER_CUSTOMER_Fname': NVARCHAR(255),\n",
    "    'CUSTOMER_CUSTOMER_Lname': NVARCHAR(255),\n",
    "    'CUSTOMER_CUSTOMER_State': CHAR(2)\n",
    "}\n",
    "\n",
    "customers_nk_sk_dict = prepare_and_insert_return_sk(customers, customers_dtypes, 'Customer', united_outdoors_engine, 'CUSTOMER_CUSTOMERS_ID', {'CUSTOMER_CUSTOMER_PersonID': {}, 'CUSTOMER_CUSTOMER_StoreID': {}, 'CUSTOMER_CUSTOMER_TerritoryID': {}})"
   ],
   "outputs": [],
   "execution_count": null
  },
  {
   "cell_type": "markdown",
   "id": "bad90ca1",
   "metadata": {},
   "source": [
    "### SpecialOffer"
   ]
  },
  {
   "cell_type": "code",
   "id": "a061051e",
   "metadata": {},
   "source": [
    "specialoffers_dtypes = {\n",
    "    'SPECIALOFFER_SPECIALOFFER_ID': Integer,\n",
    "    'SPECIALOFFER_SPECIALOFFER_Description': String,\n",
    "    'SPECIALOFFER_SPECIALOFFER_DiscountPCT': Integer,\n",
    "    'SPECIALOFFER_SPECIALOFFER_Type': NVARCHAR(100),\n",
    "    'SPECIALOFFER_SPECIALOFFER_Category': NVARCHAR(100),\n",
    "    'SPECIALOFFER_SPECIALOFFER_StartDate': DATE,\n",
    "    'SPECIALOFFER_SPECIALOFFER_EndDate': DATE,\n",
    "    'SPECIALOFFER_SPECIALOFFER_MinQty': Integer,\n",
    "    'SPECIALOFFER_SPECIALOFFER_MaxQty': Integer,\n",
    "    'SPECIALOFFER_SPECIALOFFERPRODUCT_ProductID': Integer\n",
    "}\n",
    "\n",
    "specialoffer_nk_sk_dict = prepare_and_insert_return_sk(specialoffers, specialoffers_dtypes, 'SpecialOffer', united_outdoors_engine, 'SPECIALOFFER_SPECIALOFFER_ID')"
   ],
   "outputs": [],
   "execution_count": null
  },
  {
   "cell_type": "markdown",
   "id": "58758324",
   "metadata": {},
   "source": [
    "### CreditCard"
   ]
  },
  {
   "cell_type": "code",
   "id": "ff5621af",
   "metadata": {},
   "source": [
    "creditcards_dtypes = {\n",
    "    'CREDITCARD_CREDITCARD_ID': Integer,\n",
    "    'CREDITCARD_CREDITCARD_CardType': NVARCHAR(100),\n",
    "    'CREDITCARD_CREDITCARD_CardNumber': BigInteger,\n",
    "    'CREDITCARD_CREDITCARD_ExpMonth': Integer,\n",
    "    'CREDITCARD_CREDITCARD_ExpYear': Integer,\n",
    "    'CREDITCARD_PERSONCREDITCARD_BusinessEntityID': Integer\n",
    "}\n",
    "\n",
    "creditcards_nk_sk_dict = prepare_and_insert_return_sk(creditcards, creditcards_dtypes, 'CreditCard', united_outdoors_engine, 'CREDITCARD_CREDITCARD_ID')"
   ],
   "outputs": [],
   "execution_count": null
  },
  {
   "cell_type": "markdown",
   "id": "406e7a99",
   "metadata": {},
   "source": [
    "### Supplier"
   ]
  },
  {
   "cell_type": "code",
   "id": "a92c1a76",
   "metadata": {},
   "source": [
    "suppliers_dtypes = {\n",
    "    'SUPPLIER_SUPPLIERS_SupplierID': Integer,\n",
    "    'SUPPLIER_SUPPLIERS_CompanyName': NVARCHAR(100),\n",
    "    'SUPPLIER_SUPPLIERS_ContactName': NVARCHAR(255),\n",
    "    'SUPPLIER_SUPPLIERS_ContactTitle': NVARCHAR(100),\n",
    "    'SUPPLIER_SUPPLIERS_Address': NVARCHAR(150),\n",
    "    'SUPPLIER_SUPPLIERS_City': NVARCHAR(50),\n",
    "    'SUPPLIER_SUPPLIERS_Region': NVARCHAR(50),\n",
    "    'SUPPLIER_SUPPLIERS_PostalCode': NVARCHAR(20),\n",
    "    'SUPPLIER_SUPPLIERS_Country': NVARCHAR(100),\n",
    "    'SUPPLIER_SUPPLIERS_Phone': VARCHAR(20),\n",
    "    'SUPPLIER_SUPPLIERS_Fax': NVARCHAR(30),\n",
    "    'SUPPLIER_SUPPLIERS_HomePage': NVARCHAR(255)\n",
    "}\n",
    "\n",
    "prepare_and_insert(suppliers, suppliers_dtypes, 'Supplier', united_outdoors_engine)"
   ],
   "outputs": [],
   "execution_count": null
  },
  {
   "cell_type": "markdown",
   "id": "e1c42fd3",
   "metadata": {},
   "source": [
    "### Currency"
   ]
  },
  {
   "cell_type": "code",
   "id": "09143d9e",
   "metadata": {},
   "source": [
    "currencies_dtypes = {\n",
    "    'CURRENCY_CURRENCY_CurrencyCode': NVARCHAR(10),\n",
    "    'CURRENCY_CURRENCY_Name': NVARCHAR(100),\n",
    "    'CURRENCY_COUNTRYREGIONCURRENCY_CountryRegionCode': NVARCHAR(10),\n",
    "    'CURRENCY_CURRENCYRATE_CurrencyRateID': Integer,\n",
    "    'CURRENCY_CURRENCYRATE_CurrencyRateDate': DATE,\n",
    "    'CURRENCY_CURRENCYRATE_FromCurrencyCode': NVARCHAR(10),\n",
    "    'CURRENCY_CURRENCYRATE_ToCurrencyCode': NVARCHAR(10),\n",
    "    'CURRENCY_CURRENCYRATE_AverageRate': Integer,\n",
    "    'CURRENCY_CURRENCYRATE_EndOfDayRate': Integer\n",
    "}\n",
    "\n",
    "prepare_and_insert(currencies, currencies_dtypes, 'Currency', united_outdoors_engine, {'CURRENCY_CURRENCYRATE_CurrencyRateID': {}, 'CURRENCY_CURRENCYRATE_FromCurrencyCode': {}, 'CURRENCY_CURRENCYRATE_ToCurrencyCode': {}})"
   ],
   "outputs": [],
   "execution_count": null
  },
  {
   "cell_type": "markdown",
   "id": "af4efad9",
   "metadata": {},
   "source": [
    "### Territory"
   ]
  },
  {
   "cell_type": "code",
   "id": "3617f479",
   "metadata": {},
   "source": [
    "territories_dtypes = {\n",
    "    'TERRITORY_REGION_RegionID': Integer,\n",
    "    'TERRITORY_REGION_RegionDescription': String,\n",
    "    'TERRITORY_TERRITORIES_TerritoryID': Integer,\n",
    "    'TERRITORY_TERRITORIES_TerritoryDescription': String,\n",
    "    'TERRITORY_REGION_Region': NVARCHAR(50),\n",
    "    'TERRITORY_STATE_StateID': NVARCHAR(10),\n",
    "    'TERRITORY_STATE_StateName': NVARCHAR(100),\n",
    "    'TERRITORY_STATE_StateCapital': NVARCHAR(50),\n",
    "    'TERRITORY_STATE_Country': NVARCHAR(50),\n",
    "    'TERRITORY_COUNTRYREGION_CountryRegionCode': NVARCHAR(10),\n",
    "    'TERRITORY_COUNTRYREGION_Name': NVARCHAR(100),\n",
    "    'TERRITORY_STATEPROVINCE_StateProvinceID': Integer,\n",
    "    'TERRITORY_STATEPROVINCE_StateProvinceCode': NVARCHAR(10),\n",
    "    'TERRITORY_STATEPROVINCE_IsOnlyStateProvinceFlag': CHAR(1),\n",
    "    'TERRITORY_STATEPROVINCE_Name': NVARCHAR(100),\n",
    "    'TERRITORY_SALESTAXRATE_SalesTaxRateID': Integer,\n",
    "    'TERRITORY_SALESTAXRATE_TaxType': NVARCHAR(50),\n",
    "    'TERRITORY_SALESTAXRATE_TaxRate': DECIMAL(8,2),\n",
    "    'TERRITORY_SALESTAXRATE_Name': NVARCHAR(150)\n",
    "}\n",
    "\n",
    "prepare_and_insert(territories, territories_dtypes, 'Territory', united_outdoors_engine, {'TERRITORY_TERRITORIES_TerritoryID': {}, 'TERRITORY_STATE_StateID': {}, 'TERRITORY_COUNTRYREGION_CountryRegionCode': {}, 'TERRITORY_STATEPROVINCE_StateProvinceID': {}, 'TERRITORY_SALESTAXRATE_SalesTaxRateID': {}})"
   ],
   "outputs": [],
   "execution_count": null
  },
  {
   "cell_type": "markdown",
   "id": "2b1a1e84",
   "metadata": {},
   "source": [
    "### OrderHeader"
   ]
  },
  {
   "cell_type": "code",
   "id": "d543e0b2",
   "metadata": {},
   "source": [
    "orderheaders_dtypes = {\n",
    "    'ORDERHEADER_SALESORDERDETAIL_SalesOrderID': Integer,\n",
    "    'ORDERHEADER_SALESORDERDETAIL_SalesOrderDetailID': Integer,\n",
    "    'ORDERHEADER_SALESORDERDETAIL_CarrierTrackingNumber': NVARCHAR(25),\n",
    "    'ORDERHEADER_SALESORDERDETAIL_OrderQty': Integer,\n",
    "    'ORDERHEADER_SALESORDERDETAIL_ProductID': Integer,\n",
    "    'ORDERHEADER_SALESORDERDETAIL_SpecialOfferID': Integer,\n",
    "    'ORDERHEADER_SALESORDERDETAIL_UnitPrice': DECIMAL(8,2),\n",
    "    'ORDERHEADER_SALESORDERDETAIL_UnitPriceDiscount': DECIMAL(8,2),\n",
    "    'ORDERHEADER_SALESORDERDETAIL_LineTotal': NVARCHAR,\n",
    "    'ORDERHEADER_SALESORDERHEADER_RevisionNumber': Integer,\n",
    "    'ORDERHEADER_SALESORDERHEADER_OrderDate': DATE,\n",
    "    'ORDERHEADER_SALESORDERHEADER_DueDate': DATE,\n",
    "    'ORDERHEADER_SALESORDERHEADER_ShipDate': DATE,\n",
    "    'ORDERHEADER_SALESORDERHEADER_Status': CHAR(1),\n",
    "    'ORDERHEADER_SALESORDERHEADER_OnlineOrderFlag': BIT,\n",
    "    'ORDERHEADER_SALESORDERHEADER_SalesOrderNumber': VARCHAR(100),\n",
    "    'ORDERHEADER_SALESORDERHEADER_PurchaseOrderNumber': VARCHAR(25),\n",
    "    'ORDERHEADER_SALESORDERHEADER_AccountNumber': NVARCHAR(15),\n",
    "    'ORDERHEADER_SALESORDERHEADER_CustomerID': Integer,\n",
    "    'ORDERHEADER_SALESORDERHEADER_SalesPersonID': Integer,\n",
    "    'ORDERHEADER_SALESORDERHEADER_TerritoryID': Integer,\n",
    "    'ORDERHEADER_SALESORDERHEADER_BillToAddress': Integer,\n",
    "    'ORDERHEADER_SALESORDERHEADER_ShipToAddress': Integer,\n",
    "    'ORDERHEADER_SALESORDERHEADER_ShipMethodID': Integer,\n",
    "    'ORDERHEADER_SALESORDERHEADER_CreditCardID': Integer,\n",
    "    'ORDERHEADER_SALESORDERHEADER_CreditCardApprovalCode': NVARCHAR(15),\n",
    "    'ORDERHEADER_SALESORDERHEADER_CurrencyRateID': Integer,\n",
    "    'ORDERHEADER_SALESORDERHEADER_SubTotal': DECIMAL(11,2),\n",
    "    'ORDERHEADER_SALESORDERHEADER_TaxAmt': DECIMAL(11,2),\n",
    "    'ORDERHEADER_SALESORDERHEADER_Freight': DECIMAL(11,2),\n",
    "    'ORDERHEADER_SALESORDERHEADER_TotalDue': DECIMAL(11,2),\n",
    "    'ORDERHEADER_SALESORDERHEADER_Comment': NVARCHAR(128),\n",
    "    'ORDERHEADER_SALESORDERHEADERSALESREASON_SalesOrderID': Integer,\n",
    "    'ORDERHEADER_SALESREASON_SalesReasonID': Integer,\n",
    "    'ORDERHEADER_SALESREASON_Name': NVARCHAR(100),\n",
    "    'ORDERHEADER_SALESREASON_ReasonType': NVARCHAR(100),\n",
    "}\n",
    "\n",
    "prepare_and_insert(orderheaders, orderheaders_dtypes, 'OrderHeader', united_outdoors_engine, { 'ORDERHEADER_SALESORDERHEADER_CustomerID' : {}, 'ORDERHEADER_SALESORDERDETAIL_SpecialOfferID' : specialoffer_nk_sk_dict, 'ORDERHEADER_SALESORDERHEADER_CreditCardID': creditcards_nk_sk_dict, 'ORDERHEADER_SALESORDERHEADER_CurrencyRateID': {}})"
   ],
   "outputs": [],
   "execution_count": null
  },
  {
   "cell_type": "markdown",
   "id": "d5d5a350eb3857a5",
   "metadata": {},
   "source": [
    "## Constraints\n",
    "altering the tables to add the (foreign key) constraints"
   ]
  },
  {
   "cell_type": "code",
   "id": "4dbf2fec9d092308",
   "metadata": {},
   "source": [
    "# opening the UnitedOutdoors_constraints.sql file\n",
    "with open('sql/UnitedOutdoors_constraints.sql', 'r') as file:\n",
    "    sql_script = file.read()\n",
    "\n",
    "# Execute the script\n",
    "split_and_execute_sql_script(sql_script, united_outdoors_engine)"
   ],
   "outputs": [],
   "execution_count": null
  },
  {
   "cell_type": "markdown",
   "id": "1673fad4818f5f48",
   "metadata": {},
   "source": "## Closing connections"
  },
  {
   "cell_type": "code",
   "id": "9c88383a3ffc4e6f",
   "metadata": {},
   "source": [
    "try:\n",
    "    united_outdoors_engine.dispose()\n",
    "    northwind_engine.dispose()\n",
    "    aenc_engine.dispose()\n",
    "    adventureworks_engine.dispose()\n",
    "except OperationalError as e:\n",
    "        print(f'Error: {e}')"
   ],
   "outputs": [],
   "execution_count": null
  },
  {
   "cell_type": "markdown",
   "id": "a4550fa962ffb55c",
   "metadata": {},
   "source": [
    "# Time elapsed"
   ]
  },
  {
   "cell_type": "code",
   "id": "71eb76d2d8aa01be",
   "metadata": {},
   "source": [
    "end_time = time.time()\n",
    "\n",
    "print(f'Time elapsed: {end_time - start_time} seconds')"
   ],
   "outputs": [],
   "execution_count": null
  }
 ],
 "metadata": {
  "kernelspec": {
   "display_name": "Python 3",
   "language": "python",
   "name": "python3"
  },
  "language_info": {
   "codemirror_mode": {
    "name": "ipython",
    "version": 3
   },
   "file_extension": ".py",
   "mimetype": "text/x-python",
   "name": "python",
   "nbconvert_exporter": "python",
   "pygments_lexer": "ipython3",
   "version": "3.12.2"
  }
 },
 "nbformat": 4,
 "nbformat_minor": 5
}
