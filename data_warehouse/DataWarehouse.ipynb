{
 "cells": [
  {
   "cell_type": "markdown",
   "id": "17e2c480eb50cac0",
   "metadata": {},
   "source": [
    "# United outdoors datawarehouse"
   ]
  },
  {
   "cell_type": "markdown",
   "id": "219c4ad180aa0438",
   "metadata": {},
   "source": [
    "## Imports"
   ]
  },
  {
   "cell_type": "code",
   "id": "1cf4cf0b86e3ced5",
   "metadata": {
    "ExecuteTime": {
     "end_time": "2024-05-18T14:23:32.288982Z",
     "start_time": "2024-05-18T14:23:31.329599Z"
    }
   },
   "source": [
    "import pandas as pd\n",
    "import numpy as np\n",
    "from sqlalchemy import create_engine, Integer, String, LargeBinary, VARCHAR, NVARCHAR, DECIMAL, CHAR, \\\n",
    "    DATE\n",
    "from sqlalchemy.dialects.mssql import BIT, XML, MONEY\n",
    "from sqlalchemy.exc import OperationalError\n",
    "from urllib import parse\n",
    "import re\n",
    "import time"
   ],
   "outputs": [],
   "execution_count": 1
  },
  {
   "metadata": {
    "ExecuteTime": {
     "end_time": "2024-05-18T14:23:32.294920Z",
     "start_time": "2024-05-18T14:23:32.289992Z"
    }
   },
   "cell_type": "code",
   "source": "start_time = time.time()",
   "id": "cf4ac564948098ab",
   "outputs": [],
   "execution_count": 2
  },
  {
   "cell_type": "markdown",
   "id": "e5dedb1f60eb921f",
   "metadata": {},
   "source": [
    "## Database connection details"
   ]
  },
  {
   "cell_type": "code",
   "id": "7fc7de2a6201878c",
   "metadata": {
    "ExecuteTime": {
     "end_time": "2024-05-18T14:23:32.306884Z",
     "start_time": "2024-05-18T14:23:32.295937Z"
    }
   },
   "source": [
    "DB = {\n",
    "    'servername' : '(local)\\\\SQLEXPRESS',\n",
    "    'united_outdoors_database' : 'UnitedOutdoors',\n",
    "    'northwind_database' : 'Northwind',\n",
    "    'aenc_database' : 'Aenc',\n",
    "    'adventureworks_database' : 'AdventureWorks2019',\n",
    "    'master' : 'master'\n",
    "}"
   ],
   "outputs": [],
   "execution_count": 3
  },
  {
   "cell_type": "code",
   "id": "d813ef4841c45033",
   "metadata": {
    "ExecuteTime": {
     "end_time": "2024-05-18T14:23:32.319108Z",
     "start_time": "2024-05-18T14:23:32.308892Z"
    }
   },
   "source": [
    "def create_connection(servername, database):\n",
    "    params = parse.quote_plus(f'DRIVER={{SQL Server}};SERVER={servername};DATABASE={database};Trusted_Connection=yes')\n",
    "    engine = create_engine(f'mssql+pyodbc:///?odbc_connect={params}', use_setinputsizes=False, connect_args={'options': '-c search_path=dbo'}, fast_executemany=True) # setinputsizes needs to be turned off for sql server, idk why but gives errors otherwise\n",
    "    try:\n",
    "        establish_conn = engine.connect()\n",
    "        print(f'Connection to {database} database successful')\n",
    "        return establish_conn, engine\n",
    "    except OperationalError as e:\n",
    "        print(f'Error: {e}')\n",
    "        return None, None"
   ],
   "outputs": [],
   "execution_count": 4
  },
  {
   "cell_type": "code",
   "id": "4415bc87cfbd4b9",
   "metadata": {
    "ExecuteTime": {
     "end_time": "2024-05-18T14:23:32.329317Z",
     "start_time": "2024-05-18T14:23:32.322120Z"
    }
   },
   "source": [
    "def split_and_execute_sql_script(script, execute_engine):\n",
    "    # creating a connection\n",
    "    connection = execute_engine.connect()\n",
    "    \n",
    "    # splitting the script into the database creation and the rest\n",
    "    commands = re.split(r'GO\\n', script)\n",
    "    # removing all \\bGO\\b from the commands\n",
    "    commands = [re.sub(r'\\bGO\\b', '', command) for command in commands]\n",
    "    \n",
    "    # Execute the commands\n",
    "    for command in commands:\n",
    "        command = command.strip()\n",
    "        # Skip if the command is empty or 'GO'\n",
    "        if not command or command.upper() == 'GO':\n",
    "            continue\n",
    "        try:\n",
    "            connection.connection.execute(command)\n",
    "            connection.connection.commit()\n",
    "            #print(f'Command executed: {command}')\n",
    "        except OperationalError as e:\n",
    "            print(f'Error: {e} at command: {command}')"
   ],
   "outputs": [],
   "execution_count": 5
  },
  {
   "metadata": {
    "ExecuteTime": {
     "end_time": "2024-05-18T14:23:32.339851Z",
     "start_time": "2024-05-18T14:23:32.330381Z"
    }
   },
   "cell_type": "code",
   "source": [
    "def bulk_insert(df, dtypes, table_name, engine):\n",
    "    # calculating chunk size\n",
    "    chunk_size = (2000 // len(df.columns))  # 2100 is the maximum number of parameters in a query, -100 for safety\n",
    "\n",
    "    print(f'Inserting data into table: {table_name} with chunk size: {chunk_size}')\n",
    "    df.to_sql(name=table_name, schema='dbo', con=engine, if_exists='append', index=False, dtype=dtypes, method='multi', chunksize= chunk_size)"
   ],
   "id": "63d3790761db9e4d",
   "outputs": [],
   "execution_count": 6
  },
  {
   "cell_type": "code",
   "id": "b6d38bfcca6afd40",
   "metadata": {
    "ExecuteTime": {
     "end_time": "2024-05-18T14:23:32.352616Z",
     "start_time": "2024-05-18T14:23:32.340932Z"
    }
   },
   "source": [
    "def prepare(dataframe, nk_sk_dict=None):\n",
    "    # replacing the natural keys with the surrogate keys\n",
    "    if nk_sk_dict:\n",
    "        for column in nk_sk_dict:\n",
    "            # Check for duplicate keys\n",
    "            if len(nk_sk_dict[column]) != len(set(nk_sk_dict[column])):\n",
    "                raise ValueError(f'Duplicate keys found in nk_sk_dict for column: {column}')\n",
    "            else:\n",
    "                print(f'Replacing natural keys with surrogate keys for column: {column}')\n",
    "                for natural_key in nk_sk_dict[column]:\n",
    "                    dataframe[column] = dataframe[column].replace(natural_key, nk_sk_dict[column][natural_key])\n",
    "    \n",
    "    # replace empty values with None\n",
    "    dataframe = dataframe.where(pd.notnull(dataframe), None)\n",
    "    dataframe = dataframe.replace({np.nan: None})\n",
    "    \n",
    "    # stripping all columns with string data\n",
    "    dataframe = dataframe.map(lambda x: x.strip() if isinstance(x, str) else x)\n",
    "    # replacing all empty strings with None\n",
    "    dataframe = dataframe.replace(r'^\\s*$', None, regex=True)"
   ],
   "outputs": [],
   "execution_count": 7
  },
  {
   "cell_type": "code",
   "id": "4864830206097f93",
   "metadata": {
    "ExecuteTime": {
     "end_time": "2024-05-18T14:23:32.361633Z",
     "start_time": "2024-05-18T14:23:32.354627Z"
    }
   },
   "source": [
    "def prepare_and_insert(dataframe, dtypes,table_name, nk_sk_dict=None):\n",
    "    \"\"\"\n",
    "    Prepares the dataframe for insertion into the database and inserts it into the database.\n",
    "        @param dataframe: The dataframe to be inserted into the database\n",
    "        @param dtypes: The data types of the columns in the dataframe\n",
    "        @param table_name: The name of the table in the database\n",
    "        @param nk_sk_dict: A 3d dictionary containing the natural keys and their corresponding surrogate keys, per column (so nk_sk_dict[column][natural_key] = surrogate_key)\n",
    "    \"\"\"\n",
    "       \n",
    "    prepare(dataframe, nk_sk_dict)\n",
    "    \n",
    "    # adding the data to the database\n",
    "    bulk_insert(dataframe, dtypes, table_name, united_outdoors_engine)"
   ],
   "outputs": [],
   "execution_count": 8
  },
  {
   "cell_type": "code",
   "id": "831fa404922c26e",
   "metadata": {
    "ExecuteTime": {
     "end_time": "2024-05-18T14:23:32.373452Z",
     "start_time": "2024-05-18T14:23:32.363652Z"
    }
   },
   "source": [
    "def prepare_and_insert_return_sk(dataframe, dtypes, table_name, natural_key_column, nk_sk_dict=None):\n",
    "    \"\"\"\n",
    "    Prepares the dataframe for insertion into the database and inserts it into the database.\n",
    "        @param dataframe: The dataframe to be inserted into the database\n",
    "        @param dtypes: The data types of the columns in the dataframe\n",
    "        @param table_name: The name of the table in the database\n",
    "        @param natural_key_column: The name of the column containing the natural keys\n",
    "        @param nk_sk_dict: A 3d dictionary containing the natural keys and their corresponding surrogate keys, per column (so nk_sk_dict[column][natural_key] = surrogate_key)\n",
    "        @return: A dictionary containing the natural keys and their corresponding surrogate keys\n",
    "    \"\"\"\n",
    "    \n",
    "    prepare(dataframe, nk_sk_dict)\n",
    "    \n",
    "    # adding the data to the database\n",
    "    bulk_insert(dataframe, dtypes, table_name, united_outdoors_engine)\n",
    "    \n",
    "    # making a cleaned dictionary without None/nan values in the natural_key_column\n",
    "    mask = dataframe[natural_key_column].notnull()\n",
    "    filtered_dataframe = dataframe[mask]\n",
    "    \n",
    "    # getting the natural keys and their corresponding surrogate keys\n",
    "    # TODO FIX THIS, relying on the dataframe index is not a good idea\n",
    "    nk_sk_dict = dict(zip(filtered_dataframe[natural_key_column], dataframe.index))\n",
    "    \n",
    "    # adding +1 to the index to get the surrogate key\n",
    "    nk_sk_dict = {k: v + 1 for k, v in nk_sk_dict.items()}\n",
    "    \n",
    "    return nk_sk_dict"
   ],
   "outputs": [],
   "execution_count": 9
  },
  {
   "cell_type": "code",
   "id": "dcf41d6c2aee34fb",
   "metadata": {
    "ExecuteTime": {
     "end_time": "2024-05-18T14:23:32.384308Z",
     "start_time": "2024-05-18T14:23:32.375465Z"
    }
   },
   "source": [
    "def prepare_and_update(table_name, update_engine, nk_sk_dict=None):   \n",
    "    # creating a connection\n",
    "    connection = update_engine.connect()\n",
    "\n",
    "    # Start a transaction\n",
    "    trans = connection.begin()\n",
    "\n",
    "    try:\n",
    "        # adding the data to the database\n",
    "        print(f'Updating data in table: {table_name}')\n",
    "        for column in nk_sk_dict:\n",
    "            # Prepare a batch update statement\n",
    "            update_stmts = []\n",
    "            for natural_key in nk_sk_dict[column]:\n",
    "                update_stmts.append(f'UPDATE {table_name} SET {column} = {nk_sk_dict[column][natural_key]} WHERE {column} = {int(natural_key)}')\n",
    "\n",
    "                # If the number of parameters reaches the limit, execute the batch update and clear the list\n",
    "                if len(update_stmts) * 2 >= 2000:  # Each update statement has 2 parameters, cause of the Column and Where clause\n",
    "                    connection.connection.execute(\";\".join(update_stmts))\n",
    "                    update_stmts = []\n",
    "\n",
    "            # Execute the remaining update statements\n",
    "            if update_stmts:\n",
    "                connection.connection.execute(\";\".join(update_stmts))\n",
    "\n",
    "        # Commit the transaction\n",
    "        trans.commit()\n",
    "    except:\n",
    "        # Rollback the transaction in case of error\n",
    "        trans.rollback()\n",
    "        raise\n",
    "    finally:\n",
    "        # Close the connection\n",
    "        connection.close()"
   ],
   "outputs": [],
   "execution_count": 10
  },
  {
   "cell_type": "code",
   "id": "20684c4233f7620d",
   "metadata": {
    "ExecuteTime": {
     "end_time": "2024-05-18T14:23:32.395718Z",
     "start_time": "2024-05-18T14:23:32.387326Z"
    }
   },
   "source": [
    "def drop_modified_date_rowguid(dataframe):\n",
    "    # dropping all columns with 'rowguid' in their name\n",
    "    columns_to_drop_mr = dataframe.filter(like='rowguid').columns\n",
    "    \n",
    "    # dropping all columns with 'ModifiedDate' in their name\n",
    "    columns_to_drop_mr = columns_to_drop_mr.append(dataframe.filter(like='ModifiedDate').columns)\n",
    "    \n",
    "    # dropping the columns\n",
    "    dataframe.drop(columns=columns_to_drop_mr, inplace=True)"
   ],
   "outputs": [],
   "execution_count": 11
  },
  {
   "cell_type": "markdown",
   "id": "d20434978a02675e",
   "metadata": {},
   "source": [
    "## Create the UnitedOutdoors datawarehouse"
   ]
  },
  {
   "cell_type": "code",
   "id": "f4a738224bd6cb1",
   "metadata": {
    "ExecuteTime": {
     "end_time": "2024-05-18T14:23:32.942752Z",
     "start_time": "2024-05-18T14:23:32.396789Z"
    }
   },
   "source": [
    "_, creation_engine = create_connection(DB[\"servername\"], DB[\"master\"])\n",
    "\n",
    "# Open the SQL script file and read its contents\n",
    "with open('sql/UnitedOutdoors_creation.sql', 'r') as file:\n",
    "    sql_script = file.read()\n",
    "\n",
    "split_and_execute_sql_script(sql_script, creation_engine)\n",
    "\n",
    "creation_engine.dispose()"
   ],
   "outputs": [
    {
     "name": "stdout",
     "output_type": "stream",
     "text": [
      "Connection to master database successful\n"
     ]
    }
   ],
   "execution_count": 12
  },
  {
   "cell_type": "markdown",
   "id": "53f0ccd3e21fa4b5",
   "metadata": {},
   "source": [
    "## Connecting to the UnitedOutdoors datawarehouse"
   ]
  },
  {
   "cell_type": "code",
   "id": "68689a803df4672f",
   "metadata": {
    "ExecuteTime": {
     "end_time": "2024-05-18T14:23:33.080859Z",
     "start_time": "2024-05-18T14:23:32.944769Z"
    }
   },
   "source": "_ , united_outdoors_engine = create_connection(DB[\"servername\"], DB[\"united_outdoors_database\"])",
   "outputs": [
    {
     "name": "stdout",
     "output_type": "stream",
     "text": [
      "Connection to UnitedOutdoors database successful\n"
     ]
    }
   ],
   "execution_count": 13
  },
  {
   "cell_type": "markdown",
   "id": "75e2c357aec06e16",
   "metadata": {},
   "source": [
    "## Loading the data from the source databases"
   ]
  },
  {
   "cell_type": "markdown",
   "id": "e233e17a8927b6b1",
   "metadata": {},
   "source": [
    "### Northwind database"
   ]
  },
  {
   "cell_type": "markdown",
   "id": "aebf714a21c77aac",
   "metadata": {},
   "source": [
    "#### Connection"
   ]
  },
  {
   "cell_type": "code",
   "id": "f49b57c4eb4a0356",
   "metadata": {
    "ExecuteTime": {
     "end_time": "2024-05-18T14:23:33.297188Z",
     "start_time": "2024-05-18T14:23:33.086942Z"
    }
   },
   "source": [
    "northwind_conn, northwind_engine = create_connection(DB[\"servername\"], DB[\"northwind_database\"])"
   ],
   "outputs": [
    {
     "name": "stdout",
     "output_type": "stream",
     "text": [
      "Connection to Northwind database successful\n"
     ]
    }
   ],
   "execution_count": 14
  },
  {
   "cell_type": "markdown",
   "id": "ce0ee452c23a7217",
   "metadata": {},
   "source": [
    "#### Loading data"
   ]
  },
  {
   "cell_type": "code",
   "id": "6759fac4a542f313",
   "metadata": {
    "ExecuteTime": {
     "end_time": "2024-05-18T14:23:33.504537Z",
     "start_time": "2024-05-18T14:23:33.298296Z"
    }
   },
   "source": [
    "# Load the data from the source database\n",
    "northwind_categories = pd.read_sql('SELECT * FROM Categories', northwind_conn)\n",
    "northwind_customer_customer_demo = pd.read_sql('SELECT * FROM CustomerCustomerDemo', northwind_conn)\n",
    "northwind_customer_demographics = pd.read_sql('SELECT * FROM CustomerDemographics', northwind_conn)\n",
    "northwind_customers = pd.read_sql('SELECT * FROM Customers', northwind_conn)\n",
    "northwind_employees = pd.read_sql('SELECT * FROM Employees', northwind_conn)\n",
    "northwind_employee_territories = pd.read_sql('SELECT * FROM EmployeeTerritories', northwind_conn)\n",
    "northwind_order_details = pd.read_sql('SELECT * FROM [Order Details]', northwind_conn)\n",
    "northwind_orders = pd.read_sql('SELECT * FROM Orders', northwind_conn)\n",
    "northwind_products = pd.read_sql('SELECT * FROM Products', northwind_conn)\n",
    "northwind_region = pd.read_sql('SELECT * FROM Region', northwind_conn)\n",
    "northwind_shippers = pd.read_sql('SELECT * FROM Shippers', northwind_conn)\n",
    "northwind_suppliers = pd.read_sql('SELECT * FROM Suppliers', northwind_conn)\n",
    "northwind_territories = pd.read_sql('SELECT * FROM Territories', northwind_conn)\n",
    "\n",
    "northwind_conn.close()"
   ],
   "outputs": [],
   "execution_count": 15
  },
  {
   "cell_type": "markdown",
   "id": "e8354ea289e5b52f",
   "metadata": {},
   "source": [
    "### Aenc database"
   ]
  },
  {
   "cell_type": "markdown",
   "id": "5a552beede389e74",
   "metadata": {},
   "source": [
    "#### Connection"
   ]
  },
  {
   "cell_type": "code",
   "id": "8068f691bb272a12",
   "metadata": {
    "ExecuteTime": {
     "end_time": "2024-05-18T14:23:33.719052Z",
     "start_time": "2024-05-18T14:23:33.505548Z"
    }
   },
   "source": [
    "aenc_conn , aenc_engine = create_connection(DB[\"servername\"], DB[\"aenc_database\"])"
   ],
   "outputs": [
    {
     "name": "stdout",
     "output_type": "stream",
     "text": [
      "Connection to Aenc database successful\n"
     ]
    }
   ],
   "execution_count": 16
  },
  {
   "cell_type": "markdown",
   "id": "52ebbee980f2d5e1",
   "metadata": {},
   "source": [
    "#### Loading data"
   ]
  },
  {
   "cell_type": "code",
   "id": "a13392c1ea85f07c",
   "metadata": {
    "ExecuteTime": {
     "end_time": "2024-05-18T14:23:33.838413Z",
     "start_time": "2024-05-18T14:23:33.720145Z"
    }
   },
   "source": [
    "aenc_bonus              = pd.read_sql('SELECT * FROM Bonus', aenc_conn)\n",
    "aenc_customer           = pd.read_sql('SELECT * FROM Customer', aenc_conn)\n",
    "aenc_department         = pd.read_sql('SELECT * FROM Department', aenc_conn)\n",
    "aenc_employee           = pd.read_sql('SELECT * FROM Employee', aenc_conn)\n",
    "aenc_product            = pd.read_sql('SELECT * FROM Product', aenc_conn)\n",
    "aenc_region             = pd.read_sql('SELECT * FROM Region', aenc_conn)\n",
    "aenc_sales_order        = pd.read_sql('SELECT * FROM SalesOrder', aenc_conn)\n",
    "aenc_sales_order_item   = pd.read_sql('SELECT * FROM SalesOrderItem', aenc_conn)\n",
    "aenc_state              = pd.read_sql('SELECT * FROM State', aenc_conn)\n",
    "\n",
    "aenc_conn.close()"
   ],
   "outputs": [],
   "execution_count": 17
  },
  {
   "cell_type": "markdown",
   "id": "333dd57a2b50b509",
   "metadata": {},
   "source": [
    "### AdventureWorks database"
   ]
  },
  {
   "cell_type": "markdown",
   "id": "38a34bcd0999e229",
   "metadata": {},
   "source": [
    "#### Connection"
   ]
  },
  {
   "cell_type": "code",
   "id": "8a7816d659b8042e",
   "metadata": {
    "ExecuteTime": {
     "end_time": "2024-05-18T14:23:33.951508Z",
     "start_time": "2024-05-18T14:23:33.839419Z"
    }
   },
   "source": [
    "adventureworks_conn, adventureworks_engine = create_connection(DB[\"servername\"], DB[\"adventureworks_database\"])"
   ],
   "outputs": [
    {
     "name": "stdout",
     "output_type": "stream",
     "text": [
      "Connection to AdventureWorks2019 database successful\n"
     ]
    }
   ],
   "execution_count": 18
  },
  {
   "cell_type": "markdown",
   "id": "dd31b9f74a9313d9",
   "metadata": {},
   "source": [
    "#### Loading data"
   ]
  },
  {
   "cell_type": "code",
   "id": "95d9b1664c99e3c3",
   "metadata": {
    "ExecuteTime": {
     "end_time": "2024-05-18T14:23:34.063713Z",
     "start_time": "2024-05-18T14:23:33.952540Z"
    }
   },
   "source": [
    "adventureworks_humanresources_department = pd.read_sql('SELECT * FROM HumanResources.Department', adventureworks_conn)\n",
    "adventureworks_humanresources_employee = pd.read_sql('SELECT * FROM HumanResources.Employee', adventureworks_conn)\n",
    "adventureworks_humanresources_employeedepartmenthistory = pd.read_sql('SELECT * FROM HumanResources.EmployeeDepartmentHistory', adventureworks_conn)\n",
    "adventureworks_humanresources_employeepayhistory = pd.read_sql('SELECT * FROM HumanResources.EmployeePayHistory', adventureworks_conn)\n",
    "adventureworks_humanresources_jobcandidate = pd.read_sql('SELECT * FROM HumanResources.JobCandidate', adventureworks_conn)\n",
    "adventureworks_humanresources_shift = pd.read_sql('SELECT * FROM HumanResources.Shift', adventureworks_conn)"
   ],
   "outputs": [],
   "execution_count": 19
  },
  {
   "cell_type": "code",
   "id": "3b2754e5926d99e6",
   "metadata": {
    "ExecuteTime": {
     "end_time": "2024-05-18T14:23:36.267625Z",
     "start_time": "2024-05-18T14:23:34.064739Z"
    }
   },
   "source": [
    "adventureworks_person_address = pd.read_sql('SELECT AddressID, AddressLine1, AddressLine2, City, StateProvinceID, PostalCode, CAST(SpatialLocation AS VARCHAR(MAX)) AS SpatialLocation,rowguid, ModifiedDate   FROM Person.Address', adventureworks_conn)\n",
    "adventureworks_person_address_type = pd.read_sql('SELECT * FROM Person.AddressType', adventureworks_conn)\n",
    "adventureworks_person_businessentity = pd.read_sql('SELECT * FROM Person.BusinessEntity', adventureworks_conn)\n",
    "adventureworks_person_businessentityaddress = pd.read_sql('SELECT * FROM Person.BusinessEntityAddress', adventureworks_conn)\n",
    "adventureworks_person_businessentitycontact = pd.read_sql('SELECT * FROM Person.BusinessEntityContact', adventureworks_conn)\n",
    "adventureworks_person_contacttype = pd.read_sql('SELECT * FROM Person.ContactType', adventureworks_conn)\n",
    "adventureworks_person_countryregion = pd.read_sql('SELECT * FROM Person.CountryRegion', adventureworks_conn)\n",
    "adventureworks_person_emailaddress = pd.read_sql('SELECT * FROM Person.EmailAddress', adventureworks_conn)\n",
    "adventureworks_person_password = pd.read_sql('SELECT * FROM Person.Password', adventureworks_conn)\n",
    "adventureworks_person_person = pd.read_sql('SELECT * FROM Person.Person', adventureworks_conn)\n",
    "adventureworks_person_personphone = pd.read_sql('SELECT * FROM Person.PersonPhone', adventureworks_conn)\n",
    "adventureworks_person_phonenumbertype = pd.read_sql('SELECT * FROM Person.PhoneNumberType', adventureworks_conn)\n",
    "adventureworks_person_stateprovince = pd.read_sql('SELECT * FROM Person.StateProvince', adventureworks_conn)"
   ],
   "outputs": [],
   "execution_count": 20
  },
  {
   "cell_type": "code",
   "id": "b9cf2209b4fc16a4",
   "metadata": {
    "ExecuteTime": {
     "end_time": "2024-05-18T14:23:39.923595Z",
     "start_time": "2024-05-18T14:23:36.268632Z"
    }
   },
   "source": [
    "adventureworks_production_bill_of_materials = pd.read_sql('SELECT * FROM Production.BillOfMaterials', adventureworks_conn)\n",
    "adventureworks_production_culture = pd.read_sql('SELECT * FROM Production.Culture', adventureworks_conn)\n",
    "adventureworks_production_document = pd.read_sql('SELECT * FROM Production.Document', adventureworks_conn)\n",
    "adventureworks_production_illustration = pd.read_sql('SELECT * FROM Production.Illustration', adventureworks_conn)\n",
    "adventureworks_production_location = pd.read_sql('SELECT * FROM Production.Location', adventureworks_conn)\n",
    "adventureworks_production_product = pd.read_sql('SELECT * FROM Production.Product', adventureworks_conn)\n",
    "adventureworks_production_productcategory = pd.read_sql('SELECT * FROM Production.ProductCategory', adventureworks_conn)\n",
    "adventureworks_production_productcosthistory = pd.read_sql('SELECT * FROM Production.ProductCostHistory', adventureworks_conn)\n",
    "adventureworks_production_productdescription = pd.read_sql('SELECT * FROM Production.ProductDescription', adventureworks_conn)\n",
    "adventureworks_production_productdocument = pd.read_sql('SELECT * , CAST(DocumentNode AS VARCHAR(MAX)) AS DocumentNodeString  FROM Production.ProductDocument', adventureworks_conn)\n",
    "adventureworks_production_productinventory = pd.read_sql('SELECT * FROM Production.ProductInventory', adventureworks_conn)\n",
    "adventureworks_production_productlistpricehistory = pd.read_sql('SELECT * FROM Production.ProductListPriceHistory', adventureworks_conn)\n",
    "adventureworks_production_productmodel = pd.read_sql('SELECT * FROM Production.ProductModel', adventureworks_conn)\n",
    "adventureworks_production_productmodelillustration = pd.read_sql('SELECT * FROM Production.ProductModelIllustration', adventureworks_conn)\n",
    "adventureworks_production_productmodelproductdescriptionculture = pd.read_sql('SELECT * FROM Production.ProductModelProductDescriptionCulture', adventureworks_conn)\n",
    "adventureworks_production_productphoto = pd.read_sql('SELECT ProductPhotoID, CONVERT(VARCHAR(MAX),ThumbNailPhoto, 1) as ThumbNailPhotoHexString, ThumbNailPhotoFileName, CONVERT(VARCHAR(MAX), LargePhoto, 1) as LargePhotoHexString, LargePhotoFileName, ModifiedDate FROM Production.ProductPhoto', adventureworks_conn)\n",
    "adventureworks_production_productproductphoto = pd.read_sql('SELECT * FROM Production.ProductProductPhoto', adventureworks_conn)\n",
    "adventureworks_production_productreview = pd.read_sql('SELECT * FROM Production.ProductReview', adventureworks_conn)\n",
    "adventureworks_production_productsubcategory = pd.read_sql('SELECT * FROM Production.ProductSubcategory', adventureworks_conn)\n",
    "adventureworks_production_scrapreason = pd.read_sql('SELECT * FROM Production.ScrapReason', adventureworks_conn)\n",
    "adventureworks_production_transactionhistory = pd.read_sql('SELECT * FROM Production.TransactionHistory', adventureworks_conn)\n",
    "adventureworks_production_transactionhistoryarchive = pd.read_sql('SELECT * FROM Production.TransactionHistoryArchive', adventureworks_conn)\n",
    "adventureworks_production_unitmeasure = pd.read_sql('SELECT * FROM Production.UnitMeasure', adventureworks_conn)\n",
    "adventureworks_production_workorder = pd.read_sql('SELECT * FROM Production.WorkOrder', adventureworks_conn)\n",
    "adventureworks_production_workorderrouting = pd.read_sql('SELECT * FROM Production.WorkOrderRouting', adventureworks_conn)"
   ],
   "outputs": [],
   "execution_count": 21
  },
  {
   "cell_type": "code",
   "id": "a05635e1acca8623",
   "metadata": {
    "ExecuteTime": {
     "end_time": "2024-05-18T14:23:40.194656Z",
     "start_time": "2024-05-18T14:23:39.924711Z"
    }
   },
   "source": [
    "adventureworks_purchasing_productvendor = pd.read_sql('SELECT * FROM Purchasing.ProductVendor', adventureworks_conn)\n",
    "adventureworks_purchasing_purchaseorderdetail = pd.read_sql('SELECT * FROM Purchasing.PurchaseOrderDetail', adventureworks_conn)\n",
    "adventureworks_purchasing_purchaseorderheader = pd.read_sql('SELECT * FROM Purchasing.PurchaseOrderHeader', adventureworks_conn)\n",
    "adventureworks_purchasing_shipmethod = pd.read_sql('SELECT * FROM Purchasing.ShipMethod', adventureworks_conn)\n",
    "adventureworks_purchasing_vendor = pd.read_sql('SELECT * FROM Purchasing.Vendor', adventureworks_conn)"
   ],
   "outputs": [],
   "execution_count": 22
  },
  {
   "cell_type": "code",
   "id": "d85ccde07f7a7d22",
   "metadata": {
    "ExecuteTime": {
     "end_time": "2024-05-18T14:23:43.397691Z",
     "start_time": "2024-05-18T14:23:40.196679Z"
    }
   },
   "source": [
    "adventureworks_sales_countryregioncurrency = pd.read_sql('SELECT * FROM Sales.CountryRegionCurrency', adventureworks_conn)\n",
    "adventureworks_sales_creditcard = pd.read_sql('SELECT * FROM Sales.CreditCard', adventureworks_conn)\n",
    "adventureworks_sales_currency = pd.read_sql('SELECT * FROM Sales.Currency', adventureworks_conn)\n",
    "adventureworks_sales_currencyrate = pd.read_sql('SELECT * FROM Sales.CurrencyRate', adventureworks_conn)\n",
    "adventureworks_sales_customer = pd.read_sql('SELECT * FROM Sales.Customer', adventureworks_conn)\n",
    "adventureworks_sales_personcreditcard = pd.read_sql('SELECT * FROM Sales.PersonCreditCard', adventureworks_conn)\n",
    "adventureworks_sales_salesorderdetail = pd.read_sql('SELECT * FROM Sales.SalesOrderDetail', adventureworks_conn)\n",
    "adventureworks_sales_salesorderheader = pd.read_sql('SELECT * FROM Sales.SalesOrderHeader', adventureworks_conn)\n",
    "adventureworks_sales_salesorderhearerrsaleseason = pd.read_sql('SELECT * FROM Sales.SalesOrderHeaderSalesReason', adventureworks_conn)\n",
    "adventureworks_sales_salesperson = pd.read_sql('SELECT * FROM Sales.SalesPerson', adventureworks_conn)\n",
    "adventureworks_sales_salespersonquotahistory = pd.read_sql('SELECT * FROM Sales.SalesPersonQuotaHistory', adventureworks_conn)\n",
    "adventureworks_sales_salesreason = pd.read_sql('SELECT * FROM Sales.SalesReason', adventureworks_conn)\n",
    "adventureworks_sales_salestaxrate = pd.read_sql('SELECT * FROM Sales.SalesTaxRate', adventureworks_conn)\n",
    "adventureworks_sales_salesterritory = pd.read_sql('SELECT * FROM Sales.SalesTerritory', adventureworks_conn)\n",
    "adventureworks_sales_salesterritoryhistory = pd.read_sql('SELECT * FROM Sales.SalesTerritoryHistory', adventureworks_conn)\n",
    "adventureworks_sales_shoppingcartitem = pd.read_sql('SELECT * FROM Sales.ShoppingCartItem', adventureworks_conn)\n",
    "adventureworks_sales_specialoffer = pd.read_sql('SELECT * FROM Sales.SpecialOffer', adventureworks_conn)\n",
    "adventureworks_sales_specialofferproduct = pd.read_sql('SELECT * FROM Sales.SpecialOfferProduct', adventureworks_conn)\n",
    "adventureworks_sales_store = pd.read_sql('SELECT * FROM Sales.Store', adventureworks_conn)\n",
    "\n",
    "adventureworks_conn.close()"
   ],
   "outputs": [],
   "execution_count": 23
  },
  {
   "cell_type": "markdown",
   "id": "b05031a91d18ef67",
   "metadata": {},
   "source": [
    "## Combining the data\n",
    "ORDER MATTERS, CAUSE SURROGATE KEYS\n",
    "SK STILL NEEDS TO BE DONE"
   ]
  },
  {
   "cell_type": "markdown",
   "id": "952478cb55013351",
   "metadata": {},
   "source": [
    "### Departments\n",
    "Combining aenc and adventureworks department data"
   ]
  },
  {
   "cell_type": "code",
   "id": "1c9b32acb478d507",
   "metadata": {
    "ExecuteTime": {
     "end_time": "2024-05-18T14:23:43.418045Z",
     "start_time": "2024-05-18T14:23:43.399699Z"
    }
   },
   "source": [
    "# adding DEPARTMENT_source_database columns to the dataframes\n",
    "aenc_department['DEPARTMENT_source_database'] = 'aenc'\n",
    "adventureworks_humanresources_department['DEPARTMENT_source_database'] = 'adventureworks'\n",
    "\n",
    "# combining all department data\n",
    "departments = pd.concat([aenc_department, adventureworks_humanresources_department], ignore_index=True)\n",
    "\n",
    "# combining name and department name columns to create a name column\n",
    "departments['DEPARTMENT_DEPARTMENT_DeptName'] = departments['Name'].combine_first(departments['dept_name'])\n",
    "# combining dept_id and DepartmentID columns\n",
    "departments['DEPARTMENT_DEPARTMENT_DeptID'] = departments['dept_id'].combine_first(departments['DepartmentID'])\n",
    "\n",
    "# dropping the redundant columns\n",
    "drop_modified_date_rowguid(departments)\n",
    "departments.drop(columns=['dept_id', 'Name', 'dept_name', 'DepartmentID'], inplace=True)\n",
    "\n",
    "# renaming the remaining columns\n",
    "departments.rename(columns={'dept_head_id': 'DEPARTMENT_DEPARTMENT_DeptHeadID', 'GroupName': 'DEPARTMENT_DEPARTMENT_GroupName'}, inplace=True)\n",
    "\n",
    "departments.head()"
   ],
   "outputs": [
    {
     "data": {
      "text/plain": [
       "   DEPARTMENT_DEPARTMENT_DeptHeadID DEPARTMENT_source_database  \\\n",
       "0                             501.0                       aenc   \n",
       "1                             902.0                       aenc   \n",
       "2                            1293.0                       aenc   \n",
       "3                            1576.0                       aenc   \n",
       "4                             703.0                       aenc   \n",
       "\n",
       "  DEPARTMENT_DEPARTMENT_GroupName DEPARTMENT_DEPARTMENT_DeptName  \\\n",
       "0                             NaN                          R & D   \n",
       "1                             NaN                          Sales   \n",
       "2                             NaN                        Finance   \n",
       "3                             NaN                      Marketing   \n",
       "4                             NaN                       Shipping   \n",
       "\n",
       "   DEPARTMENT_DEPARTMENT_DeptID  \n",
       "0                         100.0  \n",
       "1                         200.0  \n",
       "2                         300.0  \n",
       "3                         400.0  \n",
       "4                         500.0  "
      ],
      "text/html": [
       "<div>\n",
       "<style scoped>\n",
       "    .dataframe tbody tr th:only-of-type {\n",
       "        vertical-align: middle;\n",
       "    }\n",
       "\n",
       "    .dataframe tbody tr th {\n",
       "        vertical-align: top;\n",
       "    }\n",
       "\n",
       "    .dataframe thead th {\n",
       "        text-align: right;\n",
       "    }\n",
       "</style>\n",
       "<table border=\"1\" class=\"dataframe\">\n",
       "  <thead>\n",
       "    <tr style=\"text-align: right;\">\n",
       "      <th></th>\n",
       "      <th>DEPARTMENT_DEPARTMENT_DeptHeadID</th>\n",
       "      <th>DEPARTMENT_source_database</th>\n",
       "      <th>DEPARTMENT_DEPARTMENT_GroupName</th>\n",
       "      <th>DEPARTMENT_DEPARTMENT_DeptName</th>\n",
       "      <th>DEPARTMENT_DEPARTMENT_DeptID</th>\n",
       "    </tr>\n",
       "  </thead>\n",
       "  <tbody>\n",
       "    <tr>\n",
       "      <th>0</th>\n",
       "      <td>501.0</td>\n",
       "      <td>aenc</td>\n",
       "      <td>NaN</td>\n",
       "      <td>R &amp; D</td>\n",
       "      <td>100.0</td>\n",
       "    </tr>\n",
       "    <tr>\n",
       "      <th>1</th>\n",
       "      <td>902.0</td>\n",
       "      <td>aenc</td>\n",
       "      <td>NaN</td>\n",
       "      <td>Sales</td>\n",
       "      <td>200.0</td>\n",
       "    </tr>\n",
       "    <tr>\n",
       "      <th>2</th>\n",
       "      <td>1293.0</td>\n",
       "      <td>aenc</td>\n",
       "      <td>NaN</td>\n",
       "      <td>Finance</td>\n",
       "      <td>300.0</td>\n",
       "    </tr>\n",
       "    <tr>\n",
       "      <th>3</th>\n",
       "      <td>1576.0</td>\n",
       "      <td>aenc</td>\n",
       "      <td>NaN</td>\n",
       "      <td>Marketing</td>\n",
       "      <td>400.0</td>\n",
       "    </tr>\n",
       "    <tr>\n",
       "      <th>4</th>\n",
       "      <td>703.0</td>\n",
       "      <td>aenc</td>\n",
       "      <td>NaN</td>\n",
       "      <td>Shipping</td>\n",
       "      <td>500.0</td>\n",
       "    </tr>\n",
       "  </tbody>\n",
       "</table>\n",
       "</div>"
      ]
     },
     "execution_count": 24,
     "metadata": {},
     "output_type": "execute_result"
    }
   ],
   "execution_count": 24
  },
  {
   "cell_type": "markdown",
   "id": "55004d53",
   "metadata": {},
   "source": [
    "### Employee"
   ]
  },
  {
   "cell_type": "code",
   "id": "9141892c",
   "metadata": {
    "ExecuteTime": {
     "end_time": "2024-05-18T14:23:43.446203Z",
     "start_time": "2024-05-18T14:23:43.419051Z"
    }
   },
   "source": [
    "# merge northwind with territory and employee\n",
    "employee1 = pd.merge(northwind_employees, northwind_employee_territories, on='EmployeeID')\n",
    "employee1 = employee1.drop(columns=['EmployeeID', 'LastName', 'FirstName', 'BirthDate', 'Address', 'City', 'Region', 'PostalCode', 'Country', 'HomePhone', 'ReportsTo'])\n",
    "\n",
    "# merge employee from aenc with bonus\n",
    "employee2 = pd.merge(aenc_employee, aenc_bonus, on='emp_id')\n",
    "\n",
    "# after that concat together\n",
    "employees = pd.concat([employee1, employee2], ignore_index=True)\n",
    "\n",
    "# rename\n",
    "employees.rename(columns={\n",
    "    'emp_id': 'EMPLOYEE_EMPLOYEE_EmployeeID', \n",
    "    'dept_id': 'EMPLOYEE_EMPLOYEE_DeptID', \n",
    "    'manager_id': 'EMPLOYEE_EMPLOYEE_ManagerID', \n",
    "    'territory_id' : 'EMPLOYEE_EMPLOYEETERRITORIES_TerritoryID',\n",
    "    'emp_fname' : 'EMPLOYEE_EMPLOYEE_Emp_Fname',\n",
    "    'emp_lname' : 'EMPLOYEE_EMPLOYEE_Emp_Lname',\n",
    "    'street' : 'EMPLOYEE_EMPLOYEE_Street',\n",
    "    'city' : 'EMPLOYEE_EMPLOYEE_City',\n",
    "    'state' : 'EMPLOYEE_EMPLOYEE_State',\n",
    "    'zip_code' : 'EMPLOYEE_EMPLOYEE_Zip_Code',\n",
    "    'phone' : 'EMPLOYEE_EMPLOYEE_Phone',\n",
    "    'status' : 'EMPLOYEE_EMPLOYEE_Status',\n",
    "    'ss_number' : 'EMPLOYEE_EMPLOYEE_SS_Number',\n",
    "    'salary' : 'EMPLOYEE_EMPLOYEE_Salary',\n",
    "    'start_date' : 'EMPLOYEE_EMPLOYEE_Start_Date',\n",
    "    'termination_date' : 'EMPLOYEE_EMPLOYEE_Termination',\n",
    "    'birth_date' : 'EMPLOYEE_EMPLOYEE_Birth_Date',\n",
    "    'bene_health_ins' : 'EMPLOYEE_EMPLOYEE_Bene_Health_Ins',\n",
    "    'bene_life_ins' : 'EMPLOYEE_EMPLOYEE_Bene_Life_Ins',\n",
    "    'bene_day_care' : 'EMPLOYEE_EMPLOYEE_Bene_Day_Care',\n",
    "    'sex' : 'EMPLOYEE_EMPLOYEE_Sex',\n",
    "    'bonus_date' : 'EMPLOYEE_BONUS_Bonus_Date',\n",
    "    'bonus_amount' : 'EMPLOYEE_BONUS_Bonus_Amount',\n",
    "    'Title' : 'EMPLOYEE_EMPLOYEES_Title',\n",
    "    'TitleOfCourtesy' : 'EMPLOYEE_EMPLOYEES_TitleOfCourtesy',\n",
    "    'HireDate' : 'EMPLOYEE_EMPLOYEES_HireDate',\n",
    "    'HomePhone' : 'EMPLOYEE_EMPLOYEES_HomePhone',\n",
    "    'Extension' : 'EMPLOYEE_EMPLOYEES_Extension',\n",
    "    'Photo' : 'EMPLOYEE_EMPLOYEES_Photo',\n",
    "    'PhotoPath' : 'EMPLOYEE_EMPLOYEES_PhotoPath',\n",
    "    'Notes' : 'EMPLOYEE_EMPLOYEES_Notes'\n",
    "}, inplace=True)\n",
    "\n",
    "desired_columns_order = ['EMPLOYEE_EMPLOYEE_EmployeeID', 'EMPLOYEE_EMPLOYEE_DeptID', 'EMPLOYEE_EMPLOYEE_ManagerID', 'EMPLOYEE_EMPLOYEETERRITORIES_TerritoryID','EMPLOYEE_EMPLOYEE_Emp_Fname','EMPLOYEE_EMPLOYEE_Emp_Lname','EMPLOYEE_EMPLOYEE_Street','EMPLOYEE_EMPLOYEE_City','EMPLOYEE_EMPLOYEE_State','EMPLOYEE_EMPLOYEE_Zip_Code','EMPLOYEE_EMPLOYEE_Phone','EMPLOYEE_EMPLOYEE_Status','EMPLOYEE_EMPLOYEE_SS_Number','EMPLOYEE_EMPLOYEE_Salary','EMPLOYEE_EMPLOYEE_Start_Date','EMPLOYEE_EMPLOYEE_Termination','EMPLOYEE_EMPLOYEE_Birth_Date','EMPLOYEE_EMPLOYEE_Bene_Health_Ins','EMPLOYEE_EMPLOYEE_Bene_Life_Ins','EMPLOYEE_EMPLOYEE_Bene_Day_Care','EMPLOYEE_EMPLOYEE_Sex','EMPLOYEE_BONUS_Bonus_Date','EMPLOYEE_BONUS_Bonus_Amount','EMPLOYEE_EMPLOYEES_Title','EMPLOYEE_EMPLOYEES_TitleOfCourtesy','EMPLOYEE_EMPLOYEES_HireDate','EMPLOYEE_EMPLOYEES_HomePhone','EMPLOYEE_EMPLOYEES_Extension','EMPLOYEE_EMPLOYEES_Photo','EMPLOYEE_EMPLOYEES_PhotoPath','EMPLOYEE_EMPLOYEES_Notes']\n",
    "\n",
    "#order\n",
    "employees = employees.reindex(columns=desired_columns_order)\n",
    "\n",
    "employees.head()"
   ],
   "outputs": [
    {
     "data": {
      "text/plain": [
       "   EMPLOYEE_EMPLOYEE_EmployeeID  EMPLOYEE_EMPLOYEE_DeptID  \\\n",
       "0                           NaN                       NaN   \n",
       "1                           NaN                       NaN   \n",
       "2                           NaN                       NaN   \n",
       "3                           NaN                       NaN   \n",
       "4                           NaN                       NaN   \n",
       "\n",
       "   EMPLOYEE_EMPLOYEE_ManagerID  EMPLOYEE_EMPLOYEETERRITORIES_TerritoryID  \\\n",
       "0                          NaN                                       NaN   \n",
       "1                          NaN                                       NaN   \n",
       "2                          NaN                                       NaN   \n",
       "3                          NaN                                       NaN   \n",
       "4                          NaN                                       NaN   \n",
       "\n",
       "  EMPLOYEE_EMPLOYEE_Emp_Fname EMPLOYEE_EMPLOYEE_Emp_Lname  \\\n",
       "0                         NaN                         NaN   \n",
       "1                         NaN                         NaN   \n",
       "2                         NaN                         NaN   \n",
       "3                         NaN                         NaN   \n",
       "4                         NaN                         NaN   \n",
       "\n",
       "  EMPLOYEE_EMPLOYEE_Street EMPLOYEE_EMPLOYEE_City EMPLOYEE_EMPLOYEE_State  \\\n",
       "0                      NaN                    NaN                     NaN   \n",
       "1                      NaN                    NaN                     NaN   \n",
       "2                      NaN                    NaN                     NaN   \n",
       "3                      NaN                    NaN                     NaN   \n",
       "4                      NaN                    NaN                     NaN   \n",
       "\n",
       "  EMPLOYEE_EMPLOYEE_Zip_Code  ... EMPLOYEE_BONUS_Bonus_Date  \\\n",
       "0                        NaN  ...                       NaN   \n",
       "1                        NaN  ...                       NaN   \n",
       "2                        NaN  ...                       NaN   \n",
       "3                        NaN  ...                       NaN   \n",
       "4                        NaN  ...                       NaN   \n",
       "\n",
       "  EMPLOYEE_BONUS_Bonus_Amount EMPLOYEE_EMPLOYEES_Title  \\\n",
       "0                         NaN     Sales Representative   \n",
       "1                         NaN     Sales Representative   \n",
       "2                         NaN    Vice President, Sales   \n",
       "3                         NaN    Vice President, Sales   \n",
       "4                         NaN    Vice President, Sales   \n",
       "\n",
       "   EMPLOYEE_EMPLOYEES_TitleOfCourtesy EMPLOYEE_EMPLOYEES_HireDate  \\\n",
       "0                                 Ms.                  1992-05-01   \n",
       "1                                 Ms.                  1992-05-01   \n",
       "2                                 Dr.                  1992-08-14   \n",
       "3                                 Dr.                  1992-08-14   \n",
       "4                                 Dr.                  1992-08-14   \n",
       "\n",
       "  EMPLOYEE_EMPLOYEES_HomePhone EMPLOYEE_EMPLOYEES_Extension  \\\n",
       "0                          NaN                         5467   \n",
       "1                          NaN                         5467   \n",
       "2                          NaN                         3457   \n",
       "3                          NaN                         3457   \n",
       "4                          NaN                         3457   \n",
       "\n",
       "                            EMPLOYEE_EMPLOYEES_Photo  \\\n",
       "0  b'\\x15\\x1c/\\x00\\x02\\x00\\x00\\x00\\r\\x00\\x0e\\x00\\...   \n",
       "1  b'\\x15\\x1c/\\x00\\x02\\x00\\x00\\x00\\r\\x00\\x0e\\x00\\...   \n",
       "2  b'\\x15\\x1c/\\x00\\x02\\x00\\x00\\x00\\r\\x00\\x0e\\x00\\...   \n",
       "3  b'\\x15\\x1c/\\x00\\x02\\x00\\x00\\x00\\r\\x00\\x0e\\x00\\...   \n",
       "4  b'\\x15\\x1c/\\x00\\x02\\x00\\x00\\x00\\r\\x00\\x0e\\x00\\...   \n",
       "\n",
       "           EMPLOYEE_EMPLOYEES_PhotoPath  \\\n",
       "0  http://accweb/emmployees/davolio.bmp   \n",
       "1  http://accweb/emmployees/davolio.bmp   \n",
       "2   http://accweb/emmployees/fuller.bmp   \n",
       "3   http://accweb/emmployees/fuller.bmp   \n",
       "4   http://accweb/emmployees/fuller.bmp   \n",
       "\n",
       "                            EMPLOYEE_EMPLOYEES_Notes  \n",
       "0  Education includes a BA in psychology from Col...  \n",
       "1  Education includes a BA in psychology from Col...  \n",
       "2  Andrew received his BTS commercial in 1974 and...  \n",
       "3  Andrew received his BTS commercial in 1974 and...  \n",
       "4  Andrew received his BTS commercial in 1974 and...  \n",
       "\n",
       "[5 rows x 31 columns]"
      ],
      "text/html": [
       "<div>\n",
       "<style scoped>\n",
       "    .dataframe tbody tr th:only-of-type {\n",
       "        vertical-align: middle;\n",
       "    }\n",
       "\n",
       "    .dataframe tbody tr th {\n",
       "        vertical-align: top;\n",
       "    }\n",
       "\n",
       "    .dataframe thead th {\n",
       "        text-align: right;\n",
       "    }\n",
       "</style>\n",
       "<table border=\"1\" class=\"dataframe\">\n",
       "  <thead>\n",
       "    <tr style=\"text-align: right;\">\n",
       "      <th></th>\n",
       "      <th>EMPLOYEE_EMPLOYEE_EmployeeID</th>\n",
       "      <th>EMPLOYEE_EMPLOYEE_DeptID</th>\n",
       "      <th>EMPLOYEE_EMPLOYEE_ManagerID</th>\n",
       "      <th>EMPLOYEE_EMPLOYEETERRITORIES_TerritoryID</th>\n",
       "      <th>EMPLOYEE_EMPLOYEE_Emp_Fname</th>\n",
       "      <th>EMPLOYEE_EMPLOYEE_Emp_Lname</th>\n",
       "      <th>EMPLOYEE_EMPLOYEE_Street</th>\n",
       "      <th>EMPLOYEE_EMPLOYEE_City</th>\n",
       "      <th>EMPLOYEE_EMPLOYEE_State</th>\n",
       "      <th>EMPLOYEE_EMPLOYEE_Zip_Code</th>\n",
       "      <th>...</th>\n",
       "      <th>EMPLOYEE_BONUS_Bonus_Date</th>\n",
       "      <th>EMPLOYEE_BONUS_Bonus_Amount</th>\n",
       "      <th>EMPLOYEE_EMPLOYEES_Title</th>\n",
       "      <th>EMPLOYEE_EMPLOYEES_TitleOfCourtesy</th>\n",
       "      <th>EMPLOYEE_EMPLOYEES_HireDate</th>\n",
       "      <th>EMPLOYEE_EMPLOYEES_HomePhone</th>\n",
       "      <th>EMPLOYEE_EMPLOYEES_Extension</th>\n",
       "      <th>EMPLOYEE_EMPLOYEES_Photo</th>\n",
       "      <th>EMPLOYEE_EMPLOYEES_PhotoPath</th>\n",
       "      <th>EMPLOYEE_EMPLOYEES_Notes</th>\n",
       "    </tr>\n",
       "  </thead>\n",
       "  <tbody>\n",
       "    <tr>\n",
       "      <th>0</th>\n",
       "      <td>NaN</td>\n",
       "      <td>NaN</td>\n",
       "      <td>NaN</td>\n",
       "      <td>NaN</td>\n",
       "      <td>NaN</td>\n",
       "      <td>NaN</td>\n",
       "      <td>NaN</td>\n",
       "      <td>NaN</td>\n",
       "      <td>NaN</td>\n",
       "      <td>NaN</td>\n",
       "      <td>...</td>\n",
       "      <td>NaN</td>\n",
       "      <td>NaN</td>\n",
       "      <td>Sales Representative</td>\n",
       "      <td>Ms.</td>\n",
       "      <td>1992-05-01</td>\n",
       "      <td>NaN</td>\n",
       "      <td>5467</td>\n",
       "      <td>b'\\x15\\x1c/\\x00\\x02\\x00\\x00\\x00\\r\\x00\\x0e\\x00\\...</td>\n",
       "      <td>http://accweb/emmployees/davolio.bmp</td>\n",
       "      <td>Education includes a BA in psychology from Col...</td>\n",
       "    </tr>\n",
       "    <tr>\n",
       "      <th>1</th>\n",
       "      <td>NaN</td>\n",
       "      <td>NaN</td>\n",
       "      <td>NaN</td>\n",
       "      <td>NaN</td>\n",
       "      <td>NaN</td>\n",
       "      <td>NaN</td>\n",
       "      <td>NaN</td>\n",
       "      <td>NaN</td>\n",
       "      <td>NaN</td>\n",
       "      <td>NaN</td>\n",
       "      <td>...</td>\n",
       "      <td>NaN</td>\n",
       "      <td>NaN</td>\n",
       "      <td>Sales Representative</td>\n",
       "      <td>Ms.</td>\n",
       "      <td>1992-05-01</td>\n",
       "      <td>NaN</td>\n",
       "      <td>5467</td>\n",
       "      <td>b'\\x15\\x1c/\\x00\\x02\\x00\\x00\\x00\\r\\x00\\x0e\\x00\\...</td>\n",
       "      <td>http://accweb/emmployees/davolio.bmp</td>\n",
       "      <td>Education includes a BA in psychology from Col...</td>\n",
       "    </tr>\n",
       "    <tr>\n",
       "      <th>2</th>\n",
       "      <td>NaN</td>\n",
       "      <td>NaN</td>\n",
       "      <td>NaN</td>\n",
       "      <td>NaN</td>\n",
       "      <td>NaN</td>\n",
       "      <td>NaN</td>\n",
       "      <td>NaN</td>\n",
       "      <td>NaN</td>\n",
       "      <td>NaN</td>\n",
       "      <td>NaN</td>\n",
       "      <td>...</td>\n",
       "      <td>NaN</td>\n",
       "      <td>NaN</td>\n",
       "      <td>Vice President, Sales</td>\n",
       "      <td>Dr.</td>\n",
       "      <td>1992-08-14</td>\n",
       "      <td>NaN</td>\n",
       "      <td>3457</td>\n",
       "      <td>b'\\x15\\x1c/\\x00\\x02\\x00\\x00\\x00\\r\\x00\\x0e\\x00\\...</td>\n",
       "      <td>http://accweb/emmployees/fuller.bmp</td>\n",
       "      <td>Andrew received his BTS commercial in 1974 and...</td>\n",
       "    </tr>\n",
       "    <tr>\n",
       "      <th>3</th>\n",
       "      <td>NaN</td>\n",
       "      <td>NaN</td>\n",
       "      <td>NaN</td>\n",
       "      <td>NaN</td>\n",
       "      <td>NaN</td>\n",
       "      <td>NaN</td>\n",
       "      <td>NaN</td>\n",
       "      <td>NaN</td>\n",
       "      <td>NaN</td>\n",
       "      <td>NaN</td>\n",
       "      <td>...</td>\n",
       "      <td>NaN</td>\n",
       "      <td>NaN</td>\n",
       "      <td>Vice President, Sales</td>\n",
       "      <td>Dr.</td>\n",
       "      <td>1992-08-14</td>\n",
       "      <td>NaN</td>\n",
       "      <td>3457</td>\n",
       "      <td>b'\\x15\\x1c/\\x00\\x02\\x00\\x00\\x00\\r\\x00\\x0e\\x00\\...</td>\n",
       "      <td>http://accweb/emmployees/fuller.bmp</td>\n",
       "      <td>Andrew received his BTS commercial in 1974 and...</td>\n",
       "    </tr>\n",
       "    <tr>\n",
       "      <th>4</th>\n",
       "      <td>NaN</td>\n",
       "      <td>NaN</td>\n",
       "      <td>NaN</td>\n",
       "      <td>NaN</td>\n",
       "      <td>NaN</td>\n",
       "      <td>NaN</td>\n",
       "      <td>NaN</td>\n",
       "      <td>NaN</td>\n",
       "      <td>NaN</td>\n",
       "      <td>NaN</td>\n",
       "      <td>...</td>\n",
       "      <td>NaN</td>\n",
       "      <td>NaN</td>\n",
       "      <td>Vice President, Sales</td>\n",
       "      <td>Dr.</td>\n",
       "      <td>1992-08-14</td>\n",
       "      <td>NaN</td>\n",
       "      <td>3457</td>\n",
       "      <td>b'\\x15\\x1c/\\x00\\x02\\x00\\x00\\x00\\r\\x00\\x0e\\x00\\...</td>\n",
       "      <td>http://accweb/emmployees/fuller.bmp</td>\n",
       "      <td>Andrew received his BTS commercial in 1974 and...</td>\n",
       "    </tr>\n",
       "  </tbody>\n",
       "</table>\n",
       "<p>5 rows × 31 columns</p>\n",
       "</div>"
      ]
     },
     "execution_count": 25,
     "metadata": {},
     "output_type": "execute_result"
    }
   ],
   "execution_count": 25
  },
  {
   "cell_type": "markdown",
   "id": "5a1104842049cb4c",
   "metadata": {},
   "source": [
    "### BusinessEntities"
   ]
  },
  {
   "cell_type": "code",
   "id": "49faddce16b73f49",
   "metadata": {
    "ExecuteTime": {
     "end_time": "2024-05-18T14:23:43.471355Z",
     "start_time": "2024-05-18T14:23:43.447209Z"
    }
   },
   "source": [
    "# Combining the adventureworks Person.BusinessEntity, BusinessEntityContact and ContactType data\n",
    "businessentities= pd.merge(adventureworks_person_businessentity, adventureworks_person_businessentitycontact, left_on='BusinessEntityID', right_on='BusinessEntityID', suffixes=('_person_businessentity', '_businessentitycontact'), how=\"outer\")\n",
    "\n",
    "businessentities = pd.merge(businessentities, adventureworks_person_contacttype, left_on='ContactTypeID', right_on='ContactTypeID', suffixes=('', '_contacttype'), how=\"outer\")\n",
    "\n",
    "# dropping the modified date and rowguid columns\n",
    "drop_modified_date_rowguid(businessentities)\n",
    "\n",
    "# renaming the columns\n",
    "businessentities.rename(columns={'BusinessEntityID': 'BUSINESSENTITY_BUSINESSENTITY_BusinessEntityID', 'PersonID': 'BUSINESSENTITY_BUSINESSENTITYCONTACT_PersonID', 'ContactTypeID': 'BUSINESSENTITY_CONTACTTYPE_ContactTypeID', 'Name' : 'BUSINESSENTITY_CONTACTTYPE_Name'}, inplace=True)\n",
    "\n",
    "businessentities.head()"
   ],
   "outputs": [
    {
     "data": {
      "text/plain": [
       "   BUSINESSENTITY_BUSINESSENTITY_BusinessEntityID  \\\n",
       "0                                             NaN   \n",
       "1                                          1510.0   \n",
       "2                                          1518.0   \n",
       "3                                          1522.0   \n",
       "4                                          1528.0   \n",
       "\n",
       "   BUSINESSENTITY_BUSINESSENTITYCONTACT_PersonID  \\\n",
       "0                                            NaN   \n",
       "1                                         1509.0   \n",
       "2                                         1517.0   \n",
       "3                                         1521.0   \n",
       "4                                         1527.0   \n",
       "\n",
       "   BUSINESSENTITY_CONTACTTYPE_ContactTypeID BUSINESSENTITY_CONTACTTYPE_Name  \n",
       "0                                       1.0              Accounting Manager  \n",
       "1                                       2.0           Assistant Sales Agent  \n",
       "2                                       2.0           Assistant Sales Agent  \n",
       "3                                       2.0           Assistant Sales Agent  \n",
       "4                                       2.0           Assistant Sales Agent  "
      ],
      "text/html": [
       "<div>\n",
       "<style scoped>\n",
       "    .dataframe tbody tr th:only-of-type {\n",
       "        vertical-align: middle;\n",
       "    }\n",
       "\n",
       "    .dataframe tbody tr th {\n",
       "        vertical-align: top;\n",
       "    }\n",
       "\n",
       "    .dataframe thead th {\n",
       "        text-align: right;\n",
       "    }\n",
       "</style>\n",
       "<table border=\"1\" class=\"dataframe\">\n",
       "  <thead>\n",
       "    <tr style=\"text-align: right;\">\n",
       "      <th></th>\n",
       "      <th>BUSINESSENTITY_BUSINESSENTITY_BusinessEntityID</th>\n",
       "      <th>BUSINESSENTITY_BUSINESSENTITYCONTACT_PersonID</th>\n",
       "      <th>BUSINESSENTITY_CONTACTTYPE_ContactTypeID</th>\n",
       "      <th>BUSINESSENTITY_CONTACTTYPE_Name</th>\n",
       "    </tr>\n",
       "  </thead>\n",
       "  <tbody>\n",
       "    <tr>\n",
       "      <th>0</th>\n",
       "      <td>NaN</td>\n",
       "      <td>NaN</td>\n",
       "      <td>1.0</td>\n",
       "      <td>Accounting Manager</td>\n",
       "    </tr>\n",
       "    <tr>\n",
       "      <th>1</th>\n",
       "      <td>1510.0</td>\n",
       "      <td>1509.0</td>\n",
       "      <td>2.0</td>\n",
       "      <td>Assistant Sales Agent</td>\n",
       "    </tr>\n",
       "    <tr>\n",
       "      <th>2</th>\n",
       "      <td>1518.0</td>\n",
       "      <td>1517.0</td>\n",
       "      <td>2.0</td>\n",
       "      <td>Assistant Sales Agent</td>\n",
       "    </tr>\n",
       "    <tr>\n",
       "      <th>3</th>\n",
       "      <td>1522.0</td>\n",
       "      <td>1521.0</td>\n",
       "      <td>2.0</td>\n",
       "      <td>Assistant Sales Agent</td>\n",
       "    </tr>\n",
       "    <tr>\n",
       "      <th>4</th>\n",
       "      <td>1528.0</td>\n",
       "      <td>1527.0</td>\n",
       "      <td>2.0</td>\n",
       "      <td>Assistant Sales Agent</td>\n",
       "    </tr>\n",
       "  </tbody>\n",
       "</table>\n",
       "</div>"
      ]
     },
     "execution_count": 26,
     "metadata": {},
     "output_type": "execute_result"
    }
   ],
   "execution_count": 26
  },
  {
   "cell_type": "markdown",
   "id": "d61f4db888316c68",
   "metadata": {},
   "source": [
    "### BusinessEntityAddresses"
   ]
  },
  {
   "cell_type": "code",
   "id": "ec5238c4bd67fbac",
   "metadata": {
    "ExecuteTime": {
     "end_time": "2024-05-18T14:23:43.510166Z",
     "start_time": "2024-05-18T14:23:43.472362Z"
    }
   },
   "source": [
    "# Combining the adventureworks Person.BusinessEntityAddress, Address and AddressType data\n",
    "businessentityaddresses = pd.merge(adventureworks_person_businessentityaddress, adventureworks_person_address, left_on='AddressID', right_on='AddressID', suffixes=('', '_address'), how=\"outer\")\n",
    "\n",
    "businessentityaddresses = pd.merge(businessentityaddresses, adventureworks_person_address_type, left_on='AddressTypeID', right_on='AddressTypeID', suffixes=('', '_address_type'), how=\"outer\")\n",
    "\n",
    "\n",
    "# dropping the modified date and rowguid columns\n",
    "drop_modified_date_rowguid(businessentityaddresses)\n",
    "\n",
    "# renaming the columns\n",
    "businessentityaddresses.rename(columns={'BusinessEntityID': 'BUSINESSENTITYADDRESS_BUSINESSENTITYADDRESS_BusinessEntityID', 'AddressID': 'BUSINESSENTITYADDRESS_ADDRESS_AddressID', 'AddressTypeID': 'BUSINESSENTITYADDRESS_ADDRESSTYPE_AddressTypeID', 'AddressLine1' : 'BUSINESSENTITYADDRESS_ADDRESS_AddressLine1', 'AddressLine2' : 'BUSINESSENTITYADDRESS_ADDRESS_AddressLine2', 'City' : 'BUSINESSENTITYADDRESS_ADDRESS_City', 'StateProvinceID' : 'BUSINESSENTITYADDRESS_ADDRESS_StateProvinceID', 'PostalCode' : 'BUSINESSENTITYADDRESS_ADDRESS_POSTALCODE', 'SpatialLocation' : 'BUSINESSENTITYADDRESS_ADDRESS_SpatialLocation', 'Name' : 'BUSINESSENTITYADDRESS_ADDRESSTYPE_Name'}, inplace=True)\n",
    "\n",
    "businessentityaddresses.head()"
   ],
   "outputs": [
    {
     "data": {
      "text/plain": [
       "   BUSINESSENTITYADDRESS_BUSINESSENTITYADDRESS_BusinessEntityID  \\\n",
       "0                                                NaN              \n",
       "1                                               12.0              \n",
       "2                                              123.0              \n",
       "3                                              285.0              \n",
       "4                                              251.0              \n",
       "\n",
       "   BUSINESSENTITYADDRESS_ADDRESS_AddressID  \\\n",
       "0                                      NaN   \n",
       "1                                      1.0   \n",
       "2                                      2.0   \n",
       "3                                      3.0   \n",
       "4                                      4.0   \n",
       "\n",
       "   BUSINESSENTITYADDRESS_ADDRESSTYPE_AddressTypeID  \\\n",
       "0                                                1   \n",
       "1                                                2   \n",
       "2                                                2   \n",
       "3                                                2   \n",
       "4                                                2   \n",
       "\n",
       "  BUSINESSENTITYADDRESS_ADDRESS_AddressLine1  \\\n",
       "0                                        NaN   \n",
       "1                              1970 Napa Ct.   \n",
       "2                         9833 Mt. Dias Blv.   \n",
       "3                       7484 Roundtree Drive   \n",
       "4                           9539 Glenside Dr   \n",
       "\n",
       "  BUSINESSENTITYADDRESS_ADDRESS_AddressLine2  \\\n",
       "0                                        NaN   \n",
       "1                                       None   \n",
       "2                                       None   \n",
       "3                                       None   \n",
       "4                                       None   \n",
       "\n",
       "  BUSINESSENTITYADDRESS_ADDRESS_City  \\\n",
       "0                                NaN   \n",
       "1                            Bothell   \n",
       "2                            Bothell   \n",
       "3                            Bothell   \n",
       "4                            Bothell   \n",
       "\n",
       "   BUSINESSENTITYADDRESS_ADDRESS_StateProvinceID  \\\n",
       "0                                            NaN   \n",
       "1                                           79.0   \n",
       "2                                           79.0   \n",
       "3                                           79.0   \n",
       "4                                           79.0   \n",
       "\n",
       "  BUSINESSENTITYADDRESS_ADDRESS_POSTALCODE  \\\n",
       "0                                      NaN   \n",
       "1                                    98011   \n",
       "2                                    98011   \n",
       "3                                    98011   \n",
       "4                                    98011   \n",
       "\n",
       "  BUSINESSENTITYADDRESS_ADDRESS_SpatialLocation  \\\n",
       "0                                           NaN   \n",
       "1    POINT (-122.164644615406 47.7869921906598)   \n",
       "2    POINT (-122.250185528911 47.6867097047995)   \n",
       "3    POINT (-122.274625789912 47.7631154083121)   \n",
       "4    POINT (-122.335726442416 47.7392386259644)   \n",
       "\n",
       "  BUSINESSENTITYADDRESS_ADDRESSTYPE_Name  \n",
       "0                                Billing  \n",
       "1                                   Home  \n",
       "2                                   Home  \n",
       "3                                   Home  \n",
       "4                                   Home  "
      ],
      "text/html": [
       "<div>\n",
       "<style scoped>\n",
       "    .dataframe tbody tr th:only-of-type {\n",
       "        vertical-align: middle;\n",
       "    }\n",
       "\n",
       "    .dataframe tbody tr th {\n",
       "        vertical-align: top;\n",
       "    }\n",
       "\n",
       "    .dataframe thead th {\n",
       "        text-align: right;\n",
       "    }\n",
       "</style>\n",
       "<table border=\"1\" class=\"dataframe\">\n",
       "  <thead>\n",
       "    <tr style=\"text-align: right;\">\n",
       "      <th></th>\n",
       "      <th>BUSINESSENTITYADDRESS_BUSINESSENTITYADDRESS_BusinessEntityID</th>\n",
       "      <th>BUSINESSENTITYADDRESS_ADDRESS_AddressID</th>\n",
       "      <th>BUSINESSENTITYADDRESS_ADDRESSTYPE_AddressTypeID</th>\n",
       "      <th>BUSINESSENTITYADDRESS_ADDRESS_AddressLine1</th>\n",
       "      <th>BUSINESSENTITYADDRESS_ADDRESS_AddressLine2</th>\n",
       "      <th>BUSINESSENTITYADDRESS_ADDRESS_City</th>\n",
       "      <th>BUSINESSENTITYADDRESS_ADDRESS_StateProvinceID</th>\n",
       "      <th>BUSINESSENTITYADDRESS_ADDRESS_POSTALCODE</th>\n",
       "      <th>BUSINESSENTITYADDRESS_ADDRESS_SpatialLocation</th>\n",
       "      <th>BUSINESSENTITYADDRESS_ADDRESSTYPE_Name</th>\n",
       "    </tr>\n",
       "  </thead>\n",
       "  <tbody>\n",
       "    <tr>\n",
       "      <th>0</th>\n",
       "      <td>NaN</td>\n",
       "      <td>NaN</td>\n",
       "      <td>1</td>\n",
       "      <td>NaN</td>\n",
       "      <td>NaN</td>\n",
       "      <td>NaN</td>\n",
       "      <td>NaN</td>\n",
       "      <td>NaN</td>\n",
       "      <td>NaN</td>\n",
       "      <td>Billing</td>\n",
       "    </tr>\n",
       "    <tr>\n",
       "      <th>1</th>\n",
       "      <td>12.0</td>\n",
       "      <td>1.0</td>\n",
       "      <td>2</td>\n",
       "      <td>1970 Napa Ct.</td>\n",
       "      <td>None</td>\n",
       "      <td>Bothell</td>\n",
       "      <td>79.0</td>\n",
       "      <td>98011</td>\n",
       "      <td>POINT (-122.164644615406 47.7869921906598)</td>\n",
       "      <td>Home</td>\n",
       "    </tr>\n",
       "    <tr>\n",
       "      <th>2</th>\n",
       "      <td>123.0</td>\n",
       "      <td>2.0</td>\n",
       "      <td>2</td>\n",
       "      <td>9833 Mt. Dias Blv.</td>\n",
       "      <td>None</td>\n",
       "      <td>Bothell</td>\n",
       "      <td>79.0</td>\n",
       "      <td>98011</td>\n",
       "      <td>POINT (-122.250185528911 47.6867097047995)</td>\n",
       "      <td>Home</td>\n",
       "    </tr>\n",
       "    <tr>\n",
       "      <th>3</th>\n",
       "      <td>285.0</td>\n",
       "      <td>3.0</td>\n",
       "      <td>2</td>\n",
       "      <td>7484 Roundtree Drive</td>\n",
       "      <td>None</td>\n",
       "      <td>Bothell</td>\n",
       "      <td>79.0</td>\n",
       "      <td>98011</td>\n",
       "      <td>POINT (-122.274625789912 47.7631154083121)</td>\n",
       "      <td>Home</td>\n",
       "    </tr>\n",
       "    <tr>\n",
       "      <th>4</th>\n",
       "      <td>251.0</td>\n",
       "      <td>4.0</td>\n",
       "      <td>2</td>\n",
       "      <td>9539 Glenside Dr</td>\n",
       "      <td>None</td>\n",
       "      <td>Bothell</td>\n",
       "      <td>79.0</td>\n",
       "      <td>98011</td>\n",
       "      <td>POINT (-122.335726442416 47.7392386259644)</td>\n",
       "      <td>Home</td>\n",
       "    </tr>\n",
       "  </tbody>\n",
       "</table>\n",
       "</div>"
      ]
     },
     "execution_count": 27,
     "metadata": {},
     "output_type": "execute_result"
    }
   ],
   "execution_count": 27
  },
  {
   "cell_type": "markdown",
   "id": "82b616d849111263",
   "metadata": {},
   "source": [
    "### People"
   ]
  },
  {
   "cell_type": "code",
   "id": "f69f5dd65aadcd8a",
   "metadata": {
    "ExecuteTime": {
     "end_time": "2024-05-18T14:23:43.582941Z",
     "start_time": "2024-05-18T14:23:43.511172Z"
    }
   },
   "source": [
    "# combining person data from adventureworks HumanResources.Person, PersonPhone, PhoneNumberType, EmailAddress and Password\n",
    "people = pd.merge(adventureworks_person_person, adventureworks_person_personphone, left_on='BusinessEntityID', right_on='BusinessEntityID', suffixes= ('_person', '_personphone'), how=\"outer\")\n",
    "\n",
    "people = pd.merge(people, adventureworks_person_phonenumbertype, left_on='PhoneNumberTypeID', right_on='PhoneNumberTypeID', suffixes=('', '_phonenumbertype'), how=\"outer\")\n",
    "\n",
    "people = pd.merge(people, adventureworks_person_emailaddress, left_on='BusinessEntityID', right_on='BusinessEntityID', suffixes=('','_emailaddress'), how=\"outer\")\n",
    "\n",
    "people = pd.merge(people, adventureworks_person_password, left_on='BusinessEntityID', right_on='BusinessEntityID', suffixes=('','_password'), how=\"outer\")\n",
    "\n",
    "# dropping the modified date and rowguid columns\n",
    "drop_modified_date_rowguid(people)\n",
    "\n",
    "# renaming the columns\n",
    "people.rename(columns={'BusinessEntityID': 'PERSON_PERSON_BusinessEntityID', 'PersonType': 'PERSON_PERSON_PersonType', 'NameStyle': 'PERSON_PERSON_NameStyle', 'Title': 'PERSON_PERSON_Title', 'FirstName': 'PERSON_PERSON_FirstName', 'MiddleName' : 'PERSON_PERSON_MiddleName', 'LastName' : 'PERSON_PERSON_LastName', 'Suffix': 'PERSON_PERSON_Suffix', 'EmailPromotion' : 'PERSON_PERSON_EmailPromotion', 'AdditionalContactInfo' : 'PERSON_PERSON_AdditionalContactInfo', 'Demographics' : 'PERSON_PERSON_Demographics', 'PhoneNumber' : 'PERSON_PERSONPHONE_PhoneNumber', 'PhoneNumberTypeID' : 'PERSON_PHONENUMBERTYPE_PhoneNumberTypeID', 'Name' : 'PERSON_PHONENUMBERTYPE_Name', 'EmailAddressID': 'PERSON_EMAILADDRESS_EmailAddressID', 'EmailAddress' : 'PERSON_EMAILADDRESS_EmailAddress', 'PasswordHash' : 'PERSON_PASSWORD_PasswordHash', 'PasswordSalt' : 'PERSON_PASSWORD_PasswordSalt'}, inplace=True)\n",
    "\n",
    "people.head()"
   ],
   "outputs": [
    {
     "data": {
      "text/plain": [
       "   PERSON_PERSON_BusinessEntityID PERSON_PERSON_PersonType  \\\n",
       "0                               1                       EM   \n",
       "1                               2                       EM   \n",
       "2                               3                       EM   \n",
       "3                               4                       EM   \n",
       "4                               5                       EM   \n",
       "\n",
       "   PERSON_PERSON_NameStyle PERSON_PERSON_Title PERSON_PERSON_FirstName  \\\n",
       "0                    False                None                     Ken   \n",
       "1                    False                None                   Terri   \n",
       "2                    False                None                 Roberto   \n",
       "3                    False                None                     Rob   \n",
       "4                    False                 Ms.                    Gail   \n",
       "\n",
       "  PERSON_PERSON_MiddleName PERSON_PERSON_LastName PERSON_PERSON_Suffix  \\\n",
       "0                        J                Sánchez                 None   \n",
       "1                      Lee                  Duffy                 None   \n",
       "2                     None             Tamburello                 None   \n",
       "3                     None                Walters                 None   \n",
       "4                        A               Erickson                 None   \n",
       "\n",
       "   PERSON_PERSON_EmailPromotion PERSON_PERSON_AdditionalContactInfo  \\\n",
       "0                             0                                None   \n",
       "1                             1                                None   \n",
       "2                             0                                None   \n",
       "3                             0                                None   \n",
       "4                             0                                None   \n",
       "\n",
       "                          PERSON_PERSON_Demographics  \\\n",
       "0  <IndividualSurvey xmlns=\"http://schemas.micros...   \n",
       "1  <IndividualSurvey xmlns=\"http://schemas.micros...   \n",
       "2  <IndividualSurvey xmlns=\"http://schemas.micros...   \n",
       "3  <IndividualSurvey xmlns=\"http://schemas.micros...   \n",
       "4  <IndividualSurvey xmlns=\"http://schemas.micros...   \n",
       "\n",
       "  PERSON_PERSONPHONE_PhoneNumber  PERSON_PHONENUMBERTYPE_PhoneNumberTypeID  \\\n",
       "0                   697-555-0142                                         1   \n",
       "1                   819-555-0175                                         3   \n",
       "2                   212-555-0187                                         1   \n",
       "3                   612-555-0100                                         1   \n",
       "4                   849-555-0139                                         1   \n",
       "\n",
       "  PERSON_PHONENUMBERTYPE_Name  PERSON_EMAILADDRESS_EmailAddressID  \\\n",
       "0                        Cell                                   1   \n",
       "1                        Work                                   2   \n",
       "2                        Cell                                   3   \n",
       "3                        Cell                                   4   \n",
       "4                        Cell                                   5   \n",
       "\n",
       "  PERSON_EMAILADDRESS_EmailAddress  \\\n",
       "0         ken0@adventure-works.com   \n",
       "1       terri0@adventure-works.com   \n",
       "2     roberto0@adventure-works.com   \n",
       "3         rob0@adventure-works.com   \n",
       "4        gail0@adventure-works.com   \n",
       "\n",
       "                   PERSON_PASSWORD_PasswordHash PERSON_PASSWORD_PasswordSalt  \n",
       "0  pbFwXWE99vobT6g+vPWFy93NtUU/orrIWafF01hccfM=                     bE3XiWw=  \n",
       "1  bawRVNrZQYQ05qF05Gz6VLilnviZmrqBReTTAGAudm0=                     EjJaC3U=  \n",
       "2  8BUXrZfDqO1IyHCWOYzYmqN1IhTUn3CJMpdx/UCQ3iY=                     wbPZqMw=  \n",
       "3  SjLXpiarHSlz+6AG+H+4QpB/IPRzras/+9q/5Wr7tf8=                     PwSunQU=  \n",
       "4  8FYdAiY6gWuBsgjCFdg0UibtsqOcWHf9TyaHIP7+paA=                     qYhZRiM=  "
      ],
      "text/html": [
       "<div>\n",
       "<style scoped>\n",
       "    .dataframe tbody tr th:only-of-type {\n",
       "        vertical-align: middle;\n",
       "    }\n",
       "\n",
       "    .dataframe tbody tr th {\n",
       "        vertical-align: top;\n",
       "    }\n",
       "\n",
       "    .dataframe thead th {\n",
       "        text-align: right;\n",
       "    }\n",
       "</style>\n",
       "<table border=\"1\" class=\"dataframe\">\n",
       "  <thead>\n",
       "    <tr style=\"text-align: right;\">\n",
       "      <th></th>\n",
       "      <th>PERSON_PERSON_BusinessEntityID</th>\n",
       "      <th>PERSON_PERSON_PersonType</th>\n",
       "      <th>PERSON_PERSON_NameStyle</th>\n",
       "      <th>PERSON_PERSON_Title</th>\n",
       "      <th>PERSON_PERSON_FirstName</th>\n",
       "      <th>PERSON_PERSON_MiddleName</th>\n",
       "      <th>PERSON_PERSON_LastName</th>\n",
       "      <th>PERSON_PERSON_Suffix</th>\n",
       "      <th>PERSON_PERSON_EmailPromotion</th>\n",
       "      <th>PERSON_PERSON_AdditionalContactInfo</th>\n",
       "      <th>PERSON_PERSON_Demographics</th>\n",
       "      <th>PERSON_PERSONPHONE_PhoneNumber</th>\n",
       "      <th>PERSON_PHONENUMBERTYPE_PhoneNumberTypeID</th>\n",
       "      <th>PERSON_PHONENUMBERTYPE_Name</th>\n",
       "      <th>PERSON_EMAILADDRESS_EmailAddressID</th>\n",
       "      <th>PERSON_EMAILADDRESS_EmailAddress</th>\n",
       "      <th>PERSON_PASSWORD_PasswordHash</th>\n",
       "      <th>PERSON_PASSWORD_PasswordSalt</th>\n",
       "    </tr>\n",
       "  </thead>\n",
       "  <tbody>\n",
       "    <tr>\n",
       "      <th>0</th>\n",
       "      <td>1</td>\n",
       "      <td>EM</td>\n",
       "      <td>False</td>\n",
       "      <td>None</td>\n",
       "      <td>Ken</td>\n",
       "      <td>J</td>\n",
       "      <td>Sánchez</td>\n",
       "      <td>None</td>\n",
       "      <td>0</td>\n",
       "      <td>None</td>\n",
       "      <td>&lt;IndividualSurvey xmlns=\"http://schemas.micros...</td>\n",
       "      <td>697-555-0142</td>\n",
       "      <td>1</td>\n",
       "      <td>Cell</td>\n",
       "      <td>1</td>\n",
       "      <td>ken0@adventure-works.com</td>\n",
       "      <td>pbFwXWE99vobT6g+vPWFy93NtUU/orrIWafF01hccfM=</td>\n",
       "      <td>bE3XiWw=</td>\n",
       "    </tr>\n",
       "    <tr>\n",
       "      <th>1</th>\n",
       "      <td>2</td>\n",
       "      <td>EM</td>\n",
       "      <td>False</td>\n",
       "      <td>None</td>\n",
       "      <td>Terri</td>\n",
       "      <td>Lee</td>\n",
       "      <td>Duffy</td>\n",
       "      <td>None</td>\n",
       "      <td>1</td>\n",
       "      <td>None</td>\n",
       "      <td>&lt;IndividualSurvey xmlns=\"http://schemas.micros...</td>\n",
       "      <td>819-555-0175</td>\n",
       "      <td>3</td>\n",
       "      <td>Work</td>\n",
       "      <td>2</td>\n",
       "      <td>terri0@adventure-works.com</td>\n",
       "      <td>bawRVNrZQYQ05qF05Gz6VLilnviZmrqBReTTAGAudm0=</td>\n",
       "      <td>EjJaC3U=</td>\n",
       "    </tr>\n",
       "    <tr>\n",
       "      <th>2</th>\n",
       "      <td>3</td>\n",
       "      <td>EM</td>\n",
       "      <td>False</td>\n",
       "      <td>None</td>\n",
       "      <td>Roberto</td>\n",
       "      <td>None</td>\n",
       "      <td>Tamburello</td>\n",
       "      <td>None</td>\n",
       "      <td>0</td>\n",
       "      <td>None</td>\n",
       "      <td>&lt;IndividualSurvey xmlns=\"http://schemas.micros...</td>\n",
       "      <td>212-555-0187</td>\n",
       "      <td>1</td>\n",
       "      <td>Cell</td>\n",
       "      <td>3</td>\n",
       "      <td>roberto0@adventure-works.com</td>\n",
       "      <td>8BUXrZfDqO1IyHCWOYzYmqN1IhTUn3CJMpdx/UCQ3iY=</td>\n",
       "      <td>wbPZqMw=</td>\n",
       "    </tr>\n",
       "    <tr>\n",
       "      <th>3</th>\n",
       "      <td>4</td>\n",
       "      <td>EM</td>\n",
       "      <td>False</td>\n",
       "      <td>None</td>\n",
       "      <td>Rob</td>\n",
       "      <td>None</td>\n",
       "      <td>Walters</td>\n",
       "      <td>None</td>\n",
       "      <td>0</td>\n",
       "      <td>None</td>\n",
       "      <td>&lt;IndividualSurvey xmlns=\"http://schemas.micros...</td>\n",
       "      <td>612-555-0100</td>\n",
       "      <td>1</td>\n",
       "      <td>Cell</td>\n",
       "      <td>4</td>\n",
       "      <td>rob0@adventure-works.com</td>\n",
       "      <td>SjLXpiarHSlz+6AG+H+4QpB/IPRzras/+9q/5Wr7tf8=</td>\n",
       "      <td>PwSunQU=</td>\n",
       "    </tr>\n",
       "    <tr>\n",
       "      <th>4</th>\n",
       "      <td>5</td>\n",
       "      <td>EM</td>\n",
       "      <td>False</td>\n",
       "      <td>Ms.</td>\n",
       "      <td>Gail</td>\n",
       "      <td>A</td>\n",
       "      <td>Erickson</td>\n",
       "      <td>None</td>\n",
       "      <td>0</td>\n",
       "      <td>None</td>\n",
       "      <td>&lt;IndividualSurvey xmlns=\"http://schemas.micros...</td>\n",
       "      <td>849-555-0139</td>\n",
       "      <td>1</td>\n",
       "      <td>Cell</td>\n",
       "      <td>5</td>\n",
       "      <td>gail0@adventure-works.com</td>\n",
       "      <td>8FYdAiY6gWuBsgjCFdg0UibtsqOcWHf9TyaHIP7+paA=</td>\n",
       "      <td>qYhZRiM=</td>\n",
       "    </tr>\n",
       "  </tbody>\n",
       "</table>\n",
       "</div>"
      ]
     },
     "execution_count": 28,
     "metadata": {},
     "output_type": "execute_result"
    }
   ],
   "execution_count": 28
  },
  {
   "cell_type": "markdown",
   "id": "2789c1244e1fb15f",
   "metadata": {},
   "source": [
    "### Products (TODO CHANGE)"
   ]
  },
  {
   "cell_type": "code",
   "id": "8219ec936b825554",
   "metadata": {
    "ExecuteTime": {
     "end_time": "2024-05-18T14:23:43.595798Z",
     "start_time": "2024-05-18T14:23:43.584948Z"
    }
   },
   "source": [
    "# renaming aenc product columns to match the other product data\n",
    "aenc_product.rename(columns={'id': 'ProductID', 'name' : 'ProductName', 'description':'Description' , 'prod_size' : 'ProdSize', 'color': 'Color', 'quantity': 'Quantity','unit_price' : 'UnitPrice'}, inplace=True)\n",
    "\n",
    "aenc_product.head()"
   ],
   "outputs": [
    {
     "data": {
      "text/plain": [
       "   ProductID   ProductName Description           ProdSize   Color  Quantity  \\\n",
       "0        300     Tee Shirt    Tank Top              Small   White        18   \n",
       "1        301     Tee Shirt      V-neck             Medium  Orange        39   \n",
       "2        302     Tee Shirt   Crew Neck  One size fits all   Black        72   \n",
       "3        400  Baseball Cap  Cotton Cap  One size fits all   Black        92   \n",
       "4        401  Baseball Cap    Wool cap  One size fits all   White        12   \n",
       "\n",
       "   UnitPrice picture_name     Category  \n",
       "0          9  tshirtw.bmp      Clothes  \n",
       "1         14  tshirto.bmp      Clothes  \n",
       "2         14  tshirtb.bmp      Clothes  \n",
       "3          9     capb.bmp  Accessories  \n",
       "4         10     capw.bmp  Accessories  "
      ],
      "text/html": [
       "<div>\n",
       "<style scoped>\n",
       "    .dataframe tbody tr th:only-of-type {\n",
       "        vertical-align: middle;\n",
       "    }\n",
       "\n",
       "    .dataframe tbody tr th {\n",
       "        vertical-align: top;\n",
       "    }\n",
       "\n",
       "    .dataframe thead th {\n",
       "        text-align: right;\n",
       "    }\n",
       "</style>\n",
       "<table border=\"1\" class=\"dataframe\">\n",
       "  <thead>\n",
       "    <tr style=\"text-align: right;\">\n",
       "      <th></th>\n",
       "      <th>ProductID</th>\n",
       "      <th>ProductName</th>\n",
       "      <th>Description</th>\n",
       "      <th>ProdSize</th>\n",
       "      <th>Color</th>\n",
       "      <th>Quantity</th>\n",
       "      <th>UnitPrice</th>\n",
       "      <th>picture_name</th>\n",
       "      <th>Category</th>\n",
       "    </tr>\n",
       "  </thead>\n",
       "  <tbody>\n",
       "    <tr>\n",
       "      <th>0</th>\n",
       "      <td>300</td>\n",
       "      <td>Tee Shirt</td>\n",
       "      <td>Tank Top</td>\n",
       "      <td>Small</td>\n",
       "      <td>White</td>\n",
       "      <td>18</td>\n",
       "      <td>9</td>\n",
       "      <td>tshirtw.bmp</td>\n",
       "      <td>Clothes</td>\n",
       "    </tr>\n",
       "    <tr>\n",
       "      <th>1</th>\n",
       "      <td>301</td>\n",
       "      <td>Tee Shirt</td>\n",
       "      <td>V-neck</td>\n",
       "      <td>Medium</td>\n",
       "      <td>Orange</td>\n",
       "      <td>39</td>\n",
       "      <td>14</td>\n",
       "      <td>tshirto.bmp</td>\n",
       "      <td>Clothes</td>\n",
       "    </tr>\n",
       "    <tr>\n",
       "      <th>2</th>\n",
       "      <td>302</td>\n",
       "      <td>Tee Shirt</td>\n",
       "      <td>Crew Neck</td>\n",
       "      <td>One size fits all</td>\n",
       "      <td>Black</td>\n",
       "      <td>72</td>\n",
       "      <td>14</td>\n",
       "      <td>tshirtb.bmp</td>\n",
       "      <td>Clothes</td>\n",
       "    </tr>\n",
       "    <tr>\n",
       "      <th>3</th>\n",
       "      <td>400</td>\n",
       "      <td>Baseball Cap</td>\n",
       "      <td>Cotton Cap</td>\n",
       "      <td>One size fits all</td>\n",
       "      <td>Black</td>\n",
       "      <td>92</td>\n",
       "      <td>9</td>\n",
       "      <td>capb.bmp</td>\n",
       "      <td>Accessories</td>\n",
       "    </tr>\n",
       "    <tr>\n",
       "      <th>4</th>\n",
       "      <td>401</td>\n",
       "      <td>Baseball Cap</td>\n",
       "      <td>Wool cap</td>\n",
       "      <td>One size fits all</td>\n",
       "      <td>White</td>\n",
       "      <td>12</td>\n",
       "      <td>10</td>\n",
       "      <td>capw.bmp</td>\n",
       "      <td>Accessories</td>\n",
       "    </tr>\n",
       "  </tbody>\n",
       "</table>\n",
       "</div>"
      ]
     },
     "execution_count": 29,
     "metadata": {},
     "output_type": "execute_result"
    }
   ],
   "execution_count": 29
  },
  {
   "cell_type": "code",
   "id": "52a700e7372e5349",
   "metadata": {
    "ExecuteTime": {
     "end_time": "2024-05-18T14:23:43.623577Z",
     "start_time": "2024-05-18T14:23:43.596804Z"
    }
   },
   "source": [
    "# combining all adventureworks product data\n",
    "adventureworks_combined_products = pd.concat([adventureworks_production_product, adventureworks_production_productcategory, adventureworks_production_productsubcategory, adventureworks_production_productdescription, adventureworks_production_productdocument, adventureworks_production_productmodel, adventureworks_production_productmodelillustration, adventureworks_production_productmodelproductdescriptionculture, adventureworks_production_productphoto, adventureworks_production_productproductphoto  ], ignore_index=True)\n",
    "\n",
    "adventureworks_combined_products.head()"
   ],
   "outputs": [
    {
     "data": {
      "text/plain": [
       "   ProductID                   Name ProductNumber MakeFlag FinishedGoodsFlag  \\\n",
       "0        1.0        Adjustable Race       AR-5381    False             False   \n",
       "1        2.0           Bearing Ball       BA-8327    False             False   \n",
       "2        3.0        BB Ball Bearing       BE-2349     True             False   \n",
       "3        4.0  Headset Ball Bearings       BE-2908    False             False   \n",
       "4      316.0                  Blade       BL-2036     True             False   \n",
       "\n",
       "  Color  SafetyStockLevel  ReorderPoint  StandardCost  ListPrice  ...  \\\n",
       "0  None            1000.0         750.0           0.0        0.0  ...   \n",
       "1  None            1000.0         750.0           0.0        0.0  ...   \n",
       "2  None             800.0         600.0           0.0        0.0  ...   \n",
       "3  None             800.0         600.0           0.0        0.0  ...   \n",
       "4  None             800.0         600.0           0.0        0.0  ...   \n",
       "\n",
       "  CatalogDescription Instructions IllustrationID  CultureID  ProductPhotoID  \\\n",
       "0                NaN          NaN            NaN        NaN             NaN   \n",
       "1                NaN          NaN            NaN        NaN             NaN   \n",
       "2                NaN          NaN            NaN        NaN             NaN   \n",
       "3                NaN          NaN            NaN        NaN             NaN   \n",
       "4                NaN          NaN            NaN        NaN             NaN   \n",
       "\n",
       "  ThumbNailPhotoHexString ThumbNailPhotoFileName LargePhotoHexString  \\\n",
       "0                     NaN                    NaN                 NaN   \n",
       "1                     NaN                    NaN                 NaN   \n",
       "2                     NaN                    NaN                 NaN   \n",
       "3                     NaN                    NaN                 NaN   \n",
       "4                     NaN                    NaN                 NaN   \n",
       "\n",
       "   LargePhotoFileName  Primary  \n",
       "0                 NaN      NaN  \n",
       "1                 NaN      NaN  \n",
       "2                 NaN      NaN  \n",
       "3                 NaN      NaN  \n",
       "4                 NaN      NaN  \n",
       "\n",
       "[5 rows x 40 columns]"
      ],
      "text/html": [
       "<div>\n",
       "<style scoped>\n",
       "    .dataframe tbody tr th:only-of-type {\n",
       "        vertical-align: middle;\n",
       "    }\n",
       "\n",
       "    .dataframe tbody tr th {\n",
       "        vertical-align: top;\n",
       "    }\n",
       "\n",
       "    .dataframe thead th {\n",
       "        text-align: right;\n",
       "    }\n",
       "</style>\n",
       "<table border=\"1\" class=\"dataframe\">\n",
       "  <thead>\n",
       "    <tr style=\"text-align: right;\">\n",
       "      <th></th>\n",
       "      <th>ProductID</th>\n",
       "      <th>Name</th>\n",
       "      <th>ProductNumber</th>\n",
       "      <th>MakeFlag</th>\n",
       "      <th>FinishedGoodsFlag</th>\n",
       "      <th>Color</th>\n",
       "      <th>SafetyStockLevel</th>\n",
       "      <th>ReorderPoint</th>\n",
       "      <th>StandardCost</th>\n",
       "      <th>ListPrice</th>\n",
       "      <th>...</th>\n",
       "      <th>CatalogDescription</th>\n",
       "      <th>Instructions</th>\n",
       "      <th>IllustrationID</th>\n",
       "      <th>CultureID</th>\n",
       "      <th>ProductPhotoID</th>\n",
       "      <th>ThumbNailPhotoHexString</th>\n",
       "      <th>ThumbNailPhotoFileName</th>\n",
       "      <th>LargePhotoHexString</th>\n",
       "      <th>LargePhotoFileName</th>\n",
       "      <th>Primary</th>\n",
       "    </tr>\n",
       "  </thead>\n",
       "  <tbody>\n",
       "    <tr>\n",
       "      <th>0</th>\n",
       "      <td>1.0</td>\n",
       "      <td>Adjustable Race</td>\n",
       "      <td>AR-5381</td>\n",
       "      <td>False</td>\n",
       "      <td>False</td>\n",
       "      <td>None</td>\n",
       "      <td>1000.0</td>\n",
       "      <td>750.0</td>\n",
       "      <td>0.0</td>\n",
       "      <td>0.0</td>\n",
       "      <td>...</td>\n",
       "      <td>NaN</td>\n",
       "      <td>NaN</td>\n",
       "      <td>NaN</td>\n",
       "      <td>NaN</td>\n",
       "      <td>NaN</td>\n",
       "      <td>NaN</td>\n",
       "      <td>NaN</td>\n",
       "      <td>NaN</td>\n",
       "      <td>NaN</td>\n",
       "      <td>NaN</td>\n",
       "    </tr>\n",
       "    <tr>\n",
       "      <th>1</th>\n",
       "      <td>2.0</td>\n",
       "      <td>Bearing Ball</td>\n",
       "      <td>BA-8327</td>\n",
       "      <td>False</td>\n",
       "      <td>False</td>\n",
       "      <td>None</td>\n",
       "      <td>1000.0</td>\n",
       "      <td>750.0</td>\n",
       "      <td>0.0</td>\n",
       "      <td>0.0</td>\n",
       "      <td>...</td>\n",
       "      <td>NaN</td>\n",
       "      <td>NaN</td>\n",
       "      <td>NaN</td>\n",
       "      <td>NaN</td>\n",
       "      <td>NaN</td>\n",
       "      <td>NaN</td>\n",
       "      <td>NaN</td>\n",
       "      <td>NaN</td>\n",
       "      <td>NaN</td>\n",
       "      <td>NaN</td>\n",
       "    </tr>\n",
       "    <tr>\n",
       "      <th>2</th>\n",
       "      <td>3.0</td>\n",
       "      <td>BB Ball Bearing</td>\n",
       "      <td>BE-2349</td>\n",
       "      <td>True</td>\n",
       "      <td>False</td>\n",
       "      <td>None</td>\n",
       "      <td>800.0</td>\n",
       "      <td>600.0</td>\n",
       "      <td>0.0</td>\n",
       "      <td>0.0</td>\n",
       "      <td>...</td>\n",
       "      <td>NaN</td>\n",
       "      <td>NaN</td>\n",
       "      <td>NaN</td>\n",
       "      <td>NaN</td>\n",
       "      <td>NaN</td>\n",
       "      <td>NaN</td>\n",
       "      <td>NaN</td>\n",
       "      <td>NaN</td>\n",
       "      <td>NaN</td>\n",
       "      <td>NaN</td>\n",
       "    </tr>\n",
       "    <tr>\n",
       "      <th>3</th>\n",
       "      <td>4.0</td>\n",
       "      <td>Headset Ball Bearings</td>\n",
       "      <td>BE-2908</td>\n",
       "      <td>False</td>\n",
       "      <td>False</td>\n",
       "      <td>None</td>\n",
       "      <td>800.0</td>\n",
       "      <td>600.0</td>\n",
       "      <td>0.0</td>\n",
       "      <td>0.0</td>\n",
       "      <td>...</td>\n",
       "      <td>NaN</td>\n",
       "      <td>NaN</td>\n",
       "      <td>NaN</td>\n",
       "      <td>NaN</td>\n",
       "      <td>NaN</td>\n",
       "      <td>NaN</td>\n",
       "      <td>NaN</td>\n",
       "      <td>NaN</td>\n",
       "      <td>NaN</td>\n",
       "      <td>NaN</td>\n",
       "    </tr>\n",
       "    <tr>\n",
       "      <th>4</th>\n",
       "      <td>316.0</td>\n",
       "      <td>Blade</td>\n",
       "      <td>BL-2036</td>\n",
       "      <td>True</td>\n",
       "      <td>False</td>\n",
       "      <td>None</td>\n",
       "      <td>800.0</td>\n",
       "      <td>600.0</td>\n",
       "      <td>0.0</td>\n",
       "      <td>0.0</td>\n",
       "      <td>...</td>\n",
       "      <td>NaN</td>\n",
       "      <td>NaN</td>\n",
       "      <td>NaN</td>\n",
       "      <td>NaN</td>\n",
       "      <td>NaN</td>\n",
       "      <td>NaN</td>\n",
       "      <td>NaN</td>\n",
       "      <td>NaN</td>\n",
       "      <td>NaN</td>\n",
       "      <td>NaN</td>\n",
       "    </tr>\n",
       "  </tbody>\n",
       "</table>\n",
       "<p>5 rows × 40 columns</p>\n",
       "</div>"
      ]
     },
     "execution_count": 30,
     "metadata": {},
     "output_type": "execute_result"
    }
   ],
   "execution_count": 30
  },
  {
   "cell_type": "code",
   "id": "53115252ca2d1bf3",
   "metadata": {
    "ExecuteTime": {
     "end_time": "2024-05-18T14:23:43.647531Z",
     "start_time": "2024-05-18T14:23:43.624584Z"
    }
   },
   "source": [
    "# Combining all product data\n",
    "products = pd.concat([northwind_products, aenc_product, adventureworks_combined_products], ignore_index=True)\n",
    "\n",
    "# replacing the document node with documentnodestring\n",
    "products['DocumentNode'] = products['DocumentNodeString']\n",
    "products.drop(columns=['DocumentNodeString'], inplace=True)\n",
    "\n",
    "# applying the data types to the columns\n",
    "products['ProductID'] = products['ProductID'].astype(float) # casting to float seems counterintuitive but it is necessary to avoid an error in Pandas\n",
    "\n",
    "# dropping documentnode column (need to fix later)\n",
    "products.drop(columns=['DocumentNode'], inplace=True)\n",
    "\n",
    "\n",
    "products.head()"
   ],
   "outputs": [
    {
     "data": {
      "text/plain": [
       "   ProductID                   ProductName  SupplierID  CategoryID  \\\n",
       "0        1.0                          Chai         1.0         1.0   \n",
       "1        2.0                         Chang         1.0         1.0   \n",
       "2        3.0                 Aniseed Syrup         1.0         2.0   \n",
       "3        4.0  Chef Anton's Cajun Seasoning         2.0         2.0   \n",
       "4        5.0        Chef Anton's Gumbo Mix         2.0         2.0   \n",
       "\n",
       "       QuantityPerUnit  UnitPrice  UnitsInStock  UnitsOnOrder  ReorderLevel  \\\n",
       "0   10 boxes x 20 bags      18.00          39.0           0.0          10.0   \n",
       "1   24 - 12 oz bottles      19.00          17.0          40.0          25.0   \n",
       "2  12 - 550 ml bottles      10.00          13.0          70.0          25.0   \n",
       "3       48 - 6 oz jars      22.00          53.0           0.0           0.0   \n",
       "4             36 boxes      21.35           0.0           0.0           0.0   \n",
       "\n",
       "  Discontinued  ... CatalogDescription Instructions IllustrationID  CultureID  \\\n",
       "0        False  ...                NaN          NaN            NaN        NaN   \n",
       "1        False  ...                NaN          NaN            NaN        NaN   \n",
       "2        False  ...                NaN          NaN            NaN        NaN   \n",
       "3        False  ...                NaN          NaN            NaN        NaN   \n",
       "4         True  ...                NaN          NaN            NaN        NaN   \n",
       "\n",
       "  ProductPhotoID ThumbNailPhotoHexString ThumbNailPhotoFileName  \\\n",
       "0            NaN                     NaN                    NaN   \n",
       "1            NaN                     NaN                    NaN   \n",
       "2            NaN                     NaN                    NaN   \n",
       "3            NaN                     NaN                    NaN   \n",
       "4            NaN                     NaN                    NaN   \n",
       "\n",
       "  LargePhotoHexString LargePhotoFileName Primary  \n",
       "0                 NaN                NaN     NaN  \n",
       "1                 NaN                NaN     NaN  \n",
       "2                 NaN                NaN     NaN  \n",
       "3                 NaN                NaN     NaN  \n",
       "4                 NaN                NaN     NaN  \n",
       "\n",
       "[5 rows x 51 columns]"
      ],
      "text/html": [
       "<div>\n",
       "<style scoped>\n",
       "    .dataframe tbody tr th:only-of-type {\n",
       "        vertical-align: middle;\n",
       "    }\n",
       "\n",
       "    .dataframe tbody tr th {\n",
       "        vertical-align: top;\n",
       "    }\n",
       "\n",
       "    .dataframe thead th {\n",
       "        text-align: right;\n",
       "    }\n",
       "</style>\n",
       "<table border=\"1\" class=\"dataframe\">\n",
       "  <thead>\n",
       "    <tr style=\"text-align: right;\">\n",
       "      <th></th>\n",
       "      <th>ProductID</th>\n",
       "      <th>ProductName</th>\n",
       "      <th>SupplierID</th>\n",
       "      <th>CategoryID</th>\n",
       "      <th>QuantityPerUnit</th>\n",
       "      <th>UnitPrice</th>\n",
       "      <th>UnitsInStock</th>\n",
       "      <th>UnitsOnOrder</th>\n",
       "      <th>ReorderLevel</th>\n",
       "      <th>Discontinued</th>\n",
       "      <th>...</th>\n",
       "      <th>CatalogDescription</th>\n",
       "      <th>Instructions</th>\n",
       "      <th>IllustrationID</th>\n",
       "      <th>CultureID</th>\n",
       "      <th>ProductPhotoID</th>\n",
       "      <th>ThumbNailPhotoHexString</th>\n",
       "      <th>ThumbNailPhotoFileName</th>\n",
       "      <th>LargePhotoHexString</th>\n",
       "      <th>LargePhotoFileName</th>\n",
       "      <th>Primary</th>\n",
       "    </tr>\n",
       "  </thead>\n",
       "  <tbody>\n",
       "    <tr>\n",
       "      <th>0</th>\n",
       "      <td>1.0</td>\n",
       "      <td>Chai</td>\n",
       "      <td>1.0</td>\n",
       "      <td>1.0</td>\n",
       "      <td>10 boxes x 20 bags</td>\n",
       "      <td>18.00</td>\n",
       "      <td>39.0</td>\n",
       "      <td>0.0</td>\n",
       "      <td>10.0</td>\n",
       "      <td>False</td>\n",
       "      <td>...</td>\n",
       "      <td>NaN</td>\n",
       "      <td>NaN</td>\n",
       "      <td>NaN</td>\n",
       "      <td>NaN</td>\n",
       "      <td>NaN</td>\n",
       "      <td>NaN</td>\n",
       "      <td>NaN</td>\n",
       "      <td>NaN</td>\n",
       "      <td>NaN</td>\n",
       "      <td>NaN</td>\n",
       "    </tr>\n",
       "    <tr>\n",
       "      <th>1</th>\n",
       "      <td>2.0</td>\n",
       "      <td>Chang</td>\n",
       "      <td>1.0</td>\n",
       "      <td>1.0</td>\n",
       "      <td>24 - 12 oz bottles</td>\n",
       "      <td>19.00</td>\n",
       "      <td>17.0</td>\n",
       "      <td>40.0</td>\n",
       "      <td>25.0</td>\n",
       "      <td>False</td>\n",
       "      <td>...</td>\n",
       "      <td>NaN</td>\n",
       "      <td>NaN</td>\n",
       "      <td>NaN</td>\n",
       "      <td>NaN</td>\n",
       "      <td>NaN</td>\n",
       "      <td>NaN</td>\n",
       "      <td>NaN</td>\n",
       "      <td>NaN</td>\n",
       "      <td>NaN</td>\n",
       "      <td>NaN</td>\n",
       "    </tr>\n",
       "    <tr>\n",
       "      <th>2</th>\n",
       "      <td>3.0</td>\n",
       "      <td>Aniseed Syrup</td>\n",
       "      <td>1.0</td>\n",
       "      <td>2.0</td>\n",
       "      <td>12 - 550 ml bottles</td>\n",
       "      <td>10.00</td>\n",
       "      <td>13.0</td>\n",
       "      <td>70.0</td>\n",
       "      <td>25.0</td>\n",
       "      <td>False</td>\n",
       "      <td>...</td>\n",
       "      <td>NaN</td>\n",
       "      <td>NaN</td>\n",
       "      <td>NaN</td>\n",
       "      <td>NaN</td>\n",
       "      <td>NaN</td>\n",
       "      <td>NaN</td>\n",
       "      <td>NaN</td>\n",
       "      <td>NaN</td>\n",
       "      <td>NaN</td>\n",
       "      <td>NaN</td>\n",
       "    </tr>\n",
       "    <tr>\n",
       "      <th>3</th>\n",
       "      <td>4.0</td>\n",
       "      <td>Chef Anton's Cajun Seasoning</td>\n",
       "      <td>2.0</td>\n",
       "      <td>2.0</td>\n",
       "      <td>48 - 6 oz jars</td>\n",
       "      <td>22.00</td>\n",
       "      <td>53.0</td>\n",
       "      <td>0.0</td>\n",
       "      <td>0.0</td>\n",
       "      <td>False</td>\n",
       "      <td>...</td>\n",
       "      <td>NaN</td>\n",
       "      <td>NaN</td>\n",
       "      <td>NaN</td>\n",
       "      <td>NaN</td>\n",
       "      <td>NaN</td>\n",
       "      <td>NaN</td>\n",
       "      <td>NaN</td>\n",
       "      <td>NaN</td>\n",
       "      <td>NaN</td>\n",
       "      <td>NaN</td>\n",
       "    </tr>\n",
       "    <tr>\n",
       "      <th>4</th>\n",
       "      <td>5.0</td>\n",
       "      <td>Chef Anton's Gumbo Mix</td>\n",
       "      <td>2.0</td>\n",
       "      <td>2.0</td>\n",
       "      <td>36 boxes</td>\n",
       "      <td>21.35</td>\n",
       "      <td>0.0</td>\n",
       "      <td>0.0</td>\n",
       "      <td>0.0</td>\n",
       "      <td>True</td>\n",
       "      <td>...</td>\n",
       "      <td>NaN</td>\n",
       "      <td>NaN</td>\n",
       "      <td>NaN</td>\n",
       "      <td>NaN</td>\n",
       "      <td>NaN</td>\n",
       "      <td>NaN</td>\n",
       "      <td>NaN</td>\n",
       "      <td>NaN</td>\n",
       "      <td>NaN</td>\n",
       "      <td>NaN</td>\n",
       "    </tr>\n",
       "  </tbody>\n",
       "</table>\n",
       "<p>5 rows × 51 columns</p>\n",
       "</div>"
      ]
     },
     "execution_count": 31,
     "metadata": {},
     "output_type": "execute_result"
    }
   ],
   "execution_count": 31
  },
  {
   "cell_type": "markdown",
   "id": "31445f109a25aeef",
   "metadata": {},
   "source": [
    "### Regions (TODO CHANGE)"
   ]
  },
  {
   "cell_type": "code",
   "id": "365bf888b63d9f1a",
   "metadata": {
    "ExecuteTime": {
     "end_time": "2024-05-18T14:23:43.660491Z",
     "start_time": "2024-05-18T14:23:43.648538Z"
    }
   },
   "source": [
    "# Combining all region data\n",
    "regions = pd.concat([northwind_region, aenc_region, adventureworks_person_stateprovince], ignore_index=True)\n",
    "\n",
    "# combining regiondescription and region columns to create a name column (one is always None)\n",
    "regions['RegionName'] = regions['RegionDescription'].combine_first(regions['region'])\n",
    "\n",
    "# dropping the other columns\n",
    "regions.drop(columns=['RegionDescription', 'region'], inplace=True)\n",
    "\n",
    "\n",
    "regions.head()"
   ],
   "outputs": [
    {
     "data": {
      "text/plain": [
       "   RegionID  StateProvinceID StateProvinceCode CountryRegionCode  \\\n",
       "0       1.0              NaN               NaN               NaN   \n",
       "1       2.0              NaN               NaN               NaN   \n",
       "2       3.0              NaN               NaN               NaN   \n",
       "3       4.0              NaN               NaN               NaN   \n",
       "4       NaN              NaN               NaN               NaN   \n",
       "\n",
       "  IsOnlyStateProvinceFlag Name  TerritoryID rowguid ModifiedDate  \\\n",
       "0                     NaN  NaN          NaN     NaN          NaT   \n",
       "1                     NaN  NaN          NaN     NaN          NaT   \n",
       "2                     NaN  NaN          NaN     NaN          NaT   \n",
       "3                     NaN  NaN          NaN     NaN          NaT   \n",
       "4                     NaN  NaN          NaN     NaN          NaT   \n",
       "\n",
       "                                          RegionName  \n",
       "0  Eastern                                       ...  \n",
       "1  Western                                       ...  \n",
       "2  Northern                                      ...  \n",
       "3  Southern                                      ...  \n",
       "4                                             Canada  "
      ],
      "text/html": [
       "<div>\n",
       "<style scoped>\n",
       "    .dataframe tbody tr th:only-of-type {\n",
       "        vertical-align: middle;\n",
       "    }\n",
       "\n",
       "    .dataframe tbody tr th {\n",
       "        vertical-align: top;\n",
       "    }\n",
       "\n",
       "    .dataframe thead th {\n",
       "        text-align: right;\n",
       "    }\n",
       "</style>\n",
       "<table border=\"1\" class=\"dataframe\">\n",
       "  <thead>\n",
       "    <tr style=\"text-align: right;\">\n",
       "      <th></th>\n",
       "      <th>RegionID</th>\n",
       "      <th>StateProvinceID</th>\n",
       "      <th>StateProvinceCode</th>\n",
       "      <th>CountryRegionCode</th>\n",
       "      <th>IsOnlyStateProvinceFlag</th>\n",
       "      <th>Name</th>\n",
       "      <th>TerritoryID</th>\n",
       "      <th>rowguid</th>\n",
       "      <th>ModifiedDate</th>\n",
       "      <th>RegionName</th>\n",
       "    </tr>\n",
       "  </thead>\n",
       "  <tbody>\n",
       "    <tr>\n",
       "      <th>0</th>\n",
       "      <td>1.0</td>\n",
       "      <td>NaN</td>\n",
       "      <td>NaN</td>\n",
       "      <td>NaN</td>\n",
       "      <td>NaN</td>\n",
       "      <td>NaN</td>\n",
       "      <td>NaN</td>\n",
       "      <td>NaN</td>\n",
       "      <td>NaT</td>\n",
       "      <td>Eastern                                       ...</td>\n",
       "    </tr>\n",
       "    <tr>\n",
       "      <th>1</th>\n",
       "      <td>2.0</td>\n",
       "      <td>NaN</td>\n",
       "      <td>NaN</td>\n",
       "      <td>NaN</td>\n",
       "      <td>NaN</td>\n",
       "      <td>NaN</td>\n",
       "      <td>NaN</td>\n",
       "      <td>NaN</td>\n",
       "      <td>NaT</td>\n",
       "      <td>Western                                       ...</td>\n",
       "    </tr>\n",
       "    <tr>\n",
       "      <th>2</th>\n",
       "      <td>3.0</td>\n",
       "      <td>NaN</td>\n",
       "      <td>NaN</td>\n",
       "      <td>NaN</td>\n",
       "      <td>NaN</td>\n",
       "      <td>NaN</td>\n",
       "      <td>NaN</td>\n",
       "      <td>NaN</td>\n",
       "      <td>NaT</td>\n",
       "      <td>Northern                                      ...</td>\n",
       "    </tr>\n",
       "    <tr>\n",
       "      <th>3</th>\n",
       "      <td>4.0</td>\n",
       "      <td>NaN</td>\n",
       "      <td>NaN</td>\n",
       "      <td>NaN</td>\n",
       "      <td>NaN</td>\n",
       "      <td>NaN</td>\n",
       "      <td>NaN</td>\n",
       "      <td>NaN</td>\n",
       "      <td>NaT</td>\n",
       "      <td>Southern                                      ...</td>\n",
       "    </tr>\n",
       "    <tr>\n",
       "      <th>4</th>\n",
       "      <td>NaN</td>\n",
       "      <td>NaN</td>\n",
       "      <td>NaN</td>\n",
       "      <td>NaN</td>\n",
       "      <td>NaN</td>\n",
       "      <td>NaN</td>\n",
       "      <td>NaN</td>\n",
       "      <td>NaN</td>\n",
       "      <td>NaT</td>\n",
       "      <td>Canada</td>\n",
       "    </tr>\n",
       "  </tbody>\n",
       "</table>\n",
       "</div>"
      ]
     },
     "execution_count": 32,
     "metadata": {},
     "output_type": "execute_result"
    }
   ],
   "execution_count": 32
  },
  {
   "cell_type": "markdown",
   "id": "aa51d41ef0fb8a82",
   "metadata": {},
   "source": [
    "### Customers"
   ]
  },
  {
   "cell_type": "code",
   "id": "f97e4a3206895719",
   "metadata": {
    "ExecuteTime": {
     "end_time": "2024-05-18T14:23:43.681914Z",
     "start_time": "2024-05-18T14:23:43.661500Z"
    }
   },
   "source": [
    "aenc_customer = aenc_customer[['fname', 'lname', 'state']]\n",
    "northwind_customers = northwind_customers.drop(columns='CustomerID')\n",
    "\n",
    "# combining all customer data\n",
    "customers = pd.concat([northwind_customers, aenc_customer, adventureworks_sales_customer], ignore_index=True)\n",
    "\n",
    "# rename\n",
    "customers.rename(columns={\n",
    "    'CustomerID': 'CUSTOMER_CUSTOMERS_ID',\n",
    "    'CompanyName': 'CUSTOMER_CUSTOMERS_CompanyName',\n",
    "    'ContactName': 'CUSTOMER_CUSTOMERS_ContactName',\n",
    "    'ContactTitle': 'CUSTOMER_CUSTOMERS_ContactTitle',\n",
    "    'Address': 'CUSTOMER_CUSTOMERS_Address',\n",
    "    'City': 'CUSTOMER_CUSTOMERS_City',\n",
    "    'Region': 'CUSTOMER_CUSTOMERS_Region',\n",
    "    'PostalCode': 'CUSTOMER_CUSTOMERS_PostalCode',\n",
    "    'Country': 'CUSTOMER_CUSTOMERS_Country',\n",
    "    'Phone': 'CUSTOMER_CUSTOMERS_Phone',\n",
    "    'Fax': 'CUSTOMER_CUSTOMERS_Fax',\n",
    "    'fname': 'CUSTOMER_CUSTOMER_Fname',\n",
    "    'lname': 'CUSTOMER_CUSTOMER_Lname',\n",
    "    'state': 'CUSTOMER_CUSTOMER_State',\n",
    "    'PersonID': 'CUSTOMER_CUSTOMER_PersonID',\n",
    "    'StoreID': 'CUSTOMER_CUSTOMER_StoreID',\n",
    "    'TerritoryID': 'CUSTOMER_CUSTOMER_TerritoryID',\n",
    "    'AccountNumber': 'CUSTOMER_CUSTOMER_AccountNumber'\n",
    "}, inplace=True)\n",
    "\n",
    "drop_modified_date_rowguid(customers)\n",
    "\n",
    "customers.head()"
   ],
   "outputs": [
    {
     "data": {
      "text/plain": [
       "       CUSTOMER_CUSTOMERS_CompanyName CUSTOMER_CUSTOMERS_ContactName  \\\n",
       "0                 Alfreds Futterkiste                   Maria Anders   \n",
       "1  Ana Trujillo Emparedados y helados                   Ana Trujillo   \n",
       "2            Antonio Moreno TaquerÃ­a                 Antonio Moreno   \n",
       "3                     Around the Horn                   Thomas Hardy   \n",
       "4                 Berglunds snabbkÃ¶p             Christina Berglund   \n",
       "\n",
       "  CUSTOMER_CUSTOMERS_ContactTitle      CUSTOMER_CUSTOMERS_Address  \\\n",
       "0            Sales Representative                   Obere Str. 57   \n",
       "1                           Owner  Avda. de la ConstituciÃ³n 2222   \n",
       "2                           Owner                 Mataderos  2312   \n",
       "3            Sales Representative                 120 Hanover Sq.   \n",
       "4             Order Administrator                BerguvsvÃ¤gen  8   \n",
       "\n",
       "  CUSTOMER_CUSTOMERS_City CUSTOMER_CUSTOMERS_Region  \\\n",
       "0                  Berlin                      None   \n",
       "1            MÃ©xico D.F.                      None   \n",
       "2            MÃ©xico D.F.                      None   \n",
       "3                  London                      None   \n",
       "4                  LuleÃ¥                      None   \n",
       "\n",
       "  CUSTOMER_CUSTOMERS_PostalCode CUSTOMER_CUSTOMERS_Country  \\\n",
       "0                         12209                    Germany   \n",
       "1                         05021                     Mexico   \n",
       "2                         05023                     Mexico   \n",
       "3                       WA1 1DP                         UK   \n",
       "4                      S-958 22                     Sweden   \n",
       "\n",
       "  CUSTOMER_CUSTOMERS_Phone CUSTOMER_CUSTOMERS_Fax CUSTOMER_CUSTOMER_Fname  \\\n",
       "0              030-0074321            030-0076545                     NaN   \n",
       "1             (5) 555-4729           (5) 555-3745                     NaN   \n",
       "2             (5) 555-3932                   None                     NaN   \n",
       "3           (171) 555-7788         (171) 555-6750                     NaN   \n",
       "4            0921-12 34 65          0921-12 34 67                     NaN   \n",
       "\n",
       "  CUSTOMER_CUSTOMER_Lname CUSTOMER_CUSTOMER_State  CUSTOMER_CUSTOMERS_ID  \\\n",
       "0                     NaN                     NaN                    NaN   \n",
       "1                     NaN                     NaN                    NaN   \n",
       "2                     NaN                     NaN                    NaN   \n",
       "3                     NaN                     NaN                    NaN   \n",
       "4                     NaN                     NaN                    NaN   \n",
       "\n",
       "   CUSTOMER_CUSTOMER_PersonID  CUSTOMER_CUSTOMER_StoreID  \\\n",
       "0                         NaN                        NaN   \n",
       "1                         NaN                        NaN   \n",
       "2                         NaN                        NaN   \n",
       "3                         NaN                        NaN   \n",
       "4                         NaN                        NaN   \n",
       "\n",
       "   CUSTOMER_CUSTOMER_TerritoryID CUSTOMER_CUSTOMER_AccountNumber  \n",
       "0                            NaN                             NaN  \n",
       "1                            NaN                             NaN  \n",
       "2                            NaN                             NaN  \n",
       "3                            NaN                             NaN  \n",
       "4                            NaN                             NaN  "
      ],
      "text/html": [
       "<div>\n",
       "<style scoped>\n",
       "    .dataframe tbody tr th:only-of-type {\n",
       "        vertical-align: middle;\n",
       "    }\n",
       "\n",
       "    .dataframe tbody tr th {\n",
       "        vertical-align: top;\n",
       "    }\n",
       "\n",
       "    .dataframe thead th {\n",
       "        text-align: right;\n",
       "    }\n",
       "</style>\n",
       "<table border=\"1\" class=\"dataframe\">\n",
       "  <thead>\n",
       "    <tr style=\"text-align: right;\">\n",
       "      <th></th>\n",
       "      <th>CUSTOMER_CUSTOMERS_CompanyName</th>\n",
       "      <th>CUSTOMER_CUSTOMERS_ContactName</th>\n",
       "      <th>CUSTOMER_CUSTOMERS_ContactTitle</th>\n",
       "      <th>CUSTOMER_CUSTOMERS_Address</th>\n",
       "      <th>CUSTOMER_CUSTOMERS_City</th>\n",
       "      <th>CUSTOMER_CUSTOMERS_Region</th>\n",
       "      <th>CUSTOMER_CUSTOMERS_PostalCode</th>\n",
       "      <th>CUSTOMER_CUSTOMERS_Country</th>\n",
       "      <th>CUSTOMER_CUSTOMERS_Phone</th>\n",
       "      <th>CUSTOMER_CUSTOMERS_Fax</th>\n",
       "      <th>CUSTOMER_CUSTOMER_Fname</th>\n",
       "      <th>CUSTOMER_CUSTOMER_Lname</th>\n",
       "      <th>CUSTOMER_CUSTOMER_State</th>\n",
       "      <th>CUSTOMER_CUSTOMERS_ID</th>\n",
       "      <th>CUSTOMER_CUSTOMER_PersonID</th>\n",
       "      <th>CUSTOMER_CUSTOMER_StoreID</th>\n",
       "      <th>CUSTOMER_CUSTOMER_TerritoryID</th>\n",
       "      <th>CUSTOMER_CUSTOMER_AccountNumber</th>\n",
       "    </tr>\n",
       "  </thead>\n",
       "  <tbody>\n",
       "    <tr>\n",
       "      <th>0</th>\n",
       "      <td>Alfreds Futterkiste</td>\n",
       "      <td>Maria Anders</td>\n",
       "      <td>Sales Representative</td>\n",
       "      <td>Obere Str. 57</td>\n",
       "      <td>Berlin</td>\n",
       "      <td>None</td>\n",
       "      <td>12209</td>\n",
       "      <td>Germany</td>\n",
       "      <td>030-0074321</td>\n",
       "      <td>030-0076545</td>\n",
       "      <td>NaN</td>\n",
       "      <td>NaN</td>\n",
       "      <td>NaN</td>\n",
       "      <td>NaN</td>\n",
       "      <td>NaN</td>\n",
       "      <td>NaN</td>\n",
       "      <td>NaN</td>\n",
       "      <td>NaN</td>\n",
       "    </tr>\n",
       "    <tr>\n",
       "      <th>1</th>\n",
       "      <td>Ana Trujillo Emparedados y helados</td>\n",
       "      <td>Ana Trujillo</td>\n",
       "      <td>Owner</td>\n",
       "      <td>Avda. de la ConstituciÃ³n 2222</td>\n",
       "      <td>MÃ©xico D.F.</td>\n",
       "      <td>None</td>\n",
       "      <td>05021</td>\n",
       "      <td>Mexico</td>\n",
       "      <td>(5) 555-4729</td>\n",
       "      <td>(5) 555-3745</td>\n",
       "      <td>NaN</td>\n",
       "      <td>NaN</td>\n",
       "      <td>NaN</td>\n",
       "      <td>NaN</td>\n",
       "      <td>NaN</td>\n",
       "      <td>NaN</td>\n",
       "      <td>NaN</td>\n",
       "      <td>NaN</td>\n",
       "    </tr>\n",
       "    <tr>\n",
       "      <th>2</th>\n",
       "      <td>Antonio Moreno TaquerÃ­a</td>\n",
       "      <td>Antonio Moreno</td>\n",
       "      <td>Owner</td>\n",
       "      <td>Mataderos  2312</td>\n",
       "      <td>MÃ©xico D.F.</td>\n",
       "      <td>None</td>\n",
       "      <td>05023</td>\n",
       "      <td>Mexico</td>\n",
       "      <td>(5) 555-3932</td>\n",
       "      <td>None</td>\n",
       "      <td>NaN</td>\n",
       "      <td>NaN</td>\n",
       "      <td>NaN</td>\n",
       "      <td>NaN</td>\n",
       "      <td>NaN</td>\n",
       "      <td>NaN</td>\n",
       "      <td>NaN</td>\n",
       "      <td>NaN</td>\n",
       "    </tr>\n",
       "    <tr>\n",
       "      <th>3</th>\n",
       "      <td>Around the Horn</td>\n",
       "      <td>Thomas Hardy</td>\n",
       "      <td>Sales Representative</td>\n",
       "      <td>120 Hanover Sq.</td>\n",
       "      <td>London</td>\n",
       "      <td>None</td>\n",
       "      <td>WA1 1DP</td>\n",
       "      <td>UK</td>\n",
       "      <td>(171) 555-7788</td>\n",
       "      <td>(171) 555-6750</td>\n",
       "      <td>NaN</td>\n",
       "      <td>NaN</td>\n",
       "      <td>NaN</td>\n",
       "      <td>NaN</td>\n",
       "      <td>NaN</td>\n",
       "      <td>NaN</td>\n",
       "      <td>NaN</td>\n",
       "      <td>NaN</td>\n",
       "    </tr>\n",
       "    <tr>\n",
       "      <th>4</th>\n",
       "      <td>Berglunds snabbkÃ¶p</td>\n",
       "      <td>Christina Berglund</td>\n",
       "      <td>Order Administrator</td>\n",
       "      <td>BerguvsvÃ¤gen  8</td>\n",
       "      <td>LuleÃ¥</td>\n",
       "      <td>None</td>\n",
       "      <td>S-958 22</td>\n",
       "      <td>Sweden</td>\n",
       "      <td>0921-12 34 65</td>\n",
       "      <td>0921-12 34 67</td>\n",
       "      <td>NaN</td>\n",
       "      <td>NaN</td>\n",
       "      <td>NaN</td>\n",
       "      <td>NaN</td>\n",
       "      <td>NaN</td>\n",
       "      <td>NaN</td>\n",
       "      <td>NaN</td>\n",
       "      <td>NaN</td>\n",
       "    </tr>\n",
       "  </tbody>\n",
       "</table>\n",
       "</div>"
      ]
     },
     "execution_count": 33,
     "metadata": {},
     "output_type": "execute_result"
    }
   ],
   "execution_count": 33
  },
  {
   "cell_type": "markdown",
   "id": "def759487d0e6c71",
   "metadata": {},
   "source": [
    "## Loading the data into the UnitedOutdoors datawarehouse"
   ]
  },
  {
   "cell_type": "markdown",
   "id": "3f3139bd023f535",
   "metadata": {},
   "source": [
    "### Departments"
   ]
  },
  {
   "cell_type": "code",
   "id": "d2fa80a01c2d42c",
   "metadata": {
    "ExecuteTime": {
     "end_time": "2024-05-18T14:23:43.762255Z",
     "start_time": "2024-05-18T14:23:43.682920Z"
    }
   },
   "source": [
    "departments_dtypes = {\n",
    "    'DEPARTMENT_DEPARTMENT_DeptID': Integer,\n",
    "    'DEPARTMENT_DEPARTMENT_DeptName': String(100),\n",
    "    'DEPARTMENT_DEPARTMENT_GroupName': String(100),\n",
    "    'DEPARTMENT_DEPARTMENT_DeptHeadID': Integer,\n",
    "    'DEPARTMENT_source_database': String(100)\n",
    "}\n",
    "\n",
    "# TODO dept_head_id needs to refer to an employee\n",
    "prepare_and_insert(departments, departments_dtypes, 'Department')"
   ],
   "outputs": [
    {
     "name": "stdout",
     "output_type": "stream",
     "text": [
      "Inserting data into table: Department with chunk size: 400\n"
     ]
    }
   ],
   "execution_count": 34
  },
  {
   "cell_type": "markdown",
   "id": "bd4fe111",
   "metadata": {},
   "source": [
    "### Employee"
   ]
  },
  {
   "cell_type": "code",
   "id": "9c021fa6",
   "metadata": {
    "ExecuteTime": {
     "end_time": "2024-05-18T14:23:45.808645Z",
     "start_time": "2024-05-18T14:23:43.763261Z"
    }
   },
   "source": [
    "employees_dtypes = {\n",
    "    'EMPLOYEE_EMPLOYEE_EmployeeID': Integer,\n",
    "    'EMPLOYEE_EMPLOYEE_DeptID': Integer,\n",
    "    'EMPLOYEE_EMPLOYEE_ManagerID': Integer,\n",
    "    'EMPLOYEE_EMPLOYEETERRITORIES_TerritoryID': Integer,\n",
    "    'EMPLOYEE_EMPLOYEE_Emp_Fname': NVARCHAR(255),\n",
    "    'EMPLOYEE_EMPLOYEE_Emp_Lname': NVARCHAR(255),\n",
    "    'EMPLOYEE_EMPLOYEE_Street': NVARCHAR(150),\n",
    "    'EMPLOYEE_EMPLOYEE_City': NVARCHAR(100),\n",
    "    'EMPLOYEE_EMPLOYEE_State': CHAR(1),\n",
    "    'EMPLOYEE_EMPLOYEE_Zip_Code': CHAR(5),\n",
    "    'EMPLOYEE_EMPLOYEE_Phone': Integer,\n",
    "    'EMPLOYEE_EMPLOYEE_Status': CHAR(1),\n",
    "    'EMPLOYEE_EMPLOYEE_SS_Number': Integer,\n",
    "    'EMPLOYEE_EMPLOYEE_Salary': Integer,\n",
    "    'EMPLOYEE_EMPLOYEE_Start_Date': DATE,\n",
    "    'EMPLOYEE_EMPLOYEE_Termination': DATE,\n",
    "    'EMPLOYEE_EMPLOYEE_Birth_Date': DATE,\n",
    "    'EMPLOYEE_EMPLOYEE_Bene_Health_Ins': CHAR(1),\n",
    "    'EMPLOYEE_EMPLOYEE_Bene_Life_Ins': CHAR(1),\n",
    "    'EMPLOYEE_EMPLOYEE_Bene_Day_Care': CHAR(1),\n",
    "    'EMPLOYEE_EMPLOYEE_Sex': CHAR(1),\n",
    "    'EMPLOYEE_BONUS_Bonus_Date': DATE,\n",
    "    'EMPLOYEE_BONUS_Bonus_Amount': Integer,\n",
    "    'EMPLOYEE_EMPLOYEES_Title': NVARCHAR(50),\n",
    "    'EMPLOYEE_EMPLOYEES_TitleOfCourtesy': NVARCHAR(50),\n",
    "    'EMPLOYEE_EMPLOYEES_HireDate': DATE,\n",
    "    'EMPLOYEE_EMPLOYEES_HomePhone': NVARCHAR(20),\n",
    "    'EMPLOYEE_EMPLOYEES_Extension': Integer,\n",
    "    'EMPLOYEE_EMPLOYEES_Photo': String,\n",
    "    'EMPLOYEE_EMPLOYEES_PhotoPath': NVARCHAR(255),\n",
    "    'EMPLOYEE_EMPLOYEES_Notes': String,\n",
    "}\n",
    "\n",
    "prepare_and_insert(employees, employees_dtypes, 'Employee')"
   ],
   "outputs": [
    {
     "name": "stdout",
     "output_type": "stream",
     "text": [
      "Inserting data into table: Employee with chunk size: 64\n"
     ]
    },
    {
     "ename": "DataError",
     "evalue": "(pyodbc.DataError) ('22003', \"[22003] [Microsoft][ODBC SQL Server Driver][SQL Server]The conversion of the nvarchar value '4045552341' overflowed an int column. (248) (SQLParamData); [22003] [Microsoft][ODBC SQL Server Driver][SQL Server]The statement has been terminated. (3621)\")\n[SQL: INSERT INTO dbo.[Employee] ([EMPLOYEE_EMPLOYEE_EmployeeID], [EMPLOYEE_EMPLOYEE_DeptID], [EMPLOYEE_EMPLOYEE_ManagerID], [EMPLOYEE_EMPLOYEETERRITORIES_TerritoryID], [EMPLOYEE_EMPLOYEE_Emp_Fname], [EMPLOYEE_EMPLOYEE_Emp_Lname], [EMPLOYEE_EMPLOYEE_Street], [EMPLOYEE_EMPLOYEE_City], [EMPLOYEE_EMPLOYEE_State], [EMPLOYEE_EMPLOYEE_Zip_Code], [EMPLOYEE_EMPLOYEE_Phone], [EMPLOYEE_EMPLOYEE_Status], [EMPLOYEE_EMPLOYEE_SS_Number], [EMPLOYEE_EMPLOYEE_Salary], [EMPLOYEE_EMPLOYEE_Start_Date], [EMPLOYEE_EMPLOYEE_Termination], [EMPLOYEE_EMPLOYEE_Birth_Date], [EMPLOYEE_EMPLOYEE_Bene_Health_Ins], [EMPLOYEE_EMPLOYEE_Bene_Life_Ins], [EMPLOYEE_EMPLOYEE_Bene_Day_Care], [EMPLOYEE_EMPLOYEE_Sex], [EMPLOYEE_BONUS_Bonus_Date], [EMPLOYEE_BONUS_Bonus_Amount], [EMPLOYEE_EMPLOYEES_Title], [EMPLOYEE_EMPLOYEES_TitleOfCourtesy], [EMPLOYEE_EMPLOYEES_HireDate], [EMPLOYEE_EMPLOYEES_HomePhone], [EMPLOYEE_EMPLOYEES_Extension], [EMPLOYEE_EMPLOYEES_Photo], [EMPLOYEE_EMPLOYEES_PhotoPath], [EMPLOYEE_EMPLOYEES_Notes]) VALUES (?, ?, ?, ?, ?, ?, ?, ?, ?, ?, ?, ?, ?, ?, ?, ?, ?, ?, ?, ?, ?, ?, ?, ?, ?, ?, ?, ?, ?, ?, ?), (?, ?, ?, ?, ?, ?, ?, ?, ?, ?, ?, ?, ?, ?, ?, ?, ?, ?, ?, ?, ?, ?, ?, ?, ?, ?, ?, ?, ?, ?, ?), (?, ?, ?, ?, ?, ?, ?, ?, ?, ?, ?, ?, ?, ?, ?, ?, ?, ?, ?, ?, ?, ?, ?, ?, ?, ?, ?, ?, ?, ?, ?), (?, ?, ?, ?, ?, ?, ?, ?, ?, ?, ?, ?, ?, ?, ?, ?, ?, ?, ?, ?, ?, ?, ?, ?, ?, ?, ?, ?, ?, ?, ?), (?, ?, ?, ?, ?, ?, ?, ?, ?, ?, ?, ?, ?, ?, ?, ?, ?, ?, ?, ?, ?, ?, ?, ?, ?, ?, ?, ?, ?, ?, ?), (?, ?, ?, ?, ?, ?, ?, ?, ?, ?, ?, ?, ?, ?, ?, ?, ?, ?, ?, ?, ?, ?, ?, ?, ?, ?, ?, ?, ?, ?, ?), (?, ?, ?, ?, ?, ?, ?, ?, ?, ?, ?, ?, ?, ?, ?, ?, ?, ?, ?, ?, ?, ?, ?, ?, ?, ?, ?, ?, ?, ?, ?), (?, ?, ?, ?, ?, ?, ?, ?, ?, ?, ?, ?, ?, ?, ?, ?, ?, ?, ?, ?, ?, ?, ?, ?, ?, ?, ?, ?, ?, ?, ?), (?, ?, ?, ?, ?, ?, ?, ?, ?, ?, ?, ?, ?, ?, ?, ?, ?, ?, ?, ?, ?, ?, ?, ?, ?, ?, ?, ?, ?, ?, ?), (?, ?, ?, ?, ?, ?, ?, ?, ?, ?, ?, ?, ?, ?, ?, ?, ?, ?, ?, ?, ?, ?, ?, ?, ?, ?, ?, ?, ?, ?, ?), (?, ?, ?, ?, ?, ?, ?, ?, ?, ?, ?, ?, ?, ?, ?, ?, ?, ?, ?, ?, ?, ?, ?, ?, ?, ?, ?, ?, ?, ?, ?), (?, ?, ?, ?, ?, ?, ?, ?, ?, ?, ?, ?, ?, ?, ?, ?, ?, ?, ?, ?, ?, ?, ?, ?, ?, ?, ?, ?, ?, ?, ?), (?, ?, ?, ?, ?, ?, ?, ?, ?, ?, ?, ?, ?, ?, ?, ?, ?, ?, ?, ?, ?, ?, ?, ?, ?, ?, ?, ?, ?, ?, ?), (?, ?, ?, ?, ?, ?, ?, ?, ?, ?, ?, ?, ?, ?, ?, ?, ?, ?, ?, ?, ?, ?, ?, ?, ?, ?, ?, ?, ?, ?, ?), (?, ?, ?, ?, ?, ?, ?, ?, ?, ?, ?, ?, ?, ?, ?, ?, ?, ?, ?, ?, ?, ?, ?, ?, ?, ?, ?, ?, ?, ?, ?), (?, ?, ?, ?, ?, ?, ?, ?, ?, ?, ?, ?, ?, ?, ?, ?, ?, ?, ?, ?, ?, ?, ?, ?, ?, ?, ?, ?, ?, ?, ?), (?, ?, ?, ?, ?, ?, ?, ?, ?, ?, ?, ?, ?, ?, ?, ?, ?, ?, ?, ?, ?, ?, ?, ?, ?, ?, ?, ?, ?, ?, ?), (?, ?, ?, ?, ?, ?, ?, ?, ?, ?, ?, ?, ?, ?, ?, ?, ?, ?, ?, ?, ?, ?, ?, ?, ?, ?, ?, ?, ?, ?, ?), (?, ?, ?, ?, ?, ?, ?, ?, ?, ?, ?, ?, ?, ?, ?, ?, ?, ?, ?, ?, ?, ?, ?, ?, ?, ?, ?, ?, ?, ?, ?), (?, ?, ?, ?, ?, ?, ?, ?, ?, ?, ?, ?, ?, ?, ?, ?, ?, ?, ?, ?, ?, ?, ?, ?, ?, ?, ?, ?, ?, ?, ?), (?, ?, ?, ?, ?, ?, ?, ?, ?, ?, ?, ?, ?, ?, ?, ?, ?, ?, ?, ?, ?, ?, ?, ?, ?, ?, ?, ?, ?, ?, ?), (?, ?, ?, ?, ?, ?, ?, ?, ?, ?, ?, ?, ?, ?, ?, ?, ?, ?, ?, ?, ?, ?, ?, ?, ?, ?, ?, ?, ?, ?, ?), (?, ?, ?, ?, ?, ?, ?, ?, ?, ?, ?, ?, ?, ?, ?, ?, ?, ?, ?, ?, ?, ?, ?, ?, ?, ?, ?, ?, ?, ?, ?), (?, ?, ?, ?, ?, ?, ?, ?, ?, ?, ?, ?, ?, ?, ?, ?, ?, ?, ?, ?, ?, ?, ?, ?, ?, ?, ?, ?, ?, ?, ?), (?, ?, ?, ?, ?, ?, ?, ?, ?, ?, ?, ?, ?, ?, ?, ?, ?, ?, ?, ?, ?, ?, ?, ?, ?, ?, ?, ?, ?, ?, ?), (?, ?, ?, ?, ?, ?, ?, ?, ?, ?, ?, ?, ?, ?, ?, ?, ?, ?, ?, ?, ?, ?, ?, ?, ?, ?, ?, ?, ?, ?, ?), (?, ?, ?, ?, ?, ?, ?, ?, ?, ?, ?, ?, ?, ?, ?, ?, ?, ?, ?, ?, ?, ?, ?, ?, ?, ?, ?, ?, ?, ?, ?), (?, ?, ?, ?, ?, ?, ?, ?, ?, ?, ?, ?, ?, ?, ?, ?, ?, ?, ?, ?, ?, ?, ?, ?, ?, ?, ?, ?, ?, ?, ?), (?, ?, ?, ?, ?, ?, ?, ?, ?, ?, ?, ?, ?, ?, ?, ?, ?, ?, ?, ?, ?, ?, ?, ?, ?, ?, ?, ?, ?, ?, ?), (?, ?, ?, ?, ?, ?, ?, ?, ?, ?, ?, ?, ?, ?, ?, ?, ?, ?, ?, ?, ?, ?, ?, ?, ?, ?, ?, ?, ?, ?, ?), (?, ?, ?, ?, ?, ?, ?, ?, ?, ?, ?, ?, ?, ?, ?, ?, ?, ?, ?, ?, ?, ?, ?, ?, ?, ?, ?, ?, ?, ?, ?), (?, ?, ?, ?, ?, ?, ?, ?, ?, ?, ?, ?, ?, ?, ?, ?, ?, ?, ?, ?, ?, ?, ?, ?, ?, ?, ?, ?, ?, ?, ?), (?, ?, ?, ?, ?, ?, ?, ?, ?, ?, ?, ?, ?, ?, ?, ?, ?, ?, ?, ?, ?, ?, ?, ?, ?, ?, ?, ?, ?, ?, ?), (?, ?, ?, ?, ?, ?, ?, ?, ?, ?, ?, ?, ?, ?, ?, ?, ?, ?, ?, ?, ?, ?, ?, ?, ?, ?, ?, ?, ?, ?, ?), (?, ?, ?, ?, ?, ?, ?, ?, ?, ?, ?, ?, ?, ?, ?, ?, ?, ?, ?, ?, ?, ?, ?, ?, ?, ?, ?, ?, ?, ?, ?), (?, ?, ?, ?, ?, ?, ?, ?, ?, ?, ?, ?, ?, ?, ?, ?, ?, ?, ?, ?, ?, ?, ?, ?, ?, ?, ?, ?, ?, ?, ?), (?, ?, ?, ?, ?, ?, ?, ?, ?, ?, ?, ?, ?, ?, ?, ?, ?, ?, ?, ?, ?, ?, ?, ?, ?, ?, ?, ?, ?, ?, ?), (?, ?, ?, ?, ?, ?, ?, ?, ?, ?, ?, ?, ?, ?, ?, ?, ?, ?, ?, ?, ?, ?, ?, ?, ?, ?, ?, ?, ?, ?, ?), (?, ?, ?, ?, ?, ?, ?, ?, ?, ?, ?, ?, ?, ?, ?, ?, ?, ?, ?, ?, ?, ?, ?, ?, ?, ?, ?, ?, ?, ?, ?), (?, ?, ?, ?, ?, ?, ?, ?, ?, ?, ?, ?, ?, ?, ?, ?, ?, ?, ?, ?, ?, ?, ?, ?, ?, ?, ?, ?, ?, ?, ?), (?, ?, ?, ?, ?, ?, ?, ?, ?, ?, ?, ?, ?, ?, ?, ?, ?, ?, ?, ?, ?, ?, ?, ?, ?, ?, ?, ?, ?, ?, ?), (?, ?, ?, ?, ?, ?, ?, ?, ?, ?, ?, ?, ?, ?, ?, ?, ?, ?, ?, ?, ?, ?, ?, ?, ?, ?, ?, ?, ?, ?, ?), (?, ?, ?, ?, ?, ?, ?, ?, ?, ?, ?, ?, ?, ?, ?, ?, ?, ?, ?, ?, ?, ?, ?, ?, ?, ?, ?, ?, ?, ?, ?), (?, ?, ?, ?, ?, ?, ?, ?, ?, ?, ?, ?, ?, ?, ?, ?, ?, ?, ?, ?, ?, ?, ?, ?, ?, ?, ?, ?, ?, ?, ?), (?, ?, ?, ?, ?, ?, ?, ?, ?, ?, ?, ?, ?, ?, ?, ?, ?, ?, ?, ?, ?, ?, ?, ?, ?, ?, ?, ?, ?, ?, ?), (?, ?, ?, ?, ?, ?, ?, ?, ?, ?, ?, ?, ?, ?, ?, ?, ?, ?, ?, ?, ?, ?, ?, ?, ?, ?, ?, ?, ?, ?, ?), (?, ?, ?, ?, ?, ?, ?, ?, ?, ?, ?, ?, ?, ?, ?, ?, ?, ?, ?, ?, ?, ?, ?, ?, ?, ?, ?, ?, ?, ?, ?), (?, ?, ?, ?, ?, ?, ?, ?, ?, ?, ?, ?, ?, ?, ?, ?, ?, ?, ?, ?, ?, ?, ?, ?, ?, ?, ?, ?, ?, ?, ?), (?, ?, ?, ?, ?, ?, ?, ?, ?, ?, ?, ?, ?, ?, ?, ?, ?, ?, ?, ?, ?, ?, ?, ?, ?, ?, ?, ?, ?, ?, ?), (?, ?, ?, ?, ?, ?, ?, ?, ?, ?, ?, ?, ?, ?, ?, ?, ?, ?, ?, ?, ?, ?, ?, ?, ?, ?, ?, ?, ?, ?, ?), (?, ?, ?, ?, ?, ?, ?, ?, ?, ?, ?, ?, ?, ?, ?, ?, ?, ?, ?, ?, ?, ?, ?, ?, ?, ?, ?, ?, ?, ?, ?), (?, ?, ?, ?, ?, ?, ?, ?, ?, ?, ?, ?, ?, ?, ?, ?, ?, ?, ?, ?, ?, ?, ?, ?, ?, ?, ?, ?, ?, ?, ?), (?, ?, ?, ?, ?, ?, ?, ?, ?, ?, ?, ?, ?, ?, ?, ?, ?, ?, ?, ?, ?, ?, ?, ?, ?, ?, ?, ?, ?, ?, ?), (?, ?, ?, ?, ?, ?, ?, ?, ?, ?, ?, ?, ?, ?, ?, ?, ?, ?, ?, ?, ?, ?, ?, ?, ?, ?, ?, ?, ?, ?, ?), (?, ?, ?, ?, ?, ?, ?, ?, ?, ?, ?, ?, ?, ?, ?, ?, ?, ?, ?, ?, ?, ?, ?, ?, ?, ?, ?, ?, ?, ?, ?), (?, ?, ?, ?, ?, ?, ?, ?, ?, ?, ?, ?, ?, ?, ?, ?, ?, ?, ?, ?, ?, ?, ?, ?, ?, ?, ?, ?, ?, ?, ?), (?, ?, ?, ?, ?, ?, ?, ?, ?, ?, ?, ?, ?, ?, ?, ?, ?, ?, ?, ?, ?, ?, ?, ?, ?, ?, ?, ?, ?, ?, ?), (?, ?, ?, ?, ?, ?, ?, ?, ?, ?, ?, ?, ?, ?, ?, ?, ?, ?, ?, ?, ?, ?, ?, ?, ?, ?, ?, ?, ?, ?, ?), (?, ?, ?, ?, ?, ?, ?, ?, ?, ?, ?, ?, ?, ?, ?, ?, ?, ?, ?, ?, ?, ?, ?, ?, ?, ?, ?, ?, ?, ?, ?), (?, ?, ?, ?, ?, ?, ?, ?, ?, ?, ?, ?, ?, ?, ?, ?, ?, ?, ?, ?, ?, ?, ?, ?, ?, ?, ?, ?, ?, ?, ?), (?, ?, ?, ?, ?, ?, ?, ?, ?, ?, ?, ?, ?, ?, ?, ?, ?, ?, ?, ?, ?, ?, ?, ?, ?, ?, ?, ?, ?, ?, ?), (?, ?, ?, ?, ?, ?, ?, ?, ?, ?, ?, ?, ?, ?, ?, ?, ?, ?, ?, ?, ?, ?, ?, ?, ?, ?, ?, ?, ?, ?, ?), (?, ?, ?, ?, ?, ?, ?, ?, ?, ?, ?, ?, ?, ?, ?, ?, ?, ?, ?, ?, ?, ?, ?, ?, ?, ?, ?, ?, ?, ?, ?), (?, ?, ?, ?, ?, ?, ?, ?, ?, ?, ?, ?, ?, ?, ?, ?, ?, ?, ?, ?, ?, ?, ?, ?, ?, ?, ?, ?, ?, ?, ?)]\n[parameters: (None, None, None, None, None, None, None, None, None, None, None, None, None, None, None, None, None, None, None, None, None, None, None, 'Sales Representative', 'Ms.', datetime.datetime(1992, 5, 1, 0, 0), None, '5467', b'\\x15\\x1c/\\x00\\x02\\x00\\x00\\x00\\r\\x00\\x0e\\x00\\x14\\x00!\\x00\\xff\\xff\\xff\\xffBitmap Image\\x00Paint.Picture\\x00\\x01\\x05\\x00\\x00\\x02\\x00\\x00\\x00\\x07\\x00\\x0 ... (80909 characters truncated) ... 0\\x00\\x00\\x00\\x00\\x00\\x00\\x00\\x00\\x00\\x00\\x00\\x00\\x00\\x00\\x00\\x00\\x00\\x00\\x00\\x00\\x00\\x00\\x00\\x00\\x00\\x01\\x05\\x00\\x00\\x00\\x00\\x00\\x00\\xb4\\xad\\x05\\xfe', 'http://accweb/emmployees/davolio.bmp', 'Education includes a BA in psychology from Colorado State University in 1970.  She also completed \"The Art of the Cold Call.\"  Nancy is a member of Toastmasters International.', None, None, None, None, None, None, None, None, None, None, None, None, None, None, None, None, None, None, None ... 1884 parameters truncated ... '034281032', 49500.0, '1990-01-07', None, '1953-11-09', 'Y', 'Y', 'N', 'M', '1997-12-31', 300.0, None, None, None, None, None, None, None, None, 467.0, 200.0, 902.0, None, 'James', 'Klobucher', '18 Corning Street', 'Houston', 'TX', '77079', '7135558627', 'A', '034281032', 49500.0, '1990-01-07', None, '1953-11-09', 'Y', 'Y', 'N', 'M', '1998-12-31', 300.0, None, None, None, None, None, None, None, None)]\n(Background on this error at: https://sqlalche.me/e/20/9h9h)",
     "output_type": "error",
     "traceback": [
      "\u001B[1;31m---------------------------------------------------------------------------\u001B[0m",
      "\u001B[1;31mDataError\u001B[0m                                 Traceback (most recent call last)",
      "File \u001B[1;32m~\\AppData\\Local\\pypoetry\\Cache\\virtualenvs\\united_outdoors-15yGH0-0-py3.11\\Lib\\site-packages\\sqlalchemy\\engine\\base.py:1967\u001B[0m, in \u001B[0;36mConnection._exec_single_context\u001B[1;34m(self, dialect, context, statement, parameters)\u001B[0m\n\u001B[0;32m   1966\u001B[0m     \u001B[38;5;28;01mif\u001B[39;00m \u001B[38;5;129;01mnot\u001B[39;00m evt_handled:\n\u001B[1;32m-> 1967\u001B[0m         \u001B[38;5;28;43mself\u001B[39;49m\u001B[38;5;241;43m.\u001B[39;49m\u001B[43mdialect\u001B[49m\u001B[38;5;241;43m.\u001B[39;49m\u001B[43mdo_execute\u001B[49m\u001B[43m(\u001B[49m\n\u001B[0;32m   1968\u001B[0m \u001B[43m            \u001B[49m\u001B[43mcursor\u001B[49m\u001B[43m,\u001B[49m\u001B[43m \u001B[49m\u001B[43mstr_statement\u001B[49m\u001B[43m,\u001B[49m\u001B[43m \u001B[49m\u001B[43meffective_parameters\u001B[49m\u001B[43m,\u001B[49m\u001B[43m \u001B[49m\u001B[43mcontext\u001B[49m\n\u001B[0;32m   1969\u001B[0m \u001B[43m        \u001B[49m\u001B[43m)\u001B[49m\n\u001B[0;32m   1971\u001B[0m \u001B[38;5;28;01mif\u001B[39;00m \u001B[38;5;28mself\u001B[39m\u001B[38;5;241m.\u001B[39m_has_events \u001B[38;5;129;01mor\u001B[39;00m \u001B[38;5;28mself\u001B[39m\u001B[38;5;241m.\u001B[39mengine\u001B[38;5;241m.\u001B[39m_has_events:\n",
      "File \u001B[1;32m~\\AppData\\Local\\pypoetry\\Cache\\virtualenvs\\united_outdoors-15yGH0-0-py3.11\\Lib\\site-packages\\sqlalchemy\\engine\\default.py:924\u001B[0m, in \u001B[0;36mDefaultDialect.do_execute\u001B[1;34m(self, cursor, statement, parameters, context)\u001B[0m\n\u001B[0;32m    923\u001B[0m \u001B[38;5;28;01mdef\u001B[39;00m \u001B[38;5;21mdo_execute\u001B[39m(\u001B[38;5;28mself\u001B[39m, cursor, statement, parameters, context\u001B[38;5;241m=\u001B[39m\u001B[38;5;28;01mNone\u001B[39;00m):\n\u001B[1;32m--> 924\u001B[0m     \u001B[43mcursor\u001B[49m\u001B[38;5;241;43m.\u001B[39;49m\u001B[43mexecute\u001B[49m\u001B[43m(\u001B[49m\u001B[43mstatement\u001B[49m\u001B[43m,\u001B[49m\u001B[43m \u001B[49m\u001B[43mparameters\u001B[49m\u001B[43m)\u001B[49m\n",
      "\u001B[1;31mDataError\u001B[0m: ('22003', \"[22003] [Microsoft][ODBC SQL Server Driver][SQL Server]The conversion of the nvarchar value '4045552341' overflowed an int column. (248) (SQLParamData); [22003] [Microsoft][ODBC SQL Server Driver][SQL Server]The statement has been terminated. (3621)\")",
      "\nThe above exception was the direct cause of the following exception:\n",
      "\u001B[1;31mDataError\u001B[0m                                 Traceback (most recent call last)",
      "Cell \u001B[1;32mIn[35], line 35\u001B[0m\n\u001B[0;32m      1\u001B[0m employees_dtypes \u001B[38;5;241m=\u001B[39m {\n\u001B[0;32m      2\u001B[0m     \u001B[38;5;124m'\u001B[39m\u001B[38;5;124mEMPLOYEE_EMPLOYEE_EmployeeID\u001B[39m\u001B[38;5;124m'\u001B[39m: Integer,\n\u001B[0;32m      3\u001B[0m     \u001B[38;5;124m'\u001B[39m\u001B[38;5;124mEMPLOYEE_EMPLOYEE_DeptID\u001B[39m\u001B[38;5;124m'\u001B[39m: Integer,\n\u001B[1;32m   (...)\u001B[0m\n\u001B[0;32m     32\u001B[0m     \u001B[38;5;124m'\u001B[39m\u001B[38;5;124mEMPLOYEE_EMPLOYEES_Notes\u001B[39m\u001B[38;5;124m'\u001B[39m: String,\n\u001B[0;32m     33\u001B[0m }\n\u001B[1;32m---> 35\u001B[0m \u001B[43mprepare_and_insert\u001B[49m\u001B[43m(\u001B[49m\u001B[43memployees\u001B[49m\u001B[43m,\u001B[49m\u001B[43m \u001B[49m\u001B[43memployees_dtypes\u001B[49m\u001B[43m,\u001B[49m\u001B[43m \u001B[49m\u001B[38;5;124;43m'\u001B[39;49m\u001B[38;5;124;43mEmployee\u001B[39;49m\u001B[38;5;124;43m'\u001B[39;49m\u001B[43m)\u001B[49m\n",
      "Cell \u001B[1;32mIn[8], line 13\u001B[0m, in \u001B[0;36mprepare_and_insert\u001B[1;34m(dataframe, dtypes, table_name, nk_sk_dict)\u001B[0m\n\u001B[0;32m     10\u001B[0m prepare(dataframe, nk_sk_dict)\n\u001B[0;32m     12\u001B[0m \u001B[38;5;66;03m# adding the data to the database\u001B[39;00m\n\u001B[1;32m---> 13\u001B[0m \u001B[43mbulk_insert\u001B[49m\u001B[43m(\u001B[49m\u001B[43mdataframe\u001B[49m\u001B[43m,\u001B[49m\u001B[43m \u001B[49m\u001B[43mdtypes\u001B[49m\u001B[43m,\u001B[49m\u001B[43m \u001B[49m\u001B[43mtable_name\u001B[49m\u001B[43m,\u001B[49m\u001B[43m \u001B[49m\u001B[43munited_outdoors_engine\u001B[49m\u001B[43m)\u001B[49m\n",
      "Cell \u001B[1;32mIn[6], line 6\u001B[0m, in \u001B[0;36mbulk_insert\u001B[1;34m(df, dtypes, table_name, engine)\u001B[0m\n\u001B[0;32m      3\u001B[0m chunk_size \u001B[38;5;241m=\u001B[39m (\u001B[38;5;241m2000\u001B[39m \u001B[38;5;241m/\u001B[39m\u001B[38;5;241m/\u001B[39m \u001B[38;5;28mlen\u001B[39m(df\u001B[38;5;241m.\u001B[39mcolumns))  \u001B[38;5;66;03m# 2100 is the maximum number of parameters in a query, -100 for safety\u001B[39;00m\n\u001B[0;32m      5\u001B[0m \u001B[38;5;28mprint\u001B[39m(\u001B[38;5;124mf\u001B[39m\u001B[38;5;124m'\u001B[39m\u001B[38;5;124mInserting data into table: \u001B[39m\u001B[38;5;132;01m{\u001B[39;00mtable_name\u001B[38;5;132;01m}\u001B[39;00m\u001B[38;5;124m with chunk size: \u001B[39m\u001B[38;5;132;01m{\u001B[39;00mchunk_size\u001B[38;5;132;01m}\u001B[39;00m\u001B[38;5;124m'\u001B[39m)\n\u001B[1;32m----> 6\u001B[0m \u001B[43mdf\u001B[49m\u001B[38;5;241;43m.\u001B[39;49m\u001B[43mto_sql\u001B[49m\u001B[43m(\u001B[49m\u001B[43mname\u001B[49m\u001B[38;5;241;43m=\u001B[39;49m\u001B[43mtable_name\u001B[49m\u001B[43m,\u001B[49m\u001B[43m \u001B[49m\u001B[43mschema\u001B[49m\u001B[38;5;241;43m=\u001B[39;49m\u001B[38;5;124;43m'\u001B[39;49m\u001B[38;5;124;43mdbo\u001B[39;49m\u001B[38;5;124;43m'\u001B[39;49m\u001B[43m,\u001B[49m\u001B[43m \u001B[49m\u001B[43mcon\u001B[49m\u001B[38;5;241;43m=\u001B[39;49m\u001B[43mengine\u001B[49m\u001B[43m,\u001B[49m\u001B[43m \u001B[49m\u001B[43mif_exists\u001B[49m\u001B[38;5;241;43m=\u001B[39;49m\u001B[38;5;124;43m'\u001B[39;49m\u001B[38;5;124;43mappend\u001B[39;49m\u001B[38;5;124;43m'\u001B[39;49m\u001B[43m,\u001B[49m\u001B[43m \u001B[49m\u001B[43mindex\u001B[49m\u001B[38;5;241;43m=\u001B[39;49m\u001B[38;5;28;43;01mFalse\u001B[39;49;00m\u001B[43m,\u001B[49m\u001B[43m \u001B[49m\u001B[43mdtype\u001B[49m\u001B[38;5;241;43m=\u001B[39;49m\u001B[43mdtypes\u001B[49m\u001B[43m,\u001B[49m\u001B[43m \u001B[49m\u001B[43mmethod\u001B[49m\u001B[38;5;241;43m=\u001B[39;49m\u001B[38;5;124;43m'\u001B[39;49m\u001B[38;5;124;43mmulti\u001B[39;49m\u001B[38;5;124;43m'\u001B[39;49m\u001B[43m,\u001B[49m\u001B[43m \u001B[49m\u001B[43mchunksize\u001B[49m\u001B[38;5;241;43m=\u001B[39;49m\u001B[43m \u001B[49m\u001B[43mchunk_size\u001B[49m\u001B[43m)\u001B[49m\n",
      "File \u001B[1;32m~\\AppData\\Local\\pypoetry\\Cache\\virtualenvs\\united_outdoors-15yGH0-0-py3.11\\Lib\\site-packages\\pandas\\util\\_decorators.py:333\u001B[0m, in \u001B[0;36mdeprecate_nonkeyword_arguments.<locals>.decorate.<locals>.wrapper\u001B[1;34m(*args, **kwargs)\u001B[0m\n\u001B[0;32m    327\u001B[0m \u001B[38;5;28;01mif\u001B[39;00m \u001B[38;5;28mlen\u001B[39m(args) \u001B[38;5;241m>\u001B[39m num_allow_args:\n\u001B[0;32m    328\u001B[0m     warnings\u001B[38;5;241m.\u001B[39mwarn(\n\u001B[0;32m    329\u001B[0m         msg\u001B[38;5;241m.\u001B[39mformat(arguments\u001B[38;5;241m=\u001B[39m_format_argument_list(allow_args)),\n\u001B[0;32m    330\u001B[0m         \u001B[38;5;167;01mFutureWarning\u001B[39;00m,\n\u001B[0;32m    331\u001B[0m         stacklevel\u001B[38;5;241m=\u001B[39mfind_stack_level(),\n\u001B[0;32m    332\u001B[0m     )\n\u001B[1;32m--> 333\u001B[0m \u001B[38;5;28;01mreturn\u001B[39;00m \u001B[43mfunc\u001B[49m\u001B[43m(\u001B[49m\u001B[38;5;241;43m*\u001B[39;49m\u001B[43margs\u001B[49m\u001B[43m,\u001B[49m\u001B[43m \u001B[49m\u001B[38;5;241;43m*\u001B[39;49m\u001B[38;5;241;43m*\u001B[39;49m\u001B[43mkwargs\u001B[49m\u001B[43m)\u001B[49m\n",
      "File \u001B[1;32m~\\AppData\\Local\\pypoetry\\Cache\\virtualenvs\\united_outdoors-15yGH0-0-py3.11\\Lib\\site-packages\\pandas\\core\\generic.py:3087\u001B[0m, in \u001B[0;36mNDFrame.to_sql\u001B[1;34m(self, name, con, schema, if_exists, index, index_label, chunksize, dtype, method)\u001B[0m\n\u001B[0;32m   2889\u001B[0m \u001B[38;5;250m\u001B[39m\u001B[38;5;124;03m\"\"\"\u001B[39;00m\n\u001B[0;32m   2890\u001B[0m \u001B[38;5;124;03mWrite records stored in a DataFrame to a SQL database.\u001B[39;00m\n\u001B[0;32m   2891\u001B[0m \n\u001B[1;32m   (...)\u001B[0m\n\u001B[0;32m   3083\u001B[0m \u001B[38;5;124;03m[(1,), (None,), (2,)]\u001B[39;00m\n\u001B[0;32m   3084\u001B[0m \u001B[38;5;124;03m\"\"\"\u001B[39;00m  \u001B[38;5;66;03m# noqa: E501\u001B[39;00m\n\u001B[0;32m   3085\u001B[0m \u001B[38;5;28;01mfrom\u001B[39;00m \u001B[38;5;21;01mpandas\u001B[39;00m\u001B[38;5;21;01m.\u001B[39;00m\u001B[38;5;21;01mio\u001B[39;00m \u001B[38;5;28;01mimport\u001B[39;00m sql\n\u001B[1;32m-> 3087\u001B[0m \u001B[38;5;28;01mreturn\u001B[39;00m \u001B[43msql\u001B[49m\u001B[38;5;241;43m.\u001B[39;49m\u001B[43mto_sql\u001B[49m\u001B[43m(\u001B[49m\n\u001B[0;32m   3088\u001B[0m \u001B[43m    \u001B[49m\u001B[38;5;28;43mself\u001B[39;49m\u001B[43m,\u001B[49m\n\u001B[0;32m   3089\u001B[0m \u001B[43m    \u001B[49m\u001B[43mname\u001B[49m\u001B[43m,\u001B[49m\n\u001B[0;32m   3090\u001B[0m \u001B[43m    \u001B[49m\u001B[43mcon\u001B[49m\u001B[43m,\u001B[49m\n\u001B[0;32m   3091\u001B[0m \u001B[43m    \u001B[49m\u001B[43mschema\u001B[49m\u001B[38;5;241;43m=\u001B[39;49m\u001B[43mschema\u001B[49m\u001B[43m,\u001B[49m\n\u001B[0;32m   3092\u001B[0m \u001B[43m    \u001B[49m\u001B[43mif_exists\u001B[49m\u001B[38;5;241;43m=\u001B[39;49m\u001B[43mif_exists\u001B[49m\u001B[43m,\u001B[49m\n\u001B[0;32m   3093\u001B[0m \u001B[43m    \u001B[49m\u001B[43mindex\u001B[49m\u001B[38;5;241;43m=\u001B[39;49m\u001B[43mindex\u001B[49m\u001B[43m,\u001B[49m\n\u001B[0;32m   3094\u001B[0m \u001B[43m    \u001B[49m\u001B[43mindex_label\u001B[49m\u001B[38;5;241;43m=\u001B[39;49m\u001B[43mindex_label\u001B[49m\u001B[43m,\u001B[49m\n\u001B[0;32m   3095\u001B[0m \u001B[43m    \u001B[49m\u001B[43mchunksize\u001B[49m\u001B[38;5;241;43m=\u001B[39;49m\u001B[43mchunksize\u001B[49m\u001B[43m,\u001B[49m\n\u001B[0;32m   3096\u001B[0m \u001B[43m    \u001B[49m\u001B[43mdtype\u001B[49m\u001B[38;5;241;43m=\u001B[39;49m\u001B[43mdtype\u001B[49m\u001B[43m,\u001B[49m\n\u001B[0;32m   3097\u001B[0m \u001B[43m    \u001B[49m\u001B[43mmethod\u001B[49m\u001B[38;5;241;43m=\u001B[39;49m\u001B[43mmethod\u001B[49m\u001B[43m,\u001B[49m\n\u001B[0;32m   3098\u001B[0m \u001B[43m\u001B[49m\u001B[43m)\u001B[49m\n",
      "File \u001B[1;32m~\\AppData\\Local\\pypoetry\\Cache\\virtualenvs\\united_outdoors-15yGH0-0-py3.11\\Lib\\site-packages\\pandas\\io\\sql.py:842\u001B[0m, in \u001B[0;36mto_sql\u001B[1;34m(frame, name, con, schema, if_exists, index, index_label, chunksize, dtype, method, engine, **engine_kwargs)\u001B[0m\n\u001B[0;32m    837\u001B[0m     \u001B[38;5;28;01mraise\u001B[39;00m \u001B[38;5;167;01mNotImplementedError\u001B[39;00m(\n\u001B[0;32m    838\u001B[0m         \u001B[38;5;124m\"\u001B[39m\u001B[38;5;124m'\u001B[39m\u001B[38;5;124mframe\u001B[39m\u001B[38;5;124m'\u001B[39m\u001B[38;5;124m argument should be either a Series or a DataFrame\u001B[39m\u001B[38;5;124m\"\u001B[39m\n\u001B[0;32m    839\u001B[0m     )\n\u001B[0;32m    841\u001B[0m \u001B[38;5;28;01mwith\u001B[39;00m pandasSQL_builder(con, schema\u001B[38;5;241m=\u001B[39mschema, need_transaction\u001B[38;5;241m=\u001B[39m\u001B[38;5;28;01mTrue\u001B[39;00m) \u001B[38;5;28;01mas\u001B[39;00m pandas_sql:\n\u001B[1;32m--> 842\u001B[0m     \u001B[38;5;28;01mreturn\u001B[39;00m \u001B[43mpandas_sql\u001B[49m\u001B[38;5;241;43m.\u001B[39;49m\u001B[43mto_sql\u001B[49m\u001B[43m(\u001B[49m\n\u001B[0;32m    843\u001B[0m \u001B[43m        \u001B[49m\u001B[43mframe\u001B[49m\u001B[43m,\u001B[49m\n\u001B[0;32m    844\u001B[0m \u001B[43m        \u001B[49m\u001B[43mname\u001B[49m\u001B[43m,\u001B[49m\n\u001B[0;32m    845\u001B[0m \u001B[43m        \u001B[49m\u001B[43mif_exists\u001B[49m\u001B[38;5;241;43m=\u001B[39;49m\u001B[43mif_exists\u001B[49m\u001B[43m,\u001B[49m\n\u001B[0;32m    846\u001B[0m \u001B[43m        \u001B[49m\u001B[43mindex\u001B[49m\u001B[38;5;241;43m=\u001B[39;49m\u001B[43mindex\u001B[49m\u001B[43m,\u001B[49m\n\u001B[0;32m    847\u001B[0m \u001B[43m        \u001B[49m\u001B[43mindex_label\u001B[49m\u001B[38;5;241;43m=\u001B[39;49m\u001B[43mindex_label\u001B[49m\u001B[43m,\u001B[49m\n\u001B[0;32m    848\u001B[0m \u001B[43m        \u001B[49m\u001B[43mschema\u001B[49m\u001B[38;5;241;43m=\u001B[39;49m\u001B[43mschema\u001B[49m\u001B[43m,\u001B[49m\n\u001B[0;32m    849\u001B[0m \u001B[43m        \u001B[49m\u001B[43mchunksize\u001B[49m\u001B[38;5;241;43m=\u001B[39;49m\u001B[43mchunksize\u001B[49m\u001B[43m,\u001B[49m\n\u001B[0;32m    850\u001B[0m \u001B[43m        \u001B[49m\u001B[43mdtype\u001B[49m\u001B[38;5;241;43m=\u001B[39;49m\u001B[43mdtype\u001B[49m\u001B[43m,\u001B[49m\n\u001B[0;32m    851\u001B[0m \u001B[43m        \u001B[49m\u001B[43mmethod\u001B[49m\u001B[38;5;241;43m=\u001B[39;49m\u001B[43mmethod\u001B[49m\u001B[43m,\u001B[49m\n\u001B[0;32m    852\u001B[0m \u001B[43m        \u001B[49m\u001B[43mengine\u001B[49m\u001B[38;5;241;43m=\u001B[39;49m\u001B[43mengine\u001B[49m\u001B[43m,\u001B[49m\n\u001B[0;32m    853\u001B[0m \u001B[43m        \u001B[49m\u001B[38;5;241;43m*\u001B[39;49m\u001B[38;5;241;43m*\u001B[39;49m\u001B[43mengine_kwargs\u001B[49m\u001B[43m,\u001B[49m\n\u001B[0;32m    854\u001B[0m \u001B[43m    \u001B[49m\u001B[43m)\u001B[49m\n",
      "File \u001B[1;32m~\\AppData\\Local\\pypoetry\\Cache\\virtualenvs\\united_outdoors-15yGH0-0-py3.11\\Lib\\site-packages\\pandas\\io\\sql.py:2018\u001B[0m, in \u001B[0;36mSQLDatabase.to_sql\u001B[1;34m(self, frame, name, if_exists, index, index_label, schema, chunksize, dtype, method, engine, **engine_kwargs)\u001B[0m\n\u001B[0;32m   2006\u001B[0m sql_engine \u001B[38;5;241m=\u001B[39m get_engine(engine)\n\u001B[0;32m   2008\u001B[0m table \u001B[38;5;241m=\u001B[39m \u001B[38;5;28mself\u001B[39m\u001B[38;5;241m.\u001B[39mprep_table(\n\u001B[0;32m   2009\u001B[0m     frame\u001B[38;5;241m=\u001B[39mframe,\n\u001B[0;32m   2010\u001B[0m     name\u001B[38;5;241m=\u001B[39mname,\n\u001B[1;32m   (...)\u001B[0m\n\u001B[0;32m   2015\u001B[0m     dtype\u001B[38;5;241m=\u001B[39mdtype,\n\u001B[0;32m   2016\u001B[0m )\n\u001B[1;32m-> 2018\u001B[0m total_inserted \u001B[38;5;241m=\u001B[39m \u001B[43msql_engine\u001B[49m\u001B[38;5;241;43m.\u001B[39;49m\u001B[43minsert_records\u001B[49m\u001B[43m(\u001B[49m\n\u001B[0;32m   2019\u001B[0m \u001B[43m    \u001B[49m\u001B[43mtable\u001B[49m\u001B[38;5;241;43m=\u001B[39;49m\u001B[43mtable\u001B[49m\u001B[43m,\u001B[49m\n\u001B[0;32m   2020\u001B[0m \u001B[43m    \u001B[49m\u001B[43mcon\u001B[49m\u001B[38;5;241;43m=\u001B[39;49m\u001B[38;5;28;43mself\u001B[39;49m\u001B[38;5;241;43m.\u001B[39;49m\u001B[43mcon\u001B[49m\u001B[43m,\u001B[49m\n\u001B[0;32m   2021\u001B[0m \u001B[43m    \u001B[49m\u001B[43mframe\u001B[49m\u001B[38;5;241;43m=\u001B[39;49m\u001B[43mframe\u001B[49m\u001B[43m,\u001B[49m\n\u001B[0;32m   2022\u001B[0m \u001B[43m    \u001B[49m\u001B[43mname\u001B[49m\u001B[38;5;241;43m=\u001B[39;49m\u001B[43mname\u001B[49m\u001B[43m,\u001B[49m\n\u001B[0;32m   2023\u001B[0m \u001B[43m    \u001B[49m\u001B[43mindex\u001B[49m\u001B[38;5;241;43m=\u001B[39;49m\u001B[43mindex\u001B[49m\u001B[43m,\u001B[49m\n\u001B[0;32m   2024\u001B[0m \u001B[43m    \u001B[49m\u001B[43mschema\u001B[49m\u001B[38;5;241;43m=\u001B[39;49m\u001B[43mschema\u001B[49m\u001B[43m,\u001B[49m\n\u001B[0;32m   2025\u001B[0m \u001B[43m    \u001B[49m\u001B[43mchunksize\u001B[49m\u001B[38;5;241;43m=\u001B[39;49m\u001B[43mchunksize\u001B[49m\u001B[43m,\u001B[49m\n\u001B[0;32m   2026\u001B[0m \u001B[43m    \u001B[49m\u001B[43mmethod\u001B[49m\u001B[38;5;241;43m=\u001B[39;49m\u001B[43mmethod\u001B[49m\u001B[43m,\u001B[49m\n\u001B[0;32m   2027\u001B[0m \u001B[43m    \u001B[49m\u001B[38;5;241;43m*\u001B[39;49m\u001B[38;5;241;43m*\u001B[39;49m\u001B[43mengine_kwargs\u001B[49m\u001B[43m,\u001B[49m\n\u001B[0;32m   2028\u001B[0m \u001B[43m\u001B[49m\u001B[43m)\u001B[49m\n\u001B[0;32m   2030\u001B[0m \u001B[38;5;28mself\u001B[39m\u001B[38;5;241m.\u001B[39mcheck_case_sensitive(name\u001B[38;5;241m=\u001B[39mname, schema\u001B[38;5;241m=\u001B[39mschema)\n\u001B[0;32m   2031\u001B[0m \u001B[38;5;28;01mreturn\u001B[39;00m total_inserted\n",
      "File \u001B[1;32m~\\AppData\\Local\\pypoetry\\Cache\\virtualenvs\\united_outdoors-15yGH0-0-py3.11\\Lib\\site-packages\\pandas\\io\\sql.py:1567\u001B[0m, in \u001B[0;36mSQLAlchemyEngine.insert_records\u001B[1;34m(self, table, con, frame, name, index, schema, chunksize, method, **engine_kwargs)\u001B[0m\n\u001B[0;32m   1565\u001B[0m \u001B[38;5;28;01mif\u001B[39;00m re\u001B[38;5;241m.\u001B[39msearch(msg, err_text):\n\u001B[0;32m   1566\u001B[0m     \u001B[38;5;28;01mraise\u001B[39;00m \u001B[38;5;167;01mValueError\u001B[39;00m(\u001B[38;5;124m\"\u001B[39m\u001B[38;5;124minf cannot be used with MySQL\u001B[39m\u001B[38;5;124m\"\u001B[39m) \u001B[38;5;28;01mfrom\u001B[39;00m \u001B[38;5;21;01merr\u001B[39;00m\n\u001B[1;32m-> 1567\u001B[0m \u001B[38;5;28;01mraise\u001B[39;00m err\n",
      "File \u001B[1;32m~\\AppData\\Local\\pypoetry\\Cache\\virtualenvs\\united_outdoors-15yGH0-0-py3.11\\Lib\\site-packages\\pandas\\io\\sql.py:1558\u001B[0m, in \u001B[0;36mSQLAlchemyEngine.insert_records\u001B[1;34m(self, table, con, frame, name, index, schema, chunksize, method, **engine_kwargs)\u001B[0m\n\u001B[0;32m   1555\u001B[0m \u001B[38;5;28;01mfrom\u001B[39;00m \u001B[38;5;21;01msqlalchemy\u001B[39;00m \u001B[38;5;28;01mimport\u001B[39;00m exc\n\u001B[0;32m   1557\u001B[0m \u001B[38;5;28;01mtry\u001B[39;00m:\n\u001B[1;32m-> 1558\u001B[0m     \u001B[38;5;28;01mreturn\u001B[39;00m \u001B[43mtable\u001B[49m\u001B[38;5;241;43m.\u001B[39;49m\u001B[43minsert\u001B[49m\u001B[43m(\u001B[49m\u001B[43mchunksize\u001B[49m\u001B[38;5;241;43m=\u001B[39;49m\u001B[43mchunksize\u001B[49m\u001B[43m,\u001B[49m\u001B[43m \u001B[49m\u001B[43mmethod\u001B[49m\u001B[38;5;241;43m=\u001B[39;49m\u001B[43mmethod\u001B[49m\u001B[43m)\u001B[49m\n\u001B[0;32m   1559\u001B[0m \u001B[38;5;28;01mexcept\u001B[39;00m exc\u001B[38;5;241m.\u001B[39mStatementError \u001B[38;5;28;01mas\u001B[39;00m err:\n\u001B[0;32m   1560\u001B[0m     \u001B[38;5;66;03m# GH34431\u001B[39;00m\n\u001B[0;32m   1561\u001B[0m     \u001B[38;5;66;03m# https://stackoverflow.com/a/67358288/6067848\u001B[39;00m\n\u001B[0;32m   1562\u001B[0m     msg \u001B[38;5;241m=\u001B[39m \u001B[38;5;124mr\u001B[39m\u001B[38;5;124m\"\"\"\u001B[39m\u001B[38;5;124m(\u001B[39m\u001B[38;5;124m\\\u001B[39m\u001B[38;5;124m(1054, \u001B[39m\u001B[38;5;124m\"\u001B[39m\u001B[38;5;124mUnknown column \u001B[39m\u001B[38;5;124m'\u001B[39m\u001B[38;5;124minf(e0)?\u001B[39m\u001B[38;5;124m'\u001B[39m\u001B[38;5;124m in \u001B[39m\u001B[38;5;124m'\u001B[39m\u001B[38;5;124mfield list\u001B[39m\u001B[38;5;124m'\u001B[39m\u001B[38;5;124m\"\u001B[39m\u001B[38;5;124m\\\u001B[39m\u001B[38;5;124m))(?#\u001B[39m\n\u001B[0;32m   1563\u001B[0m \u001B[38;5;124m    )|inf can not be used with MySQL\u001B[39m\u001B[38;5;124m\"\"\"\u001B[39m\n",
      "File \u001B[1;32m~\\AppData\\Local\\pypoetry\\Cache\\virtualenvs\\united_outdoors-15yGH0-0-py3.11\\Lib\\site-packages\\pandas\\io\\sql.py:1119\u001B[0m, in \u001B[0;36mSQLTable.insert\u001B[1;34m(self, chunksize, method)\u001B[0m\n\u001B[0;32m   1116\u001B[0m     \u001B[38;5;28;01mbreak\u001B[39;00m\n\u001B[0;32m   1118\u001B[0m chunk_iter \u001B[38;5;241m=\u001B[39m \u001B[38;5;28mzip\u001B[39m(\u001B[38;5;241m*\u001B[39m(arr[start_i:end_i] \u001B[38;5;28;01mfor\u001B[39;00m arr \u001B[38;5;129;01min\u001B[39;00m data_list))\n\u001B[1;32m-> 1119\u001B[0m num_inserted \u001B[38;5;241m=\u001B[39m \u001B[43mexec_insert\u001B[49m\u001B[43m(\u001B[49m\u001B[43mconn\u001B[49m\u001B[43m,\u001B[49m\u001B[43m \u001B[49m\u001B[43mkeys\u001B[49m\u001B[43m,\u001B[49m\u001B[43m \u001B[49m\u001B[43mchunk_iter\u001B[49m\u001B[43m)\u001B[49m\n\u001B[0;32m   1120\u001B[0m \u001B[38;5;66;03m# GH 46891\u001B[39;00m\n\u001B[0;32m   1121\u001B[0m \u001B[38;5;28;01mif\u001B[39;00m num_inserted \u001B[38;5;129;01mis\u001B[39;00m \u001B[38;5;129;01mnot\u001B[39;00m \u001B[38;5;28;01mNone\u001B[39;00m:\n",
      "File \u001B[1;32m~\\AppData\\Local\\pypoetry\\Cache\\virtualenvs\\united_outdoors-15yGH0-0-py3.11\\Lib\\site-packages\\pandas\\io\\sql.py:1027\u001B[0m, in \u001B[0;36mSQLTable._execute_insert_multi\u001B[1;34m(self, conn, keys, data_iter)\u001B[0m\n\u001B[0;32m   1025\u001B[0m data \u001B[38;5;241m=\u001B[39m [\u001B[38;5;28mdict\u001B[39m(\u001B[38;5;28mzip\u001B[39m(keys, row)) \u001B[38;5;28;01mfor\u001B[39;00m row \u001B[38;5;129;01min\u001B[39;00m data_iter]\n\u001B[0;32m   1026\u001B[0m stmt \u001B[38;5;241m=\u001B[39m insert(\u001B[38;5;28mself\u001B[39m\u001B[38;5;241m.\u001B[39mtable)\u001B[38;5;241m.\u001B[39mvalues(data)\n\u001B[1;32m-> 1027\u001B[0m result \u001B[38;5;241m=\u001B[39m \u001B[43mconn\u001B[49m\u001B[38;5;241;43m.\u001B[39;49m\u001B[43mexecute\u001B[49m\u001B[43m(\u001B[49m\u001B[43mstmt\u001B[49m\u001B[43m)\u001B[49m\n\u001B[0;32m   1028\u001B[0m \u001B[38;5;28;01mreturn\u001B[39;00m result\u001B[38;5;241m.\u001B[39mrowcount\n",
      "File \u001B[1;32m~\\AppData\\Local\\pypoetry\\Cache\\virtualenvs\\united_outdoors-15yGH0-0-py3.11\\Lib\\site-packages\\sqlalchemy\\engine\\base.py:1418\u001B[0m, in \u001B[0;36mConnection.execute\u001B[1;34m(self, statement, parameters, execution_options)\u001B[0m\n\u001B[0;32m   1416\u001B[0m     \u001B[38;5;28;01mraise\u001B[39;00m exc\u001B[38;5;241m.\u001B[39mObjectNotExecutableError(statement) \u001B[38;5;28;01mfrom\u001B[39;00m \u001B[38;5;21;01merr\u001B[39;00m\n\u001B[0;32m   1417\u001B[0m \u001B[38;5;28;01melse\u001B[39;00m:\n\u001B[1;32m-> 1418\u001B[0m     \u001B[38;5;28;01mreturn\u001B[39;00m \u001B[43mmeth\u001B[49m\u001B[43m(\u001B[49m\n\u001B[0;32m   1419\u001B[0m \u001B[43m        \u001B[49m\u001B[38;5;28;43mself\u001B[39;49m\u001B[43m,\u001B[49m\n\u001B[0;32m   1420\u001B[0m \u001B[43m        \u001B[49m\u001B[43mdistilled_parameters\u001B[49m\u001B[43m,\u001B[49m\n\u001B[0;32m   1421\u001B[0m \u001B[43m        \u001B[49m\u001B[43mexecution_options\u001B[49m\u001B[43m \u001B[49m\u001B[38;5;129;43;01mor\u001B[39;49;00m\u001B[43m \u001B[49m\u001B[43mNO_OPTIONS\u001B[49m\u001B[43m,\u001B[49m\n\u001B[0;32m   1422\u001B[0m \u001B[43m    \u001B[49m\u001B[43m)\u001B[49m\n",
      "File \u001B[1;32m~\\AppData\\Local\\pypoetry\\Cache\\virtualenvs\\united_outdoors-15yGH0-0-py3.11\\Lib\\site-packages\\sqlalchemy\\sql\\elements.py:515\u001B[0m, in \u001B[0;36mClauseElement._execute_on_connection\u001B[1;34m(self, connection, distilled_params, execution_options)\u001B[0m\n\u001B[0;32m    513\u001B[0m     \u001B[38;5;28;01mif\u001B[39;00m TYPE_CHECKING:\n\u001B[0;32m    514\u001B[0m         \u001B[38;5;28;01massert\u001B[39;00m \u001B[38;5;28misinstance\u001B[39m(\u001B[38;5;28mself\u001B[39m, Executable)\n\u001B[1;32m--> 515\u001B[0m     \u001B[38;5;28;01mreturn\u001B[39;00m \u001B[43mconnection\u001B[49m\u001B[38;5;241;43m.\u001B[39;49m\u001B[43m_execute_clauseelement\u001B[49m\u001B[43m(\u001B[49m\n\u001B[0;32m    516\u001B[0m \u001B[43m        \u001B[49m\u001B[38;5;28;43mself\u001B[39;49m\u001B[43m,\u001B[49m\u001B[43m \u001B[49m\u001B[43mdistilled_params\u001B[49m\u001B[43m,\u001B[49m\u001B[43m \u001B[49m\u001B[43mexecution_options\u001B[49m\n\u001B[0;32m    517\u001B[0m \u001B[43m    \u001B[49m\u001B[43m)\u001B[49m\n\u001B[0;32m    518\u001B[0m \u001B[38;5;28;01melse\u001B[39;00m:\n\u001B[0;32m    519\u001B[0m     \u001B[38;5;28;01mraise\u001B[39;00m exc\u001B[38;5;241m.\u001B[39mObjectNotExecutableError(\u001B[38;5;28mself\u001B[39m)\n",
      "File \u001B[1;32m~\\AppData\\Local\\pypoetry\\Cache\\virtualenvs\\united_outdoors-15yGH0-0-py3.11\\Lib\\site-packages\\sqlalchemy\\engine\\base.py:1640\u001B[0m, in \u001B[0;36mConnection._execute_clauseelement\u001B[1;34m(self, elem, distilled_parameters, execution_options)\u001B[0m\n\u001B[0;32m   1628\u001B[0m compiled_cache: Optional[CompiledCacheType] \u001B[38;5;241m=\u001B[39m execution_options\u001B[38;5;241m.\u001B[39mget(\n\u001B[0;32m   1629\u001B[0m     \u001B[38;5;124m\"\u001B[39m\u001B[38;5;124mcompiled_cache\u001B[39m\u001B[38;5;124m\"\u001B[39m, \u001B[38;5;28mself\u001B[39m\u001B[38;5;241m.\u001B[39mengine\u001B[38;5;241m.\u001B[39m_compiled_cache\n\u001B[0;32m   1630\u001B[0m )\n\u001B[0;32m   1632\u001B[0m compiled_sql, extracted_params, cache_hit \u001B[38;5;241m=\u001B[39m elem\u001B[38;5;241m.\u001B[39m_compile_w_cache(\n\u001B[0;32m   1633\u001B[0m     dialect\u001B[38;5;241m=\u001B[39mdialect,\n\u001B[0;32m   1634\u001B[0m     compiled_cache\u001B[38;5;241m=\u001B[39mcompiled_cache,\n\u001B[1;32m   (...)\u001B[0m\n\u001B[0;32m   1638\u001B[0m     linting\u001B[38;5;241m=\u001B[39m\u001B[38;5;28mself\u001B[39m\u001B[38;5;241m.\u001B[39mdialect\u001B[38;5;241m.\u001B[39mcompiler_linting \u001B[38;5;241m|\u001B[39m compiler\u001B[38;5;241m.\u001B[39mWARN_LINTING,\n\u001B[0;32m   1639\u001B[0m )\n\u001B[1;32m-> 1640\u001B[0m ret \u001B[38;5;241m=\u001B[39m \u001B[38;5;28;43mself\u001B[39;49m\u001B[38;5;241;43m.\u001B[39;49m\u001B[43m_execute_context\u001B[49m\u001B[43m(\u001B[49m\n\u001B[0;32m   1641\u001B[0m \u001B[43m    \u001B[49m\u001B[43mdialect\u001B[49m\u001B[43m,\u001B[49m\n\u001B[0;32m   1642\u001B[0m \u001B[43m    \u001B[49m\u001B[43mdialect\u001B[49m\u001B[38;5;241;43m.\u001B[39;49m\u001B[43mexecution_ctx_cls\u001B[49m\u001B[38;5;241;43m.\u001B[39;49m\u001B[43m_init_compiled\u001B[49m\u001B[43m,\u001B[49m\n\u001B[0;32m   1643\u001B[0m \u001B[43m    \u001B[49m\u001B[43mcompiled_sql\u001B[49m\u001B[43m,\u001B[49m\n\u001B[0;32m   1644\u001B[0m \u001B[43m    \u001B[49m\u001B[43mdistilled_parameters\u001B[49m\u001B[43m,\u001B[49m\n\u001B[0;32m   1645\u001B[0m \u001B[43m    \u001B[49m\u001B[43mexecution_options\u001B[49m\u001B[43m,\u001B[49m\n\u001B[0;32m   1646\u001B[0m \u001B[43m    \u001B[49m\u001B[43mcompiled_sql\u001B[49m\u001B[43m,\u001B[49m\n\u001B[0;32m   1647\u001B[0m \u001B[43m    \u001B[49m\u001B[43mdistilled_parameters\u001B[49m\u001B[43m,\u001B[49m\n\u001B[0;32m   1648\u001B[0m \u001B[43m    \u001B[49m\u001B[43melem\u001B[49m\u001B[43m,\u001B[49m\n\u001B[0;32m   1649\u001B[0m \u001B[43m    \u001B[49m\u001B[43mextracted_params\u001B[49m\u001B[43m,\u001B[49m\n\u001B[0;32m   1650\u001B[0m \u001B[43m    \u001B[49m\u001B[43mcache_hit\u001B[49m\u001B[38;5;241;43m=\u001B[39;49m\u001B[43mcache_hit\u001B[49m\u001B[43m,\u001B[49m\n\u001B[0;32m   1651\u001B[0m \u001B[43m\u001B[49m\u001B[43m)\u001B[49m\n\u001B[0;32m   1652\u001B[0m \u001B[38;5;28;01mif\u001B[39;00m has_events:\n\u001B[0;32m   1653\u001B[0m     \u001B[38;5;28mself\u001B[39m\u001B[38;5;241m.\u001B[39mdispatch\u001B[38;5;241m.\u001B[39mafter_execute(\n\u001B[0;32m   1654\u001B[0m         \u001B[38;5;28mself\u001B[39m,\n\u001B[0;32m   1655\u001B[0m         elem,\n\u001B[1;32m   (...)\u001B[0m\n\u001B[0;32m   1659\u001B[0m         ret,\n\u001B[0;32m   1660\u001B[0m     )\n",
      "File \u001B[1;32m~\\AppData\\Local\\pypoetry\\Cache\\virtualenvs\\united_outdoors-15yGH0-0-py3.11\\Lib\\site-packages\\sqlalchemy\\engine\\base.py:1846\u001B[0m, in \u001B[0;36mConnection._execute_context\u001B[1;34m(self, dialect, constructor, statement, parameters, execution_options, *args, **kw)\u001B[0m\n\u001B[0;32m   1844\u001B[0m     \u001B[38;5;28;01mreturn\u001B[39;00m \u001B[38;5;28mself\u001B[39m\u001B[38;5;241m.\u001B[39m_exec_insertmany_context(dialect, context)\n\u001B[0;32m   1845\u001B[0m \u001B[38;5;28;01melse\u001B[39;00m:\n\u001B[1;32m-> 1846\u001B[0m     \u001B[38;5;28;01mreturn\u001B[39;00m \u001B[38;5;28;43mself\u001B[39;49m\u001B[38;5;241;43m.\u001B[39;49m\u001B[43m_exec_single_context\u001B[49m\u001B[43m(\u001B[49m\n\u001B[0;32m   1847\u001B[0m \u001B[43m        \u001B[49m\u001B[43mdialect\u001B[49m\u001B[43m,\u001B[49m\u001B[43m \u001B[49m\u001B[43mcontext\u001B[49m\u001B[43m,\u001B[49m\u001B[43m \u001B[49m\u001B[43mstatement\u001B[49m\u001B[43m,\u001B[49m\u001B[43m \u001B[49m\u001B[43mparameters\u001B[49m\n\u001B[0;32m   1848\u001B[0m \u001B[43m    \u001B[49m\u001B[43m)\u001B[49m\n",
      "File \u001B[1;32m~\\AppData\\Local\\pypoetry\\Cache\\virtualenvs\\united_outdoors-15yGH0-0-py3.11\\Lib\\site-packages\\sqlalchemy\\engine\\base.py:1986\u001B[0m, in \u001B[0;36mConnection._exec_single_context\u001B[1;34m(self, dialect, context, statement, parameters)\u001B[0m\n\u001B[0;32m   1983\u001B[0m     result \u001B[38;5;241m=\u001B[39m context\u001B[38;5;241m.\u001B[39m_setup_result_proxy()\n\u001B[0;32m   1985\u001B[0m \u001B[38;5;28;01mexcept\u001B[39;00m \u001B[38;5;167;01mBaseException\u001B[39;00m \u001B[38;5;28;01mas\u001B[39;00m e:\n\u001B[1;32m-> 1986\u001B[0m     \u001B[38;5;28;43mself\u001B[39;49m\u001B[38;5;241;43m.\u001B[39;49m\u001B[43m_handle_dbapi_exception\u001B[49m\u001B[43m(\u001B[49m\n\u001B[0;32m   1987\u001B[0m \u001B[43m        \u001B[49m\u001B[43me\u001B[49m\u001B[43m,\u001B[49m\u001B[43m \u001B[49m\u001B[43mstr_statement\u001B[49m\u001B[43m,\u001B[49m\u001B[43m \u001B[49m\u001B[43meffective_parameters\u001B[49m\u001B[43m,\u001B[49m\u001B[43m \u001B[49m\u001B[43mcursor\u001B[49m\u001B[43m,\u001B[49m\u001B[43m \u001B[49m\u001B[43mcontext\u001B[49m\n\u001B[0;32m   1988\u001B[0m \u001B[43m    \u001B[49m\u001B[43m)\u001B[49m\n\u001B[0;32m   1990\u001B[0m \u001B[38;5;28;01mreturn\u001B[39;00m result\n",
      "File \u001B[1;32m~\\AppData\\Local\\pypoetry\\Cache\\virtualenvs\\united_outdoors-15yGH0-0-py3.11\\Lib\\site-packages\\sqlalchemy\\engine\\base.py:2353\u001B[0m, in \u001B[0;36mConnection._handle_dbapi_exception\u001B[1;34m(self, e, statement, parameters, cursor, context, is_sub_exec)\u001B[0m\n\u001B[0;32m   2351\u001B[0m \u001B[38;5;28;01melif\u001B[39;00m should_wrap:\n\u001B[0;32m   2352\u001B[0m     \u001B[38;5;28;01massert\u001B[39;00m sqlalchemy_exception \u001B[38;5;129;01mis\u001B[39;00m \u001B[38;5;129;01mnot\u001B[39;00m \u001B[38;5;28;01mNone\u001B[39;00m\n\u001B[1;32m-> 2353\u001B[0m     \u001B[38;5;28;01mraise\u001B[39;00m sqlalchemy_exception\u001B[38;5;241m.\u001B[39mwith_traceback(exc_info[\u001B[38;5;241m2\u001B[39m]) \u001B[38;5;28;01mfrom\u001B[39;00m \u001B[38;5;21;01me\u001B[39;00m\n\u001B[0;32m   2354\u001B[0m \u001B[38;5;28;01melse\u001B[39;00m:\n\u001B[0;32m   2355\u001B[0m     \u001B[38;5;28;01massert\u001B[39;00m exc_info[\u001B[38;5;241m1\u001B[39m] \u001B[38;5;129;01mis\u001B[39;00m \u001B[38;5;129;01mnot\u001B[39;00m \u001B[38;5;28;01mNone\u001B[39;00m\n",
      "File \u001B[1;32m~\\AppData\\Local\\pypoetry\\Cache\\virtualenvs\\united_outdoors-15yGH0-0-py3.11\\Lib\\site-packages\\sqlalchemy\\engine\\base.py:1967\u001B[0m, in \u001B[0;36mConnection._exec_single_context\u001B[1;34m(self, dialect, context, statement, parameters)\u001B[0m\n\u001B[0;32m   1965\u001B[0m                 \u001B[38;5;28;01mbreak\u001B[39;00m\n\u001B[0;32m   1966\u001B[0m     \u001B[38;5;28;01mif\u001B[39;00m \u001B[38;5;129;01mnot\u001B[39;00m evt_handled:\n\u001B[1;32m-> 1967\u001B[0m         \u001B[38;5;28;43mself\u001B[39;49m\u001B[38;5;241;43m.\u001B[39;49m\u001B[43mdialect\u001B[49m\u001B[38;5;241;43m.\u001B[39;49m\u001B[43mdo_execute\u001B[49m\u001B[43m(\u001B[49m\n\u001B[0;32m   1968\u001B[0m \u001B[43m            \u001B[49m\u001B[43mcursor\u001B[49m\u001B[43m,\u001B[49m\u001B[43m \u001B[49m\u001B[43mstr_statement\u001B[49m\u001B[43m,\u001B[49m\u001B[43m \u001B[49m\u001B[43meffective_parameters\u001B[49m\u001B[43m,\u001B[49m\u001B[43m \u001B[49m\u001B[43mcontext\u001B[49m\n\u001B[0;32m   1969\u001B[0m \u001B[43m        \u001B[49m\u001B[43m)\u001B[49m\n\u001B[0;32m   1971\u001B[0m \u001B[38;5;28;01mif\u001B[39;00m \u001B[38;5;28mself\u001B[39m\u001B[38;5;241m.\u001B[39m_has_events \u001B[38;5;129;01mor\u001B[39;00m \u001B[38;5;28mself\u001B[39m\u001B[38;5;241m.\u001B[39mengine\u001B[38;5;241m.\u001B[39m_has_events:\n\u001B[0;32m   1972\u001B[0m     \u001B[38;5;28mself\u001B[39m\u001B[38;5;241m.\u001B[39mdispatch\u001B[38;5;241m.\u001B[39mafter_cursor_execute(\n\u001B[0;32m   1973\u001B[0m         \u001B[38;5;28mself\u001B[39m,\n\u001B[0;32m   1974\u001B[0m         cursor,\n\u001B[1;32m   (...)\u001B[0m\n\u001B[0;32m   1978\u001B[0m         context\u001B[38;5;241m.\u001B[39mexecutemany,\n\u001B[0;32m   1979\u001B[0m     )\n",
      "File \u001B[1;32m~\\AppData\\Local\\pypoetry\\Cache\\virtualenvs\\united_outdoors-15yGH0-0-py3.11\\Lib\\site-packages\\sqlalchemy\\engine\\default.py:924\u001B[0m, in \u001B[0;36mDefaultDialect.do_execute\u001B[1;34m(self, cursor, statement, parameters, context)\u001B[0m\n\u001B[0;32m    923\u001B[0m \u001B[38;5;28;01mdef\u001B[39;00m \u001B[38;5;21mdo_execute\u001B[39m(\u001B[38;5;28mself\u001B[39m, cursor, statement, parameters, context\u001B[38;5;241m=\u001B[39m\u001B[38;5;28;01mNone\u001B[39;00m):\n\u001B[1;32m--> 924\u001B[0m     \u001B[43mcursor\u001B[49m\u001B[38;5;241;43m.\u001B[39;49m\u001B[43mexecute\u001B[49m\u001B[43m(\u001B[49m\u001B[43mstatement\u001B[49m\u001B[43m,\u001B[49m\u001B[43m \u001B[49m\u001B[43mparameters\u001B[49m\u001B[43m)\u001B[49m\n",
      "\u001B[1;31mDataError\u001B[0m: (pyodbc.DataError) ('22003', \"[22003] [Microsoft][ODBC SQL Server Driver][SQL Server]The conversion of the nvarchar value '4045552341' overflowed an int column. (248) (SQLParamData); [22003] [Microsoft][ODBC SQL Server Driver][SQL Server]The statement has been terminated. (3621)\")\n[SQL: INSERT INTO dbo.[Employee] ([EMPLOYEE_EMPLOYEE_EmployeeID], [EMPLOYEE_EMPLOYEE_DeptID], [EMPLOYEE_EMPLOYEE_ManagerID], [EMPLOYEE_EMPLOYEETERRITORIES_TerritoryID], [EMPLOYEE_EMPLOYEE_Emp_Fname], [EMPLOYEE_EMPLOYEE_Emp_Lname], [EMPLOYEE_EMPLOYEE_Street], [EMPLOYEE_EMPLOYEE_City], [EMPLOYEE_EMPLOYEE_State], [EMPLOYEE_EMPLOYEE_Zip_Code], [EMPLOYEE_EMPLOYEE_Phone], [EMPLOYEE_EMPLOYEE_Status], [EMPLOYEE_EMPLOYEE_SS_Number], [EMPLOYEE_EMPLOYEE_Salary], [EMPLOYEE_EMPLOYEE_Start_Date], [EMPLOYEE_EMPLOYEE_Termination], [EMPLOYEE_EMPLOYEE_Birth_Date], [EMPLOYEE_EMPLOYEE_Bene_Health_Ins], [EMPLOYEE_EMPLOYEE_Bene_Life_Ins], [EMPLOYEE_EMPLOYEE_Bene_Day_Care], [EMPLOYEE_EMPLOYEE_Sex], [EMPLOYEE_BONUS_Bonus_Date], [EMPLOYEE_BONUS_Bonus_Amount], [EMPLOYEE_EMPLOYEES_Title], [EMPLOYEE_EMPLOYEES_TitleOfCourtesy], [EMPLOYEE_EMPLOYEES_HireDate], [EMPLOYEE_EMPLOYEES_HomePhone], [EMPLOYEE_EMPLOYEES_Extension], [EMPLOYEE_EMPLOYEES_Photo], [EMPLOYEE_EMPLOYEES_PhotoPath], [EMPLOYEE_EMPLOYEES_Notes]) VALUES (?, ?, ?, ?, ?, ?, ?, ?, ?, ?, ?, ?, ?, ?, ?, ?, ?, ?, ?, ?, ?, ?, ?, ?, ?, ?, ?, ?, ?, ?, ?), (?, ?, ?, ?, ?, ?, ?, ?, ?, ?, ?, ?, ?, ?, ?, ?, ?, ?, ?, ?, ?, ?, ?, ?, ?, ?, ?, ?, ?, ?, ?), (?, ?, ?, ?, ?, ?, ?, ?, ?, ?, ?, ?, ?, ?, ?, ?, ?, ?, ?, ?, ?, ?, ?, ?, ?, ?, ?, ?, ?, ?, ?), (?, ?, ?, ?, ?, ?, ?, ?, ?, ?, ?, ?, ?, ?, ?, ?, ?, ?, ?, ?, ?, ?, ?, ?, ?, ?, ?, ?, ?, ?, ?), (?, ?, ?, ?, ?, ?, ?, ?, ?, ?, ?, ?, ?, ?, ?, ?, ?, ?, ?, ?, ?, ?, ?, ?, ?, ?, ?, ?, ?, ?, ?), (?, ?, ?, ?, ?, ?, ?, ?, ?, ?, ?, ?, ?, ?, ?, ?, ?, ?, ?, ?, ?, ?, ?, ?, ?, ?, ?, ?, ?, ?, ?), (?, ?, ?, ?, ?, ?, ?, ?, ?, ?, ?, ?, ?, ?, ?, ?, ?, ?, ?, ?, ?, ?, ?, ?, ?, ?, ?, ?, ?, ?, ?), (?, ?, ?, ?, ?, ?, ?, ?, ?, ?, ?, ?, ?, ?, ?, ?, ?, ?, ?, ?, ?, ?, ?, ?, ?, ?, ?, ?, ?, ?, ?), (?, ?, ?, ?, ?, ?, ?, ?, ?, ?, ?, ?, ?, ?, ?, ?, ?, ?, ?, ?, ?, ?, ?, ?, ?, ?, ?, ?, ?, ?, ?), (?, ?, ?, ?, ?, ?, ?, ?, ?, ?, ?, ?, ?, ?, ?, ?, ?, ?, ?, ?, ?, ?, ?, ?, ?, ?, ?, ?, ?, ?, ?), (?, ?, ?, ?, ?, ?, ?, ?, ?, ?, ?, ?, ?, ?, ?, ?, ?, ?, ?, ?, ?, ?, ?, ?, ?, ?, ?, ?, ?, ?, ?), (?, ?, ?, ?, ?, ?, ?, ?, ?, ?, ?, ?, ?, ?, ?, ?, ?, ?, ?, ?, ?, ?, ?, ?, ?, ?, ?, ?, ?, ?, ?), (?, ?, ?, ?, ?, ?, ?, ?, ?, ?, ?, ?, ?, ?, ?, ?, ?, ?, ?, ?, ?, ?, ?, ?, ?, ?, ?, ?, ?, ?, ?), (?, ?, ?, ?, ?, ?, ?, ?, ?, ?, ?, ?, ?, ?, ?, ?, ?, ?, ?, ?, ?, ?, ?, ?, ?, ?, ?, ?, ?, ?, ?), (?, ?, ?, ?, ?, ?, ?, ?, ?, ?, ?, ?, ?, ?, ?, ?, ?, ?, ?, ?, ?, ?, ?, ?, ?, ?, ?, ?, ?, ?, ?), (?, ?, ?, ?, ?, ?, ?, ?, ?, ?, ?, ?, ?, ?, ?, ?, ?, ?, ?, ?, ?, ?, ?, ?, ?, ?, ?, ?, ?, ?, ?), (?, ?, ?, ?, ?, ?, ?, ?, ?, ?, ?, ?, ?, ?, ?, ?, ?, ?, ?, ?, ?, ?, ?, ?, ?, ?, ?, ?, ?, ?, ?), (?, ?, ?, ?, ?, ?, ?, ?, ?, ?, ?, ?, ?, ?, ?, ?, ?, ?, ?, ?, ?, ?, ?, ?, ?, ?, ?, ?, ?, ?, ?), (?, ?, ?, ?, ?, ?, ?, ?, ?, ?, ?, ?, ?, ?, ?, ?, ?, ?, ?, ?, ?, ?, ?, ?, ?, ?, ?, ?, ?, ?, ?), (?, ?, ?, ?, ?, ?, ?, ?, ?, ?, ?, ?, ?, ?, ?, ?, ?, ?, ?, ?, ?, ?, ?, ?, ?, ?, ?, ?, ?, ?, ?), (?, ?, ?, ?, ?, ?, ?, ?, ?, ?, ?, ?, ?, ?, ?, ?, ?, ?, ?, ?, ?, ?, ?, ?, ?, ?, ?, ?, ?, ?, ?), (?, ?, ?, ?, ?, ?, ?, ?, ?, ?, ?, ?, ?, ?, ?, ?, ?, ?, ?, ?, ?, ?, ?, ?, ?, ?, ?, ?, ?, ?, ?), (?, ?, ?, ?, ?, ?, ?, ?, ?, ?, ?, ?, ?, ?, ?, ?, ?, ?, ?, ?, ?, ?, ?, ?, ?, ?, ?, ?, ?, ?, ?), (?, ?, ?, ?, ?, ?, ?, ?, ?, ?, ?, ?, ?, ?, ?, ?, ?, ?, ?, ?, ?, ?, ?, ?, ?, ?, ?, ?, ?, ?, ?), (?, ?, ?, ?, ?, ?, ?, ?, ?, ?, ?, ?, ?, ?, ?, ?, ?, ?, ?, ?, ?, ?, ?, ?, ?, ?, ?, ?, ?, ?, ?), (?, ?, ?, ?, ?, ?, ?, ?, ?, ?, ?, ?, ?, ?, ?, ?, ?, ?, ?, ?, ?, ?, ?, ?, ?, ?, ?, ?, ?, ?, ?), (?, ?, ?, ?, ?, ?, ?, ?, ?, ?, ?, ?, ?, ?, ?, ?, ?, ?, ?, ?, ?, ?, ?, ?, ?, ?, ?, ?, ?, ?, ?), (?, ?, ?, ?, ?, ?, ?, ?, ?, ?, ?, ?, ?, ?, ?, ?, ?, ?, ?, ?, ?, ?, ?, ?, ?, ?, ?, ?, ?, ?, ?), (?, ?, ?, ?, ?, ?, ?, ?, ?, ?, ?, ?, ?, ?, ?, ?, ?, ?, ?, ?, ?, ?, ?, ?, ?, ?, ?, ?, ?, ?, ?), (?, ?, ?, ?, ?, ?, ?, ?, ?, ?, ?, ?, ?, ?, ?, ?, ?, ?, ?, ?, ?, ?, ?, ?, ?, ?, ?, ?, ?, ?, ?), (?, ?, ?, ?, ?, ?, ?, ?, ?, ?, ?, ?, ?, ?, ?, ?, ?, ?, ?, ?, ?, ?, ?, ?, ?, ?, ?, ?, ?, ?, ?), (?, ?, ?, ?, ?, ?, ?, ?, ?, ?, ?, ?, ?, ?, ?, ?, ?, ?, ?, ?, ?, ?, ?, ?, ?, ?, ?, ?, ?, ?, ?), (?, ?, ?, ?, ?, ?, ?, ?, ?, ?, ?, ?, ?, ?, ?, ?, ?, ?, ?, ?, ?, ?, ?, ?, ?, ?, ?, ?, ?, ?, ?), (?, ?, ?, ?, ?, ?, ?, ?, ?, ?, ?, ?, ?, ?, ?, ?, ?, ?, ?, ?, ?, ?, ?, ?, ?, ?, ?, ?, ?, ?, ?), (?, ?, ?, ?, ?, ?, ?, ?, ?, ?, ?, ?, ?, ?, ?, ?, ?, ?, ?, ?, ?, ?, ?, ?, ?, ?, ?, ?, ?, ?, ?), (?, ?, ?, ?, ?, ?, ?, ?, ?, ?, ?, ?, ?, ?, ?, ?, ?, ?, ?, ?, ?, ?, ?, ?, ?, ?, ?, ?, ?, ?, ?), (?, ?, ?, ?, ?, ?, ?, ?, ?, ?, ?, ?, ?, ?, ?, ?, ?, ?, ?, ?, ?, ?, ?, ?, ?, ?, ?, ?, ?, ?, ?), (?, ?, ?, ?, ?, ?, ?, ?, ?, ?, ?, ?, ?, ?, ?, ?, ?, ?, ?, ?, ?, ?, ?, ?, ?, ?, ?, ?, ?, ?, ?), (?, ?, ?, ?, ?, ?, ?, ?, ?, ?, ?, ?, ?, ?, ?, ?, ?, ?, ?, ?, ?, ?, ?, ?, ?, ?, ?, ?, ?, ?, ?), (?, ?, ?, ?, ?, ?, ?, ?, ?, ?, ?, ?, ?, ?, ?, ?, ?, ?, ?, ?, ?, ?, ?, ?, ?, ?, ?, ?, ?, ?, ?), (?, ?, ?, ?, ?, ?, ?, ?, ?, ?, ?, ?, ?, ?, ?, ?, ?, ?, ?, ?, ?, ?, ?, ?, ?, ?, ?, ?, ?, ?, ?), (?, ?, ?, ?, ?, ?, ?, ?, ?, ?, ?, ?, ?, ?, ?, ?, ?, ?, ?, ?, ?, ?, ?, ?, ?, ?, ?, ?, ?, ?, ?), (?, ?, ?, ?, ?, ?, ?, ?, ?, ?, ?, ?, ?, ?, ?, ?, ?, ?, ?, ?, ?, ?, ?, ?, ?, ?, ?, ?, ?, ?, ?), (?, ?, ?, ?, ?, ?, ?, ?, ?, ?, ?, ?, ?, ?, ?, ?, ?, ?, ?, ?, ?, ?, ?, ?, ?, ?, ?, ?, ?, ?, ?), (?, ?, ?, ?, ?, ?, ?, ?, ?, ?, ?, ?, ?, ?, ?, ?, ?, ?, ?, ?, ?, ?, ?, ?, ?, ?, ?, ?, ?, ?, ?), (?, ?, ?, ?, ?, ?, ?, ?, ?, ?, ?, ?, ?, ?, ?, ?, ?, ?, ?, ?, ?, ?, ?, ?, ?, ?, ?, ?, ?, ?, ?), (?, ?, ?, ?, ?, ?, ?, ?, ?, ?, ?, ?, ?, ?, ?, ?, ?, ?, ?, ?, ?, ?, ?, ?, ?, ?, ?, ?, ?, ?, ?), (?, ?, ?, ?, ?, ?, ?, ?, ?, ?, ?, ?, ?, ?, ?, ?, ?, ?, ?, ?, ?, ?, ?, ?, ?, ?, ?, ?, ?, ?, ?), (?, ?, ?, ?, ?, ?, ?, ?, ?, ?, ?, ?, ?, ?, ?, ?, ?, ?, ?, ?, ?, ?, ?, ?, ?, ?, ?, ?, ?, ?, ?), (?, ?, ?, ?, ?, ?, ?, ?, ?, ?, ?, ?, ?, ?, ?, ?, ?, ?, ?, ?, ?, ?, ?, ?, ?, ?, ?, ?, ?, ?, ?), (?, ?, ?, ?, ?, ?, ?, ?, ?, ?, ?, ?, ?, ?, ?, ?, ?, ?, ?, ?, ?, ?, ?, ?, ?, ?, ?, ?, ?, ?, ?), (?, ?, ?, ?, ?, ?, ?, ?, ?, ?, ?, ?, ?, ?, ?, ?, ?, ?, ?, ?, ?, ?, ?, ?, ?, ?, ?, ?, ?, ?, ?), (?, ?, ?, ?, ?, ?, ?, ?, ?, ?, ?, ?, ?, ?, ?, ?, ?, ?, ?, ?, ?, ?, ?, ?, ?, ?, ?, ?, ?, ?, ?), (?, ?, ?, ?, ?, ?, ?, ?, ?, ?, ?, ?, ?, ?, ?, ?, ?, ?, ?, ?, ?, ?, ?, ?, ?, ?, ?, ?, ?, ?, ?), (?, ?, ?, ?, ?, ?, ?, ?, ?, ?, ?, ?, ?, ?, ?, ?, ?, ?, ?, ?, ?, ?, ?, ?, ?, ?, ?, ?, ?, ?, ?), (?, ?, ?, ?, ?, ?, ?, ?, ?, ?, ?, ?, ?, ?, ?, ?, ?, ?, ?, ?, ?, ?, ?, ?, ?, ?, ?, ?, ?, ?, ?), (?, ?, ?, ?, ?, ?, ?, ?, ?, ?, ?, ?, ?, ?, ?, ?, ?, ?, ?, ?, ?, ?, ?, ?, ?, ?, ?, ?, ?, ?, ?), (?, ?, ?, ?, ?, ?, ?, ?, ?, ?, ?, ?, ?, ?, ?, ?, ?, ?, ?, ?, ?, ?, ?, ?, ?, ?, ?, ?, ?, ?, ?), (?, ?, ?, ?, ?, ?, ?, ?, ?, ?, ?, ?, ?, ?, ?, ?, ?, ?, ?, ?, ?, ?, ?, ?, ?, ?, ?, ?, ?, ?, ?), (?, ?, ?, ?, ?, ?, ?, ?, ?, ?, ?, ?, ?, ?, ?, ?, ?, ?, ?, ?, ?, ?, ?, ?, ?, ?, ?, ?, ?, ?, ?), (?, ?, ?, ?, ?, ?, ?, ?, ?, ?, ?, ?, ?, ?, ?, ?, ?, ?, ?, ?, ?, ?, ?, ?, ?, ?, ?, ?, ?, ?, ?), (?, ?, ?, ?, ?, ?, ?, ?, ?, ?, ?, ?, ?, ?, ?, ?, ?, ?, ?, ?, ?, ?, ?, ?, ?, ?, ?, ?, ?, ?, ?), (?, ?, ?, ?, ?, ?, ?, ?, ?, ?, ?, ?, ?, ?, ?, ?, ?, ?, ?, ?, ?, ?, ?, ?, ?, ?, ?, ?, ?, ?, ?), (?, ?, ?, ?, ?, ?, ?, ?, ?, ?, ?, ?, ?, ?, ?, ?, ?, ?, ?, ?, ?, ?, ?, ?, ?, ?, ?, ?, ?, ?, ?)]\n[parameters: (None, None, None, None, None, None, None, None, None, None, None, None, None, None, None, None, None, None, None, None, None, None, None, 'Sales Representative', 'Ms.', datetime.datetime(1992, 5, 1, 0, 0), None, '5467', b'\\x15\\x1c/\\x00\\x02\\x00\\x00\\x00\\r\\x00\\x0e\\x00\\x14\\x00!\\x00\\xff\\xff\\xff\\xffBitmap Image\\x00Paint.Picture\\x00\\x01\\x05\\x00\\x00\\x02\\x00\\x00\\x00\\x07\\x00\\x0 ... (80909 characters truncated) ... 0\\x00\\x00\\x00\\x00\\x00\\x00\\x00\\x00\\x00\\x00\\x00\\x00\\x00\\x00\\x00\\x00\\x00\\x00\\x00\\x00\\x00\\x00\\x00\\x00\\x00\\x01\\x05\\x00\\x00\\x00\\x00\\x00\\x00\\xb4\\xad\\x05\\xfe', 'http://accweb/emmployees/davolio.bmp', 'Education includes a BA in psychology from Colorado State University in 1970.  She also completed \"The Art of the Cold Call.\"  Nancy is a member of Toastmasters International.', None, None, None, None, None, None, None, None, None, None, None, None, None, None, None, None, None, None, None ... 1884 parameters truncated ... '034281032', 49500.0, '1990-01-07', None, '1953-11-09', 'Y', 'Y', 'N', 'M', '1997-12-31', 300.0, None, None, None, None, None, None, None, None, 467.0, 200.0, 902.0, None, 'James', 'Klobucher', '18 Corning Street', 'Houston', 'TX', '77079', '7135558627', 'A', '034281032', 49500.0, '1990-01-07', None, '1953-11-09', 'Y', 'Y', 'N', 'M', '1998-12-31', 300.0, None, None, None, None, None, None, None, None)]\n(Background on this error at: https://sqlalche.me/e/20/9h9h)"
     ]
    }
   ],
   "execution_count": 35
  },
  {
   "cell_type": "markdown",
   "id": "7f4a7061f4f0105c",
   "metadata": {},
   "source": [
    "### BusinessEntities"
   ]
  },
  {
   "cell_type": "code",
   "id": "a3d497d845c8eda2",
   "metadata": {
    "ExecuteTime": {
     "end_time": "2024-05-18T14:24:49.432759Z",
     "start_time": "2024-05-18T14:24:39.769284Z"
    }
   },
   "source": [
    "businessentities_dtypes = {\n",
    "    'BUSINESSENTITY_BUSINESSENTITY_BusinessEntityID': Integer,\n",
    "    'BUSINESSENTITY_BUSINESSENTITYCONTACT_PersonID': Integer,\n",
    "    'BUSINESSENTITY_CONTACTTYPE_ContactTypeID': Integer,\n",
    "    'BUSINESSENTITY_CONTACTTYPE_Name': String(100)\n",
    "}\n",
    "\n",
    "businessentities_nk_sk_dict = prepare_and_insert_return_sk(businessentities, businessentities_dtypes, 'BusinessEntity', 'BUSINESSENTITY_BUSINESSENTITY_BusinessEntityID')"
   ],
   "outputs": [
    {
     "name": "stdout",
     "output_type": "stream",
     "text": [
      "Inserting data into table: BusinessEntity with chunk size: 500\n"
     ]
    }
   ],
   "execution_count": 36
  },
  {
   "cell_type": "markdown",
   "id": "aecb5657d108d5ac",
   "metadata": {},
   "source": [
    "### People"
   ]
  },
  {
   "cell_type": "code",
   "id": "11d58a830e84bcf6",
   "metadata": {
    "ExecuteTime": {
     "end_time": "2024-05-18T14:26:18.695573Z",
     "start_time": "2024-05-18T14:24:49.435875Z"
    }
   },
   "source": [
    "people_dtypes = {\n",
    "    'PERSON_PERSON_BusinessEntityID': Integer,\n",
    "    'PERSON_PERSON_PersonType': String(2),\n",
    "    'PERSON_PERSON_NameStyle': BIT,\n",
    "    'PERSON_PERSON_Title': String(100),\n",
    "    'PERSON_PERSON_FirstName': String(100),\n",
    "    'PERSON_PERSON_MiddleName': String(100),\n",
    "    'PERSON_PERSON_LastName': String(100),\n",
    "    'PERSON_PERSON_Suffix': String(100),\n",
    "    'PERSON_PERSON_EmailPromotion': Integer,\n",
    "    'PERSON_PERSON_AdditionalContactInfo': XML,\n",
    "    'PERSON_PERSON_Demographics': XML,\n",
    "    'PERSON_PERSONPHONE_PhoneNumber': String(100),\n",
    "    'PERSON_PHONENUMBERTYPE_PhoneNumberTypeID': Integer,\n",
    "    'PERSON_PHONENUMBERTYPE_Name': String(100),\n",
    "    'PERSON_EMAILADDRESS_EmailAddressID': Integer,\n",
    "    'PERSON_EMAILADDRESS_EmailAddress': String(100),\n",
    "    'PERSON_PASSWORD_PasswordHash': LargeBinary,\n",
    "    'PERSON_PASSWORD_PasswordSalt': LargeBinary\n",
    "}\n",
    "\n",
    "# Convert the 'PERSON_PASSWORD_PasswordHash' and 'PERSON_PASSWORD_PasswordSalt' columns to bytes\n",
    "people['PERSON_PASSWORD_PasswordHash'] = people['PERSON_PASSWORD_PasswordHash'].apply(lambda x: x.encode('utf-8') if isinstance(x, str) else x)\n",
    "people['PERSON_PASSWORD_PasswordSalt'] = people['PERSON_PASSWORD_PasswordSalt'].apply(lambda x: x.encode('utf-8') if isinstance(x, str) else x)\n",
    "\n",
    "prepare_and_insert(people, people_dtypes, 'Person', { 'PERSON_PERSON_BusinessEntityID' : businessentities_nk_sk_dict})"
   ],
   "outputs": [
    {
     "name": "stdout",
     "output_type": "stream",
     "text": [
      "Replacing natural keys with surrogate keys for column: PERSON_PERSON_BusinessEntityID\n",
      "Inserting data into table: Person with chunk size: 111\n"
     ]
    }
   ],
   "execution_count": 37
  },
  {
   "cell_type": "markdown",
   "id": "11006cc84f78e74b",
   "metadata": {},
   "source": [
    "### Updating the BusinessEntity table\n",
    "replacing the natural keys with the surrogate keys for the PersonID column"
   ]
  },
  {
   "cell_type": "code",
   "id": "b3d0989f3e6c628e",
   "metadata": {
    "ExecuteTime": {
     "end_time": "2024-05-18T14:28:22.210579Z",
     "start_time": "2024-05-18T14:26:18.698589Z"
    }
   },
   "source": "prepare_and_update('BusinessEntity', united_outdoors_engine, { 'BUSINESSENTITY_BUSINESSENTITYCONTACT_PersonID' : businessentities_nk_sk_dict})",
   "outputs": [
    {
     "name": "stdout",
     "output_type": "stream",
     "text": [
      "Updating data in table: BusinessEntity\n"
     ]
    }
   ],
   "execution_count": 38
  },
  {
   "cell_type": "markdown",
   "id": "d2114350a545ae1c",
   "metadata": {},
   "source": [
    "### BusinessEntityAddresses"
   ]
  },
  {
   "cell_type": "code",
   "id": "45e9b08d3f43e42c",
   "metadata": {
    "ExecuteTime": {
     "end_time": "2024-05-18T14:28:51.181699Z",
     "start_time": "2024-05-18T14:28:22.212683Z"
    }
   },
   "source": [
    "businessentityaddresses_dtypes = {\n",
    "    'BUSINESSENTITYADDRESS_BUSINESSENTITYADDRESS_BusinessEntityID': Integer,\n",
    "    'BUSINESSENTITYADDRESS_ADDRESSTYPE_AddressTypeID': Integer,\n",
    "    'BUSINESSENTITYADDRESS_ADDRESSTYPE_Name': String(100),\n",
    "    'BUSINESSENTITYADDRESS_ADDRESS_AddressID': Integer,\n",
    "    'BUSINESSENTITYADDRESS_ADDRESS_AddressLine1': String(100),\n",
    "    'BUSINESSENTITYADDRESS_ADDRESS_AddressLine2': String(100),\n",
    "    'BUSINESSENTITYADDRESS_ADDRESS_City': String(100),\n",
    "    'BUSINESSENTITYADDRESS_ADDRESS_POSTALCODE': String(100),\n",
    "    'BUSINESSENTITYADDRESS_ADDRESS_SpatialLocation': VARCHAR,\n",
    "    'BUSINESSENTITYADDRESS_ADDRESS_StateProvinceID': Integer\n",
    "}\n",
    "\n",
    "# TODO the StateProvinceID needs to refer to sk of Territory\n",
    "prepare_and_insert(businessentityaddresses, businessentityaddresses_dtypes , 'BusinessEntityAddress', { 'BUSINESSENTITYADDRESS_BUSINESSENTITYADDRESS_BusinessEntityID' : businessentities_nk_sk_dict, 'BUSINESSENTITYADDRESS_ADDRESS_StateProvinceID' : {}})"
   ],
   "outputs": [
    {
     "name": "stdout",
     "output_type": "stream",
     "text": [
      "Replacing natural keys with surrogate keys for column: BUSINESSENTITYADDRESS_BUSINESSENTITYADDRESS_BusinessEntityID\n",
      "Replacing natural keys with surrogate keys for column: BUSINESSENTITYADDRESS_ADDRESS_StateProvinceID\n",
      "Inserting data into table: BusinessEntityAddress with chunk size: 200\n"
     ]
    }
   ],
   "execution_count": 39
  },
  {
   "cell_type": "markdown",
   "id": "5e8f7f3967596334",
   "metadata": {},
   "source": [
    "### Products (TODO CHANGE)"
   ]
  },
  {
   "cell_type": "code",
   "id": "aa239c08dbe1292a",
   "metadata": {
    "ExecuteTime": {
     "end_time": "2024-05-18T14:30:53.037829Z",
     "start_time": "2024-05-18T14:28:51.183092Z"
    }
   },
   "source": [
    "products_dtypes = {\n",
    "    'ProductID': Integer,\n",
    "    'ProductName': NVARCHAR(50),\n",
    "    'SupplierID': Integer,\n",
    "    'CategoryID': Integer,\n",
    "    'QuantityPerUnit': NVARCHAR(30),\n",
    "    'UnitPrice': MONEY,\n",
    "    'UnitsInStock': Integer,\n",
    "    'UnitsOnOrder': Integer,\n",
    "    'ReorderLevel': Integer,\n",
    "    'Discontinued': BIT,\n",
    "    'Description': NVARCHAR,\n",
    "    'ProdSize': NVARCHAR(50),\n",
    "    'Color': NVARCHAR(15),\n",
    "    'Quantity': Integer,\n",
    "    'picture_name': NVARCHAR(50),\n",
    "    'Category': NVARCHAR(20),\n",
    "    'Name': NVARCHAR(50),\n",
    "    'ProductNumber': NVARCHAR(25),\n",
    "    'MakeFlag': BIT,\n",
    "    'FinishedGoodsFlag': BIT,\n",
    "    'SafetyStockLevel': Integer,\n",
    "    'ReorderPoint': Integer,\n",
    "    'StandardCost': DECIMAL(8,4),\n",
    "    'ListPrice': MONEY,\n",
    "    'Size': NVARCHAR(5),\n",
    "    'SizeUnitMeasureCode': CHAR(2),\n",
    "    'WeightUnitMeasureCode': NVARCHAR(3),\n",
    "    'Weight': DECIMAL(8,2),\n",
    "    'DaysToManufacture': Integer,\n",
    "    'ProductLine': CHAR(1),\n",
    "    'Class': CHAR(1),\n",
    "    'Style': CHAR(1),\n",
    "    'ProductSubcategoryID': Integer,\n",
    "    'ProductModelID': Integer,\n",
    "    'SellStartDate': DATE,\n",
    "    'SellEndDate': DATE,\n",
    "    'DiscontinuedDate': DATE,\n",
    "    'ModifiedDate': DATE,\n",
    "    'ProductCategoryID': Integer,\n",
    "    'ProductDescriptionID': Integer,\n",
    "    'CatalogDescription': XML,\n",
    "    'Instructions': XML,\n",
    "    'IllustrationID': Integer,\n",
    "    'CultureID': NVARCHAR(10),\n",
    "    'ProductPhotoID': Integer,\n",
    "    'ThumbNailPhotoHexString': String,\n",
    "    'ThumbnailPhotoFileName': NVARCHAR(50),\n",
    "    'LargePhotoHexString': String,\n",
    "    'LargePhotoFileName': NVARCHAR(50),\n",
    "    'Primary': BIT\n",
    "}\n",
    "\n",
    "prepare_and_insert(products, products_dtypes, 'Product')"
   ],
   "outputs": [
    {
     "name": "stdout",
     "output_type": "stream",
     "text": [
      "Inserting data into table: Product with chunk size: 39\n"
     ]
    }
   ],
   "execution_count": 40
  },
  {
   "cell_type": "markdown",
   "id": "12bc871ab33902f9",
   "metadata": {},
   "source": [
    "### Regions (TODO CHANGE)"
   ]
  },
  {
   "cell_type": "code",
   "id": "6c4dad1df2d6521a",
   "metadata": {
    "ExecuteTime": {
     "end_time": "2024-05-18T14:30:53.611547Z",
     "start_time": "2024-05-18T14:30:53.040843Z"
    }
   },
   "source": [
    "regions_dtypes = {\n",
    "    'RegionID': Integer,\n",
    "    'RegionName': VARCHAR(10),\n",
    "    'StateProvinceID': Integer,\n",
    "    'StateProvinceCode': VARCHAR(10),\n",
    "    'CountryRegionCode': CHAR(2),\n",
    "    'IsOnlyStateProvinceFlag': BIT,\n",
    "    'Name': VARCHAR(50),\n",
    "    'TerritoryID': Integer,\n",
    "    'ModifiedDate': DATE\n",
    "}\n",
    "\n",
    "regions['StateProvinceCode'] = regions['StateProvinceCode'].astype(str)\n",
    "\n",
    "prepare_and_insert(regions, regions_dtypes, 'Region')"
   ],
   "outputs": [
    {
     "name": "stdout",
     "output_type": "stream",
     "text": [
      "Inserting data into table: Region with chunk size: 200\n"
     ]
    }
   ],
   "execution_count": 41
  },
  {
   "cell_type": "markdown",
   "id": "d55f2fc2fe81836b",
   "metadata": {},
   "source": [
    "### Customers"
   ]
  },
  {
   "cell_type": "code",
   "id": "cef7756bacfaf1f6",
   "metadata": {
    "ExecuteTime": {
     "end_time": "2024-05-18T14:32:06.105803Z",
     "start_time": "2024-05-18T14:30:53.614793Z"
    }
   },
   "source": [
    "customers_dtypes = {\n",
    "    'CUSTOMER_CUSTOMERS_ID': Integer,\n",
    "    'CUSTOMER_CUSTOMER_PersonID': Integer,\n",
    "    'CUSTOMER_CUSTOMER_StoreID': Integer,\n",
    "    'CUSTOMER_CUSTOMER_TerritoryID': Integer,\n",
    "    'CUSTOMER_CUSTOMER_AccountNumber': CHAR(10),\n",
    "    'CUSTOMER_CUSTOMERS_CompanyName': NVARCHAR(100),\n",
    "    'CUSTOMER_CUSTOMERS_ContactName': NVARCHAR(255),\n",
    "    'CUSTOMER_CUSTOMERS_ContactTitle': NVARCHAR(100),\n",
    "    'CUSTOMER_CUSTOMERS_Address': NVARCHAR(255),\n",
    "    'CUSTOMER_CUSTOMERS_City': NVARCHAR(100),\n",
    "    'CUSTOMER_CUSTOMERS_Region': NVARCHAR(50),\n",
    "    'CUSTOMER_CUSTOMERS_PostalCode': NVARCHAR(20),\n",
    "    'CUSTOMER_CUSTOMERS_Country': NVARCHAR(150),\n",
    "    'CUSTOMER_CUSTOMERS_Phone': NVARCHAR(24),\n",
    "    'CUSTOMER_CUSTOMERS_Fax': NVARCHAR(24),\n",
    "    'CUSTOMER_CUSTOMER_Fname': NVARCHAR(255),\n",
    "    'CUSTOMER_CUSTOMER_Lname': NVARCHAR(255),\n",
    "    'CUSTOMER_CUSTOMER_State': CHAR(2)\n",
    "}\n",
    "\n",
    "prepare_and_insert(customers, customers_dtypes, 'Customer')"
   ],
   "outputs": [
    {
     "name": "stdout",
     "output_type": "stream",
     "text": [
      "Inserting data into table: Customer with chunk size: 111\n"
     ]
    }
   ],
   "execution_count": 42
  },
  {
   "cell_type": "markdown",
   "id": "d5d5a350eb3857a5",
   "metadata": {},
   "source": [
    "## Constraints\n",
    "altering the tables to add the (foreign key) constraints"
   ]
  },
  {
   "cell_type": "code",
   "id": "4dbf2fec9d092308",
   "metadata": {
    "ExecuteTime": {
     "end_time": "2024-05-18T14:32:06.243728Z",
     "start_time": "2024-05-18T14:32:06.106813Z"
    }
   },
   "source": [
    "# opening the UnitedOutdoors_constraints.sql file\n",
    "with open('sql/UnitedOutdoors_constraints.sql', 'r') as file:\n",
    "    sql_script = file.read()\n",
    "\n",
    "# Execute the script\n",
    "split_and_execute_sql_script(sql_script, united_outdoors_engine)"
   ],
   "outputs": [],
   "execution_count": 43
  },
  {
   "cell_type": "markdown",
   "id": "1673fad4818f5f48",
   "metadata": {},
   "source": [
    "# Closing connections"
   ]
  },
  {
   "metadata": {
    "ExecuteTime": {
     "end_time": "2024-05-18T14:32:06.250805Z",
     "start_time": "2024-05-18T14:32:06.244745Z"
    }
   },
   "cell_type": "code",
   "source": [
    "try:\n",
    "    united_outdoors_engine.dispose()\n",
    "    northwind_engine.dispose()\n",
    "    aenc_engine.dispose()\n",
    "    adventureworks_engine.dispose()\n",
    "except OperationalError as e:\n",
    "        print(f'Error: {e}')"
   ],
   "id": "2a4259c5e0c58141",
   "outputs": [],
   "execution_count": 44
  },
  {
   "metadata": {},
   "cell_type": "markdown",
   "source": "# Time elapsed",
   "id": "b1d6b6117945a5a2"
  },
  {
   "metadata": {
    "ExecuteTime": {
     "end_time": "2024-05-18T14:32:06.259383Z",
     "start_time": "2024-05-18T14:32:06.252813Z"
    }
   },
   "cell_type": "code",
   "source": [
    "end_time = time.time()\n",
    "\n",
    "print(f'Time elapsed: {end_time - start_time} seconds')"
   ],
   "id": "42880bbb8e6dc3e0",
   "outputs": [
    {
     "name": "stdout",
     "output_type": "stream",
     "text": [
      "Time elapsed: 513.9638178348541 seconds\n"
     ]
    }
   ],
   "execution_count": 45
  }
 ],
 "metadata": {
  "kernelspec": {
   "display_name": "Python 3",
   "language": "python",
   "name": "python3"
  },
  "language_info": {
   "codemirror_mode": {
    "name": "ipython",
    "version": 3
   },
   "file_extension": ".py",
   "mimetype": "text/x-python",
   "name": "python",
   "nbconvert_exporter": "python",
   "pygments_lexer": "ipython3",
   "version": "3.12.2"
  }
 },
 "nbformat": 4,
 "nbformat_minor": 5
}
