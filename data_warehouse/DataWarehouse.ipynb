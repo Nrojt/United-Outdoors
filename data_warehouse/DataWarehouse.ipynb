{
 "cells": [
  {
   "cell_type": "markdown",
   "id": "17e2c480eb50cac0",
   "metadata": {},
   "source": [
    "# United outdoors datawarehouse"
   ]
  },
  {
   "cell_type": "markdown",
   "id": "219c4ad180aa0438",
   "metadata": {},
   "source": [
    "## Imports"
   ]
  },
  {
   "cell_type": "code",
   "execution_count": null,
   "id": "1cf4cf0b86e3ced5",
   "metadata": {},
   "outputs": [],
   "source": [
    "import pandas as pd\n",
    "import numpy as np\n",
    "from sqlalchemy import create_engine, BigInteger, Integer, String, LargeBinary, VARCHAR, NVARCHAR, DECIMAL, CHAR, \\\n",
    "    DATE\n",
    "from sqlalchemy.dialects.mssql import BIT, XML, MONEY, TIME\n",
    "from sqlalchemy.exc import OperationalError\n",
    "from urllib import parse\n",
    "import re\n",
    "import time"
   ]
  },
  {
   "cell_type": "markdown",
   "id": "d65ce541",
   "metadata": {},
   "source": [
    "## Starting timer"
   ]
  },
  {
   "cell_type": "code",
   "execution_count": null,
   "id": "f7b920a7d3f469e1",
   "metadata": {},
   "outputs": [],
   "source": [
    "start_time = time.time()"
   ]
  },
  {
   "cell_type": "markdown",
   "id": "e5dedb1f60eb921f",
   "metadata": {},
   "source": [
    "## Database connection details"
   ]
  },
  {
   "cell_type": "code",
   "execution_count": null,
   "id": "7fc7de2a6201878c",
   "metadata": {},
   "outputs": [],
   "source": [
    "DB = {\n",
    "    'servername' : '(local)\\\\SQLEXPRESS',\n",
    "    'united_outdoors_database' : 'UnitedOutdoors',\n",
    "    'northwind_database' : 'Northwind',\n",
    "    'aenc_database' : 'Aenc',\n",
    "    'adventureworks_database' : 'AdventureWorks2019',\n",
    "    'master' : 'master'\n",
    "}"
   ]
  },
  {
   "cell_type": "code",
   "execution_count": null,
   "id": "d813ef4841c45033",
   "metadata": {},
   "outputs": [],
   "source": [
    "def create_connection(servername, database):\n",
    "    params = parse.quote_plus(f'DRIVER={{SQL Server}};SERVER={servername};DATABASE={database};Trusted_Connection=yes')\n",
    "    engine = create_engine(f'mssql+pyodbc:///?odbc_connect={params}', use_setinputsizes=False, connect_args={'options': '-c search_path=dbo'}, fast_executemany=True) # setinputsizes needs to be turned off for sql server, idk why but gives errors otherwise\n",
    "    try:\n",
    "        establish_conn = engine.connect()\n",
    "        print(f'Connection to {database} database successful')\n",
    "        return establish_conn, engine\n",
    "    except OperationalError as e:\n",
    "        print(f'Error: {e}')\n",
    "        return None, None"
   ]
  },
  {
   "cell_type": "code",
   "execution_count": null,
   "id": "4415bc87cfbd4b9",
   "metadata": {},
   "outputs": [],
   "source": [
    "def split_and_execute_sql_script(script, execute_engine):\n",
    "    # creating a connection\n",
    "    connection = execute_engine.connect()\n",
    "    \n",
    "    # splitting the script into the database creation and the rest\n",
    "    commands = re.split(r'GO\\n', script)\n",
    "    # removing all \\bGO\\b from the commands\n",
    "    commands = [re.sub(r'\\bGO\\b', '', command) for command in commands]\n",
    "    \n",
    "    # Execute the commands\n",
    "    for command in commands:\n",
    "        command = command.strip()\n",
    "        # Skip if the command is empty or 'GO'\n",
    "        if not command or command.upper() == 'GO':\n",
    "            continue\n",
    "        try:\n",
    "            connection.connection.execute(command)\n",
    "            connection.connection.commit()\n",
    "            #print(f'Command executed: {command}')\n",
    "        except OperationalError as e:\n",
    "            print(f'Error: {e} at command: {command}')"
   ]
  },
  {
   "cell_type": "code",
   "execution_count": null,
   "id": "21dbea997ab232bc",
   "metadata": {},
   "outputs": [],
   "source": [
    "def bulk_insert(df, dtypes, table_name, engine):\n",
    "    # calculating chunk size\n",
    "    chunk_size = (2000 // len(df.columns))  # 2100 is the maximum number of parameters in a query, -100 for safety\n",
    "\n",
    "    print(f'Inserting data into table: {table_name} with chunk size: {chunk_size}')\n",
    "    df.to_sql(name=table_name, schema='dbo', con=engine, if_exists='append', index=False, dtype=dtypes, method='multi', chunksize= chunk_size)"
   ]
  },
  {
   "cell_type": "code",
   "execution_count": null,
   "id": "b6d38bfcca6afd40",
   "metadata": {},
   "outputs": [],
   "source": [
    "def prepare(dataframe, nk_sk_dict=None):\n",
    "    # replacing the natural keys with the surrogate keys\n",
    "    if nk_sk_dict:\n",
    "        for column in nk_sk_dict:\n",
    "            # Check for duplicate keys\n",
    "            if len(nk_sk_dict[column]) != len(set(nk_sk_dict[column])):\n",
    "                raise ValueError(f'Duplicate keys found in nk_sk_dict for column: {column}')\n",
    "            else:\n",
    "                print(f'Replacing natural keys with surrogate keys for column: {column}')\n",
    "                for natural_key in nk_sk_dict[column]:\n",
    "                    dataframe[column] = dataframe[column].replace(natural_key, nk_sk_dict[column][natural_key])\n",
    "    \n",
    "    # replace empty values with None\n",
    "    dataframe = dataframe.where(pd.notnull(dataframe), None)\n",
    "    dataframe = dataframe.replace({np.nan: None})\n",
    "    \n",
    "    # stripping all columns with string data\n",
    "    dataframe = dataframe.map(lambda x: x.strip() if isinstance(x, str) else x)\n",
    "    # replacing all empty strings with None\n",
    "    dataframe = dataframe.replace(r'^\\s*$', None, regex=True)"
   ]
  },
  {
   "cell_type": "code",
   "execution_count": null,
   "id": "4864830206097f93",
   "metadata": {},
   "outputs": [],
   "source": [
    "def prepare_and_insert(dataframe, dtypes, table_name, insert_engine, nk_sk_dict=None):\n",
    "    \"\"\"\n",
    "    Prepares the dataframe for insertion into the database and inserts it into the database.\n",
    "        @param dataframe: The dataframe to be inserted into the database\n",
    "        @param dtypes: The data types of the columns in the dataframe\n",
    "        @param table_name: The name of the table in the database\n",
    "        @param insert_engine: The engine to insert the data into\n",
    "        @param nk_sk_dict: A 3d dictionary containing the natural keys and their corresponding surrogate keys, per column (so nk_sk_dict[column][natural_key] = surrogate_key)\n",
    "    \"\"\"\n",
    "       \n",
    "    prepare(dataframe, nk_sk_dict)\n",
    "    \n",
    "    # adding the data to the database\n",
    "    bulk_insert(dataframe, dtypes, table_name, insert_engine)"
   ]
  },
  {
   "cell_type": "code",
   "execution_count": null,
   "id": "831fa404922c26e",
   "metadata": {},
   "outputs": [],
   "source": [
    "def prepare_and_insert_return_sk(dataframe, dtypes, table_name, insert_engine, natural_key_column, nk_sk_dict=None):\n",
    "    \"\"\"\n",
    "    Prepares the dataframe for insertion into the database and inserts it into the database.\n",
    "        @param dataframe: The dataframe to be inserted into the database\n",
    "        @param dtypes: The data types of the columns in the dataframe\n",
    "        @param table_name: The name of the table in the database\n",
    "        @param insert_engine: The engine to insert the data into\n",
    "        @param natural_key_column: The name of the column containing the natural keys\n",
    "        @param nk_sk_dict: A 3d dictionary containing the natural keys and their corresponding surrogate keys, per column (so nk_sk_dict[column][natural_key] = surrogate_key)\n",
    "        @return: A dictionary containing the natural keys and their corresponding surrogate keys\n",
    "    \"\"\"\n",
    "    \n",
    "    prepare(dataframe, nk_sk_dict)\n",
    "    \n",
    "    # adding the data to the database\n",
    "    bulk_insert(dataframe, dtypes, table_name, insert_engine)\n",
    "    \n",
    "    # making a cleaned dictionary without None/nan values in the natural_key_column\n",
    "    mask = dataframe[natural_key_column].notnull()\n",
    "    filtered_dataframe = dataframe[mask]\n",
    "    \n",
    "    # getting the natural keys and their corresponding surrogate keys\n",
    "    # TODO FIX THIS, relying on the dataframe index is not a good idea\n",
    "    nk_sk_dict = dict(zip(filtered_dataframe[natural_key_column], dataframe.index))\n",
    "    \n",
    "    # adding +1 to the index to get the surrogate key\n",
    "    nk_sk_dict = {k: v + 1 for k, v in nk_sk_dict.items()}\n",
    "    \n",
    "    return nk_sk_dict"
   ]
  },
  {
   "cell_type": "code",
   "execution_count": null,
   "id": "dcf41d6c2aee34fb",
   "metadata": {},
   "outputs": [],
   "source": [
    "def prepare_and_update(table_name, update_engine, nk_sk_dict=None):   \n",
    "    # creating a connection\n",
    "    connection = update_engine.connect()\n",
    "\n",
    "    # Start a transaction\n",
    "    trans = connection.begin()\n",
    "\n",
    "    try:\n",
    "        # adding the data to the database\n",
    "        print(f'Updating data in table: {table_name}')\n",
    "        for column in nk_sk_dict:\n",
    "            # Prepare a batch update statement\n",
    "            update_stmts = []\n",
    "            for natural_key in nk_sk_dict[column]:\n",
    "                # TODO this would not work with updated data in datawarehouse, since this would replace the old and new data. Maybe check the datetime or something\n",
    "                statement = f'UPDATE {table_name} SET {column} = {nk_sk_dict[column][natural_key]} WHERE {column} = {int(natural_key)}'\n",
    "                update_stmts.append(statement)\n",
    "\n",
    "                # If the number of parameters reaches the limit, execute the batch update and clear the list\n",
    "                if len(update_stmts) * 2 >= 2000:  # Each update statement has 2 parameters, cause of the Column and Where clause\n",
    "                    connection.connection.execute(\";\".join(update_stmts))\n",
    "                    update_stmts = []\n",
    "\n",
    "            # Execute the remaining update statements\n",
    "            if update_stmts:\n",
    "                connection.connection.execute(\";\".join(update_stmts))\n",
    "\n",
    "        # Commit the transaction\n",
    "        trans.commit()\n",
    "    except:\n",
    "        # Rollback the transaction in case of error\n",
    "        trans.rollback()\n",
    "        raise\n",
    "    finally:\n",
    "        # Close the connection\n",
    "        connection.close()"
   ]
  },
  {
   "cell_type": "code",
   "execution_count": null,
   "id": "20684c4233f7620d",
   "metadata": {},
   "outputs": [],
   "source": [
    "def drop_modified_date_rowguid(dataframe):\n",
    "    # dropping all columns with 'rowguid' in their name\n",
    "    columns_to_drop_mr = dataframe.filter(like='rowguid').columns\n",
    "    \n",
    "    # dropping all columns with 'ModifiedDate' in their name\n",
    "    columns_to_drop_mr = columns_to_drop_mr.append(dataframe.filter(like='ModifiedDate').columns)\n",
    "    \n",
    "    # dropping the columns\n",
    "    dataframe.drop(columns=columns_to_drop_mr, inplace=True)"
   ]
  },
  {
   "cell_type": "markdown",
   "id": "d20434978a02675e",
   "metadata": {},
   "source": [
    "## Create the UnitedOutdoors datawarehouse"
   ]
  },
  {
   "cell_type": "code",
   "execution_count": null,
   "id": "f4a738224bd6cb1",
   "metadata": {},
   "outputs": [],
   "source": [
    "_, creation_engine = create_connection(DB[\"servername\"], DB[\"master\"])\n",
    "\n",
    "# Open the SQL script file and read its contents\n",
    "with open('sql/UnitedOutdoors_creation.sql', 'r') as file:\n",
    "    sql_script = file.read()\n",
    "\n",
    "split_and_execute_sql_script(sql_script, creation_engine)\n",
    "\n",
    "creation_engine.dispose()"
   ]
  },
  {
   "cell_type": "code",
   "execution_count": null,
   "id": "dfdfa253",
   "metadata": {},
   "outputs": [],
   "source": []
  },
  {
   "cell_type": "markdown",
   "id": "53f0ccd3e21fa4b5",
   "metadata": {},
   "source": [
    "## Connecting to the UnitedOutdoors datawarehouse"
   ]
  },
  {
   "cell_type": "code",
   "execution_count": null,
   "id": "68689a803df4672f",
   "metadata": {},
   "outputs": [],
   "source": [
    "_ , united_outdoors_engine = create_connection(DB[\"servername\"], DB[\"united_outdoors_database\"])"
   ]
  },
  {
   "cell_type": "markdown",
   "id": "75e2c357aec06e16",
   "metadata": {},
   "source": [
    "## Loading the data from the source databases"
   ]
  },
  {
   "cell_type": "markdown",
   "id": "e233e17a8927b6b1",
   "metadata": {},
   "source": [
    "### Northwind database"
   ]
  },
  {
   "cell_type": "markdown",
   "id": "aebf714a21c77aac",
   "metadata": {},
   "source": [
    "#### Connection"
   ]
  },
  {
   "cell_type": "code",
   "execution_count": null,
   "id": "f49b57c4eb4a0356",
   "metadata": {},
   "outputs": [],
   "source": [
    "northwind_conn, northwind_engine = create_connection(DB[\"servername\"], DB[\"northwind_database\"])"
   ]
  },
  {
   "cell_type": "markdown",
   "id": "ce0ee452c23a7217",
   "metadata": {},
   "source": [
    "#### Loading data"
   ]
  },
  {
   "cell_type": "code",
   "execution_count": null,
   "id": "6759fac4a542f313",
   "metadata": {},
   "outputs": [],
   "source": [
    "# Load the data from the source database\n",
    "northwind_categories = pd.read_sql('SELECT * FROM Categories', northwind_conn)\n",
    "northwind_customer_customer_demo = pd.read_sql('SELECT * FROM CustomerCustomerDemo', northwind_conn)\n",
    "northwind_customer_demographics = pd.read_sql('SELECT * FROM CustomerDemographics', northwind_conn)\n",
    "northwind_customers = pd.read_sql('SELECT * FROM Customers', northwind_conn)\n",
    "northwind_employees = pd.read_sql('SELECT *, CONVERT(VARCHAR(MAX), CONVERT(VARBINARY(MAX), Photo), 1) as EMPLOYEE_EMPLOYEES_PhotoHexString FROM Employees', northwind_conn) # image is deprecated, but still in northwind. Direct conversion from image to varchar is not possible, so we need to convert it to varbinary first\n",
    "northwind_employee_territories = pd.read_sql('SELECT * FROM EmployeeTerritories', northwind_conn)\n",
    "northwind_order_details = pd.read_sql('SELECT * FROM [Order Details]', northwind_conn)\n",
    "northwind_orders = pd.read_sql('SELECT * FROM Orders', northwind_conn)\n",
    "northwind_products = pd.read_sql('SELECT * FROM Products', northwind_conn)\n",
    "northwind_region = pd.read_sql('SELECT * FROM Region', northwind_conn)\n",
    "northwind_shippers = pd.read_sql('SELECT * FROM Shippers', northwind_conn)\n",
    "northwind_suppliers = pd.read_sql('SELECT * FROM Suppliers', northwind_conn)\n",
    "northwind_territories = pd.read_sql('SELECT * FROM Territories', northwind_conn)\n",
    "\n",
    "northwind_conn.close()"
   ]
  },
  {
   "cell_type": "markdown",
   "id": "e8354ea289e5b52f",
   "metadata": {},
   "source": [
    "### Aenc database"
   ]
  },
  {
   "cell_type": "markdown",
   "id": "5a552beede389e74",
   "metadata": {},
   "source": [
    "#### Connection"
   ]
  },
  {
   "cell_type": "code",
   "execution_count": null,
   "id": "8068f691bb272a12",
   "metadata": {},
   "outputs": [],
   "source": [
    "aenc_conn , aenc_engine = create_connection(DB[\"servername\"], DB[\"aenc_database\"])"
   ]
  },
  {
   "cell_type": "markdown",
   "id": "52ebbee980f2d5e1",
   "metadata": {},
   "source": [
    "#### Loading data"
   ]
  },
  {
   "cell_type": "code",
   "execution_count": null,
   "id": "a13392c1ea85f07c",
   "metadata": {},
   "outputs": [],
   "source": [
    "aenc_bonus              = pd.read_sql('SELECT * FROM Bonus', aenc_conn)\n",
    "aenc_customer           = pd.read_sql('SELECT * FROM Customer', aenc_conn)\n",
    "aenc_department         = pd.read_sql('SELECT * FROM Department', aenc_conn)\n",
    "aenc_employee           = pd.read_sql('SELECT * FROM Employee', aenc_conn)\n",
    "aenc_product            = pd.read_sql('SELECT * FROM Product', aenc_conn)\n",
    "aenc_region             = pd.read_sql('SELECT * FROM Region', aenc_conn)\n",
    "aenc_sales_order        = pd.read_sql('SELECT * FROM SalesOrder', aenc_conn)\n",
    "aenc_sales_order_item   = pd.read_sql('SELECT * FROM SalesOrderItem', aenc_conn)\n",
    "aenc_state              = pd.read_sql('SELECT * FROM State', aenc_conn)\n",
    "\n",
    "aenc_conn.close()"
   ]
  },
  {
   "cell_type": "markdown",
   "id": "333dd57a2b50b509",
   "metadata": {},
   "source": [
    "### AdventureWorks database"
   ]
  },
  {
   "cell_type": "markdown",
   "id": "38a34bcd0999e229",
   "metadata": {},
   "source": [
    "#### Connection"
   ]
  },
  {
   "cell_type": "code",
   "execution_count": null,
   "id": "8a7816d659b8042e",
   "metadata": {},
   "outputs": [],
   "source": [
    "adventureworks_conn, adventureworks_engine = create_connection(DB[\"servername\"], DB[\"adventureworks_database\"])"
   ]
  },
  {
   "cell_type": "markdown",
   "id": "dd31b9f74a9313d9",
   "metadata": {},
   "source": [
    "#### Loading data"
   ]
  },
  {
   "cell_type": "code",
   "execution_count": null,
   "id": "95d9b1664c99e3c3",
   "metadata": {},
   "outputs": [],
   "source": [
    "adventureworks_humanresources_department = pd.read_sql('SELECT * FROM HumanResources.Department', adventureworks_conn)\n",
    "adventureworks_humanresources_employee = pd.read_sql('SELECT * FROM HumanResources.Employee', adventureworks_conn)\n",
    "adventureworks_humanresources_employeedepartmenthistory = pd.read_sql('SELECT * FROM HumanResources.EmployeeDepartmentHistory', adventureworks_conn)\n",
    "adventureworks_humanresources_employeepayhistory = pd.read_sql('SELECT * FROM HumanResources.EmployeePayHistory', adventureworks_conn)\n",
    "adventureworks_humanresources_jobcandidate = pd.read_sql('SELECT * FROM HumanResources.JobCandidate', adventureworks_conn)\n",
    "adventureworks_humanresources_shift = pd.read_sql('SELECT * FROM HumanResources.Shift', adventureworks_conn)"
   ]
  },
  {
   "cell_type": "code",
   "execution_count": null,
   "id": "3b2754e5926d99e6",
   "metadata": {},
   "outputs": [],
   "source": [
    "adventureworks_person_address = pd.read_sql('SELECT AddressID, AddressLine1, AddressLine2, City, StateProvinceID, PostalCode, CAST(SpatialLocation AS VARCHAR(MAX)) AS SpatialLocation,rowguid, ModifiedDate   FROM Person.Address', adventureworks_conn)\n",
    "adventureworks_person_address_type = pd.read_sql('SELECT * FROM Person.AddressType', adventureworks_conn)\n",
    "adventureworks_person_businessentity = pd.read_sql('SELECT * FROM Person.BusinessEntity', adventureworks_conn)\n",
    "adventureworks_person_businessentityaddress = pd.read_sql('SELECT * FROM Person.BusinessEntityAddress', adventureworks_conn)\n",
    "adventureworks_person_businessentitycontact = pd.read_sql('SELECT * FROM Person.BusinessEntityContact', adventureworks_conn)\n",
    "adventureworks_person_contacttype = pd.read_sql('SELECT * FROM Person.ContactType', adventureworks_conn)\n",
    "adventureworks_person_countryregion = pd.read_sql('SELECT * FROM Person.CountryRegion', adventureworks_conn)\n",
    "adventureworks_person_emailaddress = pd.read_sql('SELECT * FROM Person.EmailAddress', adventureworks_conn)\n",
    "adventureworks_person_password = pd.read_sql('SELECT * FROM Person.Password', adventureworks_conn)\n",
    "adventureworks_person_person = pd.read_sql('SELECT * FROM Person.Person', adventureworks_conn)\n",
    "adventureworks_person_personphone = pd.read_sql('SELECT * FROM Person.PersonPhone', adventureworks_conn)\n",
    "adventureworks_person_phonenumbertype = pd.read_sql('SELECT * FROM Person.PhoneNumberType', adventureworks_conn)\n",
    "adventureworks_person_stateprovince = pd.read_sql('SELECT * FROM Person.StateProvince', adventureworks_conn)"
   ]
  },
  {
   "cell_type": "code",
   "execution_count": null,
   "id": "b9cf2209b4fc16a4",
   "metadata": {},
   "outputs": [],
   "source": [
    "adventureworks_production_bill_of_materials = pd.read_sql('SELECT * FROM Production.BillOfMaterials', adventureworks_conn)\n",
    "adventureworks_production_culture = pd.read_sql('SELECT * FROM Production.Culture', adventureworks_conn)\n",
    "adventureworks_production_document = pd.read_sql('SELECT * FROM Production.Document', adventureworks_conn)\n",
    "adventureworks_production_illustration = pd.read_sql('SELECT * FROM Production.Illustration', adventureworks_conn)\n",
    "adventureworks_production_location = pd.read_sql('SELECT * FROM Production.Location', adventureworks_conn)\n",
    "adventureworks_production_product = pd.read_sql('SELECT * FROM Production.Product', adventureworks_conn)\n",
    "adventureworks_production_productcategory = pd.read_sql('SELECT * FROM Production.ProductCategory', adventureworks_conn)\n",
    "adventureworks_production_productcosthistory = pd.read_sql('SELECT * FROM Production.ProductCostHistory', adventureworks_conn)\n",
    "adventureworks_production_productdescription = pd.read_sql('SELECT * FROM Production.ProductDescription', adventureworks_conn)\n",
    "adventureworks_production_productdocument = pd.read_sql('SELECT * , CAST(DocumentNode AS VARCHAR(MAX)) AS DocumentNodeString  FROM Production.ProductDocument', adventureworks_conn)\n",
    "adventureworks_production_productinventory = pd.read_sql('SELECT * FROM Production.ProductInventory', adventureworks_conn)\n",
    "adventureworks_production_productlistpricehistory = pd.read_sql('SELECT * FROM Production.ProductListPriceHistory', adventureworks_conn)\n",
    "adventureworks_production_productmodel = pd.read_sql('SELECT * FROM Production.ProductModel', adventureworks_conn)\n",
    "adventureworks_production_productmodelillustration = pd.read_sql('SELECT * FROM Production.ProductModelIllustration', adventureworks_conn)\n",
    "adventureworks_production_productmodelproductdescriptionculture = pd.read_sql('SELECT * FROM Production.ProductModelProductDescriptionCulture', adventureworks_conn)\n",
    "adventureworks_production_productphoto = pd.read_sql('SELECT ProductPhotoID, CONVERT(VARCHAR(MAX),ThumbNailPhoto, 1) as ThumbNailPhotoHexString, ThumbNailPhotoFileName, CONVERT(VARCHAR(MAX), LargePhoto, 1) as LargePhotoHexString, LargePhotoFileName, ModifiedDate FROM Production.ProductPhoto', adventureworks_conn)\n",
    "adventureworks_production_productproductphoto = pd.read_sql('SELECT * FROM Production.ProductProductPhoto', adventureworks_conn)\n",
    "adventureworks_production_productreview = pd.read_sql('SELECT * FROM Production.ProductReview', adventureworks_conn)\n",
    "adventureworks_production_productsubcategory = pd.read_sql('SELECT * FROM Production.ProductSubcategory', adventureworks_conn)\n",
    "adventureworks_production_scrapreason = pd.read_sql('SELECT * FROM Production.ScrapReason', adventureworks_conn)\n",
    "adventureworks_production_transactionhistory = pd.read_sql('SELECT * FROM Production.TransactionHistory', adventureworks_conn)\n",
    "adventureworks_production_transactionhistoryarchive = pd.read_sql('SELECT * FROM Production.TransactionHistoryArchive', adventureworks_conn)\n",
    "adventureworks_production_unitmeasure = pd.read_sql('SELECT * FROM Production.UnitMeasure', adventureworks_conn)\n",
    "adventureworks_production_workorder = pd.read_sql('SELECT * FROM Production.WorkOrder', adventureworks_conn)\n",
    "adventureworks_production_workorderrouting = pd.read_sql('SELECT * FROM Production.WorkOrderRouting', adventureworks_conn)"
   ]
  },
  {
   "cell_type": "code",
   "execution_count": null,
   "id": "a05635e1acca8623",
   "metadata": {},
   "outputs": [],
   "source": [
    "adventureworks_purchasing_productvendor = pd.read_sql('SELECT * FROM Purchasing.ProductVendor', adventureworks_conn)\n",
    "adventureworks_purchasing_purchaseorderdetail = pd.read_sql('SELECT * FROM Purchasing.PurchaseOrderDetail', adventureworks_conn)\n",
    "adventureworks_purchasing_purchaseorderheader = pd.read_sql('SELECT * FROM Purchasing.PurchaseOrderHeader', adventureworks_conn)\n",
    "adventureworks_purchasing_shipmethod = pd.read_sql('SELECT * FROM Purchasing.ShipMethod', adventureworks_conn)\n",
    "adventureworks_purchasing_vendor = pd.read_sql('SELECT * FROM Purchasing.Vendor', adventureworks_conn)"
   ]
  },
  {
   "cell_type": "code",
   "execution_count": null,
   "id": "d85ccde07f7a7d22",
   "metadata": {},
   "outputs": [],
   "source": [
    "adventureworks_sales_countryregioncurrency = pd.read_sql('SELECT * FROM Sales.CountryRegionCurrency', adventureworks_conn)\n",
    "adventureworks_sales_creditcard = pd.read_sql('SELECT * FROM Sales.CreditCard', adventureworks_conn)\n",
    "adventureworks_sales_currency = pd.read_sql('SELECT * FROM Sales.Currency', adventureworks_conn)\n",
    "adventureworks_sales_currencyrate = pd.read_sql('SELECT * FROM Sales.CurrencyRate', adventureworks_conn)\n",
    "adventureworks_sales_customer = pd.read_sql('SELECT * FROM Sales.Customer', adventureworks_conn)\n",
    "adventureworks_sales_personcreditcard = pd.read_sql('SELECT * FROM Sales.PersonCreditCard', adventureworks_conn)\n",
    "adventureworks_sales_salesorderdetail = pd.read_sql('SELECT * FROM Sales.SalesOrderDetail', adventureworks_conn)\n",
    "adventureworks_sales_salesorderheader = pd.read_sql('SELECT * FROM Sales.SalesOrderHeader', adventureworks_conn)\n",
    "adventureworks_sales_salesorderhearerrsaleseason = pd.read_sql('SELECT * FROM Sales.SalesOrderHeaderSalesReason', adventureworks_conn)\n",
    "adventureworks_sales_salesperson = pd.read_sql('SELECT * FROM Sales.SalesPerson', adventureworks_conn)\n",
    "adventureworks_sales_salespersonquotahistory = pd.read_sql('SELECT * FROM Sales.SalesPersonQuotaHistory', adventureworks_conn)\n",
    "adventureworks_sales_salesreason = pd.read_sql('SELECT * FROM Sales.SalesReason', adventureworks_conn)\n",
    "adventureworks_sales_salestaxrate = pd.read_sql('SELECT * FROM Sales.SalesTaxRate', adventureworks_conn)\n",
    "adventureworks_sales_salesterritory = pd.read_sql('SELECT * FROM Sales.SalesTerritory', adventureworks_conn)\n",
    "adventureworks_sales_salesterritoryhistory = pd.read_sql('SELECT * FROM Sales.SalesTerritoryHistory', adventureworks_conn)\n",
    "adventureworks_sales_shoppingcartitem = pd.read_sql('SELECT * FROM Sales.ShoppingCartItem', adventureworks_conn)\n",
    "adventureworks_sales_specialoffer = pd.read_sql('SELECT * FROM Sales.SpecialOffer', adventureworks_conn)\n",
    "adventureworks_sales_specialofferproduct = pd.read_sql('SELECT * FROM Sales.SpecialOfferProduct', adventureworks_conn)\n",
    "adventureworks_sales_store = pd.read_sql('SELECT * FROM Sales.Store', adventureworks_conn)\n",
    "\n",
    "adventureworks_conn.close()"
   ]
  },
  {
   "cell_type": "markdown",
   "id": "b05031a91d18ef67",
   "metadata": {},
   "source": [
    "## Combining the data\n",
    "ORDER MATTERS, CAUSE SURROGATE KEYS\n",
    "SK STILL NEEDS TO BE DONE"
   ]
  },
  {
   "cell_type": "markdown",
   "id": "952478cb55013351",
   "metadata": {},
   "source": [
    "### Departments\n",
    "Combining aenc and adventureworks department data"
   ]
  },
  {
   "cell_type": "code",
   "execution_count": null,
   "id": "1c9b32acb478d507",
   "metadata": {},
   "outputs": [],
   "source": [
    "# adding DEPARTMENT_source_database columns to the dataframes\n",
    "aenc_department['DEPARTMENT_source_database'] = 'aenc'\n",
    "adventureworks_humanresources_department['DEPARTMENT_source_database'] = 'adventureworks'\n",
    "\n",
    "# combining all department data\n",
    "departments = pd.concat([aenc_department, adventureworks_humanresources_department], ignore_index=True)\n",
    "\n",
    "# combining name and department name columns to create a name column\n",
    "departments['DEPARTMENT_DEPARTMENT_DeptName'] = departments['Name'].combine_first(departments['dept_name'])\n",
    "# combining dept_id and DepartmentID columns\n",
    "departments['DEPARTMENT_DEPARTMENT_DeptID'] = departments['dept_id'].combine_first(departments['DepartmentID'])\n",
    "\n",
    "# dropping the redundant columns\n",
    "drop_modified_date_rowguid(departments)\n",
    "departments.drop(columns=['dept_id', 'Name', 'dept_name', 'DepartmentID'], inplace=True)\n",
    "\n",
    "# renaming the remaining columns\n",
    "departments.rename(columns={'dept_head_id': 'DEPARTMENT_DEPARTMENT_DeptHeadID', 'GroupName': 'DEPARTMENT_DEPARTMENT_GroupName'}, inplace=True)\n",
    "\n",
    "departments.head()"
   ]
  },
  {
   "cell_type": "markdown",
   "id": "6a4861bc",
   "metadata": {},
   "source": [
    "### Employees"
   ]
  },
  {
   "cell_type": "code",
   "execution_count": null,
   "id": "614f4082",
   "metadata": {},
   "outputs": [],
   "source": [
    "# merge northwind with territory and employee\n",
    "employee1 = pd.merge(northwind_employees, northwind_employee_territories, on='EmployeeID')\n",
    "employee1 = employee1.drop(columns=['EmployeeID', 'LastName', 'FirstName', 'BirthDate', 'Address', 'City', 'Region', 'PostalCode', 'Country', 'HomePhone', 'ReportsTo'])\n",
    "\n",
    "# merge employee from aenc with bonus\n",
    "employee2 = pd.merge(aenc_employee, aenc_bonus, on='emp_id')\n",
    "\n",
    "# after that concat together\n",
    "employees = pd.concat([employee1, employee2], ignore_index=True)\n",
    "\n",
    "# rename\n",
    "employees.rename(columns={\n",
    "    'emp_id': 'EMPLOYEE_EMPLOYEE_EmployeeID', \n",
    "    'dept_id': 'EMPLOYEE_EMPLOYEE_DepartmentID', \n",
    "    'manager_id': 'EMPLOYEE_EMPLOYEE_ManagerID', \n",
    "    'territory_id' : 'EMPLOYEE_EMPLOYEETERRITORIES_TerritoryID',\n",
    "    'emp_fname' : 'EMPLOYEE_EMPLOYEE_Emp_Fname',\n",
    "    'emp_lname' : 'EMPLOYEE_EMPLOYEE_Emp_Lname',\n",
    "    'street' : 'EMPLOYEE_EMPLOYEE_Street',\n",
    "    'city' : 'EMPLOYEE_EMPLOYEE_City',\n",
    "    'state' : 'EMPLOYEE_EMPLOYEE_State',\n",
    "    'zip_code' : 'EMPLOYEE_EMPLOYEE_Zip_Code',\n",
    "    'phone' : 'EMPLOYEE_EMPLOYEE_Phone',\n",
    "    'status' : 'EMPLOYEE_EMPLOYEE_Status',\n",
    "    'ss_number' : 'EMPLOYEE_EMPLOYEE_SS_Number',\n",
    "    'salary' : 'EMPLOYEE_EMPLOYEE_Salary',\n",
    "    'start_date' : 'EMPLOYEE_EMPLOYEE_Start_Date',\n",
    "    'termination_date' : 'EMPLOYEE_EMPLOYEE_Termination',\n",
    "    'birth_date' : 'EMPLOYEE_EMPLOYEE_Birth_Date',\n",
    "    'bene_health_ins' : 'EMPLOYEE_EMPLOYEE_Bene_Health_Ins',\n",
    "    'bene_life_ins' : 'EMPLOYEE_EMPLOYEE_Bene_Life_Ins',\n",
    "    'bene_day_care' : 'EMPLOYEE_EMPLOYEE_Bene_Day_Care',\n",
    "    'sex' : 'EMPLOYEE_EMPLOYEE_Sex',\n",
    "    'bonus_date' : 'EMPLOYEE_BONUS_Bonus_Date',\n",
    "    'bonus_amount' : 'EMPLOYEE_BONUS_Bonus_Amount',\n",
    "    'Title' : 'EMPLOYEE_EMPLOYEES_Title',\n",
    "    'TitleOfCourtesy' : 'EMPLOYEE_EMPLOYEES_TitleOfCourtesy',\n",
    "    'HireDate' : 'EMPLOYEE_EMPLOYEES_HireDate',\n",
    "    'HomePhone' : 'EMPLOYEE_EMPLOYEES_HomePhone',\n",
    "    'Extension' : 'EMPLOYEE_EMPLOYEES_Extension',\n",
    "    'PhotoPath' : 'EMPLOYEE_EMPLOYEES_PhotoPath',\n",
    "    'Notes' : 'EMPLOYEE_EMPLOYEES_Notes'\n",
    "}, inplace=True)\n",
    "\n",
    "desired_columns_order = ['EMPLOYEE_EMPLOYEE_EmployeeID', 'EMPLOYEE_EMPLOYEE_DepartmentID', 'EMPLOYEE_EMPLOYEE_ManagerID', 'EMPLOYEE_EMPLOYEETERRITORIES_TerritoryID','EMPLOYEE_EMPLOYEE_Emp_Fname','EMPLOYEE_EMPLOYEE_Emp_Lname','EMPLOYEE_EMPLOYEE_Street','EMPLOYEE_EMPLOYEE_City','EMPLOYEE_EMPLOYEE_State','EMPLOYEE_EMPLOYEE_Zip_Code','EMPLOYEE_EMPLOYEE_Phone','EMPLOYEE_EMPLOYEE_Status','EMPLOYEE_EMPLOYEE_SS_Number','EMPLOYEE_EMPLOYEE_Salary','EMPLOYEE_EMPLOYEE_Start_Date','EMPLOYEE_EMPLOYEE_Termination','EMPLOYEE_EMPLOYEE_Birth_Date','EMPLOYEE_EMPLOYEE_Bene_Health_Ins','EMPLOYEE_EMPLOYEE_Bene_Life_Ins','EMPLOYEE_EMPLOYEE_Bene_Day_Care','EMPLOYEE_EMPLOYEE_Sex','EMPLOYEE_BONUS_Bonus_Date','EMPLOYEE_BONUS_Bonus_Amount','EMPLOYEE_EMPLOYEES_Title','EMPLOYEE_EMPLOYEES_TitleOfCourtesy','EMPLOYEE_EMPLOYEES_HireDate','EMPLOYEE_EMPLOYEES_HomePhone','EMPLOYEE_EMPLOYEES_Extension','EMPLOYEE_EMPLOYEES_PhotoPath','EMPLOYEE_EMPLOYEES_Notes', 'EMPLOYEE_EMPLOYEES_PhotoHexString']\n",
    "\n",
    "#order\n",
    "employees = employees.reindex(columns=desired_columns_order)\n",
    "\n",
    "employees.head()"
   ]
  },
  {
   "cell_type": "markdown",
   "id": "5a1104842049cb4c",
   "metadata": {},
   "source": [
    "### BusinessEntities"
   ]
  },
  {
   "cell_type": "code",
   "execution_count": null,
   "id": "49faddce16b73f49",
   "metadata": {},
   "outputs": [],
   "source": [
    "# Combining the adventureworks Person.BusinessEntity, BusinessEntityContact and ContactType data\n",
    "businessentities= pd.merge(adventureworks_person_businessentity, adventureworks_person_businessentitycontact, left_on='BusinessEntityID', right_on='BusinessEntityID', suffixes=('_person_businessentity', '_businessentitycontact'), how=\"outer\")\n",
    "\n",
    "businessentities = pd.merge(businessentities, adventureworks_person_contacttype, left_on='ContactTypeID', right_on='ContactTypeID', suffixes=('', '_contacttype'), how=\"outer\")\n",
    "\n",
    "# dropping the modified date and rowguid columns\n",
    "drop_modified_date_rowguid(businessentities)\n",
    "\n",
    "# renaming the columns\n",
    "businessentities.rename(columns={'BusinessEntityID': 'BUSINESSENTITY_BUSINESSENTITY_BusinessEntityID', 'PersonID': 'BUSINESSENTITY_BUSINESSENTITYCONTACT_PersonID', 'ContactTypeID': 'BUSINESSENTITY_CONTACTTYPE_ContactTypeID', 'Name' : 'BUSINESSENTITY_CONTACTTYPE_Name'}, inplace=True)\n",
    "\n",
    "businessentities.head()"
   ]
  },
  {
   "cell_type": "markdown",
   "id": "b827970c",
   "metadata": {},
   "source": [
    "### BillOfMaterial"
   ]
  },
  {
   "cell_type": "code",
   "execution_count": null,
   "id": "923efee4",
   "metadata": {},
   "outputs": [],
   "source": [
    "# merge table\n",
    "billofmaterials = pd.merge(adventureworks_production_bill_of_materials, adventureworks_production_unitmeasure, on='UnitMeasureCode')\n",
    "\n",
    "# rename\n",
    "billofmaterials.rename(columns={\n",
    "    'BillOfMaterialsID': 'BILLOFMATERIAL_BILLOFMATERIAL_BillOfMaterialID',\n",
    "    'ProductAssemblyID': 'BILLOFMATERIAL_BILLOFMATERIAL_ProductAssemblyID',\n",
    "    'ComponentID': 'BILLOFMATERIAL_BILLOFMATERIAL_ComponentID',\n",
    "    'StartDate': 'BILLOFMATERIAL_BILLOFMATERIAL_StartDate',\n",
    "    'EndDate': 'BILLOFMATERIAL_BILLOFMATERIAL_EndDate',\n",
    "    'UnitMeasureCode': 'BILLOFMATERIAL_BILLOFMATERIAL_UnitMeasureCode',\n",
    "    'BOMLevel': 'BILLOFMATERIAL_BILLOFMATERIAL_BOMLevel',\n",
    "    'PerAssemblyQty': 'BILLOFMATERIAL_BILLOFMATERIAL_PerAssemblyQty',\n",
    "    'Name': 'BILLOFMATERIAL_UNITMEASURE_Name'\n",
    "}, inplace=True)\n",
    "\n",
    "# drop unneeded column\n",
    "drop_modified_date_rowguid(billofmaterials)\n",
    "\n",
    "billofmaterials.head()"
   ]
  },
  {
   "cell_type": "markdown",
   "id": "872c4a0f",
   "metadata": {},
   "source": [
    "### Document"
   ]
  },
  {
   "cell_type": "code",
   "execution_count": null,
   "id": "7bcc653c",
   "metadata": {},
   "outputs": [],
   "source": [
    "# merge table\n",
    "documents = pd.merge(adventureworks_production_document, adventureworks_production_productdocument, on='DocumentNode')\n",
    "\n",
    "# rename\n",
    "documents.rename(columns={\n",
    "    'DocumentNode': 'DOCUMENT_DOCUMENT_DocumentNode',\n",
    "    'DocumentLevel': 'DOCUMENT_DOCUMENT_DocumentLevel',\n",
    "    'Title': 'DOCUMENT_DOCUMENT_Title',\n",
    "    'Owner': 'DOCUMENT_DOCUMENT_Owner',\n",
    "    'FolderFlag': 'DOCUMENT_DOCUMENT_FolderFlag',\n",
    "    'FileName': 'DOCUMENT_DOCUMENT_FileName',\n",
    "    'FileExtension': 'DOCUMENT_DOCUMENT_FileExtension',\n",
    "    'Revision': 'DOCUMENT_DOCUMENT_Revision',\n",
    "    'ChangeNumber': 'DOCUMENT_DOCUMENT_ChangeNumber',\n",
    "    'Status': 'DOCUMENT_DOCUMENT_Status',\n",
    "    'DocumentSummary': 'DOCUMENT_DOCUMENT_DocumentSummary',\n",
    "    'Document': 'DOCUMENT_DOCUMENT_Document',\n",
    "    'ProductID': 'DOCUMENT_PRODUCTDOCUMENT_ProductID'\n",
    "}, inplace=True)\n",
    "\n",
    "# drop unneeded column\n",
    "drop_modified_date_rowguid(documents)\n",
    "documents.drop(columns=['DocumentNodeString'], inplace=True)\n",
    "\n",
    "documents.head()"
   ]
  },
  {
   "cell_type": "markdown",
   "id": "cce46e4e",
   "metadata": {},
   "source": [
    "### Illustration"
   ]
  },
  {
   "cell_type": "code",
   "execution_count": null,
   "id": "f5aa854a",
   "metadata": {},
   "outputs": [],
   "source": [
    "# merge table\n",
    "illustrations = pd.merge(adventureworks_production_illustration, adventureworks_production_productmodelillustration, on='IllustrationID')\n",
    "\n",
    "# rename\n",
    "illustrations.rename(columns={\n",
    "    'IllustrationID': 'ILLUSTRATION_ILLUSTRATION_IllustrationID',\n",
    "    'Diagram': 'ILLUSTRATION_ILLUSTRATION_Diagram',\n",
    "    'ProductModelID': 'ILLUSTRATION_PRODUCTMODELILLUSTRATION_ProductModelID',\n",
    "}, inplace=True)\n",
    "\n",
    "# drop unneeded column\n",
    "drop_modified_date_rowguid(illustrations)\n",
    "\n",
    "illustrations.head()"
   ]
  },
  {
   "cell_type": "markdown",
   "id": "572f57cc",
   "metadata": {},
   "source": [
    "### ProductPhoto"
   ]
  },
  {
   "cell_type": "code",
   "execution_count": null,
   "id": "0a060c03",
   "metadata": {},
   "outputs": [],
   "source": [
    "# merge table\n",
    "productphotos = pd.merge(adventureworks_production_productphoto, adventureworks_production_productproductphoto, on='ProductPhotoID')\n",
    "\n",
    "# rename\n",
    "productphotos.rename(columns={\n",
    "    'ProductPhotoID': 'PRODUCTPHOTO_PRODUCTPHOTO_ProductPhotoID',\n",
    "    'ThumbNailPhotoHexString': 'PRODUCTPHOTO_PRODUCTPHOTO_ThumbNailPhoto',\n",
    "    'ThumbNailPhotoFileName': 'PRODUCTPHOTO_PRODUCTPHOTO_ThumbNailPhotoFileName',\n",
    "    'LargePhotoHexString': 'PRODUCTPHOTO_PRODUCTPHOTO_LargePhoto',\n",
    "    'LargePhotoFileName': 'PRODUCTPHOTO_PRODUCTPHOTO_LargePhotoFileName',\n",
    "    'ProductID': 'PRODUCTPHOTO_PRODUCTPRODUCTPHOTO_ProductID',\n",
    "    'Primary': 'PRODUCTPHOTO_PRODUCTPRODUCTPHOTO_Primary'\n",
    "}, inplace=True)\n",
    "\n",
    "# drop unneeded column\n",
    "drop_modified_date_rowguid(productphotos)\n",
    "\n",
    "productphotos.head()"
   ]
  },
  {
   "cell_type": "markdown",
   "id": "cb2ed90a",
   "metadata": {},
   "source": [
    "### WorkOrder"
   ]
  },
  {
   "cell_type": "code",
   "execution_count": null,
   "id": "678a18c8",
   "metadata": {},
   "outputs": [],
   "source": [
    "# drop product id\n",
    "adventureworks_production_workorderrouting = adventureworks_production_workorderrouting.drop(columns=('ProductID'))\n",
    "\n",
    "#merge table\n",
    "workorders = pd.merge(adventureworks_production_workorder, adventureworks_production_scrapreason, on=\"ScrapReasonID\")\n",
    "workorders = pd.merge(workorders, adventureworks_production_workorderrouting, on=\"WorkOrderID\")\n",
    "\n",
    "#rename\n",
    "workorders.rename(columns={\n",
    "    'WorkOrderID': 'WORKORDER_WORKORDER_WorkOrderID',\n",
    "    'ProductID': 'WORKORDER_WORKORDER_ProductID',\n",
    "    'OrderQty': 'WORKORDER_WORKORDER_OrderQty',\n",
    "    'StockedQty': 'WORKORDER_WORKORDER_StockedQty',\n",
    "    'ScrappedQty': 'WORKORDER_WORKORDER_ScrappedQty',\n",
    "    'StartDate': 'WORKORDER_WORKORDER_StartDate',\n",
    "    'EndDate': 'WORKORDER_WORKORDER_EndDate',\n",
    "    'DueDate': 'WORKORDER_WORKORDER_DueDate',\n",
    "    'ScrapReasonID': 'WORKORDER_SCRAPREASON_ScrapReasonID',\n",
    "    'Name': 'WORKORDER_SCRAPREASON_Name',\n",
    "    'OperationSequence': 'WORKORDER_WORKORDERINGROUTING_OperationSequence',\n",
    "    'LocationID': 'WORKORDER_WORKORDERINGROUTING_LocationID',\n",
    "    'ScheduledStartDate': 'WORKORDER_WORKORDERINGROUTING_ScheduledStartDate',\n",
    "    'ScheduledEndDate': 'WORKORDER_WORKORDERINGROUTING_ScheduledEndDate',\n",
    "    'ActualStartDate': 'WORKORDER_WORKORDERINGROUTING_ActualStartDate',\n",
    "    'ActualEndDate': 'WORKORDER_WORKORDERINGROUTING_ActualEndDate',\n",
    "    'ActualResourceHrs': 'WORKORDER_WORKORDERINGROUTING_ActualResourcesHrs',\n",
    "    'PlannedCost': 'WORKORDER_WORKORDERINGROUTING_PlannedCost',\n",
    "    'ActualCost': 'WORKORDER_WORKORDERINGROUTING_ActualCost'\n",
    "}, inplace=True)\n",
    "\n",
    "#drop unneeded column\n",
    "drop_modified_date_rowguid(workorders)\n",
    "\n",
    "workorders.head()"
   ]
  },
  {
   "cell_type": "markdown",
   "id": "d61f4db888316c68",
   "metadata": {},
   "source": [
    "### BusinessEntityAddresses"
   ]
  },
  {
   "cell_type": "code",
   "execution_count": null,
   "id": "ec5238c4bd67fbac",
   "metadata": {},
   "outputs": [],
   "source": [
    "# Combining the adventureworks Person.BusinessEntityAddress, Address and AddressType data\n",
    "businessentityaddresses = pd.merge(adventureworks_person_businessentityaddress, adventureworks_person_address, left_on='AddressID', right_on='AddressID', suffixes=('', '_address'), how=\"outer\")\n",
    "\n",
    "businessentityaddresses = pd.merge(businessentityaddresses, adventureworks_person_address_type, left_on='AddressTypeID', right_on='AddressTypeID', suffixes=('', '_address_type'), how=\"outer\")\n",
    "\n",
    "\n",
    "# dropping the modified date and rowguid columns\n",
    "drop_modified_date_rowguid(businessentityaddresses)\n",
    "\n",
    "# renaming the columns\n",
    "businessentityaddresses.rename(columns={'BusinessEntityID': 'BUSINESSENTITYADDRESS_BUSINESSENTITYADDRESS_BusinessEntityID', 'AddressID': 'BUSINESSENTITYADDRESS_ADDRESS_AddressID', 'AddressTypeID': 'BUSINESSENTITYADDRESS_ADDRESSTYPE_AddressTypeID', 'AddressLine1' : 'BUSINESSENTITYADDRESS_ADDRESS_AddressLine1', 'AddressLine2' : 'BUSINESSENTITYADDRESS_ADDRESS_AddressLine2', 'City' : 'BUSINESSENTITYADDRESS_ADDRESS_City', 'StateProvinceID' : 'BUSINESSENTITYADDRESS_ADDRESS_StateProvinceID', 'PostalCode' : 'BUSINESSENTITYADDRESS_ADDRESS_POSTALCODE', 'SpatialLocation' : 'BUSINESSENTITYADDRESS_ADDRESS_SpatialLocation', 'Name' : 'BUSINESSENTITYADDRESS_ADDRESSTYPE_Name'}, inplace=True)\n",
    "\n",
    "businessentityaddresses.head()"
   ]
  },
  {
   "cell_type": "markdown",
   "id": "82b616d849111263",
   "metadata": {},
   "source": [
    "### People"
   ]
  },
  {
   "cell_type": "code",
   "execution_count": null,
   "id": "f69f5dd65aadcd8a",
   "metadata": {},
   "outputs": [],
   "source": [
    "# combining person data from adventureworks HumanResources.Person, PersonPhone, PhoneNumberType, EmailAddress and Password\n",
    "people = pd.merge(adventureworks_person_person, adventureworks_person_personphone, left_on='BusinessEntityID', right_on='BusinessEntityID', suffixes= ('_person', '_personphone'), how=\"outer\")\n",
    "\n",
    "people = pd.merge(people, adventureworks_person_phonenumbertype, left_on='PhoneNumberTypeID', right_on='PhoneNumberTypeID', suffixes=('', '_phonenumbertype'), how=\"outer\")\n",
    "\n",
    "people = pd.merge(people, adventureworks_person_emailaddress, left_on='BusinessEntityID', right_on='BusinessEntityID', suffixes=('','_emailaddress'), how=\"outer\")\n",
    "\n",
    "people = pd.merge(people, adventureworks_person_password, left_on='BusinessEntityID', right_on='BusinessEntityID', suffixes=('','_password'), how=\"outer\")\n",
    "\n",
    "# dropping the modified date and rowguid columns\n",
    "drop_modified_date_rowguid(people)\n",
    "\n",
    "# renaming the columns\n",
    "people.rename(columns={'BusinessEntityID': 'PERSON_PERSON_BusinessEntityID', 'PersonType': 'PERSON_PERSON_PersonType', 'NameStyle': 'PERSON_PERSON_NameStyle', 'Title': 'PERSON_PERSON_Title', 'FirstName': 'PERSON_PERSON_FirstName', 'MiddleName' : 'PERSON_PERSON_MiddleName', 'LastName' : 'PERSON_PERSON_LastName', 'Suffix': 'PERSON_PERSON_Suffix', 'EmailPromotion' : 'PERSON_PERSON_EmailPromotion', 'AdditionalContactInfo' : 'PERSON_PERSON_AdditionalContactInfo', 'Demographics' : 'PERSON_PERSON_Demographics', 'PhoneNumber' : 'PERSON_PERSONPHONE_PhoneNumber', 'PhoneNumberTypeID' : 'PERSON_PHONENUMBERTYPE_PhoneNumberTypeID', 'Name' : 'PERSON_PHONENUMBERTYPE_Name', 'EmailAddressID': 'PERSON_EMAILADDRESS_EmailAddressID', 'EmailAddress' : 'PERSON_EMAILADDRESS_EmailAddress', 'PasswordHash' : 'PERSON_PASSWORD_PasswordHash', 'PasswordSalt' : 'PERSON_PASSWORD_PasswordSalt'}, inplace=True)\n",
    "\n",
    "people.head()"
   ]
  },
  {
   "cell_type": "markdown",
   "id": "0bc8f6de",
   "metadata": {},
   "source": [
    "### JobCandidate"
   ]
  },
  {
   "cell_type": "code",
   "execution_count": null,
   "id": "84a1abaf",
   "metadata": {},
   "outputs": [],
   "source": [
    "jobcandidates = adventureworks_humanresources_jobcandidate\n",
    "\n",
    "# dropping the modified date and rowguid columns\n",
    "drop_modified_date_rowguid(jobcandidates)\n",
    "\n",
    "# renaming the columns\n",
    "jobcandidates.rename(columns={'JobCandidateID': 'JOBCANDIDATE_JOBCANDIDATE_JobCandidateID', 'BusinessEntityID': 'JOBCANDIDATE_JOBCANDIDATE_BusinessEntityID', 'Resume': 'JOBCANDIDATE_JOBCANDIDATE_Resume'}, inplace=True)\n",
    "\n",
    "jobcandidates.head()"
   ]
  },
  {
   "cell_type": "markdown",
   "id": "88dc6bb1",
   "metadata": {},
   "source": [
    "### EmployeeDepartmentHistory"
   ]
  },
  {
   "cell_type": "code",
   "execution_count": null,
   "id": "029d9f7d",
   "metadata": {},
   "outputs": [],
   "source": [
    "employeedepartmenthistories = adventureworks_humanresources_employeedepartmenthistory\n",
    "\n",
    "# dropping the modified date and rowguid columns\n",
    "drop_modified_date_rowguid(employeedepartmenthistories)\n",
    "\n",
    "# renaming the columns\n",
    "employeedepartmenthistories.rename(columns={'BusinessEntityID': 'EMPLOYEEDEPARTMENTHISTORY_EMPLOYEEDEPARTMENTHISTORY_BusinessEntityID', 'DepartmentID': 'EMPLOYEEDEPARTMENTHISTORY_EMPLOYEEDEPARTMENTHISTORY_DepartmentID', 'ShiftID': 'EMPLOYEEDEPARTMENTHISTORY_EMPLOYEEDEPARTMENTHISTORY_ShiftID', 'StartDate': 'EMPLOYEEDEPARTMENTHISTORY_EMPLOYEEDEPARTMENTHISTORY_StartDate', 'EndDate': 'EMPLOYEEDEPARTMENTHISTORY_EMPLOYEEDEPARTMENTHISTORY_EndDate'}, inplace=True)\n",
    "\n",
    "employeedepartmenthistories.head()"
   ]
  },
  {
   "cell_type": "markdown",
   "id": "c9d9059e",
   "metadata": {},
   "source": [
    "### EmployeePayHistory"
   ]
  },
  {
   "cell_type": "code",
   "execution_count": null,
   "id": "96640d23",
   "metadata": {},
   "outputs": [],
   "source": [
    "employeepayhistories = adventureworks_humanresources_employeepayhistory\n",
    "\n",
    "# dropping the modified date and rowguid columns\n",
    "drop_modified_date_rowguid(employeepayhistories)\n",
    "\n",
    "# renaming the columns\n",
    "employeepayhistories.rename(columns={'BusinessEntityID': 'EMPLOYEEPAYHISTORY_EMPLOYEEPAYHISTORY_BusinessEntityID', 'RateChangeDate': 'EMPLOYEEPAYHISTORY_EMPLOYEEPAYHISTORY_RateChangeDate', 'Rate': 'EMPLOYEEPAYHISTORY_EMPLOYEEPAYHISTORY_Rate', 'PayFrequency': 'EMPLOYEEPAYHISTORY_EMPLOYEEPAYHISTORY_PayFrequency'}, inplace=True)\n",
    "\n",
    "employeepayhistories.head()"
   ]
  },
  {
   "cell_type": "markdown",
   "id": "0e6b58ec",
   "metadata": {},
   "source": [
    "### Shift"
   ]
  },
  {
   "cell_type": "code",
   "execution_count": null,
   "id": "ef5a92bc",
   "metadata": {},
   "outputs": [],
   "source": [
    "shifts = adventureworks_humanresources_shift\n",
    "\n",
    "# dropping the modified date and rowguid columns\n",
    "drop_modified_date_rowguid(shifts)\n",
    "\n",
    "# renaming the columns\n",
    "shifts.rename(columns={'ShiftID': 'SHIFT_SHIFT_ShiftID', 'Name': 'SHIFT_SHIFT_Name', 'StartTime': 'SHIFT_SHIFT_StartTime', 'EndTime': 'SHIFT_SHIFT_EndTime'}, inplace=True)\n",
    "\n",
    "shifts.head()"
   ]
  },
  {
   "cell_type": "markdown",
   "id": "131ba365",
   "metadata": {},
   "source": [
    "### SalesPerson"
   ]
  },
  {
   "cell_type": "code",
   "execution_count": null,
   "id": "612bb138",
   "metadata": {},
   "outputs": [],
   "source": [
    "salespeople = adventureworks_sales_salesperson\n",
    "\n",
    "# dropping the modified date and rowguid columns\n",
    "drop_modified_date_rowguid(salespeople)\n",
    "\n",
    "# renaming the columns\n",
    "salespeople.rename(columns={'BusinessEntityID': 'SALESPERSON_SALESPERSON_BusinessEntityID', 'TerritoryID': 'SALESPERSON_SALESPERSON_TerritoryID', 'SalesQuota': 'SALESPERSON_SALESPERSON_SalesQuota', 'Bonus': 'SALESPERSON_SALESPERSON_Bonus', 'CommissionPct': 'SALESPERSON_SALESPERSON_CommissionPct', 'SalesYTD': 'SALESPERSON_SALESPERSON_SalesYTD', 'SalesLastYear': 'SALESPERSON_SALESPERSON_SalesLastYear'}, inplace=True)\n",
    "\n",
    "salespeople.head()"
   ]
  },
  {
   "cell_type": "markdown",
   "id": "001f68af",
   "metadata": {},
   "source": [
    "### ProductVendor"
   ]
  },
  {
   "cell_type": "code",
   "execution_count": null,
   "id": "40928557",
   "metadata": {},
   "outputs": [],
   "source": [
    "productvendors = adventureworks_purchasing_productvendor\n",
    "\n",
    "# dropping the modified date and rowguid columns\n",
    "drop_modified_date_rowguid(productvendors)\n",
    "\n",
    "# renaming the columns\n",
    "productvendors.rename(columns={'ProductID': 'PRODUCTVENDOR_PRODUCTVENDOR_ProductID', 'BusinessEntityID': 'PRODUCTVENDOR_PRODUCTVENDOR_BusinessEntityID', 'AverageLeadTime': 'PRODUCTVENDOR_PRODUCTVENDOR_AverageLeadTime', 'StandardPrice': 'PRODUCTVENDOR_PRODUCTVENDOR_StandardPrice', 'LastReceiptCost': 'PRODUCTVENDOR_PRODUCTVENDOR_LastReceiptCost', 'LastReceiptDate': 'PRODUCTVENDOR_PRODUCTVENDOR_LastReceiptDate', 'MinOrderQty': 'PRODUCTVENDOR_PRODUCTVENDOR_MinOrderQty', 'MaxOrderQty': 'PRODUCTVENDOR_PRODUCTVENDOR_MaxOrderQty', 'OnOrderQty': 'PRODUCTVENDOR_PRODUCTVENDOR_OnOrderQty', 'UnitMeasureCode' : 'PRODUCTVENDOR_PRODUCTVENDOR_UnitMeasureCode'}, inplace=True)\n",
    "\n",
    "productvendors.head()"
   ]
  },
  {
   "cell_type": "markdown",
   "id": "0588831f",
   "metadata": {},
   "source": [
    "### CustomerCustomerDemo"
   ]
  },
  {
   "cell_type": "code",
   "execution_count": null,
   "id": "01e448dd",
   "metadata": {},
   "outputs": [],
   "source": [
    "customercustomerdemos = northwind_customer_customer_demo\n",
    "\n",
    "# dropping the modified date and rowguid columns\n",
    "drop_modified_date_rowguid(customercustomerdemos)\n",
    "\n",
    "# renaming the columns\n",
    "customercustomerdemos.rename(columns={'CustomerID': 'CUSTOMERCUSTOMERDEMO_CUSTOMERCUSTOMERDEMO_CustomerID', 'CustomerTypeID': 'CUSTOMERCUSTOMERDEMO_CUSTOMERCUSTOMERDEMO_CustomerTypeID'}, inplace=True)\n",
    "\n",
    "customercustomerdemos.head()"
   ]
  },
  {
   "cell_type": "markdown",
   "id": "1c471099",
   "metadata": {},
   "source": [
    "### CustomerDemographics"
   ]
  },
  {
   "cell_type": "code",
   "execution_count": null,
   "id": "f7418ca6",
   "metadata": {},
   "outputs": [],
   "source": [
    "customerdemographics = northwind_customer_demographics\n",
    "\n",
    "# dropping the modified date and rowguid columns\n",
    "drop_modified_date_rowguid(customerdemographics)\n",
    "\n",
    "# renaming the columns\n",
    "customerdemographics.rename(columns={'CustomerTypeID': 'CUSTOMERDEMOGRAPHIC_CUSTOMERDEMOGRAPHICS_CustomerTypeID', 'CustomerDesc': 'CUSTOMERDEMOGRAPHIC_CUSTOMERDEMOGRAPHICS_CustomerDesc'}, inplace=True)\n",
    "\n",
    "customerdemographics.head()"
   ]
  },
  {
   "cell_type": "markdown",
   "id": "b4b52fc3",
   "metadata": {},
   "source": [
    "### SalesTerritoryHistory"
   ]
  },
  {
   "cell_type": "code",
   "execution_count": null,
   "id": "80287381",
   "metadata": {},
   "outputs": [],
   "source": [
    "salesterritoryhistories = adventureworks_sales_salesterritoryhistory\n",
    "\n",
    "# dropping the modified date and rowguid columns\n",
    "drop_modified_date_rowguid(salesterritoryhistories)\n",
    "\n",
    "# renaming the columns\n",
    "salesterritoryhistories.rename(columns={'BusinessEntityID': 'SALESTERRITORYHISTORY_SALESTERRITORYHISTORY_BusinessEntityID', 'TerritoryID': 'SALESTERRITORYHISTORY_SALESTERRITORYHISTORY_TerritoryID', 'StartDate': 'SALESTERRITORYHISTORY_SALESTERRITORYHISTORY_StartDate', 'EndDate': 'SALESTERRITORYHISTORY_SALESTERRITORYHISTORY_EndDate'}, inplace=True)\n",
    "\n",
    "salesterritoryhistories.head()"
   ]
  },
  {
   "cell_type": "markdown",
   "id": "49bbc033",
   "metadata": {},
   "source": [
    "### ProductListPriceHistory"
   ]
  },
  {
   "cell_type": "code",
   "execution_count": null,
   "id": "e70ceb70",
   "metadata": {},
   "outputs": [],
   "source": [
    "productlistpricehistories = adventureworks_production_productlistpricehistory\n",
    "\n",
    "# dropping the modified date and rowguid columns\n",
    "drop_modified_date_rowguid(productlistpricehistories)\n",
    "\n",
    "# renaming the columns\n",
    "productlistpricehistories.rename(columns={'ProductID': 'PRODUCTLISTPRICEHISTORY_PRODUCTLISTPRICEHISTORY_ProductID', 'StartDate': 'PRODUCTLISTPRICEHISTORY_PRODUCTLISTPRICEHISTORY_StartDate', 'EndDate': 'PRODUCTLISTPRICEHISTORY_PRODUCTLISTPRICEHISTORY_EndDate', 'ListPrice': 'PRODUCTLISTPRICEHISTORY_PRODUCTLISTPRICEHISTORY_ListPrice'}, inplace=True)\n",
    "\n",
    "productlistpricehistories.head()"
   ]
  },
  {
   "cell_type": "markdown",
   "id": "8c66046d",
   "metadata": {},
   "source": [
    "### ProductCostHistory"
   ]
  },
  {
   "cell_type": "code",
   "execution_count": null,
   "id": "b8db6398",
   "metadata": {},
   "outputs": [],
   "source": [
    "productcosthistories = adventureworks_production_productcosthistory\n",
    "\n",
    "# dropping the modified date and rowguid columns\n",
    "drop_modified_date_rowguid(productcosthistories)\n",
    "\n",
    "# renaming the columns\n",
    "productcosthistories.rename(columns={'ProductID': 'PRODUCTCOSTHISTORY_PRODUCTCOSTHISTORY_ProductID', 'StartDate': 'PRODUCTCOSTHISTORY_PRODUCTCOSTHISTORY_StartDate', 'EndDate': 'PRODUCTCOSTHISTORY_PRODUCTCOSTHISTORY_EndDate', 'StandardCost': 'PRODUCTCOSTHISTORY_PRODUCTCOSTHISTORY_StandardCost'}, inplace=True)\n",
    "\n",
    "productcosthistories.head()"
   ]
  },
  {
   "cell_type": "markdown",
   "id": "c79b5992",
   "metadata": {},
   "source": [
    "### ShoppingCartItem"
   ]
  },
  {
   "cell_type": "code",
   "execution_count": null,
   "id": "3edf8d61",
   "metadata": {},
   "outputs": [],
   "source": [
    "shoppingcartitems = adventureworks_sales_shoppingcartitem\n",
    "\n",
    "# dropping the modified date and rowguid columns\n",
    "drop_modified_date_rowguid(shoppingcartitems)\n",
    "\n",
    "# renaming the columns\n",
    "shoppingcartitems.rename(columns={'ShoppingCartItemID': 'SHOPPINGCARTITEM_SHOPPINGCARTITEM_ShoppingCartItemID', 'ShoppingCartID': 'SHOPPINGCARTITEM_SHOPPINGCARTITEM_ShoppingCartID', 'Quantity': 'SHOPPINGCARTITEM_SHOPPINGCARTITEM_Quantity', 'ProductID': 'SHOPPINGCARTITEM_SHOPPINGCARTITEM_ProductID', 'DateCreated': 'SHOPPINGCARTITEM_SHOPPINGCARTITEM_DateCreated'}, inplace=True)\n",
    "\n",
    "shoppingcartitems.head()"
   ]
  },
  {
   "cell_type": "markdown",
   "id": "6ba25cfd",
   "metadata": {},
   "source": [
    "### SalesPersonQuotaHistory"
   ]
  },
  {
   "cell_type": "code",
   "execution_count": null,
   "id": "59485d0d",
   "metadata": {},
   "outputs": [],
   "source": [
    "salespersonquotahistories = adventureworks_sales_salespersonquotahistory\n",
    "\n",
    "# dropping the modified date and rowguid columns\n",
    "drop_modified_date_rowguid(salespersonquotahistories)\n",
    "\n",
    "# renaming the columns\n",
    "salespersonquotahistories.rename(columns={'BusinessEntityID': 'SALESPERSONQUOTAHISTORY_SALESPERSONQUOTAHISTORY_BusinessEntityID', 'QuotaDate': 'SALESPERSONQUOTAHISTORY_SALESPERSONQUOTAHISTORY_QuotaDate', 'SalesQuota': 'SALESPERSONQUOTAHISTORY_SALESPERSONQUOTAHISTORY_SalesQuota'}, inplace=True)\n",
    "\n",
    "salespersonquotahistories.head()"
   ]
  },
  {
   "cell_type": "markdown",
   "id": "96a94681",
   "metadata": {},
   "source": [
    "### Customer"
   ]
  },
  {
   "cell_type": "code",
   "execution_count": null,
   "id": "8d952b72",
   "metadata": {},
   "outputs": [],
   "source": [
    "aenc_customer = aenc_customer[['fname', 'lname', 'state']]\n",
    "northwind_customers = northwind_customers.drop(columns='CustomerID')\n",
    "\n",
    "# combining all customer data\n",
    "customers = pd.concat([northwind_customers, aenc_customer, adventureworks_sales_customer], ignore_index=True)\n",
    "\n",
    "# rename\n",
    "customers.rename(columns={\n",
    "    'CustomerID': 'CUSTOMER_CUSTOMERS_ID',\n",
    "    'CompanyName': 'CUSTOMER_CUSTOMERS_CompanyName',\n",
    "    'ContactName': 'CUSTOMER_CUSTOMERS_ContactName',\n",
    "    'ContactTitle': 'CUSTOMER_CUSTOMERS_ContactTitle',\n",
    "    'Address': 'CUSTOMER_CUSTOMERS_Address',\n",
    "    'City': 'CUSTOMER_CUSTOMERS_City',\n",
    "    'Region': 'CUSTOMER_CUSTOMERS_Region',\n",
    "    'PostalCode': 'CUSTOMER_CUSTOMERS_PostalCode',\n",
    "    'Country': 'CUSTOMER_CUSTOMERS_Country',\n",
    "    'Phone': 'CUSTOMER_CUSTOMERS_Phone',\n",
    "    'Fax': 'CUSTOMER_CUSTOMERS_Fax',\n",
    "    'fname': 'CUSTOMER_CUSTOMER_Fname',\n",
    "    'lname': 'CUSTOMER_CUSTOMER_Lname',\n",
    "    'state': 'CUSTOMER_CUSTOMER_State',\n",
    "    'PersonID': 'CUSTOMER_CUSTOMER_PersonID',\n",
    "    'StoreID': 'CUSTOMER_CUSTOMER_StoreID',\n",
    "    'TerritoryID': 'CUSTOMER_CUSTOMER_TerritoryID',\n",
    "    'AccountNumber': 'CUSTOMER_CUSTOMER_AccountNumber'\n",
    "}, inplace=True)\n",
    "\n",
    "drop_modified_date_rowguid(customers)\n",
    "\n",
    "customers.head()"
   ]
  },
  {
   "cell_type": "markdown",
   "id": "3703516d",
   "metadata": {},
   "source": [
    "### SpecialOffer"
   ]
  },
  {
   "cell_type": "code",
   "execution_count": null,
   "id": "3f890825",
   "metadata": {},
   "outputs": [],
   "source": [
    "# merge specialoffer with specialofferproduct\n",
    "specialoffers = pd.merge(adventureworks_sales_specialoffer, adventureworks_sales_specialofferproduct, on=\"SpecialOfferID\")\n",
    "\n",
    "# drop rowguid and modifieddate\n",
    "drop_modified_date_rowguid(specialoffers)\n",
    "\n",
    "# rename to correct columns like in database\n",
    "specialoffers = specialoffers.rename(columns={\n",
    "    'SpecialOfferID': 'SPECIALOFFER_SPECIALOFFER_ID',\n",
    "    'ProductID': 'SPECIALOFFER_SPECIALOFFERPRODUCT_ProductID',\n",
    "    'Description': 'SPECIALOFFER_SPECIALOFFER_Description',\n",
    "    'DiscountPct': 'SPECIALOFFER_SPECIALOFFER_DiscountPCT',\n",
    "    'Type': 'SPECIALOFFER_SPECIALOFFER_Type',\n",
    "    'Category': 'SPECIALOFFER_SPECIALOFFER_Category',\n",
    "    'StartDate': 'SPECIALOFFER_SPECIALOFFER_StartDate',\n",
    "    'EndDate': 'SPECIALOFFER_SPECIALOFFER_EndDate',\n",
    "    'MinQty': 'SPECIALOFFER_SPECIALOFFER_MinQty',\n",
    "    'MaxQty': 'SPECIALOFFER_SPECIALOFFER_MaxQty'\n",
    "})\n",
    "\n",
    "specialoffers.head()"
   ]
  },
  {
   "cell_type": "markdown",
   "id": "af741b36",
   "metadata": {},
   "source": [
    "### CreditCard"
   ]
  },
  {
   "cell_type": "code",
   "execution_count": null,
   "id": "68056db5",
   "metadata": {},
   "outputs": [],
   "source": [
    "# merge creditcard with personcreditcard\n",
    "creditcards = pd.merge(adventureworks_sales_creditcard, adventureworks_sales_personcreditcard, on=\"CreditCardID\")\n",
    "\n",
    "# drop rowguid and modifieddate\n",
    "drop_modified_date_rowguid(creditcards)\n",
    "\n",
    "# rename to correct columns like in database\n",
    "creditcards = creditcards.rename(columns={\n",
    "    'CreditCardID': 'CREDITCARD_CREDITCARD_ID',\n",
    "    'CardType': 'CREDITCARD_CREDITCARD_CardType',\n",
    "    'CardNumber': 'CREDITCARD_CREDITCARD_CardNumber ',\n",
    "    'ExpMonth': 'CREDITCARD_CREDITCARD_ExpMonth',\n",
    "    'ExpYear': 'CREDITCARD_CREDITCARD_ExpYear',\n",
    "    'BusinessEntityID': 'CREDITCARD_PERSONCREDITCARD_BusinessEntityID'\n",
    "})\n",
    "\n",
    "creditcards.head()"
   ]
  },
  {
   "cell_type": "markdown",
   "id": "8710a102",
   "metadata": {},
   "source": [
    "### Supplier"
   ]
  },
  {
   "cell_type": "code",
   "execution_count": null,
   "id": "061c5dd9",
   "metadata": {},
   "outputs": [],
   "source": [
    "# rename\n",
    "suppliers = northwind_suppliers.rename(columns={\n",
    "    'SupplierID': 'SUPPLIER_SUPPLIERS_SupplierID',\n",
    "    'CompanyName': 'SUPPLIER_SUPPLIERS_CompanyName',\n",
    "    'ContactName': 'SUPPLIER_SUPPLIERS_ContactName',\n",
    "    'ContactTitle': 'SUPPLIER_SUPPLIERS_ContactTitle',\n",
    "    'Address': 'SUPPLIER_SUPPLIERS_Address',\n",
    "    'City': 'SUPPLIER_SUPPLIERS_City',\n",
    "    'Region': 'SUPPLIER_SUPPLIERS_Region',\n",
    "    'PostalCode': 'SUPPLIER_SUPPLIERS_PostalCode',\n",
    "    'Country': 'SUPPLIER_SUPPLIERS_Country',\n",
    "    'Phone': 'SUPPLIER_SUPPLIERS_Phone',\n",
    "    'Fax': 'SUPPLIER_SUPPLIERS_Fax',\n",
    "    'HomePage': 'SUPPLIER_SUPPLIERS_HomePage'\n",
    "})\n",
    "\n",
    "suppliers.head()"
   ]
  },
  {
   "cell_type": "markdown",
   "id": "fc1e195c",
   "metadata": {},
   "source": [
    "### Currency"
   ]
  },
  {
   "cell_type": "code",
   "execution_count": null,
   "id": "b58dd5fd",
   "metadata": {},
   "outputs": [],
   "source": [
    "# combine currency and countryregioncurrency\n",
    "currencies = pd.merge(adventureworks_sales_currency, adventureworks_sales_countryregioncurrency, on=\"CurrencyCode\")\n",
    "\n",
    "# now combine with currencyrate\n",
    "currencies = pd.concat([currencies, adventureworks_sales_currencyrate], ignore_index=True)\n",
    "\n",
    "#drop the modifieddate\n",
    "drop_modified_date_rowguid(currencies)\n",
    "\n",
    "#rename \n",
    "currencies = currencies.rename(columns={\n",
    "    'CurrencyCode': 'CURRENCY_CURRENCY_CurrencyCode',\n",
    "    'Name': 'CURRENCY_CURRENCY_Name',\n",
    "    'CountryRegionCode': 'CURRENCY_COUNTRYREGIONCURRENCY_CountryRegionCode',\n",
    "    'CurrencyRateID': 'CURRENCY_CURRENCYRATE_CurrencyRateID',\n",
    "    'CurrencyRateDate': 'CURRENCY_CURRENCYRATE_CurrencyRateDate',\n",
    "    'FromCurrencyCode': 'CURRENCY_CURRENCYRATE_FromCurrencyCode',\n",
    "    'ToCurrencyCode': 'CURRENCY_CURRENCYRATE_ToCurrencyCode',\n",
    "    'AverageRate': 'CURRENCY_CURRENCYRATE_AverageRate ',\n",
    "    'EndOfDayRate': 'CURRENCY_CURRENCYRATE_EndOfDayRate',\n",
    "})\n",
    "\n",
    "currencies.head()"
   ]
  },
  {
   "cell_type": "markdown",
   "id": "b37c5d39",
   "metadata": {},
   "source": [
    "### Territory"
   ]
  },
  {
   "cell_type": "code",
   "execution_count": null,
   "id": "83639440",
   "metadata": {},
   "outputs": [],
   "source": [
    "# combine sales territory first\n",
    "adventureworks_combined_territory = pd.merge(adventureworks_person_countryregion, adventureworks_person_stateprovince, on=\"CountryRegionCode\", suffixes=('_pcr', '_sts'))\n",
    "\n",
    "# now merge with salestaxrate\n",
    "adventureworks_combined_territory = pd.merge(adventureworks_combined_territory, adventureworks_sales_salestaxrate, on=\"StateProvinceID\", suffixes=('_st', '_sst'))\n",
    "\n",
    "# combine northwind region with territory\n",
    "nw_combined_territory = pd.merge(northwind_region, northwind_territories, on=\"RegionID\")\n",
    "\n",
    "# do the same for aenc\n",
    "aenc_combined_regionstate = pd.merge(aenc_region, aenc_state, on=\"region\")\n",
    "\n",
    "#concatinate the tables together\n",
    "territories = pd.concat([nw_combined_territory, aenc_combined_regionstate, adventureworks_combined_territory], ignore_index=True)\n",
    "\n",
    "# drop unneeded rowguid and modifieddate\n",
    "drop_modified_date_rowguid(territories)\n",
    "\n",
    "# rename columns\n",
    "territories = territories.rename(columns={\n",
    "    'RegionID': 'TERRITORY_REGION_RegionID',\n",
    "    'RegionDescription': 'TERRITORY_REGION_RegionDescription',\n",
    "    'TerritoryID': 'TERRITORY_TERRITORIES_TerritoryID',\n",
    "    'TerritoryDescription': 'TERRITORY_TERRITORIES_TerritoryDescription',\n",
    "    'region': 'TERRITORY_REGION_Region',\n",
    "    'state_id': 'TERRITORY_STATE_StateID',\n",
    "    'state_name': 'TERRITORY_STATE_StateName',\n",
    "    'state_capital': 'TERRITORY_STATE_StateCapital',\n",
    "    'country': 'TERRITORY_STATE_Country',\n",
    "    'CountryRegionCode': 'TERRITORY_COUNTRYREGION_CountryRegionCode',\n",
    "    'Name_pcr': 'TERRITORY_COUNTRYREGION_Name',\n",
    "    'StateProvinceID': 'TERRITORY_STATEPROVINCE_StateProvinceID',\n",
    "    'StateProvinceCode': 'TERRITORY_STATEPROVINCE_StateProvinceCode',\n",
    "    'IsOnlyStateProvinceFlag': 'TERRITORY_STATEPROVINCE_IsOnlyStateProvinceFlag',\n",
    "    'Name_sts': 'TERRITORY_STATEPROVINCE_Name',\n",
    "    'SalesTaxRateID': 'TERRITORY_SALESTAXRATE_SalesTaxRateID',\n",
    "    'TaxType': 'TERRITORY_SALESTAXRATE_TaxType',\n",
    "    'TaxRate': 'TERRITORY_SALESTAXRATE_TaxRate',\n",
    "    'Name': 'TERRITORY_SALESTAXRATE_Name'\n",
    "})\n",
    "\n",
    "territories.head()"
   ]
  },
  {
   "cell_type": "markdown",
   "id": "afd379f4",
   "metadata": {},
   "source": [
    "### OrderHeader"
   ]
  },
  {
   "cell_type": "code",
   "execution_count": null,
   "id": "96106949",
   "metadata": {},
   "outputs": [],
   "source": [
    "# combine orderdetail with orderheader\n",
    "orderheaders = pd.merge(adventureworks_sales_salesorderdetail, adventureworks_sales_salesorderheader, on=\"SalesOrderID\", suffixes=('_sod', '_soh'))\n",
    "\n",
    "# combine with salesorderheadersalesreason\n",
    "orderheaders = pd.merge(orderheaders, adventureworks_sales_salesorderhearerrsaleseason, on=\"SalesOrderID\")\n",
    "\n",
    "# combine with salesreason\n",
    "orderheaders = pd.merge(orderheaders, adventureworks_sales_salesreason, on=\"SalesReasonID\")\n",
    "\n",
    "#drop unneeded\n",
    "drop_modified_date_rowguid(orderheaders)\n",
    "\n",
    "# rename columns\n",
    "orderheaders = orderheaders.rename(columns={\n",
    "    'SalesOrderID': 'ORDERHEADER_SALESORDERDETAIL_SalesOrderID',\n",
    "    'SalesOrderDetailID': 'ORDERHEADER_SALESORDERDETAIL_SalesOrderDetailID',\n",
    "    'CarrierTrackingNumber': 'ORDERHEADER_SALESORDERDETAIL_CarrierTrackingNumber',\n",
    "    'OrderQty': 'ORDERHEADER_SALESORDERDETAIL_OrderQty',\n",
    "    'ProductID': 'ORDERHEADER_SALESORDERDETAIL_ProductID',\n",
    "    'SpecialOfferID': 'ORDERHEADER_SALESORDERDETAIL_SpecialOfferID',\n",
    "    'UnitPrice': 'ORDERHEADER_SALESORDERDETAIL_UnitPrice',\n",
    "    'UnitPriceDiscount': 'ORDERHEADER_SALESORDERDETAIL_UnitPriceDiscount',\n",
    "    'LineTotal': 'ORDERHEADER_SALESORDERDETAIL_LineTotal',\n",
    "    'RevisionNumber': 'ORDERHEADER_SALESORDERHEADER_RevisionNumber',\n",
    "    'OrderDate': 'ORDERHEADER_SALESORDERHEADER_OrderDate',\n",
    "    'DueDate': 'ORDERHEADER_SALESORDERHEADER_DueDate',\n",
    "    'ShipDate': 'ORDERHEADER_SALESORDERHEADER_ShipDate',\n",
    "    'Status': 'ORDERHEADER_SALESORDERHEADER_Status',\n",
    "    'OnlineOrderFlag': 'ORDERHEADER_SALESORDERHEADER_OnlineOrderFlag',\n",
    "    'SalesOrderNumber': 'ORDERHEADER_SALESORDERHEADER_SalesOrderNumber',\n",
    "    'PurchaseOrderNumber': 'ORDERHEADER_SALESORDERHEADER_PurchaseOrderNumber',\n",
    "    'AccountNumber': 'ORDERHEADER_SALESORDERHEADER_AccountNumber',\n",
    "    'CustomerID': 'ORDERHEADER_SALESORDERHEADER_CustomerID',\n",
    "    'SalesPersonID': 'ORDERHEADER_SALESORDERHEADER_SalesPersonID',\n",
    "    'TerritoryID': 'ORDERHEADER_SALESORDERHEADER_TerritoryID',\n",
    "    'BillToAddressID': 'ORDERHEADER_SALESORDERHEADER_BillToAddress',\n",
    "    'ShipToAddressID': 'ORDERHEADER_SALESORDERHEADER_ShipToAddress',\n",
    "    'ShipMethodID': 'ORDERHEADER_SALESORDERHEADER_ShipMethodID',\n",
    "    'CreditCardID': 'ORDERHEADER_SALESORDERHEADER_CreditCardID',\n",
    "    'CreditCardApprovalCode': 'ORDERHEADER_SALESORDERHEADER_CreditCardApprovalCode',\n",
    "    'CurrencyRateID': 'ORDERHEADER_SALESORDERHEADER_CurrencyRateID',\n",
    "    'SubTotal': 'ORDERHEADER_SALESORDERHEADER_SubTotal',\n",
    "    'TaxAmt': 'ORDERHEADER_SALESORDERHEADER_TaxAmt',\n",
    "    'Freight': 'ORDERHEADER_SALESORDERHEADER_Freight',\n",
    "    'TotalDue': 'ORDERHEADER_SALESORDERHEADER_TotalDue',\n",
    "    'Comment': 'ORDERHEADER_SALESORDERHEADER_Comment',\n",
    "    'SalesReasonID': 'ORDERHEADER_SALESREASON_SalesReasonID',\n",
    "    'Name': 'ORDERHEADER_SALESREASON_Name',\n",
    "    'ReasonType': 'ORDERHEADER_SALESREASON_ReasonType',\n",
    "})\n",
    "\n",
    "orderheaders.head()"
   ]
  },
  {
   "cell_type": "markdown",
   "id": "7a343189dd725896",
   "metadata": {},
   "source": [
    "### Date"
   ]
  },
  {
   "cell_type": "code",
   "execution_count": null,
   "id": "c88fd6cb7dbfa0b1",
   "metadata": {},
   "outputs": [],
   "source": [
    "def calculate_periods(periods_in_years): \n",
    "    return 365 * periods_in_years + (periods_in_years // 4) # divide by 4 for leap years\n",
    "\n",
    "periods = calculate_periods(50)\n",
    "\n",
    "date_table = {\n",
    "    'DATE_ID': pd.date_range(start='1996-01-01', periods=periods).strftime('%Y%m%d').astype(int),\n",
    "    'DATE_Date': pd.date_range(start='1996-01-01', periods=periods),\n",
    "    'DATE_Weekday': pd.date_range(start='1996-01-01', periods=periods).strftime('%A'),\n",
    "    'DATE_WeekdayNum': pd.date_range(start='1996-01-01', periods=periods).weekday + 1,\n",
    "    'DATE_DayMonth': pd.date_range(start='1996-01-01', periods=periods).day,\n",
    "    'DATE_DayOfYear': pd.date_range(start='1996-01-01', periods=periods).dayofyear,\n",
    "    'DATE_WeekOfYear': pd.date_range(start='1996-01-01', periods=periods).isocalendar().week,\n",
    "    'DATE_MonthNum': pd.date_range(start='1996-01-01', periods=periods).month,\n",
    "    'DATE_MonthName': pd.date_range(start='1996-01-01', periods=periods).strftime('%B'),\n",
    "    'DATE_MonthNameShort': pd.date_range(start='1996-01-01', periods=periods).strftime('%b'),\n",
    "    'DATE_Quarter': pd.date_range(start='1996-01-01', periods=periods).quarter,\n",
    "    'DATE_Year': pd.date_range(start='1996-01-01', periods=periods).year,\n",
    "    'DATE_FirstDayOfMonth': pd.date_range(start='1996-01-01', periods=periods).to_period('M').start_time,\n",
    "    'DATE_LastDayOfMonth': pd.date_range(start='1996-01-01', periods=periods).to_period('M').end_time.date,\n",
    "    'DATE_YYYYMM': pd.date_range(start='1996-01-01', periods=periods).strftime('%Y-%m'),\n",
    "    'DATE_WeekendIndr': pd.date_range(start='1996-01-01', periods=periods).weekday // 5\n",
    "}\n",
    "\n",
    "date_table = pd.DataFrame(date_table)\n",
    "date_table['DATE_WeekendIndr'] = date_table['DATE_WeekendIndr'].replace({0: 'weekday', 1: 'weekend'})\n",
    "\n",
    "date_table.tail()"
   ]
  },
  {
   "cell_type": "markdown",
   "id": "d270a075a20e5439",
   "metadata": {},
   "source": [
    "### Time"
   ]
  },
  {
   "cell_type": "code",
   "execution_count": null,
   "id": "8c93e7d7835676e7",
   "metadata": {},
   "outputs": [],
   "source": [
    "# Define the number of minutes in a day\n",
    "minutes_in_a_day = 24 * 60\n",
    "\n",
    "# Create the data dictionary for time dimension\n",
    "time_table = {\n",
    "    'TIME_ID': list(range(minutes_in_a_day)),\n",
    "    'TIME_Hour': [i // 60 for i in range(minutes_in_a_day)],\n",
    "    'TIME_Minute': [i % 60 for i in range(minutes_in_a_day)],\n",
    "    'TIME_HourMinute': [f'{hour:02d}:{minute:02d}' for hour in range(24) for minute in range(60)],\n",
    "}\n",
    "\n",
    "# Convert the dictionary to a DataFrame\n",
    "time_table = pd.DataFrame(time_table)\n",
    "\n",
    "# # Fetch existing data from the time dimension table\n",
    "# existing_data_query = \"SELECT TIME_ID FROM Time\"\n",
    "# existing_data = pd.read_sql(existing_data_query, united_outdoors_conn)\n",
    "\n",
    "# # Filter new data to include only records that are not already in the table\n",
    "# new_data_to_insert = time_table[~time_table['TIME_ID'].isin(existing_data['TIME_ID'])]\n",
    "\n",
    "time_table.head()"
   ]
  },
  {
   "cell_type": "markdown",
   "id": "a84884f724d7a607",
   "metadata": {},
   "source": [
    "### TransactionHistory"
   ]
  },
  {
   "cell_type": "code",
   "execution_count": null,
   "id": "5bd6257b254e7402",
   "metadata": {},
   "outputs": [],
   "source": [
    "transactionhistories = adventureworks_production_transactionhistory\n",
    "\n",
    "# dropping the modified date and rowguid columns\n",
    "drop_modified_date_rowguid(transactionhistories)\n",
    "\n",
    "# renaming the columns\n",
    "transactionhistories.rename(columns={'TransactionID': 'TRANSACTIONHISTORY_TRANSACTIONHISTORY_TransactionID', 'ProductID': 'TRANSACTIONHISTORY_TRANSACTIONHISTORY_ProductID', 'ReferenceOrderID': 'TRANSACTIONHISTORY_TRANSACTIONHISTORY_ReferenceOrderID', 'ReferenceOrderLineID': 'TRANSACTIONHISTORY_TRANSACTIONHISTORY_ReferenceOrderLineID', 'TransactionDate': 'TRANSACTIONHISTORY_TRANSACTIONHISTORY_TransactionDate', 'TransactionType': 'TRANSACTIONHISTORY_TRANSACTIONHISTORY_TransactionType', 'Quantity': 'TRANSACTIONHISTORY_TRANSACTIONHISTORY_Quantity', 'ActualCost': 'TRANSACTIONHISTORY_TRANSACTIONHISTORY_ActualCost'}, inplace=True)\n",
    "\n",
    "transactionhistories.head()"
   ]
  },
  {
   "cell_type": "markdown",
   "id": "5a31b805f8e21248",
   "metadata": {},
   "source": [
    "### TransactionHistoryArchive"
   ]
  },
  {
   "cell_type": "code",
   "execution_count": null,
   "id": "b282f17df0819f73",
   "metadata": {},
   "outputs": [],
   "source": [
    "transactionhistoryarchives = adventureworks_production_transactionhistoryarchive\n",
    "\n",
    "# dropping the modified date and rowguid columns\n",
    "drop_modified_date_rowguid(transactionhistoryarchives)\n",
    "\n",
    "# renaming the columns\n",
    "transactionhistoryarchives.rename(columns={'TransactionID': 'TRANSACTIONHISTORYARCHIVE_TRANSACTIONHISTORYARCHIVE_TransactionID', 'ProductID': 'TRANSACTIONHISTORYARCHIVE_TRANSACTIONHISTORYARCHIVE_ProductID', 'ReferenceOrderID': 'TRANSACTIONHISTORYARCHIVE_TRANSACTIONHISTORYARCHIVE_ReferenceOrderID', 'ReferenceOrderLineID': 'TRANSACTIONHISTORYARCHIVE_TRANSACTIONHISTORYARCHIVE_ReferenceOrderLineID', 'TransactionDate': 'TRANSACTIONHISTORYARCHIVE_TRANSACTIONHISTORYARCHIVE_TransactionDate', 'TransactionType': 'TRANSACTIONHISTORYARCHIVE_TRANSACTIONHISTORYARCHIVE_TransactionType', 'Quantity': 'TRANSACTIONHISTORYARCHIVE_TRANSACTIONHISTORYARCHIVE_Quantity', 'ActualCost': 'TRANSACTIONHISTORYARCHIVE_TRANSACTIONHISTORYARCHIVE_ActualCost'}, inplace=True)\n",
    "\n",
    "transactionhistoryarchives.head()"
   ]
  },
  {
   "cell_type": "markdown",
   "id": "854e72b638e94071",
   "metadata": {},
   "source": [
    "### ProductReview"
   ]
  },
  {
   "cell_type": "code",
   "execution_count": null,
   "id": "b1954086149e7b6a",
   "metadata": {},
   "outputs": [],
   "source": [
    "productreviews = adventureworks_production_productreview\n",
    "\n",
    "# dropping the modified date and rowguid columns\n",
    "drop_modified_date_rowguid(productreviews)\n",
    "\n",
    "# renaming the columns\n",
    "productreviews.rename(columns={'ProductReviewID': 'PRODUCTREVIEW_PRODUCTREVIEW_ProductReviewID', 'ProductID': 'PRODUCTREVIEW_PRODUCTREVIEW_ProductID', 'ReviewerName': 'PRODUCTREVIEW_PRODUCTREVIEW_ReviewerName', 'ReviewDate': 'PRODUCTREVIEW_PRODUCTREVIEW_ReviewDate', 'EmailAddress': 'PRODUCTREVIEW_PRODUCTREVIEW_EmailAddress', 'Rating': 'PRODUCTREVIEW_PRODUCTREVIEW_Rating', 'Comments': 'PRODUCTREVIEW_PRODUCTREVIEW_Comments'}, inplace=True)\n",
    "\n",
    "productreviews.head()"
   ]
  },
  {
   "cell_type": "markdown",
   "id": "d0f00e5402972728",
   "metadata": {},
   "source": [
    "### Products (TODO CHANGE)"
   ]
  },
  {
   "cell_type": "code",
   "execution_count": null,
   "id": "cd3510b9a8343584",
   "metadata": {},
   "outputs": [],
   "source": [
    "product_aenc = aenc_product.rename(columns={'id' : 'PRODUCT_PRODUCT_ID',\n",
    "                                            'name' : 'PRODUCT_PRODUCT_Name',\n",
    "                                            'description' : 'PRODUCT_PRODUCTDESCRIPTION_Desc',\n",
    "                                            'prod_size' : 'PRODUCT_PRODUCT_Size',\n",
    "                                            'color' : 'PRODUCT_PRODUCT_Color',\n",
    "                                            'unit_price' : 'PRODUCT_PRODUCT_UnitPrice',\n",
    "                                            'picture_name' : 'PRODUCT_PRODUCTPHOTO_ThumbnailPhotoFileName',\n",
    "                                            'Category' : 'PRODUCT_PRODUCTCATEGORY_Category',\n",
    "                                            })\n",
    "\n",
    "product_aenc.drop(columns=['quantity'], inplace=True)"
   ]
  },
  {
   "cell_type": "code",
   "execution_count": null,
   "id": "13207e54",
   "metadata": {},
   "outputs": [],
   "source": [
    "product_northwind = northwind_products.merge(northwind_categories, on='CategoryID', how='left')\n",
    "\n",
    "product_northwind = product_northwind.rename(columns={'ProductID' : 'PRODUCT_PRODUCT_ID',\n",
    "                                                        'ProductName' : 'PRODUCT_PRODUCT_Name',\n",
    "                                                        'SupplierID' : 'PRODUCT_PRODUCT_SupplierID',\n",
    "                                                        'CategoryID' : 'PRODUCT_PRODUCTSUBCATEGORY_CategoryID',\n",
    "                                                        'QuantityPerUnit' : 'PRODUCT_PRODUCT_QuantityPerUnit',\n",
    "                                                        'UnitPrice' : 'PRODUCT_PRODUCT_UnitPrice',\n",
    "                                                        'UnitsOnOrder' : 'PRODUCT_PRODUCT_UnitsOnOrder',\n",
    "                                                        'ReorderLevel' : 'PRODUCT_PRODUCT_ReorderLevel',\n",
    "                                                        'Discontinued' : 'PRODUCT_PRODUCT_Discontinued',\n",
    "                                                        'CategoryName' : 'PRODUCT_PRODUCTCATEGORY_Category',\n",
    "                                                        'Description' : 'PRODUCT_PRODUCTDESCRIPTION_Desc',\n",
    "                                                        'Picture' : 'PRODUCT_CATEGORY_Picture'\n",
    "                                                        })\n",
    "\n",
    "product_northwind.drop(columns=['UnitsInStock'], inplace=True)\n",
    "\n",
    "product_northwind.dtypes"
   ]
  },
  {
   "cell_type": "code",
   "execution_count": null,
   "id": "a09a9a7c",
   "metadata": {},
   "outputs": [],
   "source": [
    "# combining all adventureworks product data\n",
    "product_adventure_works = pd.merge(adventureworks_production_product, adventureworks_production_unitmeasure, left_on='SizeUnitMeasureCode', right_on='UnitMeasureCode', how='left')\n",
    "product_adventure_works.rename(columns={'Name_y' : 'PRODUCT_PRODUCT_SizeUnitMeasureName'}, inplace=True)\n",
    "product_adventure_works.rename(columns={'SizeUnitMeasureCode' : 'PRODUCT_PRODUCT_SizeUnitMeasureCode'}, inplace=True)\n",
    "product_adventure_works.drop(columns=['UnitMeasureCode'], inplace=True)\n",
    "product_adventure_works.drop(columns=['rowguid'], inplace=True)\n",
    "product_adventure_works.drop(columns=['ModifiedDate_x'], inplace=True)\n",
    "product_adventure_works.drop(columns=['ModifiedDate_y'], inplace=True)\n",
    "\n",
    "product_adventure_works = pd.merge(product_adventure_works, adventureworks_production_unitmeasure, left_on='WeightUnitMeasureCode', right_on='UnitMeasureCode', how='left')\n",
    "product_adventure_works.rename(columns={'Name' : 'PRODUCT_PRODUCT_WeightUnitMeasureName'}, inplace=True)\n",
    "product_adventure_works.rename(columns={'WeightUnitMeasureCode' : 'PRODUCT_PRODUCT_WeightUnitMeasureCode'}, inplace=True)\n",
    "product_adventure_works.drop(columns=['UnitMeasureCode'], inplace=True)\n",
    "product_adventure_works.drop(columns=['ModifiedDate'], inplace=True)\n",
    "\n",
    "product_adventure_works = pd.merge(product_adventure_works, adventureworks_production_productsubcategory, left_on='ProductSubcategoryID', right_on='ProductSubcategoryID', how='left')\n",
    "product_adventure_works.rename(columns={'Name' : 'PRODUCT_PRODUCTSUBCATEGORY_SubCategory'}, inplace=True)\n",
    "product_adventure_works.rename(columns={'ProductSubcategoryID' : 'PRODUCT_PRODUCT_SubCategoryID'}, inplace=True)\n",
    "product_adventure_works.drop(columns=['rowguid'], inplace=True)\n",
    "product_adventure_works.drop(columns=['ModifiedDate'], inplace=True)\n",
    "\n",
    "product_adventure_works = pd.merge(product_adventure_works, adventureworks_production_productcategory, left_on='ProductCategoryID', right_on='ProductCategoryID', how='left')\n",
    "product_adventure_works.rename(columns={'Name' : 'PRODUCT_PRODUCTCATEGORY_Category'}, inplace=True)\n",
    "product_adventure_works.rename(columns={'ProductCategoryID' : 'PRODUCT_PRODUCTSUBCATEGORY_CategoryID'}, inplace=True)\n",
    "product_adventure_works.drop(columns=['rowguid'], inplace=True)\n",
    "product_adventure_works.drop(columns=['ModifiedDate'], inplace=True)\n",
    "\n",
    "product_adventure_works = pd.merge(product_adventure_works, adventureworks_production_productmodel, left_on='ProductModelID', right_on='ProductModelID', how='left')\n",
    "product_adventure_works.rename(columns={'Name' : 'PRODUCT_PRODUCTMODEL_Name'}, inplace=True)\n",
    "product_adventure_works.rename(columns={'CatalogDescription' : 'PRODUCT_PRODUCTMODEL_CatalogDescription'}, inplace=True)\n",
    "product_adventure_works.rename(columns={'Instructions' : 'PRODUCT_PRODUCTMODEL_Instructions'}, inplace=True)\n",
    "product_adventure_works.drop(columns=['rowguid'], inplace=True)\n",
    "product_adventure_works.drop(columns=['ModifiedDate'], inplace=True)\n",
    "\n",
    "product_adventure_works = pd.merge(product_adventure_works, adventureworks_production_productmodelillustration, left_on='ProductModelID', right_on='ProductModelID', how='left')\n",
    "product_adventure_works.rename(columns={'ProductModelID' : 'PRODUCT_PRODUCT_ModelID'}, inplace=True)\n",
    "product_adventure_works.drop(columns=['ModifiedDate'], inplace=True)\n",
    "\n",
    "product_adventure_works = pd.merge(product_adventure_works, adventureworks_production_illustration, left_on='IllustrationID', right_on='IllustrationID', how='left')\n",
    "product_adventure_works.rename(columns={'IllustrationID' : 'PRODUCT_PRODUCTMODELILLUSTRATION_IllustrationID'}, inplace=True)\n",
    "product_adventure_works.rename(columns={'Diagram' : 'PRODUCT_ILLUSTRATION_Diagram'}, inplace=True)\n",
    "product_adventure_works.drop(columns=['ModifiedDate'], inplace=True)\n",
    "\n",
    "product_adventure_works = pd.merge(product_adventure_works, adventureworks_production_productmodelproductdescriptionculture , left_on='PRODUCT_PRODUCT_ModelID', right_on='ProductModelID', how='left')\n",
    "product_adventure_works.drop(columns=['ProductModelID'], inplace=True)\n",
    "product_adventure_works.drop(columns=['ModifiedDate'], inplace=True)\n",
    "\n",
    "product_adventure_works = pd.merge(product_adventure_works, adventureworks_production_culture , left_on='CultureID', right_on='CultureID', how='left')\n",
    "product_adventure_works.rename(columns={'CultureID' : 'PRODUCT_PMPDC_CultureID'}, inplace=True)\n",
    "product_adventure_works.rename(columns={'Name' : 'PRODUCT_CULTURE_Name'}, inplace=True)\n",
    "product_adventure_works.drop(columns=['ModifiedDate'], inplace=True)\n",
    "\n",
    "product_adventure_works = pd.merge(product_adventure_works, adventureworks_production_productdescription, left_on='ProductDescriptionID', right_on='ProductDescriptionID', how='left')\n",
    "product_adventure_works.rename(columns={'ProductDescriptionID' : 'PRODUCT_PMPDC_DescriptionID'}, inplace=True)\n",
    "product_adventure_works.rename(columns={'Description' : 'PRODUCT_PRODUCTDESCRIPTION_Desc'}, inplace=True)\n",
    "product_adventure_works.drop(columns=['rowguid'], inplace=True)\n",
    "product_adventure_works.drop(columns=['ModifiedDate'], inplace=True)\n",
    "\n",
    "product_adventure_works = pd.merge(product_adventure_works, adventureworks_production_productproductphoto, left_on='ProductID', right_on='ProductID', how='left')\n",
    "product_adventure_works.rename(columns={'Primary' : 'PRODUCT_PRODUCTPRODUCTPHOTO_Primary'}, inplace=True)\n",
    "product_adventure_works.drop(columns=['ModifiedDate'], inplace=True)\n",
    "\n",
    "product_adventure_works = pd.merge(product_adventure_works, adventureworks_production_productphoto, left_on='ProductPhotoID', right_on='ProductPhotoID', how='left')\n",
    "product_adventure_works.rename(columns={'ProductPhotoID' : 'PRODUCT_PRODUCTPRODUCTPHOTO_PhotoID'}, inplace=True)\n",
    "product_adventure_works.rename(columns={'ThumbNailPhotoHexString' : 'PRODUCT_PRODUCTPHOTO_ThumbnailPhotoHexString'}, inplace=True)\n",
    "product_adventure_works.rename(columns={'LargePhotoHexString' : 'PRODUCT_PRODUCTPHOTO_LargePhotoHexString'}, inplace=True)\n",
    "product_adventure_works.rename(columns={'ThumbNailPhotoFileName' : 'PRODUCT_PRODUCTPHOTO_ThumbnailPhotoFileName'}, inplace=True)\n",
    "product_adventure_works.rename(columns={'LargePhotoFileName' : 'PRODUCT_PRODUCTPHOTO_LargePhotoFileName'}, inplace=True)\n",
    "product_adventure_works.drop(columns=['ModifiedDate'], inplace=True)\n",
    "\n",
    "product_adventure_works = product_adventure_works.rename(columns={'ProductID' : 'PRODUCT_PRODUCT_ID',\n",
    "                                                                    'Name_x' : 'PRODUCT_PRODUCT_Name',\n",
    "                                                                    'ProductNumber' : 'PRODUCT_PRODUCT_Number',\n",
    "                                                                    'MakeFlag' : 'PRODUCT_PRODUCT_MakeFlag',\n",
    "                                                                    'FinishedGoodsFlag' : 'PRODUCT_PRODUCT_FinishedGoodsFlag',\n",
    "                                                                    'SafetyStockLevel' : 'PRODUCT_PRODUCT_SafetyStockLevel',\n",
    "                                                                    'ReorderPoint' : 'PRODUCT_PRODUCT_ReorderPoint',\n",
    "                                                                    'StandardCost' : 'PRODUCT_PRODUCT_StandardCost',\n",
    "                                                                    'ListPrice' : 'PRODUCT_PRODUCT_ListPrice',\n",
    "                                                                    'Size' : 'PRODUCT_PRODUCT_Size',\n",
    "                                                                    'Weight' : 'PRODUCT_PRODUCT_Weight',\n",
    "                                                                    'DaysToManufacture' : 'PRODUCT_PRODUCT_DaysToManufacture',\n",
    "                                                                    'ProductLine' : 'PRODUCT_PRODUCT_ProductLine',\n",
    "                                                                    'Class' : 'PRODUCT_PRODUCT_Class',\n",
    "                                                                    'Style' : 'PRODUCT_PRODUCT_Style',\n",
    "                                                                    'SellStartDate' : 'PRODUCT_PRODUCT_SellStartDate',\n",
    "                                                                    'SellEndDate' : 'PRODUCT_PRODUCT_SellEndDate',\n",
    "                                                                    'DiscontinuedDate' : 'PRODUCT_PRODUCT_DiscountedDate',\n",
    "                                                                    'Color' : 'PRODUCT_PRODUCT_Color',\n",
    "                                                                    }) \n",
    "\n",
    "# # applying the data types to the columns\n",
    "product_adventure_works['PRODUCT_PRODUCT_ID'] = product_adventure_works['PRODUCT_PRODUCT_ID'].astype(float) # casting to float seems counterintuitive but it is necessary to avoid an error in Pandas\n",
    "\n",
    "product_combined = pd.concat([product_adventure_works, product_aenc, product_northwind], ignore_index=True)\n",
    "\n",
    "\n",
    "# Wasted hours of my life, sometimes it works and sometimes it doesn't.\n",
    "# product_combined.drop(columns=['PRODUCT_CATEGORY_Picture'], inplace=True)       \n",
    "# product_combined.drop(columns=['PRODUCT_PRODUCTPHOTO_ThumbnailPhotoHexString'], inplace=True) \n",
    "# product_combined.drop(columns=['PRODUCT_PRODUCTPHOTO_LargePhotoHexString'], inplace=True)     \n",
    "# product_combined.drop(columns=['PRODUCT_PRODUCTMODEL_CatalogDescription'], inplace=True)     \n",
    "# product_combined.drop(columns=['PRODUCT_PRODUCTMODEL_Instructions'], inplace=True)     \n",
    "# product_combined.drop(columns=['PRODUCT_ILLUSTRATION_Diagram'], inplace=True)\n",
    "# product_combined.drop(columns=['PRODUCT_PRODUCTPHOTO_ThumbnailPhotoFileName'], inplace=True)\n",
    "# product_combined.drop(columns=['PRODUCT_PRODUCTPHOTO_LargePhotoFileName'], inplace=True)\n",
    "# product_combined.drop(columns=['PRODUCT_PRODUCTDESCRIPTION_Desc'], inplace=True)"
   ]
  },
  {
   "cell_type": "code",
   "execution_count": 120,
   "id": "52a700e7372e5349",
   "metadata": {
    "ExecuteTime": {
     "end_time": "2024-05-20T13:30:07.587562Z",
     "start_time": "2024-05-20T13:30:07.567490Z"
    },
    "nbdime-conflicts": {
     "local_diff": [
      {
       "diff": [
        {
         "diff": [
          {
           "key": 0,
           "op": "addrange",
           "valuelist": [
            "2024-05-16T14:59:29.497842Z"
           ]
          },
          {
           "key": 0,
           "length": 1,
           "op": "removerange"
          }
         ],
         "key": "end_time",
         "op": "patch"
        },
        {
         "diff": [
          {
           "key": 0,
           "op": "addrange",
           "valuelist": [
            "2024-05-16T14:59:29.481860Z"
           ]
          },
          {
           "key": 0,
           "length": 1,
           "op": "removerange"
          }
         ],
         "key": "start_time",
         "op": "patch"
        }
       ],
       "key": "ExecuteTime",
       "op": "patch"
      }
     ],
     "remote_diff": [
      {
       "key": "ExecuteTime",
       "op": "remove"
      }
     ]
    }
   },
   "outputs": [
    {
     "data": {
      "text/html": [
       "<div>\n",
       "<style scoped>\n",
       "    .dataframe tbody tr th:only-of-type {\n",
       "        vertical-align: middle;\n",
       "    }\n",
       "\n",
       "    .dataframe tbody tr th {\n",
       "        vertical-align: top;\n",
       "    }\n",
       "\n",
       "    .dataframe thead th {\n",
       "        text-align: right;\n",
       "    }\n",
       "</style>\n",
       "<table border=\"1\" class=\"dataframe\">\n",
       "  <thead>\n",
       "    <tr style=\"text-align: right;\">\n",
       "      <th></th>\n",
       "      <th>ProductID</th>\n",
       "      <th>Name</th>\n",
       "      <th>ProductNumber</th>\n",
       "      <th>MakeFlag</th>\n",
       "      <th>FinishedGoodsFlag</th>\n",
       "      <th>Color</th>\n",
       "      <th>SafetyStockLevel</th>\n",
       "      <th>ReorderPoint</th>\n",
       "      <th>StandardCost</th>\n",
       "      <th>ListPrice</th>\n",
       "      <th>...</th>\n",
       "      <th>CatalogDescription</th>\n",
       "      <th>Instructions</th>\n",
       "      <th>IllustrationID</th>\n",
       "      <th>CultureID</th>\n",
       "      <th>ProductPhotoID</th>\n",
       "      <th>ThumbNailPhotoHexString</th>\n",
       "      <th>ThumbNailPhotoFileName</th>\n",
       "      <th>LargePhotoHexString</th>\n",
       "      <th>LargePhotoFileName</th>\n",
       "      <th>Primary</th>\n",
       "    </tr>\n",
       "  </thead>\n",
       "  <tbody>\n",
       "    <tr>\n",
       "      <th>0</th>\n",
       "      <td>1.0</td>\n",
       "      <td>Adjustable Race</td>\n",
       "      <td>AR-5381</td>\n",
       "      <td>False</td>\n",
       "      <td>False</td>\n",
       "      <td>None</td>\n",
       "      <td>1000.0</td>\n",
       "      <td>750.0</td>\n",
       "      <td>0.0</td>\n",
       "      <td>0.0</td>\n",
       "      <td>...</td>\n",
       "      <td>NaN</td>\n",
       "      <td>NaN</td>\n",
       "      <td>NaN</td>\n",
       "      <td>NaN</td>\n",
       "      <td>NaN</td>\n",
       "      <td>NaN</td>\n",
       "      <td>NaN</td>\n",
       "      <td>NaN</td>\n",
       "      <td>NaN</td>\n",
       "      <td>NaN</td>\n",
       "    </tr>\n",
       "    <tr>\n",
       "      <th>1</th>\n",
       "      <td>2.0</td>\n",
       "      <td>Bearing Ball</td>\n",
       "      <td>BA-8327</td>\n",
       "      <td>False</td>\n",
       "      <td>False</td>\n",
       "      <td>None</td>\n",
       "      <td>1000.0</td>\n",
       "      <td>750.0</td>\n",
       "      <td>0.0</td>\n",
       "      <td>0.0</td>\n",
       "      <td>...</td>\n",
       "      <td>NaN</td>\n",
       "      <td>NaN</td>\n",
       "      <td>NaN</td>\n",
       "      <td>NaN</td>\n",
       "      <td>NaN</td>\n",
       "      <td>NaN</td>\n",
       "      <td>NaN</td>\n",
       "      <td>NaN</td>\n",
       "      <td>NaN</td>\n",
       "      <td>NaN</td>\n",
       "    </tr>\n",
       "    <tr>\n",
       "      <th>2</th>\n",
       "      <td>3.0</td>\n",
       "      <td>BB Ball Bearing</td>\n",
       "      <td>BE-2349</td>\n",
       "      <td>True</td>\n",
       "      <td>False</td>\n",
       "      <td>None</td>\n",
       "      <td>800.0</td>\n",
       "      <td>600.0</td>\n",
       "      <td>0.0</td>\n",
       "      <td>0.0</td>\n",
       "      <td>...</td>\n",
       "      <td>NaN</td>\n",
       "      <td>NaN</td>\n",
       "      <td>NaN</td>\n",
       "      <td>NaN</td>\n",
       "      <td>NaN</td>\n",
       "      <td>NaN</td>\n",
       "      <td>NaN</td>\n",
       "      <td>NaN</td>\n",
       "      <td>NaN</td>\n",
       "      <td>NaN</td>\n",
       "    </tr>\n",
       "    <tr>\n",
       "      <th>3</th>\n",
       "      <td>4.0</td>\n",
       "      <td>Headset Ball Bearings</td>\n",
       "      <td>BE-2908</td>\n",
       "      <td>False</td>\n",
       "      <td>False</td>\n",
       "      <td>None</td>\n",
       "      <td>800.0</td>\n",
       "      <td>600.0</td>\n",
       "      <td>0.0</td>\n",
       "      <td>0.0</td>\n",
       "      <td>...</td>\n",
       "      <td>NaN</td>\n",
       "      <td>NaN</td>\n",
       "      <td>NaN</td>\n",
       "      <td>NaN</td>\n",
       "      <td>NaN</td>\n",
       "      <td>NaN</td>\n",
       "      <td>NaN</td>\n",
       "      <td>NaN</td>\n",
       "      <td>NaN</td>\n",
       "      <td>NaN</td>\n",
       "    </tr>\n",
       "    <tr>\n",
       "      <th>4</th>\n",
       "      <td>316.0</td>\n",
       "      <td>Blade</td>\n",
       "      <td>BL-2036</td>\n",
       "      <td>True</td>\n",
       "      <td>False</td>\n",
       "      <td>None</td>\n",
       "      <td>800.0</td>\n",
       "      <td>600.0</td>\n",
       "      <td>0.0</td>\n",
       "      <td>0.0</td>\n",
       "      <td>...</td>\n",
       "      <td>NaN</td>\n",
       "      <td>NaN</td>\n",
       "      <td>NaN</td>\n",
       "      <td>NaN</td>\n",
       "      <td>NaN</td>\n",
       "      <td>NaN</td>\n",
       "      <td>NaN</td>\n",
       "      <td>NaN</td>\n",
       "      <td>NaN</td>\n",
       "      <td>NaN</td>\n",
       "    </tr>\n",
       "  </tbody>\n",
       "</table>\n",
       "<p>5 rows × 40 columns</p>\n",
       "</div>"
      ],
      "text/plain": [
       "   ProductID                   Name ProductNumber MakeFlag FinishedGoodsFlag  \\\n",
       "0        1.0        Adjustable Race       AR-5381    False             False   \n",
       "1        2.0           Bearing Ball       BA-8327    False             False   \n",
       "2        3.0        BB Ball Bearing       BE-2349     True             False   \n",
       "3        4.0  Headset Ball Bearings       BE-2908    False             False   \n",
       "4      316.0                  Blade       BL-2036     True             False   \n",
       "\n",
       "  Color  SafetyStockLevel  ReorderPoint  StandardCost  ListPrice  ...  \\\n",
       "0  None            1000.0         750.0           0.0        0.0  ...   \n",
       "1  None            1000.0         750.0           0.0        0.0  ...   \n",
       "2  None             800.0         600.0           0.0        0.0  ...   \n",
       "3  None             800.0         600.0           0.0        0.0  ...   \n",
       "4  None             800.0         600.0           0.0        0.0  ...   \n",
       "\n",
       "  CatalogDescription Instructions IllustrationID  CultureID  ProductPhotoID  \\\n",
       "0                NaN          NaN            NaN        NaN             NaN   \n",
       "1                NaN          NaN            NaN        NaN             NaN   \n",
       "2                NaN          NaN            NaN        NaN             NaN   \n",
       "3                NaN          NaN            NaN        NaN             NaN   \n",
       "4                NaN          NaN            NaN        NaN             NaN   \n",
       "\n",
       "  ThumbNailPhotoHexString ThumbNailPhotoFileName LargePhotoHexString  \\\n",
       "0                     NaN                    NaN                 NaN   \n",
       "1                     NaN                    NaN                 NaN   \n",
       "2                     NaN                    NaN                 NaN   \n",
       "3                     NaN                    NaN                 NaN   \n",
       "4                     NaN                    NaN                 NaN   \n",
       "\n",
       "   LargePhotoFileName  Primary  \n",
       "0                 NaN      NaN  \n",
       "1                 NaN      NaN  \n",
       "2                 NaN      NaN  \n",
       "3                 NaN      NaN  \n",
       "4                 NaN      NaN  \n",
       "\n",
       "[5 rows x 40 columns]"
      ]
     },
     "execution_count": 120,
     "metadata": {},
     "output_type": "execute_result"
    }
   ],
   "source": [
    "# combining all adventureworks product data\n",
    "adventureworks_combined_products = pd.concat([adventureworks_production_product, adventureworks_production_productcategory, adventureworks_production_productsubcategory, adventureworks_production_productdescription, adventureworks_production_productdocument, adventureworks_production_productmodel, adventureworks_production_productmodelillustration, adventureworks_production_productmodelproductdescriptionculture, adventureworks_production_productphoto, adventureworks_production_productproductphoto  ], ignore_index=True)\n",
    "\n",
    "adventureworks_combined_products.head()"
   ]
  },
  {
   "cell_type": "code",
   "execution_count": 121,
   "id": "53115252ca2d1bf3",
   "metadata": {
    "ExecuteTime": {
     "end_time": "2024-05-20T13:30:07.606663Z",
     "start_time": "2024-05-20T13:30:07.588567Z"
    },
    "nbdime-conflicts": {
     "local_diff": [
      {
       "diff": [
        {
         "diff": [
          {
           "key": 0,
           "op": "addrange",
           "valuelist": [
            "2024-05-16T14:59:29.516879Z"
           ]
          },
          {
           "key": 0,
           "length": 1,
           "op": "removerange"
          }
         ],
         "key": "end_time",
         "op": "patch"
        },
        {
         "diff": [
          {
           "key": 0,
           "op": "addrange",
           "valuelist": [
            "2024-05-16T14:59:29.498347Z"
           ]
          },
          {
           "key": 0,
           "length": 1,
           "op": "removerange"
          }
         ],
         "key": "start_time",
         "op": "patch"
        }
       ],
       "key": "ExecuteTime",
       "op": "patch"
      }
     ],
     "remote_diff": [
      {
       "key": "ExecuteTime",
       "op": "remove"
      }
     ]
    }
   },
   "outputs": [
    {
     "data": {
      "text/html": [
       "<div>\n",
       "<style scoped>\n",
       "    .dataframe tbody tr th:only-of-type {\n",
       "        vertical-align: middle;\n",
       "    }\n",
       "\n",
       "    .dataframe tbody tr th {\n",
       "        vertical-align: top;\n",
       "    }\n",
       "\n",
       "    .dataframe thead th {\n",
       "        text-align: right;\n",
       "    }\n",
       "</style>\n",
       "<table border=\"1\" class=\"dataframe\">\n",
       "  <thead>\n",
       "    <tr style=\"text-align: right;\">\n",
       "      <th></th>\n",
       "      <th>ProductID</th>\n",
       "      <th>ProductName</th>\n",
       "      <th>SupplierID</th>\n",
       "      <th>CategoryID</th>\n",
       "      <th>QuantityPerUnit</th>\n",
       "      <th>UnitPrice</th>\n",
       "      <th>UnitsInStock</th>\n",
       "      <th>UnitsOnOrder</th>\n",
       "      <th>ReorderLevel</th>\n",
       "      <th>Discontinued</th>\n",
       "      <th>...</th>\n",
       "      <th>CatalogDescription</th>\n",
       "      <th>Instructions</th>\n",
       "      <th>IllustrationID</th>\n",
       "      <th>CultureID</th>\n",
       "      <th>ProductPhotoID</th>\n",
       "      <th>ThumbNailPhotoHexString</th>\n",
       "      <th>ThumbNailPhotoFileName</th>\n",
       "      <th>LargePhotoHexString</th>\n",
       "      <th>LargePhotoFileName</th>\n",
       "      <th>Primary</th>\n",
       "    </tr>\n",
       "  </thead>\n",
       "  <tbody>\n",
       "    <tr>\n",
       "      <th>0</th>\n",
       "      <td>1.0</td>\n",
       "      <td>Chai</td>\n",
       "      <td>1.0</td>\n",
       "      <td>1.0</td>\n",
       "      <td>10 boxes x 20 bags</td>\n",
       "      <td>18.00</td>\n",
       "      <td>39.0</td>\n",
       "      <td>0.0</td>\n",
       "      <td>10.0</td>\n",
       "      <td>False</td>\n",
       "      <td>...</td>\n",
       "      <td>NaN</td>\n",
       "      <td>NaN</td>\n",
       "      <td>NaN</td>\n",
       "      <td>NaN</td>\n",
       "      <td>NaN</td>\n",
       "      <td>NaN</td>\n",
       "      <td>NaN</td>\n",
       "      <td>NaN</td>\n",
       "      <td>NaN</td>\n",
       "      <td>NaN</td>\n",
       "    </tr>\n",
       "    <tr>\n",
       "      <th>1</th>\n",
       "      <td>2.0</td>\n",
       "      <td>Chang</td>\n",
       "      <td>1.0</td>\n",
       "      <td>1.0</td>\n",
       "      <td>24 - 12 oz bottles</td>\n",
       "      <td>19.00</td>\n",
       "      <td>17.0</td>\n",
       "      <td>40.0</td>\n",
       "      <td>25.0</td>\n",
       "      <td>False</td>\n",
       "      <td>...</td>\n",
       "      <td>NaN</td>\n",
       "      <td>NaN</td>\n",
       "      <td>NaN</td>\n",
       "      <td>NaN</td>\n",
       "      <td>NaN</td>\n",
       "      <td>NaN</td>\n",
       "      <td>NaN</td>\n",
       "      <td>NaN</td>\n",
       "      <td>NaN</td>\n",
       "      <td>NaN</td>\n",
       "    </tr>\n",
       "    <tr>\n",
       "      <th>2</th>\n",
       "      <td>3.0</td>\n",
       "      <td>Aniseed Syrup</td>\n",
       "      <td>1.0</td>\n",
       "      <td>2.0</td>\n",
       "      <td>12 - 550 ml bottles</td>\n",
       "      <td>10.00</td>\n",
       "      <td>13.0</td>\n",
       "      <td>70.0</td>\n",
       "      <td>25.0</td>\n",
       "      <td>False</td>\n",
       "      <td>...</td>\n",
       "      <td>NaN</td>\n",
       "      <td>NaN</td>\n",
       "      <td>NaN</td>\n",
       "      <td>NaN</td>\n",
       "      <td>NaN</td>\n",
       "      <td>NaN</td>\n",
       "      <td>NaN</td>\n",
       "      <td>NaN</td>\n",
       "      <td>NaN</td>\n",
       "      <td>NaN</td>\n",
       "    </tr>\n",
       "    <tr>\n",
       "      <th>3</th>\n",
       "      <td>4.0</td>\n",
       "      <td>Chef Anton's Cajun Seasoning</td>\n",
       "      <td>2.0</td>\n",
       "      <td>2.0</td>\n",
       "      <td>48 - 6 oz jars</td>\n",
       "      <td>22.00</td>\n",
       "      <td>53.0</td>\n",
       "      <td>0.0</td>\n",
       "      <td>0.0</td>\n",
       "      <td>False</td>\n",
       "      <td>...</td>\n",
       "      <td>NaN</td>\n",
       "      <td>NaN</td>\n",
       "      <td>NaN</td>\n",
       "      <td>NaN</td>\n",
       "      <td>NaN</td>\n",
       "      <td>NaN</td>\n",
       "      <td>NaN</td>\n",
       "      <td>NaN</td>\n",
       "      <td>NaN</td>\n",
       "      <td>NaN</td>\n",
       "    </tr>\n",
       "    <tr>\n",
       "      <th>4</th>\n",
       "      <td>5.0</td>\n",
       "      <td>Chef Anton's Gumbo Mix</td>\n",
       "      <td>2.0</td>\n",
       "      <td>2.0</td>\n",
       "      <td>36 boxes</td>\n",
       "      <td>21.35</td>\n",
       "      <td>0.0</td>\n",
       "      <td>0.0</td>\n",
       "      <td>0.0</td>\n",
       "      <td>True</td>\n",
       "      <td>...</td>\n",
       "      <td>NaN</td>\n",
       "      <td>NaN</td>\n",
       "      <td>NaN</td>\n",
       "      <td>NaN</td>\n",
       "      <td>NaN</td>\n",
       "      <td>NaN</td>\n",
       "      <td>NaN</td>\n",
       "      <td>NaN</td>\n",
       "      <td>NaN</td>\n",
       "      <td>NaN</td>\n",
       "    </tr>\n",
       "  </tbody>\n",
       "</table>\n",
       "<p>5 rows × 51 columns</p>\n",
       "</div>"
      ],
      "text/plain": [
       "   ProductID                   ProductName  SupplierID  CategoryID  \\\n",
       "0        1.0                          Chai         1.0         1.0   \n",
       "1        2.0                         Chang         1.0         1.0   \n",
       "2        3.0                 Aniseed Syrup         1.0         2.0   \n",
       "3        4.0  Chef Anton's Cajun Seasoning         2.0         2.0   \n",
       "4        5.0        Chef Anton's Gumbo Mix         2.0         2.0   \n",
       "\n",
       "       QuantityPerUnit  UnitPrice  UnitsInStock  UnitsOnOrder  ReorderLevel  \\\n",
       "0   10 boxes x 20 bags      18.00          39.0           0.0          10.0   \n",
       "1   24 - 12 oz bottles      19.00          17.0          40.0          25.0   \n",
       "2  12 - 550 ml bottles      10.00          13.0          70.0          25.0   \n",
       "3       48 - 6 oz jars      22.00          53.0           0.0           0.0   \n",
       "4             36 boxes      21.35           0.0           0.0           0.0   \n",
       "\n",
       "  Discontinued  ... CatalogDescription Instructions IllustrationID  CultureID  \\\n",
       "0        False  ...                NaN          NaN            NaN        NaN   \n",
       "1        False  ...                NaN          NaN            NaN        NaN   \n",
       "2        False  ...                NaN          NaN            NaN        NaN   \n",
       "3        False  ...                NaN          NaN            NaN        NaN   \n",
       "4         True  ...                NaN          NaN            NaN        NaN   \n",
       "\n",
       "  ProductPhotoID ThumbNailPhotoHexString ThumbNailPhotoFileName  \\\n",
       "0            NaN                     NaN                    NaN   \n",
       "1            NaN                     NaN                    NaN   \n",
       "2            NaN                     NaN                    NaN   \n",
       "3            NaN                     NaN                    NaN   \n",
       "4            NaN                     NaN                    NaN   \n",
       "\n",
       "  LargePhotoHexString LargePhotoFileName Primary  \n",
       "0                 NaN                NaN     NaN  \n",
       "1                 NaN                NaN     NaN  \n",
       "2                 NaN                NaN     NaN  \n",
       "3                 NaN                NaN     NaN  \n",
       "4                 NaN                NaN     NaN  \n",
       "\n",
       "[5 rows x 51 columns]"
      ]
     },
     "execution_count": 121,
     "metadata": {},
     "output_type": "execute_result"
    }
   ],
   "source": [
    "# Combining all product data\n",
    "products = pd.concat([northwind_products, aenc_product, adventureworks_combined_products], ignore_index=True)\n",
    "\n",
    "# replacing the document node with documentnodestring\n",
    "products['DocumentNode'] = products['DocumentNodeString']\n",
    "products.drop(columns=['DocumentNodeString'], inplace=True)\n",
    "\n",
    "# applying the data types to the columns\n",
    "products['ProductID'] = products['ProductID'].astype(float) # casting to float seems counterintuitive but it is necessary to avoid an error in Pandas\n",
    "\n",
    "# dropping documentnode column (need to fix later)\n",
    "products.drop(columns=['DocumentNode'], inplace=True)\n",
    "\n",
    "\n",
    "products.head()"
   ]
  },
  {
   "cell_type": "markdown",
   "id": "5957a7ecd1392812",
   "metadata": {},
   "source": [
    "### Regions (TODO CHANGE)"
   ]
  },
  {
   "cell_type": "code",
   "execution_count": null,
   "id": "2fd10209f856a956",
   "metadata": {},
   "outputs": [],
   "source": [
    "# Combining all region data\n",
    "regions = pd.concat([northwind_region, aenc_region, adventureworks_person_stateprovince], ignore_index=True)\n",
    "\n",
    "# combining regiondescription and region columns to create a name column (one is always None)\n",
    "regions['RegionName'] = regions['RegionDescription'].combine_first(regions['region'])\n",
    "\n",
    "# dropping the other columns\n",
    "regions.drop(columns=['RegionDescription', 'region'], inplace=True)\n",
    "\n",
    "\n",
    "regions.head()"
   ]
  },
  {
   "cell_type": "markdown",
   "id": "1a50c91e8ee80caa",
   "metadata": {},
   "source": [
    "### Customers"
   ]
  },
  {
   "cell_type": "code",
   "execution_count": null,
   "id": "e15628e1219b8e0d",
   "metadata": {},
   "outputs": [],
   "source": [
    "aenc_customer = aenc_customer[['fname', 'lname', 'state']]\n",
    "#northwind_customers = northwind_customers.drop(columns='CustomerID')\n",
    "\n",
    "# combining all customer data\n",
    "customers = pd.concat([northwind_customers, aenc_customer, adventureworks_sales_customer], ignore_index=True)\n",
    "\n",
    "# rename\n",
    "customers.rename(columns={\n",
    "    'CustomerID': 'CUSTOMER_CUSTOMERS_ID',\n",
    "    'CompanyName': 'CUSTOMER_CUSTOMERS_CompanyName',\n",
    "    'ContactName': 'CUSTOMER_CUSTOMERS_ContactName',\n",
    "    'ContactTitle': 'CUSTOMER_CUSTOMERS_ContactTitle',\n",
    "    'Address': 'CUSTOMER_CUSTOMERS_Address',\n",
    "    'City': 'CUSTOMER_CUSTOMERS_City',\n",
    "    'Region': 'CUSTOMER_CUSTOMERS_Region',\n",
    "    'PostalCode': 'CUSTOMER_CUSTOMERS_PostalCode',\n",
    "    'Country': 'CUSTOMER_CUSTOMERS_Country',\n",
    "    'Phone': 'CUSTOMER_CUSTOMERS_Phone',\n",
    "    'Fax': 'CUSTOMER_CUSTOMERS_Fax',\n",
    "    'fname': 'CUSTOMER_CUSTOMER_Fname',\n",
    "    'lname': 'CUSTOMER_CUSTOMER_Lname',\n",
    "    'state': 'CUSTOMER_CUSTOMER_State',\n",
    "    'PersonID': 'CUSTOMER_CUSTOMER_PersonID',\n",
    "    'StoreID': 'CUSTOMER_CUSTOMER_StoreID',\n",
    "    'TerritoryID': 'CUSTOMER_CUSTOMER_TerritoryID',\n",
    "    'AccountNumber': 'CUSTOMER_CUSTOMER_AccountNumber'\n",
    "}, inplace=True)\n",
    "\n",
    "drop_modified_date_rowguid(customers)\n",
    "\n",
    "customers.head()"
   ]
  },
  {
   "cell_type": "code",
   "execution_count": 123,
   "id": "f97e4a3206895719",
   "metadata": {
    "ExecuteTime": {
     "end_time": "2024-05-20T13:30:07.625287Z",
     "start_time": "2024-05-20T13:30:07.616162Z"
    },
    "nbdime-conflicts": {
     "local_diff": [
      {
       "diff": [
        {
         "diff": [
          {
           "key": 0,
           "op": "addrange",
           "valuelist": [
            "2024-05-16T14:59:29.537129Z"
           ]
          },
          {
           "key": 0,
           "length": 1,
           "op": "removerange"
          }
         ],
         "key": "end_time",
         "op": "patch"
        },
        {
         "diff": [
          {
           "key": 0,
           "op": "addrange",
           "valuelist": [
            "2024-05-16T14:59:29.527999Z"
           ]
          },
          {
           "key": 0,
           "length": 1,
           "op": "removerange"
          }
         ],
         "key": "start_time",
         "op": "patch"
        }
       ],
       "key": "ExecuteTime",
       "op": "patch"
      }
     ],
     "remote_diff": [
      {
       "key": "ExecuteTime",
       "op": "remove"
      }
     ]
    }
   },
   "outputs": [
    {
     "data": {
      "text/html": [
       "<div>\n",
       "<style scoped>\n",
       "    .dataframe tbody tr th:only-of-type {\n",
       "        vertical-align: middle;\n",
       "    }\n",
       "\n",
       "    .dataframe tbody tr th {\n",
       "        vertical-align: top;\n",
       "    }\n",
       "\n",
       "    .dataframe thead th {\n",
       "        text-align: right;\n",
       "    }\n",
       "</style>\n",
       "<table border=\"1\" class=\"dataframe\">\n",
       "  <thead>\n",
       "    <tr style=\"text-align: right;\">\n",
       "      <th></th>\n",
       "      <th>CustomerID</th>\n",
       "      <th>CompanyName</th>\n",
       "      <th>ContactName</th>\n",
       "      <th>ContactTitle</th>\n",
       "      <th>Address</th>\n",
       "      <th>City</th>\n",
       "      <th>Region</th>\n",
       "      <th>Zip</th>\n",
       "      <th>Country</th>\n",
       "      <th>Phone</th>\n",
       "      <th>Fax</th>\n",
       "      <th>CUSTOMERCUSTOMERDEMO_CUSTOMERCUSTOMERDEMO_CustomerID</th>\n",
       "      <th>CUSTOMERCUSTOMERDEMO_CUSTOMERCUSTOMERDEMO_CustomerTypeID</th>\n",
       "      <th>CUSTOMERDEMOGRAPHIC_CUSTOMERDEMOGRAPHICS_CustomerTypeID</th>\n",
       "      <th>CUSTOMERDEMOGRAPHIC_CUSTOMERDEMOGRAPHICS_CustomerDesc</th>\n",
       "    </tr>\n",
       "  </thead>\n",
       "  <tbody>\n",
       "    <tr>\n",
       "      <th>0</th>\n",
       "      <td>ALFKI</td>\n",
       "      <td>Alfreds Futterkiste</td>\n",
       "      <td>Maria Anders</td>\n",
       "      <td>Sales Representative</td>\n",
       "      <td>Obere Str. 57</td>\n",
       "      <td>Berlin</td>\n",
       "      <td>None</td>\n",
       "      <td>12209</td>\n",
       "      <td>Germany</td>\n",
       "      <td>030-0074321</td>\n",
       "      <td>030-0076545</td>\n",
       "      <td>NaN</td>\n",
       "      <td>NaN</td>\n",
       "      <td>NaN</td>\n",
       "      <td>NaN</td>\n",
       "    </tr>\n",
       "    <tr>\n",
       "      <th>1</th>\n",
       "      <td>ANATR</td>\n",
       "      <td>Ana Trujillo Emparedados y helados</td>\n",
       "      <td>Ana Trujillo</td>\n",
       "      <td>Owner</td>\n",
       "      <td>Avda. de la ConstituciÃ³n 2222</td>\n",
       "      <td>MÃ©xico D.F.</td>\n",
       "      <td>None</td>\n",
       "      <td>05021</td>\n",
       "      <td>Mexico</td>\n",
       "      <td>(5) 555-4729</td>\n",
       "      <td>(5) 555-3745</td>\n",
       "      <td>NaN</td>\n",
       "      <td>NaN</td>\n",
       "      <td>NaN</td>\n",
       "      <td>NaN</td>\n",
       "    </tr>\n",
       "    <tr>\n",
       "      <th>2</th>\n",
       "      <td>ANTON</td>\n",
       "      <td>Antonio Moreno TaquerÃ­a</td>\n",
       "      <td>Antonio Moreno</td>\n",
       "      <td>Owner</td>\n",
       "      <td>Mataderos  2312</td>\n",
       "      <td>MÃ©xico D.F.</td>\n",
       "      <td>None</td>\n",
       "      <td>05023</td>\n",
       "      <td>Mexico</td>\n",
       "      <td>(5) 555-3932</td>\n",
       "      <td>None</td>\n",
       "      <td>NaN</td>\n",
       "      <td>NaN</td>\n",
       "      <td>NaN</td>\n",
       "      <td>NaN</td>\n",
       "    </tr>\n",
       "    <tr>\n",
       "      <th>3</th>\n",
       "      <td>AROUT</td>\n",
       "      <td>Around the Horn</td>\n",
       "      <td>Thomas Hardy</td>\n",
       "      <td>Sales Representative</td>\n",
       "      <td>120 Hanover Sq.</td>\n",
       "      <td>London</td>\n",
       "      <td>None</td>\n",
       "      <td>WA1 1DP</td>\n",
       "      <td>UK</td>\n",
       "      <td>(171) 555-7788</td>\n",
       "      <td>(171) 555-6750</td>\n",
       "      <td>NaN</td>\n",
       "      <td>NaN</td>\n",
       "      <td>NaN</td>\n",
       "      <td>NaN</td>\n",
       "    </tr>\n",
       "    <tr>\n",
       "      <th>4</th>\n",
       "      <td>BERGS</td>\n",
       "      <td>Berglunds snabbkÃ¶p</td>\n",
       "      <td>Christina Berglund</td>\n",
       "      <td>Order Administrator</td>\n",
       "      <td>BerguvsvÃ¤gen  8</td>\n",
       "      <td>LuleÃ¥</td>\n",
       "      <td>None</td>\n",
       "      <td>S-958 22</td>\n",
       "      <td>Sweden</td>\n",
       "      <td>0921-12 34 65</td>\n",
       "      <td>0921-12 34 67</td>\n",
       "      <td>NaN</td>\n",
       "      <td>NaN</td>\n",
       "      <td>NaN</td>\n",
       "      <td>NaN</td>\n",
       "    </tr>\n",
       "  </tbody>\n",
       "</table>\n",
       "</div>"
      ],
      "text/plain": [
       "  CustomerID                         CompanyName         ContactName  \\\n",
       "0      ALFKI                 Alfreds Futterkiste        Maria Anders   \n",
       "1      ANATR  Ana Trujillo Emparedados y helados        Ana Trujillo   \n",
       "2      ANTON            Antonio Moreno TaquerÃ­a      Antonio Moreno   \n",
       "3      AROUT                     Around the Horn        Thomas Hardy   \n",
       "4      BERGS                 Berglunds snabbkÃ¶p  Christina Berglund   \n",
       "\n",
       "           ContactTitle                         Address          City Region  \\\n",
       "0  Sales Representative                   Obere Str. 57        Berlin   None   \n",
       "1                 Owner  Avda. de la ConstituciÃ³n 2222  MÃ©xico D.F.   None   \n",
       "2                 Owner                 Mataderos  2312  MÃ©xico D.F.   None   \n",
       "3  Sales Representative                 120 Hanover Sq.        London   None   \n",
       "4   Order Administrator                BerguvsvÃ¤gen  8        LuleÃ¥   None   \n",
       "\n",
       "        Zip  Country           Phone             Fax  \\\n",
       "0     12209  Germany     030-0074321     030-0076545   \n",
       "1     05021   Mexico    (5) 555-4729    (5) 555-3745   \n",
       "2     05023   Mexico    (5) 555-3932            None   \n",
       "3   WA1 1DP       UK  (171) 555-7788  (171) 555-6750   \n",
       "4  S-958 22   Sweden   0921-12 34 65   0921-12 34 67   \n",
       "\n",
       "  CUSTOMERCUSTOMERDEMO_CUSTOMERCUSTOMERDEMO_CustomerID  \\\n",
       "0                                                NaN     \n",
       "1                                                NaN     \n",
       "2                                                NaN     \n",
       "3                                                NaN     \n",
       "4                                                NaN     \n",
       "\n",
       "  CUSTOMERCUSTOMERDEMO_CUSTOMERCUSTOMERDEMO_CustomerTypeID  \\\n",
       "0                                                NaN         \n",
       "1                                                NaN         \n",
       "2                                                NaN         \n",
       "3                                                NaN         \n",
       "4                                                NaN         \n",
       "\n",
       "  CUSTOMERDEMOGRAPHIC_CUSTOMERDEMOGRAPHICS_CustomerTypeID  \\\n",
       "0                                                NaN        \n",
       "1                                                NaN        \n",
       "2                                                NaN        \n",
       "3                                                NaN        \n",
       "4                                                NaN        \n",
       "\n",
       "  CUSTOMERDEMOGRAPHIC_CUSTOMERDEMOGRAPHICS_CustomerDesc  \n",
       "0                                                NaN     \n",
       "1                                                NaN     \n",
       "2                                                NaN     \n",
       "3                                                NaN     \n",
       "4                                                NaN     "
      ]
     },
     "execution_count": 123,
     "metadata": {},
     "output_type": "execute_result"
    }
   ],
   "source": [
    "# combining northwind customer data\n",
    "northwind_combined_customer = pd.concat([northwind_customers, northwind_customer_customer_demo, northwind_customer_demographics], ignore_index=True)\n",
    "\n",
    "# renaming northwind customer columns to match the other customer data\n",
    "northwind_combined_customer.rename(columns={'PostalCode' : 'Zip'}, inplace=True)\n",
    "\n",
    "northwind_combined_customer.head()"
   ]
  },
  {
   "cell_type": "code",
   "execution_count": 124,
   "id": "8099785f8ab8b40",
   "metadata": {
    "ExecuteTime": {
     "end_time": "2024-05-20T13:30:07.765883Z",
     "start_time": "2024-05-20T13:30:07.625287Z"
    },
    "nbdime-conflicts": {
     "local_diff": [
      {
       "diff": [
        {
         "diff": [
          {
           "key": 0,
           "op": "addrange",
           "valuelist": [
            "2024-05-16T14:59:29.668243Z"
           ]
          },
          {
           "key": 0,
           "length": 1,
           "op": "removerange"
          }
         ],
         "key": "end_time",
         "op": "patch"
        },
        {
         "diff": [
          {
           "key": 0,
           "op": "addrange",
           "valuelist": [
            "2024-05-16T14:59:29.537635Z"
           ]
          },
          {
           "key": 0,
           "length": 1,
           "op": "removerange"
          }
         ],
         "key": "start_time",
         "op": "patch"
        }
       ],
       "key": "ExecuteTime",
       "op": "patch"
      }
     ],
     "remote_diff": [
      {
       "key": "ExecuteTime",
       "op": "remove"
      }
     ]
    }
   },
   "outputs": [
    {
     "data": {
      "text/html": [
       "<div>\n",
       "<style scoped>\n",
       "    .dataframe tbody tr th:only-of-type {\n",
       "        vertical-align: middle;\n",
       "    }\n",
       "\n",
       "    .dataframe tbody tr th {\n",
       "        vertical-align: top;\n",
       "    }\n",
       "\n",
       "    .dataframe thead th {\n",
       "        text-align: right;\n",
       "    }\n",
       "</style>\n",
       "<table border=\"1\" class=\"dataframe\">\n",
       "  <thead>\n",
       "    <tr style=\"text-align: right;\">\n",
       "      <th></th>\n",
       "      <th>CustomerID</th>\n",
       "      <th>PersonID</th>\n",
       "      <th>StoreID</th>\n",
       "      <th>TerritoryID</th>\n",
       "      <th>AccountNumber</th>\n",
       "      <th>PersonType</th>\n",
       "      <th>NameStyle</th>\n",
       "      <th>Title</th>\n",
       "      <th>Suffix</th>\n",
       "      <th>EmailPromotion</th>\n",
       "      <th>...</th>\n",
       "      <th>StateProvinceID</th>\n",
       "      <th>Zip</th>\n",
       "      <th>SpatialLocation</th>\n",
       "      <th>AddressType</th>\n",
       "      <th>StateProvinceCode</th>\n",
       "      <th>CountryRegionCode</th>\n",
       "      <th>IsOnlyStateProvinceFlag</th>\n",
       "      <th>StateProvince</th>\n",
       "      <th>CountryRegion</th>\n",
       "      <th>ContactName</th>\n",
       "    </tr>\n",
       "  </thead>\n",
       "  <tbody>\n",
       "    <tr>\n",
       "      <th>0</th>\n",
       "      <td>11377.0</td>\n",
       "      <td>1699.0</td>\n",
       "      <td>NaN</td>\n",
       "      <td>8.0</td>\n",
       "      <td>AW00011377</td>\n",
       "      <td>IN</td>\n",
       "      <td>False</td>\n",
       "      <td>Mr.</td>\n",
       "      <td>None</td>\n",
       "      <td>1.0</td>\n",
       "      <td>...</td>\n",
       "      <td>53</td>\n",
       "      <td>42651</td>\n",
       "      <td>POINT (7.11082410683939 51.2015555665827)</td>\n",
       "      <td>Home</td>\n",
       "      <td>NW</td>\n",
       "      <td>DE</td>\n",
       "      <td>False</td>\n",
       "      <td>Nordrhein-Westfalen</td>\n",
       "      <td>Germany</td>\n",
       "      <td>David R. Robinett</td>\n",
       "    </tr>\n",
       "    <tr>\n",
       "      <th>1</th>\n",
       "      <td>11913.0</td>\n",
       "      <td>1700.0</td>\n",
       "      <td>NaN</td>\n",
       "      <td>9.0</td>\n",
       "      <td>AW00011913</td>\n",
       "      <td>IN</td>\n",
       "      <td>False</td>\n",
       "      <td>Ms.</td>\n",
       "      <td>None</td>\n",
       "      <td>0.0</td>\n",
       "      <td>...</td>\n",
       "      <td>77</td>\n",
       "      <td>3198</td>\n",
       "      <td>POINT (145.141451560879 -38.0612939642931)</td>\n",
       "      <td>Home</td>\n",
       "      <td>VIC</td>\n",
       "      <td>AU</td>\n",
       "      <td>False</td>\n",
       "      <td>Victoria</td>\n",
       "      <td>Australia</td>\n",
       "      <td>Rebecca A. Robinson</td>\n",
       "    </tr>\n",
       "    <tr>\n",
       "      <th>2</th>\n",
       "      <td>11952.0</td>\n",
       "      <td>1701.0</td>\n",
       "      <td>NaN</td>\n",
       "      <td>9.0</td>\n",
       "      <td>AW00011952</td>\n",
       "      <td>IN</td>\n",
       "      <td>False</td>\n",
       "      <td>Ms.</td>\n",
       "      <td>None</td>\n",
       "      <td>2.0</td>\n",
       "      <td>...</td>\n",
       "      <td>77</td>\n",
       "      <td>3220</td>\n",
       "      <td>POINT (144.201620782255 -38.1464342680786)</td>\n",
       "      <td>Home</td>\n",
       "      <td>VIC</td>\n",
       "      <td>AU</td>\n",
       "      <td>False</td>\n",
       "      <td>Victoria</td>\n",
       "      <td>Australia</td>\n",
       "      <td>Dorothy B. Robinson</td>\n",
       "    </tr>\n",
       "    <tr>\n",
       "      <th>3</th>\n",
       "      <td>20164.0</td>\n",
       "      <td>1702.0</td>\n",
       "      <td>NaN</td>\n",
       "      <td>10.0</td>\n",
       "      <td>AW00020164</td>\n",
       "      <td>IN</td>\n",
       "      <td>False</td>\n",
       "      <td>Ms.</td>\n",
       "      <td>None</td>\n",
       "      <td>0.0</td>\n",
       "      <td>...</td>\n",
       "      <td>14</td>\n",
       "      <td>LA1 1LN</td>\n",
       "      <td>POINT (-2.80326155845985 54.1184442932464)</td>\n",
       "      <td>Home</td>\n",
       "      <td>ENG</td>\n",
       "      <td>GB</td>\n",
       "      <td>True</td>\n",
       "      <td>England</td>\n",
       "      <td>United Kingdom</td>\n",
       "      <td>Carol Ann F. Rockne</td>\n",
       "    </tr>\n",
       "    <tr>\n",
       "      <th>4</th>\n",
       "      <td>20211.0</td>\n",
       "      <td>1703.0</td>\n",
       "      <td>NaN</td>\n",
       "      <td>9.0</td>\n",
       "      <td>AW00020211</td>\n",
       "      <td>IN</td>\n",
       "      <td>False</td>\n",
       "      <td>Mr.</td>\n",
       "      <td>None</td>\n",
       "      <td>0.0</td>\n",
       "      <td>...</td>\n",
       "      <td>64</td>\n",
       "      <td>4169</td>\n",
       "      <td>POINT (152.9802503342 -27.4802117164592)</td>\n",
       "      <td>Home</td>\n",
       "      <td>QLD</td>\n",
       "      <td>AU</td>\n",
       "      <td>False</td>\n",
       "      <td>Queensland</td>\n",
       "      <td>Australia</td>\n",
       "      <td>Scott M. Rodgers</td>\n",
       "    </tr>\n",
       "  </tbody>\n",
       "</table>\n",
       "<p>5 rows × 27 columns</p>\n",
       "</div>"
      ],
      "text/plain": [
       "   CustomerID  PersonID  StoreID  TerritoryID AccountNumber PersonType  \\\n",
       "0     11377.0    1699.0      NaN          8.0    AW00011377         IN   \n",
       "1     11913.0    1700.0      NaN          9.0    AW00011913         IN   \n",
       "2     11952.0    1701.0      NaN          9.0    AW00011952         IN   \n",
       "3     20164.0    1702.0      NaN         10.0    AW00020164         IN   \n",
       "4     20211.0    1703.0      NaN          9.0    AW00020211         IN   \n",
       "\n",
       "  NameStyle Title Suffix  EmailPromotion  ... StateProvinceID      Zip  \\\n",
       "0     False   Mr.   None             1.0  ...              53    42651   \n",
       "1     False   Ms.   None             0.0  ...              77     3198   \n",
       "2     False   Ms.   None             2.0  ...              77     3220   \n",
       "3     False   Ms.   None             0.0  ...              14  LA1 1LN   \n",
       "4     False   Mr.   None             0.0  ...              64     4169   \n",
       "\n",
       "                              SpatialLocation  AddressType StateProvinceCode  \\\n",
       "0   POINT (7.11082410683939 51.2015555665827)         Home               NW    \n",
       "1  POINT (145.141451560879 -38.0612939642931)         Home               VIC   \n",
       "2  POINT (144.201620782255 -38.1464342680786)         Home               VIC   \n",
       "3  POINT (-2.80326155845985 54.1184442932464)         Home               ENG   \n",
       "4    POINT (152.9802503342 -27.4802117164592)         Home               QLD   \n",
       "\n",
       "  CountryRegionCode IsOnlyStateProvinceFlag        StateProvince  \\\n",
       "0                DE                   False  Nordrhein-Westfalen   \n",
       "1                AU                   False             Victoria   \n",
       "2                AU                   False             Victoria   \n",
       "3                GB                    True              England   \n",
       "4                AU                   False           Queensland   \n",
       "\n",
       "    CountryRegion          ContactName  \n",
       "0         Germany    David R. Robinett  \n",
       "1       Australia  Rebecca A. Robinson  \n",
       "2       Australia  Dorothy B. Robinson  \n",
       "3  United Kingdom  Carol Ann F. Rockne  \n",
       "4       Australia     Scott M. Rodgers  \n",
       "\n",
       "[5 rows x 27 columns]"
      ]
     },
     "execution_count": 124,
     "metadata": {},
     "output_type": "execute_result"
    }
   ],
   "source": [
    "# combining all adventureworks customer data\n",
    "adventureworks_combined_customers = pd.merge(adventureworks_sales_customer, adventureworks_person_person, left_on='PersonID', right_on='BusinessEntityID', how='outer', suffixes=('_sales_customer', '_person'))\n",
    "\n",
    "adventureworks_combined_customers = pd.merge(adventureworks_combined_customers, adventureworks_person_businessentityaddress, left_on='BusinessEntityID', right_on='BusinessEntityID', suffixes=('', '_businessentityaddress'))\n",
    "\n",
    "adventureworks_combined_customers = pd.merge(adventureworks_combined_customers, adventureworks_person_address, left_on='AddressID', right_on='AddressID', how='left', suffixes=('', '_address'))\n",
    "\n",
    "adventureworks_combined_customers = pd.merge(adventureworks_combined_customers, adventureworks_person_address_type, left_on='AddressTypeID', right_on='AddressTypeID', how='left', suffixes=('', '_address_type'))\n",
    "\n",
    "adventureworks_combined_customers = pd.merge(adventureworks_combined_customers, adventureworks_person_stateprovince, left_on=['StateProvinceID', 'TerritoryID'], right_on=['StateProvinceID', 'TerritoryID'], suffixes=('', '_stateprovince'))\n",
    "\n",
    "adventureworks_combined_customers = pd.merge(adventureworks_combined_customers, adventureworks_person_countryregion, left_on='CountryRegionCode', right_on='CountryRegionCode', suffixes=('', '_countryregion'))\n",
    "\n",
    "# combining fist, middle and last name columns to create a contact name column\n",
    "adventureworks_combined_customers['ContactName'] = adventureworks_combined_customers['FirstName'] + ' ' + adventureworks_combined_customers['MiddleName'] + ' ' + adventureworks_combined_customers['LastName']\n",
    "adventureworks_combined_customers.drop(columns=['FirstName', 'MiddleName', 'LastName'], inplace=True)\n",
    "\n",
    "# Remove any double spaces caused by missing middle names\n",
    "adventureworks_combined_customers['ContactName'] = adventureworks_combined_customers['ContactName'].str.replace('  ', ' ')\n",
    "\n",
    "# Get all columns that contain 'rowguid' in their name\n",
    "columns_to_drop = adventureworks_combined_customers.filter(like='rowguid').columns\n",
    "\n",
    "# Drop these columns\n",
    "adventureworks_combined_customers.drop(columns=columns_to_drop, inplace=True)\n",
    "\n",
    "# only keeping the most recent modified date from the two tables\n",
    "adventureworks_combined_customers['ModifiedDate'] = adventureworks_combined_customers[['ModifiedDate_sales_customer', 'ModifiedDate_person', 'ModifiedDate', 'ModifiedDate_address', 'ModifiedDate_address_type', 'ModifiedDate_stateprovince', 'ModifiedDate_countryregion']].max(axis=1)\n",
    "\n",
    "# dropping the other modified date columns\n",
    "adventureworks_combined_customers.drop(columns=['ModifiedDate_sales_customer', 'ModifiedDate_person', 'ModifiedDate', 'ModifiedDate_address', 'ModifiedDate_address_type', 'ModifiedDate_stateprovince', 'ModifiedDate_countryregion'], inplace=True)\n",
    "\n",
    "# combining PersonID and BusinessEntityID columns\n",
    "adventureworks_combined_customers['PersonID'] = adventureworks_combined_customers['PersonID'].combine_first(adventureworks_combined_customers['BusinessEntityID'])\n",
    "adventureworks_combined_customers.drop(columns=['BusinessEntityID'], inplace=True)\n",
    "\n",
    "# renaming columns to match the other customer data\n",
    "adventureworks_combined_customers.rename(columns={'AddressLine1' : 'Address', 'PostalCode' : 'Zip', 'Name' : 'AddressType', 'Name_stateprovince' : 'StateProvince', 'Name_countryregion': 'CountryRegion' }, inplace=True)\n",
    "\n",
    "adventureworks_combined_customers.head()"
   ]
  },
  {
   "cell_type": "code",
   "execution_count": 125,
   "id": "60cf1da337d5faa2",
   "metadata": {
    "ExecuteTime": {
     "end_time": "2024-05-20T13:30:07.774038Z",
     "start_time": "2024-05-20T13:30:07.766900Z"
    },
    "nbdime-conflicts": {
     "local_diff": [
      {
       "diff": [
        {
         "diff": [
          {
           "key": 0,
           "op": "addrange",
           "valuelist": [
            "2024-05-16T14:59:29.675520Z"
           ]
          },
          {
           "key": 0,
           "length": 1,
           "op": "removerange"
          }
         ],
         "key": "end_time",
         "op": "patch"
        },
        {
         "diff": [
          {
           "key": 0,
           "op": "addrange",
           "valuelist": [
            "2024-05-16T14:59:29.668751Z"
           ]
          },
          {
           "key": 0,
           "length": 1,
           "op": "removerange"
          }
         ],
         "key": "start_time",
         "op": "patch"
        }
       ],
       "key": "ExecuteTime",
       "op": "patch"
      }
     ],
     "remote_diff": [
      {
       "key": "ExecuteTime",
       "op": "remove"
      }
     ]
    }
   },
   "outputs": [
    {
     "data": {
      "text/html": [
       "<div>\n",
       "<style scoped>\n",
       "    .dataframe tbody tr th:only-of-type {\n",
       "        vertical-align: middle;\n",
       "    }\n",
       "\n",
       "    .dataframe tbody tr th {\n",
       "        vertical-align: top;\n",
       "    }\n",
       "\n",
       "    .dataframe thead th {\n",
       "        text-align: right;\n",
       "    }\n",
       "</style>\n",
       "<table border=\"1\" class=\"dataframe\">\n",
       "  <thead>\n",
       "    <tr style=\"text-align: right;\">\n",
       "      <th></th>\n",
       "      <th>CustomerID</th>\n",
       "      <th>Address</th>\n",
       "      <th>City</th>\n",
       "      <th>State</th>\n",
       "      <th>Zip</th>\n",
       "      <th>Phone</th>\n",
       "      <th>CompanyName</th>\n",
       "      <th>ContactName</th>\n",
       "    </tr>\n",
       "  </thead>\n",
       "  <tbody>\n",
       "    <tr>\n",
       "      <th>0</th>\n",
       "      <td>101</td>\n",
       "      <td>3114 Pioneer Avenue</td>\n",
       "      <td>Rutherford</td>\n",
       "      <td>NJ</td>\n",
       "      <td>07070</td>\n",
       "      <td>2015558966</td>\n",
       "      <td>The Power Group</td>\n",
       "      <td>Michaels Devlin</td>\n",
       "    </tr>\n",
       "    <tr>\n",
       "      <th>1</th>\n",
       "      <td>102</td>\n",
       "      <td>1033 Whippany Road</td>\n",
       "      <td>New York</td>\n",
       "      <td>NY</td>\n",
       "      <td>10154</td>\n",
       "      <td>2125558725</td>\n",
       "      <td>AMF Corp.</td>\n",
       "      <td>Beth Reiser</td>\n",
       "    </tr>\n",
       "    <tr>\n",
       "      <th>2</th>\n",
       "      <td>103</td>\n",
       "      <td>1990 Windsor Street</td>\n",
       "      <td>Paoli</td>\n",
       "      <td>PA</td>\n",
       "      <td>19301</td>\n",
       "      <td>2155556513</td>\n",
       "      <td>Darling Associates</td>\n",
       "      <td>Erin Niedringhaus</td>\n",
       "    </tr>\n",
       "    <tr>\n",
       "      <th>3</th>\n",
       "      <td>104</td>\n",
       "      <td>550 Dundas Street East</td>\n",
       "      <td>Knoxville</td>\n",
       "      <td>TN</td>\n",
       "      <td>37919</td>\n",
       "      <td>6155555463</td>\n",
       "      <td>P.S.C.</td>\n",
       "      <td>Meghan Mason</td>\n",
       "    </tr>\n",
       "    <tr>\n",
       "      <th>4</th>\n",
       "      <td>105</td>\n",
       "      <td>1210 Highway 36</td>\n",
       "      <td>Carmel</td>\n",
       "      <td>IN</td>\n",
       "      <td>46032</td>\n",
       "      <td>3175558437</td>\n",
       "      <td>Amo &amp; Sons</td>\n",
       "      <td>Laura McCarthy</td>\n",
       "    </tr>\n",
       "  </tbody>\n",
       "</table>\n",
       "</div>"
      ],
      "text/plain": [
       "   CustomerID                 Address        City State    Zip       Phone  \\\n",
       "0         101     3114 Pioneer Avenue  Rutherford    NJ  07070  2015558966   \n",
       "1         102      1033 Whippany Road    New York    NY  10154  2125558725   \n",
       "2         103     1990 Windsor Street       Paoli    PA  19301  2155556513   \n",
       "3         104  550 Dundas Street East   Knoxville    TN  37919  6155555463   \n",
       "4         105         1210 Highway 36      Carmel    IN  46032  3175558437   \n",
       "\n",
       "          CompanyName        ContactName  \n",
       "0     The Power Group    Michaels Devlin  \n",
       "1           AMF Corp.        Beth Reiser  \n",
       "2  Darling Associates  Erin Niedringhaus  \n",
       "3              P.S.C.       Meghan Mason  \n",
       "4          Amo & Sons     Laura McCarthy  "
      ]
     },
     "execution_count": 125,
     "metadata": {},
     "output_type": "execute_result"
    }
   ],
   "source": [
    "# renaming aenc customer columns to match the other customer data\n",
    "aenc_customer.rename(columns={'id': 'CustomerID', 'address' : 'Address', 'city':'City' , 'state' : 'State', 'zip' : 'Zip', 'phone': 'Phone', 'company_name' : 'CompanyName'}, inplace=True)\n",
    "\n",
    "# combining fname and lname columns to create a contact name column\n",
    "aenc_customer['ContactName'] = aenc_customer['fname'] + ' ' + aenc_customer['lname']\n",
    "aenc_customer.drop(columns=['fname', 'lname'], inplace=True)\n",
    "\n",
    "aenc_customer.head()"
   ]
  },
  {
   "cell_type": "code",
   "execution_count": 126,
   "id": "5cd96cba6c5692cc",
   "metadata": {
    "ExecuteTime": {
     "end_time": "2024-05-20T13:30:07.793620Z",
     "start_time": "2024-05-20T13:30:07.775044Z"
    },
    "nbdime-conflicts": {
     "local_diff": [
      {
       "diff": [
        {
         "diff": [
          {
           "key": 0,
           "op": "addrange",
           "valuelist": [
            "2024-05-16T14:59:29.693574Z"
           ]
          },
          {
           "key": 0,
           "length": 1,
           "op": "removerange"
          }
         ],
         "key": "end_time",
         "op": "patch"
        },
        {
         "diff": [
          {
           "key": 0,
           "op": "addrange",
           "valuelist": [
            "2024-05-16T14:59:29.678526Z"
           ]
          },
          {
           "key": 0,
           "length": 1,
           "op": "removerange"
          }
         ],
         "key": "start_time",
         "op": "patch"
        }
       ],
       "key": "ExecuteTime",
       "op": "patch"
      }
     ],
     "remote_diff": [
      {
       "key": "ExecuteTime",
       "op": "remove"
      }
     ]
    }
   },
   "outputs": [
    {
     "data": {
      "text/html": [
       "<div>\n",
       "<style scoped>\n",
       "    .dataframe tbody tr th:only-of-type {\n",
       "        vertical-align: middle;\n",
       "    }\n",
       "\n",
       "    .dataframe tbody tr th {\n",
       "        vertical-align: top;\n",
       "    }\n",
       "\n",
       "    .dataframe thead th {\n",
       "        text-align: right;\n",
       "    }\n",
       "</style>\n",
       "<table border=\"1\" class=\"dataframe\">\n",
       "  <thead>\n",
       "    <tr style=\"text-align: right;\">\n",
       "      <th></th>\n",
       "      <th>CustomerID</th>\n",
       "      <th>CompanyName</th>\n",
       "      <th>ContactName</th>\n",
       "      <th>ContactTitle</th>\n",
       "      <th>Address</th>\n",
       "      <th>City</th>\n",
       "      <th>Region</th>\n",
       "      <th>Zip</th>\n",
       "      <th>Country</th>\n",
       "      <th>Phone</th>\n",
       "      <th>...</th>\n",
       "      <th>AddressTypeID</th>\n",
       "      <th>AddressLine2</th>\n",
       "      <th>StateProvinceID</th>\n",
       "      <th>SpatialLocation</th>\n",
       "      <th>AddressType</th>\n",
       "      <th>StateProvinceCode</th>\n",
       "      <th>CountryRegionCode</th>\n",
       "      <th>IsOnlyStateProvinceFlag</th>\n",
       "      <th>StateProvince</th>\n",
       "      <th>CountryRegion</th>\n",
       "    </tr>\n",
       "  </thead>\n",
       "  <tbody>\n",
       "    <tr>\n",
       "      <th>0</th>\n",
       "      <td>ALFKI</td>\n",
       "      <td>Alfreds Futterkiste</td>\n",
       "      <td>Maria Anders</td>\n",
       "      <td>Sales Representative</td>\n",
       "      <td>Obere Str. 57</td>\n",
       "      <td>Berlin</td>\n",
       "      <td>None</td>\n",
       "      <td>12209</td>\n",
       "      <td>Germany</td>\n",
       "      <td>030-0074321</td>\n",
       "      <td>...</td>\n",
       "      <td>NaN</td>\n",
       "      <td>NaN</td>\n",
       "      <td>NaN</td>\n",
       "      <td>NaN</td>\n",
       "      <td>NaN</td>\n",
       "      <td>NaN</td>\n",
       "      <td>NaN</td>\n",
       "      <td>NaN</td>\n",
       "      <td>NaN</td>\n",
       "      <td>NaN</td>\n",
       "    </tr>\n",
       "    <tr>\n",
       "      <th>1</th>\n",
       "      <td>ANATR</td>\n",
       "      <td>Ana Trujillo Emparedados y helados</td>\n",
       "      <td>Ana Trujillo</td>\n",
       "      <td>Owner</td>\n",
       "      <td>Avda. de la ConstituciÃ³n 2222</td>\n",
       "      <td>MÃ©xico D.F.</td>\n",
       "      <td>None</td>\n",
       "      <td>05021</td>\n",
       "      <td>Mexico</td>\n",
       "      <td>(5) 555-4729</td>\n",
       "      <td>...</td>\n",
       "      <td>NaN</td>\n",
       "      <td>NaN</td>\n",
       "      <td>NaN</td>\n",
       "      <td>NaN</td>\n",
       "      <td>NaN</td>\n",
       "      <td>NaN</td>\n",
       "      <td>NaN</td>\n",
       "      <td>NaN</td>\n",
       "      <td>NaN</td>\n",
       "      <td>NaN</td>\n",
       "    </tr>\n",
       "    <tr>\n",
       "      <th>2</th>\n",
       "      <td>ANTON</td>\n",
       "      <td>Antonio Moreno TaquerÃ­a</td>\n",
       "      <td>Antonio Moreno</td>\n",
       "      <td>Owner</td>\n",
       "      <td>Mataderos  2312</td>\n",
       "      <td>MÃ©xico D.F.</td>\n",
       "      <td>None</td>\n",
       "      <td>05023</td>\n",
       "      <td>Mexico</td>\n",
       "      <td>(5) 555-3932</td>\n",
       "      <td>...</td>\n",
       "      <td>NaN</td>\n",
       "      <td>NaN</td>\n",
       "      <td>NaN</td>\n",
       "      <td>NaN</td>\n",
       "      <td>NaN</td>\n",
       "      <td>NaN</td>\n",
       "      <td>NaN</td>\n",
       "      <td>NaN</td>\n",
       "      <td>NaN</td>\n",
       "      <td>NaN</td>\n",
       "    </tr>\n",
       "    <tr>\n",
       "      <th>3</th>\n",
       "      <td>AROUT</td>\n",
       "      <td>Around the Horn</td>\n",
       "      <td>Thomas Hardy</td>\n",
       "      <td>Sales Representative</td>\n",
       "      <td>120 Hanover Sq.</td>\n",
       "      <td>London</td>\n",
       "      <td>None</td>\n",
       "      <td>WA1 1DP</td>\n",
       "      <td>UK</td>\n",
       "      <td>(171) 555-7788</td>\n",
       "      <td>...</td>\n",
       "      <td>NaN</td>\n",
       "      <td>NaN</td>\n",
       "      <td>NaN</td>\n",
       "      <td>NaN</td>\n",
       "      <td>NaN</td>\n",
       "      <td>NaN</td>\n",
       "      <td>NaN</td>\n",
       "      <td>NaN</td>\n",
       "      <td>NaN</td>\n",
       "      <td>NaN</td>\n",
       "    </tr>\n",
       "    <tr>\n",
       "      <th>4</th>\n",
       "      <td>BERGS</td>\n",
       "      <td>Berglunds snabbkÃ¶p</td>\n",
       "      <td>Christina Berglund</td>\n",
       "      <td>Order Administrator</td>\n",
       "      <td>BerguvsvÃ¤gen  8</td>\n",
       "      <td>LuleÃ¥</td>\n",
       "      <td>None</td>\n",
       "      <td>S-958 22</td>\n",
       "      <td>Sweden</td>\n",
       "      <td>0921-12 34 65</td>\n",
       "      <td>...</td>\n",
       "      <td>NaN</td>\n",
       "      <td>NaN</td>\n",
       "      <td>NaN</td>\n",
       "      <td>NaN</td>\n",
       "      <td>NaN</td>\n",
       "      <td>NaN</td>\n",
       "      <td>NaN</td>\n",
       "      <td>NaN</td>\n",
       "      <td>NaN</td>\n",
       "      <td>NaN</td>\n",
       "    </tr>\n",
       "  </tbody>\n",
       "</table>\n",
       "<p>5 rows × 38 columns</p>\n",
       "</div>"
      ],
      "text/plain": [
       "  CustomerID                         CompanyName         ContactName  \\\n",
       "0      ALFKI                 Alfreds Futterkiste        Maria Anders   \n",
       "1      ANATR  Ana Trujillo Emparedados y helados        Ana Trujillo   \n",
       "2      ANTON            Antonio Moreno TaquerÃ­a      Antonio Moreno   \n",
       "3      AROUT                     Around the Horn        Thomas Hardy   \n",
       "4      BERGS                 Berglunds snabbkÃ¶p  Christina Berglund   \n",
       "\n",
       "           ContactTitle                         Address          City Region  \\\n",
       "0  Sales Representative                   Obere Str. 57        Berlin   None   \n",
       "1                 Owner  Avda. de la ConstituciÃ³n 2222  MÃ©xico D.F.   None   \n",
       "2                 Owner                 Mataderos  2312  MÃ©xico D.F.   None   \n",
       "3  Sales Representative                 120 Hanover Sq.        London   None   \n",
       "4   Order Administrator                BerguvsvÃ¤gen  8        LuleÃ¥   None   \n",
       "\n",
       "        Zip  Country           Phone  ... AddressTypeID AddressLine2  \\\n",
       "0     12209  Germany     030-0074321  ...           NaN          NaN   \n",
       "1     05021   Mexico    (5) 555-4729  ...           NaN          NaN   \n",
       "2     05023   Mexico    (5) 555-3932  ...           NaN          NaN   \n",
       "3   WA1 1DP       UK  (171) 555-7788  ...           NaN          NaN   \n",
       "4  S-958 22   Sweden   0921-12 34 65  ...           NaN          NaN   \n",
       "\n",
       "  StateProvinceID SpatialLocation AddressType StateProvinceCode  \\\n",
       "0             NaN             NaN         NaN               NaN   \n",
       "1             NaN             NaN         NaN               NaN   \n",
       "2             NaN             NaN         NaN               NaN   \n",
       "3             NaN             NaN         NaN               NaN   \n",
       "4             NaN             NaN         NaN               NaN   \n",
       "\n",
       "   CountryRegionCode  IsOnlyStateProvinceFlag  StateProvince CountryRegion  \n",
       "0                NaN                      NaN            NaN           NaN  \n",
       "1                NaN                      NaN            NaN           NaN  \n",
       "2                NaN                      NaN            NaN           NaN  \n",
       "3                NaN                      NaN            NaN           NaN  \n",
       "4                NaN                      NaN            NaN           NaN  \n",
       "\n",
       "[5 rows x 38 columns]"
      ]
     },
     "execution_count": 126,
     "metadata": {},
     "output_type": "execute_result"
    }
   ],
   "source": [
    "# Combining all customer data\n",
    "customers = pd.concat([northwind_combined_customer, aenc_customer, adventureworks_combined_customers], ignore_index=True)\n",
    "\n",
    "customers.head()"
   ]
  },
  {
   "cell_type": "code",
   "execution_count": 127,
   "id": "e6eca2a3",
   "metadata": {
    "ExecuteTime": {
     "end_time": "2024-05-20T13:30:08.103807Z",
     "start_time": "2024-05-20T13:30:07.794635Z"
    }
   },
   "outputs": [
    {
     "data": {
      "text/html": [
       "<div>\n",
       "<style scoped>\n",
       "    .dataframe tbody tr th:only-of-type {\n",
       "        vertical-align: middle;\n",
       "    }\n",
       "\n",
       "    .dataframe tbody tr th {\n",
       "        vertical-align: top;\n",
       "    }\n",
       "\n",
       "    .dataframe thead th {\n",
       "        text-align: right;\n",
       "    }\n",
       "</style>\n",
       "<table border=\"1\" class=\"dataframe\">\n",
       "  <thead>\n",
       "    <tr style=\"text-align: right;\">\n",
       "      <th></th>\n",
       "      <th>DATE_ID</th>\n",
       "      <th>DATE_Date</th>\n",
       "      <th>DATE_Weekday</th>\n",
       "      <th>DATE_WeekdayNum</th>\n",
       "      <th>DATE_DayMonth</th>\n",
       "      <th>DATE_DayOfYear</th>\n",
       "      <th>DATE_WeekOfYear</th>\n",
       "      <th>DATE_MonthNum</th>\n",
       "      <th>DATE_MonthName</th>\n",
       "      <th>DATE_MonthNameShort</th>\n",
       "      <th>DATE_Quarter</th>\n",
       "      <th>DATE_Year</th>\n",
       "      <th>DATE_FirstDayOfMonth</th>\n",
       "      <th>DATE_LastDayOfMonth</th>\n",
       "      <th>DATE_YYYYMM</th>\n",
       "      <th>DATE_WeekendIndr</th>\n",
       "    </tr>\n",
       "  </thead>\n",
       "  <tbody>\n",
       "    <tr>\n",
       "      <th>2045-12-26</th>\n",
       "      <td>20451226</td>\n",
       "      <td>2045-12-26</td>\n",
       "      <td>Tuesday</td>\n",
       "      <td>2</td>\n",
       "      <td>26</td>\n",
       "      <td>360</td>\n",
       "      <td>52</td>\n",
       "      <td>12</td>\n",
       "      <td>December</td>\n",
       "      <td>Dec</td>\n",
       "      <td>4</td>\n",
       "      <td>2045</td>\n",
       "      <td>2045-12-01</td>\n",
       "      <td>2045-12-31</td>\n",
       "      <td>2045-12</td>\n",
       "      <td>weekday</td>\n",
       "    </tr>\n",
       "    <tr>\n",
       "      <th>2045-12-27</th>\n",
       "      <td>20451227</td>\n",
       "      <td>2045-12-27</td>\n",
       "      <td>Wednesday</td>\n",
       "      <td>3</td>\n",
       "      <td>27</td>\n",
       "      <td>361</td>\n",
       "      <td>52</td>\n",
       "      <td>12</td>\n",
       "      <td>December</td>\n",
       "      <td>Dec</td>\n",
       "      <td>4</td>\n",
       "      <td>2045</td>\n",
       "      <td>2045-12-01</td>\n",
       "      <td>2045-12-31</td>\n",
       "      <td>2045-12</td>\n",
       "      <td>weekday</td>\n",
       "    </tr>\n",
       "    <tr>\n",
       "      <th>2045-12-28</th>\n",
       "      <td>20451228</td>\n",
       "      <td>2045-12-28</td>\n",
       "      <td>Thursday</td>\n",
       "      <td>4</td>\n",
       "      <td>28</td>\n",
       "      <td>362</td>\n",
       "      <td>52</td>\n",
       "      <td>12</td>\n",
       "      <td>December</td>\n",
       "      <td>Dec</td>\n",
       "      <td>4</td>\n",
       "      <td>2045</td>\n",
       "      <td>2045-12-01</td>\n",
       "      <td>2045-12-31</td>\n",
       "      <td>2045-12</td>\n",
       "      <td>weekday</td>\n",
       "    </tr>\n",
       "    <tr>\n",
       "      <th>2045-12-29</th>\n",
       "      <td>20451229</td>\n",
       "      <td>2045-12-29</td>\n",
       "      <td>Friday</td>\n",
       "      <td>5</td>\n",
       "      <td>29</td>\n",
       "      <td>363</td>\n",
       "      <td>52</td>\n",
       "      <td>12</td>\n",
       "      <td>December</td>\n",
       "      <td>Dec</td>\n",
       "      <td>4</td>\n",
       "      <td>2045</td>\n",
       "      <td>2045-12-01</td>\n",
       "      <td>2045-12-31</td>\n",
       "      <td>2045-12</td>\n",
       "      <td>weekday</td>\n",
       "    </tr>\n",
       "    <tr>\n",
       "      <th>2045-12-30</th>\n",
       "      <td>20451230</td>\n",
       "      <td>2045-12-30</td>\n",
       "      <td>Saturday</td>\n",
       "      <td>6</td>\n",
       "      <td>30</td>\n",
       "      <td>364</td>\n",
       "      <td>52</td>\n",
       "      <td>12</td>\n",
       "      <td>December</td>\n",
       "      <td>Dec</td>\n",
       "      <td>4</td>\n",
       "      <td>2045</td>\n",
       "      <td>2045-12-01</td>\n",
       "      <td>2045-12-31</td>\n",
       "      <td>2045-12</td>\n",
       "      <td>weekend</td>\n",
       "    </tr>\n",
       "  </tbody>\n",
       "</table>\n",
       "</div>"
      ],
      "text/plain": [
       "             DATE_ID  DATE_Date DATE_Weekday  DATE_WeekdayNum  DATE_DayMonth  \\\n",
       "2045-12-26  20451226 2045-12-26      Tuesday                2             26   \n",
       "2045-12-27  20451227 2045-12-27    Wednesday                3             27   \n",
       "2045-12-28  20451228 2045-12-28     Thursday                4             28   \n",
       "2045-12-29  20451229 2045-12-29       Friday                5             29   \n",
       "2045-12-30  20451230 2045-12-30     Saturday                6             30   \n",
       "\n",
       "            DATE_DayOfYear  DATE_WeekOfYear  DATE_MonthNum DATE_MonthName  \\\n",
       "2045-12-26             360               52             12       December   \n",
       "2045-12-27             361               52             12       December   \n",
       "2045-12-28             362               52             12       December   \n",
       "2045-12-29             363               52             12       December   \n",
       "2045-12-30             364               52             12       December   \n",
       "\n",
       "           DATE_MonthNameShort  DATE_Quarter  DATE_Year DATE_FirstDayOfMonth  \\\n",
       "2045-12-26                 Dec             4       2045           2045-12-01   \n",
       "2045-12-27                 Dec             4       2045           2045-12-01   \n",
       "2045-12-28                 Dec             4       2045           2045-12-01   \n",
       "2045-12-29                 Dec             4       2045           2045-12-01   \n",
       "2045-12-30                 Dec             4       2045           2045-12-01   \n",
       "\n",
       "           DATE_LastDayOfMonth DATE_YYYYMM DATE_WeekendIndr  \n",
       "2045-12-26          2045-12-31     2045-12          weekday  \n",
       "2045-12-27          2045-12-31     2045-12          weekday  \n",
       "2045-12-28          2045-12-31     2045-12          weekday  \n",
       "2045-12-29          2045-12-31     2045-12          weekday  \n",
       "2045-12-30          2045-12-31     2045-12          weekend  "
      ]
     },
     "execution_count": 127,
     "metadata": {},
     "output_type": "execute_result"
    }
   ],
   "source": [
    "def calculate_periods(periods_in_years): \n",
    "    return 365 * periods_in_years + (periods_in_years // 4) # divide by 4 for leap years\n",
    "\n",
    "periods = calculate_periods(50)\n",
    "\n",
    "date_table = {\n",
    "    'DATE_ID': pd.date_range(start='1996-01-01', periods=periods).strftime('%Y%m%d').astype(int),\n",
    "    'DATE_Date': pd.date_range(start='1996-01-01', periods=periods),\n",
    "    'DATE_Weekday': pd.date_range(start='1996-01-01', periods=periods).strftime('%A'),\n",
    "    'DATE_WeekdayNum': pd.date_range(start='1996-01-01', periods=periods).weekday + 1,\n",
    "    'DATE_DayMonth': pd.date_range(start='1996-01-01', periods=periods).day,\n",
    "    'DATE_DayOfYear': pd.date_range(start='1996-01-01', periods=periods).dayofyear,\n",
    "    'DATE_WeekOfYear': pd.date_range(start='1996-01-01', periods=periods).isocalendar().week,\n",
    "    'DATE_MonthNum': pd.date_range(start='1996-01-01', periods=periods).month,\n",
    "    'DATE_MonthName': pd.date_range(start='1996-01-01', periods=periods).strftime('%B'),\n",
    "    'DATE_MonthNameShort': pd.date_range(start='1996-01-01', periods=periods).strftime('%b'),\n",
    "    'DATE_Quarter': pd.date_range(start='1996-01-01', periods=periods).quarter,\n",
    "    'DATE_Year': pd.date_range(start='1996-01-01', periods=periods).year,\n",
    "    'DATE_FirstDayOfMonth': pd.date_range(start='1996-01-01', periods=periods).to_period('M').start_time,\n",
    "    'DATE_LastDayOfMonth': pd.date_range(start='1996-01-01', periods=periods).to_period('M').end_time.date,\n",
    "    'DATE_YYYYMM': pd.date_range(start='1996-01-01', periods=periods).strftime('%Y-%m'),\n",
    "    'DATE_WeekendIndr': pd.date_range(start='1996-01-01', periods=periods).weekday // 5\n",
    "}\n",
    "\n",
    "date_table = pd.DataFrame(date_table)\n",
    "date_table['DATE_WeekendIndr'] = date_table['DATE_WeekendIndr'].replace({0: 'weekday', 1: 'weekend'})\n",
    "\n",
    "date_table.tail()"
   ]
  },
  {
   "cell_type": "code",
   "execution_count": 128,
   "id": "61b960fe",
   "metadata": {
    "ExecuteTime": {
     "end_time": "2024-05-20T13:30:08.112570Z",
     "start_time": "2024-05-20T13:30:08.104813Z"
    }
   },
   "outputs": [
    {
     "data": {
      "text/html": [
       "<div>\n",
       "<style scoped>\n",
       "    .dataframe tbody tr th:only-of-type {\n",
       "        vertical-align: middle;\n",
       "    }\n",
       "\n",
       "    .dataframe tbody tr th {\n",
       "        vertical-align: top;\n",
       "    }\n",
       "\n",
       "    .dataframe thead th {\n",
       "        text-align: right;\n",
       "    }\n",
       "</style>\n",
       "<table border=\"1\" class=\"dataframe\">\n",
       "  <thead>\n",
       "    <tr style=\"text-align: right;\">\n",
       "      <th></th>\n",
       "      <th>TIME_ID</th>\n",
       "      <th>TIME_Hour</th>\n",
       "      <th>TIME_Minute</th>\n",
       "      <th>TIME_HourMinute</th>\n",
       "    </tr>\n",
       "  </thead>\n",
       "  <tbody>\n",
       "    <tr>\n",
       "      <th>0</th>\n",
       "      <td>0</td>\n",
       "      <td>0</td>\n",
       "      <td>0</td>\n",
       "      <td>00:00</td>\n",
       "    </tr>\n",
       "    <tr>\n",
       "      <th>1</th>\n",
       "      <td>1</td>\n",
       "      <td>0</td>\n",
       "      <td>1</td>\n",
       "      <td>00:01</td>\n",
       "    </tr>\n",
       "    <tr>\n",
       "      <th>2</th>\n",
       "      <td>2</td>\n",
       "      <td>0</td>\n",
       "      <td>2</td>\n",
       "      <td>00:02</td>\n",
       "    </tr>\n",
       "    <tr>\n",
       "      <th>3</th>\n",
       "      <td>3</td>\n",
       "      <td>0</td>\n",
       "      <td>3</td>\n",
       "      <td>00:03</td>\n",
       "    </tr>\n",
       "    <tr>\n",
       "      <th>4</th>\n",
       "      <td>4</td>\n",
       "      <td>0</td>\n",
       "      <td>4</td>\n",
       "      <td>00:04</td>\n",
       "    </tr>\n",
       "    <tr>\n",
       "      <th>...</th>\n",
       "      <td>...</td>\n",
       "      <td>...</td>\n",
       "      <td>...</td>\n",
       "      <td>...</td>\n",
       "    </tr>\n",
       "    <tr>\n",
       "      <th>1435</th>\n",
       "      <td>1435</td>\n",
       "      <td>23</td>\n",
       "      <td>55</td>\n",
       "      <td>23:55</td>\n",
       "    </tr>\n",
       "    <tr>\n",
       "      <th>1436</th>\n",
       "      <td>1436</td>\n",
       "      <td>23</td>\n",
       "      <td>56</td>\n",
       "      <td>23:56</td>\n",
       "    </tr>\n",
       "    <tr>\n",
       "      <th>1437</th>\n",
       "      <td>1437</td>\n",
       "      <td>23</td>\n",
       "      <td>57</td>\n",
       "      <td>23:57</td>\n",
       "    </tr>\n",
       "    <tr>\n",
       "      <th>1438</th>\n",
       "      <td>1438</td>\n",
       "      <td>23</td>\n",
       "      <td>58</td>\n",
       "      <td>23:58</td>\n",
       "    </tr>\n",
       "    <tr>\n",
       "      <th>1439</th>\n",
       "      <td>1439</td>\n",
       "      <td>23</td>\n",
       "      <td>59</td>\n",
       "      <td>23:59</td>\n",
       "    </tr>\n",
       "  </tbody>\n",
       "</table>\n",
       "<p>1440 rows × 4 columns</p>\n",
       "</div>"
      ],
      "text/plain": [
       "      TIME_ID  TIME_Hour  TIME_Minute TIME_HourMinute\n",
       "0           0          0            0           00:00\n",
       "1           1          0            1           00:01\n",
       "2           2          0            2           00:02\n",
       "3           3          0            3           00:03\n",
       "4           4          0            4           00:04\n",
       "...       ...        ...          ...             ...\n",
       "1435     1435         23           55           23:55\n",
       "1436     1436         23           56           23:56\n",
       "1437     1437         23           57           23:57\n",
       "1438     1438         23           58           23:58\n",
       "1439     1439         23           59           23:59\n",
       "\n",
       "[1440 rows x 4 columns]"
      ]
     },
     "execution_count": 128,
     "metadata": {},
     "output_type": "execute_result"
    }
   ],
   "source": [
    "# Define the number of minutes in a day\n",
    "minutes_in_a_day = 24 * 60\n",
    "\n",
    "# Create the data dictionary for time dimension\n",
    "time_table = {\n",
    "    'TIME_ID': list(range(minutes_in_a_day)),\n",
    "    'TIME_Hour': [i // 60 for i in range(minutes_in_a_day)],\n",
    "    'TIME_Minute': [i % 60 for i in range(minutes_in_a_day)],\n",
    "    'TIME_HourMinute': [f'{hour:02d}:{minute:02d}' for hour in range(24) for minute in range(60)],\n",
    "}\n",
    "\n",
    "# Convert the dictionary to a DataFrame\n",
    "time_table = pd.DataFrame(time_table)\n",
    "\n",
    "# # Fetch existing data from the time dimension table\n",
    "# existing_data_query = \"SELECT TIME_ID FROM Time\"\n",
    "# existing_data = pd.read_sql(existing_data_query, united_outdoors_conn)\n",
    "\n",
    "# # Filter new data to include only records that are not already in the table\n",
    "# new_data_to_insert = time_table[~time_table['TIME_ID'].isin(existing_data['TIME_ID'])]\n",
    "\n",
    "time_table"
   ]
  },
  {
   "cell_type": "markdown",
   "id": "def759487d0e6c71",
   "metadata": {},
   "source": [
    "## Loading the data into the UnitedOutdoors datawarehouse"
   ]
  },
  {
   "cell_type": "markdown",
   "id": "61db24396ee46e4a",
   "metadata": {},
   "source": [
    "### Date"
   ]
  },
  {
   "cell_type": "code",
   "execution_count": null,
   "id": "b3e30b2f98574881",
   "metadata": {},
   "outputs": [],
   "source": [
    "date_dtypes = {\n",
    "    'DATE_ID': Integer,\n",
    "    'DATE_Date': DATE,\n",
    "    'DATE_Weekday': VARCHAR(10),\n",
    "    'DATE_WeekdayNum': Integer,\n",
    "    'DATE_DayMonth': Integer,\n",
    "    'DATE_DayOfYear': Integer,\n",
    "    'DATE_WeekOfYear': Integer,\n",
    "    'DATE_MonthNum': Integer,\n",
    "    'DATE_MonthName': VARCHAR(10),\n",
    "    'DATE_MonthNameShort': CHAR(10),\n",
    "    'DATE_Quarter': Integer,\n",
    "    'DATE_Year': Integer,\n",
    "    'DATE_FirstDayOfMonth': DATE,\n",
    "    'DATE_LastDayOfMonth': DATE,\n",
    "    'DATE_YYYYMM': CHAR(10),\n",
    "    'DATE_WeekendIndr': CHAR(15)\n",
    "}\n",
    "\n",
    "prepare_and_insert(date_table, date_dtypes, 'Date', united_outdoors_engine)"
   ]
  },
  {
   "cell_type": "markdown",
   "id": "695ff2c0938b1534",
   "metadata": {},
   "source": [
    "### Time"
   ]
  },
  {
   "cell_type": "code",
   "execution_count": null,
   "id": "5021b7a221fbeadc",
   "metadata": {},
   "outputs": [],
   "source": [
    "time_dtypes = {\n",
    "    'TIME_ID': Integer,\n",
    "    'TIME_Hour': Integer,\n",
    "    'TIME_Minute': Integer,\n",
    "    'TIME_HourMinute': VARCHAR(10),\n",
    "}\n",
    "\n",
    "prepare_and_insert(time_table, time_dtypes, 'Time', united_outdoors_engine)"
   ]
  },
  {
   "cell_type": "markdown",
   "id": "146ce6de",
   "metadata": {},
   "source": [
    "### BillOfMaterial"
   ]
  },
  {
   "cell_type": "code",
   "execution_count": null,
   "id": "2815d3e9",
   "metadata": {},
   "outputs": [],
   "source": [
    "billofmaterial_dtypes = {\n",
    "    'BILLOFMATERIAL_BILLOFMATERIAL_BillOfMaterialID': Integer,\n",
    "    'BILLOFMATERIAL_BILLOFMATERIAL_ProductAssemblyID': Integer,\n",
    "    'BILLOFMATERIAL_BILLOFMATERIAL_ComponentID': Integer,\n",
    "    'BILLOFMATERIAL_BILLOFMATERIAL_StartDate': DATE,\n",
    "    'BILLOFMATERIAL_BILLOFMATERIAL_EndDate': DATE,\n",
    "    'BILLOFMATERIAL_BILLOFMATERIAL_UnitMeasureCode': CHAR(3),\n",
    "    'BILLOFMATERIAL_BILLOFMATERIAL_BOMLevel': Integer,\n",
    "    'BILLOFMATERIAL_BILLOFMATERIAL_PerAssemblyQty': DECIMAL(8,2),\n",
    "    'BILLOFMATERIAL_UNITMEASURE_Name': NVARCHAR(50)\n",
    "}\n",
    "\n",
    "prepare_and_insert(billofmaterials, billofmaterial_dtypes, \"BillOfMaterial\", united_outdoors_engine)"
   ]
  },
  {
   "cell_type": "markdown",
   "id": "87c11892",
   "metadata": {},
   "source": [
    "### Document"
   ]
  },
  {
   "cell_type": "code",
   "execution_count": null,
   "id": "455e8f36",
   "metadata": {},
   "outputs": [],
   "source": [
    "document_dtypes = {\n",
    "    'DOCUMENT_DOCUMENT_DocumentNode': NVARCHAR,\n",
    "    'DOCUMENT_DOCUMENT_DocumentLevel': Integer,\n",
    "    'DOCUMENT_DOCUMENT_Title': NVARCHAR(50),\n",
    "    'DOCUMENT_DOCUMENT_Owner': Integer,\n",
    "    'DOCUMENT_DOCUMENT_FolderFlag': BIT,\n",
    "    'DOCUMENT_DOCUMENT_FileName': NVARCHAR(400),\n",
    "    'DOCUMENT_DOCUMENT_FileExtension': NVARCHAR(8),\n",
    "    'DOCUMENT_DOCUMENT_Revision': CHAR(5),\n",
    "    'DOCUMENT_DOCUMENT_ChangeNumber': Integer,\n",
    "    'DOCUMENT_DOCUMENT_Status': Integer,\n",
    "    'DOCUMENT_DOCUMENT_DocumentSummary': NVARCHAR,\n",
    "    'DOCUMENT_DOCUMENT_Document': LargeBinary,\n",
    "    'DOCUMENT_PRODUCTDOCUMENT_ProductID': Integer,\n",
    "}\n",
    "\n",
    "prepare_and_insert(documents, document_dtypes, \"Document\", united_outdoors_engine)"
   ]
  },
  {
   "cell_type": "markdown",
   "id": "4f779acf",
   "metadata": {},
   "source": [
    "### Illustration"
   ]
  },
  {
   "cell_type": "code",
   "execution_count": null,
   "id": "78940efd",
   "metadata": {},
   "outputs": [],
   "source": [
    "# illustration_dtypes = {\n",
    "#     'ILLUSTRATION_ILLUSTRATION_IllustrationID': Integer,\n",
    "#     'ILLUSTRATION_ILLUSTRATION_Diagram': XML,\n",
    "#     'ILLUSTRATION_PRODUCTMODELILLUSTRATION_ProductModelID': Integer,\n",
    "# }\n",
    "\n",
    "# illustration_nk_sk_dict = prepare_and_insert_return_sk(illustrations, illustration_dtypes, \"Illustration\", united_outdoors_engine, 'ILLUSTRATION_ILLUSTRATION_IllustrationID')"
   ]
  },
  {
   "cell_type": "markdown",
   "id": "77d04069",
   "metadata": {},
   "source": [
    "### ProductPhoto"
   ]
  },
  {
   "cell_type": "code",
   "execution_count": null,
   "id": "f96683c6",
   "metadata": {},
   "outputs": [],
   "source": [
    "# productphoto_dtypes = {\n",
    "#     'PRODUCTPHOTO_PRODUCTPHOTO_ProductPhotoID': Integer,\n",
    "#     'PRODUCTPHOTO_PRODUCTPHOTO_ThumbNailPhoto': LargeBinary,\n",
    "#     'PRODUCTPHOTO_PRODUCTPHOTO_ThumbNailPhotoFileName': NVARCHAR(50),\n",
    "#     'PRODUCTPHOTO_PRODUCTPHOTO_LargePhoto': LargeBinary,\n",
    "#     'PRODUCTPHOTO_PRODUCTPHOTO_LargePhotoFileName': NVARCHAR(50),\n",
    "#     'PRODUCTPHOTO_PRODUCTPRODUCTPHOTO_ProductID': Integer,\n",
    "#     'PRODUCTPHOTO_PRODUCTPRODUCTPHOTO_Primary': Integer,\n",
    "# }\n",
    "\n",
    "# productphotos['PRODUCTPHOTO_PRODUCTPHOTO_ThumbNailPhoto'] = productphotos['PRODUCTPHOTO_PRODUCTPHOTO_ThumbNailPhoto'].apply(lambda x: x.encode('utf-8') if isinstance(x, str) else x)\n",
    "# productphotos['PRODUCTPHOTO_PRODUCTPHOTO_LargePhoto'] = productphotos['PRODUCTPHOTO_PRODUCTPHOTO_LargePhoto'].apply(lambda x: x.encode('utf-8') if isinstance(x, str) else x)\n",
    "\n",
    "# productphoto_nk_sk_dict = prepare_and_insert_return_sk(productphotos, productphoto_dtypes, \"ProductPhoto\", united_outdoors_engine, 'PRODUCTPHOTO_PRODUCTPHOTO_ProductPhotoID')"
   ]
  },
  {
   "cell_type": "markdown",
   "id": "1891b9ff",
   "metadata": {},
   "source": [
    "### WorkOrder"
   ]
  },
  {
   "cell_type": "code",
   "execution_count": null,
   "id": "1f920f05",
   "metadata": {},
   "outputs": [],
   "source": [
    "workorder_dtypes = {\n",
    "    'WORKORDER_WORKORDER_WorkOrderID': Integer,\n",
    "    'WORKORDER_WORKORDER_ProductID': Integer,\n",
    "    'WORKORDER_WORKORDER_OrderQty': Integer,\n",
    "    'WORKORDER_WORKORDER_StockedQty': Integer,\n",
    "    'WORKORDER_WORKORDER_ScrappedQty': Integer,\n",
    "    'WORKORDER_WORKORDER_StartDate': DATE,\n",
    "    'WORKORDER_WORKORDER_EndDate': DATE,\n",
    "    'WORKORDER_WORKORDER_DueDate': DATE,\n",
    "    'WORKORDER_WORKORDER_ScrapReasonID': Integer,\n",
    "    'WORKORDER_WORKORDERINGROUTING_ProductID': Integer,\n",
    "    'WORKORDER_WORKORDERINGROUTING_OperationSequence': Integer,\n",
    "    'WORKORDER_WORKORDERINGROUTING_LocationID': Integer,\n",
    "    'WORKORDER_WORKORDERINGROUTING_ScheduledStartDate': DATE,\n",
    "    'WORKORDER_WORKORDERINGROUTING_ScheduledEndDate': DATE,\n",
    "    'WORKORDER_WORKORDERINGROUTING_ActualStartDate': DATE,\n",
    "    'WORKORDER_WORKORDERINGROUTING_ActualEndDate': DATE,\n",
    "    'WORKORDER_WORKORDERINGROUTING_ActualResourcesHrs': DECIMAL(9,4),\n",
    "    'WORKORDER_WORKORDERINGROUTING_PlannedCost': MONEY,\n",
    "    'WORKORDER_WORKORDERINGROUTING_ActualCost': MONEY,\n",
    "    'WORKORDER_SCRAPREASON_ScrapReasonID': Integer,\n",
    "    'WORKORDER_SCRAPREASON_Name': NVARCHAR(50)\n",
    "}\n",
    "\n",
    "prepare_and_insert(workorders, workorder_dtypes, \"WorkOrder\", united_outdoors_engine)"
   ]
  },
  {
   "cell_type": "markdown",
   "id": "3f3139bd023f535",
   "metadata": {},
   "source": [
    "### Departments"
   ]
  },
  {
   "cell_type": "code",
   "execution_count": null,
   "id": "d2fa80a01c2d42c",
   "metadata": {},
   "outputs": [],
   "source": [
    "departments_dtypes = {\n",
    "    'DEPARTMENT_DEPARTMENT_DeptID': Integer,\n",
    "    'DEPARTMENT_DEPARTMENT_DeptName': String(100),\n",
    "    'DEPARTMENT_DEPARTMENT_GroupName': String(100),\n",
    "    'DEPARTMENT_DEPARTMENT_DeptHeadID': Integer,\n",
    "    'DEPARTMENT_source_database': String(100)\n",
    "}\n",
    "\n",
    "# TODO dept_head_id needs to refer to an employee\n",
    "departments_nk_sk_dict = prepare_and_insert_return_sk(departments, departments_dtypes, 'Department', united_outdoors_engine, 'DEPARTMENT_DEPARTMENT_DeptID', { 'DEPARTMENT_DEPARTMENT_DeptHeadID' : {}})"
   ]
  },
  {
   "cell_type": "markdown",
   "id": "15016c8f",
   "metadata": {},
   "source": [
    "### Employees"
   ]
  },
  {
   "cell_type": "code",
   "execution_count": null,
   "id": "62074680",
   "metadata": {},
   "outputs": [],
   "source": [
    "employees_dtypes = {\n",
    "    'EMPLOYEE_EMPLOYEE_EmployeeID': Integer,\n",
    "    'EMPLOYEE_EMPLOYEE_DepartmentID': Integer,\n",
    "    'EMPLOYEE_EMPLOYEE_ManagerID': Integer,\n",
    "    'EMPLOYEE_EMPLOYEETERRITORIES_TerritoryID': Integer,\n",
    "    'EMPLOYEE_EMPLOYEE_Emp_Fname': NVARCHAR(255),\n",
    "    'EMPLOYEE_EMPLOYEE_Emp_Lname': NVARCHAR(255),\n",
    "    'EMPLOYEE_EMPLOYEE_Street': NVARCHAR(150),\n",
    "    'EMPLOYEE_EMPLOYEE_City': NVARCHAR(100),\n",
    "    'EMPLOYEE_EMPLOYEE_State': CHAR(1),\n",
    "    'EMPLOYEE_EMPLOYEE_Zip_Code': CHAR(5),\n",
    "    'EMPLOYEE_EMPLOYEE_Phone': NVARCHAR(20),\n",
    "    'EMPLOYEE_EMPLOYEE_Status': CHAR(1),\n",
    "    'EMPLOYEE_EMPLOYEE_SS_Number': Integer,\n",
    "    'EMPLOYEE_EMPLOYEE_Salary': Integer,\n",
    "    'EMPLOYEE_EMPLOYEE_Start_Date': DATE,\n",
    "    'EMPLOYEE_EMPLOYEE_Termination': DATE,\n",
    "    'EMPLOYEE_EMPLOYEE_Birth_Date': DATE,\n",
    "    'EMPLOYEE_EMPLOYEE_Bene_Health_Ins': CHAR(1),\n",
    "    'EMPLOYEE_EMPLOYEE_Bene_Life_Ins': CHAR(1),\n",
    "    'EMPLOYEE_EMPLOYEE_Bene_Day_Care': CHAR(1),\n",
    "    'EMPLOYEE_EMPLOYEE_Sex': CHAR(1),\n",
    "    'EMPLOYEE_BONUS_Bonus_Date': DATE,\n",
    "    'EMPLOYEE_BONUS_Bonus_Amount': Integer,\n",
    "    'EMPLOYEE_EMPLOYEES_Title': NVARCHAR(50),\n",
    "    'EMPLOYEE_EMPLOYEES_TitleOfCourtesy': NVARCHAR(50),\n",
    "    'EMPLOYEE_EMPLOYEES_HireDate': DATE,\n",
    "    'EMPLOYEE_EMPLOYEES_HomePhone': NVARCHAR(20),\n",
    "    'EMPLOYEE_EMPLOYEES_Extension': Integer,\n",
    "    'EMPLOYEE_EMPLOYEES_PhotoHexString': String,\n",
    "    'EMPLOYEE_EMPLOYEES_PhotoPath': NVARCHAR(255),\n",
    "    'EMPLOYEE_EMPLOYEES_Notes': String,\n",
    "}\n",
    "\n",
    "prepare_and_insert(employees, employees_dtypes, 'Employee', united_outdoors_engine, { 'EMPLOYEE_EMPLOYEE_DepartmentID' : departments_nk_sk_dict, 'EMPLOYEE_EMPLOYEE_ManagerID' : departments_nk_sk_dict})"
   ]
  },
  {
   "cell_type": "markdown",
   "id": "7f4a7061f4f0105c",
   "metadata": {},
   "source": [
    "### BusinessEntities"
   ]
  },
  {
   "cell_type": "code",
   "execution_count": null,
   "id": "a3d497d845c8eda2",
   "metadata": {},
   "outputs": [],
   "source": [
    "businessentities_dtypes = {\n",
    "    'BUSINESSENTITY_BUSINESSENTITY_BusinessEntityID': Integer,\n",
    "    'BUSINESSENTITY_BUSINESSENTITYCONTACT_PersonID': Integer,\n",
    "    'BUSINESSENTITY_CONTACTTYPE_ContactTypeID': Integer,\n",
    "    'BUSINESSENTITY_CONTACTTYPE_Name': String(100)\n",
    "}\n",
    "\n",
    "businessentities_nk_sk_dict = prepare_and_insert_return_sk(businessentities, businessentities_dtypes, 'BusinessEntity',united_outdoors_engine, 'BUSINESSENTITY_BUSINESSENTITY_BusinessEntityID')"
   ]
  },
  {
   "cell_type": "markdown",
   "id": "aecb5657d108d5ac",
   "metadata": {},
   "source": [
    "### People"
   ]
  },
  {
   "cell_type": "code",
   "execution_count": null,
   "id": "11d58a830e84bcf6",
   "metadata": {},
   "outputs": [],
   "source": [
    "people_dtypes = {\n",
    "    'PERSON_PERSON_BusinessEntityID': Integer,\n",
    "    'PERSON_PERSON_PersonType': String(2),\n",
    "    'PERSON_PERSON_NameStyle': BIT,\n",
    "    'PERSON_PERSON_Title': String(100),\n",
    "    'PERSON_PERSON_FirstName': String(100),\n",
    "    'PERSON_PERSON_MiddleName': String(100),\n",
    "    'PERSON_PERSON_LastName': String(100),\n",
    "    'PERSON_PERSON_Suffix': String(100),\n",
    "    'PERSON_PERSON_EmailPromotion': Integer,\n",
    "    'PERSON_PERSON_AdditionalContactInfo': XML,\n",
    "    'PERSON_PERSON_Demographics': XML,\n",
    "    'PERSON_PERSONPHONE_PhoneNumber': String(100),\n",
    "    'PERSON_PHONENUMBERTYPE_PhoneNumberTypeID': Integer,\n",
    "    'PERSON_PHONENUMBERTYPE_Name': String(100),\n",
    "    'PERSON_EMAILADDRESS_EmailAddressID': Integer,\n",
    "    'PERSON_EMAILADDRESS_EmailAddress': String(100),\n",
    "    'PERSON_PASSWORD_PasswordHash': LargeBinary,\n",
    "    'PERSON_PASSWORD_PasswordSalt': LargeBinary\n",
    "}\n",
    "\n",
    "# Convert the 'PERSON_PASSWORD_PasswordHash' and 'PERSON_PASSWORD_PasswordSalt' columns to bytes\n",
    "people['PERSON_PASSWORD_PasswordHash'] = people['PERSON_PASSWORD_PasswordHash'].apply(lambda x: x.encode('utf-8') if isinstance(x, str) else x)\n",
    "people['PERSON_PASSWORD_PasswordSalt'] = people['PERSON_PASSWORD_PasswordSalt'].apply(lambda x: x.encode('utf-8') if isinstance(x, str) else x)\n",
    "\n",
    "prepare_and_insert(people, people_dtypes, 'Person',united_outdoors_engine, { 'PERSON_PERSON_BusinessEntityID' : businessentities_nk_sk_dict})"
   ]
  },
  {
   "cell_type": "markdown",
   "id": "11006cc84f78e74b",
   "metadata": {},
   "source": [
    "### Updating the BusinessEntity table\n",
    "replacing the natural keys with the surrogate keys for the PersonID column"
   ]
  },
  {
   "cell_type": "code",
   "execution_count": 55,
   "id": "b3d0989f3e6c628e",
   "metadata": {},
   "outputs": [],
   "source": [
    "prepare_and_update('BusinessEntity', united_outdoors_engine, { 'BUSINESSENTITY_BUSINESSENTITYCONTACT_PersonID' : businessentities_nk_sk_dict})"
   ]
  },
  {
   "cell_type": "markdown",
   "id": "d2114350a545ae1c",
   "metadata": {},
   "source": [
    "### BusinessEntityAddresses"
   ]
  },
  {
   "cell_type": "code",
   "execution_count": null,
   "id": "45e9b08d3f43e42c",
   "metadata": {},
   "outputs": [],
   "source": [
    "businessentityaddresses_dtypes = {\n",
    "    'BUSINESSENTITYADDRESS_BUSINESSENTITYADDRESS_BusinessEntityID': Integer,\n",
    "    'BUSINESSENTITYADDRESS_ADDRESSTYPE_AddressTypeID': Integer,\n",
    "    'BUSINESSENTITYADDRESS_ADDRESSTYPE_Name': String(100),\n",
    "    'BUSINESSENTITYADDRESS_ADDRESS_AddressID': Integer,\n",
    "    'BUSINESSENTITYADDRESS_ADDRESS_AddressLine1': String(100),\n",
    "    'BUSINESSENTITYADDRESS_ADDRESS_AddressLine2': String(100),\n",
    "    'BUSINESSENTITYADDRESS_ADDRESS_City': String(100),\n",
    "    'BUSINESSENTITYADDRESS_ADDRESS_POSTALCODE': String(100),\n",
    "    'BUSINESSENTITYADDRESS_ADDRESS_SpatialLocation': VARCHAR,\n",
    "    'BUSINESSENTITYADDRESS_ADDRESS_StateProvinceID': Integer\n",
    "}\n",
    "\n",
    "# TODO the StateProvinceID needs to refer to sk of Territory\n",
    "prepare_and_insert(businessentityaddresses, businessentityaddresses_dtypes, 'BusinessEntityAddress',united_outdoors_engine, { 'BUSINESSENTITYADDRESS_BUSINESSENTITYADDRESS_BusinessEntityID' : businessentities_nk_sk_dict, 'BUSINESSENTITYADDRESS_ADDRESS_StateProvinceID' : {}})"
   ]
  },
  {
   "cell_type": "code",
   "execution_count": 134,
   "id": "c7b20bd5154dca95",
   "metadata": {
    "ExecuteTime": {
     "end_time": "2024-05-20T13:33:43.032504Z",
     "start_time": "2024-05-20T13:33:39.422980Z"
    }
   },
   "outputs": [
    {
     "name": "stdout",
     "output_type": "stream",
     "text": [
      "Replacing natural keys with surrogate keys for column: JOBCANDIDATE_JOBCANDIDATE_BusinessEntityID\n",
      "Inserting data into table: JobCandidate with chunk size: 666\n"
     ]
    }
   ],
   "source": [
    "jobcandidates_dtypes = {\n",
    "    'JOBCANDIDATE_JOBCANDIDATE_JobCandidateID': Integer,\n",
    "    'JOBCANDIDATE_JOBCANDIDATE_BusinessEntityID': Integer,\n",
    "    'JOBCANDIDATE_JOBCANDIDATE_Resume': XML\n",
    "}\n",
    "\n",
    "prepare_and_insert(jobcandidates, jobcandidates_dtypes, 'JobCandidate',united_outdoors_engine, { 'JOBCANDIDATE_JOBCANDIDATE_BusinessEntityID' : businessentities_nk_sk_dict})"
   ]
  },
  {
   "cell_type": "code",
   "execution_count": 135,
   "id": "dde1123b43c1e961",
   "metadata": {
    "ExecuteTime": {
     "end_time": "2024-05-20T13:33:47.158611Z",
     "start_time": "2024-05-20T13:33:43.033516Z"
    }
   },
   "outputs": [
    {
     "name": "stdout",
     "output_type": "stream",
     "text": [
      "Replacing natural keys with surrogate keys for column: EMPLOYEEDEPARTMENTHISTORY_EMPLOYEEDEPARTMENTHISTORY_BusinessEntityID\n",
      "Replacing natural keys with surrogate keys for column: EMPLOYEEDEPARTMENTHISTORY_EMPLOYEEDEPARTMENTHISTORY_DepartmentID\n",
      "Replacing natural keys with surrogate keys for column: EMPLOYEEDEPARTMENTHISTORY_EMPLOYEEDEPARTMENTHISTORY_ShiftID\n",
      "Inserting data into table: EmployeeDepartmentHistory with chunk size: 400\n"
     ]
    }
   ],
   "source": [
    "employeedepartmenthistories_dtypes = {\n",
    "    'EMPLOYEEDEPARTMENTHISTORY_EMPLOYEEDEPARTMENTHISTORY_BusinessEntityID': Integer,\n",
    "    'EMPLOYEEDEPARTMENTHISTORY_EMPLOYEEDEPARTMENTHISTORY_DepartmentID': Integer,\n",
    "    'EMPLOYEEDEPARTMENTHISTORY_EMPLOYEEDEPARTMENTHISTORY_ShiftID': Integer,\n",
    "    'EMPLOYEEDEPARTMENTHISTORY_EMPLOYEEDEPARTMENTHISTORY_StartDate': DATE,\n",
    "    'EMPLOYEEDEPARTMENTHISTORY_EMPLOYEEDEPARTMENTHISTORY_EndDate': DATE\n",
    "}\n",
    "\n",
    "prepare_and_insert(employeedepartmenthistories, employeedepartmenthistories_dtypes, 'EmployeeDepartmentHistory',united_outdoors_engine, { 'EMPLOYEEDEPARTMENTHISTORY_EMPLOYEEDEPARTMENTHISTORY_BusinessEntityID' : businessentities_nk_sk_dict, 'EMPLOYEEDEPARTMENTHISTORY_EMPLOYEEDEPARTMENTHISTORY_DepartmentID' : departments_nk_sk_dict, 'EMPLOYEEDEPARTMENTHISTORY_EMPLOYEEDEPARTMENTHISTORY_ShiftID' : {}})"
   ]
  },
  {
   "cell_type": "code",
   "execution_count": 136,
   "id": "fd52d08734d65416",
   "metadata": {
    "ExecuteTime": {
     "end_time": "2024-05-20T13:33:51.117547Z",
     "start_time": "2024-05-20T13:33:47.160772Z"
    }
   },
   "outputs": [
    {
     "name": "stdout",
     "output_type": "stream",
     "text": [
      "Replacing natural keys with surrogate keys for column: EMPLOYEEPAYHISTORY_EMPLOYEEPAYHISTORY_BusinessEntityID\n",
      "Inserting data into table: EmployeePayHistory with chunk size: 500\n"
     ]
    }
   ],
   "source": [
    "employeepayhistories_dtypes = {\n",
    "    'EMPLOYEEPAYHISTORY_EMPLOYEEPAYHISTORY_BusinessEntityID': Integer,\n",
    "    'EMPLOYEEPAYHISTORY_EMPLOYEEPAYHISTORY_RateChangeDate': DATE,\n",
    "    'EMPLOYEEPAYHISTORY_EMPLOYEEPAYHISTORY_Rate': MONEY,\n",
    "    'EMPLOYEEPAYHISTORY_EMPLOYEEPAYHISTORY_PayFrequency': Integer\n",
    "}\n",
    "\n",
    "prepare_and_insert(employeepayhistories, employeepayhistories_dtypes, 'EmployeePayHistory',united_outdoors_engine, { 'EMPLOYEEPAYHISTORY_EMPLOYEEPAYHISTORY_BusinessEntityID' : businessentities_nk_sk_dict})"
   ]
  },
  {
   "cell_type": "code",
   "execution_count": 137,
   "id": "b843dc3495846ed1",
   "metadata": {
    "ExecuteTime": {
     "end_time": "2024-05-20T13:33:51.167650Z",
     "start_time": "2024-05-20T13:33:51.120560Z"
    }
   },
   "outputs": [
    {
     "name": "stdout",
     "output_type": "stream",
     "text": [
      "Inserting data into table: Shift with chunk size: 500\n"
     ]
    }
   ],
   "source": [
    "shifts_dtypes = {\n",
    "    'SHIFT_SHIFT_ShiftID': Integer,\n",
    "    'SHIFT_SHIFT_Name': String(100),\n",
    "    'SHIFT_SHIFT_StartTime': TIME,\n",
    "    'SHIFT_SHIFT_EndTime': TIME\n",
    "}\n",
    "\n",
    "prepare_and_insert(shifts, shifts_dtypes, 'Shift',united_outdoors_engine)"
   ]
  },
  {
   "cell_type": "code",
   "execution_count": 138,
   "id": "4a5cefb5fc2b0318",
   "metadata": {
    "ExecuteTime": {
     "end_time": "2024-05-20T13:33:54.848661Z",
     "start_time": "2024-05-20T13:33:51.169258Z"
    }
   },
   "outputs": [
    {
     "name": "stdout",
     "output_type": "stream",
     "text": [
      "Replacing natural keys with surrogate keys for column: SALESPERSON_SALESPERSON_BusinessEntityID\n",
      "Replacing natural keys with surrogate keys for column: SALESPERSON_SALESPERSON_TerritoryID\n",
      "Inserting data into table: SalesPerson with chunk size: 285\n"
     ]
    }
   ],
   "source": [
    "salespeople_dtypes = {\n",
    "    'SALESPERSON_SALESPERSON_BusinessEntityID': Integer,\n",
    "    'SALESPERSON_SALESPERSON_TerritoryID': Integer,\n",
    "    'SALESPERSON_SALESPERSON_SalesQuota': MONEY,\n",
    "    'SALESPERSON_SALESPERSON_Bonus': MONEY,\n",
    "    'SALESPERSON_SALESPERSON_CommissionPct': DECIMAL(8,4),\n",
    "    'SALESPERSON_SALESPERSON_SalesYTD': MONEY,\n",
    "    'SALESPERSON_SALESPERSON_SalesLastYear': MONEY\n",
    "}\n",
    "\n",
    "prepare_and_insert(salespeople, salespeople_dtypes, 'SalesPerson',united_outdoors_engine, { 'SALESPERSON_SALESPERSON_BusinessEntityID' : businessentities_nk_sk_dict, 'SALESPERSON_SALESPERSON_TerritoryID' : {}})"
   ]
  },
  {
   "cell_type": "code",
   "execution_count": 139,
   "id": "8376781a52df1330",
   "metadata": {
    "ExecuteTime": {
     "end_time": "2024-05-20T13:33:59.509998Z",
     "start_time": "2024-05-20T13:33:54.850674Z"
    }
   },
   "outputs": [
    {
     "name": "stdout",
     "output_type": "stream",
     "text": [
      "Replacing natural keys with surrogate keys for column: PRODUCTVENDOR_PRODUCTVENDOR_ProductID\n",
      "Replacing natural keys with surrogate keys for column: PRODUCTVENDOR_PRODUCTVENDOR_BusinessEntityID\n",
      "Replacing natural keys with surrogate keys for column: PRODUCTVENDOR_PRODUCTVENDOR_UnitMeasureCode\n",
      "Inserting data into table: ProductVendor with chunk size: 200\n"
     ]
    }
   ],
   "source": [
    "productvendors_dtypes = {\n",
    "    'PRODUCTVENDOR_PRODUCTVENDOR_ProductID': Integer,\n",
    "    'PRODUCTVENDOR_PRODUCTVENDOR_BusinessEntityID': Integer,\n",
    "    'PRODUCTVENDOR_PRODUCTVENDOR_AverageLeadTime': Integer,\n",
    "    'PRODUCTVENDOR_PRODUCTVENDOR_StandardPrice': MONEY,\n",
    "    'PRODUCTVENDOR_PRODUCTVENDOR_LastReceiptCost': MONEY,\n",
    "    'PRODUCTVENDOR_PRODUCTVENDOR_LastReceiptDate': DATE,\n",
    "    'PRODUCTVENDOR_PRODUCTVENDOR_MinOrderQty': Integer,\n",
    "    'PRODUCTVENDOR_PRODUCTVENDOR_MaxOrderQty': Integer,\n",
    "    'PRODUCTVENDOR_PRODUCTVENDOR_OnOrderQty': Integer,\n",
    "    'PRODUCTVENDOR_PRODUCTVENDOR_UnitMeasureCode': CHAR(3)\n",
    "}\n",
    "\n",
    "prepare_and_insert(productvendors, productvendors_dtypes, 'ProductVendor', united_outdoors_engine, { 'PRODUCTVENDOR_PRODUCTVENDOR_ProductID' : {}, 'PRODUCTVENDOR_PRODUCTVENDOR_BusinessEntityID' : businessentities_nk_sk_dict, 'PRODUCTVENDOR_PRODUCTVENDOR_UnitMeasureCode' : {}})"
   ]
  },
  {
   "cell_type": "code",
   "execution_count": 140,
   "id": "e5ae3170f80504c9",
   "metadata": {
    "ExecuteTime": {
     "end_time": "2024-05-20T13:33:59.568750Z",
     "start_time": "2024-05-20T13:33:59.512063Z"
    }
   },
   "outputs": [
    {
     "name": "stdout",
     "output_type": "stream",
     "text": [
      "Inserting data into table: CustomerDemographic with chunk size: 1000\n"
     ]
    }
   ],
   "source": [
    "customerdemographics_dtypes = {\n",
    "    'CUSTOMERDEMOGRAPHIC_CUSTOMERDEMOGRAPHICS_CustomerTypeID': NVARCHAR(10),\n",
    "    'CUSTOMERDEMOGRAPHIC_CUSTOMERDEMOGRAPHICS_CustomerDesc': String(100)\n",
    "}\n",
    "\n",
    "customerdemographics_nk_sk_dict = prepare_and_insert_return_sk(customerdemographics, customerdemographics_dtypes, 'CustomerDemographic',united_outdoors_engine, 'CUSTOMERDEMOGRAPHIC_CUSTOMERDEMOGRAPHICS_CustomerTypeID')"
   ]
  },
  {
   "cell_type": "code",
   "execution_count": 141,
   "id": "15e375de50649853",
   "metadata": {
    "ExecuteTime": {
     "end_time": "2024-05-20T13:33:59.629853Z",
     "start_time": "2024-05-20T13:33:59.571820Z"
    }
   },
   "outputs": [
    {
     "name": "stdout",
     "output_type": "stream",
     "text": [
      "Replacing natural keys with surrogate keys for column: CUSTOMERCUSTOMERDEMO_CUSTOMERCUSTOMERDEMO_CustomerTypeID\n",
      "Replacing natural keys with surrogate keys for column: CUSTOMERCUSTOMERDEMO_CUSTOMERCUSTOMERDEMO_CustomerID\n",
      "Inserting data into table: CustomerCustomerDemo with chunk size: 1000\n"
     ]
    }
   ],
   "source": [
    "customercustomerdemos_dtypes = {\n",
    "    'CUSTOMERCUSTOMERDEMO_CUSTOMERCUSTOMERDEMO_CustomerID': NVARCHAR(10),\n",
    "    'CUSTOMERCUSTOMERDEMO_CUSTOMERCUSTOMERDEMO_CustomerTypeID': NVARCHAR(10)\n",
    "}\n",
    "\n",
    "# TODO how to handle fk? the nk is nvarchar, not an integer\n",
    "\n",
    "prepare_and_insert(customercustomerdemos, customercustomerdemos_dtypes, 'CustomerCustomerDemo',united_outdoors_engine, { 'CUSTOMERCUSTOMERDEMO_CUSTOMERCUSTOMERDEMO_CustomerTypeID' : customerdemographics_nk_sk_dict, 'CUSTOMERCUSTOMERDEMO_CUSTOMERCUSTOMERDEMO_CustomerID' : {}})"
   ]
  },
  {
   "cell_type": "code",
   "execution_count": 142,
   "id": "7b4ce7229fd463a7",
   "metadata": {
    "ExecuteTime": {
     "end_time": "2024-05-20T13:34:03.366562Z",
     "start_time": "2024-05-20T13:33:59.630865Z"
    }
   },
   "outputs": [
    {
     "name": "stdout",
     "output_type": "stream",
     "text": [
      "Replacing natural keys with surrogate keys for column: SALESTERRITORYHISTORY_SALESTERRITORYHISTORY_BusinessEntityID\n",
      "Replacing natural keys with surrogate keys for column: SALESTERRITORYHISTORY_SALESTERRITORYHISTORY_TerritoryID\n",
      "Inserting data into table: SalesTerritoryHistory with chunk size: 500\n"
     ]
    }
   ],
   "source": [
    "salesterritoryhistories_dtypes = {\n",
    "    'SALESTERRITORYHISTORY_SALESTERRITORYHISTORY_BusinessEntityID': Integer,\n",
    "    'SALESTERRITORYHISTORY_SALESTERRITORYHISTORY_TerritoryID': Integer,\n",
    "    'SALESTERRITORYHISTORY_SALESTERRITORYHISTORY_StartDate': DATE,\n",
    "    'SALESTERRITORYHISTORY_SALESTERRITORYHISTORY_EndDate': DATE\n",
    "}\n",
    "\n",
    "prepare_and_insert(salesterritoryhistories, salesterritoryhistories_dtypes, 'SalesTerritoryHistory',united_outdoors_engine, { 'SALESTERRITORYHISTORY_SALESTERRITORYHISTORY_BusinessEntityID' : businessentities_nk_sk_dict, 'SALESTERRITORYHISTORY_SALESTERRITORYHISTORY_TerritoryID' : {}})"
   ]
  },
  {
   "cell_type": "code",
   "execution_count": 143,
   "id": "8312c10e1e90a229",
   "metadata": {
    "ExecuteTime": {
     "end_time": "2024-05-20T13:34:03.708002Z",
     "start_time": "2024-05-20T13:34:03.369692Z"
    }
   },
   "outputs": [
    {
     "name": "stdout",
     "output_type": "stream",
     "text": [
      "Replacing natural keys with surrogate keys for column: PRODUCTLISTPRICEHISTORY_PRODUCTLISTPRICEHISTORY_ProductID\n",
      "Inserting data into table: ProductListPriceHistory with chunk size: 500\n"
     ]
    }
   ],
   "source": [
    "productlistpricehistories_dtypes = {\n",
    "    'PRODUCTLISTPRICEHISTORY_PRODUCTLISTPRICEHISTORY_ProductID': Integer,\n",
    "    'PRODUCTLISTPRICEHISTORY_PRODUCTLISTPRICEHISTORY_StartDate': DATE,\n",
    "    'PRODUCTLISTPRICEHISTORY_PRODUCTLISTPRICEHISTORY_EndDate': DATE,\n",
    "    'PRODUCTLISTPRICEHISTORY_PRODUCTLISTPRICEHISTORY_ListPrice': MONEY\n",
    "}\n",
    "\n",
    "prepare_and_insert(productlistpricehistories, productlistpricehistories_dtypes, 'ProductListPriceHistory',united_outdoors_engine, { 'PRODUCTLISTPRICEHISTORY_PRODUCTLISTPRICEHISTORY_ProductID' : {}})"
   ]
  },
  {
   "cell_type": "code",
   "execution_count": 144,
   "id": "112a61f2d77d50f1",
   "metadata": {
    "ExecuteTime": {
     "end_time": "2024-05-20T13:34:04.025039Z",
     "start_time": "2024-05-20T13:34:03.710152Z"
    }
   },
   "outputs": [
    {
     "name": "stdout",
     "output_type": "stream",
     "text": [
      "Replacing natural keys with surrogate keys for column: PRODUCTCOSTHISTORY_PRODUCTCOSTHISTORY_ProductID\n",
      "Inserting data into table: ProductCostHistory with chunk size: 500\n"
     ]
    }
   ],
   "source": [
    "productcosthistories_dtypes = {\n",
    "    'PRODUCTCOSTHISTORY_PRODUCTCOSTHISTORY_ProductID': Integer,\n",
    "    'PRODUCTCOSTHISTORY_PRODUCTCOSTHISTORY_StartDate': DATE,\n",
    "    'PRODUCTCOSTHISTORY_PRODUCTCOSTHISTORY_EndDate': DATE,\n",
    "    'PRODUCTCOSTHISTORY_PRODUCTCOSTHISTORY_StandardCost': MONEY\n",
    "}\n",
    "\n",
    "prepare_and_insert(productcosthistories, productcosthistories_dtypes, 'ProductCostHistory', united_outdoors_engine, { 'PRODUCTCOSTHISTORY_PRODUCTCOSTHISTORY_ProductID' : {}})"
   ]
  },
  {
   "cell_type": "code",
   "execution_count": 145,
   "id": "e31d8f16f16b8aac",
   "metadata": {
    "ExecuteTime": {
     "end_time": "2024-05-20T13:34:04.074482Z",
     "start_time": "2024-05-20T13:34:04.027173Z"
    }
   },
   "outputs": [
    {
     "name": "stdout",
     "output_type": "stream",
     "text": [
      "Replacing natural keys with surrogate keys for column: SHOPPINGCARTITEM_SHOPPINGCARTITEM_ProductID\n",
      "Replacing natural keys with surrogate keys for column: SHOPPINGCARTITEM_SHOPPINGCARTITEM_ShoppingCartID\n",
      "Inserting data into table: ShoppingCartItem with chunk size: 400\n"
     ]
    }
   ],
   "source": [
    "shoppingcartitems_dtypes = {\n",
    "    'SHOPPINGCARTITEM_SHOPPINGCARTITEM_ShoppingCartItemID': Integer,\n",
    "    'SHOPPINGCARTITEM_SHOPPINGCARTITEM_ShoppingCartID': Integer,\n",
    "    'SHOPPINGCARTITEM_SHOPPINGCARTITEM_ProductID': Integer,\n",
    "    'SHOPPINGCARTITEM_SHOPPINGCARTITEM_Quantity': Integer,\n",
    "    'SHOPPINGCARTITEM_SHOPPINGCARTITEM_DateCreated': DATE\n",
    "}\n",
    "\n",
    "prepare_and_insert(shoppingcartitems, shoppingcartitems_dtypes, 'ShoppingCartItem', united_outdoors_engine, { 'SHOPPINGCARTITEM_SHOPPINGCARTITEM_ProductID' : {}, 'SHOPPINGCARTITEM_SHOPPINGCARTITEM_ShoppingCartID' : {}})"
   ]
  },
  {
   "cell_type": "code",
   "execution_count": 146,
   "id": "3e252d444fbcef28",
   "metadata": {
    "ExecuteTime": {
     "end_time": "2024-05-20T13:34:07.754144Z",
     "start_time": "2024-05-20T13:34:04.077497Z"
    }
   },
   "outputs": [
    {
     "name": "stdout",
     "output_type": "stream",
     "text": [
      "Replacing natural keys with surrogate keys for column: SALESPERSONQUOTAHISTORY_SALESPERSONQUOTAHISTORY_BusinessEntityID\n",
      "Inserting data into table: SalesPersonQuotaHistory with chunk size: 666\n"
     ]
    }
   ],
   "source": [
    "salespersonquotahistories_dtypes = {\n",
    "    'SALESPERSONQUOTAHISTORY_SALESPERSONQUOTAHISTORY_BusinessEntityID': Integer,\n",
    "    'SALESPERSONQUOTAHISTORY_SALESPERSONQUOTAHISTORY_QuotaDate': DATE,\n",
    "    'SALESPERSONQUOTAHISTORY_SALESPERSONQUOTAHISTORY_SalesQuota': MONEY\n",
    "}\n",
    "\n",
    "prepare_and_insert(salespersonquotahistories, salespersonquotahistories_dtypes, 'SalesPersonQuotaHistory', united_outdoors_engine, { 'SALESPERSONQUOTAHISTORY_SALESPERSONQUOTAHISTORY_BusinessEntityID' : businessentities_nk_sk_dict})"
   ]
  },
  {
   "cell_type": "markdown",
   "id": "5e8f7f3967596334",
   "metadata": {},
   "source": [
    "### Products"
   ]
  },
  {
   "cell_type": "code",
   "execution_count": null,
   "id": "c0eef49cbbcfdf85",
   "metadata": {},
   "outputs": [],
   "source": [
    "product_dtypes =  {\n",
    "    'PRODUCT_SK': Integer,\n",
    "    'PRODUCT_PRODUCT_ID': Integer,\n",
    "    'PRODUCT_PRODUCT_SizeUnitMeasureCode': VARCHAR(10),\n",
    "    'PRODUCT_PRODUCT_WeightUnitMeasureCode': VARCHAR(10),\n",
    "    'PRODUCT_PRODUCT_SubCategoryID': Integer,\n",
    "    'PRODUCT_PRODUCTSUBCATEGORY_CategoryID': Integer,\n",
    "    'PRODUCT_PRODUCT_ModelID': Integer,\n",
    "    'PRODUCT_PRODUCTMODELILLUSTRATION_IllustrationID': Integer,\n",
    "    'PRODUCT_PRODUCTPRODUCTPHOTO_PhotoID': Integer,\n",
    "    'PRODUCT_PMPDC_DescriptionID': Integer,\n",
    "    'PRODUCT_PMPDC_CultureID': Integer,\n",
    "    'PRODUCT_PRODUCT_Name': VARCHAR(150),\n",
    "    'PRODUCT_PRODUCT_Number': VARCHAR(25),\n",
    "    'PRODUCT_PRODUCT_MakeFlag': Integer,\n",
    "    'PRODUCT_PRODUCT_FinishedGoodsFlag': Integer,\n",
    "    'PRODUCT_PRODUCT_Color': VARCHAR(25),\n",
    "    'PRODUCT_PRODUCT_SafetyStockLevel': Integer,\n",
    "    'PRODUCT_PRODUCT_ReorderPoint': Integer,\n",
    "    'PRODUCT_PRODUCT_ReorderLevel': Integer,\n",
    "    'PRODUCT_PRODUCT_StandardCost': DECIMAL(8, 4),\n",
    "    'PRODUCT_PRODUCT_UnitPrice': DECIMAL(19, 4),\n",
    "    'PRODUCT_PRODUCT_ListPrice': DECIMAL(19, 4),\n",
    "    'PRODUCT_PRODUCT_Size': VARCHAR(50),\n",
    "    'PRODUCT_PRODUCT_SizeUnitMeasureName': VARCHAR(50),\n",
    "    'PRODUCT_PRODUCT_WeightUnitMeasureName': VARCHAR(50),\n",
    "    'PRODUCT_Color': VARCHAR(50),\n",
    "    'PRODUCT_PRODUCT_Weight': DECIMAL(8, 2),\n",
    "    'PRODUCT_PRODUCT_DaysToManufacture': Integer,\n",
    "    'PRODUCT_PRODUCT_ProductLine': VARCHAR(10),\n",
    "    'PRODUCT_PRODUCT_Class': VARCHAR(10),\n",
    "    'PRODUCT_PRODUCT_Style': VARCHAR(10),\n",
    "    'PRODUCT_PRODUCTSUBCATEGORY_SubCategory': VARCHAR(50),\n",
    "    'PRODUCT_PRODUCTCATEGORY_Category': VARCHAR(50),\n",
    "    'PRODUCT_CATEGORY_Picture': LargeBinary,\n",
    "    'PRODUCT_PRODUCTMODEL_Name': VARCHAR(100),\n",
    "    'PRODUCT_PRODUCTMODEL_CatalogDescription': XML,\n",
    "    'PRODUCT_PRODUCTMODEL_Instructions': XML,\n",
    "    'PRODUCT_ILLUSTRATION_Diagram': XML,\n",
    "    'PRODUCT_CULTURE_Name': VARCHAR(50),\n",
    "    'PRODUCT_PRODUCTDESCRIPTION_Desc': NVARCHAR,\n",
    "    'PRODUCT_PRODUCTPRODUCTPHOTO_Primary': Integer,\n",
    "    'PRODUCT_PRODUCTPHOTO_ThumbnailPhoto': LargeBinary,\n",
    "    'PRODUCT_PRODUCTPHOTO_ThumbnailPhotoHexString': NVARCHAR,\n",
    "    'PRODUCT_PRODUCTPHOTO_ThumbnailPhotoFileName': VARCHAR(50),\n",
    "    'PRODUCT_PRODUCTPHOTO_LargePhoto': LargeBinary,\n",
    "    'PRODUCT_PRODUCTPHOTO_LargePhotoHexString': NVARCHAR,\n",
    "    'PRODUCT_PRODUCTPHOTO_LargePhotoFileName': VARCHAR(50),\n",
    "    'PRODUCT_PRODUCT_SellStartDate': DATE,\n",
    "    'PRODUCT_DATE_SellStartDateFK': Integer,\n",
    "    'PRODUCT_PRODUCT_SellEndDate': DATE,\n",
    "    'PRODUCT_DATE_SellEndDateFK': Integer,\n",
    "    'PRODUCT_PRODUCT_DiscountedDate': DATE,\n",
    "    'PRODUCT_DATE_DiscountedDateFK': Integer,\n",
    "    'PRODUCT_PRODUCT_Discontinued': Integer,\n",
    "    'PRODUCT_DATE_DateTimeAdded': Integer\n",
    "}\n",
    "\n",
    "<<<<<<< local\n",
    "prepare_and_insert(products, products_dtypes, 'Product', united_outdoors_engine)\n",
    "=======\n",
    "prepare_and_insert(product_combined, product_dtypes, 'Product', united_outdoors_engine)\n",
    ">>>>>>> remote"
   ]
  },
  {
   "cell_type": "markdown",
   "id": "4c20670d",
   "metadata": {},
   "source": [
    "### JobCandidate"
   ]
  },
  {
   "cell_type": "code",
   "execution_count": null,
   "id": "e8e667b4",
   "metadata": {},
   "outputs": [],
   "source": [
    "jobcandidates_dtypes = {\n",
    "    'JOBCANDIDATE_JOBCANDIDATE_JobCandidateID': Integer,\n",
    "    'JOBCANDIDATE_JOBCANDIDATE_BusinessEntityID': Integer,\n",
    "    'JOBCANDIDATE_JOBCANDIDATE_Resume': XML\n",
    "}\n",
    "\n",
    "prepare_and_insert(jobcandidates, jobcandidates_dtypes, 'JobCandidate',united_outdoors_engine, { 'JOBCANDIDATE_JOBCANDIDATE_BusinessEntityID' : businessentities_nk_sk_dict})"
   ]
  },
  {
   "cell_type": "markdown",
   "id": "7d340d78",
   "metadata": {},
   "source": [
    "### EmployeeDepartmentHistory"
   ]
  },
  {
   "cell_type": "code",
   "execution_count": null,
   "id": "da96eb92",
   "metadata": {},
   "outputs": [],
   "source": [
    "employeedepartmenthistories_dtypes = {\n",
    "    'EMPLOYEEDEPARTMENTHISTORY_EMPLOYEEDEPARTMENTHISTORY_BusinessEntityID': Integer,\n",
    "    'EMPLOYEEDEPARTMENTHISTORY_EMPLOYEEDEPARTMENTHISTORY_DepartmentID': Integer,\n",
    "    'EMPLOYEEDEPARTMENTHISTORY_EMPLOYEEDEPARTMENTHISTORY_ShiftID': Integer,\n",
    "    'EMPLOYEEDEPARTMENTHISTORY_EMPLOYEEDEPARTMENTHISTORY_StartDate': DATE,\n",
    "    'EMPLOYEEDEPARTMENTHISTORY_EMPLOYEEDEPARTMENTHISTORY_EndDate': DATE\n",
    "}\n",
    "\n",
    "prepare_and_insert(employeedepartmenthistories, employeedepartmenthistories_dtypes, 'EmployeeDepartmentHistory',united_outdoors_engine, { 'EMPLOYEEDEPARTMENTHISTORY_EMPLOYEEDEPARTMENTHISTORY_BusinessEntityID' : businessentities_nk_sk_dict, 'EMPLOYEEDEPARTMENTHISTORY_EMPLOYEEDEPARTMENTHISTORY_DepartmentID' : departments_nk_sk_dict, 'EMPLOYEEDEPARTMENTHISTORY_EMPLOYEEDEPARTMENTHISTORY_ShiftID' : {}})"
   ]
  },
  {
   "cell_type": "markdown",
   "id": "65e4fcbe",
   "metadata": {},
   "source": [
    "### EmployeePayHistory"
   ]
  },
  {
   "cell_type": "code",
   "execution_count": null,
   "id": "0bc8c854",
   "metadata": {},
   "outputs": [],
   "source": [
    "employeepayhistories_dtypes = {\n",
    "    'EMPLOYEEPAYHISTORY_EMPLOYEEPAYHISTORY_BusinessEntityID': Integer,\n",
    "    'EMPLOYEEPAYHISTORY_EMPLOYEEPAYHISTORY_RateChangeDate': DATE,\n",
    "    'EMPLOYEEPAYHISTORY_EMPLOYEEPAYHISTORY_Rate': MONEY,\n",
    "    'EMPLOYEEPAYHISTORY_EMPLOYEEPAYHISTORY_PayFrequency': Integer\n",
    "}\n",
    "\n",
    "prepare_and_insert(employeepayhistories, employeepayhistories_dtypes, 'EmployeePayHistory',united_outdoors_engine, { 'EMPLOYEEPAYHISTORY_EMPLOYEEPAYHISTORY_BusinessEntityID' : businessentities_nk_sk_dict})"
   ]
  },
  {
   "cell_type": "markdown",
   "id": "0279189b",
   "metadata": {},
   "source": [
    "### Shift"
   ]
  },
  {
   "cell_type": "code",
   "execution_count": null,
   "id": "c1bebf3c",
   "metadata": {},
   "outputs": [],
   "source": [
    "shifts_dtypes = {\n",
    "    'SHIFT_SHIFT_ShiftID': Integer,\n",
    "    'SHIFT_SHIFT_Name': String(100),\n",
    "    'SHIFT_SHIFT_StartTime': TIME,\n",
    "    'SHIFT_SHIFT_EndTime': TIME\n",
    "}\n",
    "\n",
    "prepare_and_insert(shifts, shifts_dtypes, 'Shift',united_outdoors_engine)"
   ]
  },
  {
   "cell_type": "markdown",
   "id": "443ce778",
   "metadata": {},
   "source": [
    "### SalesPerson"
   ]
  },
  {
   "cell_type": "code",
   "execution_count": null,
   "id": "bfdc9472",
   "metadata": {},
   "outputs": [],
   "source": [
    "salespeople_dtypes = {\n",
    "    'SALESPERSON_SALESPERSON_BusinessEntityID': Integer,\n",
    "    'SALESPERSON_SALESPERSON_TerritoryID': Integer,\n",
    "    'SALESPERSON_SALESPERSON_SalesQuota': MONEY,\n",
    "    'SALESPERSON_SALESPERSON_Bonus': MONEY,\n",
    "    'SALESPERSON_SALESPERSON_CommissionPct': DECIMAL(8,4),\n",
    "    'SALESPERSON_SALESPERSON_SalesYTD': MONEY,\n",
    "    'SALESPERSON_SALESPERSON_SalesLastYear': MONEY\n",
    "}\n",
    "\n",
    "prepare_and_insert(salespeople, salespeople_dtypes, 'SalesPerson',united_outdoors_engine, { 'SALESPERSON_SALESPERSON_BusinessEntityID' : businessentities_nk_sk_dict, 'SALESPERSON_SALESPERSON_TerritoryID' : {}})"
   ]
  },
  {
   "cell_type": "markdown",
   "id": "45530695",
   "metadata": {},
   "source": [
    "### ProductVendor"
   ]
  },
  {
   "cell_type": "code",
   "execution_count": null,
   "id": "90066728",
   "metadata": {},
   "outputs": [],
   "source": [
    "productvendors_dtypes = {\n",
    "    'PRODUCTVENDOR_PRODUCTVENDOR_ProductID': Integer,\n",
    "    'PRODUCTVENDOR_PRODUCTVENDOR_BusinessEntityID': Integer,\n",
    "    'PRODUCTVENDOR_PRODUCTVENDOR_AverageLeadTime': Integer,\n",
    "    'PRODUCTVENDOR_PRODUCTVENDOR_StandardPrice': MONEY,\n",
    "    'PRODUCTVENDOR_PRODUCTVENDOR_LastReceiptCost': MONEY,\n",
    "    'PRODUCTVENDOR_PRODUCTVENDOR_LastReceiptDate': DATE,\n",
    "    'PRODUCTVENDOR_PRODUCTVENDOR_MinOrderQty': Integer,\n",
    "    'PRODUCTVENDOR_PRODUCTVENDOR_MaxOrderQty': Integer,\n",
    "    'PRODUCTVENDOR_PRODUCTVENDOR_OnOrderQty': Integer,\n",
    "    'PRODUCTVENDOR_PRODUCTVENDOR_UnitMeasureCode': CHAR(3)\n",
    "}\n",
    "\n",
    "prepare_and_insert(productvendors, productvendors_dtypes, 'ProductVendor', united_outdoors_engine, { 'PRODUCTVENDOR_PRODUCTVENDOR_ProductID' : {}, 'PRODUCTVENDOR_PRODUCTVENDOR_BusinessEntityID' : businessentities_nk_sk_dict, 'PRODUCTVENDOR_PRODUCTVENDOR_UnitMeasureCode' : {}})"
   ]
  },
  {
   "cell_type": "markdown",
   "id": "ca03dbf2",
   "metadata": {},
   "source": [
    "### CustomerDemographics"
   ]
  },
  {
   "cell_type": "code",
   "execution_count": null,
   "id": "338d3d47",
   "metadata": {},
   "outputs": [],
   "source": [
    "customerdemographics_dtypes = {\n",
    "    'CUSTOMERDEMOGRAPHIC_CUSTOMERDEMOGRAPHICS_CustomerTypeID': NVARCHAR(10),\n",
    "    'CUSTOMERDEMOGRAPHIC_CUSTOMERDEMOGRAPHICS_CustomerDesc': String(100)\n",
    "}\n",
    "\n",
    "customerdemographics_nk_sk_dict = prepare_and_insert_return_sk(customerdemographics, customerdemographics_dtypes, 'CustomerDemographic',united_outdoors_engine, 'CUSTOMERDEMOGRAPHIC_CUSTOMERDEMOGRAPHICS_CustomerTypeID')"
   ]
  },
  {
   "cell_type": "markdown",
   "id": "e69a059a",
   "metadata": {},
   "source": [
    "### CustomerCustomerDemo"
   ]
  },
  {
   "cell_type": "code",
   "execution_count": null,
   "id": "e5e0f142",
   "metadata": {},
   "outputs": [],
   "source": [
    "customercustomerdemos_dtypes = {\n",
    "    'CUSTOMERCUSTOMERDEMO_CUSTOMERCUSTOMERDEMO_CustomerID': NVARCHAR(10),\n",
    "    'CUSTOMERCUSTOMERDEMO_CUSTOMERCUSTOMERDEMO_CustomerTypeID': NVARCHAR(10)\n",
    "}\n",
    "\n",
    "# TODO how to handle fk? the nk is nvarchar, not an integer\n",
    "\n",
    "prepare_and_insert(customercustomerdemos, customercustomerdemos_dtypes, 'CustomerCustomerDemo',united_outdoors_engine, { 'CUSTOMERCUSTOMERDEMO_CUSTOMERCUSTOMERDEMO_CustomerTypeID' : customerdemographics_nk_sk_dict, 'CUSTOMERCUSTOMERDEMO_CUSTOMERCUSTOMERDEMO_CustomerID' : {}})"
   ]
  },
  {
   "cell_type": "markdown",
   "id": "6127c49c",
   "metadata": {},
   "source": [
    "### SalesTerritoryHistory"
   ]
  },
  {
   "cell_type": "code",
   "execution_count": null,
   "id": "3825b963",
   "metadata": {},
   "outputs": [],
   "source": [
    "salesterritoryhistories_dtypes = {\n",
    "    'SALESTERRITORYHISTORY_SALESTERRITORYHISTORY_BusinessEntityID': Integer,\n",
    "    'SALESTERRITORYHISTORY_SALESTERRITORYHISTORY_TerritoryID': Integer,\n",
    "    'SALESTERRITORYHISTORY_SALESTERRITORYHISTORY_StartDate': DATE,\n",
    "    'SALESTERRITORYHISTORY_SALESTERRITORYHISTORY_EndDate': DATE\n",
    "}\n",
    "\n",
    "prepare_and_insert(salesterritoryhistories, salesterritoryhistories_dtypes, 'SalesTerritoryHistory',united_outdoors_engine, { 'SALESTERRITORYHISTORY_SALESTERRITORYHISTORY_BusinessEntityID' : businessentities_nk_sk_dict, 'SALESTERRITORYHISTORY_SALESTERRITORYHISTORY_TerritoryID' : {}})"
   ]
  },
  {
   "cell_type": "markdown",
   "id": "99ee64b3",
   "metadata": {},
   "source": [
    "### ProductListPriceHistory"
   ]
  },
  {
   "cell_type": "code",
   "execution_count": null,
   "id": "d504b2e6",
   "metadata": {},
   "outputs": [],
   "source": [
    "productlistpricehistories_dtypes = {\n",
    "    'PRODUCTLISTPRICEHISTORY_PRODUCTLISTPRICEHISTORY_ProductID': Integer,\n",
    "    'PRODUCTLISTPRICEHISTORY_PRODUCTLISTPRICEHISTORY_StartDate': DATE,\n",
    "    'PRODUCTLISTPRICEHISTORY_PRODUCTLISTPRICEHISTORY_EndDate': DATE,\n",
    "    'PRODUCTLISTPRICEHISTORY_PRODUCTLISTPRICEHISTORY_ListPrice': MONEY\n",
    "}\n",
    "\n",
    "prepare_and_insert(productlistpricehistories, productlistpricehistories_dtypes, 'ProductListPriceHistory',united_outdoors_engine, { 'PRODUCTLISTPRICEHISTORY_PRODUCTLISTPRICEHISTORY_ProductID' : {}})"
   ]
  },
  {
   "cell_type": "markdown",
   "id": "e32fb0f9",
   "metadata": {},
   "source": [
    "### ProductCostHistory"
   ]
  },
  {
   "cell_type": "code",
   "execution_count": null,
   "id": "ca35400832df30f0",
   "metadata": {},
   "outputs": [],
   "source": [
    "productcosthistories_dtypes = {\n",
    "    'PRODUCTCOSTHISTORY_PRODUCTCOSTHISTORY_ProductID': Integer,\n",
    "    'PRODUCTCOSTHISTORY_PRODUCTCOSTHISTORY_StartDate': DATE,\n",
    "    'PRODUCTCOSTHISTORY_PRODUCTCOSTHISTORY_EndDate': DATE,\n",
    "    'PRODUCTCOSTHISTORY_PRODUCTCOSTHISTORY_StandardCost': MONEY\n",
    "}\n",
    "\n",
    "prepare_and_insert(productcosthistories, productcosthistories_dtypes, 'ProductCostHistory', united_outdoors_engine, { 'PRODUCTCOSTHISTORY_PRODUCTCOSTHISTORY_ProductID' : {}})"
   ]
  },
  {
   "cell_type": "markdown",
   "id": "718d1732",
   "metadata": {},
   "source": [
    "### ShoppingCartItem"
   ]
  },
  {
   "cell_type": "code",
   "execution_count": null,
   "id": "58a37f9f",
   "metadata": {},
   "outputs": [],
   "source": [
    "shoppingcartitems_dtypes = {\n",
    "    'SHOPPINGCARTITEM_SHOPPINGCARTITEM_ShoppingCartItemID': Integer,\n",
    "    'SHOPPINGCARTITEM_SHOPPINGCARTITEM_ShoppingCartID': Integer,\n",
    "    'SHOPPINGCARTITEM_SHOPPINGCARTITEM_ProductID': Integer,\n",
    "    'SHOPPINGCARTITEM_SHOPPINGCARTITEM_Quantity': Integer,\n",
    "    'SHOPPINGCARTITEM_SHOPPINGCARTITEM_DateCreated': DATE\n",
    "}\n",
    "\n",
    "prepare_and_insert(shoppingcartitems, shoppingcartitems_dtypes, 'ShoppingCartItem', united_outdoors_engine, { 'SHOPPINGCARTITEM_SHOPPINGCARTITEM_ProductID' : {}, 'SHOPPINGCARTITEM_SHOPPINGCARTITEM_ShoppingCartID' : {}})"
   ]
  },
  {
   "cell_type": "markdown",
   "id": "67057da8",
   "metadata": {},
   "source": [
    "### SalesPersonQuotaHistory"
   ]
  },
  {
   "cell_type": "code",
   "execution_count": null,
   "id": "8bf48107",
   "metadata": {},
   "outputs": [],
   "source": [
    "salespersonquotahistories_dtypes = {\n",
    "    'SALESPERSONQUOTAHISTORY_SALESPERSONQUOTAHISTORY_BusinessEntityID': Integer,\n",
    "    'SALESPERSONQUOTAHISTORY_SALESPERSONQUOTAHISTORY_QuotaDate': DATE,\n",
    "    'SALESPERSONQUOTAHISTORY_SALESPERSONQUOTAHISTORY_SalesQuota': MONEY\n",
    "}\n",
    "\n",
    "prepare_and_insert(salespersonquotahistories, salespersonquotahistories_dtypes, 'SalesPersonQuotaHistory', united_outdoors_engine, { 'SALESPERSONQUOTAHISTORY_SALESPERSONQUOTAHISTORY_BusinessEntityID' : businessentities_nk_sk_dict})"
   ]
  },
  {
   "cell_type": "code",
   "execution_count": 148,
   "id": "6c4dad1df2d6521a",
   "metadata": {
    "ExecuteTime": {
     "end_time": "2024-05-20T13:35:38.001400Z",
     "start_time": "2024-05-20T13:35:37.687711Z"
    },
    "nbdime-conflicts": {
     "local_diff": [
      {
       "diff": [
        {
         "diff": [
          {
           "key": 0,
           "op": "addrange",
           "valuelist": [
            "2024-05-16T15:02:10.850389Z"
           ]
          },
          {
           "key": 0,
           "length": 1,
           "op": "removerange"
          }
         ],
         "key": "end_time",
         "op": "patch"
        },
        {
         "diff": [
          {
           "key": 0,
           "op": "addrange",
           "valuelist": [
            "2024-05-16T15:02:10.704496Z"
           ]
          },
          {
           "key": 0,
           "length": 1,
           "op": "removerange"
          }
         ],
         "key": "start_time",
         "op": "patch"
        }
       ],
       "key": "ExecuteTime",
       "op": "patch"
      }
     ],
     "remote_diff": [
      {
       "key": "ExecuteTime",
       "op": "remove"
      }
     ]
    }
   },
   "outputs": [
    {
     "name": "stdout",
     "output_type": "stream",
     "text": [
      "Inserting data into table: Region with chunk size: 200\n"
     ]
    }
   ],
   "source": [
    "regions_dtypes = {\n",
    "    'RegionID': Integer,\n",
    "    'RegionName': VARCHAR(10),\n",
    "    'StateProvinceID': Integer,\n",
    "    'StateProvinceCode': VARCHAR(10),\n",
    "    'CountryRegionCode': CHAR(2),\n",
    "    'IsOnlyStateProvinceFlag': BIT,\n",
    "    'Name': VARCHAR(50),\n",
    "    'TerritoryID': Integer,\n",
    "    'ModifiedDate': DATE\n",
    "}\n",
    "\n",
    "regions['StateProvinceCode'] = regions['StateProvinceCode'].astype(str)\n",
    "\n",
    "prepare_and_insert(regions, regions_dtypes, 'Region', united_outdoors_engine)"
   ]
  },
  {
   "cell_type": "markdown",
   "id": "d55f2fc2fe81836b",
   "metadata": {},
   "source": [
    "### Customers"
   ]
  },
  {
   "cell_type": "code",
   "execution_count": null,
   "id": "2aab05af613b62fb",
   "metadata": {},
   "outputs": [],
   "source": [
    "customers_dtypes = {\n",
    "    'CUSTOMER_CUSTOMERS_ID': Integer,\n",
    "    'CUSTOMER_CUSTOMER_PersonID': Integer,\n",
    "    'CUSTOMER_CUSTOMER_StoreID': Integer,\n",
    "    'CUSTOMER_CUSTOMER_TerritoryID': Integer,\n",
    "    'CUSTOMER_CUSTOMER_AccountNumber': CHAR(10),\n",
    "    'CUSTOMER_CUSTOMERS_CompanyName': NVARCHAR(100),\n",
    "    'CUSTOMER_CUSTOMERS_ContactName': NVARCHAR(255),\n",
    "    'CUSTOMER_CUSTOMERS_ContactTitle': NVARCHAR(100),\n",
    "    'CUSTOMER_CUSTOMERS_Address': NVARCHAR(255),\n",
    "    'CUSTOMER_CUSTOMERS_City': NVARCHAR(100),\n",
    "    'CUSTOMER_CUSTOMERS_Region': NVARCHAR(50),\n",
    "    'CUSTOMER_CUSTOMERS_PostalCode': NVARCHAR(20),\n",
    "    'CUSTOMER_CUSTOMERS_Country': NVARCHAR(150),\n",
    "    'CUSTOMER_CUSTOMERS_Phone': NVARCHAR(24),\n",
    "    'CUSTOMER_CUSTOMERS_Fax': NVARCHAR(24),\n",
    "    'CUSTOMER_CUSTOMER_Fname': NVARCHAR(255),\n",
    "    'CUSTOMER_CUSTOMER_Lname': NVARCHAR(255),\n",
    "    'CUSTOMER_CUSTOMER_State': CHAR(2)\n",
    "}\n",
    "\n",
    "customers_nk_sk_dict = prepare_and_insert_return_sk(customers, customers_dtypes, 'Customer', united_outdoors_engine, 'CUSTOMER_CUSTOMERS_ID', {'CUSTOMER_CUSTOMER_PersonID': {}, 'CUSTOMER_CUSTOMER_StoreID': {}, 'CUSTOMER_CUSTOMER_TerritoryID': {}})"
   ]
  },
  {
   "cell_type": "markdown",
   "id": "bad90ca1",
   "metadata": {},
   "source": [
    "### SpecialOffer"
   ]
  },
  {
   "cell_type": "code",
   "execution_count": null,
   "id": "6865ade2c0487324",
   "metadata": {},
   "outputs": [],
   "source": [
    "specialoffers_dtypes = {\n",
    "    'SPECIALOFFER_SPECIALOFFER_ID': Integer,\n",
    "    'SPECIALOFFER_SPECIALOFFER_Description': String,\n",
    "    'SPECIALOFFER_SPECIALOFFER_DiscountPCT': Integer,\n",
    "    'SPECIALOFFER_SPECIALOFFER_Type': NVARCHAR(100),\n",
    "    'SPECIALOFFER_SPECIALOFFER_Category': NVARCHAR(100),\n",
    "    'SPECIALOFFER_SPECIALOFFER_StartDate': DATE,\n",
    "    'SPECIALOFFER_SPECIALOFFER_EndDate': DATE,\n",
    "    'SPECIALOFFER_SPECIALOFFER_MinQty': Integer,\n",
    "    'SPECIALOFFER_SPECIALOFFER_MaxQty': Integer,\n",
    "    'SPECIALOFFER_SPECIALOFFERPRODUCT_ProductID': Integer\n",
    "}\n",
    "\n",
    "specialoffer_nk_sk_dict = prepare_and_insert_return_sk(specialoffers, specialoffers_dtypes, 'SpecialOffer', united_outdoors_engine, 'SPECIALOFFER_SPECIALOFFER_ID')"
   ]
  },
  {
   "cell_type": "markdown",
   "id": "1f20003e87b1e84f",
   "metadata": {},
   "source": [
    "### TransactionHistory"
   ]
  },
  {
   "cell_type": "code",
   "execution_count": null,
   "id": "fdc74b5fd26f6dd5",
   "metadata": {},
   "outputs": [],
   "source": [
    "transactionhistories_dtypes = {\n",
    "    'TRANSACTIONHISTORY_TRANSACTIONHISTORY_TransactionID': Integer,\n",
    "    'TRANSACTIONHISTORY_TRANSACTIONHISTORY_ProductID': Integer,\n",
    "    'TRANSACTIONHISTORY_TRANSACTIONHISTORY_ReferenceOrderID': Integer,\n",
    "    'TRANSACTIONHISTORY_TRANSACTIONHISTORY_ReferenceOrderLineID': Integer,\n",
    "    'TRANSACTIONHISTORY_TRANSACTIONHISTORY_TransactionDate': DATE,\n",
    "    'TRANSACTIONHISTORY_TRANSACTIONHISTORY_TransactionType': CHAR(1),\n",
    "    'TRANSACTIONHISTORY_TRANSACTIONHISTORY_Quantity': Integer,\n",
    "    'TRANSACTIONHISTORY_TRANSACTIONHISTORY_ActualCost': MONEY,\n",
    "}\n",
    "\n",
    "prepare_and_insert(transactionhistories, transactionhistories_dtypes, 'TransactionHistory', united_outdoors_engine, { 'TRANSACTIONHISTORY_TRANSACTIONHISTORY_ProductID' : {}})"
   ]
  },
  {
   "cell_type": "markdown",
   "id": "58758324",
   "metadata": {},
   "source": [
    "### CreditCard"
   ]
  },
  {
   "cell_type": "code",
   "execution_count": null,
   "id": "ff5621af",
   "metadata": {},
   "outputs": [],
   "source": [
    "creditcards_dtypes = {\n",
    "    'CREDITCARD_CREDITCARD_ID': Integer,\n",
    "    'CREDITCARD_CREDITCARD_CardType': NVARCHAR(100),\n",
    "    'CREDITCARD_CREDITCARD_CardNumber': BigInteger,\n",
    "    'CREDITCARD_CREDITCARD_ExpMonth': Integer,\n",
    "    'CREDITCARD_CREDITCARD_ExpYear': Integer,\n",
    "    'CREDITCARD_PERSONCREDITCARD_BusinessEntityID': Integer\n",
    "}\n",
    "\n",
    "creditcards_nk_sk_dict = prepare_and_insert_return_sk(creditcards, creditcards_dtypes, 'CreditCard', united_outdoors_engine, 'CREDITCARD_CREDITCARD_ID')"
   ]
  },
  {
   "cell_type": "markdown",
   "id": "406e7a99",
   "metadata": {},
   "source": [
    "### Supplier"
   ]
  },
  {
   "cell_type": "code",
   "execution_count": null,
   "id": "a92c1a76",
   "metadata": {},
   "outputs": [],
   "source": [
    "suppliers_dtypes = {\n",
    "    'SUPPLIER_SUPPLIERS_SupplierID': Integer,\n",
    "    'SUPPLIER_SUPPLIERS_CompanyName': NVARCHAR(100),\n",
    "    'SUPPLIER_SUPPLIERS_ContactName': NVARCHAR(255),\n",
    "    'SUPPLIER_SUPPLIERS_ContactTitle': NVARCHAR(100),\n",
    "    'SUPPLIER_SUPPLIERS_Address': NVARCHAR(150),\n",
    "    'SUPPLIER_SUPPLIERS_City': NVARCHAR(50),\n",
    "    'SUPPLIER_SUPPLIERS_Region': NVARCHAR(50),\n",
    "    'SUPPLIER_SUPPLIERS_PostalCode': NVARCHAR(20),\n",
    "    'SUPPLIER_SUPPLIERS_Country': NVARCHAR(100),\n",
    "    'SUPPLIER_SUPPLIERS_Phone': VARCHAR(20),\n",
    "    'SUPPLIER_SUPPLIERS_Fax': NVARCHAR(30),\n",
    "    'SUPPLIER_SUPPLIERS_HomePage': NVARCHAR(255)\n",
    "}\n",
    "\n",
    "prepare_and_insert(suppliers, suppliers_dtypes, 'Supplier', united_outdoors_engine)"
   ]
  },
  {
   "cell_type": "markdown",
   "id": "e1c42fd3",
   "metadata": {},
   "source": [
    "### Currency"
   ]
  },
  {
   "cell_type": "code",
   "execution_count": null,
   "id": "09143d9e",
   "metadata": {},
   "outputs": [],
   "source": [
    "currencies_dtypes = {\n",
    "    'CURRENCY_CURRENCY_CurrencyCode': NVARCHAR(10),\n",
    "    'CURRENCY_CURRENCY_Name': NVARCHAR(100),\n",
    "    'CURRENCY_COUNTRYREGIONCURRENCY_CountryRegionCode': NVARCHAR(10),\n",
    "    'CURRENCY_CURRENCYRATE_CurrencyRateID': Integer,\n",
    "    'CURRENCY_CURRENCYRATE_CurrencyRateDate': DATE,\n",
    "    'CURRENCY_CURRENCYRATE_FromCurrencyCode': NVARCHAR(10),\n",
    "    'CURRENCY_CURRENCYRATE_ToCurrencyCode': NVARCHAR(10),\n",
    "    'CURRENCY_CURRENCYRATE_AverageRate': Integer,\n",
    "    'CURRENCY_CURRENCYRATE_EndOfDayRate': Integer\n",
    "}\n",
    "\n",
    "prepare_and_insert(currencies, currencies_dtypes, 'Currency', united_outdoors_engine, {'CURRENCY_CURRENCYRATE_CurrencyRateID': {}, 'CURRENCY_CURRENCYRATE_FromCurrencyCode': {}, 'CURRENCY_CURRENCYRATE_ToCurrencyCode': {}})"
   ]
  },
  {
   "cell_type": "markdown",
   "id": "af4efad9",
   "metadata": {},
   "source": [
    "### Territory"
   ]
  },
  {
   "cell_type": "code",
   "execution_count": null,
   "id": "3617f479",
   "metadata": {},
   "outputs": [],
   "source": [
    "territories_dtypes = {\n",
    "    'TERRITORY_REGION_RegionID': Integer,\n",
    "    'TERRITORY_REGION_RegionDescription': String,\n",
    "    'TERRITORY_TERRITORIES_TerritoryID': Integer,\n",
    "    'TERRITORY_TERRITORIES_TerritoryDescription': String,\n",
    "    'TERRITORY_REGION_Region': NVARCHAR(50),\n",
    "    'TERRITORY_STATE_StateID': NVARCHAR(10),\n",
    "    'TERRITORY_STATE_StateName': NVARCHAR(100),\n",
    "    'TERRITORY_STATE_StateCapital': NVARCHAR(50),\n",
    "    'TERRITORY_STATE_Country': NVARCHAR(50),\n",
    "    'TERRITORY_COUNTRYREGION_CountryRegionCode': NVARCHAR(10),\n",
    "    'TERRITORY_COUNTRYREGION_Name': NVARCHAR(100),\n",
    "    'TERRITORY_STATEPROVINCE_StateProvinceID': Integer,\n",
    "    'TERRITORY_STATEPROVINCE_StateProvinceCode': NVARCHAR(10),\n",
    "    'TERRITORY_STATEPROVINCE_IsOnlyStateProvinceFlag': CHAR(1),\n",
    "    'TERRITORY_STATEPROVINCE_Name': NVARCHAR(100),\n",
    "    'TERRITORY_SALESTAXRATE_SalesTaxRateID': Integer,\n",
    "    'TERRITORY_SALESTAXRATE_TaxType': NVARCHAR(50),\n",
    "    'TERRITORY_SALESTAXRATE_TaxRate': DECIMAL(8,2),\n",
    "    'TERRITORY_SALESTAXRATE_Name': NVARCHAR(150)\n",
    "}\n",
    "\n",
    "prepare_and_insert(territories, territories_dtypes, 'Territory', united_outdoors_engine, {'TERRITORY_TERRITORIES_TerritoryID': {}, 'TERRITORY_STATE_StateID': {}, 'TERRITORY_COUNTRYREGION_CountryRegionCode': {}, 'TERRITORY_STATEPROVINCE_StateProvinceID': {}, 'TERRITORY_SALESTAXRATE_SalesTaxRateID': {}})"
   ]
  },
  {
   "cell_type": "markdown",
   "id": "2b1a1e84",
   "metadata": {},
   "source": [
    "### OrderHeader"
   ]
  },
  {
   "cell_type": "code",
   "execution_count": null,
   "id": "87b5dc8af4127ea7",
   "metadata": {},
   "outputs": [],
   "source": [
    "orderheaders_dtypes = {\n",
    "    'ORDERHEADER_SALESORDERDETAIL_SalesOrderID': Integer,\n",
    "    'ORDERHEADER_SALESORDERDETAIL_SalesOrderDetailID': Integer,\n",
    "    'ORDERHEADER_SALESORDERDETAIL_CarrierTrackingNumber': NVARCHAR(25),\n",
    "    'ORDERHEADER_SALESORDERDETAIL_OrderQty': Integer,\n",
    "    'ORDERHEADER_SALESORDERDETAIL_ProductID': Integer,\n",
    "    'ORDERHEADER_SALESORDERDETAIL_SpecialOfferID': Integer,\n",
    "    'ORDERHEADER_SALESORDERDETAIL_UnitPrice': DECIMAL(8,2),\n",
    "    'ORDERHEADER_SALESORDERDETAIL_UnitPriceDiscount': DECIMAL(8,2),\n",
    "    'ORDERHEADER_SALESORDERDETAIL_LineTotal': NVARCHAR,\n",
    "    'ORDERHEADER_SALESORDERHEADER_RevisionNumber': Integer,\n",
    "    'ORDERHEADER_SALESORDERHEADER_OrderDate': DATE,\n",
    "    'ORDERHEADER_SALESORDERHEADER_DueDate': DATE,\n",
    "    'ORDERHEADER_SALESORDERHEADER_ShipDate': DATE,\n",
    "    'ORDERHEADER_SALESORDERHEADER_Status': CHAR(1),\n",
    "    'ORDERHEADER_SALESORDERHEADER_OnlineOrderFlag': BIT,\n",
    "    'ORDERHEADER_SALESORDERHEADER_SalesOrderNumber': VARCHAR(100),\n",
    "    'ORDERHEADER_SALESORDERHEADER_PurchaseOrderNumber': VARCHAR(25),\n",
    "    'ORDERHEADER_SALESORDERHEADER_AccountNumber': NVARCHAR(15),\n",
    "    'ORDERHEADER_SALESORDERHEADER_CustomerID': Integer,\n",
    "    'ORDERHEADER_SALESORDERHEADER_SalesPersonID': Integer,\n",
    "    'ORDERHEADER_SALESORDERHEADER_TerritoryID': Integer,\n",
    "    'ORDERHEADER_SALESORDERHEADER_BillToAddress': Integer,\n",
    "    'ORDERHEADER_SALESORDERHEADER_ShipToAddress': Integer,\n",
    "    'ORDERHEADER_SALESORDERHEADER_ShipMethodID': Integer,\n",
    "    'ORDERHEADER_SALESORDERHEADER_CreditCardID': Integer,\n",
    "    'ORDERHEADER_SALESORDERHEADER_CreditCardApprovalCode': NVARCHAR(15),\n",
    "    'ORDERHEADER_SALESORDERHEADER_CurrencyRateID': Integer,\n",
    "    'ORDERHEADER_SALESORDERHEADER_SubTotal': DECIMAL(11,2),\n",
    "    'ORDERHEADER_SALESORDERHEADER_TaxAmt': DECIMAL(11,2),\n",
    "    'ORDERHEADER_SALESORDERHEADER_Freight': DECIMAL(11,2),\n",
    "    'ORDERHEADER_SALESORDERHEADER_TotalDue': DECIMAL(11,2),\n",
    "    'ORDERHEADER_SALESORDERHEADER_Comment': NVARCHAR(128),\n",
    "    'ORDERHEADER_SALESORDERHEADERSALESREASON_SalesOrderID': Integer,\n",
    "    'ORDERHEADER_SALESREASON_SalesReasonID': Integer,\n",
    "    'ORDERHEADER_SALESREASON_Name': NVARCHAR(100),\n",
    "    'ORDERHEADER_SALESREASON_ReasonType': NVARCHAR(100),\n",
    "}\n",
    "\n",
    "prepare_and_insert(orderheaders, orderheaders_dtypes, 'OrderHeader', united_outdoors_engine, { 'ORDERHEADER_SALESORDERHEADER_CustomerID' : {}, 'ORDERHEADER_SALESORDERDETAIL_SpecialOfferID' : specialoffer_nk_sk_dict, 'ORDERHEADER_SALESORDERHEADER_CreditCardID': creditcards_nk_sk_dict, 'ORDERHEADER_SALESORDERHEADER_CurrencyRateID': {}})"
   ]
  },
  {
   "cell_type": "markdown",
   "id": "27e9a3a368006fbd",
   "metadata": {},
   "source": [
    "### TransactionHistoryArchive"
   ]
  },
  {
   "cell_type": "code",
   "execution_count": null,
   "id": "5157006670fd94ef",
   "metadata": {},
   "outputs": [],
   "source": [
    "transactionhistoryarchives_dtypes = {\n",
    "    'TRANSACTIONHISTORYARCHIVE_TRANSACTIONHISTORYARCHIVE_TransactionID': Integer,\n",
    "    'TRANSACTIONHISTORYARCHIVE_TRANSACTIONHISTORYARCHIVE_ProductID': Integer,\n",
    "    'TRANSACTIONHISTORYARCHIVE_TRANSACTIONHISTORYARCHIVE_ReferenceOrderID': Integer,\n",
    "    'TRANSACTIONHISTORYARCHIVE_TRANSACTIONHISTORYARCHIVE_ReferenceOrderLineID': Integer,\n",
    "    'TRANSACTIONHISTORYARCHIVE_TRANSACTIONHISTORYARCHIVE_TransactionDate': DATE,\n",
    "    'TRANSACTIONHISTORYARCHIVE_TRANSACTIONHISTORYARCHIVE_TransactionType': CHAR(1),\n",
    "    'TRANSACTIONHISTORYARCHIVE_TRANSACTIONHISTORYARCHIVE_Quantity': Integer,\n",
    "    'TRANSACTIONHISTORYARCHIVE_TRANSACTIONHISTORYARCHIVE_ActualCost': MONEY,\n",
    "}   \n",
    "\n",
    "prepare_and_insert(transactionhistoryarchives, transactionhistoryarchives_dtypes, 'TransactionHistoryArchive', united_outdoors_engine, { 'TRANSACTIONHISTORYARCHIVE_TRANSACTIONHISTORYARCHIVE_ProductID' : {}})"
   ]
  },
  {
   "cell_type": "markdown",
   "id": "1fa8497d7bcd41ca",
   "metadata": {},
   "source": [
    "### ProductReview"
   ]
  },
  {
   "cell_type": "code",
   "execution_count": null,
   "id": "9b97313b1b01b387",
   "metadata": {},
   "outputs": [],
   "source": [
    "productreviews_dtypes = {\n",
    "    'PRODUCTREVIEW_PRODUCTREVIEW_ProductReviewID': Integer,\n",
    "    'PRODUCTREVIEW_PRODUCTREVIEW_ProductID': Integer,\n",
    "    'PRODUCTREVIEW_PRODUCTREVIEW_ReviewerName': NVARCHAR(50),\n",
    "    'PRODUCTREVIEW_PRODUCTREVIEW_ReviewDate': DATE,\n",
    "    'PRODUCTREVIEW_PRODUCTREVIEW_EmailAddress': NVARCHAR(50),\n",
    "    'PRODUCTREVIEW_PRODUCTREVIEW_Rating': Integer,\n",
    "    'PRODUCTREVIEW_PRODUCTREVIEW_Comments': NVARCHAR(3850),\n",
    "}\n",
    "\n",
    "prepare_and_insert(productreviews, productreviews_dtypes, 'ProductReview', united_outdoors_engine, { 'PRODUCTREVIEW_PRODUCTREVIEW_ProductID' : {}})"
   ]
  },
  {
   "cell_type": "markdown",
   "id": "ba12452b6c7857bb",
   "metadata": {},
   "source": [
    "### Regions (TODO CHANGE)"
   ]
  },
  {
   "cell_type": "code",
   "execution_count": null,
   "id": "c389390abb037f0d",
   "metadata": {},
   "outputs": [],
   "source": [
    "regions_dtypes = {\n",
    "    'RegionID': Integer,\n",
    "    'RegionName': VARCHAR(10),\n",
    "    'StateProvinceID': Integer,\n",
    "    'StateProvinceCode': VARCHAR(10),\n",
    "    'CountryRegionCode': CHAR(2),\n",
    "    'IsOnlyStateProvinceFlag': BIT,\n",
    "    'Name': VARCHAR(50),\n",
    "    'TerritoryID': Integer,\n",
    "    'ModifiedDate': DATE\n",
    "}\n",
    "\n",
    "regions['StateProvinceCode'] = regions['StateProvinceCode'].astype(str)\n",
    "\n",
    "prepare_and_insert(regions, regions_dtypes, 'Region', united_outdoors_engine)"
   ]
  },
  {
   "cell_type": "code",
   "execution_count": 151,
   "id": "534a141f",
   "metadata": {
    "ExecuteTime": {
     "end_time": "2024-05-20T13:36:58.758168Z",
     "start_time": "2024-05-20T13:36:38.003861Z"
    }
   },
   "outputs": [
    {
     "name": "stdout",
     "output_type": "stream",
     "text": [
      "Inserting data into table: Date with chunk size: 125\n"
     ]
    }
   ],
   "source": [
    "date_dtypes = {\n",
    "    'DATE_ID': Integer,\n",
    "    'DATE_Date': DATE,\n",
    "    'DATE_Weekday': VARCHAR(10),\n",
    "    'DATE_WeekdayNum': Integer,\n",
    "    'DATE_DayMonth': Integer,\n",
    "    'DATE_DayOfYear': Integer,\n",
    "    'DATE_WeekOfYear': Integer,\n",
    "    'DATE_MonthNum': Integer,\n",
    "    'DATE_MonthName': VARCHAR(10),\n",
    "    'DATE_MonthNameShort': CHAR(10),\n",
    "    'DATE_Quarter': Integer,\n",
    "    'DATE_Year': Integer,\n",
    "    'DATE_FirstDayOfMonth': DATE,\n",
    "    'DATE_LastDayOfMonth': DATE,\n",
    "    'DATE_YYYYMM': CHAR(10),\n",
    "    'DATE_WeekendIndr': CHAR(15)\n",
    "}\n",
    "\n",
    "prepare_and_insert(date_table, date_dtypes, 'Date', united_outdoors_engine)"
   ]
  },
  {
   "cell_type": "code",
   "execution_count": 152,
   "id": "3a757e48",
   "metadata": {
    "ExecuteTime": {
     "end_time": "2024-05-20T13:36:59.070760Z",
     "start_time": "2024-05-20T13:36:58.759195Z"
    }
   },
   "outputs": [
    {
     "name": "stdout",
     "output_type": "stream",
     "text": [
      "Inserting data into table: Time with chunk size: 500\n"
     ]
    }
   ],
   "source": [
    "time_dtypes = {\n",
    "    'TIME_ID': Integer,\n",
    "    'TIME_Hour': Integer,\n",
    "    'TIME_Minute': Integer,\n",
    "    'TIME_HourMinute': VARCHAR(10),\n",
    "}\n",
    "\n",
    "prepare_and_insert(time_table, time_dtypes, 'Time', united_outdoors_engine)"
   ]
  },
  {
   "cell_type": "markdown",
   "id": "d5d5a350eb3857a5",
   "metadata": {},
   "source": [
    "## Constraints\n",
    "altering the tables to add the (foreign key) constraints"
   ]
  },
  {
   "cell_type": "code",
   "execution_count": null,
   "id": "4dbf2fec9d092308",
   "metadata": {},
   "outputs": [],
   "source": [
    "# opening the UnitedOutdoors_constraints.sql file\n",
    "with open('sql/UnitedOutdoors_constraints.sql', 'r') as file:\n",
    "    sql_script = file.read()\n",
    "\n",
    "# Execute the script\n",
    "split_and_execute_sql_script(sql_script, united_outdoors_engine)"
   ]
  },
  {
   "cell_type": "markdown",
   "id": "1673fad4818f5f48",
   "metadata": {},
   "source": [
    "## Closing connections"
   ]
  },
  {
   "cell_type": "code",
   "execution_count": null,
   "id": "9c88383a3ffc4e6f",
   "metadata": {},
   "outputs": [],
   "source": [
    "try:\n",
    "    united_outdoors_engine.dispose()\n",
    "    northwind_engine.dispose()\n",
    "    aenc_engine.dispose()\n",
    "    adventureworks_engine.dispose()\n",
    "except OperationalError as e:\n",
    "        print(f'Error: {e}')"
   ]
  },
  {
   "cell_type": "markdown",
   "id": "a4550fa962ffb55c",
   "metadata": {},
   "source": [
    "# Time elapsed"
   ]
  },
  {
   "cell_type": "code",
   "execution_count": null,
   "id": "71eb76d2d8aa01be",
   "metadata": {},
   "outputs": [],
   "source": [
    "end_time = time.time()\n",
    "\n",
    "print(f'Time elapsed: {end_time - start_time} seconds')"
   ]
  }
 ],
 "metadata": {
  "kernelspec": {
   "display_name": "Python 3",
   "language": "python",
   "name": "python3"
  },
  "language_info": {
   "codemirror_mode": {
    "name": "ipython",
    "version": 3
   },
   "file_extension": ".py",
   "mimetype": "text/x-python",
   "name": "python",
   "nbconvert_exporter": "python",
   "pygments_lexer": "ipython3",
   "version": "3.12.2"
  }
 },
 "nbformat": 4,
 "nbformat_minor": 5
}
