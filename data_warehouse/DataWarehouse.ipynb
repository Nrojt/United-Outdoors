{
 "cells": [
  {
   "metadata": {},
   "cell_type": "markdown",
   "source": "# United outdoors datawarehouse",
   "id": "17e2c480eb50cac0"
  },
  {
   "metadata": {},
   "cell_type": "markdown",
   "source": "## Imports",
   "id": "219c4ad180aa0438"
  },
  {
   "metadata": {
    "ExecuteTime": {
     "end_time": "2024-05-06T09:05:03.778358Z",
     "start_time": "2024-05-06T09:05:03.775969Z"
    }
   },
   "cell_type": "code",
   "source": [
    "import pandas as pd\n",
    "from sqlalchemy import create_engine\n",
    "from sqlalchemy.exc import OperationalError\n",
    "import urllib\n",
    "import re"
   ],
   "id": "1cf4cf0b86e3ced5",
   "outputs": [],
   "execution_count": 19
  },
  {
   "metadata": {},
   "cell_type": "markdown",
   "source": "## Database connection details",
   "id": "e5dedb1f60eb921f"
  },
  {
   "metadata": {
    "ExecuteTime": {
     "end_time": "2024-05-06T09:05:03.782969Z",
     "start_time": "2024-05-06T09:05:03.779366Z"
    }
   },
   "cell_type": "code",
   "source": [
    "DB = {\n",
    "    'servername' : '(local)\\\\SQLEXPRESS',\n",
    "    'united_outdoors_database' : 'UnitedOutdoors',\n",
    "    'northwind_database' : 'Northwind',\n",
    "    'aenc_database' : 'Aenc',\n",
    "    'adventureworks_database' : 'AdventureWorks2019',\n",
    "    'master' : 'master'\n",
    "}"
   ],
   "id": "7fc7de2a6201878c",
   "outputs": [],
   "execution_count": 20
  },
  {
   "metadata": {},
   "cell_type": "markdown",
   "source": "## Create the datawarehouse",
   "id": "d20434978a02675e"
  },
  {
   "metadata": {
    "ExecuteTime": {
     "end_time": "2024-05-06T09:05:03.802524Z",
     "start_time": "2024-05-06T09:05:03.783474Z"
    }
   },
   "cell_type": "code",
   "source": [
    "creation_params = urllib.parse.quote_plus(f'DRIVER={{SQL Server}};SERVER={DB[\"servername\"]};DATABASE={DB[\"master\"]};Trusted_Connection=yes')\n",
    "\n",
    "creation_engine = create_engine(f'mssql+pyodbc:///?odbc_connect={creation_params}')\n",
    "\n",
    "# Open the SQL script file and read its contents\n",
    "with open('sql/UnitedOutdoors_creation.sql', 'r') as file:\n",
    "    sql_script = file.read()\n",
    "\n",
    "# splitting the script into the database creation and the rest\n",
    "commands = re.split(r'GO\\n', sql_script)\n",
    "\n",
    "# removing all \\bGO\\b from the commands\n",
    "commands = [re.sub(r'\\bGO\\b', '', command) for command in commands]\n",
    "\n",
    "# Execute the commands\n",
    "for command in commands:\n",
    "    command = command.strip()\n",
    "    # Skip if the command is empty or 'GO'\n",
    "    if not command or command.upper() == 'GO':\n",
    "        continue\n",
    "    try:\n",
    "        conn = creation_engine.connect()\n",
    "        cursor = conn.connection.cursor()\n",
    "        cursor.execute(command)\n",
    "        conn.connection.commit()\n",
    "    except OperationalError as e:\n",
    "        print(f'Error: {e} at command: {command}')\n",
    "    finally:\n",
    "        cursor.close()\n",
    "        conn.close()\n",
    "        creation_engine.dispose()"
   ],
   "id": "f4a738224bd6cb1",
   "outputs": [],
   "execution_count": 21
  },
  {
   "metadata": {},
   "cell_type": "markdown",
   "source": "## Connecting to the UnitedOutdoors datawarehouse",
   "id": "53f0ccd3e21fa4b5"
  },
  {
   "metadata": {
    "ExecuteTime": {
     "end_time": "2024-05-06T09:05:03.815609Z",
     "start_time": "2024-05-06T09:05:03.803530Z"
    }
   },
   "cell_type": "code",
   "source": [
    "params = urllib.parse.quote_plus(f'DRIVER={{SQL Server}};SERVER={DB[\"servername\"]};DATABASE={DB[\"united_outdoors_database\"]};Trusted_Connection=yes')\n",
    "\n",
    "united_outdoors_engine = create_engine(f'mssql+pyodbc:///?odbc_connect={params}')\n",
    "\n",
    "try:\n",
    "    united_outdoors_conn = united_outdoors_engine.connect()\n",
    "    print('Connection to United Outdoors database successful')\n",
    "except OperationalError as e:\n",
    "    print(f'Error: {e}')"
   ],
   "id": "68689a803df4672f",
   "outputs": [
    {
     "name": "stdout",
     "output_type": "stream",
     "text": [
      "Connection to United Outdoors database successful\n"
     ]
    }
   ],
   "execution_count": 22
  },
  {
   "metadata": {},
   "cell_type": "markdown",
   "source": "## Loading the data from the source databases",
   "id": "75e2c357aec06e16"
  },
  {
   "metadata": {},
   "cell_type": "markdown",
   "source": "### Northwind database",
   "id": "e233e17a8927b6b1"
  },
  {
   "metadata": {
    "ExecuteTime": {
     "end_time": "2024-05-06T09:05:03.903061Z",
     "start_time": "2024-05-06T09:05:03.816116Z"
    }
   },
   "cell_type": "code",
   "source": [
    "params = urllib.parse.quote_plus(f'DRIVER={{SQL Server}};SERVER={DB[\"servername\"]};DATABASE={DB[\"northwind_database\"]};Trusted_Connection=yes')\n",
    "\n",
    "northwind_engine = create_engine(f'mssql+pyodbc:///?odbc_connect={params}')\n",
    "\n",
    "try:\n",
    "    northwind_conn = northwind_engine.connect()\n",
    "    print('Connection to NorthWind database successful')\n",
    "except OperationalError as e:\n",
    "    print(f'Error: {e}')"
   ],
   "id": "f49b57c4eb4a0356",
   "outputs": [
    {
     "name": "stdout",
     "output_type": "stream",
     "text": [
      "Connection to NorthWind database successful\n"
     ]
    }
   ],
   "execution_count": 23
  },
  {
   "metadata": {},
   "cell_type": "markdown",
   "source": "### Aenc database",
   "id": "e8354ea289e5b52f"
  },
  {
   "metadata": {
    "ExecuteTime": {
     "end_time": "2024-05-06T09:05:03.980629Z",
     "start_time": "2024-05-06T09:05:03.903567Z"
    }
   },
   "cell_type": "code",
   "source": [
    "params = urllib.parse.quote_plus(f'DRIVER={{SQL Server}};SERVER={DB[\"servername\"]};DATABASE={DB[\"aenc_database\"]};Trusted_Connection=yes')\n",
    "\n",
    "aenc_engine = create_engine(f'mssql+pyodbc:///?odbc_connect={params}')\n",
    "\n",
    "try:\n",
    "    aenc_engine = aenc_engine.connect()\n",
    "    print('Connection to Aenc database successful')\n",
    "except OperationalError as e:\n",
    "    print(f'Error: {e}')"
   ],
   "id": "8068f691bb272a12",
   "outputs": [
    {
     "name": "stdout",
     "output_type": "stream",
     "text": [
      "Connection to Aenc database successful\n"
     ]
    }
   ],
   "execution_count": 24
  },
  {
   "metadata": {},
   "cell_type": "markdown",
   "source": "### AdventureWorks database",
   "id": "333dd57a2b50b509"
  },
  {
   "metadata": {
    "ExecuteTime": {
     "end_time": "2024-05-06T09:05:04.027745Z",
     "start_time": "2024-05-06T09:05:03.981136Z"
    }
   },
   "cell_type": "code",
   "source": [
    "params = urllib.parse.quote_plus(f'DRIVER={{SQL Server}};SERVER={DB[\"servername\"]};DATABASE={DB[\"adventureworks_database\"]};Trusted_Connection=yes')\n",
    "\n",
    "adventureworks_engine = create_engine(f'mssql+pyodbc:///?odbc_connect={params}')\n",
    "\n",
    "try:\n",
    "    adventureworks_conn = adventureworks_engine.connect()\n",
    "    print('Connection to AdventureWorks database successful')\n",
    "except OperationalError as e:\n",
    "    print(f'Error: {e}')"
   ],
   "id": "8a7816d659b8042e",
   "outputs": [
    {
     "name": "stdout",
     "output_type": "stream",
     "text": [
      "Connection to AdventureWorks database successful\n"
     ]
    }
   ],
   "execution_count": 25
  },
  {
   "metadata": {},
   "cell_type": "markdown",
   "source": "# Closing connections",
   "id": "1673fad4818f5f48"
  },
  {
   "metadata": {
    "ExecuteTime": {
     "end_time": "2024-05-06T09:05:04.030829Z",
     "start_time": "2024-05-06T09:05:04.028251Z"
    }
   },
   "cell_type": "code",
   "source": [
    "united_outdoors_conn.close()\n",
    "northwind_conn.close()\n",
    "aenc_engine.close()\n",
    "adventureworks_conn.close()"
   ],
   "id": "9c88383a3ffc4e6f",
   "outputs": [],
   "execution_count": 26
  }
 ],
 "metadata": {
  "kernelspec": {
   "display_name": "Python 3",
   "language": "python",
   "name": "python3"
  },
  "language_info": {
   "codemirror_mode": {
    "name": "ipython",
    "version": 2
   },
   "file_extension": ".py",
   "mimetype": "text/x-python",
   "name": "python",
   "nbconvert_exporter": "python",
   "pygments_lexer": "ipython2",
   "version": "2.7.6"
  }
 },
 "nbformat": 4,
 "nbformat_minor": 5
}
